{
  "cells": [
    {
      "cell_type": "markdown",
      "id": "77375f31-818f-4372-9ca0-2685f3285e69",
      "metadata": {
        "id": "77375f31-818f-4372-9ca0-2685f3285e69"
      },
      "source": [
        "## Установка пакетов"
      ]
    },
    {
      "cell_type": "code",
      "execution_count": 6,
      "id": "j3h2_sTDUypb",
      "metadata": {
        "id": "j3h2_sTDUypb",
        "colab": {
          "base_uri": "https://localhost:8080/",
          "height": 314
        },
        "outputId": "daf1a90c-c4ec-432f-c7c1-62342c735745"
      },
      "outputs": [
        {
          "output_type": "error",
          "ename": "KeyboardInterrupt",
          "evalue": "",
          "traceback": [
            "\u001b[0;31m---------------------------------------------------------------------------\u001b[0m",
            "\u001b[0;31mKeyboardInterrupt\u001b[0m                         Traceback (most recent call last)",
            "\u001b[0;32m<ipython-input-6-d5df0069828e>\u001b[0m in \u001b[0;36m<cell line: 2>\u001b[0;34m()\u001b[0m\n\u001b[1;32m      1\u001b[0m \u001b[0;32mfrom\u001b[0m \u001b[0mgoogle\u001b[0m\u001b[0;34m.\u001b[0m\u001b[0mcolab\u001b[0m \u001b[0;32mimport\u001b[0m \u001b[0mdrive\u001b[0m\u001b[0;34m\u001b[0m\u001b[0;34m\u001b[0m\u001b[0m\n\u001b[0;32m----> 2\u001b[0;31m \u001b[0mdrive\u001b[0m\u001b[0;34m.\u001b[0m\u001b[0mmount\u001b[0m\u001b[0;34m(\u001b[0m\u001b[0;34m'/content/drive'\u001b[0m\u001b[0;34m)\u001b[0m\u001b[0;34m\u001b[0m\u001b[0;34m\u001b[0m\u001b[0m\n\u001b[0m",
            "\u001b[0;32m/usr/local/lib/python3.10/dist-packages/google/colab/drive.py\u001b[0m in \u001b[0;36mmount\u001b[0;34m(mountpoint, force_remount, timeout_ms, readonly)\u001b[0m\n\u001b[1;32m     98\u001b[0m \u001b[0;32mdef\u001b[0m \u001b[0mmount\u001b[0m\u001b[0;34m(\u001b[0m\u001b[0mmountpoint\u001b[0m\u001b[0;34m,\u001b[0m \u001b[0mforce_remount\u001b[0m\u001b[0;34m=\u001b[0m\u001b[0;32mFalse\u001b[0m\u001b[0;34m,\u001b[0m \u001b[0mtimeout_ms\u001b[0m\u001b[0;34m=\u001b[0m\u001b[0;36m120000\u001b[0m\u001b[0;34m,\u001b[0m \u001b[0mreadonly\u001b[0m\u001b[0;34m=\u001b[0m\u001b[0;32mFalse\u001b[0m\u001b[0;34m)\u001b[0m\u001b[0;34m:\u001b[0m\u001b[0;34m\u001b[0m\u001b[0;34m\u001b[0m\u001b[0m\n\u001b[1;32m     99\u001b[0m   \u001b[0;34m\"\"\"Mount your Google Drive at the specified mountpoint path.\"\"\"\u001b[0m\u001b[0;34m\u001b[0m\u001b[0;34m\u001b[0m\u001b[0m\n\u001b[0;32m--> 100\u001b[0;31m   return _mount(\n\u001b[0m\u001b[1;32m    101\u001b[0m       \u001b[0mmountpoint\u001b[0m\u001b[0;34m,\u001b[0m\u001b[0;34m\u001b[0m\u001b[0;34m\u001b[0m\u001b[0m\n\u001b[1;32m    102\u001b[0m       \u001b[0mforce_remount\u001b[0m\u001b[0;34m=\u001b[0m\u001b[0mforce_remount\u001b[0m\u001b[0;34m,\u001b[0m\u001b[0;34m\u001b[0m\u001b[0;34m\u001b[0m\u001b[0m\n",
            "\u001b[0;32m/usr/local/lib/python3.10/dist-packages/google/colab/drive.py\u001b[0m in \u001b[0;36m_mount\u001b[0;34m(mountpoint, force_remount, timeout_ms, ephemeral, readonly)\u001b[0m\n\u001b[1;32m    135\u001b[0m   )\n\u001b[1;32m    136\u001b[0m   \u001b[0;32mif\u001b[0m \u001b[0mephemeral\u001b[0m\u001b[0;34m:\u001b[0m\u001b[0;34m\u001b[0m\u001b[0;34m\u001b[0m\u001b[0m\n\u001b[0;32m--> 137\u001b[0;31m     _message.blocking_request(\n\u001b[0m\u001b[1;32m    138\u001b[0m         \u001b[0;34m'request_auth'\u001b[0m\u001b[0;34m,\u001b[0m\u001b[0;34m\u001b[0m\u001b[0;34m\u001b[0m\u001b[0m\n\u001b[1;32m    139\u001b[0m         \u001b[0mrequest\u001b[0m\u001b[0;34m=\u001b[0m\u001b[0;34m{\u001b[0m\u001b[0;34m'authType'\u001b[0m\u001b[0;34m:\u001b[0m \u001b[0;34m'dfs_ephemeral'\u001b[0m\u001b[0;34m}\u001b[0m\u001b[0;34m,\u001b[0m\u001b[0;34m\u001b[0m\u001b[0;34m\u001b[0m\u001b[0m\n",
            "\u001b[0;32m/usr/local/lib/python3.10/dist-packages/google/colab/_message.py\u001b[0m in \u001b[0;36mblocking_request\u001b[0;34m(request_type, request, timeout_sec, parent)\u001b[0m\n\u001b[1;32m    174\u001b[0m       \u001b[0mrequest_type\u001b[0m\u001b[0;34m,\u001b[0m \u001b[0mrequest\u001b[0m\u001b[0;34m,\u001b[0m \u001b[0mparent\u001b[0m\u001b[0;34m=\u001b[0m\u001b[0mparent\u001b[0m\u001b[0;34m,\u001b[0m \u001b[0mexpect_reply\u001b[0m\u001b[0;34m=\u001b[0m\u001b[0;32mTrue\u001b[0m\u001b[0;34m\u001b[0m\u001b[0;34m\u001b[0m\u001b[0m\n\u001b[1;32m    175\u001b[0m   )\n\u001b[0;32m--> 176\u001b[0;31m   \u001b[0;32mreturn\u001b[0m \u001b[0mread_reply_from_input\u001b[0m\u001b[0;34m(\u001b[0m\u001b[0mrequest_id\u001b[0m\u001b[0;34m,\u001b[0m \u001b[0mtimeout_sec\u001b[0m\u001b[0;34m)\u001b[0m\u001b[0;34m\u001b[0m\u001b[0;34m\u001b[0m\u001b[0m\n\u001b[0m",
            "\u001b[0;32m/usr/local/lib/python3.10/dist-packages/google/colab/_message.py\u001b[0m in \u001b[0;36mread_reply_from_input\u001b[0;34m(message_id, timeout_sec)\u001b[0m\n\u001b[1;32m     94\u001b[0m     \u001b[0mreply\u001b[0m \u001b[0;34m=\u001b[0m \u001b[0m_read_next_input_message\u001b[0m\u001b[0;34m(\u001b[0m\u001b[0;34m)\u001b[0m\u001b[0;34m\u001b[0m\u001b[0;34m\u001b[0m\u001b[0m\n\u001b[1;32m     95\u001b[0m     \u001b[0;32mif\u001b[0m \u001b[0mreply\u001b[0m \u001b[0;34m==\u001b[0m \u001b[0m_NOT_READY\u001b[0m \u001b[0;32mor\u001b[0m \u001b[0;32mnot\u001b[0m \u001b[0misinstance\u001b[0m\u001b[0;34m(\u001b[0m\u001b[0mreply\u001b[0m\u001b[0;34m,\u001b[0m \u001b[0mdict\u001b[0m\u001b[0;34m)\u001b[0m\u001b[0;34m:\u001b[0m\u001b[0;34m\u001b[0m\u001b[0;34m\u001b[0m\u001b[0m\n\u001b[0;32m---> 96\u001b[0;31m       \u001b[0mtime\u001b[0m\u001b[0;34m.\u001b[0m\u001b[0msleep\u001b[0m\u001b[0;34m(\u001b[0m\u001b[0;36m0.025\u001b[0m\u001b[0;34m)\u001b[0m\u001b[0;34m\u001b[0m\u001b[0;34m\u001b[0m\u001b[0m\n\u001b[0m\u001b[1;32m     97\u001b[0m       \u001b[0;32mcontinue\u001b[0m\u001b[0;34m\u001b[0m\u001b[0;34m\u001b[0m\u001b[0m\n\u001b[1;32m     98\u001b[0m     if (\n",
            "\u001b[0;31mKeyboardInterrupt\u001b[0m: "
          ]
        }
      ],
      "source": [
        "from google.colab import drive\n",
        "drive.mount('/content/drive')"
      ]
    },
    {
      "cell_type": "code",
      "source": [
        "!pip install torcheval transformers==4.31.0"
      ],
      "metadata": {
        "colab": {
          "base_uri": "https://localhost:8080/"
        },
        "id": "QTMVn-1W35-g",
        "outputId": "8f6020a4-59ab-41d6-b5f6-e476c1b29101"
      },
      "id": "QTMVn-1W35-g",
      "execution_count": 7,
      "outputs": [
        {
          "output_type": "stream",
          "name": "stdout",
          "text": [
            "Collecting torcheval\n",
            "  Downloading torcheval-0.0.7-py3-none-any.whl.metadata (8.6 kB)\n",
            "Collecting transformers==4.31.0\n",
            "  Downloading transformers-4.31.0-py3-none-any.whl.metadata (116 kB)\n",
            "\u001b[?25l     \u001b[90m━━━━━━━━━━━━━━━━━━━━━━━━━━━━━━━━━━━━━━━━\u001b[0m \u001b[32m0.0/116.9 kB\u001b[0m \u001b[31m?\u001b[0m eta \u001b[36m-:--:--\u001b[0m\r\u001b[2K     \u001b[90m━━━━━━━━━━━━━━━━━━━━━━━━━━━━━━━━━━━━━━━━\u001b[0m \u001b[32m116.9/116.9 kB\u001b[0m \u001b[31m9.0 MB/s\u001b[0m eta \u001b[36m0:00:00\u001b[0m\n",
            "\u001b[?25hRequirement already satisfied: filelock in /usr/local/lib/python3.10/dist-packages (from transformers==4.31.0) (3.16.1)\n",
            "Requirement already satisfied: huggingface-hub<1.0,>=0.14.1 in /usr/local/lib/python3.10/dist-packages (from transformers==4.31.0) (0.27.0)\n",
            "Requirement already satisfied: numpy>=1.17 in /usr/local/lib/python3.10/dist-packages (from transformers==4.31.0) (1.26.4)\n",
            "Requirement already satisfied: packaging>=20.0 in /usr/local/lib/python3.10/dist-packages (from transformers==4.31.0) (24.2)\n",
            "Requirement already satisfied: pyyaml>=5.1 in /usr/local/lib/python3.10/dist-packages (from transformers==4.31.0) (6.0.2)\n",
            "Requirement already satisfied: regex!=2019.12.17 in /usr/local/lib/python3.10/dist-packages (from transformers==4.31.0) (2024.11.6)\n",
            "Requirement already satisfied: requests in /usr/local/lib/python3.10/dist-packages (from transformers==4.31.0) (2.32.3)\n",
            "Collecting tokenizers!=0.11.3,<0.14,>=0.11.1 (from transformers==4.31.0)\n",
            "  Downloading tokenizers-0.13.3-cp310-cp310-manylinux_2_17_x86_64.manylinux2014_x86_64.whl.metadata (6.7 kB)\n",
            "Requirement already satisfied: safetensors>=0.3.1 in /usr/local/lib/python3.10/dist-packages (from transformers==4.31.0) (0.4.5)\n",
            "Requirement already satisfied: tqdm>=4.27 in /usr/local/lib/python3.10/dist-packages (from transformers==4.31.0) (4.67.1)\n",
            "Requirement already satisfied: typing-extensions in /usr/local/lib/python3.10/dist-packages (from torcheval) (4.12.2)\n",
            "Requirement already satisfied: fsspec>=2023.5.0 in /usr/local/lib/python3.10/dist-packages (from huggingface-hub<1.0,>=0.14.1->transformers==4.31.0) (2024.10.0)\n",
            "Requirement already satisfied: charset-normalizer<4,>=2 in /usr/local/lib/python3.10/dist-packages (from requests->transformers==4.31.0) (3.4.0)\n",
            "Requirement already satisfied: idna<4,>=2.5 in /usr/local/lib/python3.10/dist-packages (from requests->transformers==4.31.0) (3.10)\n",
            "Requirement already satisfied: urllib3<3,>=1.21.1 in /usr/local/lib/python3.10/dist-packages (from requests->transformers==4.31.0) (2.2.3)\n",
            "Requirement already satisfied: certifi>=2017.4.17 in /usr/local/lib/python3.10/dist-packages (from requests->transformers==4.31.0) (2024.12.14)\n",
            "Downloading transformers-4.31.0-py3-none-any.whl (7.4 MB)\n",
            "\u001b[2K   \u001b[90m━━━━━━━━━━━━━━━━━━━━━━━━━━━━━━━━━━━━━━━━\u001b[0m \u001b[32m7.4/7.4 MB\u001b[0m \u001b[31m80.1 MB/s\u001b[0m eta \u001b[36m0:00:00\u001b[0m\n",
            "\u001b[?25hDownloading torcheval-0.0.7-py3-none-any.whl (179 kB)\n",
            "\u001b[2K   \u001b[90m━━━━━━━━━━━━━━━━━━━━━━━━━━━━━━━━━━━━━━━━\u001b[0m \u001b[32m179.2/179.2 kB\u001b[0m \u001b[31m17.2 MB/s\u001b[0m eta \u001b[36m0:00:00\u001b[0m\n",
            "\u001b[?25hDownloading tokenizers-0.13.3-cp310-cp310-manylinux_2_17_x86_64.manylinux2014_x86_64.whl (7.8 MB)\n",
            "\u001b[2K   \u001b[90m━━━━━━━━━━━━━━━━━━━━━━━━━━━━━━━━━━━━━━━━\u001b[0m \u001b[32m7.8/7.8 MB\u001b[0m \u001b[31m103.8 MB/s\u001b[0m eta \u001b[36m0:00:00\u001b[0m\n",
            "\u001b[?25hInstalling collected packages: tokenizers, torcheval, transformers\n",
            "  Attempting uninstall: tokenizers\n",
            "    Found existing installation: tokenizers 0.21.0\n",
            "    Uninstalling tokenizers-0.21.0:\n",
            "      Successfully uninstalled tokenizers-0.21.0\n",
            "  Attempting uninstall: transformers\n",
            "    Found existing installation: transformers 4.47.1\n",
            "    Uninstalling transformers-4.47.1:\n",
            "      Successfully uninstalled transformers-4.47.1\n",
            "\u001b[31mERROR: pip's dependency resolver does not currently take into account all the packages that are installed. This behaviour is the source of the following dependency conflicts.\n",
            "sentence-transformers 3.3.1 requires transformers<5.0.0,>=4.41.0, but you have transformers 4.31.0 which is incompatible.\u001b[0m\u001b[31m\n",
            "\u001b[0mSuccessfully installed tokenizers-0.13.3 torcheval-0.0.7 transformers-4.31.0\n"
          ]
        }
      ]
    },
    {
      "cell_type": "code",
      "execution_count": 8,
      "id": "0ceca658-0116-4385-b5d0-b9cb5eed903c",
      "metadata": {
        "id": "0ceca658-0116-4385-b5d0-b9cb5eed903c",
        "colab": {
          "base_uri": "https://localhost:8080/"
        },
        "outputId": "00ebcc36-b5b6-458d-9062-a85a0a3903b1"
      },
      "outputs": [
        {
          "output_type": "execute_result",
          "data": {
            "text/plain": [
              "<torch._C.Generator at 0x7e44503fe2f0>"
            ]
          },
          "metadata": {},
          "execution_count": 8
        }
      ],
      "source": [
        "import json\n",
        "\n",
        "import tensorflow as tf\n",
        "import numpy as np\n",
        "import pandas as pd\n",
        "import matplotlib.pyplot as plt\n",
        "import seaborn as sns\n",
        "\n",
        "%matplotlib inline\n",
        "%config InlineBackend.figure_formats = ['svg']\n",
        "\n",
        "from tqdm import tqdm\n",
        "import tensorflow_datasets as tfds\n",
        "\n",
        "import zipfile\n",
        "\n",
        "from sklearn.model_selection import train_test_split\n",
        "import torch\n",
        "\n",
        "SEED = 42\n",
        "np.random.seed(SEED)\n",
        "tf.random.set_seed(SEED)\n",
        "torch.manual_seed(SEED)"
      ]
    },
    {
      "cell_type": "code",
      "execution_count": 9,
      "id": "NrmmONEeezZA",
      "metadata": {
        "colab": {
          "base_uri": "https://localhost:8080/"
        },
        "id": "NrmmONEeezZA",
        "outputId": "736f9a6c-62be-4c93-a459-aca7c5192ba9"
      },
      "outputs": [
        {
          "output_type": "stream",
          "name": "stdout",
          "text": [
            "Found GPU at: /device:GPU:0\n"
          ]
        }
      ],
      "source": [
        "device_name = tf.test.gpu_device_name()\n",
        "\n",
        "if device_name != '/device:GPU:0':\n",
        "  print('GPU not found, your device: {}'.format(device_name))\n",
        "print('Found GPU at: {}'.format(device_name))"
      ]
    },
    {
      "cell_type": "markdown",
      "id": "369faf8c-54cc-42e6-8aaa-613a93280416",
      "metadata": {
        "id": "369faf8c-54cc-42e6-8aaa-613a93280416"
      },
      "source": [
        "## Анализ датасета"
      ]
    },
    {
      "cell_type": "code",
      "execution_count": 7,
      "id": "5c27efc7-4a98-406f-9438-3850eb95b3cf",
      "metadata": {
        "id": "5c27efc7-4a98-406f-9438-3850eb95b3cf"
      },
      "outputs": [],
      "source": [
        "FILE_IDS = {\n",
        "    \"Subtask A\": \"1CAbb3DjrOPBNm0ozVBfhvrEh9P9rAppc\",\n",
        "    \"Subtask B\": \"11YeloR2eTXcTzdwI04Z-M2QVvIeQAU6-\",\n",
        "    \"Subtask C\": \"16bRUuoeb_LxnCkcKM-ed6X6K5t_1C6mL\"\n",
        "}"
      ]
    },
    {
      "cell_type": "code",
      "execution_count": 10,
      "id": "17615e1e-44bd-4f04-bcfd-85e466dea553",
      "metadata": {
        "id": "17615e1e-44bd-4f04-bcfd-85e466dea553"
      },
      "outputs": [],
      "source": [
        "train_path = \"SubtaskA/subtaskA_train_monolingual.jsonl\"\n",
        "test_path = \"SubtaskA/subtaskA_dev_monolingual.jsonl\""
      ]
    },
    {
      "cell_type": "code",
      "execution_count": 11,
      "id": "42679ff3-b525-4b95-b557-f8068ed72d93",
      "metadata": {
        "id": "42679ff3-b525-4b95-b557-f8068ed72d93",
        "colab": {
          "base_uri": "https://localhost:8080/"
        },
        "outputId": "1c8318a5-e779-4829-d5af-54a7fe1dbc03"
      },
      "outputs": [
        {
          "output_type": "stream",
          "name": "stdout",
          "text": [
            "Retrieving folder contents\n",
            "Processing file 1e_G-9a66AryHxBOwGWhriePYCCa4_29e subtaskA_dev_monolingual.jsonl\n",
            "Processing file 123UQ92LxtHaVTbNYlmjnG1CWwD-x7wDL subtaskA_dev_multilingual.jsonl\n",
            "Processing file 1HeCgnLuDoUHhP-2OsTSSC3FXRLVoI6OG subtaskA_train_monolingual.jsonl\n",
            "Processing file 13-9-DakCeLFbPgCiVIU0v6_BCQx0ppz6 subtaskA_train_multilingual.jsonl\n",
            "Retrieving folder contents completed\n",
            "Building directory structure\n",
            "Building directory structure completed\n",
            "Downloading...\n",
            "From: https://drive.google.com/uc?id=1e_G-9a66AryHxBOwGWhriePYCCa4_29e\n",
            "To: /content/SubtaskA/subtaskA_dev_monolingual.jsonl\n",
            "100% 10.8M/10.8M [00:00<00:00, 155MB/s]\n",
            "Downloading...\n",
            "From: https://drive.google.com/uc?id=123UQ92LxtHaVTbNYlmjnG1CWwD-x7wDL\n",
            "To: /content/SubtaskA/subtaskA_dev_multilingual.jsonl\n",
            "100% 21.2M/21.2M [00:00<00:00, 55.6MB/s]\n",
            "Downloading...\n",
            "From (original): https://drive.google.com/uc?id=1HeCgnLuDoUHhP-2OsTSSC3FXRLVoI6OG\n",
            "From (redirected): https://drive.google.com/uc?id=1HeCgnLuDoUHhP-2OsTSSC3FXRLVoI6OG&confirm=t&uuid=f22b46f2-e020-419e-a0c4-eab6d541da50\n",
            "To: /content/SubtaskA/subtaskA_train_monolingual.jsonl\n",
            "100% 347M/347M [00:06<00:00, 55.1MB/s]\n",
            "Downloading...\n",
            "From (original): https://drive.google.com/uc?id=13-9-DakCeLFbPgCiVIU0v6_BCQx0ppz6\n",
            "From (redirected): https://drive.google.com/uc?id=13-9-DakCeLFbPgCiVIU0v6_BCQx0ppz6&confirm=t&uuid=410fb9b9-9cc6-4382-a249-7a545e69118a\n",
            "To: /content/SubtaskA/subtaskA_train_multilingual.jsonl\n",
            "100% 587M/587M [00:09<00:00, 61.1MB/s]\n",
            "Download completed\n"
          ]
        }
      ],
      "source": [
        "!gdown --folder https://drive.google.com/drive/folders/1CAbb3DjrOPBNm0ozVBfhvrEh9P9rAppc"
      ]
    },
    {
      "cell_type": "code",
      "execution_count": 12,
      "id": "f2c073d8-764c-4a9a-8d27-9602b1a4148d",
      "metadata": {
        "colab": {
          "base_uri": "https://localhost:8080/",
          "height": 423
        },
        "id": "f2c073d8-764c-4a9a-8d27-9602b1a4148d",
        "outputId": "92839d27-f562-4a97-af29-6f2943beaf31"
      },
      "outputs": [
        {
          "output_type": "execute_result",
          "data": {
            "text/plain": [
              "                                                     text  label    model  \\\n",
              "0       Forza Motorsport is a popular racing game that...      1  chatGPT   \n",
              "1       Buying Virtual Console games for your Nintendo...      1  chatGPT   \n",
              "2       Windows NT 4.0 was a popular operating system ...      1  chatGPT   \n",
              "3       How to Make Perfume\\n\\nPerfume is a great way ...      1  chatGPT   \n",
              "4       How to Convert Song Lyrics to a Song'\\n\\nConve...      1  chatGPT   \n",
              "...                                                   ...    ...      ...   \n",
              "119752  The paper is an interesting contribution, prim...      0    human   \n",
              "119753  \\nWe thank the reviewers for all their comment...      0    human   \n",
              "119754  The authors introduce a semi-supervised method...      0    human   \n",
              "119755  This paper proposes the Neural Graph Machine t...      0    human   \n",
              "119756  The paper proposes a model that aims at learni...      0    human   \n",
              "\n",
              "          source      id  \n",
              "0        wikihow       0  \n",
              "1        wikihow       1  \n",
              "2        wikihow       2  \n",
              "3        wikihow       3  \n",
              "4        wikihow       4  \n",
              "...          ...     ...  \n",
              "119752  peerread  119752  \n",
              "119753  peerread  119753  \n",
              "119754  peerread  119754  \n",
              "119755  peerread  119755  \n",
              "119756  peerread  119756  \n",
              "\n",
              "[119757 rows x 5 columns]"
            ],
            "text/html": [
              "\n",
              "  <div id=\"df-d4d2e150-c2f5-4e73-b4d9-9dca55bc0bd3\" class=\"colab-df-container\">\n",
              "    <div>\n",
              "<style scoped>\n",
              "    .dataframe tbody tr th:only-of-type {\n",
              "        vertical-align: middle;\n",
              "    }\n",
              "\n",
              "    .dataframe tbody tr th {\n",
              "        vertical-align: top;\n",
              "    }\n",
              "\n",
              "    .dataframe thead th {\n",
              "        text-align: right;\n",
              "    }\n",
              "</style>\n",
              "<table border=\"1\" class=\"dataframe\">\n",
              "  <thead>\n",
              "    <tr style=\"text-align: right;\">\n",
              "      <th></th>\n",
              "      <th>text</th>\n",
              "      <th>label</th>\n",
              "      <th>model</th>\n",
              "      <th>source</th>\n",
              "      <th>id</th>\n",
              "    </tr>\n",
              "  </thead>\n",
              "  <tbody>\n",
              "    <tr>\n",
              "      <th>0</th>\n",
              "      <td>Forza Motorsport is a popular racing game that...</td>\n",
              "      <td>1</td>\n",
              "      <td>chatGPT</td>\n",
              "      <td>wikihow</td>\n",
              "      <td>0</td>\n",
              "    </tr>\n",
              "    <tr>\n",
              "      <th>1</th>\n",
              "      <td>Buying Virtual Console games for your Nintendo...</td>\n",
              "      <td>1</td>\n",
              "      <td>chatGPT</td>\n",
              "      <td>wikihow</td>\n",
              "      <td>1</td>\n",
              "    </tr>\n",
              "    <tr>\n",
              "      <th>2</th>\n",
              "      <td>Windows NT 4.0 was a popular operating system ...</td>\n",
              "      <td>1</td>\n",
              "      <td>chatGPT</td>\n",
              "      <td>wikihow</td>\n",
              "      <td>2</td>\n",
              "    </tr>\n",
              "    <tr>\n",
              "      <th>3</th>\n",
              "      <td>How to Make Perfume\\n\\nPerfume is a great way ...</td>\n",
              "      <td>1</td>\n",
              "      <td>chatGPT</td>\n",
              "      <td>wikihow</td>\n",
              "      <td>3</td>\n",
              "    </tr>\n",
              "    <tr>\n",
              "      <th>4</th>\n",
              "      <td>How to Convert Song Lyrics to a Song'\\n\\nConve...</td>\n",
              "      <td>1</td>\n",
              "      <td>chatGPT</td>\n",
              "      <td>wikihow</td>\n",
              "      <td>4</td>\n",
              "    </tr>\n",
              "    <tr>\n",
              "      <th>...</th>\n",
              "      <td>...</td>\n",
              "      <td>...</td>\n",
              "      <td>...</td>\n",
              "      <td>...</td>\n",
              "      <td>...</td>\n",
              "    </tr>\n",
              "    <tr>\n",
              "      <th>119752</th>\n",
              "      <td>The paper is an interesting contribution, prim...</td>\n",
              "      <td>0</td>\n",
              "      <td>human</td>\n",
              "      <td>peerread</td>\n",
              "      <td>119752</td>\n",
              "    </tr>\n",
              "    <tr>\n",
              "      <th>119753</th>\n",
              "      <td>\\nWe thank the reviewers for all their comment...</td>\n",
              "      <td>0</td>\n",
              "      <td>human</td>\n",
              "      <td>peerread</td>\n",
              "      <td>119753</td>\n",
              "    </tr>\n",
              "    <tr>\n",
              "      <th>119754</th>\n",
              "      <td>The authors introduce a semi-supervised method...</td>\n",
              "      <td>0</td>\n",
              "      <td>human</td>\n",
              "      <td>peerread</td>\n",
              "      <td>119754</td>\n",
              "    </tr>\n",
              "    <tr>\n",
              "      <th>119755</th>\n",
              "      <td>This paper proposes the Neural Graph Machine t...</td>\n",
              "      <td>0</td>\n",
              "      <td>human</td>\n",
              "      <td>peerread</td>\n",
              "      <td>119755</td>\n",
              "    </tr>\n",
              "    <tr>\n",
              "      <th>119756</th>\n",
              "      <td>The paper proposes a model that aims at learni...</td>\n",
              "      <td>0</td>\n",
              "      <td>human</td>\n",
              "      <td>peerread</td>\n",
              "      <td>119756</td>\n",
              "    </tr>\n",
              "  </tbody>\n",
              "</table>\n",
              "<p>119757 rows × 5 columns</p>\n",
              "</div>\n",
              "    <div class=\"colab-df-buttons\">\n",
              "\n",
              "  <div class=\"colab-df-container\">\n",
              "    <button class=\"colab-df-convert\" onclick=\"convertToInteractive('df-d4d2e150-c2f5-4e73-b4d9-9dca55bc0bd3')\"\n",
              "            title=\"Convert this dataframe to an interactive table.\"\n",
              "            style=\"display:none;\">\n",
              "\n",
              "  <svg xmlns=\"http://www.w3.org/2000/svg\" height=\"24px\" viewBox=\"0 -960 960 960\">\n",
              "    <path d=\"M120-120v-720h720v720H120Zm60-500h600v-160H180v160Zm220 220h160v-160H400v160Zm0 220h160v-160H400v160ZM180-400h160v-160H180v160Zm440 0h160v-160H620v160ZM180-180h160v-160H180v160Zm440 0h160v-160H620v160Z\"/>\n",
              "  </svg>\n",
              "    </button>\n",
              "\n",
              "  <style>\n",
              "    .colab-df-container {\n",
              "      display:flex;\n",
              "      gap: 12px;\n",
              "    }\n",
              "\n",
              "    .colab-df-convert {\n",
              "      background-color: #E8F0FE;\n",
              "      border: none;\n",
              "      border-radius: 50%;\n",
              "      cursor: pointer;\n",
              "      display: none;\n",
              "      fill: #1967D2;\n",
              "      height: 32px;\n",
              "      padding: 0 0 0 0;\n",
              "      width: 32px;\n",
              "    }\n",
              "\n",
              "    .colab-df-convert:hover {\n",
              "      background-color: #E2EBFA;\n",
              "      box-shadow: 0px 1px 2px rgba(60, 64, 67, 0.3), 0px 1px 3px 1px rgba(60, 64, 67, 0.15);\n",
              "      fill: #174EA6;\n",
              "    }\n",
              "\n",
              "    .colab-df-buttons div {\n",
              "      margin-bottom: 4px;\n",
              "    }\n",
              "\n",
              "    [theme=dark] .colab-df-convert {\n",
              "      background-color: #3B4455;\n",
              "      fill: #D2E3FC;\n",
              "    }\n",
              "\n",
              "    [theme=dark] .colab-df-convert:hover {\n",
              "      background-color: #434B5C;\n",
              "      box-shadow: 0px 1px 3px 1px rgba(0, 0, 0, 0.15);\n",
              "      filter: drop-shadow(0px 1px 2px rgba(0, 0, 0, 0.3));\n",
              "      fill: #FFFFFF;\n",
              "    }\n",
              "  </style>\n",
              "\n",
              "    <script>\n",
              "      const buttonEl =\n",
              "        document.querySelector('#df-d4d2e150-c2f5-4e73-b4d9-9dca55bc0bd3 button.colab-df-convert');\n",
              "      buttonEl.style.display =\n",
              "        google.colab.kernel.accessAllowed ? 'block' : 'none';\n",
              "\n",
              "      async function convertToInteractive(key) {\n",
              "        const element = document.querySelector('#df-d4d2e150-c2f5-4e73-b4d9-9dca55bc0bd3');\n",
              "        const dataTable =\n",
              "          await google.colab.kernel.invokeFunction('convertToInteractive',\n",
              "                                                    [key], {});\n",
              "        if (!dataTable) return;\n",
              "\n",
              "        const docLinkHtml = 'Like what you see? Visit the ' +\n",
              "          '<a target=\"_blank\" href=https://colab.research.google.com/notebooks/data_table.ipynb>data table notebook</a>'\n",
              "          + ' to learn more about interactive tables.';\n",
              "        element.innerHTML = '';\n",
              "        dataTable['output_type'] = 'display_data';\n",
              "        await google.colab.output.renderOutput(dataTable, element);\n",
              "        const docLink = document.createElement('div');\n",
              "        docLink.innerHTML = docLinkHtml;\n",
              "        element.appendChild(docLink);\n",
              "      }\n",
              "    </script>\n",
              "  </div>\n",
              "\n",
              "\n",
              "<div id=\"df-a1d1f53e-df7b-437b-8e0b-395c95dc9bb2\">\n",
              "  <button class=\"colab-df-quickchart\" onclick=\"quickchart('df-a1d1f53e-df7b-437b-8e0b-395c95dc9bb2')\"\n",
              "            title=\"Suggest charts\"\n",
              "            style=\"display:none;\">\n",
              "\n",
              "<svg xmlns=\"http://www.w3.org/2000/svg\" height=\"24px\"viewBox=\"0 0 24 24\"\n",
              "     width=\"24px\">\n",
              "    <g>\n",
              "        <path d=\"M19 3H5c-1.1 0-2 .9-2 2v14c0 1.1.9 2 2 2h14c1.1 0 2-.9 2-2V5c0-1.1-.9-2-2-2zM9 17H7v-7h2v7zm4 0h-2V7h2v10zm4 0h-2v-4h2v4z\"/>\n",
              "    </g>\n",
              "</svg>\n",
              "  </button>\n",
              "\n",
              "<style>\n",
              "  .colab-df-quickchart {\n",
              "      --bg-color: #E8F0FE;\n",
              "      --fill-color: #1967D2;\n",
              "      --hover-bg-color: #E2EBFA;\n",
              "      --hover-fill-color: #174EA6;\n",
              "      --disabled-fill-color: #AAA;\n",
              "      --disabled-bg-color: #DDD;\n",
              "  }\n",
              "\n",
              "  [theme=dark] .colab-df-quickchart {\n",
              "      --bg-color: #3B4455;\n",
              "      --fill-color: #D2E3FC;\n",
              "      --hover-bg-color: #434B5C;\n",
              "      --hover-fill-color: #FFFFFF;\n",
              "      --disabled-bg-color: #3B4455;\n",
              "      --disabled-fill-color: #666;\n",
              "  }\n",
              "\n",
              "  .colab-df-quickchart {\n",
              "    background-color: var(--bg-color);\n",
              "    border: none;\n",
              "    border-radius: 50%;\n",
              "    cursor: pointer;\n",
              "    display: none;\n",
              "    fill: var(--fill-color);\n",
              "    height: 32px;\n",
              "    padding: 0;\n",
              "    width: 32px;\n",
              "  }\n",
              "\n",
              "  .colab-df-quickchart:hover {\n",
              "    background-color: var(--hover-bg-color);\n",
              "    box-shadow: 0 1px 2px rgba(60, 64, 67, 0.3), 0 1px 3px 1px rgba(60, 64, 67, 0.15);\n",
              "    fill: var(--button-hover-fill-color);\n",
              "  }\n",
              "\n",
              "  .colab-df-quickchart-complete:disabled,\n",
              "  .colab-df-quickchart-complete:disabled:hover {\n",
              "    background-color: var(--disabled-bg-color);\n",
              "    fill: var(--disabled-fill-color);\n",
              "    box-shadow: none;\n",
              "  }\n",
              "\n",
              "  .colab-df-spinner {\n",
              "    border: 2px solid var(--fill-color);\n",
              "    border-color: transparent;\n",
              "    border-bottom-color: var(--fill-color);\n",
              "    animation:\n",
              "      spin 1s steps(1) infinite;\n",
              "  }\n",
              "\n",
              "  @keyframes spin {\n",
              "    0% {\n",
              "      border-color: transparent;\n",
              "      border-bottom-color: var(--fill-color);\n",
              "      border-left-color: var(--fill-color);\n",
              "    }\n",
              "    20% {\n",
              "      border-color: transparent;\n",
              "      border-left-color: var(--fill-color);\n",
              "      border-top-color: var(--fill-color);\n",
              "    }\n",
              "    30% {\n",
              "      border-color: transparent;\n",
              "      border-left-color: var(--fill-color);\n",
              "      border-top-color: var(--fill-color);\n",
              "      border-right-color: var(--fill-color);\n",
              "    }\n",
              "    40% {\n",
              "      border-color: transparent;\n",
              "      border-right-color: var(--fill-color);\n",
              "      border-top-color: var(--fill-color);\n",
              "    }\n",
              "    60% {\n",
              "      border-color: transparent;\n",
              "      border-right-color: var(--fill-color);\n",
              "    }\n",
              "    80% {\n",
              "      border-color: transparent;\n",
              "      border-right-color: var(--fill-color);\n",
              "      border-bottom-color: var(--fill-color);\n",
              "    }\n",
              "    90% {\n",
              "      border-color: transparent;\n",
              "      border-bottom-color: var(--fill-color);\n",
              "    }\n",
              "  }\n",
              "</style>\n",
              "\n",
              "  <script>\n",
              "    async function quickchart(key) {\n",
              "      const quickchartButtonEl =\n",
              "        document.querySelector('#' + key + ' button');\n",
              "      quickchartButtonEl.disabled = true;  // To prevent multiple clicks.\n",
              "      quickchartButtonEl.classList.add('colab-df-spinner');\n",
              "      try {\n",
              "        const charts = await google.colab.kernel.invokeFunction(\n",
              "            'suggestCharts', [key], {});\n",
              "      } catch (error) {\n",
              "        console.error('Error during call to suggestCharts:', error);\n",
              "      }\n",
              "      quickchartButtonEl.classList.remove('colab-df-spinner');\n",
              "      quickchartButtonEl.classList.add('colab-df-quickchart-complete');\n",
              "    }\n",
              "    (() => {\n",
              "      let quickchartButtonEl =\n",
              "        document.querySelector('#df-a1d1f53e-df7b-437b-8e0b-395c95dc9bb2 button');\n",
              "      quickchartButtonEl.style.display =\n",
              "        google.colab.kernel.accessAllowed ? 'block' : 'none';\n",
              "    })();\n",
              "  </script>\n",
              "</div>\n",
              "    </div>\n",
              "  </div>\n"
            ],
            "application/vnd.google.colaboratory.intrinsic+json": {
              "type": "dataframe",
              "variable_name": "df"
            }
          },
          "metadata": {},
          "execution_count": 12
        }
      ],
      "source": [
        "df = pd.read_json(train_path, lines=True)\n",
        "df"
      ]
    },
    {
      "cell_type": "code",
      "source": [
        "df = df.sample(10000)"
      ],
      "metadata": {
        "id": "O8-cDdufo6yw"
      },
      "id": "O8-cDdufo6yw",
      "execution_count": 13,
      "outputs": []
    },
    {
      "cell_type": "code",
      "execution_count": 14,
      "id": "7ba23d91-e74c-486e-8209-dd05cb80b302",
      "metadata": {
        "id": "7ba23d91-e74c-486e-8209-dd05cb80b302",
        "colab": {
          "base_uri": "https://localhost:8080/",
          "height": 342,
          "referenced_widgets": [
            "a271e3a0c957415d811c002eadab12cd",
            "8dd1a809efef45e99553794bc993072b",
            "1f761f0c13fd4ac7bce2d454cb8257c2",
            "5f823e3dd5bc4df8a3841bca865f17a1",
            "b3efddba3fea43ce965e927cfa180461",
            "a707f96365e84998b85113b33626d871",
            "a406597ff6cc4020aec7c4040e747f68",
            "b6e9d1d0dda74c0eb750b632e09db0f2",
            "a7ee3e5e283f48c1a606bd4d0f2f1de0",
            "d67a23b6f8a14bea9c18043827323e3a",
            "42450a48698c48af885976107adc59be",
            "d3a61be56df545f382bee5b4289e039c",
            "4f063e9ff34c4a9ca81ac279ff2afc2b",
            "8ad439597e9645abbcdc5bb1657b9f2b",
            "ca43549941fa45de9fdcc3e85a60b15e",
            "fafb04e93ebd48b29cae6a81fd14af50",
            "dc0bb5a6e9ba4393a6e01e211732426d",
            "b070d062e34d4fcbb26445eb37b31d3a",
            "9ffcfb7428514bd99bdb902a933868fe",
            "64854708386540ca862a3c1e12f8959c",
            "c84275d8f5534f139415f436706e53dc",
            "c3d5a6bb844148e6b751dda68ef9fa29",
            "cae11cfc95d141d49d5aa49058fb38a1",
            "a850c785825d4ceebb6d11e80314e2ed",
            "8971c7a088ab4b2eadaf24b290c35764",
            "f8d26e961efa4649b5279d8abe521abe",
            "900afb6b9bc344de945589a569a5d8a5",
            "8e53eff10bb74319a4e203fd1d5e09eb",
            "4120ed69ff044e67b98d2d7f97afd899",
            "a7fb2a9efcb64f7ea35b5b0158c3eaf7",
            "37d32f3f62df4ef59ba2026f76e17bcb",
            "08a9a0ffc21443c79596c007e6f37006",
            "f8f2a46a02704035b6e4f2db30e978c4",
            "afe9835a3ed841369ba29b84fa1a1eef",
            "ad0e423b273b4e9fafd157049803a026",
            "8bc57e98cf2949b8936c87b71986f7f9",
            "a5c4a3794a914408bb3ec434aae8c3f8",
            "dad2e65aa7914f19a06c99c764dbcdd2",
            "791c2b9ac51b421584386a819cf94d63",
            "e92b4b400f4447a0aff9ea80eb7fe1e0",
            "ea2e17acd2a74e0d8cfdfb4d81cd8700",
            "d6e2dc76eaa4442cafaa9952bf086001",
            "8cb18e0957b941d9a748d712b808be3e",
            "38af4eca890740ebb3b347bdc0886b93",
            "84f43674f3bf41a5a8402adb7352f931",
            "84158b28f98644298024525df54ba34c",
            "96cf94e6f82f48a5957ef54774e66e58",
            "a85b3083dfcd48dab85c6556800c2cdc",
            "bc59358f748f4393bf9f72c4892f0872",
            "eae2e7178ae44d5e87cd0a1e8388e8eb",
            "11114ed58e1346fc8ad74c81b342b325",
            "5c135fd4f16f4eff80e46aac74e9916f",
            "779436d775f04768855abcaf48912aca",
            "a2b36bf991d84b06b1f53afba1097de2",
            "6040c2ee580f40d7be2918eba3bab5fe"
          ]
        },
        "outputId": "1b44209f-b8dd-4844-d61b-0234e07e1d39"
      },
      "outputs": [
        {
          "output_type": "stream",
          "name": "stderr",
          "text": [
            "/usr/local/lib/python3.10/dist-packages/huggingface_hub/file_download.py:795: FutureWarning: `resume_download` is deprecated and will be removed in version 1.0.0. Downloads always resume when possible. If you want to force a new download, use `force_download=True`.\n",
            "  warnings.warn(\n",
            "/usr/local/lib/python3.10/dist-packages/huggingface_hub/utils/_auth.py:94: UserWarning: \n",
            "The secret `HF_TOKEN` does not exist in your Colab secrets.\n",
            "To authenticate with the Hugging Face Hub, create a token in your settings tab (https://huggingface.co/settings/tokens), set it as secret in your Google Colab and restart your session.\n",
            "You will be able to reuse this secret in all of your notebooks.\n",
            "Please note that authentication is recommended but still optional to access public models or datasets.\n",
            "  warnings.warn(\n"
          ]
        },
        {
          "output_type": "display_data",
          "data": {
            "text/plain": [
              "tokenizer_config.json:   0%|          | 0.00/25.0 [00:00<?, ?B/s]"
            ],
            "application/vnd.jupyter.widget-view+json": {
              "version_major": 2,
              "version_minor": 0,
              "model_id": "a271e3a0c957415d811c002eadab12cd"
            }
          },
          "metadata": {}
        },
        {
          "output_type": "display_data",
          "data": {
            "text/plain": [
              "config.json:   0%|          | 0.00/481 [00:00<?, ?B/s]"
            ],
            "application/vnd.jupyter.widget-view+json": {
              "version_major": 2,
              "version_minor": 0,
              "model_id": "d3a61be56df545f382bee5b4289e039c"
            }
          },
          "metadata": {}
        },
        {
          "output_type": "display_data",
          "data": {
            "text/plain": [
              "vocab.json:   0%|          | 0.00/899k [00:00<?, ?B/s]"
            ],
            "application/vnd.jupyter.widget-view+json": {
              "version_major": 2,
              "version_minor": 0,
              "model_id": "cae11cfc95d141d49d5aa49058fb38a1"
            }
          },
          "metadata": {}
        },
        {
          "output_type": "display_data",
          "data": {
            "text/plain": [
              "merges.txt:   0%|          | 0.00/456k [00:00<?, ?B/s]"
            ],
            "application/vnd.jupyter.widget-view+json": {
              "version_major": 2,
              "version_minor": 0,
              "model_id": "afe9835a3ed841369ba29b84fa1a1eef"
            }
          },
          "metadata": {}
        },
        {
          "output_type": "display_data",
          "data": {
            "text/plain": [
              "tokenizer.json:   0%|          | 0.00/1.36M [00:00<?, ?B/s]"
            ],
            "application/vnd.jupyter.widget-view+json": {
              "version_major": 2,
              "version_minor": 0,
              "model_id": "84f43674f3bf41a5a8402adb7352f931"
            }
          },
          "metadata": {}
        }
      ],
      "source": [
        "from transformers import AutoTokenizer\n",
        "\n",
        "model_name = 'FacebookAI/roberta-base'\n",
        "tokenizer = AutoTokenizer.from_pretrained(model_name)"
      ]
    },
    {
      "cell_type": "code",
      "execution_count": 15,
      "id": "BKarElf6n2Dx",
      "metadata": {
        "id": "BKarElf6n2Dx"
      },
      "outputs": [],
      "source": [
        "def input_for_analisis(df, tokenizer):\n",
        "    input_ids_lengths = np.zeros((len(df), 1))\n",
        "    train_labels = np.zeros((len(df), 1))\n",
        "    for i, labels in tqdm(enumerate(df['label']), total=len(df)):\n",
        "        train_labels[i] = labels\n",
        "\n",
        "    for i, text in tqdm(enumerate(df['text']), total=len(df)):\n",
        "        tokens = tokenizer.encode(\n",
        "            text,\n",
        "            add_special_tokens = True, # add [CLS], [SEP]\n",
        "        )\n",
        "        input_ids_lengths[i] = len(tokens)\n",
        "\n",
        "    return input_ids_lengths, train_labels"
      ]
    },
    {
      "cell_type": "code",
      "execution_count": 16,
      "id": "1Bid6yzjTmPU",
      "metadata": {
        "colab": {
          "base_uri": "https://localhost:8080/"
        },
        "id": "1Bid6yzjTmPU",
        "outputId": "3d135508-71b0-4b4d-fa1e-0355edf60dee"
      },
      "outputs": [
        {
          "output_type": "stream",
          "name": "stderr",
          "text": [
            "100%|██████████| 10000/10000 [00:00<00:00, 336012.05it/s]\n",
            "  0%|          | 0/10000 [00:00<?, ?it/s]Token indices sequence length is longer than the specified maximum sequence length for this model (1371 > 512). Running this sequence through the model will result in indexing errors\n",
            "100%|██████████| 10000/10000 [00:37<00:00, 265.95it/s]\n"
          ]
        }
      ],
      "source": [
        "train_ids_lengths, train_labels = input_for_analisis(df, tokenizer)\n",
        "labels2lengths = np.zeros((2, len(df)), dtype=np.int32)\n",
        "labels2lengths[0] = train_labels[:, 0]\n",
        "labels2lengths[1] = train_ids_lengths[:, 0]\n",
        "\n",
        "np.save('labels2lengths.npy', labels2lengths)"
      ]
    },
    {
      "cell_type": "code",
      "execution_count": 17,
      "id": "leIzZJ_M7qVs",
      "metadata": {
        "colab": {
          "base_uri": "https://localhost:8080/",
          "height": 564
        },
        "id": "leIzZJ_M7qVs",
        "outputId": "d2e4e775-6643-4ad7-df4b-0ce91b03b6a7"
      },
      "outputs": [
        {
          "output_type": "display_data",
          "data": {
            "text/plain": [
              "<Figure size 1500x600 with 2 Axes>"
            ],
            "image/svg+xml": "<?xml version=\"1.0\" encoding=\"utf-8\" standalone=\"no\"?>\n<!DOCTYPE svg PUBLIC \"-//W3C//DTD SVG 1.1//EN\"\n  \"http://www.w3.org/Graphics/SVG/1.1/DTD/svg11.dtd\">\n<svg xmlns:xlink=\"http://www.w3.org/1999/xlink\" width=\"883.85pt\" height=\"392.514375pt\" viewBox=\"0 0 883.85 392.514375\" xmlns=\"http://www.w3.org/2000/svg\" version=\"1.1\">\n <metadata>\n  <rdf:RDF xmlns:dc=\"http://purl.org/dc/elements/1.1/\" xmlns:cc=\"http://creativecommons.org/ns#\" xmlns:rdf=\"http://www.w3.org/1999/02/22-rdf-syntax-ns#\">\n   <cc:Work>\n    <dc:type rdf:resource=\"http://purl.org/dc/dcmitype/StillImage\"/>\n    <dc:date>2024-12-28T15:12:09.203805</dc:date>\n    <dc:format>image/svg+xml</dc:format>\n    <dc:creator>\n     <cc:Agent>\n      <dc:title>Matplotlib v3.8.0, https://matplotlib.org/</dc:title>\n     </cc:Agent>\n    </dc:creator>\n   </cc:Work>\n  </rdf:RDF>\n </metadata>\n <defs>\n  <style type=\"text/css\">*{stroke-linejoin: round; stroke-linecap: butt}</style>\n </defs>\n <g id=\"figure_1\">\n  <g id=\"patch_1\">\n   <path d=\"M -0 392.514375 \nL 883.85 392.514375 \nL 883.85 0 \nL -0 0 \nz\n\" style=\"fill: #ffffff\"/>\n  </g>\n  <g id=\"axes_1\">\n   <g id=\"patch_2\">\n    <path d=\"M 39.65 354.958125 \nL 166.468182 354.958125 \nL 166.468182 22.318125 \nL 39.65 22.318125 \nz\n\" style=\"fill: #ffffff\"/>\n   </g>\n   <g id=\"patch_3\">\n    <path d=\"M 45.990909 354.958125 \nL 96.718182 354.958125 \nL 96.718182 38.158125 \nL 45.990909 38.158125 \nz\n\" clip-path=\"url(#pce0e0108bb)\" style=\"fill: #3274a1\"/>\n   </g>\n   <g id=\"patch_4\">\n    <path d=\"M 109.4 354.958125 \nL 160.127273 354.958125 \nL 160.127273 64.279697 \nL 109.4 64.279697 \nz\n\" clip-path=\"url(#pce0e0108bb)\" style=\"fill: #3274a1\"/>\n   </g>\n   <g id=\"matplotlib.axis_1\">\n    <g id=\"xtick_1\">\n     <g id=\"line2d_1\">\n      <defs>\n       <path id=\"mf524898e5c\" d=\"M 0 0 \nL 0 3.5 \n\" style=\"stroke: #000000; stroke-width: 0.8\"/>\n      </defs>\n      <g>\n       <use xlink:href=\"#mf524898e5c\" x=\"71.354545\" y=\"354.958125\" style=\"stroke: #000000; stroke-width: 0.8\"/>\n      </g>\n     </g>\n     <g id=\"text_1\">\n      <!-- model -->\n      <g transform=\"translate(55.785014 369.556562) scale(0.1 -0.1)\">\n       <defs>\n        <path id=\"DejaVuSans-6d\" d=\"M 3328 2828 \nQ 3544 3216 3844 3400 \nQ 4144 3584 4550 3584 \nQ 5097 3584 5394 3201 \nQ 5691 2819 5691 2113 \nL 5691 0 \nL 5113 0 \nL 5113 2094 \nQ 5113 2597 4934 2840 \nQ 4756 3084 4391 3084 \nQ 3944 3084 3684 2787 \nQ 3425 2491 3425 1978 \nL 3425 0 \nL 2847 0 \nL 2847 2094 \nQ 2847 2600 2669 2842 \nQ 2491 3084 2119 3084 \nQ 1678 3084 1418 2786 \nQ 1159 2488 1159 1978 \nL 1159 0 \nL 581 0 \nL 581 3500 \nL 1159 3500 \nL 1159 2956 \nQ 1356 3278 1631 3431 \nQ 1906 3584 2284 3584 \nQ 2666 3584 2933 3390 \nQ 3200 3197 3328 2828 \nz\n\" transform=\"scale(0.015625)\"/>\n        <path id=\"DejaVuSans-6f\" d=\"M 1959 3097 \nQ 1497 3097 1228 2736 \nQ 959 2375 959 1747 \nQ 959 1119 1226 758 \nQ 1494 397 1959 397 \nQ 2419 397 2687 759 \nQ 2956 1122 2956 1747 \nQ 2956 2369 2687 2733 \nQ 2419 3097 1959 3097 \nz\nM 1959 3584 \nQ 2709 3584 3137 3096 \nQ 3566 2609 3566 1747 \nQ 3566 888 3137 398 \nQ 2709 -91 1959 -91 \nQ 1206 -91 779 398 \nQ 353 888 353 1747 \nQ 353 2609 779 3096 \nQ 1206 3584 1959 3584 \nz\n\" transform=\"scale(0.015625)\"/>\n        <path id=\"DejaVuSans-64\" d=\"M 2906 2969 \nL 2906 4863 \nL 3481 4863 \nL 3481 0 \nL 2906 0 \nL 2906 525 \nQ 2725 213 2448 61 \nQ 2172 -91 1784 -91 \nQ 1150 -91 751 415 \nQ 353 922 353 1747 \nQ 353 2572 751 3078 \nQ 1150 3584 1784 3584 \nQ 2172 3584 2448 3432 \nQ 2725 3281 2906 2969 \nz\nM 947 1747 \nQ 947 1113 1208 752 \nQ 1469 391 1925 391 \nQ 2381 391 2643 752 \nQ 2906 1113 2906 1747 \nQ 2906 2381 2643 2742 \nQ 2381 3103 1925 3103 \nQ 1469 3103 1208 2742 \nQ 947 2381 947 1747 \nz\n\" transform=\"scale(0.015625)\"/>\n        <path id=\"DejaVuSans-65\" d=\"M 3597 1894 \nL 3597 1613 \nL 953 1613 \nQ 991 1019 1311 708 \nQ 1631 397 2203 397 \nQ 2534 397 2845 478 \nQ 3156 559 3463 722 \nL 3463 178 \nQ 3153 47 2828 -22 \nQ 2503 -91 2169 -91 \nQ 1331 -91 842 396 \nQ 353 884 353 1716 \nQ 353 2575 817 3079 \nQ 1281 3584 2069 3584 \nQ 2775 3584 3186 3129 \nQ 3597 2675 3597 1894 \nz\nM 3022 2063 \nQ 3016 2534 2758 2815 \nQ 2500 3097 2075 3097 \nQ 1594 3097 1305 2825 \nQ 1016 2553 972 2059 \nL 3022 2063 \nz\n\" transform=\"scale(0.015625)\"/>\n        <path id=\"DejaVuSans-6c\" d=\"M 603 4863 \nL 1178 4863 \nL 1178 0 \nL 603 0 \nL 603 4863 \nz\n\" transform=\"scale(0.015625)\"/>\n       </defs>\n       <use xlink:href=\"#DejaVuSans-6d\"/>\n       <use xlink:href=\"#DejaVuSans-6f\" x=\"97.412109\"/>\n       <use xlink:href=\"#DejaVuSans-64\" x=\"158.59375\"/>\n       <use xlink:href=\"#DejaVuSans-65\" x=\"222.070312\"/>\n       <use xlink:href=\"#DejaVuSans-6c\" x=\"283.59375\"/>\n      </g>\n     </g>\n    </g>\n    <g id=\"xtick_2\">\n     <g id=\"line2d_2\">\n      <g>\n       <use xlink:href=\"#mf524898e5c\" x=\"134.763636\" y=\"354.958125\" style=\"stroke: #000000; stroke-width: 0.8\"/>\n      </g>\n     </g>\n     <g id=\"text_2\">\n      <!-- human -->\n      <g transform=\"translate(117.323011 369.556562) scale(0.1 -0.1)\">\n       <defs>\n        <path id=\"DejaVuSans-68\" d=\"M 3513 2113 \nL 3513 0 \nL 2938 0 \nL 2938 2094 \nQ 2938 2591 2744 2837 \nQ 2550 3084 2163 3084 \nQ 1697 3084 1428 2787 \nQ 1159 2491 1159 1978 \nL 1159 0 \nL 581 0 \nL 581 4863 \nL 1159 4863 \nL 1159 2956 \nQ 1366 3272 1645 3428 \nQ 1925 3584 2291 3584 \nQ 2894 3584 3203 3211 \nQ 3513 2838 3513 2113 \nz\n\" transform=\"scale(0.015625)\"/>\n        <path id=\"DejaVuSans-75\" d=\"M 544 1381 \nL 544 3500 \nL 1119 3500 \nL 1119 1403 \nQ 1119 906 1312 657 \nQ 1506 409 1894 409 \nQ 2359 409 2629 706 \nQ 2900 1003 2900 1516 \nL 2900 3500 \nL 3475 3500 \nL 3475 0 \nL 2900 0 \nL 2900 538 \nQ 2691 219 2414 64 \nQ 2138 -91 1772 -91 \nQ 1169 -91 856 284 \nQ 544 659 544 1381 \nz\nM 1991 3584 \nL 1991 3584 \nz\n\" transform=\"scale(0.015625)\"/>\n        <path id=\"DejaVuSans-61\" d=\"M 2194 1759 \nQ 1497 1759 1228 1600 \nQ 959 1441 959 1056 \nQ 959 750 1161 570 \nQ 1363 391 1709 391 \nQ 2188 391 2477 730 \nQ 2766 1069 2766 1631 \nL 2766 1759 \nL 2194 1759 \nz\nM 3341 1997 \nL 3341 0 \nL 2766 0 \nL 2766 531 \nQ 2569 213 2275 61 \nQ 1981 -91 1556 -91 \nQ 1019 -91 701 211 \nQ 384 513 384 1019 \nQ 384 1609 779 1909 \nQ 1175 2209 1959 2209 \nL 2766 2209 \nL 2766 2266 \nQ 2766 2663 2505 2880 \nQ 2244 3097 1772 3097 \nQ 1472 3097 1187 3025 \nQ 903 2953 641 2809 \nL 641 3341 \nQ 956 3463 1253 3523 \nQ 1550 3584 1831 3584 \nQ 2591 3584 2966 3190 \nQ 3341 2797 3341 1997 \nz\n\" transform=\"scale(0.015625)\"/>\n        <path id=\"DejaVuSans-6e\" d=\"M 3513 2113 \nL 3513 0 \nL 2938 0 \nL 2938 2094 \nQ 2938 2591 2744 2837 \nQ 2550 3084 2163 3084 \nQ 1697 3084 1428 2787 \nQ 1159 2491 1159 1978 \nL 1159 0 \nL 581 0 \nL 581 3500 \nL 1159 3500 \nL 1159 2956 \nQ 1366 3272 1645 3428 \nQ 1925 3584 2291 3584 \nQ 2894 3584 3203 3211 \nQ 3513 2838 3513 2113 \nz\n\" transform=\"scale(0.015625)\"/>\n       </defs>\n       <use xlink:href=\"#DejaVuSans-68\"/>\n       <use xlink:href=\"#DejaVuSans-75\" x=\"63.378906\"/>\n       <use xlink:href=\"#DejaVuSans-6d\" x=\"126.757812\"/>\n       <use xlink:href=\"#DejaVuSans-61\" x=\"224.169922\"/>\n       <use xlink:href=\"#DejaVuSans-6e\" x=\"285.449219\"/>\n      </g>\n     </g>\n    </g>\n   </g>\n   <g id=\"matplotlib.axis_2\">\n    <g id=\"ytick_1\">\n     <g id=\"line2d_3\">\n      <defs>\n       <path id=\"mbbad73338a\" d=\"M 0 0 \nL -3.5 0 \n\" style=\"stroke: #000000; stroke-width: 0.8\"/>\n      </defs>\n      <g>\n       <use xlink:href=\"#mbbad73338a\" x=\"39.65\" y=\"354.958125\" style=\"stroke: #000000; stroke-width: 0.8\"/>\n      </g>\n     </g>\n     <g id=\"text_3\">\n      <!-- 0 -->\n      <g transform=\"translate(26.2875 358.757344) scale(0.1 -0.1)\">\n       <defs>\n        <path id=\"DejaVuSans-30\" d=\"M 2034 4250 \nQ 1547 4250 1301 3770 \nQ 1056 3291 1056 2328 \nQ 1056 1369 1301 889 \nQ 1547 409 2034 409 \nQ 2525 409 2770 889 \nQ 3016 1369 3016 2328 \nQ 3016 3291 2770 3770 \nQ 2525 4250 2034 4250 \nz\nM 2034 4750 \nQ 2819 4750 3233 4129 \nQ 3647 3509 3647 2328 \nQ 3647 1150 3233 529 \nQ 2819 -91 2034 -91 \nQ 1250 -91 836 529 \nQ 422 1150 422 2328 \nQ 422 3509 836 4129 \nQ 1250 4750 2034 4750 \nz\n\" transform=\"scale(0.015625)\"/>\n       </defs>\n       <use xlink:href=\"#DejaVuSans-30\"/>\n      </g>\n     </g>\n    </g>\n    <g id=\"ytick_2\">\n     <g id=\"line2d_4\">\n      <g>\n       <use xlink:href=\"#mbbad73338a\" x=\"39.65\" y=\"294.210282\" style=\"stroke: #000000; stroke-width: 0.8\"/>\n      </g>\n     </g>\n     <g id=\"text_4\">\n      <!-- 1000 -->\n      <g transform=\"translate(7.2 298.009501) scale(0.1 -0.1)\">\n       <defs>\n        <path id=\"DejaVuSans-31\" d=\"M 794 531 \nL 1825 531 \nL 1825 4091 \nL 703 3866 \nL 703 4441 \nL 1819 4666 \nL 2450 4666 \nL 2450 531 \nL 3481 531 \nL 3481 0 \nL 794 0 \nL 794 531 \nz\n\" transform=\"scale(0.015625)\"/>\n       </defs>\n       <use xlink:href=\"#DejaVuSans-31\"/>\n       <use xlink:href=\"#DejaVuSans-30\" x=\"63.623047\"/>\n       <use xlink:href=\"#DejaVuSans-30\" x=\"127.246094\"/>\n       <use xlink:href=\"#DejaVuSans-30\" x=\"190.869141\"/>\n      </g>\n     </g>\n    </g>\n    <g id=\"ytick_3\">\n     <g id=\"line2d_5\">\n      <g>\n       <use xlink:href=\"#mbbad73338a\" x=\"39.65\" y=\"233.462439\" style=\"stroke: #000000; stroke-width: 0.8\"/>\n      </g>\n     </g>\n     <g id=\"text_5\">\n      <!-- 2000 -->\n      <g transform=\"translate(7.2 237.261658) scale(0.1 -0.1)\">\n       <defs>\n        <path id=\"DejaVuSans-32\" d=\"M 1228 531 \nL 3431 531 \nL 3431 0 \nL 469 0 \nL 469 531 \nQ 828 903 1448 1529 \nQ 2069 2156 2228 2338 \nQ 2531 2678 2651 2914 \nQ 2772 3150 2772 3378 \nQ 2772 3750 2511 3984 \nQ 2250 4219 1831 4219 \nQ 1534 4219 1204 4116 \nQ 875 4013 500 3803 \nL 500 4441 \nQ 881 4594 1212 4672 \nQ 1544 4750 1819 4750 \nQ 2544 4750 2975 4387 \nQ 3406 4025 3406 3419 \nQ 3406 3131 3298 2873 \nQ 3191 2616 2906 2266 \nQ 2828 2175 2409 1742 \nQ 1991 1309 1228 531 \nz\n\" transform=\"scale(0.015625)\"/>\n       </defs>\n       <use xlink:href=\"#DejaVuSans-32\"/>\n       <use xlink:href=\"#DejaVuSans-30\" x=\"63.623047\"/>\n       <use xlink:href=\"#DejaVuSans-30\" x=\"127.246094\"/>\n       <use xlink:href=\"#DejaVuSans-30\" x=\"190.869141\"/>\n      </g>\n     </g>\n    </g>\n    <g id=\"ytick_4\">\n     <g id=\"line2d_6\">\n      <g>\n       <use xlink:href=\"#mbbad73338a\" x=\"39.65\" y=\"172.714597\" style=\"stroke: #000000; stroke-width: 0.8\"/>\n      </g>\n     </g>\n     <g id=\"text_6\">\n      <!-- 3000 -->\n      <g transform=\"translate(7.2 176.513815) scale(0.1 -0.1)\">\n       <defs>\n        <path id=\"DejaVuSans-33\" d=\"M 2597 2516 \nQ 3050 2419 3304 2112 \nQ 3559 1806 3559 1356 \nQ 3559 666 3084 287 \nQ 2609 -91 1734 -91 \nQ 1441 -91 1130 -33 \nQ 819 25 488 141 \nL 488 750 \nQ 750 597 1062 519 \nQ 1375 441 1716 441 \nQ 2309 441 2620 675 \nQ 2931 909 2931 1356 \nQ 2931 1769 2642 2001 \nQ 2353 2234 1838 2234 \nL 1294 2234 \nL 1294 2753 \nL 1863 2753 \nQ 2328 2753 2575 2939 \nQ 2822 3125 2822 3475 \nQ 2822 3834 2567 4026 \nQ 2313 4219 1838 4219 \nQ 1578 4219 1281 4162 \nQ 984 4106 628 3988 \nL 628 4550 \nQ 988 4650 1302 4700 \nQ 1616 4750 1894 4750 \nQ 2613 4750 3031 4423 \nQ 3450 4097 3450 3541 \nQ 3450 3153 3228 2886 \nQ 3006 2619 2597 2516 \nz\n\" transform=\"scale(0.015625)\"/>\n       </defs>\n       <use xlink:href=\"#DejaVuSans-33\"/>\n       <use xlink:href=\"#DejaVuSans-30\" x=\"63.623047\"/>\n       <use xlink:href=\"#DejaVuSans-30\" x=\"127.246094\"/>\n       <use xlink:href=\"#DejaVuSans-30\" x=\"190.869141\"/>\n      </g>\n     </g>\n    </g>\n    <g id=\"ytick_5\">\n     <g id=\"line2d_7\">\n      <g>\n       <use xlink:href=\"#mbbad73338a\" x=\"39.65\" y=\"111.966754\" style=\"stroke: #000000; stroke-width: 0.8\"/>\n      </g>\n     </g>\n     <g id=\"text_7\">\n      <!-- 4000 -->\n      <g transform=\"translate(7.2 115.765973) scale(0.1 -0.1)\">\n       <defs>\n        <path id=\"DejaVuSans-34\" d=\"M 2419 4116 \nL 825 1625 \nL 2419 1625 \nL 2419 4116 \nz\nM 2253 4666 \nL 3047 4666 \nL 3047 1625 \nL 3713 1625 \nL 3713 1100 \nL 3047 1100 \nL 3047 0 \nL 2419 0 \nL 2419 1100 \nL 313 1100 \nL 313 1709 \nL 2253 4666 \nz\n\" transform=\"scale(0.015625)\"/>\n       </defs>\n       <use xlink:href=\"#DejaVuSans-34\"/>\n       <use xlink:href=\"#DejaVuSans-30\" x=\"63.623047\"/>\n       <use xlink:href=\"#DejaVuSans-30\" x=\"127.246094\"/>\n       <use xlink:href=\"#DejaVuSans-30\" x=\"190.869141\"/>\n      </g>\n     </g>\n    </g>\n    <g id=\"ytick_6\">\n     <g id=\"line2d_8\">\n      <g>\n       <use xlink:href=\"#mbbad73338a\" x=\"39.65\" y=\"51.218911\" style=\"stroke: #000000; stroke-width: 0.8\"/>\n      </g>\n     </g>\n     <g id=\"text_8\">\n      <!-- 5000 -->\n      <g transform=\"translate(7.2 55.01813) scale(0.1 -0.1)\">\n       <defs>\n        <path id=\"DejaVuSans-35\" d=\"M 691 4666 \nL 3169 4666 \nL 3169 4134 \nL 1269 4134 \nL 1269 2991 \nQ 1406 3038 1543 3061 \nQ 1681 3084 1819 3084 \nQ 2600 3084 3056 2656 \nQ 3513 2228 3513 1497 \nQ 3513 744 3044 326 \nQ 2575 -91 1722 -91 \nQ 1428 -91 1123 -41 \nQ 819 9 494 109 \nL 494 744 \nQ 775 591 1075 516 \nQ 1375 441 1709 441 \nQ 2250 441 2565 725 \nQ 2881 1009 2881 1497 \nQ 2881 1984 2565 2268 \nQ 2250 2553 1709 2553 \nQ 1456 2553 1204 2497 \nQ 953 2441 691 2322 \nL 691 4666 \nz\n\" transform=\"scale(0.015625)\"/>\n       </defs>\n       <use xlink:href=\"#DejaVuSans-35\"/>\n       <use xlink:href=\"#DejaVuSans-30\" x=\"63.623047\"/>\n       <use xlink:href=\"#DejaVuSans-30\" x=\"127.246094\"/>\n       <use xlink:href=\"#DejaVuSans-30\" x=\"190.869141\"/>\n      </g>\n     </g>\n    </g>\n   </g>\n   <g id=\"line2d_9\">\n    <path clip-path=\"url(#pce0e0108bb)\" style=\"fill: none; stroke: #424242; stroke-width: 2.25; stroke-linecap: square\"/>\n   </g>\n   <g id=\"line2d_10\">\n    <path clip-path=\"url(#pce0e0108bb)\" style=\"fill: none; stroke: #424242; stroke-width: 2.25; stroke-linecap: square\"/>\n   </g>\n   <g id=\"patch_5\">\n    <path d=\"M 39.65 354.958125 \nL 39.65 22.318125 \n\" style=\"fill: none; stroke: #000000; stroke-width: 0.8; stroke-linejoin: miter; stroke-linecap: square\"/>\n   </g>\n   <g id=\"patch_6\">\n    <path d=\"M 166.468182 354.958125 \nL 166.468182 22.318125 \n\" style=\"fill: none; stroke: #000000; stroke-width: 0.8; stroke-linejoin: miter; stroke-linecap: square\"/>\n   </g>\n   <g id=\"patch_7\">\n    <path d=\"M 39.65 354.958125 \nL 166.468182 354.958125 \n\" style=\"fill: none; stroke: #000000; stroke-width: 0.8; stroke-linejoin: miter; stroke-linecap: square\"/>\n   </g>\n   <g id=\"patch_8\">\n    <path d=\"M 39.65 22.318125 \nL 166.468182 22.318125 \n\" style=\"fill: none; stroke: #000000; stroke-width: 0.8; stroke-linejoin: miter; stroke-linecap: square\"/>\n   </g>\n   <g id=\"text_9\">\n    <!-- Classes dist. -->\n    <g transform=\"translate(65.689403 16.318125) scale(0.12 -0.12)\">\n     <defs>\n      <path id=\"DejaVuSans-43\" d=\"M 4122 4306 \nL 4122 3641 \nQ 3803 3938 3442 4084 \nQ 3081 4231 2675 4231 \nQ 1875 4231 1450 3742 \nQ 1025 3253 1025 2328 \nQ 1025 1406 1450 917 \nQ 1875 428 2675 428 \nQ 3081 428 3442 575 \nQ 3803 722 4122 1019 \nL 4122 359 \nQ 3791 134 3420 21 \nQ 3050 -91 2638 -91 \nQ 1578 -91 968 557 \nQ 359 1206 359 2328 \nQ 359 3453 968 4101 \nQ 1578 4750 2638 4750 \nQ 3056 4750 3426 4639 \nQ 3797 4528 4122 4306 \nz\n\" transform=\"scale(0.015625)\"/>\n      <path id=\"DejaVuSans-73\" d=\"M 2834 3397 \nL 2834 2853 \nQ 2591 2978 2328 3040 \nQ 2066 3103 1784 3103 \nQ 1356 3103 1142 2972 \nQ 928 2841 928 2578 \nQ 928 2378 1081 2264 \nQ 1234 2150 1697 2047 \nL 1894 2003 \nQ 2506 1872 2764 1633 \nQ 3022 1394 3022 966 \nQ 3022 478 2636 193 \nQ 2250 -91 1575 -91 \nQ 1294 -91 989 -36 \nQ 684 19 347 128 \nL 347 722 \nQ 666 556 975 473 \nQ 1284 391 1588 391 \nQ 1994 391 2212 530 \nQ 2431 669 2431 922 \nQ 2431 1156 2273 1281 \nQ 2116 1406 1581 1522 \nL 1381 1569 \nQ 847 1681 609 1914 \nQ 372 2147 372 2553 \nQ 372 3047 722 3315 \nQ 1072 3584 1716 3584 \nQ 2034 3584 2315 3537 \nQ 2597 3491 2834 3397 \nz\n\" transform=\"scale(0.015625)\"/>\n      <path id=\"DejaVuSans-20\" transform=\"scale(0.015625)\"/>\n      <path id=\"DejaVuSans-69\" d=\"M 603 3500 \nL 1178 3500 \nL 1178 0 \nL 603 0 \nL 603 3500 \nz\nM 603 4863 \nL 1178 4863 \nL 1178 4134 \nL 603 4134 \nL 603 4863 \nz\n\" transform=\"scale(0.015625)\"/>\n      <path id=\"DejaVuSans-74\" d=\"M 1172 4494 \nL 1172 3500 \nL 2356 3500 \nL 2356 3053 \nL 1172 3053 \nL 1172 1153 \nQ 1172 725 1289 603 \nQ 1406 481 1766 481 \nL 2356 481 \nL 2356 0 \nL 1766 0 \nQ 1100 0 847 248 \nQ 594 497 594 1153 \nL 594 3053 \nL 172 3053 \nL 172 3500 \nL 594 3500 \nL 594 4494 \nL 1172 4494 \nz\n\" transform=\"scale(0.015625)\"/>\n      <path id=\"DejaVuSans-2e\" d=\"M 684 794 \nL 1344 794 \nL 1344 0 \nL 684 0 \nL 684 794 \nz\n\" transform=\"scale(0.015625)\"/>\n     </defs>\n     <use xlink:href=\"#DejaVuSans-43\"/>\n     <use xlink:href=\"#DejaVuSans-6c\" x=\"69.824219\"/>\n     <use xlink:href=\"#DejaVuSans-61\" x=\"97.607422\"/>\n     <use xlink:href=\"#DejaVuSans-73\" x=\"158.886719\"/>\n     <use xlink:href=\"#DejaVuSans-73\" x=\"210.986328\"/>\n     <use xlink:href=\"#DejaVuSans-65\" x=\"263.085938\"/>\n     <use xlink:href=\"#DejaVuSans-73\" x=\"324.609375\"/>\n     <use xlink:href=\"#DejaVuSans-20\" x=\"376.708984\"/>\n     <use xlink:href=\"#DejaVuSans-64\" x=\"408.496094\"/>\n     <use xlink:href=\"#DejaVuSans-69\" x=\"471.972656\"/>\n     <use xlink:href=\"#DejaVuSans-73\" x=\"499.755859\"/>\n     <use xlink:href=\"#DejaVuSans-74\" x=\"551.855469\"/>\n     <use xlink:href=\"#DejaVuSans-2e\" x=\"591.064453\"/>\n    </g>\n   </g>\n  </g>\n  <g id=\"axes_2\">\n   <g id=\"patch_9\">\n    <path d=\"M 242.559091 354.958125 \nL 876.65 354.958125 \nL 876.65 22.318125 \nL 242.559091 22.318125 \nz\n\" style=\"fill: #ffffff\"/>\n   </g>\n   <g id=\"patch_10\">\n    <path d=\"M 271.381405 354.958125 \nL 280.988843 354.958125 \nL 280.988843 66.972608 \nL 271.381405 66.972608 \nz\n\" clip-path=\"url(#pc8613dddd8)\" style=\"fill: #1f77b4; fill-opacity: 0.5; stroke: #000000; stroke-width: 0.960744; stroke-linejoin: miter\"/>\n   </g>\n   <g id=\"patch_11\">\n    <path d=\"M 280.988843 354.958125 \nL 290.596281 354.958125 \nL 290.596281 220.205404 \nL 280.988843 220.205404 \nz\n\" clip-path=\"url(#pc8613dddd8)\" style=\"fill: #1f77b4; fill-opacity: 0.5; stroke: #000000; stroke-width: 0.960744; stroke-linejoin: miter\"/>\n   </g>\n   <g id=\"patch_12\">\n    <path d=\"M 290.596281 354.958125 \nL 300.203719 354.958125 \nL 300.203719 307.475328 \nL 290.596281 307.475328 \nz\n\" clip-path=\"url(#pc8613dddd8)\" style=\"fill: #1f77b4; fill-opacity: 0.5; stroke: #000000; stroke-width: 0.960744; stroke-linejoin: miter\"/>\n   </g>\n   <g id=\"patch_13\">\n    <path d=\"M 300.203719 354.958125 \nL 309.811157 354.958125 \nL 309.811157 336.059239 \nL 300.203719 336.059239 \nz\n\" clip-path=\"url(#pc8613dddd8)\" style=\"fill: #1f77b4; fill-opacity: 0.5; stroke: #000000; stroke-width: 0.960744; stroke-linejoin: miter\"/>\n   </g>\n   <g id=\"patch_14\">\n    <path d=\"M 309.811157 354.958125 \nL 319.418595 354.958125 \nL 319.418595 343.597853 \nL 309.811157 343.597853 \nz\n\" clip-path=\"url(#pc8613dddd8)\" style=\"fill: #1f77b4; fill-opacity: 0.5; stroke: #000000; stroke-width: 0.960744; stroke-linejoin: miter\"/>\n   </g>\n   <g id=\"patch_15\">\n    <path d=\"M 319.418595 354.958125 \nL 329.026033 354.958125 \nL 329.026033 347.890675 \nL 319.418595 347.890675 \nz\n\" clip-path=\"url(#pc8613dddd8)\" style=\"fill: #1f77b4; fill-opacity: 0.5; stroke: #000000; stroke-width: 0.960744; stroke-linejoin: miter\"/>\n   </g>\n   <g id=\"patch_16\">\n    <path d=\"M 329.026033 354.958125 \nL 338.633471 354.958125 \nL 338.633471 350.351194 \nL 329.026033 350.351194 \nz\n\" clip-path=\"url(#pc8613dddd8)\" style=\"fill: #1f77b4; fill-opacity: 0.5; stroke: #000000; stroke-width: 0.960744; stroke-linejoin: miter\"/>\n   </g>\n   <g id=\"patch_17\">\n    <path d=\"M 338.633471 354.958125 \nL 348.240909 354.958125 \nL 348.240909 352.026442 \nL 338.633471 352.026442 \nz\n\" clip-path=\"url(#pc8613dddd8)\" style=\"fill: #1f77b4; fill-opacity: 0.5; stroke: #000000; stroke-width: 0.960744; stroke-linejoin: miter\"/>\n   </g>\n   <g id=\"patch_18\">\n    <path d=\"M 348.240909 354.958125 \nL 357.848347 354.958125 \nL 357.848347 353.38758 \nL 348.240909 353.38758 \nz\n\" clip-path=\"url(#pc8613dddd8)\" style=\"fill: #1f77b4; fill-opacity: 0.5; stroke: #000000; stroke-width: 0.960744; stroke-linejoin: miter\"/>\n   </g>\n   <g id=\"patch_19\">\n    <path d=\"M 357.848347 354.958125 \nL 367.455785 354.958125 \nL 367.455785 354.120501 \nL 357.848347 354.120501 \nz\n\" clip-path=\"url(#pc8613dddd8)\" style=\"fill: #1f77b4; fill-opacity: 0.5; stroke: #000000; stroke-width: 0.960744; stroke-linejoin: miter\"/>\n   </g>\n   <g id=\"patch_20\">\n    <path d=\"M 367.455785 354.958125 \nL 377.063223 354.958125 \nL 377.063223 353.701689 \nL 367.455785 353.701689 \nz\n\" clip-path=\"url(#pc8613dddd8)\" style=\"fill: #1f77b4; fill-opacity: 0.5; stroke: #000000; stroke-width: 0.960744; stroke-linejoin: miter\"/>\n   </g>\n   <g id=\"patch_21\">\n    <path d=\"M 377.063223 354.958125 \nL 386.670661 354.958125 \nL 386.670661 354.329907 \nL 377.063223 354.329907 \nz\n\" clip-path=\"url(#pc8613dddd8)\" style=\"fill: #1f77b4; fill-opacity: 0.5; stroke: #000000; stroke-width: 0.960744; stroke-linejoin: miter\"/>\n   </g>\n   <g id=\"patch_22\">\n    <path d=\"M 386.670661 354.958125 \nL 396.278099 354.958125 \nL 396.278099 354.644016 \nL 386.670661 354.644016 \nz\n\" clip-path=\"url(#pc8613dddd8)\" style=\"fill: #1f77b4; fill-opacity: 0.5; stroke: #000000; stroke-width: 0.960744; stroke-linejoin: miter\"/>\n   </g>\n   <g id=\"patch_23\">\n    <path d=\"M 396.278099 354.958125 \nL 405.885537 354.958125 \nL 405.885537 354.486962 \nL 396.278099 354.486962 \nz\n\" clip-path=\"url(#pc8613dddd8)\" style=\"fill: #1f77b4; fill-opacity: 0.5; stroke: #000000; stroke-width: 0.960744; stroke-linejoin: miter\"/>\n   </g>\n   <g id=\"patch_24\">\n    <path d=\"M 405.885537 354.958125 \nL 415.492975 354.958125 \nL 415.492975 354.696368 \nL 405.885537 354.696368 \nz\n\" clip-path=\"url(#pc8613dddd8)\" style=\"fill: #1f77b4; fill-opacity: 0.5; stroke: #000000; stroke-width: 0.960744; stroke-linejoin: miter\"/>\n   </g>\n   <g id=\"patch_25\">\n    <path d=\"M 415.492975 354.958125 \nL 425.100413 354.958125 \nL 425.100413 354.591665 \nL 415.492975 354.591665 \nz\n\" clip-path=\"url(#pc8613dddd8)\" style=\"fill: #1f77b4; fill-opacity: 0.5; stroke: #000000; stroke-width: 0.960744; stroke-linejoin: miter\"/>\n   </g>\n   <g id=\"patch_26\">\n    <path d=\"M 425.100413 354.958125 \nL 434.707851 354.958125 \nL 434.707851 354.696368 \nL 425.100413 354.696368 \nz\n\" clip-path=\"url(#pc8613dddd8)\" style=\"fill: #1f77b4; fill-opacity: 0.5; stroke: #000000; stroke-width: 0.960744; stroke-linejoin: miter\"/>\n   </g>\n   <g id=\"patch_27\">\n    <path d=\"M 434.707851 354.958125 \nL 444.315289 354.958125 \nL 444.315289 354.853422 \nL 434.707851 354.853422 \nz\n\" clip-path=\"url(#pc8613dddd8)\" style=\"fill: #1f77b4; fill-opacity: 0.5; stroke: #000000; stroke-width: 0.960744; stroke-linejoin: miter\"/>\n   </g>\n   <g id=\"patch_28\">\n    <path d=\"M 444.315289 354.958125 \nL 453.922727 354.958125 \nL 453.922727 354.801071 \nL 444.315289 354.801071 \nz\n\" clip-path=\"url(#pc8613dddd8)\" style=\"fill: #1f77b4; fill-opacity: 0.5; stroke: #000000; stroke-width: 0.960744; stroke-linejoin: miter\"/>\n   </g>\n   <g id=\"patch_29\">\n    <path d=\"M 453.922727 354.958125 \nL 463.530165 354.958125 \nL 463.530165 354.644016 \nL 453.922727 354.644016 \nz\n\" clip-path=\"url(#pc8613dddd8)\" style=\"fill: #1f77b4; fill-opacity: 0.5; stroke: #000000; stroke-width: 0.960744; stroke-linejoin: miter\"/>\n   </g>\n   <g id=\"patch_30\">\n    <path d=\"M 463.530165 354.958125 \nL 473.137603 354.958125 \nL 473.137603 354.801071 \nL 463.530165 354.801071 \nz\n\" clip-path=\"url(#pc8613dddd8)\" style=\"fill: #1f77b4; fill-opacity: 0.5; stroke: #000000; stroke-width: 0.960744; stroke-linejoin: miter\"/>\n   </g>\n   <g id=\"patch_31\">\n    <path d=\"M 473.137603 354.958125 \nL 482.745041 354.958125 \nL 482.745041 354.853422 \nL 473.137603 354.853422 \nz\n\" clip-path=\"url(#pc8613dddd8)\" style=\"fill: #1f77b4; fill-opacity: 0.5; stroke: #000000; stroke-width: 0.960744; stroke-linejoin: miter\"/>\n   </g>\n   <g id=\"patch_32\">\n    <path d=\"M 482.745041 354.958125 \nL 492.352479 354.958125 \nL 492.352479 354.853422 \nL 482.745041 354.853422 \nz\n\" clip-path=\"url(#pc8613dddd8)\" style=\"fill: #1f77b4; fill-opacity: 0.5; stroke: #000000; stroke-width: 0.960744; stroke-linejoin: miter\"/>\n   </g>\n   <g id=\"patch_33\">\n    <path d=\"M 492.352479 354.958125 \nL 501.959917 354.958125 \nL 501.959917 354.905774 \nL 492.352479 354.905774 \nz\n\" clip-path=\"url(#pc8613dddd8)\" style=\"fill: #1f77b4; fill-opacity: 0.5; stroke: #000000; stroke-width: 0.960744; stroke-linejoin: miter\"/>\n   </g>\n   <g id=\"patch_34\">\n    <path d=\"M 501.959917 354.958125 \nL 511.567355 354.958125 \nL 511.567355 354.748719 \nL 501.959917 354.748719 \nz\n\" clip-path=\"url(#pc8613dddd8)\" style=\"fill: #1f77b4; fill-opacity: 0.5; stroke: #000000; stroke-width: 0.960744; stroke-linejoin: miter\"/>\n   </g>\n   <g id=\"patch_35\">\n    <path d=\"M 511.567355 354.958125 \nL 521.174793 354.958125 \nL 521.174793 354.644016 \nL 511.567355 354.644016 \nz\n\" clip-path=\"url(#pc8613dddd8)\" style=\"fill: #1f77b4; fill-opacity: 0.5; stroke: #000000; stroke-width: 0.960744; stroke-linejoin: miter\"/>\n   </g>\n   <g id=\"patch_36\">\n    <path d=\"M 521.174793 354.958125 \nL 530.782231 354.958125 \nL 530.782231 354.853422 \nL 521.174793 354.853422 \nz\n\" clip-path=\"url(#pc8613dddd8)\" style=\"fill: #1f77b4; fill-opacity: 0.5; stroke: #000000; stroke-width: 0.960744; stroke-linejoin: miter\"/>\n   </g>\n   <g id=\"patch_37\">\n    <path d=\"M 530.782231 354.958125 \nL 540.389669 354.958125 \nL 540.389669 354.801071 \nL 530.782231 354.801071 \nz\n\" clip-path=\"url(#pc8613dddd8)\" style=\"fill: #1f77b4; fill-opacity: 0.5; stroke: #000000; stroke-width: 0.960744; stroke-linejoin: miter\"/>\n   </g>\n   <g id=\"patch_38\">\n    <path d=\"M 540.389669 354.958125 \nL 549.997107 354.958125 \nL 549.997107 354.853422 \nL 540.389669 354.853422 \nz\n\" clip-path=\"url(#pc8613dddd8)\" style=\"fill: #1f77b4; fill-opacity: 0.5; stroke: #000000; stroke-width: 0.960744; stroke-linejoin: miter\"/>\n   </g>\n   <g id=\"patch_39\">\n    <path d=\"M 549.997107 354.958125 \nL 559.604545 354.958125 \nL 559.604545 354.853422 \nL 549.997107 354.853422 \nz\n\" clip-path=\"url(#pc8613dddd8)\" style=\"fill: #1f77b4; fill-opacity: 0.5; stroke: #000000; stroke-width: 0.960744; stroke-linejoin: miter\"/>\n   </g>\n   <g id=\"patch_40\">\n    <path d=\"M 559.604545 354.958125 \nL 569.211983 354.958125 \nL 569.211983 354.958125 \nL 559.604545 354.958125 \nz\n\" clip-path=\"url(#pc8613dddd8)\" style=\"fill: #1f77b4; fill-opacity: 0.5; stroke: #000000; stroke-width: 0.960744; stroke-linejoin: miter\"/>\n   </g>\n   <g id=\"patch_41\">\n    <path d=\"M 569.211983 354.958125 \nL 578.819421 354.958125 \nL 578.819421 354.905774 \nL 569.211983 354.905774 \nz\n\" clip-path=\"url(#pc8613dddd8)\" style=\"fill: #1f77b4; fill-opacity: 0.5; stroke: #000000; stroke-width: 0.960744; stroke-linejoin: miter\"/>\n   </g>\n   <g id=\"patch_42\">\n    <path d=\"M 578.819421 354.958125 \nL 588.42686 354.958125 \nL 588.42686 354.958125 \nL 578.819421 354.958125 \nz\n\" clip-path=\"url(#pc8613dddd8)\" style=\"fill: #1f77b4; fill-opacity: 0.5; stroke: #000000; stroke-width: 0.960744; stroke-linejoin: miter\"/>\n   </g>\n   <g id=\"patch_43\">\n    <path d=\"M 588.42686 354.958125 \nL 598.034298 354.958125 \nL 598.034298 354.958125 \nL 588.42686 354.958125 \nz\n\" clip-path=\"url(#pc8613dddd8)\" style=\"fill: #1f77b4; fill-opacity: 0.5; stroke: #000000; stroke-width: 0.960744; stroke-linejoin: miter\"/>\n   </g>\n   <g id=\"patch_44\">\n    <path d=\"M 598.034298 354.958125 \nL 607.641736 354.958125 \nL 607.641736 354.905774 \nL 598.034298 354.905774 \nz\n\" clip-path=\"url(#pc8613dddd8)\" style=\"fill: #1f77b4; fill-opacity: 0.5; stroke: #000000; stroke-width: 0.960744; stroke-linejoin: miter\"/>\n   </g>\n   <g id=\"patch_45\">\n    <path d=\"M 607.641736 354.958125 \nL 617.249174 354.958125 \nL 617.249174 354.958125 \nL 607.641736 354.958125 \nz\n\" clip-path=\"url(#pc8613dddd8)\" style=\"fill: #1f77b4; fill-opacity: 0.5; stroke: #000000; stroke-width: 0.960744; stroke-linejoin: miter\"/>\n   </g>\n   <g id=\"patch_46\">\n    <path d=\"M 617.249174 354.958125 \nL 626.856612 354.958125 \nL 626.856612 354.958125 \nL 617.249174 354.958125 \nz\n\" clip-path=\"url(#pc8613dddd8)\" style=\"fill: #1f77b4; fill-opacity: 0.5; stroke: #000000; stroke-width: 0.960744; stroke-linejoin: miter\"/>\n   </g>\n   <g id=\"patch_47\">\n    <path d=\"M 626.856612 354.958125 \nL 636.46405 354.958125 \nL 636.46405 354.958125 \nL 626.856612 354.958125 \nz\n\" clip-path=\"url(#pc8613dddd8)\" style=\"fill: #1f77b4; fill-opacity: 0.5; stroke: #000000; stroke-width: 0.960744; stroke-linejoin: miter\"/>\n   </g>\n   <g id=\"patch_48\">\n    <path d=\"M 636.46405 354.958125 \nL 646.071488 354.958125 \nL 646.071488 354.958125 \nL 636.46405 354.958125 \nz\n\" clip-path=\"url(#pc8613dddd8)\" style=\"fill: #1f77b4; fill-opacity: 0.5; stroke: #000000; stroke-width: 0.960744; stroke-linejoin: miter\"/>\n   </g>\n   <g id=\"patch_49\">\n    <path d=\"M 646.071488 354.958125 \nL 655.678926 354.958125 \nL 655.678926 354.905774 \nL 646.071488 354.905774 \nz\n\" clip-path=\"url(#pc8613dddd8)\" style=\"fill: #1f77b4; fill-opacity: 0.5; stroke: #000000; stroke-width: 0.960744; stroke-linejoin: miter\"/>\n   </g>\n   <g id=\"patch_50\">\n    <path d=\"M 655.678926 354.958125 \nL 665.286364 354.958125 \nL 665.286364 354.905774 \nL 655.678926 354.905774 \nz\n\" clip-path=\"url(#pc8613dddd8)\" style=\"fill: #1f77b4; fill-opacity: 0.5; stroke: #000000; stroke-width: 0.960744; stroke-linejoin: miter\"/>\n   </g>\n   <g id=\"patch_51\">\n    <path d=\"M 665.286364 354.958125 \nL 674.893802 354.958125 \nL 674.893802 354.958125 \nL 665.286364 354.958125 \nz\n\" clip-path=\"url(#pc8613dddd8)\" style=\"fill: #1f77b4; fill-opacity: 0.5; stroke: #000000; stroke-width: 0.960744; stroke-linejoin: miter\"/>\n   </g>\n   <g id=\"patch_52\">\n    <path d=\"M 674.893802 354.958125 \nL 684.50124 354.958125 \nL 684.50124 354.958125 \nL 674.893802 354.958125 \nz\n\" clip-path=\"url(#pc8613dddd8)\" style=\"fill: #1f77b4; fill-opacity: 0.5; stroke: #000000; stroke-width: 0.960744; stroke-linejoin: miter\"/>\n   </g>\n   <g id=\"patch_53\">\n    <path d=\"M 684.50124 354.958125 \nL 694.108678 354.958125 \nL 694.108678 354.958125 \nL 684.50124 354.958125 \nz\n\" clip-path=\"url(#pc8613dddd8)\" style=\"fill: #1f77b4; fill-opacity: 0.5; stroke: #000000; stroke-width: 0.960744; stroke-linejoin: miter\"/>\n   </g>\n   <g id=\"patch_54\">\n    <path d=\"M 694.108678 354.958125 \nL 703.716116 354.958125 \nL 703.716116 354.958125 \nL 694.108678 354.958125 \nz\n\" clip-path=\"url(#pc8613dddd8)\" style=\"fill: #1f77b4; fill-opacity: 0.5; stroke: #000000; stroke-width: 0.960744; stroke-linejoin: miter\"/>\n   </g>\n   <g id=\"patch_55\">\n    <path d=\"M 703.716116 354.958125 \nL 713.323554 354.958125 \nL 713.323554 354.905774 \nL 703.716116 354.905774 \nz\n\" clip-path=\"url(#pc8613dddd8)\" style=\"fill: #1f77b4; fill-opacity: 0.5; stroke: #000000; stroke-width: 0.960744; stroke-linejoin: miter\"/>\n   </g>\n   <g id=\"patch_56\">\n    <path d=\"M 713.323554 354.958125 \nL 722.930992 354.958125 \nL 722.930992 354.958125 \nL 713.323554 354.958125 \nz\n\" clip-path=\"url(#pc8613dddd8)\" style=\"fill: #1f77b4; fill-opacity: 0.5; stroke: #000000; stroke-width: 0.960744; stroke-linejoin: miter\"/>\n   </g>\n   <g id=\"patch_57\">\n    <path d=\"M 722.930992 354.958125 \nL 732.53843 354.958125 \nL 732.53843 354.958125 \nL 722.930992 354.958125 \nz\n\" clip-path=\"url(#pc8613dddd8)\" style=\"fill: #1f77b4; fill-opacity: 0.5; stroke: #000000; stroke-width: 0.960744; stroke-linejoin: miter\"/>\n   </g>\n   <g id=\"patch_58\">\n    <path d=\"M 732.53843 354.958125 \nL 742.145868 354.958125 \nL 742.145868 354.958125 \nL 732.53843 354.958125 \nz\n\" clip-path=\"url(#pc8613dddd8)\" style=\"fill: #1f77b4; fill-opacity: 0.5; stroke: #000000; stroke-width: 0.960744; stroke-linejoin: miter\"/>\n   </g>\n   <g id=\"patch_59\">\n    <path d=\"M 742.145868 354.958125 \nL 751.753306 354.958125 \nL 751.753306 354.958125 \nL 742.145868 354.958125 \nz\n\" clip-path=\"url(#pc8613dddd8)\" style=\"fill: #1f77b4; fill-opacity: 0.5; stroke: #000000; stroke-width: 0.960744; stroke-linejoin: miter\"/>\n   </g>\n   <g id=\"patch_60\">\n    <path d=\"M 751.753306 354.958125 \nL 761.360744 354.958125 \nL 761.360744 354.958125 \nL 751.753306 354.958125 \nz\n\" clip-path=\"url(#pc8613dddd8)\" style=\"fill: #1f77b4; fill-opacity: 0.5; stroke: #000000; stroke-width: 0.960744; stroke-linejoin: miter\"/>\n   </g>\n   <g id=\"patch_61\">\n    <path d=\"M 761.360744 354.958125 \nL 770.968182 354.958125 \nL 770.968182 354.958125 \nL 761.360744 354.958125 \nz\n\" clip-path=\"url(#pc8613dddd8)\" style=\"fill: #1f77b4; fill-opacity: 0.5; stroke: #000000; stroke-width: 0.960744; stroke-linejoin: miter\"/>\n   </g>\n   <g id=\"patch_62\">\n    <path d=\"M 770.968182 354.958125 \nL 780.57562 354.958125 \nL 780.57562 354.905774 \nL 770.968182 354.905774 \nz\n\" clip-path=\"url(#pc8613dddd8)\" style=\"fill: #1f77b4; fill-opacity: 0.5; stroke: #000000; stroke-width: 0.960744; stroke-linejoin: miter\"/>\n   </g>\n   <g id=\"patch_63\">\n    <path d=\"M 780.57562 354.958125 \nL 790.183058 354.958125 \nL 790.183058 354.958125 \nL 780.57562 354.958125 \nz\n\" clip-path=\"url(#pc8613dddd8)\" style=\"fill: #1f77b4; fill-opacity: 0.5; stroke: #000000; stroke-width: 0.960744; stroke-linejoin: miter\"/>\n   </g>\n   <g id=\"patch_64\">\n    <path d=\"M 790.183058 354.958125 \nL 799.790496 354.958125 \nL 799.790496 354.905774 \nL 790.183058 354.905774 \nz\n\" clip-path=\"url(#pc8613dddd8)\" style=\"fill: #1f77b4; fill-opacity: 0.5; stroke: #000000; stroke-width: 0.960744; stroke-linejoin: miter\"/>\n   </g>\n   <g id=\"patch_65\">\n    <path d=\"M 799.790496 354.958125 \nL 809.397934 354.958125 \nL 809.397934 354.958125 \nL 799.790496 354.958125 \nz\n\" clip-path=\"url(#pc8613dddd8)\" style=\"fill: #1f77b4; fill-opacity: 0.5; stroke: #000000; stroke-width: 0.960744; stroke-linejoin: miter\"/>\n   </g>\n   <g id=\"patch_66\">\n    <path d=\"M 809.397934 354.958125 \nL 819.005372 354.958125 \nL 819.005372 354.905774 \nL 809.397934 354.905774 \nz\n\" clip-path=\"url(#pc8613dddd8)\" style=\"fill: #1f77b4; fill-opacity: 0.5; stroke: #000000; stroke-width: 0.960744; stroke-linejoin: miter\"/>\n   </g>\n   <g id=\"patch_67\">\n    <path d=\"M 819.005372 354.958125 \nL 828.61281 354.958125 \nL 828.61281 354.958125 \nL 819.005372 354.958125 \nz\n\" clip-path=\"url(#pc8613dddd8)\" style=\"fill: #1f77b4; fill-opacity: 0.5; stroke: #000000; stroke-width: 0.960744; stroke-linejoin: miter\"/>\n   </g>\n   <g id=\"patch_68\">\n    <path d=\"M 828.61281 354.958125 \nL 838.220248 354.958125 \nL 838.220248 354.958125 \nL 828.61281 354.958125 \nz\n\" clip-path=\"url(#pc8613dddd8)\" style=\"fill: #1f77b4; fill-opacity: 0.5; stroke: #000000; stroke-width: 0.960744; stroke-linejoin: miter\"/>\n   </g>\n   <g id=\"patch_69\">\n    <path d=\"M 838.220248 354.958125 \nL 847.827686 354.958125 \nL 847.827686 354.905774 \nL 838.220248 354.905774 \nz\n\" clip-path=\"url(#pc8613dddd8)\" style=\"fill: #1f77b4; fill-opacity: 0.5; stroke: #000000; stroke-width: 0.960744; stroke-linejoin: miter\"/>\n   </g>\n   <g id=\"matplotlib.axis_3\">\n    <g id=\"xtick_3\">\n     <g id=\"line2d_11\">\n      <path d=\"M 271.183594 354.958125 \nL 271.183594 22.318125 \n\" clip-path=\"url(#pc8613dddd8)\" style=\"fill: none; stroke: #b0b0b0; stroke-width: 0.8; stroke-linecap: square\"/>\n     </g>\n     <g id=\"line2d_12\">\n      <g>\n       <use xlink:href=\"#mf524898e5c\" x=\"271.183594\" y=\"354.958125\" style=\"stroke: #000000; stroke-width: 0.8\"/>\n      </g>\n     </g>\n     <g id=\"text_10\">\n      <!-- 0 -->\n      <g transform=\"translate(268.002344 369.556562) scale(0.1 -0.1)\">\n       <use xlink:href=\"#DejaVuSans-30\"/>\n      </g>\n     </g>\n    </g>\n    <g id=\"xtick_4\">\n     <g id=\"line2d_13\">\n      <path d=\"M 394.815533 354.958125 \nL 394.815533 22.318125 \n\" clip-path=\"url(#pc8613dddd8)\" style=\"fill: none; stroke: #b0b0b0; stroke-width: 0.8; stroke-linecap: square\"/>\n     </g>\n     <g id=\"line2d_14\">\n      <g>\n       <use xlink:href=\"#mf524898e5c\" x=\"394.815533\" y=\"354.958125\" style=\"stroke: #000000; stroke-width: 0.8\"/>\n      </g>\n     </g>\n     <g id=\"text_11\">\n      <!-- 5000 -->\n      <g transform=\"translate(382.090533 369.556562) scale(0.1 -0.1)\">\n       <use xlink:href=\"#DejaVuSans-35\"/>\n       <use xlink:href=\"#DejaVuSans-30\" x=\"63.623047\"/>\n       <use xlink:href=\"#DejaVuSans-30\" x=\"127.246094\"/>\n       <use xlink:href=\"#DejaVuSans-30\" x=\"190.869141\"/>\n      </g>\n     </g>\n    </g>\n    <g id=\"xtick_5\">\n     <g id=\"line2d_15\">\n      <path d=\"M 518.447473 354.958125 \nL 518.447473 22.318125 \n\" clip-path=\"url(#pc8613dddd8)\" style=\"fill: none; stroke: #b0b0b0; stroke-width: 0.8; stroke-linecap: square\"/>\n     </g>\n     <g id=\"line2d_16\">\n      <g>\n       <use xlink:href=\"#mf524898e5c\" x=\"518.447473\" y=\"354.958125\" style=\"stroke: #000000; stroke-width: 0.8\"/>\n      </g>\n     </g>\n     <g id=\"text_12\">\n      <!-- 10000 -->\n      <g transform=\"translate(502.541223 369.556562) scale(0.1 -0.1)\">\n       <use xlink:href=\"#DejaVuSans-31\"/>\n       <use xlink:href=\"#DejaVuSans-30\" x=\"63.623047\"/>\n       <use xlink:href=\"#DejaVuSans-30\" x=\"127.246094\"/>\n       <use xlink:href=\"#DejaVuSans-30\" x=\"190.869141\"/>\n       <use xlink:href=\"#DejaVuSans-30\" x=\"254.492188\"/>\n      </g>\n     </g>\n    </g>\n    <g id=\"xtick_6\">\n     <g id=\"line2d_17\">\n      <path d=\"M 642.079412 354.958125 \nL 642.079412 22.318125 \n\" clip-path=\"url(#pc8613dddd8)\" style=\"fill: none; stroke: #b0b0b0; stroke-width: 0.8; stroke-linecap: square\"/>\n     </g>\n     <g id=\"line2d_18\">\n      <g>\n       <use xlink:href=\"#mf524898e5c\" x=\"642.079412\" y=\"354.958125\" style=\"stroke: #000000; stroke-width: 0.8\"/>\n      </g>\n     </g>\n     <g id=\"text_13\">\n      <!-- 15000 -->\n      <g transform=\"translate(626.173162 369.556562) scale(0.1 -0.1)\">\n       <use xlink:href=\"#DejaVuSans-31\"/>\n       <use xlink:href=\"#DejaVuSans-35\" x=\"63.623047\"/>\n       <use xlink:href=\"#DejaVuSans-30\" x=\"127.246094\"/>\n       <use xlink:href=\"#DejaVuSans-30\" x=\"190.869141\"/>\n       <use xlink:href=\"#DejaVuSans-30\" x=\"254.492188\"/>\n      </g>\n     </g>\n    </g>\n    <g id=\"xtick_7\">\n     <g id=\"line2d_19\">\n      <path d=\"M 765.711352 354.958125 \nL 765.711352 22.318125 \n\" clip-path=\"url(#pc8613dddd8)\" style=\"fill: none; stroke: #b0b0b0; stroke-width: 0.8; stroke-linecap: square\"/>\n     </g>\n     <g id=\"line2d_20\">\n      <g>\n       <use xlink:href=\"#mf524898e5c\" x=\"765.711352\" y=\"354.958125\" style=\"stroke: #000000; stroke-width: 0.8\"/>\n      </g>\n     </g>\n     <g id=\"text_14\">\n      <!-- 20000 -->\n      <g transform=\"translate(749.805102 369.556562) scale(0.1 -0.1)\">\n       <use xlink:href=\"#DejaVuSans-32\"/>\n       <use xlink:href=\"#DejaVuSans-30\" x=\"63.623047\"/>\n       <use xlink:href=\"#DejaVuSans-30\" x=\"127.246094\"/>\n       <use xlink:href=\"#DejaVuSans-30\" x=\"190.869141\"/>\n       <use xlink:href=\"#DejaVuSans-30\" x=\"254.492188\"/>\n      </g>\n     </g>\n    </g>\n    <g id=\"text_15\">\n     <!-- length -->\n     <g transform=\"translate(543.667045 383.234687) scale(0.1 -0.1)\">\n      <defs>\n       <path id=\"DejaVuSans-67\" d=\"M 2906 1791 \nQ 2906 2416 2648 2759 \nQ 2391 3103 1925 3103 \nQ 1463 3103 1205 2759 \nQ 947 2416 947 1791 \nQ 947 1169 1205 825 \nQ 1463 481 1925 481 \nQ 2391 481 2648 825 \nQ 2906 1169 2906 1791 \nz\nM 3481 434 \nQ 3481 -459 3084 -895 \nQ 2688 -1331 1869 -1331 \nQ 1566 -1331 1297 -1286 \nQ 1028 -1241 775 -1147 \nL 775 -588 \nQ 1028 -725 1275 -790 \nQ 1522 -856 1778 -856 \nQ 2344 -856 2625 -561 \nQ 2906 -266 2906 331 \nL 2906 616 \nQ 2728 306 2450 153 \nQ 2172 0 1784 0 \nQ 1141 0 747 490 \nQ 353 981 353 1791 \nQ 353 2603 747 3093 \nQ 1141 3584 1784 3584 \nQ 2172 3584 2450 3431 \nQ 2728 3278 2906 2969 \nL 2906 3500 \nL 3481 3500 \nL 3481 434 \nz\n\" transform=\"scale(0.015625)\"/>\n      </defs>\n      <use xlink:href=\"#DejaVuSans-6c\"/>\n      <use xlink:href=\"#DejaVuSans-65\" x=\"27.783203\"/>\n      <use xlink:href=\"#DejaVuSans-6e\" x=\"89.306641\"/>\n      <use xlink:href=\"#DejaVuSans-67\" x=\"152.685547\"/>\n      <use xlink:href=\"#DejaVuSans-74\" x=\"216.162109\"/>\n      <use xlink:href=\"#DejaVuSans-68\" x=\"255.371094\"/>\n     </g>\n    </g>\n   </g>\n   <g id=\"matplotlib.axis_4\">\n    <g id=\"ytick_7\">\n     <g id=\"line2d_21\">\n      <path d=\"M 242.559091 354.958125 \nL 876.65 354.958125 \n\" clip-path=\"url(#pc8613dddd8)\" style=\"fill: none; stroke: #b0b0b0; stroke-width: 0.8; stroke-linecap: square\"/>\n     </g>\n     <g id=\"line2d_22\">\n      <g>\n       <use xlink:href=\"#mbbad73338a\" x=\"242.559091\" y=\"354.958125\" style=\"stroke: #000000; stroke-width: 0.8\"/>\n      </g>\n     </g>\n     <g id=\"text_16\">\n      <!-- 0 -->\n      <g transform=\"translate(229.196591 358.757344) scale(0.1 -0.1)\">\n       <use xlink:href=\"#DejaVuSans-30\"/>\n      </g>\n     </g>\n    </g>\n    <g id=\"ytick_8\">\n     <g id=\"line2d_23\">\n      <path d=\"M 242.559091 302.60664 \nL 876.65 302.60664 \n\" clip-path=\"url(#pc8613dddd8)\" style=\"fill: none; stroke: #b0b0b0; stroke-width: 0.8; stroke-linecap: square\"/>\n     </g>\n     <g id=\"line2d_24\">\n      <g>\n       <use xlink:href=\"#mbbad73338a\" x=\"242.559091\" y=\"302.60664\" style=\"stroke: #000000; stroke-width: 0.8\"/>\n      </g>\n     </g>\n     <g id=\"text_17\">\n      <!-- 1000 -->\n      <g transform=\"translate(210.109091 306.405859) scale(0.1 -0.1)\">\n       <use xlink:href=\"#DejaVuSans-31\"/>\n       <use xlink:href=\"#DejaVuSans-30\" x=\"63.623047\"/>\n       <use xlink:href=\"#DejaVuSans-30\" x=\"127.246094\"/>\n       <use xlink:href=\"#DejaVuSans-30\" x=\"190.869141\"/>\n      </g>\n     </g>\n    </g>\n    <g id=\"ytick_9\">\n     <g id=\"line2d_25\">\n      <path d=\"M 242.559091 250.255156 \nL 876.65 250.255156 \n\" clip-path=\"url(#pc8613dddd8)\" style=\"fill: none; stroke: #b0b0b0; stroke-width: 0.8; stroke-linecap: square\"/>\n     </g>\n     <g id=\"line2d_26\">\n      <g>\n       <use xlink:href=\"#mbbad73338a\" x=\"242.559091\" y=\"250.255156\" style=\"stroke: #000000; stroke-width: 0.8\"/>\n      </g>\n     </g>\n     <g id=\"text_18\">\n      <!-- 2000 -->\n      <g transform=\"translate(210.109091 254.054374) scale(0.1 -0.1)\">\n       <use xlink:href=\"#DejaVuSans-32\"/>\n       <use xlink:href=\"#DejaVuSans-30\" x=\"63.623047\"/>\n       <use xlink:href=\"#DejaVuSans-30\" x=\"127.246094\"/>\n       <use xlink:href=\"#DejaVuSans-30\" x=\"190.869141\"/>\n      </g>\n     </g>\n    </g>\n    <g id=\"ytick_10\">\n     <g id=\"line2d_27\">\n      <path d=\"M 242.559091 197.903671 \nL 876.65 197.903671 \n\" clip-path=\"url(#pc8613dddd8)\" style=\"fill: none; stroke: #b0b0b0; stroke-width: 0.8; stroke-linecap: square\"/>\n     </g>\n     <g id=\"line2d_28\">\n      <g>\n       <use xlink:href=\"#mbbad73338a\" x=\"242.559091\" y=\"197.903671\" style=\"stroke: #000000; stroke-width: 0.8\"/>\n      </g>\n     </g>\n     <g id=\"text_19\">\n      <!-- 3000 -->\n      <g transform=\"translate(210.109091 201.70289) scale(0.1 -0.1)\">\n       <use xlink:href=\"#DejaVuSans-33\"/>\n       <use xlink:href=\"#DejaVuSans-30\" x=\"63.623047\"/>\n       <use xlink:href=\"#DejaVuSans-30\" x=\"127.246094\"/>\n       <use xlink:href=\"#DejaVuSans-30\" x=\"190.869141\"/>\n      </g>\n     </g>\n    </g>\n    <g id=\"ytick_11\">\n     <g id=\"line2d_29\">\n      <path d=\"M 242.559091 145.552186 \nL 876.65 145.552186 \n\" clip-path=\"url(#pc8613dddd8)\" style=\"fill: none; stroke: #b0b0b0; stroke-width: 0.8; stroke-linecap: square\"/>\n     </g>\n     <g id=\"line2d_30\">\n      <g>\n       <use xlink:href=\"#mbbad73338a\" x=\"242.559091\" y=\"145.552186\" style=\"stroke: #000000; stroke-width: 0.8\"/>\n      </g>\n     </g>\n     <g id=\"text_20\">\n      <!-- 4000 -->\n      <g transform=\"translate(210.109091 149.351405) scale(0.1 -0.1)\">\n       <use xlink:href=\"#DejaVuSans-34\"/>\n       <use xlink:href=\"#DejaVuSans-30\" x=\"63.623047\"/>\n       <use xlink:href=\"#DejaVuSans-30\" x=\"127.246094\"/>\n       <use xlink:href=\"#DejaVuSans-30\" x=\"190.869141\"/>\n      </g>\n     </g>\n    </g>\n    <g id=\"ytick_12\">\n     <g id=\"line2d_31\">\n      <path d=\"M 242.559091 93.200702 \nL 876.65 93.200702 \n\" clip-path=\"url(#pc8613dddd8)\" style=\"fill: none; stroke: #b0b0b0; stroke-width: 0.8; stroke-linecap: square\"/>\n     </g>\n     <g id=\"line2d_32\">\n      <g>\n       <use xlink:href=\"#mbbad73338a\" x=\"242.559091\" y=\"93.200702\" style=\"stroke: #000000; stroke-width: 0.8\"/>\n      </g>\n     </g>\n     <g id=\"text_21\">\n      <!-- 5000 -->\n      <g transform=\"translate(210.109091 96.99992) scale(0.1 -0.1)\">\n       <use xlink:href=\"#DejaVuSans-35\"/>\n       <use xlink:href=\"#DejaVuSans-30\" x=\"63.623047\"/>\n       <use xlink:href=\"#DejaVuSans-30\" x=\"127.246094\"/>\n       <use xlink:href=\"#DejaVuSans-30\" x=\"190.869141\"/>\n      </g>\n     </g>\n    </g>\n    <g id=\"ytick_13\">\n     <g id=\"line2d_33\">\n      <path d=\"M 242.559091 40.849217 \nL 876.65 40.849217 \n\" clip-path=\"url(#pc8613dddd8)\" style=\"fill: none; stroke: #b0b0b0; stroke-width: 0.8; stroke-linecap: square\"/>\n     </g>\n     <g id=\"line2d_34\">\n      <g>\n       <use xlink:href=\"#mbbad73338a\" x=\"242.559091\" y=\"40.849217\" style=\"stroke: #000000; stroke-width: 0.8\"/>\n      </g>\n     </g>\n     <g id=\"text_22\">\n      <!-- 6000 -->\n      <g transform=\"translate(210.109091 44.648436) scale(0.1 -0.1)\">\n       <defs>\n        <path id=\"DejaVuSans-36\" d=\"M 2113 2584 \nQ 1688 2584 1439 2293 \nQ 1191 2003 1191 1497 \nQ 1191 994 1439 701 \nQ 1688 409 2113 409 \nQ 2538 409 2786 701 \nQ 3034 994 3034 1497 \nQ 3034 2003 2786 2293 \nQ 2538 2584 2113 2584 \nz\nM 3366 4563 \nL 3366 3988 \nQ 3128 4100 2886 4159 \nQ 2644 4219 2406 4219 \nQ 1781 4219 1451 3797 \nQ 1122 3375 1075 2522 \nQ 1259 2794 1537 2939 \nQ 1816 3084 2150 3084 \nQ 2853 3084 3261 2657 \nQ 3669 2231 3669 1497 \nQ 3669 778 3244 343 \nQ 2819 -91 2113 -91 \nQ 1303 -91 875 529 \nQ 447 1150 447 2328 \nQ 447 3434 972 4092 \nQ 1497 4750 2381 4750 \nQ 2619 4750 2861 4703 \nQ 3103 4656 3366 4563 \nz\n\" transform=\"scale(0.015625)\"/>\n       </defs>\n       <use xlink:href=\"#DejaVuSans-36\"/>\n       <use xlink:href=\"#DejaVuSans-30\" x=\"63.623047\"/>\n       <use xlink:href=\"#DejaVuSans-30\" x=\"127.246094\"/>\n       <use xlink:href=\"#DejaVuSans-30\" x=\"190.869141\"/>\n      </g>\n     </g>\n    </g>\n    <g id=\"text_23\">\n     <!-- amount -->\n     <g transform=\"translate(204.029403 207.929531) rotate(-90) scale(0.1 -0.1)\">\n      <use xlink:href=\"#DejaVuSans-61\"/>\n      <use xlink:href=\"#DejaVuSans-6d\" x=\"61.279297\"/>\n      <use xlink:href=\"#DejaVuSans-6f\" x=\"158.691406\"/>\n      <use xlink:href=\"#DejaVuSans-75\" x=\"219.873047\"/>\n      <use xlink:href=\"#DejaVuSans-6e\" x=\"283.251953\"/>\n      <use xlink:href=\"#DejaVuSans-74\" x=\"346.630859\"/>\n     </g>\n    </g>\n   </g>\n   <g id=\"line2d_35\">\n    <path d=\"M 271.381405 281.024446 \nL 277.174835 62.748557 \nL 280.07155 38.158125 \nL 282.968265 109.29803 \nL 285.86498 201.496783 \nL 288.761695 261.893308 \nL 291.65841 289.706583 \nL 294.555125 303.100939 \nL 297.45184 314.554278 \nL 300.348555 324.99637 \nL 303.24527 332.257445 \nL 306.141985 336.843733 \nL 309.0387 339.8211 \nL 311.935415 341.747861 \nL 326.41899 348.993272 \nL 329.315705 349.773058 \nL 340.902564 351.48244 \nL 349.592709 353.405643 \nL 352.489424 353.466049 \nL 355.386139 353.330285 \nL 358.282854 353.397128 \nL 364.076284 353.953172 \nL 372.766429 353.844391 \nL 384.353289 354.456055 \nL 393.043434 354.642596 \nL 398.836864 354.610491 \nL 404.630294 354.52026 \nL 419.113869 354.619974 \nL 424.907299 354.591264 \nL 442.287589 354.838277 \nL 465.461309 354.691242 \nL 474.151454 354.83892 \nL 497.325173 354.843373 \nL 503.118603 354.753664 \nL 508.912033 354.813816 \nL 517.602178 354.690542 \nL 540.775898 354.858516 \nL 592.916768 354.957864 \nL 746.442662 354.958125 \nL 847.827686 354.905363 \nL 847.827686 354.905363 \n\" clip-path=\"url(#pc8613dddd8)\" style=\"fill: none; stroke: #1f77b4; stroke-width: 1.5; stroke-linecap: square\"/>\n   </g>\n   <g id=\"patch_70\">\n    <path d=\"M 242.559091 354.958125 \nL 242.559091 22.318125 \n\" style=\"fill: none; stroke: #000000; stroke-width: 0.8; stroke-linejoin: miter; stroke-linecap: square\"/>\n   </g>\n   <g id=\"patch_71\">\n    <path d=\"M 876.65 354.958125 \nL 876.65 22.318125 \n\" style=\"fill: none; stroke: #000000; stroke-width: 0.8; stroke-linejoin: miter; stroke-linecap: square\"/>\n   </g>\n   <g id=\"patch_72\">\n    <path d=\"M 242.559091 354.958125 \nL 876.65 354.958125 \n\" style=\"fill: none; stroke: #000000; stroke-width: 0.8; stroke-linejoin: miter; stroke-linecap: square\"/>\n   </g>\n   <g id=\"patch_73\">\n    <path d=\"M 242.559091 22.318125 \nL 876.65 22.318125 \n\" style=\"fill: none; stroke: #000000; stroke-width: 0.8; stroke-linejoin: miter; stroke-linecap: square\"/>\n   </g>\n   <g id=\"text_24\">\n    <!-- Input length dist. -->\n    <g transform=\"translate(508.26892 16.318125) scale(0.12 -0.12)\">\n     <defs>\n      <path id=\"DejaVuSans-49\" d=\"M 628 4666 \nL 1259 4666 \nL 1259 0 \nL 628 0 \nL 628 4666 \nz\n\" transform=\"scale(0.015625)\"/>\n      <path id=\"DejaVuSans-70\" d=\"M 1159 525 \nL 1159 -1331 \nL 581 -1331 \nL 581 3500 \nL 1159 3500 \nL 1159 2969 \nQ 1341 3281 1617 3432 \nQ 1894 3584 2278 3584 \nQ 2916 3584 3314 3078 \nQ 3713 2572 3713 1747 \nQ 3713 922 3314 415 \nQ 2916 -91 2278 -91 \nQ 1894 -91 1617 61 \nQ 1341 213 1159 525 \nz\nM 3116 1747 \nQ 3116 2381 2855 2742 \nQ 2594 3103 2138 3103 \nQ 1681 3103 1420 2742 \nQ 1159 2381 1159 1747 \nQ 1159 1113 1420 752 \nQ 1681 391 2138 391 \nQ 2594 391 2855 752 \nQ 3116 1113 3116 1747 \nz\n\" transform=\"scale(0.015625)\"/>\n     </defs>\n     <use xlink:href=\"#DejaVuSans-49\"/>\n     <use xlink:href=\"#DejaVuSans-6e\" x=\"29.492188\"/>\n     <use xlink:href=\"#DejaVuSans-70\" x=\"92.871094\"/>\n     <use xlink:href=\"#DejaVuSans-75\" x=\"156.347656\"/>\n     <use xlink:href=\"#DejaVuSans-74\" x=\"219.726562\"/>\n     <use xlink:href=\"#DejaVuSans-20\" x=\"258.935547\"/>\n     <use xlink:href=\"#DejaVuSans-6c\" x=\"290.722656\"/>\n     <use xlink:href=\"#DejaVuSans-65\" x=\"318.505859\"/>\n     <use xlink:href=\"#DejaVuSans-6e\" x=\"380.029297\"/>\n     <use xlink:href=\"#DejaVuSans-67\" x=\"443.408203\"/>\n     <use xlink:href=\"#DejaVuSans-74\" x=\"506.884766\"/>\n     <use xlink:href=\"#DejaVuSans-68\" x=\"546.09375\"/>\n     <use xlink:href=\"#DejaVuSans-20\" x=\"609.472656\"/>\n     <use xlink:href=\"#DejaVuSans-64\" x=\"641.259766\"/>\n     <use xlink:href=\"#DejaVuSans-69\" x=\"704.736328\"/>\n     <use xlink:href=\"#DejaVuSans-73\" x=\"732.519531\"/>\n     <use xlink:href=\"#DejaVuSans-74\" x=\"784.619141\"/>\n     <use xlink:href=\"#DejaVuSans-2e\" x=\"823.828125\"/>\n    </g>\n   </g>\n  </g>\n </g>\n <defs>\n  <clipPath id=\"pce0e0108bb\">\n   <rect x=\"39.65\" y=\"22.318125\" width=\"126.818182\" height=\"332.64\"/>\n  </clipPath>\n  <clipPath id=\"pc8613dddd8\">\n   <rect x=\"242.559091\" y=\"22.318125\" width=\"634.090909\" height=\"332.64\"/>\n  </clipPath>\n </defs>\n</svg>\n"
          },
          "metadata": {}
        }
      ],
      "source": [
        "fig, ax = plt.subplots(nrows = 1, ncols=2, width_ratios=(1, 5), figsize=(15, 6))\n",
        "sns.barplot(\n",
        "    x=['model', 'human'],\n",
        "    y=[len(np.where(train_labels == 0)[0]), len(np.where(train_labels == 1)[0])],\n",
        "    ax=ax[0],\n",
        ")\n",
        "sns.histplot(labels2lengths[1], kde=True, ax=ax[1], bins=60)\n",
        "ax[0].set_title('Classes dist.')\n",
        "ax[1].set_title('Input length dist.')\n",
        "ax[1].set_xlabel('length')\n",
        "ax[1].grid(True)\n",
        "plt.ylabel('amount')\n",
        "plt.show()"
      ]
    },
    {
      "cell_type": "code",
      "execution_count": 18,
      "id": "q_hKBsUG819S",
      "metadata": {
        "colab": {
          "base_uri": "https://localhost:8080/",
          "height": 456
        },
        "id": "q_hKBsUG819S",
        "outputId": "4c95b55c-75f2-445b-ff78-b291e9690ba3"
      },
      "outputs": [
        {
          "output_type": "display_data",
          "data": {
            "text/plain": [
              "<Figure size 640x480 with 1 Axes>"
            ],
            "image/svg+xml": "<?xml version=\"1.0\" encoding=\"utf-8\" standalone=\"no\"?>\n<!DOCTYPE svg PUBLIC \"-//W3C//DTD SVG 1.1//EN\"\n  \"http://www.w3.org/Graphics/SVG/1.1/DTD/svg11.dtd\">\n<svg xmlns:xlink=\"http://www.w3.org/1999/xlink\" width=\"411.285625pt\" height=\"325.986375pt\" viewBox=\"0 0 411.285625 325.986375\" xmlns=\"http://www.w3.org/2000/svg\" version=\"1.1\">\n <metadata>\n  <rdf:RDF xmlns:dc=\"http://purl.org/dc/elements/1.1/\" xmlns:cc=\"http://creativecommons.org/ns#\" xmlns:rdf=\"http://www.w3.org/1999/02/22-rdf-syntax-ns#\">\n   <cc:Work>\n    <dc:type rdf:resource=\"http://purl.org/dc/dcmitype/StillImage\"/>\n    <dc:date>2024-12-28T15:12:10.439644</dc:date>\n    <dc:format>image/svg+xml</dc:format>\n    <dc:creator>\n     <cc:Agent>\n      <dc:title>Matplotlib v3.8.0, https://matplotlib.org/</dc:title>\n     </cc:Agent>\n    </dc:creator>\n   </cc:Work>\n  </rdf:RDF>\n </metadata>\n <defs>\n  <style type=\"text/css\">*{stroke-linejoin: round; stroke-linecap: butt}</style>\n </defs>\n <g id=\"figure_1\">\n  <g id=\"patch_1\">\n   <path d=\"M 0 325.986375 \nL 411.285625 325.986375 \nL 411.285625 0 \nL 0 0 \nz\n\" style=\"fill: #ffffff\"/>\n  </g>\n  <g id=\"axes_1\">\n   <g id=\"patch_2\">\n    <path d=\"M 46.965625 288.430125 \nL 404.085625 288.430125 \nL 404.085625 22.318125 \nL 46.965625 22.318125 \nz\n\" style=\"fill: #ffffff\"/>\n   </g>\n   <g id=\"patch_3\">\n    <path d=\"M 63.198352 288.430125 \nL 67.645675 288.430125 \nL 67.645675 284.038838 \nL 63.198352 284.038838 \nz\n\" clip-path=\"url(#p46b6201c3a)\" style=\"fill: #1f77b4; fill-opacity: 0.5; stroke: #000000; stroke-width: 0.444732; stroke-linejoin: miter\"/>\n   </g>\n   <g id=\"patch_4\">\n    <path d=\"M 67.645675 288.430125 \nL 72.092997 288.430125 \nL 72.092997 279.961214 \nL 67.645675 279.961214 \nz\n\" clip-path=\"url(#p46b6201c3a)\" style=\"fill: #1f77b4; fill-opacity: 0.5; stroke: #000000; stroke-width: 0.444732; stroke-linejoin: miter\"/>\n   </g>\n   <g id=\"patch_5\">\n    <path d=\"M 72.092997 288.430125 \nL 76.54032 288.430125 \nL 76.54032 275.569927 \nL 72.092997 275.569927 \nz\n\" clip-path=\"url(#p46b6201c3a)\" style=\"fill: #1f77b4; fill-opacity: 0.5; stroke: #000000; stroke-width: 0.444732; stroke-linejoin: miter\"/>\n   </g>\n   <g id=\"patch_6\">\n    <path d=\"M 76.54032 288.430125 \nL 80.987642 288.430125 \nL 80.987642 264.278046 \nL 76.54032 264.278046 \nz\n\" clip-path=\"url(#p46b6201c3a)\" style=\"fill: #1f77b4; fill-opacity: 0.5; stroke: #000000; stroke-width: 0.444732; stroke-linejoin: miter\"/>\n   </g>\n   <g id=\"patch_7\">\n    <path d=\"M 80.987642 288.430125 \nL 85.434965 288.430125 \nL 85.434965 260.200422 \nL 80.987642 260.200422 \nz\n\" clip-path=\"url(#p46b6201c3a)\" style=\"fill: #1f77b4; fill-opacity: 0.5; stroke: #000000; stroke-width: 0.444732; stroke-linejoin: miter\"/>\n   </g>\n   <g id=\"patch_8\">\n    <path d=\"M 85.434965 288.430125 \nL 89.882288 288.430125 \nL 89.882288 245.771907 \nL 85.434965 245.771907 \nz\n\" clip-path=\"url(#p46b6201c3a)\" style=\"fill: #1f77b4; fill-opacity: 0.5; stroke: #000000; stroke-width: 0.444732; stroke-linejoin: miter\"/>\n   </g>\n   <g id=\"patch_9\">\n    <path d=\"M 89.882288 288.430125 \nL 94.32961 288.430125 \nL 94.32961 213.778244 \nL 89.882288 213.778244 \nz\n\" clip-path=\"url(#p46b6201c3a)\" style=\"fill: #1f77b4; fill-opacity: 0.5; stroke: #000000; stroke-width: 0.444732; stroke-linejoin: miter\"/>\n   </g>\n   <g id=\"patch_10\">\n    <path d=\"M 94.32961 288.430125 \nL 98.776933 288.430125 \nL 98.776933 138.812699 \nL 94.32961 138.812699 \nz\n\" clip-path=\"url(#p46b6201c3a)\" style=\"fill: #1f77b4; fill-opacity: 0.5; stroke: #000000; stroke-width: 0.444732; stroke-linejoin: miter\"/>\n   </g>\n   <g id=\"patch_11\">\n    <path d=\"M 98.776933 288.430125 \nL 103.224255 288.430125 \nL 103.224255 44.086363 \nL 98.776933 44.086363 \nz\n\" clip-path=\"url(#p46b6201c3a)\" style=\"fill: #1f77b4; fill-opacity: 0.5; stroke: #000000; stroke-width: 0.444732; stroke-linejoin: miter\"/>\n   </g>\n   <g id=\"patch_12\">\n    <path d=\"M 103.224255 288.430125 \nL 107.671578 288.430125 \nL 107.671578 39.381412 \nL 103.224255 39.381412 \nz\n\" clip-path=\"url(#p46b6201c3a)\" style=\"fill: #1f77b4; fill-opacity: 0.5; stroke: #000000; stroke-width: 0.444732; stroke-linejoin: miter\"/>\n   </g>\n   <g id=\"patch_13\">\n    <path d=\"M 107.671578 288.430125 \nL 112.1189 288.430125 \nL 112.1189 34.990125 \nL 107.671578 34.990125 \nz\n\" clip-path=\"url(#p46b6201c3a)\" style=\"fill: #1f77b4; fill-opacity: 0.5; stroke: #000000; stroke-width: 0.444732; stroke-linejoin: miter\"/>\n   </g>\n   <g id=\"patch_14\">\n    <path d=\"M 112.1189 288.430125 \nL 116.566223 288.430125 \nL 116.566223 58.201214 \nL 112.1189 58.201214 \nz\n\" clip-path=\"url(#p46b6201c3a)\" style=\"fill: #1f77b4; fill-opacity: 0.5; stroke: #000000; stroke-width: 0.444732; stroke-linejoin: miter\"/>\n   </g>\n   <g id=\"patch_15\">\n    <path d=\"M 116.566223 288.430125 \nL 121.013545 288.430125 \nL 121.013545 94.899828 \nL 116.566223 94.899828 \nz\n\" clip-path=\"url(#p46b6201c3a)\" style=\"fill: #1f77b4; fill-opacity: 0.5; stroke: #000000; stroke-width: 0.444732; stroke-linejoin: miter\"/>\n   </g>\n   <g id=\"patch_16\">\n    <path d=\"M 121.013545 288.430125 \nL 125.460868 288.430125 \nL 125.460868 111.83765 \nL 121.013545 111.83765 \nz\n\" clip-path=\"url(#p46b6201c3a)\" style=\"fill: #1f77b4; fill-opacity: 0.5; stroke: #000000; stroke-width: 0.444732; stroke-linejoin: miter\"/>\n   </g>\n   <g id=\"patch_17\">\n    <path d=\"M 125.460868 288.430125 \nL 129.90819 288.430125 \nL 129.90819 149.477254 \nL 125.460868 149.477254 \nz\n\" clip-path=\"url(#p46b6201c3a)\" style=\"fill: #1f77b4; fill-opacity: 0.5; stroke: #000000; stroke-width: 0.444732; stroke-linejoin: miter\"/>\n   </g>\n   <g id=\"patch_18\">\n    <path d=\"M 129.90819 288.430125 \nL 134.355513 288.430125 \nL 134.355513 173.002006 \nL 129.90819 173.002006 \nz\n\" clip-path=\"url(#p46b6201c3a)\" style=\"fill: #1f77b4; fill-opacity: 0.5; stroke: #000000; stroke-width: 0.444732; stroke-linejoin: miter\"/>\n   </g>\n   <g id=\"patch_19\">\n    <path d=\"M 134.355513 288.430125 \nL 138.802835 288.430125 \nL 138.802835 192.135472 \nL 134.355513 192.135472 \nz\n\" clip-path=\"url(#p46b6201c3a)\" style=\"fill: #1f77b4; fill-opacity: 0.5; stroke: #000000; stroke-width: 0.444732; stroke-linejoin: miter\"/>\n   </g>\n   <g id=\"patch_20\">\n    <path d=\"M 138.802835 288.430125 \nL 143.250158 288.430125 \nL 143.250158 213.150917 \nL 138.802835 213.150917 \nz\n\" clip-path=\"url(#p46b6201c3a)\" style=\"fill: #1f77b4; fill-opacity: 0.5; stroke: #000000; stroke-width: 0.444732; stroke-linejoin: miter\"/>\n   </g>\n   <g id=\"patch_21\">\n    <path d=\"M 143.250158 288.430125 \nL 147.697481 288.430125 \nL 147.697481 222.247155 \nL 143.250158 222.247155 \nz\n\" clip-path=\"url(#p46b6201c3a)\" style=\"fill: #1f77b4; fill-opacity: 0.5; stroke: #000000; stroke-width: 0.444732; stroke-linejoin: miter\"/>\n   </g>\n   <g id=\"patch_22\">\n    <path d=\"M 147.697481 288.430125 \nL 152.144803 288.430125 \nL 152.144803 233.225373 \nL 147.697481 233.225373 \nz\n\" clip-path=\"url(#p46b6201c3a)\" style=\"fill: #1f77b4; fill-opacity: 0.5; stroke: #000000; stroke-width: 0.444732; stroke-linejoin: miter\"/>\n   </g>\n   <g id=\"patch_23\">\n    <path d=\"M 152.144803 288.430125 \nL 156.592126 288.430125 \nL 156.592126 230.716066 \nL 152.144803 230.716066 \nz\n\" clip-path=\"url(#p46b6201c3a)\" style=\"fill: #1f77b4; fill-opacity: 0.5; stroke: #000000; stroke-width: 0.444732; stroke-linejoin: miter\"/>\n   </g>\n   <g id=\"patch_24\">\n    <path d=\"M 156.592126 288.430125 \nL 161.039448 288.430125 \nL 161.039448 244.517254 \nL 156.592126 244.517254 \nz\n\" clip-path=\"url(#p46b6201c3a)\" style=\"fill: #1f77b4; fill-opacity: 0.5; stroke: #000000; stroke-width: 0.444732; stroke-linejoin: miter\"/>\n   </g>\n   <g id=\"patch_25\">\n    <path d=\"M 161.039448 288.430125 \nL 165.486771 288.430125 \nL 165.486771 247.967551 \nL 161.039448 247.967551 \nz\n\" clip-path=\"url(#p46b6201c3a)\" style=\"fill: #1f77b4; fill-opacity: 0.5; stroke: #000000; stroke-width: 0.444732; stroke-linejoin: miter\"/>\n   </g>\n   <g id=\"patch_26\">\n    <path d=\"M 165.486771 288.430125 \nL 169.934093 288.430125 \nL 169.934093 255.495472 \nL 165.486771 255.495472 \nz\n\" clip-path=\"url(#p46b6201c3a)\" style=\"fill: #1f77b4; fill-opacity: 0.5; stroke: #000000; stroke-width: 0.444732; stroke-linejoin: miter\"/>\n   </g>\n   <g id=\"patch_27\">\n    <path d=\"M 169.934093 288.430125 \nL 174.381416 288.430125 \nL 174.381416 252.986165 \nL 169.934093 252.986165 \nz\n\" clip-path=\"url(#p46b6201c3a)\" style=\"fill: #1f77b4; fill-opacity: 0.5; stroke: #000000; stroke-width: 0.444732; stroke-linejoin: miter\"/>\n   </g>\n   <g id=\"patch_28\">\n    <path d=\"M 174.381416 288.430125 \nL 178.828738 288.430125 \nL 178.828738 267.414679 \nL 174.381416 267.414679 \nz\n\" clip-path=\"url(#p46b6201c3a)\" style=\"fill: #1f77b4; fill-opacity: 0.5; stroke: #000000; stroke-width: 0.444732; stroke-linejoin: miter\"/>\n   </g>\n   <g id=\"patch_29\">\n    <path d=\"M 178.828738 288.430125 \nL 183.276061 288.430125 \nL 183.276061 264.591709 \nL 178.828738 264.591709 \nz\n\" clip-path=\"url(#p46b6201c3a)\" style=\"fill: #1f77b4; fill-opacity: 0.5; stroke: #000000; stroke-width: 0.444732; stroke-linejoin: miter\"/>\n   </g>\n   <g id=\"patch_30\">\n    <path d=\"M 183.276061 288.430125 \nL 187.723383 288.430125 \nL 187.723383 261.141412 \nL 183.276061 261.141412 \nz\n\" clip-path=\"url(#p46b6201c3a)\" style=\"fill: #1f77b4; fill-opacity: 0.5; stroke: #000000; stroke-width: 0.444732; stroke-linejoin: miter\"/>\n   </g>\n   <g id=\"patch_31\">\n    <path d=\"M 187.723383 288.430125 \nL 192.170706 288.430125 \nL 192.170706 268.982996 \nL 187.723383 268.982996 \nz\n\" clip-path=\"url(#p46b6201c3a)\" style=\"fill: #1f77b4; fill-opacity: 0.5; stroke: #000000; stroke-width: 0.444732; stroke-linejoin: miter\"/>\n   </g>\n   <g id=\"patch_32\">\n    <path d=\"M 192.170706 288.430125 \nL 196.618028 288.430125 \nL 196.618028 263.650719 \nL 192.170706 263.650719 \nz\n\" clip-path=\"url(#p46b6201c3a)\" style=\"fill: #1f77b4; fill-opacity: 0.5; stroke: #000000; stroke-width: 0.444732; stroke-linejoin: miter\"/>\n   </g>\n   <g id=\"patch_33\">\n    <path d=\"M 196.618028 288.430125 \nL 201.065351 288.430125 \nL 201.065351 268.35567 \nL 196.618028 268.35567 \nz\n\" clip-path=\"url(#p46b6201c3a)\" style=\"fill: #1f77b4; fill-opacity: 0.5; stroke: #000000; stroke-width: 0.444732; stroke-linejoin: miter\"/>\n   </g>\n   <g id=\"patch_34\">\n    <path d=\"M 201.065351 288.430125 \nL 205.512674 288.430125 \nL 205.512674 266.787353 \nL 201.065351 266.787353 \nz\n\" clip-path=\"url(#p46b6201c3a)\" style=\"fill: #1f77b4; fill-opacity: 0.5; stroke: #000000; stroke-width: 0.444732; stroke-linejoin: miter\"/>\n   </g>\n   <g id=\"patch_35\">\n    <path d=\"M 205.512674 288.430125 \nL 209.959996 288.430125 \nL 209.959996 264.905373 \nL 205.512674 264.905373 \nz\n\" clip-path=\"url(#p46b6201c3a)\" style=\"fill: #1f77b4; fill-opacity: 0.5; stroke: #000000; stroke-width: 0.444732; stroke-linejoin: miter\"/>\n   </g>\n   <g id=\"patch_36\">\n    <path d=\"M 209.959996 288.430125 \nL 214.407319 288.430125 \nL 214.407319 258.632105 \nL 209.959996 258.632105 \nz\n\" clip-path=\"url(#p46b6201c3a)\" style=\"fill: #1f77b4; fill-opacity: 0.5; stroke: #000000; stroke-width: 0.444732; stroke-linejoin: miter\"/>\n   </g>\n   <g id=\"patch_37\">\n    <path d=\"M 214.407319 288.430125 \nL 218.854641 288.430125 \nL 218.854641 253.613491 \nL 214.407319 253.613491 \nz\n\" clip-path=\"url(#p46b6201c3a)\" style=\"fill: #1f77b4; fill-opacity: 0.5; stroke: #000000; stroke-width: 0.444732; stroke-linejoin: miter\"/>\n   </g>\n   <g id=\"patch_38\">\n    <path d=\"M 218.854641 288.430125 \nL 223.301964 288.430125 \nL 223.301964 258.632105 \nL 218.854641 258.632105 \nz\n\" clip-path=\"url(#p46b6201c3a)\" style=\"fill: #1f77b4; fill-opacity: 0.5; stroke: #000000; stroke-width: 0.444732; stroke-linejoin: miter\"/>\n   </g>\n   <g id=\"patch_39\">\n    <path d=\"M 223.301964 288.430125 \nL 227.749286 288.430125 \nL 227.749286 268.042006 \nL 223.301964 268.042006 \nz\n\" clip-path=\"url(#p46b6201c3a)\" style=\"fill: #1f77b4; fill-opacity: 0.5; stroke: #000000; stroke-width: 0.444732; stroke-linejoin: miter\"/>\n   </g>\n   <g id=\"patch_40\">\n    <path d=\"M 227.749286 288.430125 \nL 232.196609 288.430125 \nL 232.196609 275.88359 \nL 227.749286 275.88359 \nz\n\" clip-path=\"url(#p46b6201c3a)\" style=\"fill: #1f77b4; fill-opacity: 0.5; stroke: #000000; stroke-width: 0.444732; stroke-linejoin: miter\"/>\n   </g>\n   <g id=\"patch_41\">\n    <path d=\"M 232.196609 288.430125 \nL 236.643931 288.430125 \nL 236.643931 275.569927 \nL 232.196609 275.569927 \nz\n\" clip-path=\"url(#p46b6201c3a)\" style=\"fill: #1f77b4; fill-opacity: 0.5; stroke: #000000; stroke-width: 0.444732; stroke-linejoin: miter\"/>\n   </g>\n   <g id=\"patch_42\">\n    <path d=\"M 236.643931 288.430125 \nL 241.091254 288.430125 \nL 241.091254 276.197254 \nL 236.643931 276.197254 \nz\n\" clip-path=\"url(#p46b6201c3a)\" style=\"fill: #1f77b4; fill-opacity: 0.5; stroke: #000000; stroke-width: 0.444732; stroke-linejoin: miter\"/>\n   </g>\n   <g id=\"patch_43\">\n    <path d=\"M 241.091254 288.430125 \nL 245.538576 288.430125 \nL 245.538576 275.88359 \nL 241.091254 275.88359 \nz\n\" clip-path=\"url(#p46b6201c3a)\" style=\"fill: #1f77b4; fill-opacity: 0.5; stroke: #000000; stroke-width: 0.444732; stroke-linejoin: miter\"/>\n   </g>\n   <g id=\"patch_44\">\n    <path d=\"M 245.538576 288.430125 \nL 249.985899 288.430125 \nL 249.985899 277.765571 \nL 245.538576 277.765571 \nz\n\" clip-path=\"url(#p46b6201c3a)\" style=\"fill: #1f77b4; fill-opacity: 0.5; stroke: #000000; stroke-width: 0.444732; stroke-linejoin: miter\"/>\n   </g>\n   <g id=\"patch_45\">\n    <path d=\"M 249.985899 288.430125 \nL 254.433222 288.430125 \nL 254.433222 275.569927 \nL 249.985899 275.569927 \nz\n\" clip-path=\"url(#p46b6201c3a)\" style=\"fill: #1f77b4; fill-opacity: 0.5; stroke: #000000; stroke-width: 0.444732; stroke-linejoin: miter\"/>\n   </g>\n   <g id=\"patch_46\">\n    <path d=\"M 254.433222 288.430125 \nL 258.880544 288.430125 \nL 258.880544 281.215868 \nL 254.433222 281.215868 \nz\n\" clip-path=\"url(#p46b6201c3a)\" style=\"fill: #1f77b4; fill-opacity: 0.5; stroke: #000000; stroke-width: 0.444732; stroke-linejoin: miter\"/>\n   </g>\n   <g id=\"patch_47\">\n    <path d=\"M 258.880544 288.430125 \nL 263.327867 288.430125 \nL 263.327867 275.88359 \nL 258.880544 275.88359 \nz\n\" clip-path=\"url(#p46b6201c3a)\" style=\"fill: #1f77b4; fill-opacity: 0.5; stroke: #000000; stroke-width: 0.444732; stroke-linejoin: miter\"/>\n   </g>\n   <g id=\"patch_48\">\n    <path d=\"M 263.327867 288.430125 \nL 267.775189 288.430125 \nL 267.775189 279.020224 \nL 263.327867 279.020224 \nz\n\" clip-path=\"url(#p46b6201c3a)\" style=\"fill: #1f77b4; fill-opacity: 0.5; stroke: #000000; stroke-width: 0.444732; stroke-linejoin: miter\"/>\n   </g>\n   <g id=\"patch_49\">\n    <path d=\"M 267.775189 288.430125 \nL 272.222512 288.430125 \nL 272.222512 278.079234 \nL 267.775189 278.079234 \nz\n\" clip-path=\"url(#p46b6201c3a)\" style=\"fill: #1f77b4; fill-opacity: 0.5; stroke: #000000; stroke-width: 0.444732; stroke-linejoin: miter\"/>\n   </g>\n   <g id=\"patch_50\">\n    <path d=\"M 272.222512 288.430125 \nL 276.669834 288.430125 \nL 276.669834 279.961214 \nL 272.222512 279.961214 \nz\n\" clip-path=\"url(#p46b6201c3a)\" style=\"fill: #1f77b4; fill-opacity: 0.5; stroke: #000000; stroke-width: 0.444732; stroke-linejoin: miter\"/>\n   </g>\n   <g id=\"patch_51\">\n    <path d=\"M 276.669834 288.430125 \nL 281.117157 288.430125 \nL 281.117157 281.529531 \nL 276.669834 281.529531 \nz\n\" clip-path=\"url(#p46b6201c3a)\" style=\"fill: #1f77b4; fill-opacity: 0.5; stroke: #000000; stroke-width: 0.444732; stroke-linejoin: miter\"/>\n   </g>\n   <g id=\"patch_52\">\n    <path d=\"M 281.117157 288.430125 \nL 285.564479 288.430125 \nL 285.564479 279.020224 \nL 281.117157 279.020224 \nz\n\" clip-path=\"url(#p46b6201c3a)\" style=\"fill: #1f77b4; fill-opacity: 0.5; stroke: #000000; stroke-width: 0.444732; stroke-linejoin: miter\"/>\n   </g>\n   <g id=\"patch_53\">\n    <path d=\"M 285.564479 288.430125 \nL 290.011802 288.430125 \nL 290.011802 281.215868 \nL 285.564479 281.215868 \nz\n\" clip-path=\"url(#p46b6201c3a)\" style=\"fill: #1f77b4; fill-opacity: 0.5; stroke: #000000; stroke-width: 0.444732; stroke-linejoin: miter\"/>\n   </g>\n   <g id=\"patch_54\">\n    <path d=\"M 290.011802 288.430125 \nL 294.459124 288.430125 \nL 294.459124 280.588541 \nL 290.011802 280.588541 \nz\n\" clip-path=\"url(#p46b6201c3a)\" style=\"fill: #1f77b4; fill-opacity: 0.5; stroke: #000000; stroke-width: 0.444732; stroke-linejoin: miter\"/>\n   </g>\n   <g id=\"patch_55\">\n    <path d=\"M 294.459124 288.430125 \nL 298.906447 288.430125 \nL 298.906447 281.843194 \nL 294.459124 281.843194 \nz\n\" clip-path=\"url(#p46b6201c3a)\" style=\"fill: #1f77b4; fill-opacity: 0.5; stroke: #000000; stroke-width: 0.444732; stroke-linejoin: miter\"/>\n   </g>\n   <g id=\"patch_56\">\n    <path d=\"M 298.906447 288.430125 \nL 303.353769 288.430125 \nL 303.353769 281.529531 \nL 298.906447 281.529531 \nz\n\" clip-path=\"url(#p46b6201c3a)\" style=\"fill: #1f77b4; fill-opacity: 0.5; stroke: #000000; stroke-width: 0.444732; stroke-linejoin: miter\"/>\n   </g>\n   <g id=\"patch_57\">\n    <path d=\"M 303.353769 288.430125 \nL 307.801092 288.430125 \nL 307.801092 281.529531 \nL 303.353769 281.529531 \nz\n\" clip-path=\"url(#p46b6201c3a)\" style=\"fill: #1f77b4; fill-opacity: 0.5; stroke: #000000; stroke-width: 0.444732; stroke-linejoin: miter\"/>\n   </g>\n   <g id=\"patch_58\">\n    <path d=\"M 307.801092 288.430125 \nL 312.248415 288.430125 \nL 312.248415 284.979828 \nL 307.801092 284.979828 \nz\n\" clip-path=\"url(#p46b6201c3a)\" style=\"fill: #1f77b4; fill-opacity: 0.5; stroke: #000000; stroke-width: 0.444732; stroke-linejoin: miter\"/>\n   </g>\n   <g id=\"patch_59\">\n    <path d=\"M 312.248415 288.430125 \nL 316.695737 288.430125 \nL 316.695737 281.215868 \nL 312.248415 281.215868 \nz\n\" clip-path=\"url(#p46b6201c3a)\" style=\"fill: #1f77b4; fill-opacity: 0.5; stroke: #000000; stroke-width: 0.444732; stroke-linejoin: miter\"/>\n   </g>\n   <g id=\"patch_60\">\n    <path d=\"M 316.695737 288.430125 \nL 321.14306 288.430125 \nL 321.14306 284.038838 \nL 316.695737 284.038838 \nz\n\" clip-path=\"url(#p46b6201c3a)\" style=\"fill: #1f77b4; fill-opacity: 0.5; stroke: #000000; stroke-width: 0.444732; stroke-linejoin: miter\"/>\n   </g>\n   <g id=\"patch_61\">\n    <path d=\"M 321.14306 288.430125 \nL 325.590382 288.430125 \nL 325.590382 282.156858 \nL 321.14306 282.156858 \nz\n\" clip-path=\"url(#p46b6201c3a)\" style=\"fill: #1f77b4; fill-opacity: 0.5; stroke: #000000; stroke-width: 0.444732; stroke-linejoin: miter\"/>\n   </g>\n   <g id=\"patch_62\">\n    <path d=\"M 325.590382 288.430125 \nL 330.037705 288.430125 \nL 330.037705 283.097848 \nL 325.590382 283.097848 \nz\n\" clip-path=\"url(#p46b6201c3a)\" style=\"fill: #1f77b4; fill-opacity: 0.5; stroke: #000000; stroke-width: 0.444732; stroke-linejoin: miter\"/>\n   </g>\n   <g id=\"patch_63\">\n    <path d=\"M 330.037705 288.430125 \nL 334.485027 288.430125 \nL 334.485027 282.784184 \nL 330.037705 282.784184 \nz\n\" clip-path=\"url(#p46b6201c3a)\" style=\"fill: #1f77b4; fill-opacity: 0.5; stroke: #000000; stroke-width: 0.444732; stroke-linejoin: miter\"/>\n   </g>\n   <g id=\"patch_64\">\n    <path d=\"M 334.485027 288.430125 \nL 338.93235 288.430125 \nL 338.93235 283.725175 \nL 334.485027 283.725175 \nz\n\" clip-path=\"url(#p46b6201c3a)\" style=\"fill: #1f77b4; fill-opacity: 0.5; stroke: #000000; stroke-width: 0.444732; stroke-linejoin: miter\"/>\n   </g>\n   <g id=\"patch_65\">\n    <path d=\"M 338.93235 288.430125 \nL 343.379672 288.430125 \nL 343.379672 282.470521 \nL 338.93235 282.470521 \nz\n\" clip-path=\"url(#p46b6201c3a)\" style=\"fill: #1f77b4; fill-opacity: 0.5; stroke: #000000; stroke-width: 0.444732; stroke-linejoin: miter\"/>\n   </g>\n   <g id=\"patch_66\">\n    <path d=\"M 343.379672 288.430125 \nL 347.826995 288.430125 \nL 347.826995 283.097848 \nL 343.379672 283.097848 \nz\n\" clip-path=\"url(#p46b6201c3a)\" style=\"fill: #1f77b4; fill-opacity: 0.5; stroke: #000000; stroke-width: 0.444732; stroke-linejoin: miter\"/>\n   </g>\n   <g id=\"patch_67\">\n    <path d=\"M 347.826995 288.430125 \nL 352.274317 288.430125 \nL 352.274317 282.784184 \nL 347.826995 282.784184 \nz\n\" clip-path=\"url(#p46b6201c3a)\" style=\"fill: #1f77b4; fill-opacity: 0.5; stroke: #000000; stroke-width: 0.444732; stroke-linejoin: miter\"/>\n   </g>\n   <g id=\"patch_68\">\n    <path d=\"M 352.274317 288.430125 \nL 356.72164 288.430125 \nL 356.72164 284.666165 \nL 352.274317 284.666165 \nz\n\" clip-path=\"url(#p46b6201c3a)\" style=\"fill: #1f77b4; fill-opacity: 0.5; stroke: #000000; stroke-width: 0.444732; stroke-linejoin: miter\"/>\n   </g>\n   <g id=\"patch_69\">\n    <path d=\"M 356.72164 288.430125 \nL 361.168962 288.430125 \nL 361.168962 282.784184 \nL 356.72164 282.784184 \nz\n\" clip-path=\"url(#p46b6201c3a)\" style=\"fill: #1f77b4; fill-opacity: 0.5; stroke: #000000; stroke-width: 0.444732; stroke-linejoin: miter\"/>\n   </g>\n   <g id=\"patch_70\">\n    <path d=\"M 361.168962 288.430125 \nL 365.616285 288.430125 \nL 365.616285 286.234481 \nL 361.168962 286.234481 \nz\n\" clip-path=\"url(#p46b6201c3a)\" style=\"fill: #1f77b4; fill-opacity: 0.5; stroke: #000000; stroke-width: 0.444732; stroke-linejoin: miter\"/>\n   </g>\n   <g id=\"patch_71\">\n    <path d=\"M 365.616285 288.430125 \nL 370.063608 288.430125 \nL 370.063608 282.156858 \nL 365.616285 282.156858 \nz\n\" clip-path=\"url(#p46b6201c3a)\" style=\"fill: #1f77b4; fill-opacity: 0.5; stroke: #000000; stroke-width: 0.444732; stroke-linejoin: miter\"/>\n   </g>\n   <g id=\"patch_72\">\n    <path d=\"M 370.063608 288.430125 \nL 374.51093 288.430125 \nL 374.51093 284.352501 \nL 370.063608 284.352501 \nz\n\" clip-path=\"url(#p46b6201c3a)\" style=\"fill: #1f77b4; fill-opacity: 0.5; stroke: #000000; stroke-width: 0.444732; stroke-linejoin: miter\"/>\n   </g>\n   <g id=\"patch_73\">\n    <path d=\"M 374.51093 288.430125 \nL 378.958253 288.430125 \nL 378.958253 285.920818 \nL 374.51093 285.920818 \nz\n\" clip-path=\"url(#p46b6201c3a)\" style=\"fill: #1f77b4; fill-opacity: 0.5; stroke: #000000; stroke-width: 0.444732; stroke-linejoin: miter\"/>\n   </g>\n   <g id=\"patch_74\">\n    <path d=\"M 378.958253 288.430125 \nL 383.405575 288.430125 \nL 383.405575 284.038838 \nL 378.958253 284.038838 \nz\n\" clip-path=\"url(#p46b6201c3a)\" style=\"fill: #1f77b4; fill-opacity: 0.5; stroke: #000000; stroke-width: 0.444732; stroke-linejoin: miter\"/>\n   </g>\n   <g id=\"patch_75\">\n    <path d=\"M 383.405575 288.430125 \nL 387.852898 288.430125 \nL 387.852898 284.352501 \nL 383.405575 284.352501 \nz\n\" clip-path=\"url(#p46b6201c3a)\" style=\"fill: #1f77b4; fill-opacity: 0.5; stroke: #000000; stroke-width: 0.444732; stroke-linejoin: miter\"/>\n   </g>\n   <g id=\"matplotlib.axis_1\">\n    <g id=\"xtick_1\">\n     <g id=\"line2d_1\">\n      <path d=\"M 61.894519 288.430125 \nL 61.894519 22.318125 \n\" clip-path=\"url(#p46b6201c3a)\" style=\"fill: none; stroke: #b0b0b0; stroke-width: 0.8; stroke-linecap: square\"/>\n     </g>\n     <g id=\"line2d_2\">\n      <defs>\n       <path id=\"mf48a8611a5\" d=\"M 0 0 \nL 0 3.5 \n\" style=\"stroke: #000000; stroke-width: 0.8\"/>\n      </defs>\n      <g>\n       <use xlink:href=\"#mf48a8611a5\" x=\"61.894519\" y=\"288.430125\" style=\"stroke: #000000; stroke-width: 0.8\"/>\n      </g>\n     </g>\n     <g id=\"text_1\">\n      <!-- 0 -->\n      <g transform=\"translate(58.713269 303.028562) scale(0.1 -0.1)\">\n       <defs>\n        <path id=\"DejaVuSans-30\" d=\"M 2034 4250 \nQ 1547 4250 1301 3770 \nQ 1056 3291 1056 2328 \nQ 1056 1369 1301 889 \nQ 1547 409 2034 409 \nQ 2525 409 2770 889 \nQ 3016 1369 3016 2328 \nQ 3016 3291 2770 3770 \nQ 2525 4250 2034 4250 \nz\nM 2034 4750 \nQ 2819 4750 3233 4129 \nQ 3647 3509 3647 2328 \nQ 3647 1150 3233 529 \nQ 2819 -91 2034 -91 \nQ 1250 -91 836 529 \nQ 422 1150 422 2328 \nQ 422 3509 836 4129 \nQ 1250 4750 2034 4750 \nz\n\" transform=\"scale(0.015625)\"/>\n       </defs>\n       <use xlink:href=\"#DejaVuSans-30\"/>\n      </g>\n     </g>\n    </g>\n    <g id=\"xtick_2\">\n     <g id=\"line2d_3\">\n      <path d=\"M 102.639316 288.430125 \nL 102.639316 22.318125 \n\" clip-path=\"url(#p46b6201c3a)\" style=\"fill: none; stroke: #b0b0b0; stroke-width: 0.8; stroke-linecap: square\"/>\n     </g>\n     <g id=\"line2d_4\">\n      <g>\n       <use xlink:href=\"#mf48a8611a5\" x=\"102.639316\" y=\"288.430125\" style=\"stroke: #000000; stroke-width: 0.8\"/>\n      </g>\n     </g>\n     <g id=\"text_2\">\n      <!-- 250 -->\n      <g transform=\"translate(93.095566 303.028562) scale(0.1 -0.1)\">\n       <defs>\n        <path id=\"DejaVuSans-32\" d=\"M 1228 531 \nL 3431 531 \nL 3431 0 \nL 469 0 \nL 469 531 \nQ 828 903 1448 1529 \nQ 2069 2156 2228 2338 \nQ 2531 2678 2651 2914 \nQ 2772 3150 2772 3378 \nQ 2772 3750 2511 3984 \nQ 2250 4219 1831 4219 \nQ 1534 4219 1204 4116 \nQ 875 4013 500 3803 \nL 500 4441 \nQ 881 4594 1212 4672 \nQ 1544 4750 1819 4750 \nQ 2544 4750 2975 4387 \nQ 3406 4025 3406 3419 \nQ 3406 3131 3298 2873 \nQ 3191 2616 2906 2266 \nQ 2828 2175 2409 1742 \nQ 1991 1309 1228 531 \nz\n\" transform=\"scale(0.015625)\"/>\n        <path id=\"DejaVuSans-35\" d=\"M 691 4666 \nL 3169 4666 \nL 3169 4134 \nL 1269 4134 \nL 1269 2991 \nQ 1406 3038 1543 3061 \nQ 1681 3084 1819 3084 \nQ 2600 3084 3056 2656 \nQ 3513 2228 3513 1497 \nQ 3513 744 3044 326 \nQ 2575 -91 1722 -91 \nQ 1428 -91 1123 -41 \nQ 819 9 494 109 \nL 494 744 \nQ 775 591 1075 516 \nQ 1375 441 1709 441 \nQ 2250 441 2565 725 \nQ 2881 1009 2881 1497 \nQ 2881 1984 2565 2268 \nQ 2250 2553 1709 2553 \nQ 1456 2553 1204 2497 \nQ 953 2441 691 2322 \nL 691 4666 \nz\n\" transform=\"scale(0.015625)\"/>\n       </defs>\n       <use xlink:href=\"#DejaVuSans-32\"/>\n       <use xlink:href=\"#DejaVuSans-35\" x=\"63.623047\"/>\n       <use xlink:href=\"#DejaVuSans-30\" x=\"127.246094\"/>\n      </g>\n     </g>\n    </g>\n    <g id=\"xtick_3\">\n     <g id=\"line2d_5\">\n      <path d=\"M 143.384113 288.430125 \nL 143.384113 22.318125 \n\" clip-path=\"url(#p46b6201c3a)\" style=\"fill: none; stroke: #b0b0b0; stroke-width: 0.8; stroke-linecap: square\"/>\n     </g>\n     <g id=\"line2d_6\">\n      <g>\n       <use xlink:href=\"#mf48a8611a5\" x=\"143.384113\" y=\"288.430125\" style=\"stroke: #000000; stroke-width: 0.8\"/>\n      </g>\n     </g>\n     <g id=\"text_3\">\n      <!-- 500 -->\n      <g transform=\"translate(133.840363 303.028562) scale(0.1 -0.1)\">\n       <use xlink:href=\"#DejaVuSans-35\"/>\n       <use xlink:href=\"#DejaVuSans-30\" x=\"63.623047\"/>\n       <use xlink:href=\"#DejaVuSans-30\" x=\"127.246094\"/>\n      </g>\n     </g>\n    </g>\n    <g id=\"xtick_4\">\n     <g id=\"line2d_7\">\n      <path d=\"M 184.128911 288.430125 \nL 184.128911 22.318125 \n\" clip-path=\"url(#p46b6201c3a)\" style=\"fill: none; stroke: #b0b0b0; stroke-width: 0.8; stroke-linecap: square\"/>\n     </g>\n     <g id=\"line2d_8\">\n      <g>\n       <use xlink:href=\"#mf48a8611a5\" x=\"184.128911\" y=\"288.430125\" style=\"stroke: #000000; stroke-width: 0.8\"/>\n      </g>\n     </g>\n     <g id=\"text_4\">\n      <!-- 750 -->\n      <g transform=\"translate(174.585161 303.028562) scale(0.1 -0.1)\">\n       <defs>\n        <path id=\"DejaVuSans-37\" d=\"M 525 4666 \nL 3525 4666 \nL 3525 4397 \nL 1831 0 \nL 1172 0 \nL 2766 4134 \nL 525 4134 \nL 525 4666 \nz\n\" transform=\"scale(0.015625)\"/>\n       </defs>\n       <use xlink:href=\"#DejaVuSans-37\"/>\n       <use xlink:href=\"#DejaVuSans-35\" x=\"63.623047\"/>\n       <use xlink:href=\"#DejaVuSans-30\" x=\"127.246094\"/>\n      </g>\n     </g>\n    </g>\n    <g id=\"xtick_5\">\n     <g id=\"line2d_9\">\n      <path d=\"M 224.873708 288.430125 \nL 224.873708 22.318125 \n\" clip-path=\"url(#p46b6201c3a)\" style=\"fill: none; stroke: #b0b0b0; stroke-width: 0.8; stroke-linecap: square\"/>\n     </g>\n     <g id=\"line2d_10\">\n      <g>\n       <use xlink:href=\"#mf48a8611a5\" x=\"224.873708\" y=\"288.430125\" style=\"stroke: #000000; stroke-width: 0.8\"/>\n      </g>\n     </g>\n     <g id=\"text_5\">\n      <!-- 1000 -->\n      <g transform=\"translate(212.148708 303.028562) scale(0.1 -0.1)\">\n       <defs>\n        <path id=\"DejaVuSans-31\" d=\"M 794 531 \nL 1825 531 \nL 1825 4091 \nL 703 3866 \nL 703 4441 \nL 1819 4666 \nL 2450 4666 \nL 2450 531 \nL 3481 531 \nL 3481 0 \nL 794 0 \nL 794 531 \nz\n\" transform=\"scale(0.015625)\"/>\n       </defs>\n       <use xlink:href=\"#DejaVuSans-31\"/>\n       <use xlink:href=\"#DejaVuSans-30\" x=\"63.623047\"/>\n       <use xlink:href=\"#DejaVuSans-30\" x=\"127.246094\"/>\n       <use xlink:href=\"#DejaVuSans-30\" x=\"190.869141\"/>\n      </g>\n     </g>\n    </g>\n    <g id=\"xtick_6\">\n     <g id=\"line2d_11\">\n      <path d=\"M 265.618506 288.430125 \nL 265.618506 22.318125 \n\" clip-path=\"url(#p46b6201c3a)\" style=\"fill: none; stroke: #b0b0b0; stroke-width: 0.8; stroke-linecap: square\"/>\n     </g>\n     <g id=\"line2d_12\">\n      <g>\n       <use xlink:href=\"#mf48a8611a5\" x=\"265.618506\" y=\"288.430125\" style=\"stroke: #000000; stroke-width: 0.8\"/>\n      </g>\n     </g>\n     <g id=\"text_6\">\n      <!-- 1250 -->\n      <g transform=\"translate(252.893506 303.028562) scale(0.1 -0.1)\">\n       <use xlink:href=\"#DejaVuSans-31\"/>\n       <use xlink:href=\"#DejaVuSans-32\" x=\"63.623047\"/>\n       <use xlink:href=\"#DejaVuSans-35\" x=\"127.246094\"/>\n       <use xlink:href=\"#DejaVuSans-30\" x=\"190.869141\"/>\n      </g>\n     </g>\n    </g>\n    <g id=\"xtick_7\">\n     <g id=\"line2d_13\">\n      <path d=\"M 306.363303 288.430125 \nL 306.363303 22.318125 \n\" clip-path=\"url(#p46b6201c3a)\" style=\"fill: none; stroke: #b0b0b0; stroke-width: 0.8; stroke-linecap: square\"/>\n     </g>\n     <g id=\"line2d_14\">\n      <g>\n       <use xlink:href=\"#mf48a8611a5\" x=\"306.363303\" y=\"288.430125\" style=\"stroke: #000000; stroke-width: 0.8\"/>\n      </g>\n     </g>\n     <g id=\"text_7\">\n      <!-- 1500 -->\n      <g transform=\"translate(293.638303 303.028562) scale(0.1 -0.1)\">\n       <use xlink:href=\"#DejaVuSans-31\"/>\n       <use xlink:href=\"#DejaVuSans-35\" x=\"63.623047\"/>\n       <use xlink:href=\"#DejaVuSans-30\" x=\"127.246094\"/>\n       <use xlink:href=\"#DejaVuSans-30\" x=\"190.869141\"/>\n      </g>\n     </g>\n    </g>\n    <g id=\"xtick_8\">\n     <g id=\"line2d_15\">\n      <path d=\"M 347.1081 288.430125 \nL 347.1081 22.318125 \n\" clip-path=\"url(#p46b6201c3a)\" style=\"fill: none; stroke: #b0b0b0; stroke-width: 0.8; stroke-linecap: square\"/>\n     </g>\n     <g id=\"line2d_16\">\n      <g>\n       <use xlink:href=\"#mf48a8611a5\" x=\"347.1081\" y=\"288.430125\" style=\"stroke: #000000; stroke-width: 0.8\"/>\n      </g>\n     </g>\n     <g id=\"text_8\">\n      <!-- 1750 -->\n      <g transform=\"translate(334.3831 303.028562) scale(0.1 -0.1)\">\n       <use xlink:href=\"#DejaVuSans-31\"/>\n       <use xlink:href=\"#DejaVuSans-37\" x=\"63.623047\"/>\n       <use xlink:href=\"#DejaVuSans-35\" x=\"127.246094\"/>\n       <use xlink:href=\"#DejaVuSans-30\" x=\"190.869141\"/>\n      </g>\n     </g>\n    </g>\n    <g id=\"xtick_9\">\n     <g id=\"line2d_17\">\n      <path d=\"M 387.852898 288.430125 \nL 387.852898 22.318125 \n\" clip-path=\"url(#p46b6201c3a)\" style=\"fill: none; stroke: #b0b0b0; stroke-width: 0.8; stroke-linecap: square\"/>\n     </g>\n     <g id=\"line2d_18\">\n      <g>\n       <use xlink:href=\"#mf48a8611a5\" x=\"387.852898\" y=\"288.430125\" style=\"stroke: #000000; stroke-width: 0.8\"/>\n      </g>\n     </g>\n     <g id=\"text_9\">\n      <!-- 2000 -->\n      <g transform=\"translate(375.127898 303.028562) scale(0.1 -0.1)\">\n       <use xlink:href=\"#DejaVuSans-32\"/>\n       <use xlink:href=\"#DejaVuSans-30\" x=\"63.623047\"/>\n       <use xlink:href=\"#DejaVuSans-30\" x=\"127.246094\"/>\n       <use xlink:href=\"#DejaVuSans-30\" x=\"190.869141\"/>\n      </g>\n     </g>\n    </g>\n    <g id=\"text_10\">\n     <!-- length -->\n     <g transform=\"translate(209.588125 316.706687) scale(0.1 -0.1)\">\n      <defs>\n       <path id=\"DejaVuSans-6c\" d=\"M 603 4863 \nL 1178 4863 \nL 1178 0 \nL 603 0 \nL 603 4863 \nz\n\" transform=\"scale(0.015625)\"/>\n       <path id=\"DejaVuSans-65\" d=\"M 3597 1894 \nL 3597 1613 \nL 953 1613 \nQ 991 1019 1311 708 \nQ 1631 397 2203 397 \nQ 2534 397 2845 478 \nQ 3156 559 3463 722 \nL 3463 178 \nQ 3153 47 2828 -22 \nQ 2503 -91 2169 -91 \nQ 1331 -91 842 396 \nQ 353 884 353 1716 \nQ 353 2575 817 3079 \nQ 1281 3584 2069 3584 \nQ 2775 3584 3186 3129 \nQ 3597 2675 3597 1894 \nz\nM 3022 2063 \nQ 3016 2534 2758 2815 \nQ 2500 3097 2075 3097 \nQ 1594 3097 1305 2825 \nQ 1016 2553 972 2059 \nL 3022 2063 \nz\n\" transform=\"scale(0.015625)\"/>\n       <path id=\"DejaVuSans-6e\" d=\"M 3513 2113 \nL 3513 0 \nL 2938 0 \nL 2938 2094 \nQ 2938 2591 2744 2837 \nQ 2550 3084 2163 3084 \nQ 1697 3084 1428 2787 \nQ 1159 2491 1159 1978 \nL 1159 0 \nL 581 0 \nL 581 3500 \nL 1159 3500 \nL 1159 2956 \nQ 1366 3272 1645 3428 \nQ 1925 3584 2291 3584 \nQ 2894 3584 3203 3211 \nQ 3513 2838 3513 2113 \nz\n\" transform=\"scale(0.015625)\"/>\n       <path id=\"DejaVuSans-67\" d=\"M 2906 1791 \nQ 2906 2416 2648 2759 \nQ 2391 3103 1925 3103 \nQ 1463 3103 1205 2759 \nQ 947 2416 947 1791 \nQ 947 1169 1205 825 \nQ 1463 481 1925 481 \nQ 2391 481 2648 825 \nQ 2906 1169 2906 1791 \nz\nM 3481 434 \nQ 3481 -459 3084 -895 \nQ 2688 -1331 1869 -1331 \nQ 1566 -1331 1297 -1286 \nQ 1028 -1241 775 -1147 \nL 775 -588 \nQ 1028 -725 1275 -790 \nQ 1522 -856 1778 -856 \nQ 2344 -856 2625 -561 \nQ 2906 -266 2906 331 \nL 2906 616 \nQ 2728 306 2450 153 \nQ 2172 0 1784 0 \nQ 1141 0 747 490 \nQ 353 981 353 1791 \nQ 353 2603 747 3093 \nQ 1141 3584 1784 3584 \nQ 2172 3584 2450 3431 \nQ 2728 3278 2906 2969 \nL 2906 3500 \nL 3481 3500 \nL 3481 434 \nz\n\" transform=\"scale(0.015625)\"/>\n       <path id=\"DejaVuSans-74\" d=\"M 1172 4494 \nL 1172 3500 \nL 2356 3500 \nL 2356 3053 \nL 1172 3053 \nL 1172 1153 \nQ 1172 725 1289 603 \nQ 1406 481 1766 481 \nL 2356 481 \nL 2356 0 \nL 1766 0 \nQ 1100 0 847 248 \nQ 594 497 594 1153 \nL 594 3053 \nL 172 3053 \nL 172 3500 \nL 594 3500 \nL 594 4494 \nL 1172 4494 \nz\n\" transform=\"scale(0.015625)\"/>\n       <path id=\"DejaVuSans-68\" d=\"M 3513 2113 \nL 3513 0 \nL 2938 0 \nL 2938 2094 \nQ 2938 2591 2744 2837 \nQ 2550 3084 2163 3084 \nQ 1697 3084 1428 2787 \nQ 1159 2491 1159 1978 \nL 1159 0 \nL 581 0 \nL 581 4863 \nL 1159 4863 \nL 1159 2956 \nQ 1366 3272 1645 3428 \nQ 1925 3584 2291 3584 \nQ 2894 3584 3203 3211 \nQ 3513 2838 3513 2113 \nz\n\" transform=\"scale(0.015625)\"/>\n      </defs>\n      <use xlink:href=\"#DejaVuSans-6c\"/>\n      <use xlink:href=\"#DejaVuSans-65\" x=\"27.783203\"/>\n      <use xlink:href=\"#DejaVuSans-6e\" x=\"89.306641\"/>\n      <use xlink:href=\"#DejaVuSans-67\" x=\"152.685547\"/>\n      <use xlink:href=\"#DejaVuSans-74\" x=\"216.162109\"/>\n      <use xlink:href=\"#DejaVuSans-68\" x=\"255.371094\"/>\n     </g>\n    </g>\n   </g>\n   <g id=\"matplotlib.axis_2\">\n    <g id=\"ytick_1\">\n     <g id=\"line2d_19\">\n      <path d=\"M 46.965625 288.430125 \nL 404.085625 288.430125 \n\" clip-path=\"url(#p46b6201c3a)\" style=\"fill: none; stroke: #b0b0b0; stroke-width: 0.8; stroke-linecap: square\"/>\n     </g>\n     <g id=\"line2d_20\">\n      <defs>\n       <path id=\"m9a5b25ecb8\" d=\"M 0 0 \nL -3.5 0 \n\" style=\"stroke: #000000; stroke-width: 0.8\"/>\n      </defs>\n      <g>\n       <use xlink:href=\"#m9a5b25ecb8\" x=\"46.965625\" y=\"288.430125\" style=\"stroke: #000000; stroke-width: 0.8\"/>\n      </g>\n     </g>\n     <g id=\"text_11\">\n      <!-- 0 -->\n      <g transform=\"translate(33.603125 292.229344) scale(0.1 -0.1)\">\n       <use xlink:href=\"#DejaVuSans-30\"/>\n      </g>\n     </g>\n    </g>\n    <g id=\"ytick_2\">\n     <g id=\"line2d_21\">\n      <path d=\"M 46.965625 257.063788 \nL 404.085625 257.063788 \n\" clip-path=\"url(#p46b6201c3a)\" style=\"fill: none; stroke: #b0b0b0; stroke-width: 0.8; stroke-linecap: square\"/>\n     </g>\n     <g id=\"line2d_22\">\n      <g>\n       <use xlink:href=\"#m9a5b25ecb8\" x=\"46.965625\" y=\"257.063788\" style=\"stroke: #000000; stroke-width: 0.8\"/>\n      </g>\n     </g>\n     <g id=\"text_12\">\n      <!-- 100 -->\n      <g transform=\"translate(20.878125 260.863007) scale(0.1 -0.1)\">\n       <use xlink:href=\"#DejaVuSans-31\"/>\n       <use xlink:href=\"#DejaVuSans-30\" x=\"63.623047\"/>\n       <use xlink:href=\"#DejaVuSans-30\" x=\"127.246094\"/>\n      </g>\n     </g>\n    </g>\n    <g id=\"ytick_3\">\n     <g id=\"line2d_23\">\n      <path d=\"M 46.965625 225.697452 \nL 404.085625 225.697452 \n\" clip-path=\"url(#p46b6201c3a)\" style=\"fill: none; stroke: #b0b0b0; stroke-width: 0.8; stroke-linecap: square\"/>\n     </g>\n     <g id=\"line2d_24\">\n      <g>\n       <use xlink:href=\"#m9a5b25ecb8\" x=\"46.965625\" y=\"225.697452\" style=\"stroke: #000000; stroke-width: 0.8\"/>\n      </g>\n     </g>\n     <g id=\"text_13\">\n      <!-- 200 -->\n      <g transform=\"translate(20.878125 229.49667) scale(0.1 -0.1)\">\n       <use xlink:href=\"#DejaVuSans-32\"/>\n       <use xlink:href=\"#DejaVuSans-30\" x=\"63.623047\"/>\n       <use xlink:href=\"#DejaVuSans-30\" x=\"127.246094\"/>\n      </g>\n     </g>\n    </g>\n    <g id=\"ytick_4\">\n     <g id=\"line2d_25\">\n      <path d=\"M 46.965625 194.331115 \nL 404.085625 194.331115 \n\" clip-path=\"url(#p46b6201c3a)\" style=\"fill: none; stroke: #b0b0b0; stroke-width: 0.8; stroke-linecap: square\"/>\n     </g>\n     <g id=\"line2d_26\">\n      <g>\n       <use xlink:href=\"#m9a5b25ecb8\" x=\"46.965625\" y=\"194.331115\" style=\"stroke: #000000; stroke-width: 0.8\"/>\n      </g>\n     </g>\n     <g id=\"text_14\">\n      <!-- 300 -->\n      <g transform=\"translate(20.878125 198.130334) scale(0.1 -0.1)\">\n       <defs>\n        <path id=\"DejaVuSans-33\" d=\"M 2597 2516 \nQ 3050 2419 3304 2112 \nQ 3559 1806 3559 1356 \nQ 3559 666 3084 287 \nQ 2609 -91 1734 -91 \nQ 1441 -91 1130 -33 \nQ 819 25 488 141 \nL 488 750 \nQ 750 597 1062 519 \nQ 1375 441 1716 441 \nQ 2309 441 2620 675 \nQ 2931 909 2931 1356 \nQ 2931 1769 2642 2001 \nQ 2353 2234 1838 2234 \nL 1294 2234 \nL 1294 2753 \nL 1863 2753 \nQ 2328 2753 2575 2939 \nQ 2822 3125 2822 3475 \nQ 2822 3834 2567 4026 \nQ 2313 4219 1838 4219 \nQ 1578 4219 1281 4162 \nQ 984 4106 628 3988 \nL 628 4550 \nQ 988 4650 1302 4700 \nQ 1616 4750 1894 4750 \nQ 2613 4750 3031 4423 \nQ 3450 4097 3450 3541 \nQ 3450 3153 3228 2886 \nQ 3006 2619 2597 2516 \nz\n\" transform=\"scale(0.015625)\"/>\n       </defs>\n       <use xlink:href=\"#DejaVuSans-33\"/>\n       <use xlink:href=\"#DejaVuSans-30\" x=\"63.623047\"/>\n       <use xlink:href=\"#DejaVuSans-30\" x=\"127.246094\"/>\n      </g>\n     </g>\n    </g>\n    <g id=\"ytick_5\">\n     <g id=\"line2d_27\">\n      <path d=\"M 46.965625 162.964778 \nL 404.085625 162.964778 \n\" clip-path=\"url(#p46b6201c3a)\" style=\"fill: none; stroke: #b0b0b0; stroke-width: 0.8; stroke-linecap: square\"/>\n     </g>\n     <g id=\"line2d_28\">\n      <g>\n       <use xlink:href=\"#m9a5b25ecb8\" x=\"46.965625\" y=\"162.964778\" style=\"stroke: #000000; stroke-width: 0.8\"/>\n      </g>\n     </g>\n     <g id=\"text_15\">\n      <!-- 400 -->\n      <g transform=\"translate(20.878125 166.763997) scale(0.1 -0.1)\">\n       <defs>\n        <path id=\"DejaVuSans-34\" d=\"M 2419 4116 \nL 825 1625 \nL 2419 1625 \nL 2419 4116 \nz\nM 2253 4666 \nL 3047 4666 \nL 3047 1625 \nL 3713 1625 \nL 3713 1100 \nL 3047 1100 \nL 3047 0 \nL 2419 0 \nL 2419 1100 \nL 313 1100 \nL 313 1709 \nL 2253 4666 \nz\n\" transform=\"scale(0.015625)\"/>\n       </defs>\n       <use xlink:href=\"#DejaVuSans-34\"/>\n       <use xlink:href=\"#DejaVuSans-30\" x=\"63.623047\"/>\n       <use xlink:href=\"#DejaVuSans-30\" x=\"127.246094\"/>\n      </g>\n     </g>\n    </g>\n    <g id=\"ytick_6\">\n     <g id=\"line2d_29\">\n      <path d=\"M 46.965625 131.598442 \nL 404.085625 131.598442 \n\" clip-path=\"url(#p46b6201c3a)\" style=\"fill: none; stroke: #b0b0b0; stroke-width: 0.8; stroke-linecap: square\"/>\n     </g>\n     <g id=\"line2d_30\">\n      <g>\n       <use xlink:href=\"#m9a5b25ecb8\" x=\"46.965625\" y=\"131.598442\" style=\"stroke: #000000; stroke-width: 0.8\"/>\n      </g>\n     </g>\n     <g id=\"text_16\">\n      <!-- 500 -->\n      <g transform=\"translate(20.878125 135.397661) scale(0.1 -0.1)\">\n       <use xlink:href=\"#DejaVuSans-35\"/>\n       <use xlink:href=\"#DejaVuSans-30\" x=\"63.623047\"/>\n       <use xlink:href=\"#DejaVuSans-30\" x=\"127.246094\"/>\n      </g>\n     </g>\n    </g>\n    <g id=\"ytick_7\">\n     <g id=\"line2d_31\">\n      <path d=\"M 46.965625 100.232105 \nL 404.085625 100.232105 \n\" clip-path=\"url(#p46b6201c3a)\" style=\"fill: none; stroke: #b0b0b0; stroke-width: 0.8; stroke-linecap: square\"/>\n     </g>\n     <g id=\"line2d_32\">\n      <g>\n       <use xlink:href=\"#m9a5b25ecb8\" x=\"46.965625\" y=\"100.232105\" style=\"stroke: #000000; stroke-width: 0.8\"/>\n      </g>\n     </g>\n     <g id=\"text_17\">\n      <!-- 600 -->\n      <g transform=\"translate(20.878125 104.031324) scale(0.1 -0.1)\">\n       <defs>\n        <path id=\"DejaVuSans-36\" d=\"M 2113 2584 \nQ 1688 2584 1439 2293 \nQ 1191 2003 1191 1497 \nQ 1191 994 1439 701 \nQ 1688 409 2113 409 \nQ 2538 409 2786 701 \nQ 3034 994 3034 1497 \nQ 3034 2003 2786 2293 \nQ 2538 2584 2113 2584 \nz\nM 3366 4563 \nL 3366 3988 \nQ 3128 4100 2886 4159 \nQ 2644 4219 2406 4219 \nQ 1781 4219 1451 3797 \nQ 1122 3375 1075 2522 \nQ 1259 2794 1537 2939 \nQ 1816 3084 2150 3084 \nQ 2853 3084 3261 2657 \nQ 3669 2231 3669 1497 \nQ 3669 778 3244 343 \nQ 2819 -91 2113 -91 \nQ 1303 -91 875 529 \nQ 447 1150 447 2328 \nQ 447 3434 972 4092 \nQ 1497 4750 2381 4750 \nQ 2619 4750 2861 4703 \nQ 3103 4656 3366 4563 \nz\n\" transform=\"scale(0.015625)\"/>\n       </defs>\n       <use xlink:href=\"#DejaVuSans-36\"/>\n       <use xlink:href=\"#DejaVuSans-30\" x=\"63.623047\"/>\n       <use xlink:href=\"#DejaVuSans-30\" x=\"127.246094\"/>\n      </g>\n     </g>\n    </g>\n    <g id=\"ytick_8\">\n     <g id=\"line2d_33\">\n      <path d=\"M 46.965625 68.865769 \nL 404.085625 68.865769 \n\" clip-path=\"url(#p46b6201c3a)\" style=\"fill: none; stroke: #b0b0b0; stroke-width: 0.8; stroke-linecap: square\"/>\n     </g>\n     <g id=\"line2d_34\">\n      <g>\n       <use xlink:href=\"#m9a5b25ecb8\" x=\"46.965625\" y=\"68.865769\" style=\"stroke: #000000; stroke-width: 0.8\"/>\n      </g>\n     </g>\n     <g id=\"text_18\">\n      <!-- 700 -->\n      <g transform=\"translate(20.878125 72.664987) scale(0.1 -0.1)\">\n       <use xlink:href=\"#DejaVuSans-37\"/>\n       <use xlink:href=\"#DejaVuSans-30\" x=\"63.623047\"/>\n       <use xlink:href=\"#DejaVuSans-30\" x=\"127.246094\"/>\n      </g>\n     </g>\n    </g>\n    <g id=\"ytick_9\">\n     <g id=\"line2d_35\">\n      <path d=\"M 46.965625 37.499432 \nL 404.085625 37.499432 \n\" clip-path=\"url(#p46b6201c3a)\" style=\"fill: none; stroke: #b0b0b0; stroke-width: 0.8; stroke-linecap: square\"/>\n     </g>\n     <g id=\"line2d_36\">\n      <g>\n       <use xlink:href=\"#m9a5b25ecb8\" x=\"46.965625\" y=\"37.499432\" style=\"stroke: #000000; stroke-width: 0.8\"/>\n      </g>\n     </g>\n     <g id=\"text_19\">\n      <!-- 800 -->\n      <g transform=\"translate(20.878125 41.298651) scale(0.1 -0.1)\">\n       <defs>\n        <path id=\"DejaVuSans-38\" d=\"M 2034 2216 \nQ 1584 2216 1326 1975 \nQ 1069 1734 1069 1313 \nQ 1069 891 1326 650 \nQ 1584 409 2034 409 \nQ 2484 409 2743 651 \nQ 3003 894 3003 1313 \nQ 3003 1734 2745 1975 \nQ 2488 2216 2034 2216 \nz\nM 1403 2484 \nQ 997 2584 770 2862 \nQ 544 3141 544 3541 \nQ 544 4100 942 4425 \nQ 1341 4750 2034 4750 \nQ 2731 4750 3128 4425 \nQ 3525 4100 3525 3541 \nQ 3525 3141 3298 2862 \nQ 3072 2584 2669 2484 \nQ 3125 2378 3379 2068 \nQ 3634 1759 3634 1313 \nQ 3634 634 3220 271 \nQ 2806 -91 2034 -91 \nQ 1263 -91 848 271 \nQ 434 634 434 1313 \nQ 434 1759 690 2068 \nQ 947 2378 1403 2484 \nz\nM 1172 3481 \nQ 1172 3119 1398 2916 \nQ 1625 2713 2034 2713 \nQ 2441 2713 2670 2916 \nQ 2900 3119 2900 3481 \nQ 2900 3844 2670 4047 \nQ 2441 4250 2034 4250 \nQ 1625 4250 1398 4047 \nQ 1172 3844 1172 3481 \nz\n\" transform=\"scale(0.015625)\"/>\n       </defs>\n       <use xlink:href=\"#DejaVuSans-38\"/>\n       <use xlink:href=\"#DejaVuSans-30\" x=\"63.623047\"/>\n       <use xlink:href=\"#DejaVuSans-30\" x=\"127.246094\"/>\n      </g>\n     </g>\n    </g>\n    <g id=\"text_20\">\n     <!-- amount -->\n     <g transform=\"translate(14.798438 174.665531) rotate(-90) scale(0.1 -0.1)\">\n      <defs>\n       <path id=\"DejaVuSans-61\" d=\"M 2194 1759 \nQ 1497 1759 1228 1600 \nQ 959 1441 959 1056 \nQ 959 750 1161 570 \nQ 1363 391 1709 391 \nQ 2188 391 2477 730 \nQ 2766 1069 2766 1631 \nL 2766 1759 \nL 2194 1759 \nz\nM 3341 1997 \nL 3341 0 \nL 2766 0 \nL 2766 531 \nQ 2569 213 2275 61 \nQ 1981 -91 1556 -91 \nQ 1019 -91 701 211 \nQ 384 513 384 1019 \nQ 384 1609 779 1909 \nQ 1175 2209 1959 2209 \nL 2766 2209 \nL 2766 2266 \nQ 2766 2663 2505 2880 \nQ 2244 3097 1772 3097 \nQ 1472 3097 1187 3025 \nQ 903 2953 641 2809 \nL 641 3341 \nQ 956 3463 1253 3523 \nQ 1550 3584 1831 3584 \nQ 2591 3584 2966 3190 \nQ 3341 2797 3341 1997 \nz\n\" transform=\"scale(0.015625)\"/>\n       <path id=\"DejaVuSans-6d\" d=\"M 3328 2828 \nQ 3544 3216 3844 3400 \nQ 4144 3584 4550 3584 \nQ 5097 3584 5394 3201 \nQ 5691 2819 5691 2113 \nL 5691 0 \nL 5113 0 \nL 5113 2094 \nQ 5113 2597 4934 2840 \nQ 4756 3084 4391 3084 \nQ 3944 3084 3684 2787 \nQ 3425 2491 3425 1978 \nL 3425 0 \nL 2847 0 \nL 2847 2094 \nQ 2847 2600 2669 2842 \nQ 2491 3084 2119 3084 \nQ 1678 3084 1418 2786 \nQ 1159 2488 1159 1978 \nL 1159 0 \nL 581 0 \nL 581 3500 \nL 1159 3500 \nL 1159 2956 \nQ 1356 3278 1631 3431 \nQ 1906 3584 2284 3584 \nQ 2666 3584 2933 3390 \nQ 3200 3197 3328 2828 \nz\n\" transform=\"scale(0.015625)\"/>\n       <path id=\"DejaVuSans-6f\" d=\"M 1959 3097 \nQ 1497 3097 1228 2736 \nQ 959 2375 959 1747 \nQ 959 1119 1226 758 \nQ 1494 397 1959 397 \nQ 2419 397 2687 759 \nQ 2956 1122 2956 1747 \nQ 2956 2369 2687 2733 \nQ 2419 3097 1959 3097 \nz\nM 1959 3584 \nQ 2709 3584 3137 3096 \nQ 3566 2609 3566 1747 \nQ 3566 888 3137 398 \nQ 2709 -91 1959 -91 \nQ 1206 -91 779 398 \nQ 353 888 353 1747 \nQ 353 2609 779 3096 \nQ 1206 3584 1959 3584 \nz\n\" transform=\"scale(0.015625)\"/>\n       <path id=\"DejaVuSans-75\" d=\"M 544 1381 \nL 544 3500 \nL 1119 3500 \nL 1119 1403 \nQ 1119 906 1312 657 \nQ 1506 409 1894 409 \nQ 2359 409 2629 706 \nQ 2900 1003 2900 1516 \nL 2900 3500 \nL 3475 3500 \nL 3475 0 \nL 2900 0 \nL 2900 538 \nQ 2691 219 2414 64 \nQ 2138 -91 1772 -91 \nQ 1169 -91 856 284 \nQ 544 659 544 1381 \nz\nM 1991 3584 \nL 1991 3584 \nz\n\" transform=\"scale(0.015625)\"/>\n      </defs>\n      <use xlink:href=\"#DejaVuSans-61\"/>\n      <use xlink:href=\"#DejaVuSans-6d\" x=\"61.279297\"/>\n      <use xlink:href=\"#DejaVuSans-6f\" x=\"158.691406\"/>\n      <use xlink:href=\"#DejaVuSans-75\" x=\"219.873047\"/>\n      <use xlink:href=\"#DejaVuSans-6e\" x=\"283.251953\"/>\n      <use xlink:href=\"#DejaVuSans-74\" x=\"346.630859\"/>\n     </g>\n    </g>\n   </g>\n   <g id=\"line2d_37\">\n    <path d=\"M 63.198352 283.187305 \nL 64.829782 281.921653 \nL 66.461212 280.450106 \nL 68.092642 278.74673 \nL 69.724072 276.776312 \nL 71.355502 274.490978 \nL 72.986932 271.827085 \nL 74.618361 268.702981 \nL 76.249791 265.018293 \nL 77.881221 260.655521 \nL 79.512651 255.484636 \nL 81.144081 249.371225 \nL 82.775511 242.18835 \nL 84.406941 233.831723 \nL 86.038371 224.23707 \nL 87.6698 213.397819 \nL 89.30123 201.380612 \nL 92.56409 174.501096 \nL 97.45838 131.74305 \nL 99.08981 118.459644 \nL 100.721239 106.365738 \nL 102.352669 95.826001 \nL 103.984099 87.129365 \nL 105.615529 80.472713 \nL 107.246959 75.954248 \nL 108.878389 73.576266 \nL 110.509819 73.255801 \nL 112.141249 74.840726 \nL 113.772678 78.128634 \nL 115.404108 82.885981 \nL 117.035538 88.865564 \nL 118.666968 95.821073 \nL 121.929828 111.741846 \nL 131.718407 163.161218 \nL 134.981267 178.561991 \nL 138.244127 192.288057 \nL 139.875556 198.45342 \nL 141.506986 204.137295 \nL 143.138416 209.341216 \nL 144.769846 214.078252 \nL 146.401276 218.372784 \nL 148.032706 222.259411 \nL 149.664136 225.780879 \nL 151.295566 228.985129 \nL 154.558425 234.638471 \nL 157.821285 239.574316 \nL 161.084145 244.035004 \nL 164.347005 248.126824 \nL 167.609864 251.852004 \nL 170.872724 255.160757 \nL 174.135584 257.994571 \nL 177.398444 260.315507 \nL 180.661303 262.125394 \nL 183.924163 263.470803 \nL 187.187023 264.425945 \nL 190.449883 265.05747 \nL 193.712742 265.390851 \nL 196.975602 265.402495 \nL 200.238462 265.051607 \nL 203.501322 264.345544 \nL 211.658471 262.18175 \nL 213.289901 262.001431 \nL 214.921331 262.00525 \nL 216.552761 262.221205 \nL 218.184191 262.662616 \nL 219.81562 263.326142 \nL 221.44705 264.191748 \nL 224.70991 266.378984 \nL 231.23563 271.18542 \nL 234.498489 273.129532 \nL 237.761349 274.577017 \nL 241.024209 275.58081 \nL 244.287069 276.269136 \nL 249.181358 276.981987 \nL 255.707078 277.681658 \nL 275.284236 279.584835 \nL 285.072815 280.543794 \nL 309.544264 282.546969 \nL 316.069983 282.743558 \nL 347.067151 283.235067 \nL 355.2243 283.684727 \nL 365.012879 284.189764 \nL 373.170029 284.570844 \nL 378.064318 284.990135 \nL 382.958608 285.634948 \nL 387.852898 286.448547 \nL 387.852898 286.448547 \n\" clip-path=\"url(#p46b6201c3a)\" style=\"fill: none; stroke: #1f77b4; stroke-width: 1.5; stroke-linecap: square\"/>\n   </g>\n   <g id=\"patch_76\">\n    <path d=\"M 46.965625 288.430125 \nL 46.965625 22.318125 \n\" style=\"fill: none; stroke: #000000; stroke-width: 0.8; stroke-linejoin: miter; stroke-linecap: square\"/>\n   </g>\n   <g id=\"patch_77\">\n    <path d=\"M 404.085625 288.430125 \nL 404.085625 22.318125 \n\" style=\"fill: none; stroke: #000000; stroke-width: 0.8; stroke-linejoin: miter; stroke-linecap: square\"/>\n   </g>\n   <g id=\"patch_78\">\n    <path d=\"M 46.965625 288.430125 \nL 404.085625 288.430125 \n\" style=\"fill: none; stroke: #000000; stroke-width: 0.8; stroke-linejoin: miter; stroke-linecap: square\"/>\n   </g>\n   <g id=\"patch_79\">\n    <path d=\"M 46.965625 22.318125 \nL 404.085625 22.318125 \n\" style=\"fill: none; stroke: #000000; stroke-width: 0.8; stroke-linejoin: miter; stroke-linecap: square\"/>\n   </g>\n   <g id=\"text_21\">\n    <!-- Input length dist. (Closer) -->\n    <g transform=\"translate(148.789375 16.318125) scale(0.12 -0.12)\">\n     <defs>\n      <path id=\"DejaVuSans-49\" d=\"M 628 4666 \nL 1259 4666 \nL 1259 0 \nL 628 0 \nL 628 4666 \nz\n\" transform=\"scale(0.015625)\"/>\n      <path id=\"DejaVuSans-70\" d=\"M 1159 525 \nL 1159 -1331 \nL 581 -1331 \nL 581 3500 \nL 1159 3500 \nL 1159 2969 \nQ 1341 3281 1617 3432 \nQ 1894 3584 2278 3584 \nQ 2916 3584 3314 3078 \nQ 3713 2572 3713 1747 \nQ 3713 922 3314 415 \nQ 2916 -91 2278 -91 \nQ 1894 -91 1617 61 \nQ 1341 213 1159 525 \nz\nM 3116 1747 \nQ 3116 2381 2855 2742 \nQ 2594 3103 2138 3103 \nQ 1681 3103 1420 2742 \nQ 1159 2381 1159 1747 \nQ 1159 1113 1420 752 \nQ 1681 391 2138 391 \nQ 2594 391 2855 752 \nQ 3116 1113 3116 1747 \nz\n\" transform=\"scale(0.015625)\"/>\n      <path id=\"DejaVuSans-20\" transform=\"scale(0.015625)\"/>\n      <path id=\"DejaVuSans-64\" d=\"M 2906 2969 \nL 2906 4863 \nL 3481 4863 \nL 3481 0 \nL 2906 0 \nL 2906 525 \nQ 2725 213 2448 61 \nQ 2172 -91 1784 -91 \nQ 1150 -91 751 415 \nQ 353 922 353 1747 \nQ 353 2572 751 3078 \nQ 1150 3584 1784 3584 \nQ 2172 3584 2448 3432 \nQ 2725 3281 2906 2969 \nz\nM 947 1747 \nQ 947 1113 1208 752 \nQ 1469 391 1925 391 \nQ 2381 391 2643 752 \nQ 2906 1113 2906 1747 \nQ 2906 2381 2643 2742 \nQ 2381 3103 1925 3103 \nQ 1469 3103 1208 2742 \nQ 947 2381 947 1747 \nz\n\" transform=\"scale(0.015625)\"/>\n      <path id=\"DejaVuSans-69\" d=\"M 603 3500 \nL 1178 3500 \nL 1178 0 \nL 603 0 \nL 603 3500 \nz\nM 603 4863 \nL 1178 4863 \nL 1178 4134 \nL 603 4134 \nL 603 4863 \nz\n\" transform=\"scale(0.015625)\"/>\n      <path id=\"DejaVuSans-73\" d=\"M 2834 3397 \nL 2834 2853 \nQ 2591 2978 2328 3040 \nQ 2066 3103 1784 3103 \nQ 1356 3103 1142 2972 \nQ 928 2841 928 2578 \nQ 928 2378 1081 2264 \nQ 1234 2150 1697 2047 \nL 1894 2003 \nQ 2506 1872 2764 1633 \nQ 3022 1394 3022 966 \nQ 3022 478 2636 193 \nQ 2250 -91 1575 -91 \nQ 1294 -91 989 -36 \nQ 684 19 347 128 \nL 347 722 \nQ 666 556 975 473 \nQ 1284 391 1588 391 \nQ 1994 391 2212 530 \nQ 2431 669 2431 922 \nQ 2431 1156 2273 1281 \nQ 2116 1406 1581 1522 \nL 1381 1569 \nQ 847 1681 609 1914 \nQ 372 2147 372 2553 \nQ 372 3047 722 3315 \nQ 1072 3584 1716 3584 \nQ 2034 3584 2315 3537 \nQ 2597 3491 2834 3397 \nz\n\" transform=\"scale(0.015625)\"/>\n      <path id=\"DejaVuSans-2e\" d=\"M 684 794 \nL 1344 794 \nL 1344 0 \nL 684 0 \nL 684 794 \nz\n\" transform=\"scale(0.015625)\"/>\n      <path id=\"DejaVuSans-28\" d=\"M 1984 4856 \nQ 1566 4138 1362 3434 \nQ 1159 2731 1159 2009 \nQ 1159 1288 1364 580 \nQ 1569 -128 1984 -844 \nL 1484 -844 \nQ 1016 -109 783 600 \nQ 550 1309 550 2009 \nQ 550 2706 781 3412 \nQ 1013 4119 1484 4856 \nL 1984 4856 \nz\n\" transform=\"scale(0.015625)\"/>\n      <path id=\"DejaVuSans-43\" d=\"M 4122 4306 \nL 4122 3641 \nQ 3803 3938 3442 4084 \nQ 3081 4231 2675 4231 \nQ 1875 4231 1450 3742 \nQ 1025 3253 1025 2328 \nQ 1025 1406 1450 917 \nQ 1875 428 2675 428 \nQ 3081 428 3442 575 \nQ 3803 722 4122 1019 \nL 4122 359 \nQ 3791 134 3420 21 \nQ 3050 -91 2638 -91 \nQ 1578 -91 968 557 \nQ 359 1206 359 2328 \nQ 359 3453 968 4101 \nQ 1578 4750 2638 4750 \nQ 3056 4750 3426 4639 \nQ 3797 4528 4122 4306 \nz\n\" transform=\"scale(0.015625)\"/>\n      <path id=\"DejaVuSans-72\" d=\"M 2631 2963 \nQ 2534 3019 2420 3045 \nQ 2306 3072 2169 3072 \nQ 1681 3072 1420 2755 \nQ 1159 2438 1159 1844 \nL 1159 0 \nL 581 0 \nL 581 3500 \nL 1159 3500 \nL 1159 2956 \nQ 1341 3275 1631 3429 \nQ 1922 3584 2338 3584 \nQ 2397 3584 2469 3576 \nQ 2541 3569 2628 3553 \nL 2631 2963 \nz\n\" transform=\"scale(0.015625)\"/>\n      <path id=\"DejaVuSans-29\" d=\"M 513 4856 \nL 1013 4856 \nQ 1481 4119 1714 3412 \nQ 1947 2706 1947 2009 \nQ 1947 1309 1714 600 \nQ 1481 -109 1013 -844 \nL 513 -844 \nQ 928 -128 1133 580 \nQ 1338 1288 1338 2009 \nQ 1338 2731 1133 3434 \nQ 928 4138 513 4856 \nz\n\" transform=\"scale(0.015625)\"/>\n     </defs>\n     <use xlink:href=\"#DejaVuSans-49\"/>\n     <use xlink:href=\"#DejaVuSans-6e\" x=\"29.492188\"/>\n     <use xlink:href=\"#DejaVuSans-70\" x=\"92.871094\"/>\n     <use xlink:href=\"#DejaVuSans-75\" x=\"156.347656\"/>\n     <use xlink:href=\"#DejaVuSans-74\" x=\"219.726562\"/>\n     <use xlink:href=\"#DejaVuSans-20\" x=\"258.935547\"/>\n     <use xlink:href=\"#DejaVuSans-6c\" x=\"290.722656\"/>\n     <use xlink:href=\"#DejaVuSans-65\" x=\"318.505859\"/>\n     <use xlink:href=\"#DejaVuSans-6e\" x=\"380.029297\"/>\n     <use xlink:href=\"#DejaVuSans-67\" x=\"443.408203\"/>\n     <use xlink:href=\"#DejaVuSans-74\" x=\"506.884766\"/>\n     <use xlink:href=\"#DejaVuSans-68\" x=\"546.09375\"/>\n     <use xlink:href=\"#DejaVuSans-20\" x=\"609.472656\"/>\n     <use xlink:href=\"#DejaVuSans-64\" x=\"641.259766\"/>\n     <use xlink:href=\"#DejaVuSans-69\" x=\"704.736328\"/>\n     <use xlink:href=\"#DejaVuSans-73\" x=\"732.519531\"/>\n     <use xlink:href=\"#DejaVuSans-74\" x=\"784.619141\"/>\n     <use xlink:href=\"#DejaVuSans-2e\" x=\"823.828125\"/>\n     <use xlink:href=\"#DejaVuSans-20\" x=\"855.615234\"/>\n     <use xlink:href=\"#DejaVuSans-28\" x=\"887.402344\"/>\n     <use xlink:href=\"#DejaVuSans-43\" x=\"926.416016\"/>\n     <use xlink:href=\"#DejaVuSans-6c\" x=\"996.240234\"/>\n     <use xlink:href=\"#DejaVuSans-6f\" x=\"1024.023438\"/>\n     <use xlink:href=\"#DejaVuSans-73\" x=\"1085.205078\"/>\n     <use xlink:href=\"#DejaVuSans-65\" x=\"1137.304688\"/>\n     <use xlink:href=\"#DejaVuSans-72\" x=\"1198.828125\"/>\n     <use xlink:href=\"#DejaVuSans-29\" x=\"1239.941406\"/>\n    </g>\n   </g>\n   <g id=\"legend_1\">\n    <g id=\"patch_80\">\n     <path d=\"M 358.723125 44.99625 \nL 397.085625 44.99625 \nQ 399.085625 44.99625 399.085625 42.99625 \nL 399.085625 29.318125 \nQ 399.085625 27.318125 397.085625 27.318125 \nL 358.723125 27.318125 \nQ 356.723125 27.318125 356.723125 29.318125 \nL 356.723125 42.99625 \nQ 356.723125 44.99625 358.723125 44.99625 \nz\n\" style=\"fill: #ffffff; opacity: 0.8; stroke: #cccccc; stroke-linejoin: miter\"/>\n    </g>\n    <g id=\"patch_81\">\n     <path d=\"M 360.723125 38.916562 \nL 380.723125 38.916562 \nL 380.723125 31.916562 \nL 360.723125 31.916562 \nz\n\" style=\"fill: #1f77b4; fill-opacity: 0.5; stroke: #000000; stroke-linejoin: miter\"/>\n    </g>\n    <g id=\"text_22\">\n     <!-- 0 -->\n     <g transform=\"translate(388.723125 38.916562) scale(0.1 -0.1)\">\n      <use xlink:href=\"#DejaVuSans-30\"/>\n     </g>\n    </g>\n   </g>\n  </g>\n </g>\n <defs>\n  <clipPath id=\"p46b6201c3a\">\n   <rect x=\"46.965625\" y=\"22.318125\" width=\"357.12\" height=\"266.112\"/>\n  </clipPath>\n </defs>\n</svg>\n"
          },
          "metadata": {}
        }
      ],
      "source": [
        "sns.histplot(train_ids_lengths[np.where(labels2lengths[1] <= 2000)], kde=True)\n",
        "plt.ylabel('amount')\n",
        "plt.xlabel('length')\n",
        "plt.title('Input length dist. (Closer)')\n",
        "plt.grid(True)\n",
        "plt.show()"
      ]
    },
    {
      "cell_type": "code",
      "execution_count": 19,
      "id": "AqDoYHKhNHUD",
      "metadata": {
        "id": "AqDoYHKhNHUD",
        "colab": {
          "base_uri": "https://localhost:8080/",
          "height": 474
        },
        "outputId": "11ad0dab-0fde-4b09-a870-a9c8f2b9048c"
      },
      "outputs": [
        {
          "output_type": "display_data",
          "data": {
            "text/plain": [
              "<Figure size 640x480 with 1 Axes>"
            ],
            "image/svg+xml": "<?xml version=\"1.0\" encoding=\"utf-8\" standalone=\"no\"?>\n<!DOCTYPE svg PUBLIC \"-//W3C//DTD SVG 1.1//EN\"\n  \"http://www.w3.org/Graphics/SVG/1.1/DTD/svg11.dtd\">\n<svg xmlns:xlink=\"http://www.w3.org/1999/xlink\" width=\"411.285625pt\" height=\"325.986375pt\" viewBox=\"0 0 411.285625 325.986375\" xmlns=\"http://www.w3.org/2000/svg\" version=\"1.1\">\n <metadata>\n  <rdf:RDF xmlns:dc=\"http://purl.org/dc/elements/1.1/\" xmlns:cc=\"http://creativecommons.org/ns#\" xmlns:rdf=\"http://www.w3.org/1999/02/22-rdf-syntax-ns#\">\n   <cc:Work>\n    <dc:type rdf:resource=\"http://purl.org/dc/dcmitype/StillImage\"/>\n    <dc:date>2024-12-28T15:12:11.129598</dc:date>\n    <dc:format>image/svg+xml</dc:format>\n    <dc:creator>\n     <cc:Agent>\n      <dc:title>Matplotlib v3.8.0, https://matplotlib.org/</dc:title>\n     </cc:Agent>\n    </dc:creator>\n   </cc:Work>\n  </rdf:RDF>\n </metadata>\n <defs>\n  <style type=\"text/css\">*{stroke-linejoin: round; stroke-linecap: butt}</style>\n </defs>\n <g id=\"figure_1\">\n  <g id=\"patch_1\">\n   <path d=\"M 0 325.986375 \nL 411.285625 325.986375 \nL 411.285625 0 \nL 0 0 \nz\n\" style=\"fill: #ffffff\"/>\n  </g>\n  <g id=\"axes_1\">\n   <g id=\"patch_2\">\n    <path d=\"M 46.965625 288.430125 \nL 404.085625 288.430125 \nL 404.085625 22.318125 \nL 46.965625 22.318125 \nz\n\" style=\"fill: #ffffff\"/>\n   </g>\n   <g id=\"patch_3\">\n    <path d=\"M 63.198352 288.430125 \nL 71.741893 288.430125 \nL 71.741893 286.05598 \nL 63.198352 286.05598 \nz\n\" clip-path=\"url(#p51e6648844)\" style=\"fill: #1f77b4; fill-opacity: 0.5; stroke: #000000; stroke-width: 0.854354; stroke-linejoin: miter\"/>\n   </g>\n   <g id=\"patch_4\">\n    <path d=\"M 71.741893 288.430125 \nL 80.285434 288.430125 \nL 80.285434 283.681835 \nL 71.741893 283.681835 \nz\n\" clip-path=\"url(#p51e6648844)\" style=\"fill: #1f77b4; fill-opacity: 0.5; stroke: #000000; stroke-width: 0.854354; stroke-linejoin: miter\"/>\n   </g>\n   <g id=\"patch_5\">\n    <path d=\"M 80.285434 288.430125 \nL 88.828974 288.430125 \nL 88.828974 280.714153 \nL 80.285434 280.714153 \nz\n\" clip-path=\"url(#p51e6648844)\" style=\"fill: #1f77b4; fill-opacity: 0.5; stroke: #000000; stroke-width: 0.854354; stroke-linejoin: miter\"/>\n   </g>\n   <g id=\"patch_6\">\n    <path d=\"M 88.828974 288.430125 \nL 97.372515 288.430125 \nL 97.372515 278.933544 \nL 88.828974 278.933544 \nz\n\" clip-path=\"url(#p51e6648844)\" style=\"fill: #1f77b4; fill-opacity: 0.5; stroke: #000000; stroke-width: 0.854354; stroke-linejoin: miter\"/>\n   </g>\n   <g id=\"patch_7\">\n    <path d=\"M 97.372515 288.430125 \nL 105.916056 288.430125 \nL 105.916056 275.965863 \nL 97.372515 275.965863 \nz\n\" clip-path=\"url(#p51e6648844)\" style=\"fill: #1f77b4; fill-opacity: 0.5; stroke: #000000; stroke-width: 0.854354; stroke-linejoin: miter\"/>\n   </g>\n   <g id=\"patch_8\">\n    <path d=\"M 105.916056 288.430125 \nL 114.459596 288.430125 \nL 114.459596 277.152935 \nL 105.916056 277.152935 \nz\n\" clip-path=\"url(#p51e6648844)\" style=\"fill: #1f77b4; fill-opacity: 0.5; stroke: #000000; stroke-width: 0.854354; stroke-linejoin: miter\"/>\n   </g>\n   <g id=\"patch_9\">\n    <path d=\"M 114.459596 288.430125 \nL 123.003137 288.430125 \nL 123.003137 271.811109 \nL 114.459596 271.811109 \nz\n\" clip-path=\"url(#p51e6648844)\" style=\"fill: #1f77b4; fill-opacity: 0.5; stroke: #000000; stroke-width: 0.854354; stroke-linejoin: miter\"/>\n   </g>\n   <g id=\"patch_10\">\n    <path d=\"M 123.003137 288.430125 \nL 131.546678 288.430125 \nL 131.546678 266.469282 \nL 123.003137 266.469282 \nz\n\" clip-path=\"url(#p51e6648844)\" style=\"fill: #1f77b4; fill-opacity: 0.5; stroke: #000000; stroke-width: 0.854354; stroke-linejoin: miter\"/>\n   </g>\n   <g id=\"patch_11\">\n    <path d=\"M 131.546678 288.430125 \nL 140.090218 288.430125 \nL 140.090218 270.624036 \nL 131.546678 270.624036 \nz\n\" clip-path=\"url(#p51e6648844)\" style=\"fill: #1f77b4; fill-opacity: 0.5; stroke: #000000; stroke-width: 0.854354; stroke-linejoin: miter\"/>\n   </g>\n   <g id=\"patch_12\">\n    <path d=\"M 140.090218 288.430125 \nL 148.633759 288.430125 \nL 148.633759 262.314528 \nL 140.090218 262.314528 \nz\n\" clip-path=\"url(#p51e6648844)\" style=\"fill: #1f77b4; fill-opacity: 0.5; stroke: #000000; stroke-width: 0.854354; stroke-linejoin: miter\"/>\n   </g>\n   <g id=\"patch_13\">\n    <path d=\"M 148.633759 288.430125 \nL 157.1773 288.430125 \nL 157.1773 246.289048 \nL 148.633759 246.289048 \nz\n\" clip-path=\"url(#p51e6648844)\" style=\"fill: #1f77b4; fill-opacity: 0.5; stroke: #000000; stroke-width: 0.854354; stroke-linejoin: miter\"/>\n   </g>\n   <g id=\"patch_14\">\n    <path d=\"M 157.1773 288.430125 \nL 165.72084 288.430125 \nL 165.72084 248.663193 \nL 157.1773 248.663193 \nz\n\" clip-path=\"url(#p51e6648844)\" style=\"fill: #1f77b4; fill-opacity: 0.5; stroke: #000000; stroke-width: 0.854354; stroke-linejoin: miter\"/>\n   </g>\n   <g id=\"patch_15\">\n    <path d=\"M 165.72084 288.430125 \nL 174.264381 288.430125 \nL 174.264381 244.508439 \nL 165.72084 244.508439 \nz\n\" clip-path=\"url(#p51e6648844)\" style=\"fill: #1f77b4; fill-opacity: 0.5; stroke: #000000; stroke-width: 0.854354; stroke-linejoin: miter\"/>\n   </g>\n   <g id=\"patch_16\">\n    <path d=\"M 174.264381 288.430125 \nL 182.807922 288.430125 \nL 182.807922 219.579914 \nL 174.264381 219.579914 \nz\n\" clip-path=\"url(#p51e6648844)\" style=\"fill: #1f77b4; fill-opacity: 0.5; stroke: #000000; stroke-width: 0.854354; stroke-linejoin: miter\"/>\n   </g>\n   <g id=\"patch_17\">\n    <path d=\"M 182.807922 288.430125 \nL 191.351462 288.430125 \nL 191.351462 180.406518 \nL 182.807922 180.406518 \nz\n\" clip-path=\"url(#p51e6648844)\" style=\"fill: #1f77b4; fill-opacity: 0.5; stroke: #000000; stroke-width: 0.854354; stroke-linejoin: miter\"/>\n   </g>\n   <g id=\"patch_18\">\n    <path d=\"M 191.351462 288.430125 \nL 199.895003 288.430125 \nL 199.895003 144.79434 \nL 191.351462 144.79434 \nz\n\" clip-path=\"url(#p51e6648844)\" style=\"fill: #1f77b4; fill-opacity: 0.5; stroke: #000000; stroke-width: 0.854354; stroke-linejoin: miter\"/>\n   </g>\n   <g id=\"patch_19\">\n    <path d=\"M 199.895003 288.430125 \nL 208.438544 288.430125 \nL 208.438544 102.653263 \nL 199.895003 102.653263 \nz\n\" clip-path=\"url(#p51e6648844)\" style=\"fill: #1f77b4; fill-opacity: 0.5; stroke: #000000; stroke-width: 0.854354; stroke-linejoin: miter\"/>\n   </g>\n   <g id=\"patch_20\">\n    <path d=\"M 208.438544 288.430125 \nL 216.982084 288.430125 \nL 216.982084 53.38975 \nL 208.438544 53.38975 \nz\n\" clip-path=\"url(#p51e6648844)\" style=\"fill: #1f77b4; fill-opacity: 0.5; stroke: #000000; stroke-width: 0.854354; stroke-linejoin: miter\"/>\n   </g>\n   <g id=\"patch_21\">\n    <path d=\"M 216.982084 288.430125 \nL 225.525625 288.430125 \nL 225.525625 74.163521 \nL 216.982084 74.163521 \nz\n\" clip-path=\"url(#p51e6648844)\" style=\"fill: #1f77b4; fill-opacity: 0.5; stroke: #000000; stroke-width: 0.854354; stroke-linejoin: miter\"/>\n   </g>\n   <g id=\"patch_22\">\n    <path d=\"M 225.525625 288.430125 \nL 234.069166 288.430125 \nL 234.069166 34.990125 \nL 225.525625 34.990125 \nz\n\" clip-path=\"url(#p51e6648844)\" style=\"fill: #1f77b4; fill-opacity: 0.5; stroke: #000000; stroke-width: 0.854354; stroke-linejoin: miter\"/>\n   </g>\n   <g id=\"patch_23\">\n    <path d=\"M 234.069166 288.430125 \nL 242.612706 288.430125 \nL 242.612706 55.763895 \nL 234.069166 55.763895 \nz\n\" clip-path=\"url(#p51e6648844)\" style=\"fill: #1f77b4; fill-opacity: 0.5; stroke: #000000; stroke-width: 0.854354; stroke-linejoin: miter\"/>\n   </g>\n   <g id=\"patch_24\">\n    <path d=\"M 242.612706 288.430125 \nL 251.156247 288.430125 \nL 251.156247 64.66694 \nL 242.612706 64.66694 \nz\n\" clip-path=\"url(#p51e6648844)\" style=\"fill: #1f77b4; fill-opacity: 0.5; stroke: #000000; stroke-width: 0.854354; stroke-linejoin: miter\"/>\n   </g>\n   <g id=\"patch_25\">\n    <path d=\"M 251.156247 288.430125 \nL 259.699788 288.430125 \nL 259.699788 64.66694 \nL 251.156247 64.66694 \nz\n\" clip-path=\"url(#p51e6648844)\" style=\"fill: #1f77b4; fill-opacity: 0.5; stroke: #000000; stroke-width: 0.854354; stroke-linejoin: miter\"/>\n   </g>\n   <g id=\"patch_26\">\n    <path d=\"M 259.699788 288.430125 \nL 268.243328 288.430125 \nL 268.243328 67.634621 \nL 259.699788 67.634621 \nz\n\" clip-path=\"url(#p51e6648844)\" style=\"fill: #1f77b4; fill-opacity: 0.5; stroke: #000000; stroke-width: 0.854354; stroke-linejoin: miter\"/>\n   </g>\n   <g id=\"patch_27\">\n    <path d=\"M 268.243328 288.430125 \nL 276.786869 288.430125 \nL 276.786869 91.96961 \nL 268.243328 91.96961 \nz\n\" clip-path=\"url(#p51e6648844)\" style=\"fill: #1f77b4; fill-opacity: 0.5; stroke: #000000; stroke-width: 0.854354; stroke-linejoin: miter\"/>\n   </g>\n   <g id=\"patch_28\">\n    <path d=\"M 276.786869 288.430125 \nL 285.33041 288.430125 \nL 285.33041 106.214481 \nL 276.786869 106.214481 \nz\n\" clip-path=\"url(#p51e6648844)\" style=\"fill: #1f77b4; fill-opacity: 0.5; stroke: #000000; stroke-width: 0.854354; stroke-linejoin: miter\"/>\n   </g>\n   <g id=\"patch_29\">\n    <path d=\"M 285.33041 288.430125 \nL 293.87395 288.430125 \nL 293.87395 118.085207 \nL 285.33041 118.085207 \nz\n\" clip-path=\"url(#p51e6648844)\" style=\"fill: #1f77b4; fill-opacity: 0.5; stroke: #000000; stroke-width: 0.854354; stroke-linejoin: miter\"/>\n   </g>\n   <g id=\"patch_30\">\n    <path d=\"M 293.87395 288.430125 \nL 302.417491 288.430125 \nL 302.417491 122.239961 \nL 293.87395 122.239961 \nz\n\" clip-path=\"url(#p51e6648844)\" style=\"fill: #1f77b4; fill-opacity: 0.5; stroke: #000000; stroke-width: 0.854354; stroke-linejoin: miter\"/>\n   </g>\n   <g id=\"patch_31\">\n    <path d=\"M 302.417491 288.430125 \nL 310.961032 288.430125 \nL 310.961032 147.168486 \nL 302.417491 147.168486 \nz\n\" clip-path=\"url(#p51e6648844)\" style=\"fill: #1f77b4; fill-opacity: 0.5; stroke: #000000; stroke-width: 0.854354; stroke-linejoin: miter\"/>\n   </g>\n   <g id=\"patch_32\">\n    <path d=\"M 310.961032 288.430125 \nL 319.504572 288.430125 \nL 319.504572 159.632748 \nL 310.961032 159.632748 \nz\n\" clip-path=\"url(#p51e6648844)\" style=\"fill: #1f77b4; fill-opacity: 0.5; stroke: #000000; stroke-width: 0.854354; stroke-linejoin: miter\"/>\n   </g>\n   <g id=\"patch_33\">\n    <path d=\"M 319.504572 288.430125 \nL 328.048113 288.430125 \nL 328.048113 160.819821 \nL 319.504572 160.819821 \nz\n\" clip-path=\"url(#p51e6648844)\" style=\"fill: #1f77b4; fill-opacity: 0.5; stroke: #000000; stroke-width: 0.854354; stroke-linejoin: miter\"/>\n   </g>\n   <g id=\"patch_34\">\n    <path d=\"M 328.048113 288.430125 \nL 336.591654 288.430125 \nL 336.591654 170.316401 \nL 328.048113 170.316401 \nz\n\" clip-path=\"url(#p51e6648844)\" style=\"fill: #1f77b4; fill-opacity: 0.5; stroke: #000000; stroke-width: 0.854354; stroke-linejoin: miter\"/>\n   </g>\n   <g id=\"patch_35\">\n    <path d=\"M 336.591654 288.430125 \nL 345.135194 288.430125 \nL 345.135194 191.683708 \nL 336.591654 191.683708 \nz\n\" clip-path=\"url(#p51e6648844)\" style=\"fill: #1f77b4; fill-opacity: 0.5; stroke: #000000; stroke-width: 0.854354; stroke-linejoin: miter\"/>\n   </g>\n   <g id=\"patch_36\">\n    <path d=\"M 345.135194 288.430125 \nL 353.678735 288.430125 \nL 353.678735 199.39968 \nL 345.135194 199.39968 \nz\n\" clip-path=\"url(#p51e6648844)\" style=\"fill: #1f77b4; fill-opacity: 0.5; stroke: #000000; stroke-width: 0.854354; stroke-linejoin: miter\"/>\n   </g>\n   <g id=\"patch_37\">\n    <path d=\"M 353.678735 288.430125 \nL 362.222276 288.430125 \nL 362.222276 201.773825 \nL 353.678735 201.773825 \nz\n\" clip-path=\"url(#p51e6648844)\" style=\"fill: #1f77b4; fill-opacity: 0.5; stroke: #000000; stroke-width: 0.854354; stroke-linejoin: miter\"/>\n   </g>\n   <g id=\"patch_38\">\n    <path d=\"M 362.222276 288.430125 \nL 370.765816 288.430125 \nL 370.765816 217.799305 \nL 362.222276 217.799305 \nz\n\" clip-path=\"url(#p51e6648844)\" style=\"fill: #1f77b4; fill-opacity: 0.5; stroke: #000000; stroke-width: 0.854354; stroke-linejoin: miter\"/>\n   </g>\n   <g id=\"patch_39\">\n    <path d=\"M 370.765816 288.430125 \nL 379.309357 288.430125 \nL 379.309357 227.295886 \nL 370.765816 227.295886 \nz\n\" clip-path=\"url(#p51e6648844)\" style=\"fill: #1f77b4; fill-opacity: 0.5; stroke: #000000; stroke-width: 0.854354; stroke-linejoin: miter\"/>\n   </g>\n   <g id=\"patch_40\">\n    <path d=\"M 379.309357 288.430125 \nL 387.852898 288.430125 \nL 387.852898 214.831624 \nL 379.309357 214.831624 \nz\n\" clip-path=\"url(#p51e6648844)\" style=\"fill: #1f77b4; fill-opacity: 0.5; stroke: #000000; stroke-width: 0.854354; stroke-linejoin: miter\"/>\n   </g>\n   <g id=\"matplotlib.axis_1\">\n    <g id=\"xtick_1\">\n     <g id=\"line2d_1\">\n      <path d=\"M 58.045106 288.430125 \nL 58.045106 22.318125 \n\" clip-path=\"url(#p51e6648844)\" style=\"fill: none; stroke: #b0b0b0; stroke-width: 0.8; stroke-linecap: square\"/>\n     </g>\n     <g id=\"line2d_2\">\n      <defs>\n       <path id=\"m4594e94eaa\" d=\"M 0 0 \nL 0 3.5 \n\" style=\"stroke: #000000; stroke-width: 0.8\"/>\n      </defs>\n      <g>\n       <use xlink:href=\"#m4594e94eaa\" x=\"58.045106\" y=\"288.430125\" style=\"stroke: #000000; stroke-width: 0.8\"/>\n      </g>\n     </g>\n     <g id=\"text_1\">\n      <!-- 0 -->\n      <g transform=\"translate(54.863856 303.028562) scale(0.1 -0.1)\">\n       <defs>\n        <path id=\"DejaVuSans-30\" d=\"M 2034 4250 \nQ 1547 4250 1301 3770 \nQ 1056 3291 1056 2328 \nQ 1056 1369 1301 889 \nQ 1547 409 2034 409 \nQ 2525 409 2770 889 \nQ 3016 1369 3016 2328 \nQ 3016 3291 2770 3770 \nQ 2525 4250 2034 4250 \nz\nM 2034 4750 \nQ 2819 4750 3233 4129 \nQ 3647 3509 3647 2328 \nQ 3647 1150 3233 529 \nQ 2819 -91 2034 -91 \nQ 1250 -91 836 529 \nQ 422 1150 422 2328 \nQ 422 3509 836 4129 \nQ 1250 4750 2034 4750 \nz\n\" transform=\"scale(0.015625)\"/>\n       </defs>\n       <use xlink:href=\"#DejaVuSans-30\"/>\n      </g>\n     </g>\n    </g>\n    <g id=\"xtick_2\">\n     <g id=\"line2d_3\">\n      <path d=\"M 122.46069 288.430125 \nL 122.46069 22.318125 \n\" clip-path=\"url(#p51e6648844)\" style=\"fill: none; stroke: #b0b0b0; stroke-width: 0.8; stroke-linecap: square\"/>\n     </g>\n     <g id=\"line2d_4\">\n      <g>\n       <use xlink:href=\"#m4594e94eaa\" x=\"122.46069\" y=\"288.430125\" style=\"stroke: #000000; stroke-width: 0.8\"/>\n      </g>\n     </g>\n     <g id=\"text_2\">\n      <!-- 100 -->\n      <g transform=\"translate(112.91694 303.028562) scale(0.1 -0.1)\">\n       <defs>\n        <path id=\"DejaVuSans-31\" d=\"M 794 531 \nL 1825 531 \nL 1825 4091 \nL 703 3866 \nL 703 4441 \nL 1819 4666 \nL 2450 4666 \nL 2450 531 \nL 3481 531 \nL 3481 0 \nL 794 0 \nL 794 531 \nz\n\" transform=\"scale(0.015625)\"/>\n       </defs>\n       <use xlink:href=\"#DejaVuSans-31\"/>\n       <use xlink:href=\"#DejaVuSans-30\" x=\"63.623047\"/>\n       <use xlink:href=\"#DejaVuSans-30\" x=\"127.246094\"/>\n      </g>\n     </g>\n    </g>\n    <g id=\"xtick_3\">\n     <g id=\"line2d_5\">\n      <path d=\"M 186.876274 288.430125 \nL 186.876274 22.318125 \n\" clip-path=\"url(#p51e6648844)\" style=\"fill: none; stroke: #b0b0b0; stroke-width: 0.8; stroke-linecap: square\"/>\n     </g>\n     <g id=\"line2d_6\">\n      <g>\n       <use xlink:href=\"#m4594e94eaa\" x=\"186.876274\" y=\"288.430125\" style=\"stroke: #000000; stroke-width: 0.8\"/>\n      </g>\n     </g>\n     <g id=\"text_3\">\n      <!-- 200 -->\n      <g transform=\"translate(177.332524 303.028562) scale(0.1 -0.1)\">\n       <defs>\n        <path id=\"DejaVuSans-32\" d=\"M 1228 531 \nL 3431 531 \nL 3431 0 \nL 469 0 \nL 469 531 \nQ 828 903 1448 1529 \nQ 2069 2156 2228 2338 \nQ 2531 2678 2651 2914 \nQ 2772 3150 2772 3378 \nQ 2772 3750 2511 3984 \nQ 2250 4219 1831 4219 \nQ 1534 4219 1204 4116 \nQ 875 4013 500 3803 \nL 500 4441 \nQ 881 4594 1212 4672 \nQ 1544 4750 1819 4750 \nQ 2544 4750 2975 4387 \nQ 3406 4025 3406 3419 \nQ 3406 3131 3298 2873 \nQ 3191 2616 2906 2266 \nQ 2828 2175 2409 1742 \nQ 1991 1309 1228 531 \nz\n\" transform=\"scale(0.015625)\"/>\n       </defs>\n       <use xlink:href=\"#DejaVuSans-32\"/>\n       <use xlink:href=\"#DejaVuSans-30\" x=\"63.623047\"/>\n       <use xlink:href=\"#DejaVuSans-30\" x=\"127.246094\"/>\n      </g>\n     </g>\n    </g>\n    <g id=\"xtick_4\">\n     <g id=\"line2d_7\">\n      <path d=\"M 251.291859 288.430125 \nL 251.291859 22.318125 \n\" clip-path=\"url(#p51e6648844)\" style=\"fill: none; stroke: #b0b0b0; stroke-width: 0.8; stroke-linecap: square\"/>\n     </g>\n     <g id=\"line2d_8\">\n      <g>\n       <use xlink:href=\"#m4594e94eaa\" x=\"251.291859\" y=\"288.430125\" style=\"stroke: #000000; stroke-width: 0.8\"/>\n      </g>\n     </g>\n     <g id=\"text_4\">\n      <!-- 300 -->\n      <g transform=\"translate(241.748109 303.028562) scale(0.1 -0.1)\">\n       <defs>\n        <path id=\"DejaVuSans-33\" d=\"M 2597 2516 \nQ 3050 2419 3304 2112 \nQ 3559 1806 3559 1356 \nQ 3559 666 3084 287 \nQ 2609 -91 1734 -91 \nQ 1441 -91 1130 -33 \nQ 819 25 488 141 \nL 488 750 \nQ 750 597 1062 519 \nQ 1375 441 1716 441 \nQ 2309 441 2620 675 \nQ 2931 909 2931 1356 \nQ 2931 1769 2642 2001 \nQ 2353 2234 1838 2234 \nL 1294 2234 \nL 1294 2753 \nL 1863 2753 \nQ 2328 2753 2575 2939 \nQ 2822 3125 2822 3475 \nQ 2822 3834 2567 4026 \nQ 2313 4219 1838 4219 \nQ 1578 4219 1281 4162 \nQ 984 4106 628 3988 \nL 628 4550 \nQ 988 4650 1302 4700 \nQ 1616 4750 1894 4750 \nQ 2613 4750 3031 4423 \nQ 3450 4097 3450 3541 \nQ 3450 3153 3228 2886 \nQ 3006 2619 2597 2516 \nz\n\" transform=\"scale(0.015625)\"/>\n       </defs>\n       <use xlink:href=\"#DejaVuSans-33\"/>\n       <use xlink:href=\"#DejaVuSans-30\" x=\"63.623047\"/>\n       <use xlink:href=\"#DejaVuSans-30\" x=\"127.246094\"/>\n      </g>\n     </g>\n    </g>\n    <g id=\"xtick_5\">\n     <g id=\"line2d_9\">\n      <path d=\"M 315.707443 288.430125 \nL 315.707443 22.318125 \n\" clip-path=\"url(#p51e6648844)\" style=\"fill: none; stroke: #b0b0b0; stroke-width: 0.8; stroke-linecap: square\"/>\n     </g>\n     <g id=\"line2d_10\">\n      <g>\n       <use xlink:href=\"#m4594e94eaa\" x=\"315.707443\" y=\"288.430125\" style=\"stroke: #000000; stroke-width: 0.8\"/>\n      </g>\n     </g>\n     <g id=\"text_5\">\n      <!-- 400 -->\n      <g transform=\"translate(306.163693 303.028562) scale(0.1 -0.1)\">\n       <defs>\n        <path id=\"DejaVuSans-34\" d=\"M 2419 4116 \nL 825 1625 \nL 2419 1625 \nL 2419 4116 \nz\nM 2253 4666 \nL 3047 4666 \nL 3047 1625 \nL 3713 1625 \nL 3713 1100 \nL 3047 1100 \nL 3047 0 \nL 2419 0 \nL 2419 1100 \nL 313 1100 \nL 313 1709 \nL 2253 4666 \nz\n\" transform=\"scale(0.015625)\"/>\n       </defs>\n       <use xlink:href=\"#DejaVuSans-34\"/>\n       <use xlink:href=\"#DejaVuSans-30\" x=\"63.623047\"/>\n       <use xlink:href=\"#DejaVuSans-30\" x=\"127.246094\"/>\n      </g>\n     </g>\n    </g>\n    <g id=\"xtick_6\">\n     <g id=\"line2d_11\">\n      <path d=\"M 380.123028 288.430125 \nL 380.123028 22.318125 \n\" clip-path=\"url(#p51e6648844)\" style=\"fill: none; stroke: #b0b0b0; stroke-width: 0.8; stroke-linecap: square\"/>\n     </g>\n     <g id=\"line2d_12\">\n      <g>\n       <use xlink:href=\"#m4594e94eaa\" x=\"380.123028\" y=\"288.430125\" style=\"stroke: #000000; stroke-width: 0.8\"/>\n      </g>\n     </g>\n     <g id=\"text_6\">\n      <!-- 500 -->\n      <g transform=\"translate(370.579278 303.028562) scale(0.1 -0.1)\">\n       <defs>\n        <path id=\"DejaVuSans-35\" d=\"M 691 4666 \nL 3169 4666 \nL 3169 4134 \nL 1269 4134 \nL 1269 2991 \nQ 1406 3038 1543 3061 \nQ 1681 3084 1819 3084 \nQ 2600 3084 3056 2656 \nQ 3513 2228 3513 1497 \nQ 3513 744 3044 326 \nQ 2575 -91 1722 -91 \nQ 1428 -91 1123 -41 \nQ 819 9 494 109 \nL 494 744 \nQ 775 591 1075 516 \nQ 1375 441 1709 441 \nQ 2250 441 2565 725 \nQ 2881 1009 2881 1497 \nQ 2881 1984 2565 2268 \nQ 2250 2553 1709 2553 \nQ 1456 2553 1204 2497 \nQ 953 2441 691 2322 \nL 691 4666 \nz\n\" transform=\"scale(0.015625)\"/>\n       </defs>\n       <use xlink:href=\"#DejaVuSans-35\"/>\n       <use xlink:href=\"#DejaVuSans-30\" x=\"63.623047\"/>\n       <use xlink:href=\"#DejaVuSans-30\" x=\"127.246094\"/>\n      </g>\n     </g>\n    </g>\n    <g id=\"text_7\">\n     <!-- length -->\n     <g transform=\"translate(209.588125 316.706687) scale(0.1 -0.1)\">\n      <defs>\n       <path id=\"DejaVuSans-6c\" d=\"M 603 4863 \nL 1178 4863 \nL 1178 0 \nL 603 0 \nL 603 4863 \nz\n\" transform=\"scale(0.015625)\"/>\n       <path id=\"DejaVuSans-65\" d=\"M 3597 1894 \nL 3597 1613 \nL 953 1613 \nQ 991 1019 1311 708 \nQ 1631 397 2203 397 \nQ 2534 397 2845 478 \nQ 3156 559 3463 722 \nL 3463 178 \nQ 3153 47 2828 -22 \nQ 2503 -91 2169 -91 \nQ 1331 -91 842 396 \nQ 353 884 353 1716 \nQ 353 2575 817 3079 \nQ 1281 3584 2069 3584 \nQ 2775 3584 3186 3129 \nQ 3597 2675 3597 1894 \nz\nM 3022 2063 \nQ 3016 2534 2758 2815 \nQ 2500 3097 2075 3097 \nQ 1594 3097 1305 2825 \nQ 1016 2553 972 2059 \nL 3022 2063 \nz\n\" transform=\"scale(0.015625)\"/>\n       <path id=\"DejaVuSans-6e\" d=\"M 3513 2113 \nL 3513 0 \nL 2938 0 \nL 2938 2094 \nQ 2938 2591 2744 2837 \nQ 2550 3084 2163 3084 \nQ 1697 3084 1428 2787 \nQ 1159 2491 1159 1978 \nL 1159 0 \nL 581 0 \nL 581 3500 \nL 1159 3500 \nL 1159 2956 \nQ 1366 3272 1645 3428 \nQ 1925 3584 2291 3584 \nQ 2894 3584 3203 3211 \nQ 3513 2838 3513 2113 \nz\n\" transform=\"scale(0.015625)\"/>\n       <path id=\"DejaVuSans-67\" d=\"M 2906 1791 \nQ 2906 2416 2648 2759 \nQ 2391 3103 1925 3103 \nQ 1463 3103 1205 2759 \nQ 947 2416 947 1791 \nQ 947 1169 1205 825 \nQ 1463 481 1925 481 \nQ 2391 481 2648 825 \nQ 2906 1169 2906 1791 \nz\nM 3481 434 \nQ 3481 -459 3084 -895 \nQ 2688 -1331 1869 -1331 \nQ 1566 -1331 1297 -1286 \nQ 1028 -1241 775 -1147 \nL 775 -588 \nQ 1028 -725 1275 -790 \nQ 1522 -856 1778 -856 \nQ 2344 -856 2625 -561 \nQ 2906 -266 2906 331 \nL 2906 616 \nQ 2728 306 2450 153 \nQ 2172 0 1784 0 \nQ 1141 0 747 490 \nQ 353 981 353 1791 \nQ 353 2603 747 3093 \nQ 1141 3584 1784 3584 \nQ 2172 3584 2450 3431 \nQ 2728 3278 2906 2969 \nL 2906 3500 \nL 3481 3500 \nL 3481 434 \nz\n\" transform=\"scale(0.015625)\"/>\n       <path id=\"DejaVuSans-74\" d=\"M 1172 4494 \nL 1172 3500 \nL 2356 3500 \nL 2356 3053 \nL 1172 3053 \nL 1172 1153 \nQ 1172 725 1289 603 \nQ 1406 481 1766 481 \nL 2356 481 \nL 2356 0 \nL 1766 0 \nQ 1100 0 847 248 \nQ 594 497 594 1153 \nL 594 3053 \nL 172 3053 \nL 172 3500 \nL 594 3500 \nL 594 4494 \nL 1172 4494 \nz\n\" transform=\"scale(0.015625)\"/>\n       <path id=\"DejaVuSans-68\" d=\"M 3513 2113 \nL 3513 0 \nL 2938 0 \nL 2938 2094 \nQ 2938 2591 2744 2837 \nQ 2550 3084 2163 3084 \nQ 1697 3084 1428 2787 \nQ 1159 2491 1159 1978 \nL 1159 0 \nL 581 0 \nL 581 4863 \nL 1159 4863 \nL 1159 2956 \nQ 1366 3272 1645 3428 \nQ 1925 3584 2291 3584 \nQ 2894 3584 3203 3211 \nQ 3513 2838 3513 2113 \nz\n\" transform=\"scale(0.015625)\"/>\n      </defs>\n      <use xlink:href=\"#DejaVuSans-6c\"/>\n      <use xlink:href=\"#DejaVuSans-65\" x=\"27.783203\"/>\n      <use xlink:href=\"#DejaVuSans-6e\" x=\"89.306641\"/>\n      <use xlink:href=\"#DejaVuSans-67\" x=\"152.685547\"/>\n      <use xlink:href=\"#DejaVuSans-74\" x=\"216.162109\"/>\n      <use xlink:href=\"#DejaVuSans-68\" x=\"255.371094\"/>\n     </g>\n    </g>\n   </g>\n   <g id=\"matplotlib.axis_2\">\n    <g id=\"ytick_1\">\n     <g id=\"line2d_13\">\n      <path d=\"M 46.965625 288.430125 \nL 404.085625 288.430125 \n\" clip-path=\"url(#p51e6648844)\" style=\"fill: none; stroke: #b0b0b0; stroke-width: 0.8; stroke-linecap: square\"/>\n     </g>\n     <g id=\"line2d_14\">\n      <defs>\n       <path id=\"m1c5f175f49\" d=\"M 0 0 \nL -3.5 0 \n\" style=\"stroke: #000000; stroke-width: 0.8\"/>\n      </defs>\n      <g>\n       <use xlink:href=\"#m1c5f175f49\" x=\"46.965625\" y=\"288.430125\" style=\"stroke: #000000; stroke-width: 0.8\"/>\n      </g>\n     </g>\n     <g id=\"text_8\">\n      <!-- 0 -->\n      <g transform=\"translate(33.603125 292.229344) scale(0.1 -0.1)\">\n       <use xlink:href=\"#DejaVuSans-30\"/>\n      </g>\n     </g>\n    </g>\n    <g id=\"ytick_2\">\n     <g id=\"line2d_15\">\n      <path d=\"M 46.965625 258.75331 \nL 404.085625 258.75331 \n\" clip-path=\"url(#p51e6648844)\" style=\"fill: none; stroke: #b0b0b0; stroke-width: 0.8; stroke-linecap: square\"/>\n     </g>\n     <g id=\"line2d_16\">\n      <g>\n       <use xlink:href=\"#m1c5f175f49\" x=\"46.965625\" y=\"258.75331\" style=\"stroke: #000000; stroke-width: 0.8\"/>\n      </g>\n     </g>\n     <g id=\"text_9\">\n      <!-- 50 -->\n      <g transform=\"translate(27.240625 262.552529) scale(0.1 -0.1)\">\n       <use xlink:href=\"#DejaVuSans-35\"/>\n       <use xlink:href=\"#DejaVuSans-30\" x=\"63.623047\"/>\n      </g>\n     </g>\n    </g>\n    <g id=\"ytick_3\">\n     <g id=\"line2d_17\">\n      <path d=\"M 46.965625 229.076495 \nL 404.085625 229.076495 \n\" clip-path=\"url(#p51e6648844)\" style=\"fill: none; stroke: #b0b0b0; stroke-width: 0.8; stroke-linecap: square\"/>\n     </g>\n     <g id=\"line2d_18\">\n      <g>\n       <use xlink:href=\"#m1c5f175f49\" x=\"46.965625\" y=\"229.076495\" style=\"stroke: #000000; stroke-width: 0.8\"/>\n      </g>\n     </g>\n     <g id=\"text_10\">\n      <!-- 100 -->\n      <g transform=\"translate(20.878125 232.875714) scale(0.1 -0.1)\">\n       <use xlink:href=\"#DejaVuSans-31\"/>\n       <use xlink:href=\"#DejaVuSans-30\" x=\"63.623047\"/>\n       <use xlink:href=\"#DejaVuSans-30\" x=\"127.246094\"/>\n      </g>\n     </g>\n    </g>\n    <g id=\"ytick_4\">\n     <g id=\"line2d_19\">\n      <path d=\"M 46.965625 199.39968 \nL 404.085625 199.39968 \n\" clip-path=\"url(#p51e6648844)\" style=\"fill: none; stroke: #b0b0b0; stroke-width: 0.8; stroke-linecap: square\"/>\n     </g>\n     <g id=\"line2d_20\">\n      <g>\n       <use xlink:href=\"#m1c5f175f49\" x=\"46.965625\" y=\"199.39968\" style=\"stroke: #000000; stroke-width: 0.8\"/>\n      </g>\n     </g>\n     <g id=\"text_11\">\n      <!-- 150 -->\n      <g transform=\"translate(20.878125 203.198899) scale(0.1 -0.1)\">\n       <use xlink:href=\"#DejaVuSans-31\"/>\n       <use xlink:href=\"#DejaVuSans-35\" x=\"63.623047\"/>\n       <use xlink:href=\"#DejaVuSans-30\" x=\"127.246094\"/>\n      </g>\n     </g>\n    </g>\n    <g id=\"ytick_5\">\n     <g id=\"line2d_21\">\n      <path d=\"M 46.965625 169.722865 \nL 404.085625 169.722865 \n\" clip-path=\"url(#p51e6648844)\" style=\"fill: none; stroke: #b0b0b0; stroke-width: 0.8; stroke-linecap: square\"/>\n     </g>\n     <g id=\"line2d_22\">\n      <g>\n       <use xlink:href=\"#m1c5f175f49\" x=\"46.965625\" y=\"169.722865\" style=\"stroke: #000000; stroke-width: 0.8\"/>\n      </g>\n     </g>\n     <g id=\"text_12\">\n      <!-- 200 -->\n      <g transform=\"translate(20.878125 173.522084) scale(0.1 -0.1)\">\n       <use xlink:href=\"#DejaVuSans-32\"/>\n       <use xlink:href=\"#DejaVuSans-30\" x=\"63.623047\"/>\n       <use xlink:href=\"#DejaVuSans-30\" x=\"127.246094\"/>\n      </g>\n     </g>\n    </g>\n    <g id=\"ytick_6\">\n     <g id=\"line2d_23\">\n      <path d=\"M 46.965625 140.04605 \nL 404.085625 140.04605 \n\" clip-path=\"url(#p51e6648844)\" style=\"fill: none; stroke: #b0b0b0; stroke-width: 0.8; stroke-linecap: square\"/>\n     </g>\n     <g id=\"line2d_24\">\n      <g>\n       <use xlink:href=\"#m1c5f175f49\" x=\"46.965625\" y=\"140.04605\" style=\"stroke: #000000; stroke-width: 0.8\"/>\n      </g>\n     </g>\n     <g id=\"text_13\">\n      <!-- 250 -->\n      <g transform=\"translate(20.878125 143.845269) scale(0.1 -0.1)\">\n       <use xlink:href=\"#DejaVuSans-32\"/>\n       <use xlink:href=\"#DejaVuSans-35\" x=\"63.623047\"/>\n       <use xlink:href=\"#DejaVuSans-30\" x=\"127.246094\"/>\n      </g>\n     </g>\n    </g>\n    <g id=\"ytick_7\">\n     <g id=\"line2d_25\">\n      <path d=\"M 46.965625 110.369235 \nL 404.085625 110.369235 \n\" clip-path=\"url(#p51e6648844)\" style=\"fill: none; stroke: #b0b0b0; stroke-width: 0.8; stroke-linecap: square\"/>\n     </g>\n     <g id=\"line2d_26\">\n      <g>\n       <use xlink:href=\"#m1c5f175f49\" x=\"46.965625\" y=\"110.369235\" style=\"stroke: #000000; stroke-width: 0.8\"/>\n      </g>\n     </g>\n     <g id=\"text_14\">\n      <!-- 300 -->\n      <g transform=\"translate(20.878125 114.168454) scale(0.1 -0.1)\">\n       <use xlink:href=\"#DejaVuSans-33\"/>\n       <use xlink:href=\"#DejaVuSans-30\" x=\"63.623047\"/>\n       <use xlink:href=\"#DejaVuSans-30\" x=\"127.246094\"/>\n      </g>\n     </g>\n    </g>\n    <g id=\"ytick_8\">\n     <g id=\"line2d_27\">\n      <path d=\"M 46.965625 80.69242 \nL 404.085625 80.69242 \n\" clip-path=\"url(#p51e6648844)\" style=\"fill: none; stroke: #b0b0b0; stroke-width: 0.8; stroke-linecap: square\"/>\n     </g>\n     <g id=\"line2d_28\">\n      <g>\n       <use xlink:href=\"#m1c5f175f49\" x=\"46.965625\" y=\"80.69242\" style=\"stroke: #000000; stroke-width: 0.8\"/>\n      </g>\n     </g>\n     <g id=\"text_15\">\n      <!-- 350 -->\n      <g transform=\"translate(20.878125 84.491639) scale(0.1 -0.1)\">\n       <use xlink:href=\"#DejaVuSans-33\"/>\n       <use xlink:href=\"#DejaVuSans-35\" x=\"63.623047\"/>\n       <use xlink:href=\"#DejaVuSans-30\" x=\"127.246094\"/>\n      </g>\n     </g>\n    </g>\n    <g id=\"ytick_9\">\n     <g id=\"line2d_29\">\n      <path d=\"M 46.965625 51.015605 \nL 404.085625 51.015605 \n\" clip-path=\"url(#p51e6648844)\" style=\"fill: none; stroke: #b0b0b0; stroke-width: 0.8; stroke-linecap: square\"/>\n     </g>\n     <g id=\"line2d_30\">\n      <g>\n       <use xlink:href=\"#m1c5f175f49\" x=\"46.965625\" y=\"51.015605\" style=\"stroke: #000000; stroke-width: 0.8\"/>\n      </g>\n     </g>\n     <g id=\"text_16\">\n      <!-- 400 -->\n      <g transform=\"translate(20.878125 54.814824) scale(0.1 -0.1)\">\n       <use xlink:href=\"#DejaVuSans-34\"/>\n       <use xlink:href=\"#DejaVuSans-30\" x=\"63.623047\"/>\n       <use xlink:href=\"#DejaVuSans-30\" x=\"127.246094\"/>\n      </g>\n     </g>\n    </g>\n    <g id=\"text_17\">\n     <!-- amount -->\n     <g transform=\"translate(14.798438 174.665531) rotate(-90) scale(0.1 -0.1)\">\n      <defs>\n       <path id=\"DejaVuSans-61\" d=\"M 2194 1759 \nQ 1497 1759 1228 1600 \nQ 959 1441 959 1056 \nQ 959 750 1161 570 \nQ 1363 391 1709 391 \nQ 2188 391 2477 730 \nQ 2766 1069 2766 1631 \nL 2766 1759 \nL 2194 1759 \nz\nM 3341 1997 \nL 3341 0 \nL 2766 0 \nL 2766 531 \nQ 2569 213 2275 61 \nQ 1981 -91 1556 -91 \nQ 1019 -91 701 211 \nQ 384 513 384 1019 \nQ 384 1609 779 1909 \nQ 1175 2209 1959 2209 \nL 2766 2209 \nL 2766 2266 \nQ 2766 2663 2505 2880 \nQ 2244 3097 1772 3097 \nQ 1472 3097 1187 3025 \nQ 903 2953 641 2809 \nL 641 3341 \nQ 956 3463 1253 3523 \nQ 1550 3584 1831 3584 \nQ 2591 3584 2966 3190 \nQ 3341 2797 3341 1997 \nz\n\" transform=\"scale(0.015625)\"/>\n       <path id=\"DejaVuSans-6d\" d=\"M 3328 2828 \nQ 3544 3216 3844 3400 \nQ 4144 3584 4550 3584 \nQ 5097 3584 5394 3201 \nQ 5691 2819 5691 2113 \nL 5691 0 \nL 5113 0 \nL 5113 2094 \nQ 5113 2597 4934 2840 \nQ 4756 3084 4391 3084 \nQ 3944 3084 3684 2787 \nQ 3425 2491 3425 1978 \nL 3425 0 \nL 2847 0 \nL 2847 2094 \nQ 2847 2600 2669 2842 \nQ 2491 3084 2119 3084 \nQ 1678 3084 1418 2786 \nQ 1159 2488 1159 1978 \nL 1159 0 \nL 581 0 \nL 581 3500 \nL 1159 3500 \nL 1159 2956 \nQ 1356 3278 1631 3431 \nQ 1906 3584 2284 3584 \nQ 2666 3584 2933 3390 \nQ 3200 3197 3328 2828 \nz\n\" transform=\"scale(0.015625)\"/>\n       <path id=\"DejaVuSans-6f\" d=\"M 1959 3097 \nQ 1497 3097 1228 2736 \nQ 959 2375 959 1747 \nQ 959 1119 1226 758 \nQ 1494 397 1959 397 \nQ 2419 397 2687 759 \nQ 2956 1122 2956 1747 \nQ 2956 2369 2687 2733 \nQ 2419 3097 1959 3097 \nz\nM 1959 3584 \nQ 2709 3584 3137 3096 \nQ 3566 2609 3566 1747 \nQ 3566 888 3137 398 \nQ 2709 -91 1959 -91 \nQ 1206 -91 779 398 \nQ 353 888 353 1747 \nQ 353 2609 779 3096 \nQ 1206 3584 1959 3584 \nz\n\" transform=\"scale(0.015625)\"/>\n       <path id=\"DejaVuSans-75\" d=\"M 544 1381 \nL 544 3500 \nL 1119 3500 \nL 1119 1403 \nQ 1119 906 1312 657 \nQ 1506 409 1894 409 \nQ 2359 409 2629 706 \nQ 2900 1003 2900 1516 \nL 2900 3500 \nL 3475 3500 \nL 3475 0 \nL 2900 0 \nL 2900 538 \nQ 2691 219 2414 64 \nQ 2138 -91 1772 -91 \nQ 1169 -91 856 284 \nQ 544 659 544 1381 \nz\nM 1991 3584 \nL 1991 3584 \nz\n\" transform=\"scale(0.015625)\"/>\n      </defs>\n      <use xlink:href=\"#DejaVuSans-61\"/>\n      <use xlink:href=\"#DejaVuSans-6d\" x=\"61.279297\"/>\n      <use xlink:href=\"#DejaVuSans-6f\" x=\"158.691406\"/>\n      <use xlink:href=\"#DejaVuSans-75\" x=\"219.873047\"/>\n      <use xlink:href=\"#DejaVuSans-6e\" x=\"283.251953\"/>\n      <use xlink:href=\"#DejaVuSans-74\" x=\"346.630859\"/>\n     </g>\n    </g>\n   </g>\n   <g id=\"line2d_31\">\n    <path d=\"M 63.198352 286.653644 \nL 68.092642 285.564843 \nL 74.618361 283.829273 \nL 95.82695 278.031997 \nL 102.352669 276.495133 \nL 110.509819 274.658787 \nL 113.772678 273.72744 \nL 118.666968 272.054097 \nL 128.455547 268.352355 \nL 131.718407 267.000063 \nL 134.981267 265.426317 \nL 138.244127 263.534876 \nL 141.506986 261.312654 \nL 146.401276 257.563831 \nL 159.452715 247.204185 \nL 161.084145 245.664825 \nL 162.715575 243.951179 \nL 164.347005 242.017351 \nL 165.978435 239.819446 \nL 167.609864 237.317834 \nL 169.241294 234.479121 \nL 170.872724 231.277727 \nL 172.504154 227.697007 \nL 174.135584 223.729844 \nL 175.767014 219.378628 \nL 177.398444 214.654578 \nL 180.661303 204.168262 \nL 183.924163 192.471932 \nL 187.187023 179.776955 \nL 190.449883 166.247882 \nL 195.344172 144.675279 \nL 203.501322 107.755719 \nL 206.764181 94.39878 \nL 208.395611 88.396001 \nL 210.027041 82.940722 \nL 211.658471 78.076552 \nL 213.289901 73.819574 \nL 214.921331 70.158665 \nL 216.552761 67.05906 \nL 218.184191 64.468524 \nL 219.81562 62.325084 \nL 221.44705 60.565051 \nL 223.07848 59.130129 \nL 224.70991 57.972595 \nL 226.34134 57.057995 \nL 227.97277 56.36525 \nL 229.6042 55.884527 \nL 231.23563 55.613563 \nL 232.867059 55.553311 \nL 234.498489 55.703756 \nL 236.129919 56.060586 \nL 237.761349 56.61315 \nL 239.392779 57.343821 \nL 242.655639 59.23904 \nL 245.918498 61.512849 \nL 257.338508 70.019705 \nL 260.601367 72.728195 \nL 262.232797 74.262736 \nL 263.864227 75.961509 \nL 265.495657 77.849546 \nL 267.127087 79.941393 \nL 268.758517 82.23894 \nL 272.021376 87.392637 \nL 275.284236 93.08251 \nL 281.809956 104.738335 \nL 285.072815 110.165608 \nL 288.335675 115.196093 \nL 293.229965 122.191585 \nL 303.018544 135.91931 \nL 311.175694 147.889448 \nL 317.701413 157.446704 \nL 322.595703 164.208564 \nL 325.858562 168.382459 \nL 330.752852 174.173791 \nL 340.541431 185.44214 \nL 353.59287 201.022013 \nL 358.48716 206.360481 \nL 369.907169 218.368298 \nL 371.538599 220.367092 \nL 373.170029 222.560329 \nL 374.801459 224.996608 \nL 376.432889 227.718637 \nL 378.064318 230.757357 \nL 379.695748 234.126302 \nL 381.327178 237.81712 \nL 384.590038 246.009227 \nL 387.852898 254.801013 \nL 387.852898 254.801013 \n\" clip-path=\"url(#p51e6648844)\" style=\"fill: none; stroke: #1f77b4; stroke-width: 1.5; stroke-linecap: square\"/>\n   </g>\n   <g id=\"patch_41\">\n    <path d=\"M 46.965625 288.430125 \nL 46.965625 22.318125 \n\" style=\"fill: none; stroke: #000000; stroke-width: 0.8; stroke-linejoin: miter; stroke-linecap: square\"/>\n   </g>\n   <g id=\"patch_42\">\n    <path d=\"M 404.085625 288.430125 \nL 404.085625 22.318125 \n\" style=\"fill: none; stroke: #000000; stroke-width: 0.8; stroke-linejoin: miter; stroke-linecap: square\"/>\n   </g>\n   <g id=\"patch_43\">\n    <path d=\"M 46.965625 288.430125 \nL 404.085625 288.430125 \n\" style=\"fill: none; stroke: #000000; stroke-width: 0.8; stroke-linejoin: miter; stroke-linecap: square\"/>\n   </g>\n   <g id=\"patch_44\">\n    <path d=\"M 46.965625 22.318125 \nL 404.085625 22.318125 \n\" style=\"fill: none; stroke: #000000; stroke-width: 0.8; stroke-linejoin: miter; stroke-linecap: square\"/>\n   </g>\n   <g id=\"text_18\">\n    <!-- Input length dist. (Closer) -->\n    <g transform=\"translate(148.789375 16.318125) scale(0.12 -0.12)\">\n     <defs>\n      <path id=\"DejaVuSans-49\" d=\"M 628 4666 \nL 1259 4666 \nL 1259 0 \nL 628 0 \nL 628 4666 \nz\n\" transform=\"scale(0.015625)\"/>\n      <path id=\"DejaVuSans-70\" d=\"M 1159 525 \nL 1159 -1331 \nL 581 -1331 \nL 581 3500 \nL 1159 3500 \nL 1159 2969 \nQ 1341 3281 1617 3432 \nQ 1894 3584 2278 3584 \nQ 2916 3584 3314 3078 \nQ 3713 2572 3713 1747 \nQ 3713 922 3314 415 \nQ 2916 -91 2278 -91 \nQ 1894 -91 1617 61 \nQ 1341 213 1159 525 \nz\nM 3116 1747 \nQ 3116 2381 2855 2742 \nQ 2594 3103 2138 3103 \nQ 1681 3103 1420 2742 \nQ 1159 2381 1159 1747 \nQ 1159 1113 1420 752 \nQ 1681 391 2138 391 \nQ 2594 391 2855 752 \nQ 3116 1113 3116 1747 \nz\n\" transform=\"scale(0.015625)\"/>\n      <path id=\"DejaVuSans-20\" transform=\"scale(0.015625)\"/>\n      <path id=\"DejaVuSans-64\" d=\"M 2906 2969 \nL 2906 4863 \nL 3481 4863 \nL 3481 0 \nL 2906 0 \nL 2906 525 \nQ 2725 213 2448 61 \nQ 2172 -91 1784 -91 \nQ 1150 -91 751 415 \nQ 353 922 353 1747 \nQ 353 2572 751 3078 \nQ 1150 3584 1784 3584 \nQ 2172 3584 2448 3432 \nQ 2725 3281 2906 2969 \nz\nM 947 1747 \nQ 947 1113 1208 752 \nQ 1469 391 1925 391 \nQ 2381 391 2643 752 \nQ 2906 1113 2906 1747 \nQ 2906 2381 2643 2742 \nQ 2381 3103 1925 3103 \nQ 1469 3103 1208 2742 \nQ 947 2381 947 1747 \nz\n\" transform=\"scale(0.015625)\"/>\n      <path id=\"DejaVuSans-69\" d=\"M 603 3500 \nL 1178 3500 \nL 1178 0 \nL 603 0 \nL 603 3500 \nz\nM 603 4863 \nL 1178 4863 \nL 1178 4134 \nL 603 4134 \nL 603 4863 \nz\n\" transform=\"scale(0.015625)\"/>\n      <path id=\"DejaVuSans-73\" d=\"M 2834 3397 \nL 2834 2853 \nQ 2591 2978 2328 3040 \nQ 2066 3103 1784 3103 \nQ 1356 3103 1142 2972 \nQ 928 2841 928 2578 \nQ 928 2378 1081 2264 \nQ 1234 2150 1697 2047 \nL 1894 2003 \nQ 2506 1872 2764 1633 \nQ 3022 1394 3022 966 \nQ 3022 478 2636 193 \nQ 2250 -91 1575 -91 \nQ 1294 -91 989 -36 \nQ 684 19 347 128 \nL 347 722 \nQ 666 556 975 473 \nQ 1284 391 1588 391 \nQ 1994 391 2212 530 \nQ 2431 669 2431 922 \nQ 2431 1156 2273 1281 \nQ 2116 1406 1581 1522 \nL 1381 1569 \nQ 847 1681 609 1914 \nQ 372 2147 372 2553 \nQ 372 3047 722 3315 \nQ 1072 3584 1716 3584 \nQ 2034 3584 2315 3537 \nQ 2597 3491 2834 3397 \nz\n\" transform=\"scale(0.015625)\"/>\n      <path id=\"DejaVuSans-2e\" d=\"M 684 794 \nL 1344 794 \nL 1344 0 \nL 684 0 \nL 684 794 \nz\n\" transform=\"scale(0.015625)\"/>\n      <path id=\"DejaVuSans-28\" d=\"M 1984 4856 \nQ 1566 4138 1362 3434 \nQ 1159 2731 1159 2009 \nQ 1159 1288 1364 580 \nQ 1569 -128 1984 -844 \nL 1484 -844 \nQ 1016 -109 783 600 \nQ 550 1309 550 2009 \nQ 550 2706 781 3412 \nQ 1013 4119 1484 4856 \nL 1984 4856 \nz\n\" transform=\"scale(0.015625)\"/>\n      <path id=\"DejaVuSans-43\" d=\"M 4122 4306 \nL 4122 3641 \nQ 3803 3938 3442 4084 \nQ 3081 4231 2675 4231 \nQ 1875 4231 1450 3742 \nQ 1025 3253 1025 2328 \nQ 1025 1406 1450 917 \nQ 1875 428 2675 428 \nQ 3081 428 3442 575 \nQ 3803 722 4122 1019 \nL 4122 359 \nQ 3791 134 3420 21 \nQ 3050 -91 2638 -91 \nQ 1578 -91 968 557 \nQ 359 1206 359 2328 \nQ 359 3453 968 4101 \nQ 1578 4750 2638 4750 \nQ 3056 4750 3426 4639 \nQ 3797 4528 4122 4306 \nz\n\" transform=\"scale(0.015625)\"/>\n      <path id=\"DejaVuSans-72\" d=\"M 2631 2963 \nQ 2534 3019 2420 3045 \nQ 2306 3072 2169 3072 \nQ 1681 3072 1420 2755 \nQ 1159 2438 1159 1844 \nL 1159 0 \nL 581 0 \nL 581 3500 \nL 1159 3500 \nL 1159 2956 \nQ 1341 3275 1631 3429 \nQ 1922 3584 2338 3584 \nQ 2397 3584 2469 3576 \nQ 2541 3569 2628 3553 \nL 2631 2963 \nz\n\" transform=\"scale(0.015625)\"/>\n      <path id=\"DejaVuSans-29\" d=\"M 513 4856 \nL 1013 4856 \nQ 1481 4119 1714 3412 \nQ 1947 2706 1947 2009 \nQ 1947 1309 1714 600 \nQ 1481 -109 1013 -844 \nL 513 -844 \nQ 928 -128 1133 580 \nQ 1338 1288 1338 2009 \nQ 1338 2731 1133 3434 \nQ 928 4138 513 4856 \nz\n\" transform=\"scale(0.015625)\"/>\n     </defs>\n     <use xlink:href=\"#DejaVuSans-49\"/>\n     <use xlink:href=\"#DejaVuSans-6e\" x=\"29.492188\"/>\n     <use xlink:href=\"#DejaVuSans-70\" x=\"92.871094\"/>\n     <use xlink:href=\"#DejaVuSans-75\" x=\"156.347656\"/>\n     <use xlink:href=\"#DejaVuSans-74\" x=\"219.726562\"/>\n     <use xlink:href=\"#DejaVuSans-20\" x=\"258.935547\"/>\n     <use xlink:href=\"#DejaVuSans-6c\" x=\"290.722656\"/>\n     <use xlink:href=\"#DejaVuSans-65\" x=\"318.505859\"/>\n     <use xlink:href=\"#DejaVuSans-6e\" x=\"380.029297\"/>\n     <use xlink:href=\"#DejaVuSans-67\" x=\"443.408203\"/>\n     <use xlink:href=\"#DejaVuSans-74\" x=\"506.884766\"/>\n     <use xlink:href=\"#DejaVuSans-68\" x=\"546.09375\"/>\n     <use xlink:href=\"#DejaVuSans-20\" x=\"609.472656\"/>\n     <use xlink:href=\"#DejaVuSans-64\" x=\"641.259766\"/>\n     <use xlink:href=\"#DejaVuSans-69\" x=\"704.736328\"/>\n     <use xlink:href=\"#DejaVuSans-73\" x=\"732.519531\"/>\n     <use xlink:href=\"#DejaVuSans-74\" x=\"784.619141\"/>\n     <use xlink:href=\"#DejaVuSans-2e\" x=\"823.828125\"/>\n     <use xlink:href=\"#DejaVuSans-20\" x=\"855.615234\"/>\n     <use xlink:href=\"#DejaVuSans-28\" x=\"887.402344\"/>\n     <use xlink:href=\"#DejaVuSans-43\" x=\"926.416016\"/>\n     <use xlink:href=\"#DejaVuSans-6c\" x=\"996.240234\"/>\n     <use xlink:href=\"#DejaVuSans-6f\" x=\"1024.023438\"/>\n     <use xlink:href=\"#DejaVuSans-73\" x=\"1085.205078\"/>\n     <use xlink:href=\"#DejaVuSans-65\" x=\"1137.304688\"/>\n     <use xlink:href=\"#DejaVuSans-72\" x=\"1198.828125\"/>\n     <use xlink:href=\"#DejaVuSans-29\" x=\"1239.941406\"/>\n    </g>\n   </g>\n   <g id=\"legend_1\">\n    <g id=\"patch_45\">\n     <path d=\"M 358.723125 44.99625 \nL 397.085625 44.99625 \nQ 399.085625 44.99625 399.085625 42.99625 \nL 399.085625 29.318125 \nQ 399.085625 27.318125 397.085625 27.318125 \nL 358.723125 27.318125 \nQ 356.723125 27.318125 356.723125 29.318125 \nL 356.723125 42.99625 \nQ 356.723125 44.99625 358.723125 44.99625 \nz\n\" style=\"fill: #ffffff; opacity: 0.8; stroke: #cccccc; stroke-linejoin: miter\"/>\n    </g>\n    <g id=\"patch_46\">\n     <path d=\"M 360.723125 38.916562 \nL 380.723125 38.916562 \nL 380.723125 31.916562 \nL 360.723125 31.916562 \nz\n\" style=\"fill: #1f77b4; fill-opacity: 0.5; stroke: #000000; stroke-linejoin: miter\"/>\n    </g>\n    <g id=\"text_19\">\n     <!-- 0 -->\n     <g transform=\"translate(388.723125 38.916562) scale(0.1 -0.1)\">\n      <use xlink:href=\"#DejaVuSans-30\"/>\n     </g>\n    </g>\n   </g>\n  </g>\n </g>\n <defs>\n  <clipPath id=\"p51e6648844\">\n   <rect x=\"46.965625\" y=\"22.318125\" width=\"357.12\" height=\"266.112\"/>\n  </clipPath>\n </defs>\n</svg>\n"
          },
          "metadata": {}
        },
        {
          "output_type": "stream",
          "name": "stdout",
          "text": [
            "Amount of texts with length less than 512 tokens: 6866\n"
          ]
        }
      ],
      "source": [
        "sns.histplot(train_ids_lengths[np.where(labels2lengths[1] <= 512)], kde=True)\n",
        "plt.ylabel('amount')\n",
        "plt.xlabel('length')\n",
        "plt.title('Input length dist. (Closer)')\n",
        "plt.grid(True)\n",
        "plt.show()\n",
        "print('Amount of texts with length less than 512 tokens: {}'.format(len(train_ids_lengths[np.where(labels2lengths[1] <= 512)])))"
      ]
    },
    {
      "cell_type": "code",
      "execution_count": 20,
      "id": "SyvBD1f0Qc5V",
      "metadata": {
        "id": "SyvBD1f0Qc5V",
        "colab": {
          "base_uri": "https://localhost:8080/",
          "height": 482
        },
        "outputId": "0b800642-50f6-43a0-ea44-03663b11d209"
      },
      "outputs": [
        {
          "output_type": "display_data",
          "data": {
            "text/plain": [
              "<Figure size 640x480 with 1 Axes>"
            ],
            "image/svg+xml": "<?xml version=\"1.0\" encoding=\"utf-8\" standalone=\"no\"?>\n<!DOCTYPE svg PUBLIC \"-//W3C//DTD SVG 1.1//EN\"\n  \"http://www.w3.org/Graphics/SVG/1.1/DTD/svg11.dtd\">\n<svg xmlns:xlink=\"http://www.w3.org/1999/xlink\" width=\"411.285625pt\" height=\"345.42825pt\" viewBox=\"0 0 411.285625 345.42825\" xmlns=\"http://www.w3.org/2000/svg\" version=\"1.1\">\n <metadata>\n  <rdf:RDF xmlns:dc=\"http://purl.org/dc/elements/1.1/\" xmlns:cc=\"http://creativecommons.org/ns#\" xmlns:rdf=\"http://www.w3.org/1999/02/22-rdf-syntax-ns#\">\n   <cc:Work>\n    <dc:type rdf:resource=\"http://purl.org/dc/dcmitype/StillImage\"/>\n    <dc:date>2024-12-28T15:12:12.257507</dc:date>\n    <dc:format>image/svg+xml</dc:format>\n    <dc:creator>\n     <cc:Agent>\n      <dc:title>Matplotlib v3.8.0, https://matplotlib.org/</dc:title>\n     </cc:Agent>\n    </dc:creator>\n   </cc:Work>\n  </rdf:RDF>\n </metadata>\n <defs>\n  <style type=\"text/css\">*{stroke-linejoin: round; stroke-linecap: butt}</style>\n </defs>\n <g id=\"figure_1\">\n  <g id=\"patch_1\">\n   <path d=\"M 0 345.42825 \nL 411.285625 345.42825 \nL 411.285625 -0 \nL 0 -0 \nz\n\" style=\"fill: #ffffff\"/>\n  </g>\n  <g id=\"axes_1\">\n   <g id=\"patch_2\">\n    <path d=\"M 46.965625 307.872 \nL 404.085625 307.872 \nL 404.085625 41.76 \nL 46.965625 41.76 \nz\n\" style=\"fill: #ffffff\"/>\n   </g>\n   <g id=\"patch_3\">\n    <path d=\"M 63.198352 307.872 \nL 67.585576 307.872 \nL 67.585576 307.285333 \nL 63.198352 307.285333 \nz\n\" clip-path=\"url(#pd2b38bf567)\" style=\"fill: #ff7f0e; fill-opacity: 0.5; stroke: #000000; stroke-width: 0.438722; stroke-linejoin: miter\"/>\n   </g>\n   <g id=\"patch_4\">\n    <path d=\"M 67.585576 307.872 \nL 71.972799 307.872 \nL 71.972799 300.245333 \nL 67.585576 300.245333 \nz\n\" clip-path=\"url(#pd2b38bf567)\" style=\"fill: #ff7f0e; fill-opacity: 0.5; stroke: #000000; stroke-width: 0.438722; stroke-linejoin: miter\"/>\n   </g>\n   <g id=\"patch_5\">\n    <path d=\"M 71.972799 307.872 \nL 76.360023 307.872 \nL 76.360023 292.618667 \nL 71.972799 292.618667 \nz\n\" clip-path=\"url(#pd2b38bf567)\" style=\"fill: #ff7f0e; fill-opacity: 0.5; stroke: #000000; stroke-width: 0.438722; stroke-linejoin: miter\"/>\n   </g>\n   <g id=\"patch_6\">\n    <path d=\"M 76.360023 307.872 \nL 80.747247 307.872 \nL 80.747247 273.258667 \nL 76.360023 273.258667 \nz\n\" clip-path=\"url(#pd2b38bf567)\" style=\"fill: #ff7f0e; fill-opacity: 0.5; stroke: #000000; stroke-width: 0.438722; stroke-linejoin: miter\"/>\n   </g>\n   <g id=\"patch_7\">\n    <path d=\"M 80.747247 307.872 \nL 85.13447 307.872 \nL 85.13447 259.765333 \nL 80.747247 259.765333 \nz\n\" clip-path=\"url(#pd2b38bf567)\" style=\"fill: #ff7f0e; fill-opacity: 0.5; stroke: #000000; stroke-width: 0.438722; stroke-linejoin: miter\"/>\n   </g>\n   <g id=\"patch_8\">\n    <path d=\"M 85.13447 307.872 \nL 89.521694 307.872 \nL 89.521694 229.258667 \nL 85.13447 229.258667 \nz\n\" clip-path=\"url(#pd2b38bf567)\" style=\"fill: #ff7f0e; fill-opacity: 0.5; stroke: #000000; stroke-width: 0.438722; stroke-linejoin: miter\"/>\n   </g>\n   <g id=\"patch_9\">\n    <path d=\"M 89.521694 307.872 \nL 93.908917 307.872 \nL 93.908917 178.805333 \nL 89.521694 178.805333 \nz\n\" clip-path=\"url(#pd2b38bf567)\" style=\"fill: #ff7f0e; fill-opacity: 0.5; stroke: #000000; stroke-width: 0.438722; stroke-linejoin: miter\"/>\n   </g>\n   <g id=\"patch_10\">\n    <path d=\"M 93.908917 307.872 \nL 98.296141 307.872 \nL 98.296141 127.178667 \nL 93.908917 127.178667 \nz\n\" clip-path=\"url(#pd2b38bf567)\" style=\"fill: #ff7f0e; fill-opacity: 0.5; stroke: #000000; stroke-width: 0.438722; stroke-linejoin: miter\"/>\n   </g>\n   <g id=\"patch_11\">\n    <path d=\"M 98.296141 307.872 \nL 102.683365 307.872 \nL 102.683365 96.672 \nL 98.296141 96.672 \nz\n\" clip-path=\"url(#pd2b38bf567)\" style=\"fill: #ff7f0e; fill-opacity: 0.5; stroke: #000000; stroke-width: 0.438722; stroke-linejoin: miter\"/>\n   </g>\n   <g id=\"patch_12\">\n    <path d=\"M 102.683365 307.872 \nL 107.070588 307.872 \nL 107.070588 59.712 \nL 102.683365 59.712 \nz\n\" clip-path=\"url(#pd2b38bf567)\" style=\"fill: #ff7f0e; fill-opacity: 0.5; stroke: #000000; stroke-width: 0.438722; stroke-linejoin: miter\"/>\n   </g>\n   <g id=\"patch_13\">\n    <path d=\"M 107.070588 307.872 \nL 111.457812 307.872 \nL 111.457812 70.858667 \nL 107.070588 70.858667 \nz\n\" clip-path=\"url(#pd2b38bf567)\" style=\"fill: #ff7f0e; fill-opacity: 0.5; stroke: #000000; stroke-width: 0.438722; stroke-linejoin: miter\"/>\n   </g>\n   <g id=\"patch_14\">\n    <path d=\"M 111.457812 307.872 \nL 115.845035 307.872 \nL 115.845035 69.098667 \nL 111.457812 69.098667 \nz\n\" clip-path=\"url(#pd2b38bf567)\" style=\"fill: #ff7f0e; fill-opacity: 0.5; stroke: #000000; stroke-width: 0.438722; stroke-linejoin: miter\"/>\n   </g>\n   <g id=\"patch_15\">\n    <path d=\"M 115.845035 307.872 \nL 120.232259 307.872 \nL 120.232259 101.952 \nL 115.845035 101.952 \nz\n\" clip-path=\"url(#pd2b38bf567)\" style=\"fill: #ff7f0e; fill-opacity: 0.5; stroke: #000000; stroke-width: 0.438722; stroke-linejoin: miter\"/>\n   </g>\n   <g id=\"patch_16\">\n    <path d=\"M 120.232259 307.872 \nL 124.619482 307.872 \nL 124.619482 138.912 \nL 120.232259 138.912 \nz\n\" clip-path=\"url(#pd2b38bf567)\" style=\"fill: #ff7f0e; fill-opacity: 0.5; stroke: #000000; stroke-width: 0.438722; stroke-linejoin: miter\"/>\n   </g>\n   <g id=\"patch_17\">\n    <path d=\"M 124.619482 307.872 \nL 129.006706 307.872 \nL 129.006706 170.005333 \nL 124.619482 170.005333 \nz\n\" clip-path=\"url(#pd2b38bf567)\" style=\"fill: #ff7f0e; fill-opacity: 0.5; stroke: #000000; stroke-width: 0.438722; stroke-linejoin: miter\"/>\n   </g>\n   <g id=\"patch_18\">\n    <path d=\"M 129.006706 307.872 \nL 133.39393 307.872 \nL 133.39393 184.085333 \nL 129.006706 184.085333 \nz\n\" clip-path=\"url(#pd2b38bf567)\" style=\"fill: #ff7f0e; fill-opacity: 0.5; stroke: #000000; stroke-width: 0.438722; stroke-linejoin: miter\"/>\n   </g>\n   <g id=\"patch_19\">\n    <path d=\"M 133.39393 307.872 \nL 137.781153 307.872 \nL 137.781153 216.352 \nL 133.39393 216.352 \nz\n\" clip-path=\"url(#pd2b38bf567)\" style=\"fill: #ff7f0e; fill-opacity: 0.5; stroke: #000000; stroke-width: 0.438722; stroke-linejoin: miter\"/>\n   </g>\n   <g id=\"patch_20\">\n    <path d=\"M 137.781153 307.872 \nL 142.168377 307.872 \nL 142.168377 230.432 \nL 137.781153 230.432 \nz\n\" clip-path=\"url(#pd2b38bf567)\" style=\"fill: #ff7f0e; fill-opacity: 0.5; stroke: #000000; stroke-width: 0.438722; stroke-linejoin: miter\"/>\n   </g>\n   <g id=\"patch_21\">\n    <path d=\"M 142.168377 307.872 \nL 146.5556 307.872 \nL 146.5556 252.138667 \nL 142.168377 252.138667 \nz\n\" clip-path=\"url(#pd2b38bf567)\" style=\"fill: #ff7f0e; fill-opacity: 0.5; stroke: #000000; stroke-width: 0.438722; stroke-linejoin: miter\"/>\n   </g>\n   <g id=\"patch_22\">\n    <path d=\"M 146.5556 307.872 \nL 150.942824 307.872 \nL 150.942824 255.072 \nL 146.5556 255.072 \nz\n\" clip-path=\"url(#pd2b38bf567)\" style=\"fill: #ff7f0e; fill-opacity: 0.5; stroke: #000000; stroke-width: 0.438722; stroke-linejoin: miter\"/>\n   </g>\n   <g id=\"patch_23\">\n    <path d=\"M 150.942824 307.872 \nL 155.330048 307.872 \nL 155.330048 251.552 \nL 150.942824 251.552 \nz\n\" clip-path=\"url(#pd2b38bf567)\" style=\"fill: #ff7f0e; fill-opacity: 0.5; stroke: #000000; stroke-width: 0.438722; stroke-linejoin: miter\"/>\n   </g>\n   <g id=\"patch_24\">\n    <path d=\"M 155.330048 307.872 \nL 159.717271 307.872 \nL 159.717271 270.912 \nL 155.330048 270.912 \nz\n\" clip-path=\"url(#pd2b38bf567)\" style=\"fill: #ff7f0e; fill-opacity: 0.5; stroke: #000000; stroke-width: 0.438722; stroke-linejoin: miter\"/>\n   </g>\n   <g id=\"patch_25\">\n    <path d=\"M 159.717271 307.872 \nL 164.104495 307.872 \nL 164.104495 281.472 \nL 159.717271 281.472 \nz\n\" clip-path=\"url(#pd2b38bf567)\" style=\"fill: #ff7f0e; fill-opacity: 0.5; stroke: #000000; stroke-width: 0.438722; stroke-linejoin: miter\"/>\n   </g>\n   <g id=\"patch_26\">\n    <path d=\"M 164.104495 307.872 \nL 168.491718 307.872 \nL 168.491718 287.925333 \nL 164.104495 287.925333 \nz\n\" clip-path=\"url(#pd2b38bf567)\" style=\"fill: #ff7f0e; fill-opacity: 0.5; stroke: #000000; stroke-width: 0.438722; stroke-linejoin: miter\"/>\n   </g>\n   <g id=\"patch_27\">\n    <path d=\"M 168.491718 307.872 \nL 172.878942 307.872 \nL 172.878942 289.685333 \nL 168.491718 289.685333 \nz\n\" clip-path=\"url(#pd2b38bf567)\" style=\"fill: #ff7f0e; fill-opacity: 0.5; stroke: #000000; stroke-width: 0.438722; stroke-linejoin: miter\"/>\n   </g>\n   <g id=\"patch_28\">\n    <path d=\"M 172.878942 307.872 \nL 177.266166 307.872 \nL 177.266166 296.138667 \nL 172.878942 296.138667 \nz\n\" clip-path=\"url(#pd2b38bf567)\" style=\"fill: #ff7f0e; fill-opacity: 0.5; stroke: #000000; stroke-width: 0.438722; stroke-linejoin: miter\"/>\n   </g>\n   <g id=\"patch_29\">\n    <path d=\"M 177.266166 307.872 \nL 181.653389 307.872 \nL 181.653389 293.205333 \nL 177.266166 293.205333 \nz\n\" clip-path=\"url(#pd2b38bf567)\" style=\"fill: #ff7f0e; fill-opacity: 0.5; stroke: #000000; stroke-width: 0.438722; stroke-linejoin: miter\"/>\n   </g>\n   <g id=\"patch_30\">\n    <path d=\"M 181.653389 307.872 \nL 186.040613 307.872 \nL 186.040613 295.552 \nL 181.653389 295.552 \nz\n\" clip-path=\"url(#pd2b38bf567)\" style=\"fill: #ff7f0e; fill-opacity: 0.5; stroke: #000000; stroke-width: 0.438722; stroke-linejoin: miter\"/>\n   </g>\n   <g id=\"patch_31\">\n    <path d=\"M 186.040613 307.872 \nL 190.427836 307.872 \nL 190.427836 297.312 \nL 186.040613 297.312 \nz\n\" clip-path=\"url(#pd2b38bf567)\" style=\"fill: #ff7f0e; fill-opacity: 0.5; stroke: #000000; stroke-width: 0.438722; stroke-linejoin: miter\"/>\n   </g>\n   <g id=\"patch_32\">\n    <path d=\"M 190.427836 307.872 \nL 194.81506 307.872 \nL 194.81506 289.685333 \nL 190.427836 289.685333 \nz\n\" clip-path=\"url(#pd2b38bf567)\" style=\"fill: #ff7f0e; fill-opacity: 0.5; stroke: #000000; stroke-width: 0.438722; stroke-linejoin: miter\"/>\n   </g>\n   <g id=\"patch_33\">\n    <path d=\"M 194.81506 307.872 \nL 199.202283 307.872 \nL 199.202283 296.138667 \nL 194.81506 296.138667 \nz\n\" clip-path=\"url(#pd2b38bf567)\" style=\"fill: #ff7f0e; fill-opacity: 0.5; stroke: #000000; stroke-width: 0.438722; stroke-linejoin: miter\"/>\n   </g>\n   <g id=\"patch_34\">\n    <path d=\"M 199.202283 307.872 \nL 203.589507 307.872 \nL 203.589507 297.312 \nL 199.202283 297.312 \nz\n\" clip-path=\"url(#pd2b38bf567)\" style=\"fill: #ff7f0e; fill-opacity: 0.5; stroke: #000000; stroke-width: 0.438722; stroke-linejoin: miter\"/>\n   </g>\n   <g id=\"patch_35\">\n    <path d=\"M 203.589507 307.872 \nL 207.976731 307.872 \nL 207.976731 285.578667 \nL 203.589507 285.578667 \nz\n\" clip-path=\"url(#pd2b38bf567)\" style=\"fill: #ff7f0e; fill-opacity: 0.5; stroke: #000000; stroke-width: 0.438722; stroke-linejoin: miter\"/>\n   </g>\n   <g id=\"patch_36\">\n    <path d=\"M 207.976731 307.872 \nL 212.363954 307.872 \nL 212.363954 275.605333 \nL 207.976731 275.605333 \nz\n\" clip-path=\"url(#pd2b38bf567)\" style=\"fill: #ff7f0e; fill-opacity: 0.5; stroke: #000000; stroke-width: 0.438722; stroke-linejoin: miter\"/>\n   </g>\n   <g id=\"patch_37\">\n    <path d=\"M 212.363954 307.872 \nL 216.751178 307.872 \nL 216.751178 263.872 \nL 212.363954 263.872 \nz\n\" clip-path=\"url(#pd2b38bf567)\" style=\"fill: #ff7f0e; fill-opacity: 0.5; stroke: #000000; stroke-width: 0.438722; stroke-linejoin: miter\"/>\n   </g>\n   <g id=\"patch_38\">\n    <path d=\"M 216.751178 307.872 \nL 221.138401 307.872 \nL 221.138401 276.192 \nL 216.751178 276.192 \nz\n\" clip-path=\"url(#pd2b38bf567)\" style=\"fill: #ff7f0e; fill-opacity: 0.5; stroke: #000000; stroke-width: 0.438722; stroke-linejoin: miter\"/>\n   </g>\n   <g id=\"patch_39\">\n    <path d=\"M 221.138401 307.872 \nL 225.525625 307.872 \nL 225.525625 297.898667 \nL 221.138401 297.898667 \nz\n\" clip-path=\"url(#pd2b38bf567)\" style=\"fill: #ff7f0e; fill-opacity: 0.5; stroke: #000000; stroke-width: 0.438722; stroke-linejoin: miter\"/>\n   </g>\n   <g id=\"patch_40\">\n    <path d=\"M 225.525625 307.872 \nL 229.912849 307.872 \nL 229.912849 302.005333 \nL 225.525625 302.005333 \nz\n\" clip-path=\"url(#pd2b38bf567)\" style=\"fill: #ff7f0e; fill-opacity: 0.5; stroke: #000000; stroke-width: 0.438722; stroke-linejoin: miter\"/>\n   </g>\n   <g id=\"patch_41\">\n    <path d=\"M 229.912849 307.872 \nL 234.300072 307.872 \nL 234.300072 299.072 \nL 229.912849 299.072 \nz\n\" clip-path=\"url(#pd2b38bf567)\" style=\"fill: #ff7f0e; fill-opacity: 0.5; stroke: #000000; stroke-width: 0.438722; stroke-linejoin: miter\"/>\n   </g>\n   <g id=\"patch_42\">\n    <path d=\"M 234.300072 307.872 \nL 238.687296 307.872 \nL 238.687296 303.178667 \nL 234.300072 303.178667 \nz\n\" clip-path=\"url(#pd2b38bf567)\" style=\"fill: #ff7f0e; fill-opacity: 0.5; stroke: #000000; stroke-width: 0.438722; stroke-linejoin: miter\"/>\n   </g>\n   <g id=\"patch_43\">\n    <path d=\"M 238.687296 307.872 \nL 243.074519 307.872 \nL 243.074519 301.418667 \nL 238.687296 301.418667 \nz\n\" clip-path=\"url(#pd2b38bf567)\" style=\"fill: #ff7f0e; fill-opacity: 0.5; stroke: #000000; stroke-width: 0.438722; stroke-linejoin: miter\"/>\n   </g>\n   <g id=\"patch_44\">\n    <path d=\"M 243.074519 307.872 \nL 247.461743 307.872 \nL 247.461743 300.832 \nL 243.074519 300.832 \nz\n\" clip-path=\"url(#pd2b38bf567)\" style=\"fill: #ff7f0e; fill-opacity: 0.5; stroke: #000000; stroke-width: 0.438722; stroke-linejoin: miter\"/>\n   </g>\n   <g id=\"patch_45\">\n    <path d=\"M 247.461743 307.872 \nL 251.848967 307.872 \nL 251.848967 306.698667 \nL 247.461743 306.698667 \nz\n\" clip-path=\"url(#pd2b38bf567)\" style=\"fill: #ff7f0e; fill-opacity: 0.5; stroke: #000000; stroke-width: 0.438722; stroke-linejoin: miter\"/>\n   </g>\n   <g id=\"patch_46\">\n    <path d=\"M 251.848967 307.872 \nL 256.23619 307.872 \nL 256.23619 303.765333 \nL 251.848967 303.765333 \nz\n\" clip-path=\"url(#pd2b38bf567)\" style=\"fill: #ff7f0e; fill-opacity: 0.5; stroke: #000000; stroke-width: 0.438722; stroke-linejoin: miter\"/>\n   </g>\n   <g id=\"patch_47\">\n    <path d=\"M 256.23619 307.872 \nL 260.623414 307.872 \nL 260.623414 305.525333 \nL 256.23619 305.525333 \nz\n\" clip-path=\"url(#pd2b38bf567)\" style=\"fill: #ff7f0e; fill-opacity: 0.5; stroke: #000000; stroke-width: 0.438722; stroke-linejoin: miter\"/>\n   </g>\n   <g id=\"patch_48\">\n    <path d=\"M 260.623414 307.872 \nL 265.010637 307.872 \nL 265.010637 304.352 \nL 260.623414 304.352 \nz\n\" clip-path=\"url(#pd2b38bf567)\" style=\"fill: #ff7f0e; fill-opacity: 0.5; stroke: #000000; stroke-width: 0.438722; stroke-linejoin: miter\"/>\n   </g>\n   <g id=\"patch_49\">\n    <path d=\"M 265.010637 307.872 \nL 269.397861 307.872 \nL 269.397861 303.765333 \nL 265.010637 303.765333 \nz\n\" clip-path=\"url(#pd2b38bf567)\" style=\"fill: #ff7f0e; fill-opacity: 0.5; stroke: #000000; stroke-width: 0.438722; stroke-linejoin: miter\"/>\n   </g>\n   <g id=\"patch_50\">\n    <path d=\"M 269.397861 307.872 \nL 273.785084 307.872 \nL 273.785084 306.112 \nL 269.397861 306.112 \nz\n\" clip-path=\"url(#pd2b38bf567)\" style=\"fill: #ff7f0e; fill-opacity: 0.5; stroke: #000000; stroke-width: 0.438722; stroke-linejoin: miter\"/>\n   </g>\n   <g id=\"patch_51\">\n    <path d=\"M 273.785084 307.872 \nL 278.172308 307.872 \nL 278.172308 305.525333 \nL 273.785084 305.525333 \nz\n\" clip-path=\"url(#pd2b38bf567)\" style=\"fill: #ff7f0e; fill-opacity: 0.5; stroke: #000000; stroke-width: 0.438722; stroke-linejoin: miter\"/>\n   </g>\n   <g id=\"patch_52\">\n    <path d=\"M 278.172308 307.872 \nL 282.559532 307.872 \nL 282.559532 305.525333 \nL 278.172308 305.525333 \nz\n\" clip-path=\"url(#pd2b38bf567)\" style=\"fill: #ff7f0e; fill-opacity: 0.5; stroke: #000000; stroke-width: 0.438722; stroke-linejoin: miter\"/>\n   </g>\n   <g id=\"patch_53\">\n    <path d=\"M 282.559532 307.872 \nL 286.946755 307.872 \nL 286.946755 305.525333 \nL 282.559532 305.525333 \nz\n\" clip-path=\"url(#pd2b38bf567)\" style=\"fill: #ff7f0e; fill-opacity: 0.5; stroke: #000000; stroke-width: 0.438722; stroke-linejoin: miter\"/>\n   </g>\n   <g id=\"patch_54\">\n    <path d=\"M 286.946755 307.872 \nL 291.333979 307.872 \nL 291.333979 305.525333 \nL 286.946755 305.525333 \nz\n\" clip-path=\"url(#pd2b38bf567)\" style=\"fill: #ff7f0e; fill-opacity: 0.5; stroke: #000000; stroke-width: 0.438722; stroke-linejoin: miter\"/>\n   </g>\n   <g id=\"patch_55\">\n    <path d=\"M 291.333979 307.872 \nL 295.721202 307.872 \nL 295.721202 307.285333 \nL 291.333979 307.285333 \nz\n\" clip-path=\"url(#pd2b38bf567)\" style=\"fill: #ff7f0e; fill-opacity: 0.5; stroke: #000000; stroke-width: 0.438722; stroke-linejoin: miter\"/>\n   </g>\n   <g id=\"patch_56\">\n    <path d=\"M 295.721202 307.872 \nL 300.108426 307.872 \nL 300.108426 307.872 \nL 295.721202 307.872 \nz\n\" clip-path=\"url(#pd2b38bf567)\" style=\"fill: #ff7f0e; fill-opacity: 0.5; stroke: #000000; stroke-width: 0.438722; stroke-linejoin: miter\"/>\n   </g>\n   <g id=\"patch_57\">\n    <path d=\"M 300.108426 307.872 \nL 304.49565 307.872 \nL 304.49565 306.698667 \nL 300.108426 306.698667 \nz\n\" clip-path=\"url(#pd2b38bf567)\" style=\"fill: #ff7f0e; fill-opacity: 0.5; stroke: #000000; stroke-width: 0.438722; stroke-linejoin: miter\"/>\n   </g>\n   <g id=\"patch_58\">\n    <path d=\"M 304.49565 307.872 \nL 308.882873 307.872 \nL 308.882873 306.698667 \nL 304.49565 306.698667 \nz\n\" clip-path=\"url(#pd2b38bf567)\" style=\"fill: #ff7f0e; fill-opacity: 0.5; stroke: #000000; stroke-width: 0.438722; stroke-linejoin: miter\"/>\n   </g>\n   <g id=\"patch_59\">\n    <path d=\"M 308.882873 307.872 \nL 313.270097 307.872 \nL 313.270097 307.872 \nL 308.882873 307.872 \nz\n\" clip-path=\"url(#pd2b38bf567)\" style=\"fill: #ff7f0e; fill-opacity: 0.5; stroke: #000000; stroke-width: 0.438722; stroke-linejoin: miter\"/>\n   </g>\n   <g id=\"patch_60\">\n    <path d=\"M 313.270097 307.872 \nL 317.65732 307.872 \nL 317.65732 306.112 \nL 313.270097 306.112 \nz\n\" clip-path=\"url(#pd2b38bf567)\" style=\"fill: #ff7f0e; fill-opacity: 0.5; stroke: #000000; stroke-width: 0.438722; stroke-linejoin: miter\"/>\n   </g>\n   <g id=\"patch_61\">\n    <path d=\"M 317.65732 307.872 \nL 322.044544 307.872 \nL 322.044544 306.698667 \nL 317.65732 306.698667 \nz\n\" clip-path=\"url(#pd2b38bf567)\" style=\"fill: #ff7f0e; fill-opacity: 0.5; stroke: #000000; stroke-width: 0.438722; stroke-linejoin: miter\"/>\n   </g>\n   <g id=\"patch_62\">\n    <path d=\"M 322.044544 307.872 \nL 326.431768 307.872 \nL 326.431768 307.285333 \nL 322.044544 307.285333 \nz\n\" clip-path=\"url(#pd2b38bf567)\" style=\"fill: #ff7f0e; fill-opacity: 0.5; stroke: #000000; stroke-width: 0.438722; stroke-linejoin: miter\"/>\n   </g>\n   <g id=\"patch_63\">\n    <path d=\"M 326.431768 307.872 \nL 330.818991 307.872 \nL 330.818991 307.285333 \nL 326.431768 307.285333 \nz\n\" clip-path=\"url(#pd2b38bf567)\" style=\"fill: #ff7f0e; fill-opacity: 0.5; stroke: #000000; stroke-width: 0.438722; stroke-linejoin: miter\"/>\n   </g>\n   <g id=\"patch_64\">\n    <path d=\"M 330.818991 307.872 \nL 335.206215 307.872 \nL 335.206215 306.698667 \nL 330.818991 306.698667 \nz\n\" clip-path=\"url(#pd2b38bf567)\" style=\"fill: #ff7f0e; fill-opacity: 0.5; stroke: #000000; stroke-width: 0.438722; stroke-linejoin: miter\"/>\n   </g>\n   <g id=\"patch_65\">\n    <path d=\"M 335.206215 307.872 \nL 339.593438 307.872 \nL 339.593438 307.285333 \nL 335.206215 307.285333 \nz\n\" clip-path=\"url(#pd2b38bf567)\" style=\"fill: #ff7f0e; fill-opacity: 0.5; stroke: #000000; stroke-width: 0.438722; stroke-linejoin: miter\"/>\n   </g>\n   <g id=\"patch_66\">\n    <path d=\"M 339.593438 307.872 \nL 343.980662 307.872 \nL 343.980662 307.872 \nL 339.593438 307.872 \nz\n\" clip-path=\"url(#pd2b38bf567)\" style=\"fill: #ff7f0e; fill-opacity: 0.5; stroke: #000000; stroke-width: 0.438722; stroke-linejoin: miter\"/>\n   </g>\n   <g id=\"patch_67\">\n    <path d=\"M 343.980662 307.872 \nL 348.367885 307.872 \nL 348.367885 307.872 \nL 343.980662 307.872 \nz\n\" clip-path=\"url(#pd2b38bf567)\" style=\"fill: #ff7f0e; fill-opacity: 0.5; stroke: #000000; stroke-width: 0.438722; stroke-linejoin: miter\"/>\n   </g>\n   <g id=\"patch_68\">\n    <path d=\"M 348.367885 307.872 \nL 352.755109 307.872 \nL 352.755109 306.698667 \nL 348.367885 306.698667 \nz\n\" clip-path=\"url(#pd2b38bf567)\" style=\"fill: #ff7f0e; fill-opacity: 0.5; stroke: #000000; stroke-width: 0.438722; stroke-linejoin: miter\"/>\n   </g>\n   <g id=\"patch_69\">\n    <path d=\"M 352.755109 307.872 \nL 357.142333 307.872 \nL 357.142333 307.872 \nL 352.755109 307.872 \nz\n\" clip-path=\"url(#pd2b38bf567)\" style=\"fill: #ff7f0e; fill-opacity: 0.5; stroke: #000000; stroke-width: 0.438722; stroke-linejoin: miter\"/>\n   </g>\n   <g id=\"patch_70\">\n    <path d=\"M 357.142333 307.872 \nL 361.529556 307.872 \nL 361.529556 306.698667 \nL 357.142333 306.698667 \nz\n\" clip-path=\"url(#pd2b38bf567)\" style=\"fill: #ff7f0e; fill-opacity: 0.5; stroke: #000000; stroke-width: 0.438722; stroke-linejoin: miter\"/>\n   </g>\n   <g id=\"patch_71\">\n    <path d=\"M 361.529556 307.872 \nL 365.91678 307.872 \nL 365.91678 307.285333 \nL 361.529556 307.285333 \nz\n\" clip-path=\"url(#pd2b38bf567)\" style=\"fill: #ff7f0e; fill-opacity: 0.5; stroke: #000000; stroke-width: 0.438722; stroke-linejoin: miter\"/>\n   </g>\n   <g id=\"patch_72\">\n    <path d=\"M 365.91678 307.872 \nL 370.304003 307.872 \nL 370.304003 307.872 \nL 365.91678 307.872 \nz\n\" clip-path=\"url(#pd2b38bf567)\" style=\"fill: #ff7f0e; fill-opacity: 0.5; stroke: #000000; stroke-width: 0.438722; stroke-linejoin: miter\"/>\n   </g>\n   <g id=\"patch_73\">\n    <path d=\"M 370.304003 307.872 \nL 374.691227 307.872 \nL 374.691227 307.872 \nL 370.304003 307.872 \nz\n\" clip-path=\"url(#pd2b38bf567)\" style=\"fill: #ff7f0e; fill-opacity: 0.5; stroke: #000000; stroke-width: 0.438722; stroke-linejoin: miter\"/>\n   </g>\n   <g id=\"patch_74\">\n    <path d=\"M 374.691227 307.872 \nL 379.078451 307.872 \nL 379.078451 307.872 \nL 374.691227 307.872 \nz\n\" clip-path=\"url(#pd2b38bf567)\" style=\"fill: #ff7f0e; fill-opacity: 0.5; stroke: #000000; stroke-width: 0.438722; stroke-linejoin: miter\"/>\n   </g>\n   <g id=\"patch_75\">\n    <path d=\"M 379.078451 307.872 \nL 383.465674 307.872 \nL 383.465674 306.698667 \nL 379.078451 306.698667 \nz\n\" clip-path=\"url(#pd2b38bf567)\" style=\"fill: #ff7f0e; fill-opacity: 0.5; stroke: #000000; stroke-width: 0.438722; stroke-linejoin: miter\"/>\n   </g>\n   <g id=\"patch_76\">\n    <path d=\"M 383.465674 307.872 \nL 387.852898 307.872 \nL 387.852898 307.285333 \nL 383.465674 307.285333 \nz\n\" clip-path=\"url(#pd2b38bf567)\" style=\"fill: #ff7f0e; fill-opacity: 0.5; stroke: #000000; stroke-width: 0.438722; stroke-linejoin: miter\"/>\n   </g>\n   <g id=\"patch_77\">\n    <path d=\"M 63.198352 307.872 \nL 67.585576 307.872 \nL 67.585576 300.245333 \nL 63.198352 300.245333 \nz\n\" clip-path=\"url(#pd2b38bf567)\" style=\"fill: #1f77b4; fill-opacity: 0.5; stroke: #000000; stroke-width: 0.438722; stroke-linejoin: miter\"/>\n   </g>\n   <g id=\"patch_78\">\n    <path d=\"M 67.585576 307.872 \nL 71.972799 307.872 \nL 71.972799 299.072 \nL 67.585576 299.072 \nz\n\" clip-path=\"url(#pd2b38bf567)\" style=\"fill: #1f77b4; fill-opacity: 0.5; stroke: #000000; stroke-width: 0.438722; stroke-linejoin: miter\"/>\n   </g>\n   <g id=\"patch_79\">\n    <path d=\"M 71.972799 307.872 \nL 76.360023 307.872 \nL 76.360023 297.898667 \nL 71.972799 297.898667 \nz\n\" clip-path=\"url(#pd2b38bf567)\" style=\"fill: #1f77b4; fill-opacity: 0.5; stroke: #000000; stroke-width: 0.438722; stroke-linejoin: miter\"/>\n   </g>\n   <g id=\"patch_80\">\n    <path d=\"M 76.360023 307.872 \nL 80.747247 307.872 \nL 80.747247 298.485333 \nL 76.360023 298.485333 \nz\n\" clip-path=\"url(#pd2b38bf567)\" style=\"fill: #1f77b4; fill-opacity: 0.5; stroke: #000000; stroke-width: 0.438722; stroke-linejoin: miter\"/>\n   </g>\n   <g id=\"patch_81\">\n    <path d=\"M 80.747247 307.872 \nL 85.13447 307.872 \nL 85.13447 301.418667 \nL 80.747247 301.418667 \nz\n\" clip-path=\"url(#pd2b38bf567)\" style=\"fill: #1f77b4; fill-opacity: 0.5; stroke: #000000; stroke-width: 0.438722; stroke-linejoin: miter\"/>\n   </g>\n   <g id=\"patch_82\">\n    <path d=\"M 85.13447 307.872 \nL 89.521694 307.872 \nL 89.521694 303.765333 \nL 85.13447 303.765333 \nz\n\" clip-path=\"url(#pd2b38bf567)\" style=\"fill: #1f77b4; fill-opacity: 0.5; stroke: #000000; stroke-width: 0.438722; stroke-linejoin: miter\"/>\n   </g>\n   <g id=\"patch_83\">\n    <path d=\"M 89.521694 307.872 \nL 93.908917 307.872 \nL 93.908917 294.378667 \nL 89.521694 294.378667 \nz\n\" clip-path=\"url(#pd2b38bf567)\" style=\"fill: #1f77b4; fill-opacity: 0.5; stroke: #000000; stroke-width: 0.438722; stroke-linejoin: miter\"/>\n   </g>\n   <g id=\"patch_84\">\n    <path d=\"M 93.908917 307.872 \nL 98.296141 307.872 \nL 98.296141 191.712 \nL 93.908917 191.712 \nz\n\" clip-path=\"url(#pd2b38bf567)\" style=\"fill: #1f77b4; fill-opacity: 0.5; stroke: #000000; stroke-width: 0.438722; stroke-linejoin: miter\"/>\n   </g>\n   <g id=\"patch_85\">\n    <path d=\"M 98.296141 307.872 \nL 102.683365 307.872 \nL 102.683365 54.432 \nL 98.296141 54.432 \nz\n\" clip-path=\"url(#pd2b38bf567)\" style=\"fill: #1f77b4; fill-opacity: 0.5; stroke: #000000; stroke-width: 0.438722; stroke-linejoin: miter\"/>\n   </g>\n   <g id=\"patch_86\">\n    <path d=\"M 102.683365 307.872 \nL 107.070588 307.872 \nL 107.070588 59.712 \nL 102.683365 59.712 \nz\n\" clip-path=\"url(#pd2b38bf567)\" style=\"fill: #1f77b4; fill-opacity: 0.5; stroke: #000000; stroke-width: 0.438722; stroke-linejoin: miter\"/>\n   </g>\n   <g id=\"patch_87\">\n    <path d=\"M 107.070588 307.872 \nL 111.457812 307.872 \nL 111.457812 87.285333 \nL 107.070588 87.285333 \nz\n\" clip-path=\"url(#pd2b38bf567)\" style=\"fill: #1f77b4; fill-opacity: 0.5; stroke: #000000; stroke-width: 0.438722; stroke-linejoin: miter\"/>\n   </g>\n   <g id=\"patch_88\">\n    <path d=\"M 111.457812 307.872 \nL 115.845035 307.872 \nL 115.845035 117.792 \nL 111.457812 117.792 \nz\n\" clip-path=\"url(#pd2b38bf567)\" style=\"fill: #1f77b4; fill-opacity: 0.5; stroke: #000000; stroke-width: 0.438722; stroke-linejoin: miter\"/>\n   </g>\n   <g id=\"patch_89\">\n    <path d=\"M 115.845035 307.872 \nL 120.232259 307.872 \nL 120.232259 150.058667 \nL 115.845035 150.058667 \nz\n\" clip-path=\"url(#pd2b38bf567)\" style=\"fill: #1f77b4; fill-opacity: 0.5; stroke: #000000; stroke-width: 0.438722; stroke-linejoin: miter\"/>\n   </g>\n   <g id=\"patch_90\">\n    <path d=\"M 120.232259 307.872 \nL 124.619482 307.872 \nL 124.619482 162.965333 \nL 120.232259 162.965333 \nz\n\" clip-path=\"url(#pd2b38bf567)\" style=\"fill: #1f77b4; fill-opacity: 0.5; stroke: #000000; stroke-width: 0.438722; stroke-linejoin: miter\"/>\n   </g>\n   <g id=\"patch_91\">\n    <path d=\"M 124.619482 307.872 \nL 129.006706 307.872 \nL 129.006706 186.432 \nL 124.619482 186.432 \nz\n\" clip-path=\"url(#pd2b38bf567)\" style=\"fill: #1f77b4; fill-opacity: 0.5; stroke: #000000; stroke-width: 0.438722; stroke-linejoin: miter\"/>\n   </g>\n   <g id=\"patch_92\">\n    <path d=\"M 129.006706 307.872 \nL 133.39393 307.872 \nL 133.39393 211.658667 \nL 129.006706 211.658667 \nz\n\" clip-path=\"url(#pd2b38bf567)\" style=\"fill: #1f77b4; fill-opacity: 0.5; stroke: #000000; stroke-width: 0.438722; stroke-linejoin: miter\"/>\n   </g>\n   <g id=\"patch_93\">\n    <path d=\"M 133.39393 307.872 \nL 137.781153 307.872 \nL 137.781153 226.325333 \nL 133.39393 226.325333 \nz\n\" clip-path=\"url(#pd2b38bf567)\" style=\"fill: #1f77b4; fill-opacity: 0.5; stroke: #000000; stroke-width: 0.438722; stroke-linejoin: miter\"/>\n   </g>\n   <g id=\"patch_94\">\n    <path d=\"M 137.781153 307.872 \nL 142.168377 307.872 \nL 142.168377 238.645333 \nL 137.781153 238.645333 \nz\n\" clip-path=\"url(#pd2b38bf567)\" style=\"fill: #1f77b4; fill-opacity: 0.5; stroke: #000000; stroke-width: 0.438722; stroke-linejoin: miter\"/>\n   </g>\n   <g id=\"patch_95\">\n    <path d=\"M 142.168377 307.872 \nL 146.5556 307.872 \nL 146.5556 253.312 \nL 142.168377 253.312 \nz\n\" clip-path=\"url(#pd2b38bf567)\" style=\"fill: #1f77b4; fill-opacity: 0.5; stroke: #000000; stroke-width: 0.438722; stroke-linejoin: miter\"/>\n   </g>\n   <g id=\"patch_96\">\n    <path d=\"M 146.5556 307.872 \nL 150.942824 307.872 \nL 150.942824 257.418667 \nL 146.5556 257.418667 \nz\n\" clip-path=\"url(#pd2b38bf567)\" style=\"fill: #1f77b4; fill-opacity: 0.5; stroke: #000000; stroke-width: 0.438722; stroke-linejoin: miter\"/>\n   </g>\n   <g id=\"patch_97\">\n    <path d=\"M 150.942824 307.872 \nL 155.330048 307.872 \nL 155.330048 254.485333 \nL 150.942824 254.485333 \nz\n\" clip-path=\"url(#pd2b38bf567)\" style=\"fill: #1f77b4; fill-opacity: 0.5; stroke: #000000; stroke-width: 0.438722; stroke-linejoin: miter\"/>\n   </g>\n   <g id=\"patch_98\">\n    <path d=\"M 155.330048 307.872 \nL 159.717271 307.872 \nL 159.717271 269.738667 \nL 155.330048 269.738667 \nz\n\" clip-path=\"url(#pd2b38bf567)\" style=\"fill: #1f77b4; fill-opacity: 0.5; stroke: #000000; stroke-width: 0.438722; stroke-linejoin: miter\"/>\n   </g>\n   <g id=\"patch_99\">\n    <path d=\"M 159.717271 307.872 \nL 164.104495 307.872 \nL 164.104495 258.005333 \nL 159.717271 258.005333 \nz\n\" clip-path=\"url(#pd2b38bf567)\" style=\"fill: #1f77b4; fill-opacity: 0.5; stroke: #000000; stroke-width: 0.438722; stroke-linejoin: miter\"/>\n   </g>\n   <g id=\"patch_100\">\n    <path d=\"M 164.104495 307.872 \nL 168.491718 307.872 \nL 168.491718 264.458667 \nL 164.104495 264.458667 \nz\n\" clip-path=\"url(#pd2b38bf567)\" style=\"fill: #1f77b4; fill-opacity: 0.5; stroke: #000000; stroke-width: 0.438722; stroke-linejoin: miter\"/>\n   </g>\n   <g id=\"patch_101\">\n    <path d=\"M 168.491718 307.872 \nL 172.878942 307.872 \nL 172.878942 265.632 \nL 168.491718 265.632 \nz\n\" clip-path=\"url(#pd2b38bf567)\" style=\"fill: #1f77b4; fill-opacity: 0.5; stroke: #000000; stroke-width: 0.438722; stroke-linejoin: miter\"/>\n   </g>\n   <g id=\"patch_102\">\n    <path d=\"M 172.878942 307.872 \nL 177.266166 307.872 \nL 177.266166 279.712 \nL 172.878942 279.712 \nz\n\" clip-path=\"url(#pd2b38bf567)\" style=\"fill: #1f77b4; fill-opacity: 0.5; stroke: #000000; stroke-width: 0.438722; stroke-linejoin: miter\"/>\n   </g>\n   <g id=\"patch_103\">\n    <path d=\"M 177.266166 307.872 \nL 181.653389 307.872 \nL 181.653389 279.712 \nL 177.266166 279.712 \nz\n\" clip-path=\"url(#pd2b38bf567)\" style=\"fill: #1f77b4; fill-opacity: 0.5; stroke: #000000; stroke-width: 0.438722; stroke-linejoin: miter\"/>\n   </g>\n   <g id=\"patch_104\">\n    <path d=\"M 181.653389 307.872 \nL 186.040613 307.872 \nL 186.040613 270.325333 \nL 181.653389 270.325333 \nz\n\" clip-path=\"url(#pd2b38bf567)\" style=\"fill: #1f77b4; fill-opacity: 0.5; stroke: #000000; stroke-width: 0.438722; stroke-linejoin: miter\"/>\n   </g>\n   <g id=\"patch_105\">\n    <path d=\"M 186.040613 307.872 \nL 190.427836 307.872 \nL 190.427836 278.538667 \nL 186.040613 278.538667 \nz\n\" clip-path=\"url(#pd2b38bf567)\" style=\"fill: #1f77b4; fill-opacity: 0.5; stroke: #000000; stroke-width: 0.438722; stroke-linejoin: miter\"/>\n   </g>\n   <g id=\"patch_106\">\n    <path d=\"M 190.427836 307.872 \nL 194.81506 307.872 \nL 194.81506 277.952 \nL 190.427836 277.952 \nz\n\" clip-path=\"url(#pd2b38bf567)\" style=\"fill: #1f77b4; fill-opacity: 0.5; stroke: #000000; stroke-width: 0.438722; stroke-linejoin: miter\"/>\n   </g>\n   <g id=\"patch_107\">\n    <path d=\"M 194.81506 307.872 \nL 199.202283 307.872 \nL 199.202283 284.992 \nL 194.81506 284.992 \nz\n\" clip-path=\"url(#pd2b38bf567)\" style=\"fill: #1f77b4; fill-opacity: 0.5; stroke: #000000; stroke-width: 0.438722; stroke-linejoin: miter\"/>\n   </g>\n   <g id=\"patch_108\">\n    <path d=\"M 199.202283 307.872 \nL 203.589507 307.872 \nL 203.589507 279.125333 \nL 199.202283 279.125333 \nz\n\" clip-path=\"url(#pd2b38bf567)\" style=\"fill: #1f77b4; fill-opacity: 0.5; stroke: #000000; stroke-width: 0.438722; stroke-linejoin: miter\"/>\n   </g>\n   <g id=\"patch_109\">\n    <path d=\"M 203.589507 307.872 \nL 207.976731 307.872 \nL 207.976731 282.645333 \nL 203.589507 282.645333 \nz\n\" clip-path=\"url(#pd2b38bf567)\" style=\"fill: #1f77b4; fill-opacity: 0.5; stroke: #000000; stroke-width: 0.438722; stroke-linejoin: miter\"/>\n   </g>\n   <g id=\"patch_110\">\n    <path d=\"M 207.976731 307.872 \nL 212.363954 307.872 \nL 212.363954 279.712 \nL 207.976731 279.712 \nz\n\" clip-path=\"url(#pd2b38bf567)\" style=\"fill: #1f77b4; fill-opacity: 0.5; stroke: #000000; stroke-width: 0.438722; stroke-linejoin: miter\"/>\n   </g>\n   <g id=\"patch_111\">\n    <path d=\"M 212.363954 307.872 \nL 216.751178 307.872 \nL 216.751178 285.578667 \nL 212.363954 285.578667 \nz\n\" clip-path=\"url(#pd2b38bf567)\" style=\"fill: #1f77b4; fill-opacity: 0.5; stroke: #000000; stroke-width: 0.438722; stroke-linejoin: miter\"/>\n   </g>\n   <g id=\"patch_112\">\n    <path d=\"M 216.751178 307.872 \nL 221.138401 307.872 \nL 221.138401 285.578667 \nL 216.751178 285.578667 \nz\n\" clip-path=\"url(#pd2b38bf567)\" style=\"fill: #1f77b4; fill-opacity: 0.5; stroke: #000000; stroke-width: 0.438722; stroke-linejoin: miter\"/>\n   </g>\n   <g id=\"patch_113\">\n    <path d=\"M 221.138401 307.872 \nL 225.525625 307.872 \nL 225.525625 289.098667 \nL 221.138401 289.098667 \nz\n\" clip-path=\"url(#pd2b38bf567)\" style=\"fill: #1f77b4; fill-opacity: 0.5; stroke: #000000; stroke-width: 0.438722; stroke-linejoin: miter\"/>\n   </g>\n   <g id=\"patch_114\">\n    <path d=\"M 225.525625 307.872 \nL 229.912849 307.872 \nL 229.912849 289.098667 \nL 225.525625 289.098667 \nz\n\" clip-path=\"url(#pd2b38bf567)\" style=\"fill: #1f77b4; fill-opacity: 0.5; stroke: #000000; stroke-width: 0.438722; stroke-linejoin: miter\"/>\n   </g>\n   <g id=\"patch_115\">\n    <path d=\"M 229.912849 307.872 \nL 234.300072 307.872 \nL 234.300072 290.858667 \nL 229.912849 290.858667 \nz\n\" clip-path=\"url(#pd2b38bf567)\" style=\"fill: #1f77b4; fill-opacity: 0.5; stroke: #000000; stroke-width: 0.438722; stroke-linejoin: miter\"/>\n   </g>\n   <g id=\"patch_116\">\n    <path d=\"M 234.300072 307.872 \nL 238.687296 307.872 \nL 238.687296 293.205333 \nL 234.300072 293.205333 \nz\n\" clip-path=\"url(#pd2b38bf567)\" style=\"fill: #1f77b4; fill-opacity: 0.5; stroke: #000000; stroke-width: 0.438722; stroke-linejoin: miter\"/>\n   </g>\n   <g id=\"patch_117\">\n    <path d=\"M 238.687296 307.872 \nL 243.074519 307.872 \nL 243.074519 288.512 \nL 238.687296 288.512 \nz\n\" clip-path=\"url(#pd2b38bf567)\" style=\"fill: #1f77b4; fill-opacity: 0.5; stroke: #000000; stroke-width: 0.438722; stroke-linejoin: miter\"/>\n   </g>\n   <g id=\"patch_118\">\n    <path d=\"M 243.074519 307.872 \nL 247.461743 307.872 \nL 247.461743 291.445333 \nL 243.074519 291.445333 \nz\n\" clip-path=\"url(#pd2b38bf567)\" style=\"fill: #1f77b4; fill-opacity: 0.5; stroke: #000000; stroke-width: 0.438722; stroke-linejoin: miter\"/>\n   </g>\n   <g id=\"patch_119\">\n    <path d=\"M 247.461743 307.872 \nL 251.848967 307.872 \nL 251.848967 294.378667 \nL 247.461743 294.378667 \nz\n\" clip-path=\"url(#pd2b38bf567)\" style=\"fill: #1f77b4; fill-opacity: 0.5; stroke: #000000; stroke-width: 0.438722; stroke-linejoin: miter\"/>\n   </g>\n   <g id=\"patch_120\">\n    <path d=\"M 251.848967 307.872 \nL 256.23619 307.872 \nL 256.23619 291.445333 \nL 251.848967 291.445333 \nz\n\" clip-path=\"url(#pd2b38bf567)\" style=\"fill: #1f77b4; fill-opacity: 0.5; stroke: #000000; stroke-width: 0.438722; stroke-linejoin: miter\"/>\n   </g>\n   <g id=\"patch_121\">\n    <path d=\"M 256.23619 307.872 \nL 260.623414 307.872 \nL 260.623414 290.858667 \nL 256.23619 290.858667 \nz\n\" clip-path=\"url(#pd2b38bf567)\" style=\"fill: #1f77b4; fill-opacity: 0.5; stroke: #000000; stroke-width: 0.438722; stroke-linejoin: miter\"/>\n   </g>\n   <g id=\"patch_122\">\n    <path d=\"M 260.623414 307.872 \nL 265.010637 307.872 \nL 265.010637 293.205333 \nL 260.623414 293.205333 \nz\n\" clip-path=\"url(#pd2b38bf567)\" style=\"fill: #1f77b4; fill-opacity: 0.5; stroke: #000000; stroke-width: 0.438722; stroke-linejoin: miter\"/>\n   </g>\n   <g id=\"patch_123\">\n    <path d=\"M 265.010637 307.872 \nL 269.397861 307.872 \nL 269.397861 290.272 \nL 265.010637 290.272 \nz\n\" clip-path=\"url(#pd2b38bf567)\" style=\"fill: #1f77b4; fill-opacity: 0.5; stroke: #000000; stroke-width: 0.438722; stroke-linejoin: miter\"/>\n   </g>\n   <g id=\"patch_124\">\n    <path d=\"M 269.397861 307.872 \nL 273.785084 307.872 \nL 273.785084 295.552 \nL 269.397861 295.552 \nz\n\" clip-path=\"url(#pd2b38bf567)\" style=\"fill: #1f77b4; fill-opacity: 0.5; stroke: #000000; stroke-width: 0.438722; stroke-linejoin: miter\"/>\n   </g>\n   <g id=\"patch_125\">\n    <path d=\"M 273.785084 307.872 \nL 278.172308 307.872 \nL 278.172308 296.138667 \nL 273.785084 296.138667 \nz\n\" clip-path=\"url(#pd2b38bf567)\" style=\"fill: #1f77b4; fill-opacity: 0.5; stroke: #000000; stroke-width: 0.438722; stroke-linejoin: miter\"/>\n   </g>\n   <g id=\"patch_126\">\n    <path d=\"M 278.172308 307.872 \nL 282.559532 307.872 \nL 282.559532 293.205333 \nL 278.172308 293.205333 \nz\n\" clip-path=\"url(#pd2b38bf567)\" style=\"fill: #1f77b4; fill-opacity: 0.5; stroke: #000000; stroke-width: 0.438722; stroke-linejoin: miter\"/>\n   </g>\n   <g id=\"patch_127\">\n    <path d=\"M 282.559532 307.872 \nL 286.946755 307.872 \nL 286.946755 297.898667 \nL 282.559532 297.898667 \nz\n\" clip-path=\"url(#pd2b38bf567)\" style=\"fill: #1f77b4; fill-opacity: 0.5; stroke: #000000; stroke-width: 0.438722; stroke-linejoin: miter\"/>\n   </g>\n   <g id=\"patch_128\">\n    <path d=\"M 286.946755 307.872 \nL 291.333979 307.872 \nL 291.333979 294.965333 \nL 286.946755 294.965333 \nz\n\" clip-path=\"url(#pd2b38bf567)\" style=\"fill: #1f77b4; fill-opacity: 0.5; stroke: #000000; stroke-width: 0.438722; stroke-linejoin: miter\"/>\n   </g>\n   <g id=\"patch_129\">\n    <path d=\"M 291.333979 307.872 \nL 295.721202 307.872 \nL 295.721202 297.312 \nL 291.333979 297.312 \nz\n\" clip-path=\"url(#pd2b38bf567)\" style=\"fill: #1f77b4; fill-opacity: 0.5; stroke: #000000; stroke-width: 0.438722; stroke-linejoin: miter\"/>\n   </g>\n   <g id=\"patch_130\">\n    <path d=\"M 295.721202 307.872 \nL 300.108426 307.872 \nL 300.108426 297.312 \nL 295.721202 297.312 \nz\n\" clip-path=\"url(#pd2b38bf567)\" style=\"fill: #1f77b4; fill-opacity: 0.5; stroke: #000000; stroke-width: 0.438722; stroke-linejoin: miter\"/>\n   </g>\n   <g id=\"patch_131\">\n    <path d=\"M 300.108426 307.872 \nL 304.49565 307.872 \nL 304.49565 297.312 \nL 300.108426 297.312 \nz\n\" clip-path=\"url(#pd2b38bf567)\" style=\"fill: #1f77b4; fill-opacity: 0.5; stroke: #000000; stroke-width: 0.438722; stroke-linejoin: miter\"/>\n   </g>\n   <g id=\"patch_132\">\n    <path d=\"M 304.49565 307.872 \nL 308.882873 307.872 \nL 308.882873 299.072 \nL 304.49565 299.072 \nz\n\" clip-path=\"url(#pd2b38bf567)\" style=\"fill: #1f77b4; fill-opacity: 0.5; stroke: #000000; stroke-width: 0.438722; stroke-linejoin: miter\"/>\n   </g>\n   <g id=\"patch_133\">\n    <path d=\"M 308.882873 307.872 \nL 313.270097 307.872 \nL 313.270097 298.485333 \nL 308.882873 298.485333 \nz\n\" clip-path=\"url(#pd2b38bf567)\" style=\"fill: #1f77b4; fill-opacity: 0.5; stroke: #000000; stroke-width: 0.438722; stroke-linejoin: miter\"/>\n   </g>\n   <g id=\"patch_134\">\n    <path d=\"M 313.270097 307.872 \nL 317.65732 307.872 \nL 317.65732 297.312 \nL 313.270097 297.312 \nz\n\" clip-path=\"url(#pd2b38bf567)\" style=\"fill: #1f77b4; fill-opacity: 0.5; stroke: #000000; stroke-width: 0.438722; stroke-linejoin: miter\"/>\n   </g>\n   <g id=\"patch_135\">\n    <path d=\"M 317.65732 307.872 \nL 322.044544 307.872 \nL 322.044544 297.312 \nL 317.65732 297.312 \nz\n\" clip-path=\"url(#pd2b38bf567)\" style=\"fill: #1f77b4; fill-opacity: 0.5; stroke: #000000; stroke-width: 0.438722; stroke-linejoin: miter\"/>\n   </g>\n   <g id=\"patch_136\">\n    <path d=\"M 322.044544 307.872 \nL 326.431768 307.872 \nL 326.431768 299.072 \nL 322.044544 299.072 \nz\n\" clip-path=\"url(#pd2b38bf567)\" style=\"fill: #1f77b4; fill-opacity: 0.5; stroke: #000000; stroke-width: 0.438722; stroke-linejoin: miter\"/>\n   </g>\n   <g id=\"patch_137\">\n    <path d=\"M 326.431768 307.872 \nL 330.818991 307.872 \nL 330.818991 299.072 \nL 326.431768 299.072 \nz\n\" clip-path=\"url(#pd2b38bf567)\" style=\"fill: #1f77b4; fill-opacity: 0.5; stroke: #000000; stroke-width: 0.438722; stroke-linejoin: miter\"/>\n   </g>\n   <g id=\"patch_138\">\n    <path d=\"M 330.818991 307.872 \nL 335.206215 307.872 \nL 335.206215 297.312 \nL 330.818991 297.312 \nz\n\" clip-path=\"url(#pd2b38bf567)\" style=\"fill: #1f77b4; fill-opacity: 0.5; stroke: #000000; stroke-width: 0.438722; stroke-linejoin: miter\"/>\n   </g>\n   <g id=\"patch_139\">\n    <path d=\"M 335.206215 307.872 \nL 339.593438 307.872 \nL 339.593438 299.658667 \nL 335.206215 299.658667 \nz\n\" clip-path=\"url(#pd2b38bf567)\" style=\"fill: #1f77b4; fill-opacity: 0.5; stroke: #000000; stroke-width: 0.438722; stroke-linejoin: miter\"/>\n   </g>\n   <g id=\"patch_140\">\n    <path d=\"M 339.593438 307.872 \nL 343.980662 307.872 \nL 343.980662 296.725333 \nL 339.593438 296.725333 \nz\n\" clip-path=\"url(#pd2b38bf567)\" style=\"fill: #1f77b4; fill-opacity: 0.5; stroke: #000000; stroke-width: 0.438722; stroke-linejoin: miter\"/>\n   </g>\n   <g id=\"patch_141\">\n    <path d=\"M 343.980662 307.872 \nL 348.367885 307.872 \nL 348.367885 297.898667 \nL 343.980662 297.898667 \nz\n\" clip-path=\"url(#pd2b38bf567)\" style=\"fill: #1f77b4; fill-opacity: 0.5; stroke: #000000; stroke-width: 0.438722; stroke-linejoin: miter\"/>\n   </g>\n   <g id=\"patch_142\">\n    <path d=\"M 348.367885 307.872 \nL 352.755109 307.872 \nL 352.755109 300.245333 \nL 348.367885 300.245333 \nz\n\" clip-path=\"url(#pd2b38bf567)\" style=\"fill: #1f77b4; fill-opacity: 0.5; stroke: #000000; stroke-width: 0.438722; stroke-linejoin: miter\"/>\n   </g>\n   <g id=\"patch_143\">\n    <path d=\"M 352.755109 307.872 \nL 357.142333 307.872 \nL 357.142333 300.832 \nL 352.755109 300.832 \nz\n\" clip-path=\"url(#pd2b38bf567)\" style=\"fill: #1f77b4; fill-opacity: 0.5; stroke: #000000; stroke-width: 0.438722; stroke-linejoin: miter\"/>\n   </g>\n   <g id=\"patch_144\">\n    <path d=\"M 357.142333 307.872 \nL 361.529556 307.872 \nL 361.529556 302.592 \nL 357.142333 302.592 \nz\n\" clip-path=\"url(#pd2b38bf567)\" style=\"fill: #1f77b4; fill-opacity: 0.5; stroke: #000000; stroke-width: 0.438722; stroke-linejoin: miter\"/>\n   </g>\n   <g id=\"patch_145\">\n    <path d=\"M 361.529556 307.872 \nL 365.91678 307.872 \nL 365.91678 297.898667 \nL 361.529556 297.898667 \nz\n\" clip-path=\"url(#pd2b38bf567)\" style=\"fill: #1f77b4; fill-opacity: 0.5; stroke: #000000; stroke-width: 0.438722; stroke-linejoin: miter\"/>\n   </g>\n   <g id=\"patch_146\">\n    <path d=\"M 365.91678 307.872 \nL 370.304003 307.872 \nL 370.304003 302.005333 \nL 365.91678 302.005333 \nz\n\" clip-path=\"url(#pd2b38bf567)\" style=\"fill: #1f77b4; fill-opacity: 0.5; stroke: #000000; stroke-width: 0.438722; stroke-linejoin: miter\"/>\n   </g>\n   <g id=\"patch_147\">\n    <path d=\"M 370.304003 307.872 \nL 374.691227 307.872 \nL 374.691227 301.418667 \nL 370.304003 301.418667 \nz\n\" clip-path=\"url(#pd2b38bf567)\" style=\"fill: #1f77b4; fill-opacity: 0.5; stroke: #000000; stroke-width: 0.438722; stroke-linejoin: miter\"/>\n   </g>\n   <g id=\"patch_148\">\n    <path d=\"M 374.691227 307.872 \nL 379.078451 307.872 \nL 379.078451 299.072 \nL 374.691227 299.072 \nz\n\" clip-path=\"url(#pd2b38bf567)\" style=\"fill: #1f77b4; fill-opacity: 0.5; stroke: #000000; stroke-width: 0.438722; stroke-linejoin: miter\"/>\n   </g>\n   <g id=\"patch_149\">\n    <path d=\"M 379.078451 307.872 \nL 383.465674 307.872 \nL 383.465674 300.245333 \nL 379.078451 300.245333 \nz\n\" clip-path=\"url(#pd2b38bf567)\" style=\"fill: #1f77b4; fill-opacity: 0.5; stroke: #000000; stroke-width: 0.438722; stroke-linejoin: miter\"/>\n   </g>\n   <g id=\"patch_150\">\n    <path d=\"M 383.465674 307.872 \nL 387.852898 307.872 \nL 387.852898 300.832 \nL 383.465674 300.832 \nz\n\" clip-path=\"url(#pd2b38bf567)\" style=\"fill: #1f77b4; fill-opacity: 0.5; stroke: #000000; stroke-width: 0.438722; stroke-linejoin: miter\"/>\n   </g>\n   <g id=\"matplotlib.axis_1\">\n    <g id=\"xtick_1\">\n     <g id=\"line2d_1\">\n      <path d=\"M 61.924573 307.872 \nL 61.924573 41.76 \n\" clip-path=\"url(#pd2b38bf567)\" style=\"fill: none; stroke: #b0b0b0; stroke-width: 0.8; stroke-linecap: square\"/>\n     </g>\n     <g id=\"line2d_2\">\n      <defs>\n       <path id=\"me7f270b6e8\" d=\"M 0 0 \nL 0 3.5 \n\" style=\"stroke: #000000; stroke-width: 0.8\"/>\n      </defs>\n      <g>\n       <use xlink:href=\"#me7f270b6e8\" x=\"61.924573\" y=\"307.872\" style=\"stroke: #000000; stroke-width: 0.8\"/>\n      </g>\n     </g>\n     <g id=\"text_1\">\n      <!-- 0 -->\n      <g transform=\"translate(58.743323 322.470438) scale(0.1 -0.1)\">\n       <defs>\n        <path id=\"DejaVuSans-30\" d=\"M 2034 4250 \nQ 1547 4250 1301 3770 \nQ 1056 3291 1056 2328 \nQ 1056 1369 1301 889 \nQ 1547 409 2034 409 \nQ 2525 409 2770 889 \nQ 3016 1369 3016 2328 \nQ 3016 3291 2770 3770 \nQ 2525 4250 2034 4250 \nz\nM 2034 4750 \nQ 2819 4750 3233 4129 \nQ 3647 3509 3647 2328 \nQ 3647 1150 3233 529 \nQ 2819 -91 2034 -91 \nQ 1250 -91 836 529 \nQ 422 1150 422 2328 \nQ 422 3509 836 4129 \nQ 1250 4750 2034 4750 \nz\n\" transform=\"scale(0.015625)\"/>\n       </defs>\n       <use xlink:href=\"#DejaVuSans-30\"/>\n      </g>\n     </g>\n    </g>\n    <g id=\"xtick_2\">\n     <g id=\"line2d_3\">\n      <path d=\"M 101.730182 307.872 \nL 101.730182 41.76 \n\" clip-path=\"url(#pd2b38bf567)\" style=\"fill: none; stroke: #b0b0b0; stroke-width: 0.8; stroke-linecap: square\"/>\n     </g>\n     <g id=\"line2d_4\">\n      <g>\n       <use xlink:href=\"#me7f270b6e8\" x=\"101.730182\" y=\"307.872\" style=\"stroke: #000000; stroke-width: 0.8\"/>\n      </g>\n     </g>\n     <g id=\"text_2\">\n      <!-- 250 -->\n      <g transform=\"translate(92.186432 322.470438) scale(0.1 -0.1)\">\n       <defs>\n        <path id=\"DejaVuSans-32\" d=\"M 1228 531 \nL 3431 531 \nL 3431 0 \nL 469 0 \nL 469 531 \nQ 828 903 1448 1529 \nQ 2069 2156 2228 2338 \nQ 2531 2678 2651 2914 \nQ 2772 3150 2772 3378 \nQ 2772 3750 2511 3984 \nQ 2250 4219 1831 4219 \nQ 1534 4219 1204 4116 \nQ 875 4013 500 3803 \nL 500 4441 \nQ 881 4594 1212 4672 \nQ 1544 4750 1819 4750 \nQ 2544 4750 2975 4387 \nQ 3406 4025 3406 3419 \nQ 3406 3131 3298 2873 \nQ 3191 2616 2906 2266 \nQ 2828 2175 2409 1742 \nQ 1991 1309 1228 531 \nz\n\" transform=\"scale(0.015625)\"/>\n        <path id=\"DejaVuSans-35\" d=\"M 691 4666 \nL 3169 4666 \nL 3169 4134 \nL 1269 4134 \nL 1269 2991 \nQ 1406 3038 1543 3061 \nQ 1681 3084 1819 3084 \nQ 2600 3084 3056 2656 \nQ 3513 2228 3513 1497 \nQ 3513 744 3044 326 \nQ 2575 -91 1722 -91 \nQ 1428 -91 1123 -41 \nQ 819 9 494 109 \nL 494 744 \nQ 775 591 1075 516 \nQ 1375 441 1709 441 \nQ 2250 441 2565 725 \nQ 2881 1009 2881 1497 \nQ 2881 1984 2565 2268 \nQ 2250 2553 1709 2553 \nQ 1456 2553 1204 2497 \nQ 953 2441 691 2322 \nL 691 4666 \nz\n\" transform=\"scale(0.015625)\"/>\n       </defs>\n       <use xlink:href=\"#DejaVuSans-32\"/>\n       <use xlink:href=\"#DejaVuSans-35\" x=\"63.623047\"/>\n       <use xlink:href=\"#DejaVuSans-30\" x=\"127.246094\"/>\n      </g>\n     </g>\n    </g>\n    <g id=\"xtick_3\">\n     <g id=\"line2d_5\">\n      <path d=\"M 141.53579 307.872 \nL 141.53579 41.76 \n\" clip-path=\"url(#pd2b38bf567)\" style=\"fill: none; stroke: #b0b0b0; stroke-width: 0.8; stroke-linecap: square\"/>\n     </g>\n     <g id=\"line2d_6\">\n      <g>\n       <use xlink:href=\"#me7f270b6e8\" x=\"141.53579\" y=\"307.872\" style=\"stroke: #000000; stroke-width: 0.8\"/>\n      </g>\n     </g>\n     <g id=\"text_3\">\n      <!-- 500 -->\n      <g transform=\"translate(131.99204 322.470438) scale(0.1 -0.1)\">\n       <use xlink:href=\"#DejaVuSans-35\"/>\n       <use xlink:href=\"#DejaVuSans-30\" x=\"63.623047\"/>\n       <use xlink:href=\"#DejaVuSans-30\" x=\"127.246094\"/>\n      </g>\n     </g>\n    </g>\n    <g id=\"xtick_4\">\n     <g id=\"line2d_7\">\n      <path d=\"M 181.341399 307.872 \nL 181.341399 41.76 \n\" clip-path=\"url(#pd2b38bf567)\" style=\"fill: none; stroke: #b0b0b0; stroke-width: 0.8; stroke-linecap: square\"/>\n     </g>\n     <g id=\"line2d_8\">\n      <g>\n       <use xlink:href=\"#me7f270b6e8\" x=\"181.341399\" y=\"307.872\" style=\"stroke: #000000; stroke-width: 0.8\"/>\n      </g>\n     </g>\n     <g id=\"text_4\">\n      <!-- 750 -->\n      <g transform=\"translate(171.797649 322.470438) scale(0.1 -0.1)\">\n       <defs>\n        <path id=\"DejaVuSans-37\" d=\"M 525 4666 \nL 3525 4666 \nL 3525 4397 \nL 1831 0 \nL 1172 0 \nL 2766 4134 \nL 525 4134 \nL 525 4666 \nz\n\" transform=\"scale(0.015625)\"/>\n       </defs>\n       <use xlink:href=\"#DejaVuSans-37\"/>\n       <use xlink:href=\"#DejaVuSans-35\" x=\"63.623047\"/>\n       <use xlink:href=\"#DejaVuSans-30\" x=\"127.246094\"/>\n      </g>\n     </g>\n    </g>\n    <g id=\"xtick_5\">\n     <g id=\"line2d_9\">\n      <path d=\"M 221.147008 307.872 \nL 221.147008 41.76 \n\" clip-path=\"url(#pd2b38bf567)\" style=\"fill: none; stroke: #b0b0b0; stroke-width: 0.8; stroke-linecap: square\"/>\n     </g>\n     <g id=\"line2d_10\">\n      <g>\n       <use xlink:href=\"#me7f270b6e8\" x=\"221.147008\" y=\"307.872\" style=\"stroke: #000000; stroke-width: 0.8\"/>\n      </g>\n     </g>\n     <g id=\"text_5\">\n      <!-- 1000 -->\n      <g transform=\"translate(208.422008 322.470438) scale(0.1 -0.1)\">\n       <defs>\n        <path id=\"DejaVuSans-31\" d=\"M 794 531 \nL 1825 531 \nL 1825 4091 \nL 703 3866 \nL 703 4441 \nL 1819 4666 \nL 2450 4666 \nL 2450 531 \nL 3481 531 \nL 3481 0 \nL 794 0 \nL 794 531 \nz\n\" transform=\"scale(0.015625)\"/>\n       </defs>\n       <use xlink:href=\"#DejaVuSans-31\"/>\n       <use xlink:href=\"#DejaVuSans-30\" x=\"63.623047\"/>\n       <use xlink:href=\"#DejaVuSans-30\" x=\"127.246094\"/>\n       <use xlink:href=\"#DejaVuSans-30\" x=\"190.869141\"/>\n      </g>\n     </g>\n    </g>\n    <g id=\"xtick_6\">\n     <g id=\"line2d_11\">\n      <path d=\"M 260.952617 307.872 \nL 260.952617 41.76 \n\" clip-path=\"url(#pd2b38bf567)\" style=\"fill: none; stroke: #b0b0b0; stroke-width: 0.8; stroke-linecap: square\"/>\n     </g>\n     <g id=\"line2d_12\">\n      <g>\n       <use xlink:href=\"#me7f270b6e8\" x=\"260.952617\" y=\"307.872\" style=\"stroke: #000000; stroke-width: 0.8\"/>\n      </g>\n     </g>\n     <g id=\"text_6\">\n      <!-- 1250 -->\n      <g transform=\"translate(248.227617 322.470438) scale(0.1 -0.1)\">\n       <use xlink:href=\"#DejaVuSans-31\"/>\n       <use xlink:href=\"#DejaVuSans-32\" x=\"63.623047\"/>\n       <use xlink:href=\"#DejaVuSans-35\" x=\"127.246094\"/>\n       <use xlink:href=\"#DejaVuSans-30\" x=\"190.869141\"/>\n      </g>\n     </g>\n    </g>\n    <g id=\"xtick_7\">\n     <g id=\"line2d_13\">\n      <path d=\"M 300.758226 307.872 \nL 300.758226 41.76 \n\" clip-path=\"url(#pd2b38bf567)\" style=\"fill: none; stroke: #b0b0b0; stroke-width: 0.8; stroke-linecap: square\"/>\n     </g>\n     <g id=\"line2d_14\">\n      <g>\n       <use xlink:href=\"#me7f270b6e8\" x=\"300.758226\" y=\"307.872\" style=\"stroke: #000000; stroke-width: 0.8\"/>\n      </g>\n     </g>\n     <g id=\"text_7\">\n      <!-- 1500 -->\n      <g transform=\"translate(288.033226 322.470438) scale(0.1 -0.1)\">\n       <use xlink:href=\"#DejaVuSans-31\"/>\n       <use xlink:href=\"#DejaVuSans-35\" x=\"63.623047\"/>\n       <use xlink:href=\"#DejaVuSans-30\" x=\"127.246094\"/>\n       <use xlink:href=\"#DejaVuSans-30\" x=\"190.869141\"/>\n      </g>\n     </g>\n    </g>\n    <g id=\"xtick_8\">\n     <g id=\"line2d_15\">\n      <path d=\"M 340.563834 307.872 \nL 340.563834 41.76 \n\" clip-path=\"url(#pd2b38bf567)\" style=\"fill: none; stroke: #b0b0b0; stroke-width: 0.8; stroke-linecap: square\"/>\n     </g>\n     <g id=\"line2d_16\">\n      <g>\n       <use xlink:href=\"#me7f270b6e8\" x=\"340.563834\" y=\"307.872\" style=\"stroke: #000000; stroke-width: 0.8\"/>\n      </g>\n     </g>\n     <g id=\"text_8\">\n      <!-- 1750 -->\n      <g transform=\"translate(327.838834 322.470438) scale(0.1 -0.1)\">\n       <use xlink:href=\"#DejaVuSans-31\"/>\n       <use xlink:href=\"#DejaVuSans-37\" x=\"63.623047\"/>\n       <use xlink:href=\"#DejaVuSans-35\" x=\"127.246094\"/>\n       <use xlink:href=\"#DejaVuSans-30\" x=\"190.869141\"/>\n      </g>\n     </g>\n    </g>\n    <g id=\"xtick_9\">\n     <g id=\"line2d_17\">\n      <path d=\"M 380.369443 307.872 \nL 380.369443 41.76 \n\" clip-path=\"url(#pd2b38bf567)\" style=\"fill: none; stroke: #b0b0b0; stroke-width: 0.8; stroke-linecap: square\"/>\n     </g>\n     <g id=\"line2d_18\">\n      <g>\n       <use xlink:href=\"#me7f270b6e8\" x=\"380.369443\" y=\"307.872\" style=\"stroke: #000000; stroke-width: 0.8\"/>\n      </g>\n     </g>\n     <g id=\"text_9\">\n      <!-- 2000 -->\n      <g transform=\"translate(367.644443 322.470438) scale(0.1 -0.1)\">\n       <use xlink:href=\"#DejaVuSans-32\"/>\n       <use xlink:href=\"#DejaVuSans-30\" x=\"63.623047\"/>\n       <use xlink:href=\"#DejaVuSans-30\" x=\"127.246094\"/>\n       <use xlink:href=\"#DejaVuSans-30\" x=\"190.869141\"/>\n      </g>\n     </g>\n    </g>\n    <g id=\"text_10\">\n     <!-- length -->\n     <g transform=\"translate(209.588125 336.148562) scale(0.1 -0.1)\">\n      <defs>\n       <path id=\"DejaVuSans-6c\" d=\"M 603 4863 \nL 1178 4863 \nL 1178 0 \nL 603 0 \nL 603 4863 \nz\n\" transform=\"scale(0.015625)\"/>\n       <path id=\"DejaVuSans-65\" d=\"M 3597 1894 \nL 3597 1613 \nL 953 1613 \nQ 991 1019 1311 708 \nQ 1631 397 2203 397 \nQ 2534 397 2845 478 \nQ 3156 559 3463 722 \nL 3463 178 \nQ 3153 47 2828 -22 \nQ 2503 -91 2169 -91 \nQ 1331 -91 842 396 \nQ 353 884 353 1716 \nQ 353 2575 817 3079 \nQ 1281 3584 2069 3584 \nQ 2775 3584 3186 3129 \nQ 3597 2675 3597 1894 \nz\nM 3022 2063 \nQ 3016 2534 2758 2815 \nQ 2500 3097 2075 3097 \nQ 1594 3097 1305 2825 \nQ 1016 2553 972 2059 \nL 3022 2063 \nz\n\" transform=\"scale(0.015625)\"/>\n       <path id=\"DejaVuSans-6e\" d=\"M 3513 2113 \nL 3513 0 \nL 2938 0 \nL 2938 2094 \nQ 2938 2591 2744 2837 \nQ 2550 3084 2163 3084 \nQ 1697 3084 1428 2787 \nQ 1159 2491 1159 1978 \nL 1159 0 \nL 581 0 \nL 581 3500 \nL 1159 3500 \nL 1159 2956 \nQ 1366 3272 1645 3428 \nQ 1925 3584 2291 3584 \nQ 2894 3584 3203 3211 \nQ 3513 2838 3513 2113 \nz\n\" transform=\"scale(0.015625)\"/>\n       <path id=\"DejaVuSans-67\" d=\"M 2906 1791 \nQ 2906 2416 2648 2759 \nQ 2391 3103 1925 3103 \nQ 1463 3103 1205 2759 \nQ 947 2416 947 1791 \nQ 947 1169 1205 825 \nQ 1463 481 1925 481 \nQ 2391 481 2648 825 \nQ 2906 1169 2906 1791 \nz\nM 3481 434 \nQ 3481 -459 3084 -895 \nQ 2688 -1331 1869 -1331 \nQ 1566 -1331 1297 -1286 \nQ 1028 -1241 775 -1147 \nL 775 -588 \nQ 1028 -725 1275 -790 \nQ 1522 -856 1778 -856 \nQ 2344 -856 2625 -561 \nQ 2906 -266 2906 331 \nL 2906 616 \nQ 2728 306 2450 153 \nQ 2172 0 1784 0 \nQ 1141 0 747 490 \nQ 353 981 353 1791 \nQ 353 2603 747 3093 \nQ 1141 3584 1784 3584 \nQ 2172 3584 2450 3431 \nQ 2728 3278 2906 2969 \nL 2906 3500 \nL 3481 3500 \nL 3481 434 \nz\n\" transform=\"scale(0.015625)\"/>\n       <path id=\"DejaVuSans-74\" d=\"M 1172 4494 \nL 1172 3500 \nL 2356 3500 \nL 2356 3053 \nL 1172 3053 \nL 1172 1153 \nQ 1172 725 1289 603 \nQ 1406 481 1766 481 \nL 2356 481 \nL 2356 0 \nL 1766 0 \nQ 1100 0 847 248 \nQ 594 497 594 1153 \nL 594 3053 \nL 172 3053 \nL 172 3500 \nL 594 3500 \nL 594 4494 \nL 1172 4494 \nz\n\" transform=\"scale(0.015625)\"/>\n       <path id=\"DejaVuSans-68\" d=\"M 3513 2113 \nL 3513 0 \nL 2938 0 \nL 2938 2094 \nQ 2938 2591 2744 2837 \nQ 2550 3084 2163 3084 \nQ 1697 3084 1428 2787 \nQ 1159 2491 1159 1978 \nL 1159 0 \nL 581 0 \nL 581 4863 \nL 1159 4863 \nL 1159 2956 \nQ 1366 3272 1645 3428 \nQ 1925 3584 2291 3584 \nQ 2894 3584 3203 3211 \nQ 3513 2838 3513 2113 \nz\n\" transform=\"scale(0.015625)\"/>\n      </defs>\n      <use xlink:href=\"#DejaVuSans-6c\"/>\n      <use xlink:href=\"#DejaVuSans-65\" x=\"27.783203\"/>\n      <use xlink:href=\"#DejaVuSans-6e\" x=\"89.306641\"/>\n      <use xlink:href=\"#DejaVuSans-67\" x=\"152.685547\"/>\n      <use xlink:href=\"#DejaVuSans-74\" x=\"216.162109\"/>\n      <use xlink:href=\"#DejaVuSans-68\" x=\"255.371094\"/>\n     </g>\n    </g>\n   </g>\n   <g id=\"matplotlib.axis_2\">\n    <g id=\"ytick_1\">\n     <g id=\"line2d_19\">\n      <path d=\"M 46.965625 307.872 \nL 404.085625 307.872 \n\" clip-path=\"url(#pd2b38bf567)\" style=\"fill: none; stroke: #b0b0b0; stroke-width: 0.8; stroke-linecap: square\"/>\n     </g>\n     <g id=\"line2d_20\">\n      <defs>\n       <path id=\"mc69282da2b\" d=\"M 0 0 \nL -3.5 0 \n\" style=\"stroke: #000000; stroke-width: 0.8\"/>\n      </defs>\n      <g>\n       <use xlink:href=\"#mc69282da2b\" x=\"46.965625\" y=\"307.872\" style=\"stroke: #000000; stroke-width: 0.8\"/>\n      </g>\n     </g>\n     <g id=\"text_11\">\n      <!-- 0 -->\n      <g transform=\"translate(33.603125 311.671219) scale(0.1 -0.1)\">\n       <use xlink:href=\"#DejaVuSans-30\"/>\n      </g>\n     </g>\n    </g>\n    <g id=\"ytick_2\">\n     <g id=\"line2d_21\">\n      <path d=\"M 46.965625 249.205333 \nL 404.085625 249.205333 \n\" clip-path=\"url(#pd2b38bf567)\" style=\"fill: none; stroke: #b0b0b0; stroke-width: 0.8; stroke-linecap: square\"/>\n     </g>\n     <g id=\"line2d_22\">\n      <g>\n       <use xlink:href=\"#mc69282da2b\" x=\"46.965625\" y=\"249.205333\" style=\"stroke: #000000; stroke-width: 0.8\"/>\n      </g>\n     </g>\n     <g id=\"text_12\">\n      <!-- 100 -->\n      <g transform=\"translate(20.878125 253.004552) scale(0.1 -0.1)\">\n       <use xlink:href=\"#DejaVuSans-31\"/>\n       <use xlink:href=\"#DejaVuSans-30\" x=\"63.623047\"/>\n       <use xlink:href=\"#DejaVuSans-30\" x=\"127.246094\"/>\n      </g>\n     </g>\n    </g>\n    <g id=\"ytick_3\">\n     <g id=\"line2d_23\">\n      <path d=\"M 46.965625 190.538667 \nL 404.085625 190.538667 \n\" clip-path=\"url(#pd2b38bf567)\" style=\"fill: none; stroke: #b0b0b0; stroke-width: 0.8; stroke-linecap: square\"/>\n     </g>\n     <g id=\"line2d_24\">\n      <g>\n       <use xlink:href=\"#mc69282da2b\" x=\"46.965625\" y=\"190.538667\" style=\"stroke: #000000; stroke-width: 0.8\"/>\n      </g>\n     </g>\n     <g id=\"text_13\">\n      <!-- 200 -->\n      <g transform=\"translate(20.878125 194.337885) scale(0.1 -0.1)\">\n       <use xlink:href=\"#DejaVuSans-32\"/>\n       <use xlink:href=\"#DejaVuSans-30\" x=\"63.623047\"/>\n       <use xlink:href=\"#DejaVuSans-30\" x=\"127.246094\"/>\n      </g>\n     </g>\n    </g>\n    <g id=\"ytick_4\">\n     <g id=\"line2d_25\">\n      <path d=\"M 46.965625 131.872 \nL 404.085625 131.872 \n\" clip-path=\"url(#pd2b38bf567)\" style=\"fill: none; stroke: #b0b0b0; stroke-width: 0.8; stroke-linecap: square\"/>\n     </g>\n     <g id=\"line2d_26\">\n      <g>\n       <use xlink:href=\"#mc69282da2b\" x=\"46.965625\" y=\"131.872\" style=\"stroke: #000000; stroke-width: 0.8\"/>\n      </g>\n     </g>\n     <g id=\"text_14\">\n      <!-- 300 -->\n      <g transform=\"translate(20.878125 135.671219) scale(0.1 -0.1)\">\n       <defs>\n        <path id=\"DejaVuSans-33\" d=\"M 2597 2516 \nQ 3050 2419 3304 2112 \nQ 3559 1806 3559 1356 \nQ 3559 666 3084 287 \nQ 2609 -91 1734 -91 \nQ 1441 -91 1130 -33 \nQ 819 25 488 141 \nL 488 750 \nQ 750 597 1062 519 \nQ 1375 441 1716 441 \nQ 2309 441 2620 675 \nQ 2931 909 2931 1356 \nQ 2931 1769 2642 2001 \nQ 2353 2234 1838 2234 \nL 1294 2234 \nL 1294 2753 \nL 1863 2753 \nQ 2328 2753 2575 2939 \nQ 2822 3125 2822 3475 \nQ 2822 3834 2567 4026 \nQ 2313 4219 1838 4219 \nQ 1578 4219 1281 4162 \nQ 984 4106 628 3988 \nL 628 4550 \nQ 988 4650 1302 4700 \nQ 1616 4750 1894 4750 \nQ 2613 4750 3031 4423 \nQ 3450 4097 3450 3541 \nQ 3450 3153 3228 2886 \nQ 3006 2619 2597 2516 \nz\n\" transform=\"scale(0.015625)\"/>\n       </defs>\n       <use xlink:href=\"#DejaVuSans-33\"/>\n       <use xlink:href=\"#DejaVuSans-30\" x=\"63.623047\"/>\n       <use xlink:href=\"#DejaVuSans-30\" x=\"127.246094\"/>\n      </g>\n     </g>\n    </g>\n    <g id=\"ytick_5\">\n     <g id=\"line2d_27\">\n      <path d=\"M 46.965625 73.205333 \nL 404.085625 73.205333 \n\" clip-path=\"url(#pd2b38bf567)\" style=\"fill: none; stroke: #b0b0b0; stroke-width: 0.8; stroke-linecap: square\"/>\n     </g>\n     <g id=\"line2d_28\">\n      <g>\n       <use xlink:href=\"#mc69282da2b\" x=\"46.965625\" y=\"73.205333\" style=\"stroke: #000000; stroke-width: 0.8\"/>\n      </g>\n     </g>\n     <g id=\"text_15\">\n      <!-- 400 -->\n      <g transform=\"translate(20.878125 77.004552) scale(0.1 -0.1)\">\n       <defs>\n        <path id=\"DejaVuSans-34\" d=\"M 2419 4116 \nL 825 1625 \nL 2419 1625 \nL 2419 4116 \nz\nM 2253 4666 \nL 3047 4666 \nL 3047 1625 \nL 3713 1625 \nL 3713 1100 \nL 3047 1100 \nL 3047 0 \nL 2419 0 \nL 2419 1100 \nL 313 1100 \nL 313 1709 \nL 2253 4666 \nz\n\" transform=\"scale(0.015625)\"/>\n       </defs>\n       <use xlink:href=\"#DejaVuSans-34\"/>\n       <use xlink:href=\"#DejaVuSans-30\" x=\"63.623047\"/>\n       <use xlink:href=\"#DejaVuSans-30\" x=\"127.246094\"/>\n      </g>\n     </g>\n    </g>\n    <g id=\"text_16\">\n     <!-- amount -->\n     <g transform=\"translate(14.798438 194.107406) rotate(-90) scale(0.1 -0.1)\">\n      <defs>\n       <path id=\"DejaVuSans-61\" d=\"M 2194 1759 \nQ 1497 1759 1228 1600 \nQ 959 1441 959 1056 \nQ 959 750 1161 570 \nQ 1363 391 1709 391 \nQ 2188 391 2477 730 \nQ 2766 1069 2766 1631 \nL 2766 1759 \nL 2194 1759 \nz\nM 3341 1997 \nL 3341 0 \nL 2766 0 \nL 2766 531 \nQ 2569 213 2275 61 \nQ 1981 -91 1556 -91 \nQ 1019 -91 701 211 \nQ 384 513 384 1019 \nQ 384 1609 779 1909 \nQ 1175 2209 1959 2209 \nL 2766 2209 \nL 2766 2266 \nQ 2766 2663 2505 2880 \nQ 2244 3097 1772 3097 \nQ 1472 3097 1187 3025 \nQ 903 2953 641 2809 \nL 641 3341 \nQ 956 3463 1253 3523 \nQ 1550 3584 1831 3584 \nQ 2591 3584 2966 3190 \nQ 3341 2797 3341 1997 \nz\n\" transform=\"scale(0.015625)\"/>\n       <path id=\"DejaVuSans-6d\" d=\"M 3328 2828 \nQ 3544 3216 3844 3400 \nQ 4144 3584 4550 3584 \nQ 5097 3584 5394 3201 \nQ 5691 2819 5691 2113 \nL 5691 0 \nL 5113 0 \nL 5113 2094 \nQ 5113 2597 4934 2840 \nQ 4756 3084 4391 3084 \nQ 3944 3084 3684 2787 \nQ 3425 2491 3425 1978 \nL 3425 0 \nL 2847 0 \nL 2847 2094 \nQ 2847 2600 2669 2842 \nQ 2491 3084 2119 3084 \nQ 1678 3084 1418 2786 \nQ 1159 2488 1159 1978 \nL 1159 0 \nL 581 0 \nL 581 3500 \nL 1159 3500 \nL 1159 2956 \nQ 1356 3278 1631 3431 \nQ 1906 3584 2284 3584 \nQ 2666 3584 2933 3390 \nQ 3200 3197 3328 2828 \nz\n\" transform=\"scale(0.015625)\"/>\n       <path id=\"DejaVuSans-6f\" d=\"M 1959 3097 \nQ 1497 3097 1228 2736 \nQ 959 2375 959 1747 \nQ 959 1119 1226 758 \nQ 1494 397 1959 397 \nQ 2419 397 2687 759 \nQ 2956 1122 2956 1747 \nQ 2956 2369 2687 2733 \nQ 2419 3097 1959 3097 \nz\nM 1959 3584 \nQ 2709 3584 3137 3096 \nQ 3566 2609 3566 1747 \nQ 3566 888 3137 398 \nQ 2709 -91 1959 -91 \nQ 1206 -91 779 398 \nQ 353 888 353 1747 \nQ 353 2609 779 3096 \nQ 1206 3584 1959 3584 \nz\n\" transform=\"scale(0.015625)\"/>\n       <path id=\"DejaVuSans-75\" d=\"M 544 1381 \nL 544 3500 \nL 1119 3500 \nL 1119 1403 \nQ 1119 906 1312 657 \nQ 1506 409 1894 409 \nQ 2359 409 2629 706 \nQ 2900 1003 2900 1516 \nL 2900 3500 \nL 3475 3500 \nL 3475 0 \nL 2900 0 \nL 2900 538 \nQ 2691 219 2414 64 \nQ 2138 -91 1772 -91 \nQ 1169 -91 856 284 \nQ 544 659 544 1381 \nz\nM 1991 3584 \nL 1991 3584 \nz\n\" transform=\"scale(0.015625)\"/>\n      </defs>\n      <use xlink:href=\"#DejaVuSans-61\"/>\n      <use xlink:href=\"#DejaVuSans-6d\" x=\"61.279297\"/>\n      <use xlink:href=\"#DejaVuSans-6f\" x=\"158.691406\"/>\n      <use xlink:href=\"#DejaVuSans-75\" x=\"219.873047\"/>\n      <use xlink:href=\"#DejaVuSans-6e\" x=\"283.251953\"/>\n      <use xlink:href=\"#DejaVuSans-74\" x=\"346.630859\"/>\n     </g>\n    </g>\n   </g>\n   <g id=\"line2d_29\">\n    <path d=\"M 63.198352 304.070067 \nL 64.829782 302.564715 \nL 66.461212 300.666441 \nL 68.092642 298.328056 \nL 69.724072 295.500005 \nL 71.355502 292.125755 \nL 72.986932 288.13743 \nL 74.618361 283.453399 \nL 76.249791 277.979232 \nL 77.881221 271.612822 \nL 79.512651 264.253797 \nL 81.144081 255.816682 \nL 82.775511 246.246697 \nL 84.406941 235.536366 \nL 86.038371 223.740405 \nL 89.30123 197.473986 \nL 95.82695 141.847281 \nL 97.45838 129.237894 \nL 99.08981 117.776499 \nL 100.721239 107.70972 \nL 102.352669 99.235989 \nL 103.984099 92.507123 \nL 105.615529 87.631163 \nL 107.246959 84.674063 \nL 108.878389 83.658933 \nL 110.509819 84.562973 \nL 112.141249 87.31354 \nL 113.772678 91.785612 \nL 115.404108 97.802874 \nL 117.035538 105.143809 \nL 118.666968 113.552918 \nL 121.929828 132.47811 \nL 128.455547 171.95956 \nL 131.718407 190.047941 \nL 134.981267 206.411016 \nL 136.612697 213.876677 \nL 138.244127 220.813015 \nL 139.875556 227.173761 \nL 141.506986 232.920425 \nL 143.138416 238.037416 \nL 144.769846 242.545204 \nL 146.401276 246.507275 \nL 148.032706 250.028078 \nL 151.295566 256.289541 \nL 156.189855 265.534728 \nL 162.715575 278.332712 \nL 164.347005 281.151535 \nL 165.978435 283.671635 \nL 167.609864 285.863178 \nL 169.241294 287.723852 \nL 170.872724 289.272505 \nL 172.504154 290.541167 \nL 174.135584 291.567711 \nL 175.767014 292.390264 \nL 177.398444 293.043491 \nL 179.029874 293.556395 \nL 182.292733 294.243658 \nL 185.555593 294.556276 \nL 188.818453 294.530986 \nL 192.081313 294.151819 \nL 193.712742 293.795247 \nL 195.344172 293.287634 \nL 196.975602 292.58764 \nL 198.607032 291.653335 \nL 200.238462 290.454594 \nL 201.869892 288.987374 \nL 205.132752 285.432549 \nL 208.395611 281.807408 \nL 210.027041 280.37651 \nL 211.658471 279.429729 \nL 213.289901 279.102008 \nL 214.921331 279.469562 \nL 216.552761 280.534874 \nL 218.184191 282.223925 \nL 219.81562 284.396849 \nL 226.34134 294.207429 \nL 227.97277 296.156342 \nL 229.6042 297.748226 \nL 231.23563 298.992147 \nL 232.867059 299.930836 \nL 234.498489 300.625381 \nL 236.129919 301.141645 \nL 239.392779 301.87123 \nL 249.181358 303.598539 \nL 254.075648 304.211704 \nL 258.969937 304.528564 \nL 268.758517 305.075006 \nL 275.284236 305.430959 \nL 285.072815 305.810869 \nL 291.598535 306.427061 \nL 296.492825 306.849967 \nL 301.387114 307.028186 \nL 309.544264 306.963669 \nL 317.701413 306.960206 \nL 340.541431 307.370469 \nL 347.067151 307.434786 \nL 363.38145 307.393469 \nL 373.170029 307.559843 \nL 384.590038 307.47369 \nL 387.852898 307.568331 \nL 387.852898 307.568331 \n\" clip-path=\"url(#pd2b38bf567)\" style=\"fill: none; stroke: #ff7f0e; stroke-width: 1.5; stroke-linecap: square\"/>\n   </g>\n   <g id=\"line2d_30\">\n    <path d=\"M 63.198352 302.654666 \nL 64.829782 301.752976 \nL 66.461212 300.685186 \nL 68.092642 299.406732 \nL 69.724072 297.862608 \nL 71.355502 295.987462 \nL 72.986932 293.706703 \nL 74.618361 290.9388 \nL 76.249791 287.598894 \nL 77.881221 283.603705 \nL 79.512651 278.877574 \nL 81.144081 273.359334 \nL 82.775511 267.009512 \nL 84.406941 259.81728 \nL 86.038371 251.806447 \nL 87.6698 243.039806 \nL 90.93266 223.694924 \nL 97.45838 182.928383 \nL 99.08981 173.633612 \nL 100.721239 165.162199 \nL 102.352669 157.712898 \nL 103.984099 151.448576 \nL 105.615529 146.489076 \nL 107.246959 142.907073 \nL 108.878389 140.727092 \nL 110.509819 139.927543 \nL 112.141249 140.445352 \nL 113.772678 142.182585 \nL 115.404108 145.014341 \nL 117.035538 148.797157 \nL 118.666968 153.377253 \nL 120.298398 158.598039 \nL 123.561258 170.358203 \nL 133.349837 207.519171 \nL 136.612697 218.401374 \nL 139.875556 227.99981 \nL 141.506986 232.289342 \nL 143.138416 236.23908 \nL 144.769846 239.85667 \nL 146.401276 243.154782 \nL 148.032706 246.150245 \nL 149.664136 248.86322 \nL 151.295566 251.316385 \nL 152.926995 253.534127 \nL 154.558425 255.54175 \nL 157.821285 259.027778 \nL 161.084145 261.966538 \nL 164.347005 264.520194 \nL 167.609864 266.80739 \nL 172.504154 269.883031 \nL 177.398444 272.593321 \nL 180.661303 274.192545 \nL 183.924163 275.621213 \nL 188.818453 277.463719 \nL 193.712742 279.014758 \nL 201.869892 281.265119 \nL 211.658471 284.021003 \nL 224.70991 287.861192 \nL 229.6042 289.043101 \nL 234.498489 289.973964 \nL 239.392779 290.664579 \nL 245.918498 291.32279 \nL 260.601367 292.660351 \nL 270.389947 293.879837 \nL 283.441386 295.532945 \nL 294.861395 296.73015 \nL 304.649974 297.537423 \nL 312.807123 297.959774 \nL 324.227133 298.257722 \nL 335.647142 298.583177 \nL 343.804291 299.052113 \nL 373.170029 301.319731 \nL 378.064318 302.0366 \nL 382.958608 303.002489 \nL 387.852898 304.135032 \nL 387.852898 304.135032 \n\" clip-path=\"url(#pd2b38bf567)\" style=\"fill: none; stroke: #1f77b4; stroke-width: 1.5; stroke-linecap: square\"/>\n   </g>\n   <g id=\"patch_151\">\n    <path d=\"M 46.965625 307.872 \nL 46.965625 41.76 \n\" style=\"fill: none; stroke: #000000; stroke-width: 0.8; stroke-linejoin: miter; stroke-linecap: square\"/>\n   </g>\n   <g id=\"patch_152\">\n    <path d=\"M 404.085625 307.872 \nL 404.085625 41.76 \n\" style=\"fill: none; stroke: #000000; stroke-width: 0.8; stroke-linejoin: miter; stroke-linecap: square\"/>\n   </g>\n   <g id=\"patch_153\">\n    <path d=\"M 46.965625 307.872 \nL 404.085625 307.872 \n\" style=\"fill: none; stroke: #000000; stroke-width: 0.8; stroke-linejoin: miter; stroke-linecap: square\"/>\n   </g>\n   <g id=\"patch_154\">\n    <path d=\"M 46.965625 41.76 \nL 404.085625 41.76 \n\" style=\"fill: none; stroke: #000000; stroke-width: 0.8; stroke-linejoin: miter; stroke-linecap: square\"/>\n   </g>\n   <g id=\"legend_1\">\n    <g id=\"patch_155\">\n     <path d=\"M 358.723125 79.11625 \nL 397.085625 79.11625 \nQ 399.085625 79.11625 399.085625 77.11625 \nL 399.085625 48.76 \nQ 399.085625 46.76 397.085625 46.76 \nL 358.723125 46.76 \nQ 356.723125 46.76 356.723125 48.76 \nL 356.723125 77.11625 \nQ 356.723125 79.11625 358.723125 79.11625 \nz\n\" style=\"fill: #ffffff; opacity: 0.8; stroke: #cccccc; stroke-linejoin: miter\"/>\n    </g>\n    <g id=\"patch_156\">\n     <path d=\"M 360.723125 58.358437 \nL 380.723125 58.358437 \nL 380.723125 51.358437 \nL 360.723125 51.358437 \nz\n\" style=\"fill: #1f77b4; fill-opacity: 0.5; stroke: #000000; stroke-linejoin: miter\"/>\n    </g>\n    <g id=\"text_17\">\n     <!-- 0 -->\n     <g transform=\"translate(388.723125 58.358437) scale(0.1 -0.1)\">\n      <use xlink:href=\"#DejaVuSans-30\"/>\n     </g>\n    </g>\n    <g id=\"patch_157\">\n     <path d=\"M 360.723125 73.036563 \nL 380.723125 73.036563 \nL 380.723125 66.036563 \nL 360.723125 66.036563 \nz\n\" style=\"fill: #ff7f0e; fill-opacity: 0.5; stroke: #000000; stroke-linejoin: miter\"/>\n    </g>\n    <g id=\"text_18\">\n     <!-- 1 -->\n     <g transform=\"translate(388.723125 73.036563) scale(0.1 -0.1)\">\n      <use xlink:href=\"#DejaVuSans-31\"/>\n     </g>\n    </g>\n   </g>\n  </g>\n  <g id=\"text_19\">\n   <!-- Input length dist. -->\n   <g transform=\"translate(168.43 16.318125) scale(0.12 -0.12)\">\n    <defs>\n     <path id=\"DejaVuSans-49\" d=\"M 628 4666 \nL 1259 4666 \nL 1259 0 \nL 628 0 \nL 628 4666 \nz\n\" transform=\"scale(0.015625)\"/>\n     <path id=\"DejaVuSans-70\" d=\"M 1159 525 \nL 1159 -1331 \nL 581 -1331 \nL 581 3500 \nL 1159 3500 \nL 1159 2969 \nQ 1341 3281 1617 3432 \nQ 1894 3584 2278 3584 \nQ 2916 3584 3314 3078 \nQ 3713 2572 3713 1747 \nQ 3713 922 3314 415 \nQ 2916 -91 2278 -91 \nQ 1894 -91 1617 61 \nQ 1341 213 1159 525 \nz\nM 3116 1747 \nQ 3116 2381 2855 2742 \nQ 2594 3103 2138 3103 \nQ 1681 3103 1420 2742 \nQ 1159 2381 1159 1747 \nQ 1159 1113 1420 752 \nQ 1681 391 2138 391 \nQ 2594 391 2855 752 \nQ 3116 1113 3116 1747 \nz\n\" transform=\"scale(0.015625)\"/>\n     <path id=\"DejaVuSans-20\" transform=\"scale(0.015625)\"/>\n     <path id=\"DejaVuSans-64\" d=\"M 2906 2969 \nL 2906 4863 \nL 3481 4863 \nL 3481 0 \nL 2906 0 \nL 2906 525 \nQ 2725 213 2448 61 \nQ 2172 -91 1784 -91 \nQ 1150 -91 751 415 \nQ 353 922 353 1747 \nQ 353 2572 751 3078 \nQ 1150 3584 1784 3584 \nQ 2172 3584 2448 3432 \nQ 2725 3281 2906 2969 \nz\nM 947 1747 \nQ 947 1113 1208 752 \nQ 1469 391 1925 391 \nQ 2381 391 2643 752 \nQ 2906 1113 2906 1747 \nQ 2906 2381 2643 2742 \nQ 2381 3103 1925 3103 \nQ 1469 3103 1208 2742 \nQ 947 2381 947 1747 \nz\n\" transform=\"scale(0.015625)\"/>\n     <path id=\"DejaVuSans-69\" d=\"M 603 3500 \nL 1178 3500 \nL 1178 0 \nL 603 0 \nL 603 3500 \nz\nM 603 4863 \nL 1178 4863 \nL 1178 4134 \nL 603 4134 \nL 603 4863 \nz\n\" transform=\"scale(0.015625)\"/>\n     <path id=\"DejaVuSans-73\" d=\"M 2834 3397 \nL 2834 2853 \nQ 2591 2978 2328 3040 \nQ 2066 3103 1784 3103 \nQ 1356 3103 1142 2972 \nQ 928 2841 928 2578 \nQ 928 2378 1081 2264 \nQ 1234 2150 1697 2047 \nL 1894 2003 \nQ 2506 1872 2764 1633 \nQ 3022 1394 3022 966 \nQ 3022 478 2636 193 \nQ 2250 -91 1575 -91 \nQ 1294 -91 989 -36 \nQ 684 19 347 128 \nL 347 722 \nQ 666 556 975 473 \nQ 1284 391 1588 391 \nQ 1994 391 2212 530 \nQ 2431 669 2431 922 \nQ 2431 1156 2273 1281 \nQ 2116 1406 1581 1522 \nL 1381 1569 \nQ 847 1681 609 1914 \nQ 372 2147 372 2553 \nQ 372 3047 722 3315 \nQ 1072 3584 1716 3584 \nQ 2034 3584 2315 3537 \nQ 2597 3491 2834 3397 \nz\n\" transform=\"scale(0.015625)\"/>\n     <path id=\"DejaVuSans-2e\" d=\"M 684 794 \nL 1344 794 \nL 1344 0 \nL 684 0 \nL 684 794 \nz\n\" transform=\"scale(0.015625)\"/>\n    </defs>\n    <use xlink:href=\"#DejaVuSans-49\"/>\n    <use xlink:href=\"#DejaVuSans-6e\" x=\"29.492188\"/>\n    <use xlink:href=\"#DejaVuSans-70\" x=\"92.871094\"/>\n    <use xlink:href=\"#DejaVuSans-75\" x=\"156.347656\"/>\n    <use xlink:href=\"#DejaVuSans-74\" x=\"219.726562\"/>\n    <use xlink:href=\"#DejaVuSans-20\" x=\"258.935547\"/>\n    <use xlink:href=\"#DejaVuSans-6c\" x=\"290.722656\"/>\n    <use xlink:href=\"#DejaVuSans-65\" x=\"318.505859\"/>\n    <use xlink:href=\"#DejaVuSans-6e\" x=\"380.029297\"/>\n    <use xlink:href=\"#DejaVuSans-67\" x=\"443.408203\"/>\n    <use xlink:href=\"#DejaVuSans-74\" x=\"506.884766\"/>\n    <use xlink:href=\"#DejaVuSans-68\" x=\"546.09375\"/>\n    <use xlink:href=\"#DejaVuSans-20\" x=\"609.472656\"/>\n    <use xlink:href=\"#DejaVuSans-64\" x=\"641.259766\"/>\n    <use xlink:href=\"#DejaVuSans-69\" x=\"704.736328\"/>\n    <use xlink:href=\"#DejaVuSans-73\" x=\"732.519531\"/>\n    <use xlink:href=\"#DejaVuSans-74\" x=\"784.619141\"/>\n    <use xlink:href=\"#DejaVuSans-2e\" x=\"823.828125\"/>\n   </g>\n  </g>\n </g>\n <defs>\n  <clipPath id=\"pd2b38bf567\">\n   <rect x=\"46.965625\" y=\"41.76\" width=\"357.12\" height=\"266.112\"/>\n  </clipPath>\n </defs>\n</svg>\n"
          },
          "metadata": {}
        }
      ],
      "source": [
        "sns.histplot(\n",
        "    x=train_ids_lengths[np.where(train_ids_lengths <= 2048)[0]].flatten(),\n",
        "    hue=labels2lengths[0][np.where(train_ids_lengths <= 2048)[0]],\n",
        "    kde=True\n",
        ")\n",
        "plt.ylabel('amount')\n",
        "plt.xlabel('length')\n",
        "plt.grid(True)\n",
        "plt.suptitle('Input length dist.')\n",
        "plt.show()"
      ]
    },
    {
      "cell_type": "code",
      "source": [
        "shorten_l2l = labels2lengths[:, np.where(labels2lengths[1] <= 512)]\n",
        "plt.bar(['model', 'human'], [len(np.where(shorten_l2l[0] == 0)[0]), len(np.where(shorten_l2l[0] == 1)[0])])\n",
        "plt.ylabel('amount')\n",
        "plt.title('Classes dist. (within short texts)')\n",
        "plt.show()"
      ],
      "metadata": {
        "colab": {
          "base_uri": "https://localhost:8080/",
          "height": 437
        },
        "id": "-5aaFyA1_Zmw",
        "outputId": "8d9a1a30-6d82-46db-fc6f-857971cbd70b"
      },
      "id": "-5aaFyA1_Zmw",
      "execution_count": 21,
      "outputs": [
        {
          "output_type": "display_data",
          "data": {
            "text/plain": [
              "<Figure size 640x480 with 1 Axes>"
            ],
            "image/svg+xml": "<?xml version=\"1.0\" encoding=\"utf-8\" standalone=\"no\"?>\n<!DOCTYPE svg PUBLIC \"-//W3C//DTD SVG 1.1//EN\"\n  \"http://www.w3.org/Graphics/SVG/1.1/DTD/svg11.dtd\">\n<svg xmlns:xlink=\"http://www.w3.org/1999/xlink\" width=\"417.648125pt\" height=\"312.30825pt\" viewBox=\"0 0 417.648125 312.30825\" xmlns=\"http://www.w3.org/2000/svg\" version=\"1.1\">\n <metadata>\n  <rdf:RDF xmlns:dc=\"http://purl.org/dc/elements/1.1/\" xmlns:cc=\"http://creativecommons.org/ns#\" xmlns:rdf=\"http://www.w3.org/1999/02/22-rdf-syntax-ns#\">\n   <cc:Work>\n    <dc:type rdf:resource=\"http://purl.org/dc/dcmitype/StillImage\"/>\n    <dc:date>2024-12-28T15:12:12.671039</dc:date>\n    <dc:format>image/svg+xml</dc:format>\n    <dc:creator>\n     <cc:Agent>\n      <dc:title>Matplotlib v3.8.0, https://matplotlib.org/</dc:title>\n     </cc:Agent>\n    </dc:creator>\n   </cc:Work>\n  </rdf:RDF>\n </metadata>\n <defs>\n  <style type=\"text/css\">*{stroke-linejoin: round; stroke-linecap: butt}</style>\n </defs>\n <g id=\"figure_1\">\n  <g id=\"patch_1\">\n   <path d=\"M 0 312.30825 \nL 417.648125 312.30825 \nL 417.648125 0 \nL 0 0 \nz\n\" style=\"fill: #ffffff\"/>\n  </g>\n  <g id=\"axes_1\">\n   <g id=\"patch_2\">\n    <path d=\"M 53.328125 288.430125 \nL 410.448125 288.430125 \nL 410.448125 22.318125 \nL 53.328125 22.318125 \nz\n\" style=\"fill: #ffffff\"/>\n   </g>\n   <g id=\"patch_3\">\n    <path d=\"M 69.560852 288.430125 \nL 213.851761 288.430125 \nL 213.851761 88.35982 \nL 69.560852 88.35982 \nz\n\" clip-path=\"url(#pd8f940e9a8)\" style=\"fill: #1f77b4\"/>\n   </g>\n   <g id=\"patch_4\">\n    <path d=\"M 249.924489 288.430125 \nL 394.215398 288.430125 \nL 394.215398 34.990125 \nL 249.924489 34.990125 \nz\n\" clip-path=\"url(#pd8f940e9a8)\" style=\"fill: #1f77b4\"/>\n   </g>\n   <g id=\"matplotlib.axis_1\">\n    <g id=\"xtick_1\">\n     <g id=\"line2d_1\">\n      <defs>\n       <path id=\"m7c42a48409\" d=\"M 0 0 \nL 0 3.5 \n\" style=\"stroke: #000000; stroke-width: 0.8\"/>\n      </defs>\n      <g>\n       <use xlink:href=\"#m7c42a48409\" x=\"141.706307\" y=\"288.430125\" style=\"stroke: #000000; stroke-width: 0.8\"/>\n      </g>\n     </g>\n     <g id=\"text_1\">\n      <!-- model -->\n      <g transform=\"translate(126.136776 303.028562) scale(0.1 -0.1)\">\n       <defs>\n        <path id=\"DejaVuSans-6d\" d=\"M 3328 2828 \nQ 3544 3216 3844 3400 \nQ 4144 3584 4550 3584 \nQ 5097 3584 5394 3201 \nQ 5691 2819 5691 2113 \nL 5691 0 \nL 5113 0 \nL 5113 2094 \nQ 5113 2597 4934 2840 \nQ 4756 3084 4391 3084 \nQ 3944 3084 3684 2787 \nQ 3425 2491 3425 1978 \nL 3425 0 \nL 2847 0 \nL 2847 2094 \nQ 2847 2600 2669 2842 \nQ 2491 3084 2119 3084 \nQ 1678 3084 1418 2786 \nQ 1159 2488 1159 1978 \nL 1159 0 \nL 581 0 \nL 581 3500 \nL 1159 3500 \nL 1159 2956 \nQ 1356 3278 1631 3431 \nQ 1906 3584 2284 3584 \nQ 2666 3584 2933 3390 \nQ 3200 3197 3328 2828 \nz\n\" transform=\"scale(0.015625)\"/>\n        <path id=\"DejaVuSans-6f\" d=\"M 1959 3097 \nQ 1497 3097 1228 2736 \nQ 959 2375 959 1747 \nQ 959 1119 1226 758 \nQ 1494 397 1959 397 \nQ 2419 397 2687 759 \nQ 2956 1122 2956 1747 \nQ 2956 2369 2687 2733 \nQ 2419 3097 1959 3097 \nz\nM 1959 3584 \nQ 2709 3584 3137 3096 \nQ 3566 2609 3566 1747 \nQ 3566 888 3137 398 \nQ 2709 -91 1959 -91 \nQ 1206 -91 779 398 \nQ 353 888 353 1747 \nQ 353 2609 779 3096 \nQ 1206 3584 1959 3584 \nz\n\" transform=\"scale(0.015625)\"/>\n        <path id=\"DejaVuSans-64\" d=\"M 2906 2969 \nL 2906 4863 \nL 3481 4863 \nL 3481 0 \nL 2906 0 \nL 2906 525 \nQ 2725 213 2448 61 \nQ 2172 -91 1784 -91 \nQ 1150 -91 751 415 \nQ 353 922 353 1747 \nQ 353 2572 751 3078 \nQ 1150 3584 1784 3584 \nQ 2172 3584 2448 3432 \nQ 2725 3281 2906 2969 \nz\nM 947 1747 \nQ 947 1113 1208 752 \nQ 1469 391 1925 391 \nQ 2381 391 2643 752 \nQ 2906 1113 2906 1747 \nQ 2906 2381 2643 2742 \nQ 2381 3103 1925 3103 \nQ 1469 3103 1208 2742 \nQ 947 2381 947 1747 \nz\n\" transform=\"scale(0.015625)\"/>\n        <path id=\"DejaVuSans-65\" d=\"M 3597 1894 \nL 3597 1613 \nL 953 1613 \nQ 991 1019 1311 708 \nQ 1631 397 2203 397 \nQ 2534 397 2845 478 \nQ 3156 559 3463 722 \nL 3463 178 \nQ 3153 47 2828 -22 \nQ 2503 -91 2169 -91 \nQ 1331 -91 842 396 \nQ 353 884 353 1716 \nQ 353 2575 817 3079 \nQ 1281 3584 2069 3584 \nQ 2775 3584 3186 3129 \nQ 3597 2675 3597 1894 \nz\nM 3022 2063 \nQ 3016 2534 2758 2815 \nQ 2500 3097 2075 3097 \nQ 1594 3097 1305 2825 \nQ 1016 2553 972 2059 \nL 3022 2063 \nz\n\" transform=\"scale(0.015625)\"/>\n        <path id=\"DejaVuSans-6c\" d=\"M 603 4863 \nL 1178 4863 \nL 1178 0 \nL 603 0 \nL 603 4863 \nz\n\" transform=\"scale(0.015625)\"/>\n       </defs>\n       <use xlink:href=\"#DejaVuSans-6d\"/>\n       <use xlink:href=\"#DejaVuSans-6f\" x=\"97.412109\"/>\n       <use xlink:href=\"#DejaVuSans-64\" x=\"158.59375\"/>\n       <use xlink:href=\"#DejaVuSans-65\" x=\"222.070312\"/>\n       <use xlink:href=\"#DejaVuSans-6c\" x=\"283.59375\"/>\n      </g>\n     </g>\n    </g>\n    <g id=\"xtick_2\">\n     <g id=\"line2d_2\">\n      <g>\n       <use xlink:href=\"#m7c42a48409\" x=\"322.069943\" y=\"288.430125\" style=\"stroke: #000000; stroke-width: 0.8\"/>\n      </g>\n     </g>\n     <g id=\"text_2\">\n      <!-- human -->\n      <g transform=\"translate(304.629318 303.028562) scale(0.1 -0.1)\">\n       <defs>\n        <path id=\"DejaVuSans-68\" d=\"M 3513 2113 \nL 3513 0 \nL 2938 0 \nL 2938 2094 \nQ 2938 2591 2744 2837 \nQ 2550 3084 2163 3084 \nQ 1697 3084 1428 2787 \nQ 1159 2491 1159 1978 \nL 1159 0 \nL 581 0 \nL 581 4863 \nL 1159 4863 \nL 1159 2956 \nQ 1366 3272 1645 3428 \nQ 1925 3584 2291 3584 \nQ 2894 3584 3203 3211 \nQ 3513 2838 3513 2113 \nz\n\" transform=\"scale(0.015625)\"/>\n        <path id=\"DejaVuSans-75\" d=\"M 544 1381 \nL 544 3500 \nL 1119 3500 \nL 1119 1403 \nQ 1119 906 1312 657 \nQ 1506 409 1894 409 \nQ 2359 409 2629 706 \nQ 2900 1003 2900 1516 \nL 2900 3500 \nL 3475 3500 \nL 3475 0 \nL 2900 0 \nL 2900 538 \nQ 2691 219 2414 64 \nQ 2138 -91 1772 -91 \nQ 1169 -91 856 284 \nQ 544 659 544 1381 \nz\nM 1991 3584 \nL 1991 3584 \nz\n\" transform=\"scale(0.015625)\"/>\n        <path id=\"DejaVuSans-61\" d=\"M 2194 1759 \nQ 1497 1759 1228 1600 \nQ 959 1441 959 1056 \nQ 959 750 1161 570 \nQ 1363 391 1709 391 \nQ 2188 391 2477 730 \nQ 2766 1069 2766 1631 \nL 2766 1759 \nL 2194 1759 \nz\nM 3341 1997 \nL 3341 0 \nL 2766 0 \nL 2766 531 \nQ 2569 213 2275 61 \nQ 1981 -91 1556 -91 \nQ 1019 -91 701 211 \nQ 384 513 384 1019 \nQ 384 1609 779 1909 \nQ 1175 2209 1959 2209 \nL 2766 2209 \nL 2766 2266 \nQ 2766 2663 2505 2880 \nQ 2244 3097 1772 3097 \nQ 1472 3097 1187 3025 \nQ 903 2953 641 2809 \nL 641 3341 \nQ 956 3463 1253 3523 \nQ 1550 3584 1831 3584 \nQ 2591 3584 2966 3190 \nQ 3341 2797 3341 1997 \nz\n\" transform=\"scale(0.015625)\"/>\n        <path id=\"DejaVuSans-6e\" d=\"M 3513 2113 \nL 3513 0 \nL 2938 0 \nL 2938 2094 \nQ 2938 2591 2744 2837 \nQ 2550 3084 2163 3084 \nQ 1697 3084 1428 2787 \nQ 1159 2491 1159 1978 \nL 1159 0 \nL 581 0 \nL 581 3500 \nL 1159 3500 \nL 1159 2956 \nQ 1366 3272 1645 3428 \nQ 1925 3584 2291 3584 \nQ 2894 3584 3203 3211 \nQ 3513 2838 3513 2113 \nz\n\" transform=\"scale(0.015625)\"/>\n       </defs>\n       <use xlink:href=\"#DejaVuSans-68\"/>\n       <use xlink:href=\"#DejaVuSans-75\" x=\"63.378906\"/>\n       <use xlink:href=\"#DejaVuSans-6d\" x=\"126.757812\"/>\n       <use xlink:href=\"#DejaVuSans-61\" x=\"224.169922\"/>\n       <use xlink:href=\"#DejaVuSans-6e\" x=\"285.449219\"/>\n      </g>\n     </g>\n    </g>\n   </g>\n   <g id=\"matplotlib.axis_2\">\n    <g id=\"ytick_1\">\n     <g id=\"line2d_3\">\n      <defs>\n       <path id=\"mce22ddd134\" d=\"M 0 0 \nL -3.5 0 \n\" style=\"stroke: #000000; stroke-width: 0.8\"/>\n      </defs>\n      <g>\n       <use xlink:href=\"#mce22ddd134\" x=\"53.328125\" y=\"288.430125\" style=\"stroke: #000000; stroke-width: 0.8\"/>\n      </g>\n     </g>\n     <g id=\"text_3\">\n      <!-- 0 -->\n      <g transform=\"translate(39.965625 292.229344) scale(0.1 -0.1)\">\n       <defs>\n        <path id=\"DejaVuSans-30\" d=\"M 2034 4250 \nQ 1547 4250 1301 3770 \nQ 1056 3291 1056 2328 \nQ 1056 1369 1301 889 \nQ 1547 409 2034 409 \nQ 2525 409 2770 889 \nQ 3016 1369 3016 2328 \nQ 3016 3291 2770 3770 \nQ 2525 4250 2034 4250 \nz\nM 2034 4750 \nQ 2819 4750 3233 4129 \nQ 3647 3509 3647 2328 \nQ 3647 1150 3233 529 \nQ 2819 -91 2034 -91 \nQ 1250 -91 836 529 \nQ 422 1150 422 2328 \nQ 422 3509 836 4129 \nQ 1250 4750 2034 4750 \nz\n\" transform=\"scale(0.015625)\"/>\n       </defs>\n       <use xlink:href=\"#DejaVuSans-30\"/>\n      </g>\n     </g>\n    </g>\n    <g id=\"ytick_2\">\n     <g id=\"line2d_4\">\n      <g>\n       <use xlink:href=\"#mce22ddd134\" x=\"53.328125\" y=\"255.404324\" style=\"stroke: #000000; stroke-width: 0.8\"/>\n      </g>\n     </g>\n     <g id=\"text_4\">\n      <!-- 500 -->\n      <g transform=\"translate(27.240625 259.203542) scale(0.1 -0.1)\">\n       <defs>\n        <path id=\"DejaVuSans-35\" d=\"M 691 4666 \nL 3169 4666 \nL 3169 4134 \nL 1269 4134 \nL 1269 2991 \nQ 1406 3038 1543 3061 \nQ 1681 3084 1819 3084 \nQ 2600 3084 3056 2656 \nQ 3513 2228 3513 1497 \nQ 3513 744 3044 326 \nQ 2575 -91 1722 -91 \nQ 1428 -91 1123 -41 \nQ 819 9 494 109 \nL 494 744 \nQ 775 591 1075 516 \nQ 1375 441 1709 441 \nQ 2250 441 2565 725 \nQ 2881 1009 2881 1497 \nQ 2881 1984 2565 2268 \nQ 2250 2553 1709 2553 \nQ 1456 2553 1204 2497 \nQ 953 2441 691 2322 \nL 691 4666 \nz\n\" transform=\"scale(0.015625)\"/>\n       </defs>\n       <use xlink:href=\"#DejaVuSans-35\"/>\n       <use xlink:href=\"#DejaVuSans-30\" x=\"63.623047\"/>\n       <use xlink:href=\"#DejaVuSans-30\" x=\"127.246094\"/>\n      </g>\n     </g>\n    </g>\n    <g id=\"ytick_3\">\n     <g id=\"line2d_5\">\n      <g>\n       <use xlink:href=\"#mce22ddd134\" x=\"53.328125\" y=\"222.378522\" style=\"stroke: #000000; stroke-width: 0.8\"/>\n      </g>\n     </g>\n     <g id=\"text_5\">\n      <!-- 1000 -->\n      <g transform=\"translate(20.878125 226.177741) scale(0.1 -0.1)\">\n       <defs>\n        <path id=\"DejaVuSans-31\" d=\"M 794 531 \nL 1825 531 \nL 1825 4091 \nL 703 3866 \nL 703 4441 \nL 1819 4666 \nL 2450 4666 \nL 2450 531 \nL 3481 531 \nL 3481 0 \nL 794 0 \nL 794 531 \nz\n\" transform=\"scale(0.015625)\"/>\n       </defs>\n       <use xlink:href=\"#DejaVuSans-31\"/>\n       <use xlink:href=\"#DejaVuSans-30\" x=\"63.623047\"/>\n       <use xlink:href=\"#DejaVuSans-30\" x=\"127.246094\"/>\n       <use xlink:href=\"#DejaVuSans-30\" x=\"190.869141\"/>\n      </g>\n     </g>\n    </g>\n    <g id=\"ytick_4\">\n     <g id=\"line2d_6\">\n      <g>\n       <use xlink:href=\"#mce22ddd134\" x=\"53.328125\" y=\"189.352721\" style=\"stroke: #000000; stroke-width: 0.8\"/>\n      </g>\n     </g>\n     <g id=\"text_6\">\n      <!-- 1500 -->\n      <g transform=\"translate(20.878125 193.15194) scale(0.1 -0.1)\">\n       <use xlink:href=\"#DejaVuSans-31\"/>\n       <use xlink:href=\"#DejaVuSans-35\" x=\"63.623047\"/>\n       <use xlink:href=\"#DejaVuSans-30\" x=\"127.246094\"/>\n       <use xlink:href=\"#DejaVuSans-30\" x=\"190.869141\"/>\n      </g>\n     </g>\n    </g>\n    <g id=\"ytick_5\">\n     <g id=\"line2d_7\">\n      <g>\n       <use xlink:href=\"#mce22ddd134\" x=\"53.328125\" y=\"156.326919\" style=\"stroke: #000000; stroke-width: 0.8\"/>\n      </g>\n     </g>\n     <g id=\"text_7\">\n      <!-- 2000 -->\n      <g transform=\"translate(20.878125 160.126138) scale(0.1 -0.1)\">\n       <defs>\n        <path id=\"DejaVuSans-32\" d=\"M 1228 531 \nL 3431 531 \nL 3431 0 \nL 469 0 \nL 469 531 \nQ 828 903 1448 1529 \nQ 2069 2156 2228 2338 \nQ 2531 2678 2651 2914 \nQ 2772 3150 2772 3378 \nQ 2772 3750 2511 3984 \nQ 2250 4219 1831 4219 \nQ 1534 4219 1204 4116 \nQ 875 4013 500 3803 \nL 500 4441 \nQ 881 4594 1212 4672 \nQ 1544 4750 1819 4750 \nQ 2544 4750 2975 4387 \nQ 3406 4025 3406 3419 \nQ 3406 3131 3298 2873 \nQ 3191 2616 2906 2266 \nQ 2828 2175 2409 1742 \nQ 1991 1309 1228 531 \nz\n\" transform=\"scale(0.015625)\"/>\n       </defs>\n       <use xlink:href=\"#DejaVuSans-32\"/>\n       <use xlink:href=\"#DejaVuSans-30\" x=\"63.623047\"/>\n       <use xlink:href=\"#DejaVuSans-30\" x=\"127.246094\"/>\n       <use xlink:href=\"#DejaVuSans-30\" x=\"190.869141\"/>\n      </g>\n     </g>\n    </g>\n    <g id=\"ytick_6\">\n     <g id=\"line2d_8\">\n      <g>\n       <use xlink:href=\"#mce22ddd134\" x=\"53.328125\" y=\"123.301118\" style=\"stroke: #000000; stroke-width: 0.8\"/>\n      </g>\n     </g>\n     <g id=\"text_8\">\n      <!-- 2500 -->\n      <g transform=\"translate(20.878125 127.100337) scale(0.1 -0.1)\">\n       <use xlink:href=\"#DejaVuSans-32\"/>\n       <use xlink:href=\"#DejaVuSans-35\" x=\"63.623047\"/>\n       <use xlink:href=\"#DejaVuSans-30\" x=\"127.246094\"/>\n       <use xlink:href=\"#DejaVuSans-30\" x=\"190.869141\"/>\n      </g>\n     </g>\n    </g>\n    <g id=\"ytick_7\">\n     <g id=\"line2d_9\">\n      <g>\n       <use xlink:href=\"#mce22ddd134\" x=\"53.328125\" y=\"90.275317\" style=\"stroke: #000000; stroke-width: 0.8\"/>\n      </g>\n     </g>\n     <g id=\"text_9\">\n      <!-- 3000 -->\n      <g transform=\"translate(20.878125 94.074535) scale(0.1 -0.1)\">\n       <defs>\n        <path id=\"DejaVuSans-33\" d=\"M 2597 2516 \nQ 3050 2419 3304 2112 \nQ 3559 1806 3559 1356 \nQ 3559 666 3084 287 \nQ 2609 -91 1734 -91 \nQ 1441 -91 1130 -33 \nQ 819 25 488 141 \nL 488 750 \nQ 750 597 1062 519 \nQ 1375 441 1716 441 \nQ 2309 441 2620 675 \nQ 2931 909 2931 1356 \nQ 2931 1769 2642 2001 \nQ 2353 2234 1838 2234 \nL 1294 2234 \nL 1294 2753 \nL 1863 2753 \nQ 2328 2753 2575 2939 \nQ 2822 3125 2822 3475 \nQ 2822 3834 2567 4026 \nQ 2313 4219 1838 4219 \nQ 1578 4219 1281 4162 \nQ 984 4106 628 3988 \nL 628 4550 \nQ 988 4650 1302 4700 \nQ 1616 4750 1894 4750 \nQ 2613 4750 3031 4423 \nQ 3450 4097 3450 3541 \nQ 3450 3153 3228 2886 \nQ 3006 2619 2597 2516 \nz\n\" transform=\"scale(0.015625)\"/>\n       </defs>\n       <use xlink:href=\"#DejaVuSans-33\"/>\n       <use xlink:href=\"#DejaVuSans-30\" x=\"63.623047\"/>\n       <use xlink:href=\"#DejaVuSans-30\" x=\"127.246094\"/>\n       <use xlink:href=\"#DejaVuSans-30\" x=\"190.869141\"/>\n      </g>\n     </g>\n    </g>\n    <g id=\"ytick_8\">\n     <g id=\"line2d_10\">\n      <g>\n       <use xlink:href=\"#mce22ddd134\" x=\"53.328125\" y=\"57.249515\" style=\"stroke: #000000; stroke-width: 0.8\"/>\n      </g>\n     </g>\n     <g id=\"text_10\">\n      <!-- 3500 -->\n      <g transform=\"translate(20.878125 61.048734) scale(0.1 -0.1)\">\n       <use xlink:href=\"#DejaVuSans-33\"/>\n       <use xlink:href=\"#DejaVuSans-35\" x=\"63.623047\"/>\n       <use xlink:href=\"#DejaVuSans-30\" x=\"127.246094\"/>\n       <use xlink:href=\"#DejaVuSans-30\" x=\"190.869141\"/>\n      </g>\n     </g>\n    </g>\n    <g id=\"ytick_9\">\n     <g id=\"line2d_11\">\n      <g>\n       <use xlink:href=\"#mce22ddd134\" x=\"53.328125\" y=\"24.223714\" style=\"stroke: #000000; stroke-width: 0.8\"/>\n      </g>\n     </g>\n     <g id=\"text_11\">\n      <!-- 4000 -->\n      <g transform=\"translate(20.878125 28.022932) scale(0.1 -0.1)\">\n       <defs>\n        <path id=\"DejaVuSans-34\" d=\"M 2419 4116 \nL 825 1625 \nL 2419 1625 \nL 2419 4116 \nz\nM 2253 4666 \nL 3047 4666 \nL 3047 1625 \nL 3713 1625 \nL 3713 1100 \nL 3047 1100 \nL 3047 0 \nL 2419 0 \nL 2419 1100 \nL 313 1100 \nL 313 1709 \nL 2253 4666 \nz\n\" transform=\"scale(0.015625)\"/>\n       </defs>\n       <use xlink:href=\"#DejaVuSans-34\"/>\n       <use xlink:href=\"#DejaVuSans-30\" x=\"63.623047\"/>\n       <use xlink:href=\"#DejaVuSans-30\" x=\"127.246094\"/>\n       <use xlink:href=\"#DejaVuSans-30\" x=\"190.869141\"/>\n      </g>\n     </g>\n    </g>\n    <g id=\"text_12\">\n     <!-- amount -->\n     <g transform=\"translate(14.798438 174.665531) rotate(-90) scale(0.1 -0.1)\">\n      <defs>\n       <path id=\"DejaVuSans-74\" d=\"M 1172 4494 \nL 1172 3500 \nL 2356 3500 \nL 2356 3053 \nL 1172 3053 \nL 1172 1153 \nQ 1172 725 1289 603 \nQ 1406 481 1766 481 \nL 2356 481 \nL 2356 0 \nL 1766 0 \nQ 1100 0 847 248 \nQ 594 497 594 1153 \nL 594 3053 \nL 172 3053 \nL 172 3500 \nL 594 3500 \nL 594 4494 \nL 1172 4494 \nz\n\" transform=\"scale(0.015625)\"/>\n      </defs>\n      <use xlink:href=\"#DejaVuSans-61\"/>\n      <use xlink:href=\"#DejaVuSans-6d\" x=\"61.279297\"/>\n      <use xlink:href=\"#DejaVuSans-6f\" x=\"158.691406\"/>\n      <use xlink:href=\"#DejaVuSans-75\" x=\"219.873047\"/>\n      <use xlink:href=\"#DejaVuSans-6e\" x=\"283.251953\"/>\n      <use xlink:href=\"#DejaVuSans-74\" x=\"346.630859\"/>\n     </g>\n    </g>\n   </g>\n   <g id=\"patch_5\">\n    <path d=\"M 53.328125 288.430125 \nL 53.328125 22.318125 \n\" style=\"fill: none; stroke: #000000; stroke-width: 0.8; stroke-linejoin: miter; stroke-linecap: square\"/>\n   </g>\n   <g id=\"patch_6\">\n    <path d=\"M 410.448125 288.430125 \nL 410.448125 22.318125 \n\" style=\"fill: none; stroke: #000000; stroke-width: 0.8; stroke-linejoin: miter; stroke-linecap: square\"/>\n   </g>\n   <g id=\"patch_7\">\n    <path d=\"M 53.328125 288.430125 \nL 410.448125 288.430125 \n\" style=\"fill: none; stroke: #000000; stroke-width: 0.8; stroke-linejoin: miter; stroke-linecap: square\"/>\n   </g>\n   <g id=\"patch_8\">\n    <path d=\"M 53.328125 22.318125 \nL 410.448125 22.318125 \n\" style=\"fill: none; stroke: #000000; stroke-width: 0.8; stroke-linejoin: miter; stroke-linecap: square\"/>\n   </g>\n   <g id=\"text_13\">\n    <!-- Classes dist. (within short texts) -->\n    <g transform=\"translate(135.531875 16.318125) scale(0.12 -0.12)\">\n     <defs>\n      <path id=\"DejaVuSans-43\" d=\"M 4122 4306 \nL 4122 3641 \nQ 3803 3938 3442 4084 \nQ 3081 4231 2675 4231 \nQ 1875 4231 1450 3742 \nQ 1025 3253 1025 2328 \nQ 1025 1406 1450 917 \nQ 1875 428 2675 428 \nQ 3081 428 3442 575 \nQ 3803 722 4122 1019 \nL 4122 359 \nQ 3791 134 3420 21 \nQ 3050 -91 2638 -91 \nQ 1578 -91 968 557 \nQ 359 1206 359 2328 \nQ 359 3453 968 4101 \nQ 1578 4750 2638 4750 \nQ 3056 4750 3426 4639 \nQ 3797 4528 4122 4306 \nz\n\" transform=\"scale(0.015625)\"/>\n      <path id=\"DejaVuSans-73\" d=\"M 2834 3397 \nL 2834 2853 \nQ 2591 2978 2328 3040 \nQ 2066 3103 1784 3103 \nQ 1356 3103 1142 2972 \nQ 928 2841 928 2578 \nQ 928 2378 1081 2264 \nQ 1234 2150 1697 2047 \nL 1894 2003 \nQ 2506 1872 2764 1633 \nQ 3022 1394 3022 966 \nQ 3022 478 2636 193 \nQ 2250 -91 1575 -91 \nQ 1294 -91 989 -36 \nQ 684 19 347 128 \nL 347 722 \nQ 666 556 975 473 \nQ 1284 391 1588 391 \nQ 1994 391 2212 530 \nQ 2431 669 2431 922 \nQ 2431 1156 2273 1281 \nQ 2116 1406 1581 1522 \nL 1381 1569 \nQ 847 1681 609 1914 \nQ 372 2147 372 2553 \nQ 372 3047 722 3315 \nQ 1072 3584 1716 3584 \nQ 2034 3584 2315 3537 \nQ 2597 3491 2834 3397 \nz\n\" transform=\"scale(0.015625)\"/>\n      <path id=\"DejaVuSans-20\" transform=\"scale(0.015625)\"/>\n      <path id=\"DejaVuSans-69\" d=\"M 603 3500 \nL 1178 3500 \nL 1178 0 \nL 603 0 \nL 603 3500 \nz\nM 603 4863 \nL 1178 4863 \nL 1178 4134 \nL 603 4134 \nL 603 4863 \nz\n\" transform=\"scale(0.015625)\"/>\n      <path id=\"DejaVuSans-2e\" d=\"M 684 794 \nL 1344 794 \nL 1344 0 \nL 684 0 \nL 684 794 \nz\n\" transform=\"scale(0.015625)\"/>\n      <path id=\"DejaVuSans-28\" d=\"M 1984 4856 \nQ 1566 4138 1362 3434 \nQ 1159 2731 1159 2009 \nQ 1159 1288 1364 580 \nQ 1569 -128 1984 -844 \nL 1484 -844 \nQ 1016 -109 783 600 \nQ 550 1309 550 2009 \nQ 550 2706 781 3412 \nQ 1013 4119 1484 4856 \nL 1984 4856 \nz\n\" transform=\"scale(0.015625)\"/>\n      <path id=\"DejaVuSans-77\" d=\"M 269 3500 \nL 844 3500 \nL 1563 769 \nL 2278 3500 \nL 2956 3500 \nL 3675 769 \nL 4391 3500 \nL 4966 3500 \nL 4050 0 \nL 3372 0 \nL 2619 2869 \nL 1863 0 \nL 1184 0 \nL 269 3500 \nz\n\" transform=\"scale(0.015625)\"/>\n      <path id=\"DejaVuSans-72\" d=\"M 2631 2963 \nQ 2534 3019 2420 3045 \nQ 2306 3072 2169 3072 \nQ 1681 3072 1420 2755 \nQ 1159 2438 1159 1844 \nL 1159 0 \nL 581 0 \nL 581 3500 \nL 1159 3500 \nL 1159 2956 \nQ 1341 3275 1631 3429 \nQ 1922 3584 2338 3584 \nQ 2397 3584 2469 3576 \nQ 2541 3569 2628 3553 \nL 2631 2963 \nz\n\" transform=\"scale(0.015625)\"/>\n      <path id=\"DejaVuSans-78\" d=\"M 3513 3500 \nL 2247 1797 \nL 3578 0 \nL 2900 0 \nL 1881 1375 \nL 863 0 \nL 184 0 \nL 1544 1831 \nL 300 3500 \nL 978 3500 \nL 1906 2253 \nL 2834 3500 \nL 3513 3500 \nz\n\" transform=\"scale(0.015625)\"/>\n      <path id=\"DejaVuSans-29\" d=\"M 513 4856 \nL 1013 4856 \nQ 1481 4119 1714 3412 \nQ 1947 2706 1947 2009 \nQ 1947 1309 1714 600 \nQ 1481 -109 1013 -844 \nL 513 -844 \nQ 928 -128 1133 580 \nQ 1338 1288 1338 2009 \nQ 1338 2731 1133 3434 \nQ 928 4138 513 4856 \nz\n\" transform=\"scale(0.015625)\"/>\n     </defs>\n     <use xlink:href=\"#DejaVuSans-43\"/>\n     <use xlink:href=\"#DejaVuSans-6c\" x=\"69.824219\"/>\n     <use xlink:href=\"#DejaVuSans-61\" x=\"97.607422\"/>\n     <use xlink:href=\"#DejaVuSans-73\" x=\"158.886719\"/>\n     <use xlink:href=\"#DejaVuSans-73\" x=\"210.986328\"/>\n     <use xlink:href=\"#DejaVuSans-65\" x=\"263.085938\"/>\n     <use xlink:href=\"#DejaVuSans-73\" x=\"324.609375\"/>\n     <use xlink:href=\"#DejaVuSans-20\" x=\"376.708984\"/>\n     <use xlink:href=\"#DejaVuSans-64\" x=\"408.496094\"/>\n     <use xlink:href=\"#DejaVuSans-69\" x=\"471.972656\"/>\n     <use xlink:href=\"#DejaVuSans-73\" x=\"499.755859\"/>\n     <use xlink:href=\"#DejaVuSans-74\" x=\"551.855469\"/>\n     <use xlink:href=\"#DejaVuSans-2e\" x=\"591.064453\"/>\n     <use xlink:href=\"#DejaVuSans-20\" x=\"622.851562\"/>\n     <use xlink:href=\"#DejaVuSans-28\" x=\"654.638672\"/>\n     <use xlink:href=\"#DejaVuSans-77\" x=\"693.652344\"/>\n     <use xlink:href=\"#DejaVuSans-69\" x=\"775.439453\"/>\n     <use xlink:href=\"#DejaVuSans-74\" x=\"803.222656\"/>\n     <use xlink:href=\"#DejaVuSans-68\" x=\"842.431641\"/>\n     <use xlink:href=\"#DejaVuSans-69\" x=\"905.810547\"/>\n     <use xlink:href=\"#DejaVuSans-6e\" x=\"933.59375\"/>\n     <use xlink:href=\"#DejaVuSans-20\" x=\"996.972656\"/>\n     <use xlink:href=\"#DejaVuSans-73\" x=\"1028.759766\"/>\n     <use xlink:href=\"#DejaVuSans-68\" x=\"1080.859375\"/>\n     <use xlink:href=\"#DejaVuSans-6f\" x=\"1144.238281\"/>\n     <use xlink:href=\"#DejaVuSans-72\" x=\"1205.419922\"/>\n     <use xlink:href=\"#DejaVuSans-74\" x=\"1246.533203\"/>\n     <use xlink:href=\"#DejaVuSans-20\" x=\"1285.742188\"/>\n     <use xlink:href=\"#DejaVuSans-74\" x=\"1317.529297\"/>\n     <use xlink:href=\"#DejaVuSans-65\" x=\"1356.738281\"/>\n     <use xlink:href=\"#DejaVuSans-78\" x=\"1416.511719\"/>\n     <use xlink:href=\"#DejaVuSans-74\" x=\"1475.691406\"/>\n     <use xlink:href=\"#DejaVuSans-73\" x=\"1514.900391\"/>\n     <use xlink:href=\"#DejaVuSans-29\" x=\"1567\"/>\n    </g>\n   </g>\n  </g>\n </g>\n <defs>\n  <clipPath id=\"pd8f940e9a8\">\n   <rect x=\"53.328125\" y=\"22.318125\" width=\"357.12\" height=\"266.112\"/>\n  </clipPath>\n </defs>\n</svg>\n"
          },
          "metadata": {}
        }
      ]
    },
    {
      "cell_type": "code",
      "source": [
        "# Сохраняем позиции коротких текстов\n",
        "\n",
        "short_texts_positions = np.where(labels2lengths[1] <= 512)[0]\n",
        "np.save('short_texts_positions.npy', short_texts_positions)"
      ],
      "metadata": {
        "id": "Kuwb17bxCzgZ"
      },
      "id": "Kuwb17bxCzgZ",
      "execution_count": 22,
      "outputs": []
    },
    {
      "cell_type": "code",
      "source": [
        "length_dist = [np.where(df['model'] == model)[0] for model in np.unique(df['model']) if model != 'human']\n",
        "plt.bar(np.unique(df['model'])[:-1],\n",
        "         [len(elem) for elem in length_dist]\n",
        ")\n",
        "plt.ylabel('amount')\n",
        "plt.title('Different models generated texts dist.')\n",
        "plt.show()"
      ],
      "metadata": {
        "colab": {
          "base_uri": "https://localhost:8080/",
          "height": 437
        },
        "id": "McG8F5LvqgZO",
        "outputId": "35e5bee0-d93d-45a1-e1fc-1ff4c813255d"
      },
      "id": "McG8F5LvqgZO",
      "execution_count": 23,
      "outputs": [
        {
          "output_type": "display_data",
          "data": {
            "text/plain": [
              "<Figure size 640x480 with 1 Axes>"
            ],
            "image/svg+xml": "<?xml version=\"1.0\" encoding=\"utf-8\" standalone=\"no\"?>\n<!DOCTYPE svg PUBLIC \"-//W3C//DTD SVG 1.1//EN\"\n  \"http://www.w3.org/Graphics/SVG/1.1/DTD/svg11.dtd\">\n<svg xmlns:xlink=\"http://www.w3.org/1999/xlink\" width=\"417.648125pt\" height=\"312.30825pt\" viewBox=\"0 0 417.648125 312.30825\" xmlns=\"http://www.w3.org/2000/svg\" version=\"1.1\">\n <metadata>\n  <rdf:RDF xmlns:dc=\"http://purl.org/dc/elements/1.1/\" xmlns:cc=\"http://creativecommons.org/ns#\" xmlns:rdf=\"http://www.w3.org/1999/02/22-rdf-syntax-ns#\">\n   <cc:Work>\n    <dc:type rdf:resource=\"http://purl.org/dc/dcmitype/StillImage\"/>\n    <dc:date>2024-12-28T15:12:13.057033</dc:date>\n    <dc:format>image/svg+xml</dc:format>\n    <dc:creator>\n     <cc:Agent>\n      <dc:title>Matplotlib v3.8.0, https://matplotlib.org/</dc:title>\n     </cc:Agent>\n    </dc:creator>\n   </cc:Work>\n  </rdf:RDF>\n </metadata>\n <defs>\n  <style type=\"text/css\">*{stroke-linejoin: round; stroke-linecap: butt}</style>\n </defs>\n <g id=\"figure_1\">\n  <g id=\"patch_1\">\n   <path d=\"M 0 312.30825 \nL 417.648125 312.30825 \nL 417.648125 0 \nL 0 0 \nz\n\" style=\"fill: #ffffff\"/>\n  </g>\n  <g id=\"axes_1\">\n   <g id=\"patch_2\">\n    <path d=\"M 53.328125 288.430125 \nL 410.448125 288.430125 \nL 410.448125 22.318125 \nL 53.328125 22.318125 \nz\n\" style=\"fill: #ffffff\"/>\n   </g>\n   <g id=\"patch_3\">\n    <path d=\"M 69.560852 288.430125 \nL 137.909178 288.430125 \nL 137.909178 34.990125 \nL 69.560852 34.990125 \nz\n\" clip-path=\"url(#p6f09fffe4e)\" style=\"fill: #1f77b4\"/>\n   </g>\n   <g id=\"patch_4\">\n    <path d=\"M 154.996259 288.430125 \nL 223.344584 288.430125 \nL 223.344584 47.754772 \nL 154.996259 47.754772 \nz\n\" clip-path=\"url(#p6f09fffe4e)\" style=\"fill: #1f77b4\"/>\n   </g>\n   <g id=\"patch_5\">\n    <path d=\"M 240.431666 288.430125 \nL 308.779991 288.430125 \nL 308.779991 44.460669 \nL 240.431666 44.460669 \nz\n\" clip-path=\"url(#p6f09fffe4e)\" style=\"fill: #1f77b4\"/>\n   </g>\n   <g id=\"patch_6\">\n    <path d=\"M 325.867072 288.430125 \nL 394.215398 288.430125 \nL 394.215398 41.372448 \nL 325.867072 41.372448 \nz\n\" clip-path=\"url(#p6f09fffe4e)\" style=\"fill: #1f77b4\"/>\n   </g>\n   <g id=\"matplotlib.axis_1\">\n    <g id=\"xtick_1\">\n     <g id=\"line2d_1\">\n      <defs>\n       <path id=\"m1f18b8592c\" d=\"M 0 0 \nL 0 3.5 \n\" style=\"stroke: #000000; stroke-width: 0.8\"/>\n      </defs>\n      <g>\n       <use xlink:href=\"#m1f18b8592c\" x=\"103.735015\" y=\"288.430125\" style=\"stroke: #000000; stroke-width: 0.8\"/>\n      </g>\n     </g>\n     <g id=\"text_1\">\n      <!-- chatGPT -->\n      <g transform=\"translate(82.849859 303.028562) scale(0.1 -0.1)\">\n       <defs>\n        <path id=\"DejaVuSans-63\" d=\"M 3122 3366 \nL 3122 2828 \nQ 2878 2963 2633 3030 \nQ 2388 3097 2138 3097 \nQ 1578 3097 1268 2742 \nQ 959 2388 959 1747 \nQ 959 1106 1268 751 \nQ 1578 397 2138 397 \nQ 2388 397 2633 464 \nQ 2878 531 3122 666 \nL 3122 134 \nQ 2881 22 2623 -34 \nQ 2366 -91 2075 -91 \nQ 1284 -91 818 406 \nQ 353 903 353 1747 \nQ 353 2603 823 3093 \nQ 1294 3584 2113 3584 \nQ 2378 3584 2631 3529 \nQ 2884 3475 3122 3366 \nz\n\" transform=\"scale(0.015625)\"/>\n        <path id=\"DejaVuSans-68\" d=\"M 3513 2113 \nL 3513 0 \nL 2938 0 \nL 2938 2094 \nQ 2938 2591 2744 2837 \nQ 2550 3084 2163 3084 \nQ 1697 3084 1428 2787 \nQ 1159 2491 1159 1978 \nL 1159 0 \nL 581 0 \nL 581 4863 \nL 1159 4863 \nL 1159 2956 \nQ 1366 3272 1645 3428 \nQ 1925 3584 2291 3584 \nQ 2894 3584 3203 3211 \nQ 3513 2838 3513 2113 \nz\n\" transform=\"scale(0.015625)\"/>\n        <path id=\"DejaVuSans-61\" d=\"M 2194 1759 \nQ 1497 1759 1228 1600 \nQ 959 1441 959 1056 \nQ 959 750 1161 570 \nQ 1363 391 1709 391 \nQ 2188 391 2477 730 \nQ 2766 1069 2766 1631 \nL 2766 1759 \nL 2194 1759 \nz\nM 3341 1997 \nL 3341 0 \nL 2766 0 \nL 2766 531 \nQ 2569 213 2275 61 \nQ 1981 -91 1556 -91 \nQ 1019 -91 701 211 \nQ 384 513 384 1019 \nQ 384 1609 779 1909 \nQ 1175 2209 1959 2209 \nL 2766 2209 \nL 2766 2266 \nQ 2766 2663 2505 2880 \nQ 2244 3097 1772 3097 \nQ 1472 3097 1187 3025 \nQ 903 2953 641 2809 \nL 641 3341 \nQ 956 3463 1253 3523 \nQ 1550 3584 1831 3584 \nQ 2591 3584 2966 3190 \nQ 3341 2797 3341 1997 \nz\n\" transform=\"scale(0.015625)\"/>\n        <path id=\"DejaVuSans-74\" d=\"M 1172 4494 \nL 1172 3500 \nL 2356 3500 \nL 2356 3053 \nL 1172 3053 \nL 1172 1153 \nQ 1172 725 1289 603 \nQ 1406 481 1766 481 \nL 2356 481 \nL 2356 0 \nL 1766 0 \nQ 1100 0 847 248 \nQ 594 497 594 1153 \nL 594 3053 \nL 172 3053 \nL 172 3500 \nL 594 3500 \nL 594 4494 \nL 1172 4494 \nz\n\" transform=\"scale(0.015625)\"/>\n        <path id=\"DejaVuSans-47\" d=\"M 3809 666 \nL 3809 1919 \nL 2778 1919 \nL 2778 2438 \nL 4434 2438 \nL 4434 434 \nQ 4069 175 3628 42 \nQ 3188 -91 2688 -91 \nQ 1594 -91 976 548 \nQ 359 1188 359 2328 \nQ 359 3472 976 4111 \nQ 1594 4750 2688 4750 \nQ 3144 4750 3555 4637 \nQ 3966 4525 4313 4306 \nL 4313 3634 \nQ 3963 3931 3569 4081 \nQ 3175 4231 2741 4231 \nQ 1884 4231 1454 3753 \nQ 1025 3275 1025 2328 \nQ 1025 1384 1454 906 \nQ 1884 428 2741 428 \nQ 3075 428 3337 486 \nQ 3600 544 3809 666 \nz\n\" transform=\"scale(0.015625)\"/>\n        <path id=\"DejaVuSans-50\" d=\"M 1259 4147 \nL 1259 2394 \nL 2053 2394 \nQ 2494 2394 2734 2622 \nQ 2975 2850 2975 3272 \nQ 2975 3691 2734 3919 \nQ 2494 4147 2053 4147 \nL 1259 4147 \nz\nM 628 4666 \nL 2053 4666 \nQ 2838 4666 3239 4311 \nQ 3641 3956 3641 3272 \nQ 3641 2581 3239 2228 \nQ 2838 1875 2053 1875 \nL 1259 1875 \nL 1259 0 \nL 628 0 \nL 628 4666 \nz\n\" transform=\"scale(0.015625)\"/>\n        <path id=\"DejaVuSans-54\" d=\"M -19 4666 \nL 3928 4666 \nL 3928 4134 \nL 2272 4134 \nL 2272 0 \nL 1638 0 \nL 1638 4134 \nL -19 4134 \nL -19 4666 \nz\n\" transform=\"scale(0.015625)\"/>\n       </defs>\n       <use xlink:href=\"#DejaVuSans-63\"/>\n       <use xlink:href=\"#DejaVuSans-68\" x=\"54.980469\"/>\n       <use xlink:href=\"#DejaVuSans-61\" x=\"118.359375\"/>\n       <use xlink:href=\"#DejaVuSans-74\" x=\"179.638672\"/>\n       <use xlink:href=\"#DejaVuSans-47\" x=\"218.847656\"/>\n       <use xlink:href=\"#DejaVuSans-50\" x=\"296.337891\"/>\n       <use xlink:href=\"#DejaVuSans-54\" x=\"356.640625\"/>\n      </g>\n     </g>\n    </g>\n    <g id=\"xtick_2\">\n     <g id=\"line2d_2\">\n      <g>\n       <use xlink:href=\"#m1f18b8592c\" x=\"189.170422\" y=\"288.430125\" style=\"stroke: #000000; stroke-width: 0.8\"/>\n      </g>\n     </g>\n     <g id=\"text_2\">\n      <!-- cohere -->\n      <g transform=\"translate(172.096984 303.028562) scale(0.1 -0.1)\">\n       <defs>\n        <path id=\"DejaVuSans-6f\" d=\"M 1959 3097 \nQ 1497 3097 1228 2736 \nQ 959 2375 959 1747 \nQ 959 1119 1226 758 \nQ 1494 397 1959 397 \nQ 2419 397 2687 759 \nQ 2956 1122 2956 1747 \nQ 2956 2369 2687 2733 \nQ 2419 3097 1959 3097 \nz\nM 1959 3584 \nQ 2709 3584 3137 3096 \nQ 3566 2609 3566 1747 \nQ 3566 888 3137 398 \nQ 2709 -91 1959 -91 \nQ 1206 -91 779 398 \nQ 353 888 353 1747 \nQ 353 2609 779 3096 \nQ 1206 3584 1959 3584 \nz\n\" transform=\"scale(0.015625)\"/>\n        <path id=\"DejaVuSans-65\" d=\"M 3597 1894 \nL 3597 1613 \nL 953 1613 \nQ 991 1019 1311 708 \nQ 1631 397 2203 397 \nQ 2534 397 2845 478 \nQ 3156 559 3463 722 \nL 3463 178 \nQ 3153 47 2828 -22 \nQ 2503 -91 2169 -91 \nQ 1331 -91 842 396 \nQ 353 884 353 1716 \nQ 353 2575 817 3079 \nQ 1281 3584 2069 3584 \nQ 2775 3584 3186 3129 \nQ 3597 2675 3597 1894 \nz\nM 3022 2063 \nQ 3016 2534 2758 2815 \nQ 2500 3097 2075 3097 \nQ 1594 3097 1305 2825 \nQ 1016 2553 972 2059 \nL 3022 2063 \nz\n\" transform=\"scale(0.015625)\"/>\n        <path id=\"DejaVuSans-72\" d=\"M 2631 2963 \nQ 2534 3019 2420 3045 \nQ 2306 3072 2169 3072 \nQ 1681 3072 1420 2755 \nQ 1159 2438 1159 1844 \nL 1159 0 \nL 581 0 \nL 581 3500 \nL 1159 3500 \nL 1159 2956 \nQ 1341 3275 1631 3429 \nQ 1922 3584 2338 3584 \nQ 2397 3584 2469 3576 \nQ 2541 3569 2628 3553 \nL 2631 2963 \nz\n\" transform=\"scale(0.015625)\"/>\n       </defs>\n       <use xlink:href=\"#DejaVuSans-63\"/>\n       <use xlink:href=\"#DejaVuSans-6f\" x=\"54.980469\"/>\n       <use xlink:href=\"#DejaVuSans-68\" x=\"116.162109\"/>\n       <use xlink:href=\"#DejaVuSans-65\" x=\"179.541016\"/>\n       <use xlink:href=\"#DejaVuSans-72\" x=\"241.064453\"/>\n       <use xlink:href=\"#DejaVuSans-65\" x=\"279.927734\"/>\n      </g>\n     </g>\n    </g>\n    <g id=\"xtick_3\">\n     <g id=\"line2d_3\">\n      <g>\n       <use xlink:href=\"#m1f18b8592c\" x=\"274.605828\" y=\"288.430125\" style=\"stroke: #000000; stroke-width: 0.8\"/>\n      </g>\n     </g>\n     <g id=\"text_3\">\n      <!-- davinci -->\n      <g transform=\"translate(256.712078 303.028562) scale(0.1 -0.1)\">\n       <defs>\n        <path id=\"DejaVuSans-64\" d=\"M 2906 2969 \nL 2906 4863 \nL 3481 4863 \nL 3481 0 \nL 2906 0 \nL 2906 525 \nQ 2725 213 2448 61 \nQ 2172 -91 1784 -91 \nQ 1150 -91 751 415 \nQ 353 922 353 1747 \nQ 353 2572 751 3078 \nQ 1150 3584 1784 3584 \nQ 2172 3584 2448 3432 \nQ 2725 3281 2906 2969 \nz\nM 947 1747 \nQ 947 1113 1208 752 \nQ 1469 391 1925 391 \nQ 2381 391 2643 752 \nQ 2906 1113 2906 1747 \nQ 2906 2381 2643 2742 \nQ 2381 3103 1925 3103 \nQ 1469 3103 1208 2742 \nQ 947 2381 947 1747 \nz\n\" transform=\"scale(0.015625)\"/>\n        <path id=\"DejaVuSans-76\" d=\"M 191 3500 \nL 800 3500 \nL 1894 563 \nL 2988 3500 \nL 3597 3500 \nL 2284 0 \nL 1503 0 \nL 191 3500 \nz\n\" transform=\"scale(0.015625)\"/>\n        <path id=\"DejaVuSans-69\" d=\"M 603 3500 \nL 1178 3500 \nL 1178 0 \nL 603 0 \nL 603 3500 \nz\nM 603 4863 \nL 1178 4863 \nL 1178 4134 \nL 603 4134 \nL 603 4863 \nz\n\" transform=\"scale(0.015625)\"/>\n        <path id=\"DejaVuSans-6e\" d=\"M 3513 2113 \nL 3513 0 \nL 2938 0 \nL 2938 2094 \nQ 2938 2591 2744 2837 \nQ 2550 3084 2163 3084 \nQ 1697 3084 1428 2787 \nQ 1159 2491 1159 1978 \nL 1159 0 \nL 581 0 \nL 581 3500 \nL 1159 3500 \nL 1159 2956 \nQ 1366 3272 1645 3428 \nQ 1925 3584 2291 3584 \nQ 2894 3584 3203 3211 \nQ 3513 2838 3513 2113 \nz\n\" transform=\"scale(0.015625)\"/>\n       </defs>\n       <use xlink:href=\"#DejaVuSans-64\"/>\n       <use xlink:href=\"#DejaVuSans-61\" x=\"63.476562\"/>\n       <use xlink:href=\"#DejaVuSans-76\" x=\"124.755859\"/>\n       <use xlink:href=\"#DejaVuSans-69\" x=\"183.935547\"/>\n       <use xlink:href=\"#DejaVuSans-6e\" x=\"211.71875\"/>\n       <use xlink:href=\"#DejaVuSans-63\" x=\"275.097656\"/>\n       <use xlink:href=\"#DejaVuSans-69\" x=\"330.078125\"/>\n      </g>\n     </g>\n    </g>\n    <g id=\"xtick_4\">\n     <g id=\"line2d_4\">\n      <g>\n       <use xlink:href=\"#m1f18b8592c\" x=\"360.041235\" y=\"288.430125\" style=\"stroke: #000000; stroke-width: 0.8\"/>\n      </g>\n     </g>\n     <g id=\"text_4\">\n      <!-- dolly -->\n      <g transform=\"translate(348.070141 303.028562) scale(0.1 -0.1)\">\n       <defs>\n        <path id=\"DejaVuSans-6c\" d=\"M 603 4863 \nL 1178 4863 \nL 1178 0 \nL 603 0 \nL 603 4863 \nz\n\" transform=\"scale(0.015625)\"/>\n        <path id=\"DejaVuSans-79\" d=\"M 2059 -325 \nQ 1816 -950 1584 -1140 \nQ 1353 -1331 966 -1331 \nL 506 -1331 \nL 506 -850 \nL 844 -850 \nQ 1081 -850 1212 -737 \nQ 1344 -625 1503 -206 \nL 1606 56 \nL 191 3500 \nL 800 3500 \nL 1894 763 \nL 2988 3500 \nL 3597 3500 \nL 2059 -325 \nz\n\" transform=\"scale(0.015625)\"/>\n       </defs>\n       <use xlink:href=\"#DejaVuSans-64\"/>\n       <use xlink:href=\"#DejaVuSans-6f\" x=\"63.476562\"/>\n       <use xlink:href=\"#DejaVuSans-6c\" x=\"124.658203\"/>\n       <use xlink:href=\"#DejaVuSans-6c\" x=\"152.441406\"/>\n       <use xlink:href=\"#DejaVuSans-79\" x=\"180.224609\"/>\n      </g>\n     </g>\n    </g>\n   </g>\n   <g id=\"matplotlib.axis_2\">\n    <g id=\"ytick_1\">\n     <g id=\"line2d_5\">\n      <defs>\n       <path id=\"maa0f909d5c\" d=\"M 0 0 \nL -3.5 0 \n\" style=\"stroke: #000000; stroke-width: 0.8\"/>\n      </defs>\n      <g>\n       <use xlink:href=\"#maa0f909d5c\" x=\"53.328125\" y=\"288.430125\" style=\"stroke: #000000; stroke-width: 0.8\"/>\n      </g>\n     </g>\n     <g id=\"text_5\">\n      <!-- 0 -->\n      <g transform=\"translate(39.965625 292.229344) scale(0.1 -0.1)\">\n       <defs>\n        <path id=\"DejaVuSans-30\" d=\"M 2034 4250 \nQ 1547 4250 1301 3770 \nQ 1056 3291 1056 2328 \nQ 1056 1369 1301 889 \nQ 1547 409 2034 409 \nQ 2525 409 2770 889 \nQ 3016 1369 3016 2328 \nQ 3016 3291 2770 3770 \nQ 2525 4250 2034 4250 \nz\nM 2034 4750 \nQ 2819 4750 3233 4129 \nQ 3647 3509 3647 2328 \nQ 3647 1150 3233 529 \nQ 2819 -91 2034 -91 \nQ 1250 -91 836 529 \nQ 422 1150 422 2328 \nQ 422 3509 836 4129 \nQ 1250 4750 2034 4750 \nz\n\" transform=\"scale(0.015625)\"/>\n       </defs>\n       <use xlink:href=\"#DejaVuSans-30\"/>\n      </g>\n     </g>\n    </g>\n    <g id=\"ytick_2\">\n     <g id=\"line2d_6\">\n      <g>\n       <use xlink:href=\"#maa0f909d5c\" x=\"53.328125\" y=\"247.253846\" style=\"stroke: #000000; stroke-width: 0.8\"/>\n      </g>\n     </g>\n     <g id=\"text_6\">\n      <!-- 200 -->\n      <g transform=\"translate(27.240625 251.053064) scale(0.1 -0.1)\">\n       <defs>\n        <path id=\"DejaVuSans-32\" d=\"M 1228 531 \nL 3431 531 \nL 3431 0 \nL 469 0 \nL 469 531 \nQ 828 903 1448 1529 \nQ 2069 2156 2228 2338 \nQ 2531 2678 2651 2914 \nQ 2772 3150 2772 3378 \nQ 2772 3750 2511 3984 \nQ 2250 4219 1831 4219 \nQ 1534 4219 1204 4116 \nQ 875 4013 500 3803 \nL 500 4441 \nQ 881 4594 1212 4672 \nQ 1544 4750 1819 4750 \nQ 2544 4750 2975 4387 \nQ 3406 4025 3406 3419 \nQ 3406 3131 3298 2873 \nQ 3191 2616 2906 2266 \nQ 2828 2175 2409 1742 \nQ 1991 1309 1228 531 \nz\n\" transform=\"scale(0.015625)\"/>\n       </defs>\n       <use xlink:href=\"#DejaVuSans-32\"/>\n       <use xlink:href=\"#DejaVuSans-30\" x=\"63.623047\"/>\n       <use xlink:href=\"#DejaVuSans-30\" x=\"127.246094\"/>\n      </g>\n     </g>\n    </g>\n    <g id=\"ytick_3\">\n     <g id=\"line2d_7\">\n      <g>\n       <use xlink:href=\"#maa0f909d5c\" x=\"53.328125\" y=\"206.077566\" style=\"stroke: #000000; stroke-width: 0.8\"/>\n      </g>\n     </g>\n     <g id=\"text_7\">\n      <!-- 400 -->\n      <g transform=\"translate(27.240625 209.876785) scale(0.1 -0.1)\">\n       <defs>\n        <path id=\"DejaVuSans-34\" d=\"M 2419 4116 \nL 825 1625 \nL 2419 1625 \nL 2419 4116 \nz\nM 2253 4666 \nL 3047 4666 \nL 3047 1625 \nL 3713 1625 \nL 3713 1100 \nL 3047 1100 \nL 3047 0 \nL 2419 0 \nL 2419 1100 \nL 313 1100 \nL 313 1709 \nL 2253 4666 \nz\n\" transform=\"scale(0.015625)\"/>\n       </defs>\n       <use xlink:href=\"#DejaVuSans-34\"/>\n       <use xlink:href=\"#DejaVuSans-30\" x=\"63.623047\"/>\n       <use xlink:href=\"#DejaVuSans-30\" x=\"127.246094\"/>\n      </g>\n     </g>\n    </g>\n    <g id=\"ytick_4\">\n     <g id=\"line2d_8\">\n      <g>\n       <use xlink:href=\"#maa0f909d5c\" x=\"53.328125\" y=\"164.901287\" style=\"stroke: #000000; stroke-width: 0.8\"/>\n      </g>\n     </g>\n     <g id=\"text_8\">\n      <!-- 600 -->\n      <g transform=\"translate(27.240625 168.700505) scale(0.1 -0.1)\">\n       <defs>\n        <path id=\"DejaVuSans-36\" d=\"M 2113 2584 \nQ 1688 2584 1439 2293 \nQ 1191 2003 1191 1497 \nQ 1191 994 1439 701 \nQ 1688 409 2113 409 \nQ 2538 409 2786 701 \nQ 3034 994 3034 1497 \nQ 3034 2003 2786 2293 \nQ 2538 2584 2113 2584 \nz\nM 3366 4563 \nL 3366 3988 \nQ 3128 4100 2886 4159 \nQ 2644 4219 2406 4219 \nQ 1781 4219 1451 3797 \nQ 1122 3375 1075 2522 \nQ 1259 2794 1537 2939 \nQ 1816 3084 2150 3084 \nQ 2853 3084 3261 2657 \nQ 3669 2231 3669 1497 \nQ 3669 778 3244 343 \nQ 2819 -91 2113 -91 \nQ 1303 -91 875 529 \nQ 447 1150 447 2328 \nQ 447 3434 972 4092 \nQ 1497 4750 2381 4750 \nQ 2619 4750 2861 4703 \nQ 3103 4656 3366 4563 \nz\n\" transform=\"scale(0.015625)\"/>\n       </defs>\n       <use xlink:href=\"#DejaVuSans-36\"/>\n       <use xlink:href=\"#DejaVuSans-30\" x=\"63.623047\"/>\n       <use xlink:href=\"#DejaVuSans-30\" x=\"127.246094\"/>\n      </g>\n     </g>\n    </g>\n    <g id=\"ytick_5\">\n     <g id=\"line2d_9\">\n      <g>\n       <use xlink:href=\"#maa0f909d5c\" x=\"53.328125\" y=\"123.725007\" style=\"stroke: #000000; stroke-width: 0.8\"/>\n      </g>\n     </g>\n     <g id=\"text_9\">\n      <!-- 800 -->\n      <g transform=\"translate(27.240625 127.524226) scale(0.1 -0.1)\">\n       <defs>\n        <path id=\"DejaVuSans-38\" d=\"M 2034 2216 \nQ 1584 2216 1326 1975 \nQ 1069 1734 1069 1313 \nQ 1069 891 1326 650 \nQ 1584 409 2034 409 \nQ 2484 409 2743 651 \nQ 3003 894 3003 1313 \nQ 3003 1734 2745 1975 \nQ 2488 2216 2034 2216 \nz\nM 1403 2484 \nQ 997 2584 770 2862 \nQ 544 3141 544 3541 \nQ 544 4100 942 4425 \nQ 1341 4750 2034 4750 \nQ 2731 4750 3128 4425 \nQ 3525 4100 3525 3541 \nQ 3525 3141 3298 2862 \nQ 3072 2584 2669 2484 \nQ 3125 2378 3379 2068 \nQ 3634 1759 3634 1313 \nQ 3634 634 3220 271 \nQ 2806 -91 2034 -91 \nQ 1263 -91 848 271 \nQ 434 634 434 1313 \nQ 434 1759 690 2068 \nQ 947 2378 1403 2484 \nz\nM 1172 3481 \nQ 1172 3119 1398 2916 \nQ 1625 2713 2034 2713 \nQ 2441 2713 2670 2916 \nQ 2900 3119 2900 3481 \nQ 2900 3844 2670 4047 \nQ 2441 4250 2034 4250 \nQ 1625 4250 1398 4047 \nQ 1172 3844 1172 3481 \nz\n\" transform=\"scale(0.015625)\"/>\n       </defs>\n       <use xlink:href=\"#DejaVuSans-38\"/>\n       <use xlink:href=\"#DejaVuSans-30\" x=\"63.623047\"/>\n       <use xlink:href=\"#DejaVuSans-30\" x=\"127.246094\"/>\n      </g>\n     </g>\n    </g>\n    <g id=\"ytick_6\">\n     <g id=\"line2d_10\">\n      <g>\n       <use xlink:href=\"#maa0f909d5c\" x=\"53.328125\" y=\"82.548728\" style=\"stroke: #000000; stroke-width: 0.8\"/>\n      </g>\n     </g>\n     <g id=\"text_10\">\n      <!-- 1000 -->\n      <g transform=\"translate(20.878125 86.347947) scale(0.1 -0.1)\">\n       <defs>\n        <path id=\"DejaVuSans-31\" d=\"M 794 531 \nL 1825 531 \nL 1825 4091 \nL 703 3866 \nL 703 4441 \nL 1819 4666 \nL 2450 4666 \nL 2450 531 \nL 3481 531 \nL 3481 0 \nL 794 0 \nL 794 531 \nz\n\" transform=\"scale(0.015625)\"/>\n       </defs>\n       <use xlink:href=\"#DejaVuSans-31\"/>\n       <use xlink:href=\"#DejaVuSans-30\" x=\"63.623047\"/>\n       <use xlink:href=\"#DejaVuSans-30\" x=\"127.246094\"/>\n       <use xlink:href=\"#DejaVuSans-30\" x=\"190.869141\"/>\n      </g>\n     </g>\n    </g>\n    <g id=\"ytick_7\">\n     <g id=\"line2d_11\">\n      <g>\n       <use xlink:href=\"#maa0f909d5c\" x=\"53.328125\" y=\"41.372448\" style=\"stroke: #000000; stroke-width: 0.8\"/>\n      </g>\n     </g>\n     <g id=\"text_11\">\n      <!-- 1200 -->\n      <g transform=\"translate(20.878125 45.171667) scale(0.1 -0.1)\">\n       <use xlink:href=\"#DejaVuSans-31\"/>\n       <use xlink:href=\"#DejaVuSans-32\" x=\"63.623047\"/>\n       <use xlink:href=\"#DejaVuSans-30\" x=\"127.246094\"/>\n       <use xlink:href=\"#DejaVuSans-30\" x=\"190.869141\"/>\n      </g>\n     </g>\n    </g>\n    <g id=\"text_12\">\n     <!-- amount -->\n     <g transform=\"translate(14.798438 174.665531) rotate(-90) scale(0.1 -0.1)\">\n      <defs>\n       <path id=\"DejaVuSans-6d\" d=\"M 3328 2828 \nQ 3544 3216 3844 3400 \nQ 4144 3584 4550 3584 \nQ 5097 3584 5394 3201 \nQ 5691 2819 5691 2113 \nL 5691 0 \nL 5113 0 \nL 5113 2094 \nQ 5113 2597 4934 2840 \nQ 4756 3084 4391 3084 \nQ 3944 3084 3684 2787 \nQ 3425 2491 3425 1978 \nL 3425 0 \nL 2847 0 \nL 2847 2094 \nQ 2847 2600 2669 2842 \nQ 2491 3084 2119 3084 \nQ 1678 3084 1418 2786 \nQ 1159 2488 1159 1978 \nL 1159 0 \nL 581 0 \nL 581 3500 \nL 1159 3500 \nL 1159 2956 \nQ 1356 3278 1631 3431 \nQ 1906 3584 2284 3584 \nQ 2666 3584 2933 3390 \nQ 3200 3197 3328 2828 \nz\n\" transform=\"scale(0.015625)\"/>\n       <path id=\"DejaVuSans-75\" d=\"M 544 1381 \nL 544 3500 \nL 1119 3500 \nL 1119 1403 \nQ 1119 906 1312 657 \nQ 1506 409 1894 409 \nQ 2359 409 2629 706 \nQ 2900 1003 2900 1516 \nL 2900 3500 \nL 3475 3500 \nL 3475 0 \nL 2900 0 \nL 2900 538 \nQ 2691 219 2414 64 \nQ 2138 -91 1772 -91 \nQ 1169 -91 856 284 \nQ 544 659 544 1381 \nz\nM 1991 3584 \nL 1991 3584 \nz\n\" transform=\"scale(0.015625)\"/>\n      </defs>\n      <use xlink:href=\"#DejaVuSans-61\"/>\n      <use xlink:href=\"#DejaVuSans-6d\" x=\"61.279297\"/>\n      <use xlink:href=\"#DejaVuSans-6f\" x=\"158.691406\"/>\n      <use xlink:href=\"#DejaVuSans-75\" x=\"219.873047\"/>\n      <use xlink:href=\"#DejaVuSans-6e\" x=\"283.251953\"/>\n      <use xlink:href=\"#DejaVuSans-74\" x=\"346.630859\"/>\n     </g>\n    </g>\n   </g>\n   <g id=\"patch_7\">\n    <path d=\"M 53.328125 288.430125 \nL 53.328125 22.318125 \n\" style=\"fill: none; stroke: #000000; stroke-width: 0.8; stroke-linejoin: miter; stroke-linecap: square\"/>\n   </g>\n   <g id=\"patch_8\">\n    <path d=\"M 410.448125 288.430125 \nL 410.448125 22.318125 \n\" style=\"fill: none; stroke: #000000; stroke-width: 0.8; stroke-linejoin: miter; stroke-linecap: square\"/>\n   </g>\n   <g id=\"patch_9\">\n    <path d=\"M 53.328125 288.430125 \nL 410.448125 288.430125 \n\" style=\"fill: none; stroke: #000000; stroke-width: 0.8; stroke-linejoin: miter; stroke-linecap: square\"/>\n   </g>\n   <g id=\"patch_10\">\n    <path d=\"M 53.328125 22.318125 \nL 410.448125 22.318125 \n\" style=\"fill: none; stroke: #000000; stroke-width: 0.8; stroke-linejoin: miter; stroke-linecap: square\"/>\n   </g>\n   <g id=\"text_13\">\n    <!-- Different models generated texts dist. -->\n    <g transform=\"translate(117.249688 16.318125) scale(0.12 -0.12)\">\n     <defs>\n      <path id=\"DejaVuSans-44\" d=\"M 1259 4147 \nL 1259 519 \nL 2022 519 \nQ 2988 519 3436 956 \nQ 3884 1394 3884 2338 \nQ 3884 3275 3436 3711 \nQ 2988 4147 2022 4147 \nL 1259 4147 \nz\nM 628 4666 \nL 1925 4666 \nQ 3281 4666 3915 4102 \nQ 4550 3538 4550 2338 \nQ 4550 1131 3912 565 \nQ 3275 0 1925 0 \nL 628 0 \nL 628 4666 \nz\n\" transform=\"scale(0.015625)\"/>\n      <path id=\"DejaVuSans-66\" d=\"M 2375 4863 \nL 2375 4384 \nL 1825 4384 \nQ 1516 4384 1395 4259 \nQ 1275 4134 1275 3809 \nL 1275 3500 \nL 2222 3500 \nL 2222 3053 \nL 1275 3053 \nL 1275 0 \nL 697 0 \nL 697 3053 \nL 147 3053 \nL 147 3500 \nL 697 3500 \nL 697 3744 \nQ 697 4328 969 4595 \nQ 1241 4863 1831 4863 \nL 2375 4863 \nz\n\" transform=\"scale(0.015625)\"/>\n      <path id=\"DejaVuSans-20\" transform=\"scale(0.015625)\"/>\n      <path id=\"DejaVuSans-73\" d=\"M 2834 3397 \nL 2834 2853 \nQ 2591 2978 2328 3040 \nQ 2066 3103 1784 3103 \nQ 1356 3103 1142 2972 \nQ 928 2841 928 2578 \nQ 928 2378 1081 2264 \nQ 1234 2150 1697 2047 \nL 1894 2003 \nQ 2506 1872 2764 1633 \nQ 3022 1394 3022 966 \nQ 3022 478 2636 193 \nQ 2250 -91 1575 -91 \nQ 1294 -91 989 -36 \nQ 684 19 347 128 \nL 347 722 \nQ 666 556 975 473 \nQ 1284 391 1588 391 \nQ 1994 391 2212 530 \nQ 2431 669 2431 922 \nQ 2431 1156 2273 1281 \nQ 2116 1406 1581 1522 \nL 1381 1569 \nQ 847 1681 609 1914 \nQ 372 2147 372 2553 \nQ 372 3047 722 3315 \nQ 1072 3584 1716 3584 \nQ 2034 3584 2315 3537 \nQ 2597 3491 2834 3397 \nz\n\" transform=\"scale(0.015625)\"/>\n      <path id=\"DejaVuSans-67\" d=\"M 2906 1791 \nQ 2906 2416 2648 2759 \nQ 2391 3103 1925 3103 \nQ 1463 3103 1205 2759 \nQ 947 2416 947 1791 \nQ 947 1169 1205 825 \nQ 1463 481 1925 481 \nQ 2391 481 2648 825 \nQ 2906 1169 2906 1791 \nz\nM 3481 434 \nQ 3481 -459 3084 -895 \nQ 2688 -1331 1869 -1331 \nQ 1566 -1331 1297 -1286 \nQ 1028 -1241 775 -1147 \nL 775 -588 \nQ 1028 -725 1275 -790 \nQ 1522 -856 1778 -856 \nQ 2344 -856 2625 -561 \nQ 2906 -266 2906 331 \nL 2906 616 \nQ 2728 306 2450 153 \nQ 2172 0 1784 0 \nQ 1141 0 747 490 \nQ 353 981 353 1791 \nQ 353 2603 747 3093 \nQ 1141 3584 1784 3584 \nQ 2172 3584 2450 3431 \nQ 2728 3278 2906 2969 \nL 2906 3500 \nL 3481 3500 \nL 3481 434 \nz\n\" transform=\"scale(0.015625)\"/>\n      <path id=\"DejaVuSans-78\" d=\"M 3513 3500 \nL 2247 1797 \nL 3578 0 \nL 2900 0 \nL 1881 1375 \nL 863 0 \nL 184 0 \nL 1544 1831 \nL 300 3500 \nL 978 3500 \nL 1906 2253 \nL 2834 3500 \nL 3513 3500 \nz\n\" transform=\"scale(0.015625)\"/>\n      <path id=\"DejaVuSans-2e\" d=\"M 684 794 \nL 1344 794 \nL 1344 0 \nL 684 0 \nL 684 794 \nz\n\" transform=\"scale(0.015625)\"/>\n     </defs>\n     <use xlink:href=\"#DejaVuSans-44\"/>\n     <use xlink:href=\"#DejaVuSans-69\" x=\"77.001953\"/>\n     <use xlink:href=\"#DejaVuSans-66\" x=\"104.785156\"/>\n     <use xlink:href=\"#DejaVuSans-66\" x=\"139.990234\"/>\n     <use xlink:href=\"#DejaVuSans-65\" x=\"175.195312\"/>\n     <use xlink:href=\"#DejaVuSans-72\" x=\"236.71875\"/>\n     <use xlink:href=\"#DejaVuSans-65\" x=\"275.582031\"/>\n     <use xlink:href=\"#DejaVuSans-6e\" x=\"337.105469\"/>\n     <use xlink:href=\"#DejaVuSans-74\" x=\"400.484375\"/>\n     <use xlink:href=\"#DejaVuSans-20\" x=\"439.693359\"/>\n     <use xlink:href=\"#DejaVuSans-6d\" x=\"471.480469\"/>\n     <use xlink:href=\"#DejaVuSans-6f\" x=\"568.892578\"/>\n     <use xlink:href=\"#DejaVuSans-64\" x=\"630.074219\"/>\n     <use xlink:href=\"#DejaVuSans-65\" x=\"693.550781\"/>\n     <use xlink:href=\"#DejaVuSans-6c\" x=\"755.074219\"/>\n     <use xlink:href=\"#DejaVuSans-73\" x=\"782.857422\"/>\n     <use xlink:href=\"#DejaVuSans-20\" x=\"834.957031\"/>\n     <use xlink:href=\"#DejaVuSans-67\" x=\"866.744141\"/>\n     <use xlink:href=\"#DejaVuSans-65\" x=\"930.220703\"/>\n     <use xlink:href=\"#DejaVuSans-6e\" x=\"991.744141\"/>\n     <use xlink:href=\"#DejaVuSans-65\" x=\"1055.123047\"/>\n     <use xlink:href=\"#DejaVuSans-72\" x=\"1116.646484\"/>\n     <use xlink:href=\"#DejaVuSans-61\" x=\"1157.759766\"/>\n     <use xlink:href=\"#DejaVuSans-74\" x=\"1219.039062\"/>\n     <use xlink:href=\"#DejaVuSans-65\" x=\"1258.248047\"/>\n     <use xlink:href=\"#DejaVuSans-64\" x=\"1319.771484\"/>\n     <use xlink:href=\"#DejaVuSans-20\" x=\"1383.248047\"/>\n     <use xlink:href=\"#DejaVuSans-74\" x=\"1415.035156\"/>\n     <use xlink:href=\"#DejaVuSans-65\" x=\"1454.244141\"/>\n     <use xlink:href=\"#DejaVuSans-78\" x=\"1514.017578\"/>\n     <use xlink:href=\"#DejaVuSans-74\" x=\"1573.197266\"/>\n     <use xlink:href=\"#DejaVuSans-73\" x=\"1612.40625\"/>\n     <use xlink:href=\"#DejaVuSans-20\" x=\"1664.505859\"/>\n     <use xlink:href=\"#DejaVuSans-64\" x=\"1696.292969\"/>\n     <use xlink:href=\"#DejaVuSans-69\" x=\"1759.769531\"/>\n     <use xlink:href=\"#DejaVuSans-73\" x=\"1787.552734\"/>\n     <use xlink:href=\"#DejaVuSans-74\" x=\"1839.652344\"/>\n     <use xlink:href=\"#DejaVuSans-2e\" x=\"1878.861328\"/>\n    </g>\n   </g>\n  </g>\n </g>\n <defs>\n  <clipPath id=\"p6f09fffe4e\">\n   <rect x=\"53.328125\" y=\"22.318125\" width=\"357.12\" height=\"266.112\"/>\n  </clipPath>\n </defs>\n</svg>\n"
          },
          "metadata": {}
        }
      ]
    },
    {
      "cell_type": "code",
      "source": [
        "plt.bar(np.unique(df['model'])[:-1],\n",
        "         [len(np.where(labels2lengths[1][elem] <= 512)[0]) for elem in length_dist]\n",
        ")\n",
        "plt.ylabel('amount')\n",
        "plt.title('Texts dist. within short texts')\n",
        "plt.show()"
      ],
      "metadata": {
        "colab": {
          "base_uri": "https://localhost:8080/",
          "height": 437
        },
        "id": "MMqR79FWtSWt",
        "outputId": "826b24be-3d39-4a4a-e78c-8126208544c4"
      },
      "id": "MMqR79FWtSWt",
      "execution_count": 24,
      "outputs": [
        {
          "output_type": "display_data",
          "data": {
            "text/plain": [
              "<Figure size 640x480 with 1 Axes>"
            ],
            "image/svg+xml": "<?xml version=\"1.0\" encoding=\"utf-8\" standalone=\"no\"?>\n<!DOCTYPE svg PUBLIC \"-//W3C//DTD SVG 1.1//EN\"\n  \"http://www.w3.org/Graphics/SVG/1.1/DTD/svg11.dtd\">\n<svg xmlns:xlink=\"http://www.w3.org/1999/xlink\" width=\"417.648125pt\" height=\"312.30825pt\" viewBox=\"0 0 417.648125 312.30825\" xmlns=\"http://www.w3.org/2000/svg\" version=\"1.1\">\n <metadata>\n  <rdf:RDF xmlns:dc=\"http://purl.org/dc/elements/1.1/\" xmlns:cc=\"http://creativecommons.org/ns#\" xmlns:rdf=\"http://www.w3.org/1999/02/22-rdf-syntax-ns#\">\n   <cc:Work>\n    <dc:type rdf:resource=\"http://purl.org/dc/dcmitype/StillImage\"/>\n    <dc:date>2024-12-28T15:12:13.368950</dc:date>\n    <dc:format>image/svg+xml</dc:format>\n    <dc:creator>\n     <cc:Agent>\n      <dc:title>Matplotlib v3.8.0, https://matplotlib.org/</dc:title>\n     </cc:Agent>\n    </dc:creator>\n   </cc:Work>\n  </rdf:RDF>\n </metadata>\n <defs>\n  <style type=\"text/css\">*{stroke-linejoin: round; stroke-linecap: butt}</style>\n </defs>\n <g id=\"figure_1\">\n  <g id=\"patch_1\">\n   <path d=\"M 0 312.30825 \nL 417.648125 312.30825 \nL 417.648125 0 \nL 0 0 \nz\n\" style=\"fill: #ffffff\"/>\n  </g>\n  <g id=\"axes_1\">\n   <g id=\"patch_2\">\n    <path d=\"M 53.328125 288.430125 \nL 410.448125 288.430125 \nL 410.448125 22.318125 \nL 53.328125 22.318125 \nz\n\" style=\"fill: #ffffff\"/>\n   </g>\n   <g id=\"patch_3\">\n    <path d=\"M 69.560852 288.430125 \nL 137.909178 288.430125 \nL 137.909178 44.549274 \nL 69.560852 44.549274 \nz\n\" clip-path=\"url(#pbc3e63e085)\" style=\"fill: #1f77b4\"/>\n   </g>\n   <g id=\"patch_4\">\n    <path d=\"M 154.996259 288.430125 \nL 223.344584 288.430125 \nL 223.344584 34.990125 \nL 154.996259 34.990125 \nz\n\" clip-path=\"url(#pbc3e63e085)\" style=\"fill: #1f77b4\"/>\n   </g>\n   <g id=\"patch_5\">\n    <path d=\"M 240.431666 288.430125 \nL 308.779991 288.430125 \nL 308.779991 50.92204 \nL 240.431666 50.92204 \nz\n\" clip-path=\"url(#pbc3e63e085)\" style=\"fill: #1f77b4\"/>\n   </g>\n   <g id=\"patch_6\">\n    <path d=\"M 325.867072 288.430125 \nL 394.215398 288.430125 \nL 394.215398 82.78587 \nL 325.867072 82.78587 \nz\n\" clip-path=\"url(#pbc3e63e085)\" style=\"fill: #1f77b4\"/>\n   </g>\n   <g id=\"matplotlib.axis_1\">\n    <g id=\"xtick_1\">\n     <g id=\"line2d_1\">\n      <defs>\n       <path id=\"m174919988d\" d=\"M 0 0 \nL 0 3.5 \n\" style=\"stroke: #000000; stroke-width: 0.8\"/>\n      </defs>\n      <g>\n       <use xlink:href=\"#m174919988d\" x=\"103.735015\" y=\"288.430125\" style=\"stroke: #000000; stroke-width: 0.8\"/>\n      </g>\n     </g>\n     <g id=\"text_1\">\n      <!-- chatGPT -->\n      <g transform=\"translate(82.849859 303.028562) scale(0.1 -0.1)\">\n       <defs>\n        <path id=\"DejaVuSans-63\" d=\"M 3122 3366 \nL 3122 2828 \nQ 2878 2963 2633 3030 \nQ 2388 3097 2138 3097 \nQ 1578 3097 1268 2742 \nQ 959 2388 959 1747 \nQ 959 1106 1268 751 \nQ 1578 397 2138 397 \nQ 2388 397 2633 464 \nQ 2878 531 3122 666 \nL 3122 134 \nQ 2881 22 2623 -34 \nQ 2366 -91 2075 -91 \nQ 1284 -91 818 406 \nQ 353 903 353 1747 \nQ 353 2603 823 3093 \nQ 1294 3584 2113 3584 \nQ 2378 3584 2631 3529 \nQ 2884 3475 3122 3366 \nz\n\" transform=\"scale(0.015625)\"/>\n        <path id=\"DejaVuSans-68\" d=\"M 3513 2113 \nL 3513 0 \nL 2938 0 \nL 2938 2094 \nQ 2938 2591 2744 2837 \nQ 2550 3084 2163 3084 \nQ 1697 3084 1428 2787 \nQ 1159 2491 1159 1978 \nL 1159 0 \nL 581 0 \nL 581 4863 \nL 1159 4863 \nL 1159 2956 \nQ 1366 3272 1645 3428 \nQ 1925 3584 2291 3584 \nQ 2894 3584 3203 3211 \nQ 3513 2838 3513 2113 \nz\n\" transform=\"scale(0.015625)\"/>\n        <path id=\"DejaVuSans-61\" d=\"M 2194 1759 \nQ 1497 1759 1228 1600 \nQ 959 1441 959 1056 \nQ 959 750 1161 570 \nQ 1363 391 1709 391 \nQ 2188 391 2477 730 \nQ 2766 1069 2766 1631 \nL 2766 1759 \nL 2194 1759 \nz\nM 3341 1997 \nL 3341 0 \nL 2766 0 \nL 2766 531 \nQ 2569 213 2275 61 \nQ 1981 -91 1556 -91 \nQ 1019 -91 701 211 \nQ 384 513 384 1019 \nQ 384 1609 779 1909 \nQ 1175 2209 1959 2209 \nL 2766 2209 \nL 2766 2266 \nQ 2766 2663 2505 2880 \nQ 2244 3097 1772 3097 \nQ 1472 3097 1187 3025 \nQ 903 2953 641 2809 \nL 641 3341 \nQ 956 3463 1253 3523 \nQ 1550 3584 1831 3584 \nQ 2591 3584 2966 3190 \nQ 3341 2797 3341 1997 \nz\n\" transform=\"scale(0.015625)\"/>\n        <path id=\"DejaVuSans-74\" d=\"M 1172 4494 \nL 1172 3500 \nL 2356 3500 \nL 2356 3053 \nL 1172 3053 \nL 1172 1153 \nQ 1172 725 1289 603 \nQ 1406 481 1766 481 \nL 2356 481 \nL 2356 0 \nL 1766 0 \nQ 1100 0 847 248 \nQ 594 497 594 1153 \nL 594 3053 \nL 172 3053 \nL 172 3500 \nL 594 3500 \nL 594 4494 \nL 1172 4494 \nz\n\" transform=\"scale(0.015625)\"/>\n        <path id=\"DejaVuSans-47\" d=\"M 3809 666 \nL 3809 1919 \nL 2778 1919 \nL 2778 2438 \nL 4434 2438 \nL 4434 434 \nQ 4069 175 3628 42 \nQ 3188 -91 2688 -91 \nQ 1594 -91 976 548 \nQ 359 1188 359 2328 \nQ 359 3472 976 4111 \nQ 1594 4750 2688 4750 \nQ 3144 4750 3555 4637 \nQ 3966 4525 4313 4306 \nL 4313 3634 \nQ 3963 3931 3569 4081 \nQ 3175 4231 2741 4231 \nQ 1884 4231 1454 3753 \nQ 1025 3275 1025 2328 \nQ 1025 1384 1454 906 \nQ 1884 428 2741 428 \nQ 3075 428 3337 486 \nQ 3600 544 3809 666 \nz\n\" transform=\"scale(0.015625)\"/>\n        <path id=\"DejaVuSans-50\" d=\"M 1259 4147 \nL 1259 2394 \nL 2053 2394 \nQ 2494 2394 2734 2622 \nQ 2975 2850 2975 3272 \nQ 2975 3691 2734 3919 \nQ 2494 4147 2053 4147 \nL 1259 4147 \nz\nM 628 4666 \nL 2053 4666 \nQ 2838 4666 3239 4311 \nQ 3641 3956 3641 3272 \nQ 3641 2581 3239 2228 \nQ 2838 1875 2053 1875 \nL 1259 1875 \nL 1259 0 \nL 628 0 \nL 628 4666 \nz\n\" transform=\"scale(0.015625)\"/>\n        <path id=\"DejaVuSans-54\" d=\"M -19 4666 \nL 3928 4666 \nL 3928 4134 \nL 2272 4134 \nL 2272 0 \nL 1638 0 \nL 1638 4134 \nL -19 4134 \nL -19 4666 \nz\n\" transform=\"scale(0.015625)\"/>\n       </defs>\n       <use xlink:href=\"#DejaVuSans-63\"/>\n       <use xlink:href=\"#DejaVuSans-68\" x=\"54.980469\"/>\n       <use xlink:href=\"#DejaVuSans-61\" x=\"118.359375\"/>\n       <use xlink:href=\"#DejaVuSans-74\" x=\"179.638672\"/>\n       <use xlink:href=\"#DejaVuSans-47\" x=\"218.847656\"/>\n       <use xlink:href=\"#DejaVuSans-50\" x=\"296.337891\"/>\n       <use xlink:href=\"#DejaVuSans-54\" x=\"356.640625\"/>\n      </g>\n     </g>\n    </g>\n    <g id=\"xtick_2\">\n     <g id=\"line2d_2\">\n      <g>\n       <use xlink:href=\"#m174919988d\" x=\"189.170422\" y=\"288.430125\" style=\"stroke: #000000; stroke-width: 0.8\"/>\n      </g>\n     </g>\n     <g id=\"text_2\">\n      <!-- cohere -->\n      <g transform=\"translate(172.096984 303.028562) scale(0.1 -0.1)\">\n       <defs>\n        <path id=\"DejaVuSans-6f\" d=\"M 1959 3097 \nQ 1497 3097 1228 2736 \nQ 959 2375 959 1747 \nQ 959 1119 1226 758 \nQ 1494 397 1959 397 \nQ 2419 397 2687 759 \nQ 2956 1122 2956 1747 \nQ 2956 2369 2687 2733 \nQ 2419 3097 1959 3097 \nz\nM 1959 3584 \nQ 2709 3584 3137 3096 \nQ 3566 2609 3566 1747 \nQ 3566 888 3137 398 \nQ 2709 -91 1959 -91 \nQ 1206 -91 779 398 \nQ 353 888 353 1747 \nQ 353 2609 779 3096 \nQ 1206 3584 1959 3584 \nz\n\" transform=\"scale(0.015625)\"/>\n        <path id=\"DejaVuSans-65\" d=\"M 3597 1894 \nL 3597 1613 \nL 953 1613 \nQ 991 1019 1311 708 \nQ 1631 397 2203 397 \nQ 2534 397 2845 478 \nQ 3156 559 3463 722 \nL 3463 178 \nQ 3153 47 2828 -22 \nQ 2503 -91 2169 -91 \nQ 1331 -91 842 396 \nQ 353 884 353 1716 \nQ 353 2575 817 3079 \nQ 1281 3584 2069 3584 \nQ 2775 3584 3186 3129 \nQ 3597 2675 3597 1894 \nz\nM 3022 2063 \nQ 3016 2534 2758 2815 \nQ 2500 3097 2075 3097 \nQ 1594 3097 1305 2825 \nQ 1016 2553 972 2059 \nL 3022 2063 \nz\n\" transform=\"scale(0.015625)\"/>\n        <path id=\"DejaVuSans-72\" d=\"M 2631 2963 \nQ 2534 3019 2420 3045 \nQ 2306 3072 2169 3072 \nQ 1681 3072 1420 2755 \nQ 1159 2438 1159 1844 \nL 1159 0 \nL 581 0 \nL 581 3500 \nL 1159 3500 \nL 1159 2956 \nQ 1341 3275 1631 3429 \nQ 1922 3584 2338 3584 \nQ 2397 3584 2469 3576 \nQ 2541 3569 2628 3553 \nL 2631 2963 \nz\n\" transform=\"scale(0.015625)\"/>\n       </defs>\n       <use xlink:href=\"#DejaVuSans-63\"/>\n       <use xlink:href=\"#DejaVuSans-6f\" x=\"54.980469\"/>\n       <use xlink:href=\"#DejaVuSans-68\" x=\"116.162109\"/>\n       <use xlink:href=\"#DejaVuSans-65\" x=\"179.541016\"/>\n       <use xlink:href=\"#DejaVuSans-72\" x=\"241.064453\"/>\n       <use xlink:href=\"#DejaVuSans-65\" x=\"279.927734\"/>\n      </g>\n     </g>\n    </g>\n    <g id=\"xtick_3\">\n     <g id=\"line2d_3\">\n      <g>\n       <use xlink:href=\"#m174919988d\" x=\"274.605828\" y=\"288.430125\" style=\"stroke: #000000; stroke-width: 0.8\"/>\n      </g>\n     </g>\n     <g id=\"text_3\">\n      <!-- davinci -->\n      <g transform=\"translate(256.712078 303.028562) scale(0.1 -0.1)\">\n       <defs>\n        <path id=\"DejaVuSans-64\" d=\"M 2906 2969 \nL 2906 4863 \nL 3481 4863 \nL 3481 0 \nL 2906 0 \nL 2906 525 \nQ 2725 213 2448 61 \nQ 2172 -91 1784 -91 \nQ 1150 -91 751 415 \nQ 353 922 353 1747 \nQ 353 2572 751 3078 \nQ 1150 3584 1784 3584 \nQ 2172 3584 2448 3432 \nQ 2725 3281 2906 2969 \nz\nM 947 1747 \nQ 947 1113 1208 752 \nQ 1469 391 1925 391 \nQ 2381 391 2643 752 \nQ 2906 1113 2906 1747 \nQ 2906 2381 2643 2742 \nQ 2381 3103 1925 3103 \nQ 1469 3103 1208 2742 \nQ 947 2381 947 1747 \nz\n\" transform=\"scale(0.015625)\"/>\n        <path id=\"DejaVuSans-76\" d=\"M 191 3500 \nL 800 3500 \nL 1894 563 \nL 2988 3500 \nL 3597 3500 \nL 2284 0 \nL 1503 0 \nL 191 3500 \nz\n\" transform=\"scale(0.015625)\"/>\n        <path id=\"DejaVuSans-69\" d=\"M 603 3500 \nL 1178 3500 \nL 1178 0 \nL 603 0 \nL 603 3500 \nz\nM 603 4863 \nL 1178 4863 \nL 1178 4134 \nL 603 4134 \nL 603 4863 \nz\n\" transform=\"scale(0.015625)\"/>\n        <path id=\"DejaVuSans-6e\" d=\"M 3513 2113 \nL 3513 0 \nL 2938 0 \nL 2938 2094 \nQ 2938 2591 2744 2837 \nQ 2550 3084 2163 3084 \nQ 1697 3084 1428 2787 \nQ 1159 2491 1159 1978 \nL 1159 0 \nL 581 0 \nL 581 3500 \nL 1159 3500 \nL 1159 2956 \nQ 1366 3272 1645 3428 \nQ 1925 3584 2291 3584 \nQ 2894 3584 3203 3211 \nQ 3513 2838 3513 2113 \nz\n\" transform=\"scale(0.015625)\"/>\n       </defs>\n       <use xlink:href=\"#DejaVuSans-64\"/>\n       <use xlink:href=\"#DejaVuSans-61\" x=\"63.476562\"/>\n       <use xlink:href=\"#DejaVuSans-76\" x=\"124.755859\"/>\n       <use xlink:href=\"#DejaVuSans-69\" x=\"183.935547\"/>\n       <use xlink:href=\"#DejaVuSans-6e\" x=\"211.71875\"/>\n       <use xlink:href=\"#DejaVuSans-63\" x=\"275.097656\"/>\n       <use xlink:href=\"#DejaVuSans-69\" x=\"330.078125\"/>\n      </g>\n     </g>\n    </g>\n    <g id=\"xtick_4\">\n     <g id=\"line2d_4\">\n      <g>\n       <use xlink:href=\"#m174919988d\" x=\"360.041235\" y=\"288.430125\" style=\"stroke: #000000; stroke-width: 0.8\"/>\n      </g>\n     </g>\n     <g id=\"text_4\">\n      <!-- dolly -->\n      <g transform=\"translate(348.070141 303.028562) scale(0.1 -0.1)\">\n       <defs>\n        <path id=\"DejaVuSans-6c\" d=\"M 603 4863 \nL 1178 4863 \nL 1178 0 \nL 603 0 \nL 603 4863 \nz\n\" transform=\"scale(0.015625)\"/>\n        <path id=\"DejaVuSans-79\" d=\"M 2059 -325 \nQ 1816 -950 1584 -1140 \nQ 1353 -1331 966 -1331 \nL 506 -1331 \nL 506 -850 \nL 844 -850 \nQ 1081 -850 1212 -737 \nQ 1344 -625 1503 -206 \nL 1606 56 \nL 191 3500 \nL 800 3500 \nL 1894 763 \nL 2988 3500 \nL 3597 3500 \nL 2059 -325 \nz\n\" transform=\"scale(0.015625)\"/>\n       </defs>\n       <use xlink:href=\"#DejaVuSans-64\"/>\n       <use xlink:href=\"#DejaVuSans-6f\" x=\"63.476562\"/>\n       <use xlink:href=\"#DejaVuSans-6c\" x=\"124.658203\"/>\n       <use xlink:href=\"#DejaVuSans-6c\" x=\"152.441406\"/>\n       <use xlink:href=\"#DejaVuSans-79\" x=\"180.224609\"/>\n      </g>\n     </g>\n    </g>\n   </g>\n   <g id=\"matplotlib.axis_2\">\n    <g id=\"ytick_1\">\n     <g id=\"line2d_5\">\n      <defs>\n       <path id=\"m65ce47ec3c\" d=\"M 0 0 \nL -3.5 0 \n\" style=\"stroke: #000000; stroke-width: 0.8\"/>\n      </defs>\n      <g>\n       <use xlink:href=\"#m65ce47ec3c\" x=\"53.328125\" y=\"288.430125\" style=\"stroke: #000000; stroke-width: 0.8\"/>\n      </g>\n     </g>\n     <g id=\"text_5\">\n      <!-- 0 -->\n      <g transform=\"translate(39.965625 292.229344) scale(0.1 -0.1)\">\n       <defs>\n        <path id=\"DejaVuSans-30\" d=\"M 2034 4250 \nQ 1547 4250 1301 3770 \nQ 1056 3291 1056 2328 \nQ 1056 1369 1301 889 \nQ 1547 409 2034 409 \nQ 2525 409 2770 889 \nQ 3016 1369 3016 2328 \nQ 3016 3291 2770 3770 \nQ 2525 4250 2034 4250 \nz\nM 2034 4750 \nQ 2819 4750 3233 4129 \nQ 3647 3509 3647 2328 \nQ 3647 1150 3233 529 \nQ 2819 -91 2034 -91 \nQ 1250 -91 836 529 \nQ 422 1150 422 2328 \nQ 422 3509 836 4129 \nQ 1250 4750 2034 4750 \nz\n\" transform=\"scale(0.015625)\"/>\n       </defs>\n       <use xlink:href=\"#DejaVuSans-30\"/>\n      </g>\n     </g>\n    </g>\n    <g id=\"ytick_2\">\n     <g id=\"line2d_6\">\n      <g>\n       <use xlink:href=\"#m65ce47ec3c\" x=\"53.328125\" y=\"239.408848\" style=\"stroke: #000000; stroke-width: 0.8\"/>\n      </g>\n     </g>\n     <g id=\"text_6\">\n      <!-- 200 -->\n      <g transform=\"translate(27.240625 243.208067) scale(0.1 -0.1)\">\n       <defs>\n        <path id=\"DejaVuSans-32\" d=\"M 1228 531 \nL 3431 531 \nL 3431 0 \nL 469 0 \nL 469 531 \nQ 828 903 1448 1529 \nQ 2069 2156 2228 2338 \nQ 2531 2678 2651 2914 \nQ 2772 3150 2772 3378 \nQ 2772 3750 2511 3984 \nQ 2250 4219 1831 4219 \nQ 1534 4219 1204 4116 \nQ 875 4013 500 3803 \nL 500 4441 \nQ 881 4594 1212 4672 \nQ 1544 4750 1819 4750 \nQ 2544 4750 2975 4387 \nQ 3406 4025 3406 3419 \nQ 3406 3131 3298 2873 \nQ 3191 2616 2906 2266 \nQ 2828 2175 2409 1742 \nQ 1991 1309 1228 531 \nz\n\" transform=\"scale(0.015625)\"/>\n       </defs>\n       <use xlink:href=\"#DejaVuSans-32\"/>\n       <use xlink:href=\"#DejaVuSans-30\" x=\"63.623047\"/>\n       <use xlink:href=\"#DejaVuSans-30\" x=\"127.246094\"/>\n      </g>\n     </g>\n    </g>\n    <g id=\"ytick_3\">\n     <g id=\"line2d_7\">\n      <g>\n       <use xlink:href=\"#m65ce47ec3c\" x=\"53.328125\" y=\"190.387572\" style=\"stroke: #000000; stroke-width: 0.8\"/>\n      </g>\n     </g>\n     <g id=\"text_7\">\n      <!-- 400 -->\n      <g transform=\"translate(27.240625 194.186791) scale(0.1 -0.1)\">\n       <defs>\n        <path id=\"DejaVuSans-34\" d=\"M 2419 4116 \nL 825 1625 \nL 2419 1625 \nL 2419 4116 \nz\nM 2253 4666 \nL 3047 4666 \nL 3047 1625 \nL 3713 1625 \nL 3713 1100 \nL 3047 1100 \nL 3047 0 \nL 2419 0 \nL 2419 1100 \nL 313 1100 \nL 313 1709 \nL 2253 4666 \nz\n\" transform=\"scale(0.015625)\"/>\n       </defs>\n       <use xlink:href=\"#DejaVuSans-34\"/>\n       <use xlink:href=\"#DejaVuSans-30\" x=\"63.623047\"/>\n       <use xlink:href=\"#DejaVuSans-30\" x=\"127.246094\"/>\n      </g>\n     </g>\n    </g>\n    <g id=\"ytick_4\">\n     <g id=\"line2d_8\">\n      <g>\n       <use xlink:href=\"#m65ce47ec3c\" x=\"53.328125\" y=\"141.366295\" style=\"stroke: #000000; stroke-width: 0.8\"/>\n      </g>\n     </g>\n     <g id=\"text_8\">\n      <!-- 600 -->\n      <g transform=\"translate(27.240625 145.165514) scale(0.1 -0.1)\">\n       <defs>\n        <path id=\"DejaVuSans-36\" d=\"M 2113 2584 \nQ 1688 2584 1439 2293 \nQ 1191 2003 1191 1497 \nQ 1191 994 1439 701 \nQ 1688 409 2113 409 \nQ 2538 409 2786 701 \nQ 3034 994 3034 1497 \nQ 3034 2003 2786 2293 \nQ 2538 2584 2113 2584 \nz\nM 3366 4563 \nL 3366 3988 \nQ 3128 4100 2886 4159 \nQ 2644 4219 2406 4219 \nQ 1781 4219 1451 3797 \nQ 1122 3375 1075 2522 \nQ 1259 2794 1537 2939 \nQ 1816 3084 2150 3084 \nQ 2853 3084 3261 2657 \nQ 3669 2231 3669 1497 \nQ 3669 778 3244 343 \nQ 2819 -91 2113 -91 \nQ 1303 -91 875 529 \nQ 447 1150 447 2328 \nQ 447 3434 972 4092 \nQ 1497 4750 2381 4750 \nQ 2619 4750 2861 4703 \nQ 3103 4656 3366 4563 \nz\n\" transform=\"scale(0.015625)\"/>\n       </defs>\n       <use xlink:href=\"#DejaVuSans-36\"/>\n       <use xlink:href=\"#DejaVuSans-30\" x=\"63.623047\"/>\n       <use xlink:href=\"#DejaVuSans-30\" x=\"127.246094\"/>\n      </g>\n     </g>\n    </g>\n    <g id=\"ytick_5\">\n     <g id=\"line2d_9\">\n      <g>\n       <use xlink:href=\"#m65ce47ec3c\" x=\"53.328125\" y=\"92.345019\" style=\"stroke: #000000; stroke-width: 0.8\"/>\n      </g>\n     </g>\n     <g id=\"text_9\">\n      <!-- 800 -->\n      <g transform=\"translate(27.240625 96.144237) scale(0.1 -0.1)\">\n       <defs>\n        <path id=\"DejaVuSans-38\" d=\"M 2034 2216 \nQ 1584 2216 1326 1975 \nQ 1069 1734 1069 1313 \nQ 1069 891 1326 650 \nQ 1584 409 2034 409 \nQ 2484 409 2743 651 \nQ 3003 894 3003 1313 \nQ 3003 1734 2745 1975 \nQ 2488 2216 2034 2216 \nz\nM 1403 2484 \nQ 997 2584 770 2862 \nQ 544 3141 544 3541 \nQ 544 4100 942 4425 \nQ 1341 4750 2034 4750 \nQ 2731 4750 3128 4425 \nQ 3525 4100 3525 3541 \nQ 3525 3141 3298 2862 \nQ 3072 2584 2669 2484 \nQ 3125 2378 3379 2068 \nQ 3634 1759 3634 1313 \nQ 3634 634 3220 271 \nQ 2806 -91 2034 -91 \nQ 1263 -91 848 271 \nQ 434 634 434 1313 \nQ 434 1759 690 2068 \nQ 947 2378 1403 2484 \nz\nM 1172 3481 \nQ 1172 3119 1398 2916 \nQ 1625 2713 2034 2713 \nQ 2441 2713 2670 2916 \nQ 2900 3119 2900 3481 \nQ 2900 3844 2670 4047 \nQ 2441 4250 2034 4250 \nQ 1625 4250 1398 4047 \nQ 1172 3844 1172 3481 \nz\n\" transform=\"scale(0.015625)\"/>\n       </defs>\n       <use xlink:href=\"#DejaVuSans-38\"/>\n       <use xlink:href=\"#DejaVuSans-30\" x=\"63.623047\"/>\n       <use xlink:href=\"#DejaVuSans-30\" x=\"127.246094\"/>\n      </g>\n     </g>\n    </g>\n    <g id=\"ytick_6\">\n     <g id=\"line2d_10\">\n      <g>\n       <use xlink:href=\"#m65ce47ec3c\" x=\"53.328125\" y=\"43.323742\" style=\"stroke: #000000; stroke-width: 0.8\"/>\n      </g>\n     </g>\n     <g id=\"text_10\">\n      <!-- 1000 -->\n      <g transform=\"translate(20.878125 47.122961) scale(0.1 -0.1)\">\n       <defs>\n        <path id=\"DejaVuSans-31\" d=\"M 794 531 \nL 1825 531 \nL 1825 4091 \nL 703 3866 \nL 703 4441 \nL 1819 4666 \nL 2450 4666 \nL 2450 531 \nL 3481 531 \nL 3481 0 \nL 794 0 \nL 794 531 \nz\n\" transform=\"scale(0.015625)\"/>\n       </defs>\n       <use xlink:href=\"#DejaVuSans-31\"/>\n       <use xlink:href=\"#DejaVuSans-30\" x=\"63.623047\"/>\n       <use xlink:href=\"#DejaVuSans-30\" x=\"127.246094\"/>\n       <use xlink:href=\"#DejaVuSans-30\" x=\"190.869141\"/>\n      </g>\n     </g>\n    </g>\n    <g id=\"text_11\">\n     <!-- amount -->\n     <g transform=\"translate(14.798438 174.665531) rotate(-90) scale(0.1 -0.1)\">\n      <defs>\n       <path id=\"DejaVuSans-6d\" d=\"M 3328 2828 \nQ 3544 3216 3844 3400 \nQ 4144 3584 4550 3584 \nQ 5097 3584 5394 3201 \nQ 5691 2819 5691 2113 \nL 5691 0 \nL 5113 0 \nL 5113 2094 \nQ 5113 2597 4934 2840 \nQ 4756 3084 4391 3084 \nQ 3944 3084 3684 2787 \nQ 3425 2491 3425 1978 \nL 3425 0 \nL 2847 0 \nL 2847 2094 \nQ 2847 2600 2669 2842 \nQ 2491 3084 2119 3084 \nQ 1678 3084 1418 2786 \nQ 1159 2488 1159 1978 \nL 1159 0 \nL 581 0 \nL 581 3500 \nL 1159 3500 \nL 1159 2956 \nQ 1356 3278 1631 3431 \nQ 1906 3584 2284 3584 \nQ 2666 3584 2933 3390 \nQ 3200 3197 3328 2828 \nz\n\" transform=\"scale(0.015625)\"/>\n       <path id=\"DejaVuSans-75\" d=\"M 544 1381 \nL 544 3500 \nL 1119 3500 \nL 1119 1403 \nQ 1119 906 1312 657 \nQ 1506 409 1894 409 \nQ 2359 409 2629 706 \nQ 2900 1003 2900 1516 \nL 2900 3500 \nL 3475 3500 \nL 3475 0 \nL 2900 0 \nL 2900 538 \nQ 2691 219 2414 64 \nQ 2138 -91 1772 -91 \nQ 1169 -91 856 284 \nQ 544 659 544 1381 \nz\nM 1991 3584 \nL 1991 3584 \nz\n\" transform=\"scale(0.015625)\"/>\n      </defs>\n      <use xlink:href=\"#DejaVuSans-61\"/>\n      <use xlink:href=\"#DejaVuSans-6d\" x=\"61.279297\"/>\n      <use xlink:href=\"#DejaVuSans-6f\" x=\"158.691406\"/>\n      <use xlink:href=\"#DejaVuSans-75\" x=\"219.873047\"/>\n      <use xlink:href=\"#DejaVuSans-6e\" x=\"283.251953\"/>\n      <use xlink:href=\"#DejaVuSans-74\" x=\"346.630859\"/>\n     </g>\n    </g>\n   </g>\n   <g id=\"patch_7\">\n    <path d=\"M 53.328125 288.430125 \nL 53.328125 22.318125 \n\" style=\"fill: none; stroke: #000000; stroke-width: 0.8; stroke-linejoin: miter; stroke-linecap: square\"/>\n   </g>\n   <g id=\"patch_8\">\n    <path d=\"M 410.448125 288.430125 \nL 410.448125 22.318125 \n\" style=\"fill: none; stroke: #000000; stroke-width: 0.8; stroke-linejoin: miter; stroke-linecap: square\"/>\n   </g>\n   <g id=\"patch_9\">\n    <path d=\"M 53.328125 288.430125 \nL 410.448125 288.430125 \n\" style=\"fill: none; stroke: #000000; stroke-width: 0.8; stroke-linejoin: miter; stroke-linecap: square\"/>\n   </g>\n   <g id=\"patch_10\">\n    <path d=\"M 53.328125 22.318125 \nL 410.448125 22.318125 \n\" style=\"fill: none; stroke: #000000; stroke-width: 0.8; stroke-linejoin: miter; stroke-linecap: square\"/>\n   </g>\n   <g id=\"text_12\">\n    <!-- Texts dist. within short texts -->\n    <g transform=\"translate(147.555313 16.318125) scale(0.12 -0.12)\">\n     <defs>\n      <path id=\"DejaVuSans-78\" d=\"M 3513 3500 \nL 2247 1797 \nL 3578 0 \nL 2900 0 \nL 1881 1375 \nL 863 0 \nL 184 0 \nL 1544 1831 \nL 300 3500 \nL 978 3500 \nL 1906 2253 \nL 2834 3500 \nL 3513 3500 \nz\n\" transform=\"scale(0.015625)\"/>\n      <path id=\"DejaVuSans-73\" d=\"M 2834 3397 \nL 2834 2853 \nQ 2591 2978 2328 3040 \nQ 2066 3103 1784 3103 \nQ 1356 3103 1142 2972 \nQ 928 2841 928 2578 \nQ 928 2378 1081 2264 \nQ 1234 2150 1697 2047 \nL 1894 2003 \nQ 2506 1872 2764 1633 \nQ 3022 1394 3022 966 \nQ 3022 478 2636 193 \nQ 2250 -91 1575 -91 \nQ 1294 -91 989 -36 \nQ 684 19 347 128 \nL 347 722 \nQ 666 556 975 473 \nQ 1284 391 1588 391 \nQ 1994 391 2212 530 \nQ 2431 669 2431 922 \nQ 2431 1156 2273 1281 \nQ 2116 1406 1581 1522 \nL 1381 1569 \nQ 847 1681 609 1914 \nQ 372 2147 372 2553 \nQ 372 3047 722 3315 \nQ 1072 3584 1716 3584 \nQ 2034 3584 2315 3537 \nQ 2597 3491 2834 3397 \nz\n\" transform=\"scale(0.015625)\"/>\n      <path id=\"DejaVuSans-20\" transform=\"scale(0.015625)\"/>\n      <path id=\"DejaVuSans-2e\" d=\"M 684 794 \nL 1344 794 \nL 1344 0 \nL 684 0 \nL 684 794 \nz\n\" transform=\"scale(0.015625)\"/>\n      <path id=\"DejaVuSans-77\" d=\"M 269 3500 \nL 844 3500 \nL 1563 769 \nL 2278 3500 \nL 2956 3500 \nL 3675 769 \nL 4391 3500 \nL 4966 3500 \nL 4050 0 \nL 3372 0 \nL 2619 2869 \nL 1863 0 \nL 1184 0 \nL 269 3500 \nz\n\" transform=\"scale(0.015625)\"/>\n     </defs>\n     <use xlink:href=\"#DejaVuSans-54\"/>\n     <use xlink:href=\"#DejaVuSans-65\" x=\"44.083984\"/>\n     <use xlink:href=\"#DejaVuSans-78\" x=\"103.857422\"/>\n     <use xlink:href=\"#DejaVuSans-74\" x=\"163.037109\"/>\n     <use xlink:href=\"#DejaVuSans-73\" x=\"202.246094\"/>\n     <use xlink:href=\"#DejaVuSans-20\" x=\"254.345703\"/>\n     <use xlink:href=\"#DejaVuSans-64\" x=\"286.132812\"/>\n     <use xlink:href=\"#DejaVuSans-69\" x=\"349.609375\"/>\n     <use xlink:href=\"#DejaVuSans-73\" x=\"377.392578\"/>\n     <use xlink:href=\"#DejaVuSans-74\" x=\"429.492188\"/>\n     <use xlink:href=\"#DejaVuSans-2e\" x=\"468.701172\"/>\n     <use xlink:href=\"#DejaVuSans-20\" x=\"500.488281\"/>\n     <use xlink:href=\"#DejaVuSans-77\" x=\"532.275391\"/>\n     <use xlink:href=\"#DejaVuSans-69\" x=\"614.0625\"/>\n     <use xlink:href=\"#DejaVuSans-74\" x=\"641.845703\"/>\n     <use xlink:href=\"#DejaVuSans-68\" x=\"681.054688\"/>\n     <use xlink:href=\"#DejaVuSans-69\" x=\"744.433594\"/>\n     <use xlink:href=\"#DejaVuSans-6e\" x=\"772.216797\"/>\n     <use xlink:href=\"#DejaVuSans-20\" x=\"835.595703\"/>\n     <use xlink:href=\"#DejaVuSans-73\" x=\"867.382812\"/>\n     <use xlink:href=\"#DejaVuSans-68\" x=\"919.482422\"/>\n     <use xlink:href=\"#DejaVuSans-6f\" x=\"982.861328\"/>\n     <use xlink:href=\"#DejaVuSans-72\" x=\"1044.042969\"/>\n     <use xlink:href=\"#DejaVuSans-74\" x=\"1085.15625\"/>\n     <use xlink:href=\"#DejaVuSans-20\" x=\"1124.365234\"/>\n     <use xlink:href=\"#DejaVuSans-74\" x=\"1156.152344\"/>\n     <use xlink:href=\"#DejaVuSans-65\" x=\"1195.361328\"/>\n     <use xlink:href=\"#DejaVuSans-78\" x=\"1255.134766\"/>\n     <use xlink:href=\"#DejaVuSans-74\" x=\"1314.314453\"/>\n     <use xlink:href=\"#DejaVuSans-73\" x=\"1353.523438\"/>\n    </g>\n   </g>\n  </g>\n </g>\n <defs>\n  <clipPath id=\"pbc3e63e085\">\n   <rect x=\"53.328125\" y=\"22.318125\" width=\"357.12\" height=\"266.112\"/>\n  </clipPath>\n </defs>\n</svg>\n"
          },
          "metadata": {}
        }
      ]
    },
    {
      "cell_type": "markdown",
      "source": [
        "### Возьмем часть на которой возможно обучаться при малых ресурсах"
      ],
      "metadata": {
        "id": "MWP2CC8HwZJT"
      },
      "id": "MWP2CC8HwZJT"
    },
    {
      "cell_type": "code",
      "source": [
        "df = df.iloc[short_texts_positions]"
      ],
      "metadata": {
        "id": "jwKt40GGv4D9"
      },
      "id": "jwKt40GGv4D9",
      "execution_count": 26,
      "outputs": []
    },
    {
      "cell_type": "markdown",
      "id": "R7-R_HI2pCpL",
      "metadata": {
        "id": "R7-R_HI2pCpL"
      },
      "source": [
        "## Строим модель на  TensofFlow"
      ]
    },
    {
      "cell_type": "code",
      "execution_count": 27,
      "id": "b756a8de-f4b5-4b11-9355-31f3ccb2f279",
      "metadata": {
        "colab": {
          "base_uri": "https://localhost:8080/",
          "height": 457,
          "referenced_widgets": [
            "8d79979dc48f4a6fb618c449a36919dd",
            "cc39a8742d2742b491adea76de23e7cb",
            "33cdad8c131c407382a661e7803ef0de",
            "51a22428d92645fc9401784ffb8a0fd9",
            "fbfc635b532b4b47988aa3101c7fd164",
            "fad0922b15524df782fa9ac9b18647ce",
            "120744694e784b45bb02b4e04acbffbf",
            "fbc66be1d58e4db7ad3ab488d3e0395d",
            "94d27da8e4654c808d2ab5d63dbbe2b9",
            "3606520ab5ac436d982bc6f3e7699ba2",
            "c3ec45b485334d59a3ed8ebc0525900f"
          ]
        },
        "id": "b756a8de-f4b5-4b11-9355-31f3ccb2f279",
        "outputId": "bd06e08d-017c-4da5-d669-ec0376567213"
      },
      "outputs": [
        {
          "output_type": "stream",
          "name": "stderr",
          "text": [
            "/usr/local/lib/python3.10/dist-packages/huggingface_hub/file_download.py:795: FutureWarning: `resume_download` is deprecated and will be removed in version 1.0.0. Downloads always resume when possible. If you want to force a new download, use `force_download=True`.\n",
            "  warnings.warn(\n"
          ]
        },
        {
          "output_type": "display_data",
          "data": {
            "text/plain": [
              "model.safetensors:   0%|          | 0.00/499M [00:00<?, ?B/s]"
            ],
            "application/vnd.jupyter.widget-view+json": {
              "version_major": 2,
              "version_minor": 0,
              "model_id": "8d79979dc48f4a6fb618c449a36919dd"
            }
          },
          "metadata": {}
        },
        {
          "output_type": "error",
          "ename": "KeyboardInterrupt",
          "evalue": "",
          "traceback": [
            "\u001b[0;31m---------------------------------------------------------------------------\u001b[0m",
            "\u001b[0;31mKeyboardInterrupt\u001b[0m                         Traceback (most recent call last)",
            "\u001b[0;32m<ipython-input-27-c5f21ab2c1aa>\u001b[0m in \u001b[0;36m<cell line: 3>\u001b[0;34m()\u001b[0m\n\u001b[1;32m      1\u001b[0m \u001b[0;32mfrom\u001b[0m \u001b[0mtransformers\u001b[0m \u001b[0;32mimport\u001b[0m \u001b[0mRobertaModel\u001b[0m\u001b[0;34m\u001b[0m\u001b[0;34m\u001b[0m\u001b[0m\n\u001b[1;32m      2\u001b[0m \u001b[0;34m\u001b[0m\u001b[0m\n\u001b[0;32m----> 3\u001b[0;31m \u001b[0mbert_model\u001b[0m \u001b[0;34m=\u001b[0m \u001b[0mRobertaModel\u001b[0m\u001b[0;34m.\u001b[0m\u001b[0mfrom_pretrained\u001b[0m\u001b[0;34m(\u001b[0m\u001b[0mmodel_name\u001b[0m\u001b[0;34m,\u001b[0m \u001b[0mtrainable\u001b[0m\u001b[0;34m=\u001b[0m\u001b[0;32mTrue\u001b[0m\u001b[0;34m)\u001b[0m\u001b[0;34m\u001b[0m\u001b[0;34m\u001b[0m\u001b[0m\n\u001b[0m\u001b[1;32m      4\u001b[0m \u001b[0mmax_seq_length\u001b[0m \u001b[0;34m=\u001b[0m \u001b[0;36m512\u001b[0m\u001b[0;34m\u001b[0m\u001b[0;34m\u001b[0m\u001b[0m\n\u001b[1;32m      5\u001b[0m \u001b[0;34m\u001b[0m\u001b[0m\n",
            "\u001b[0;32m/usr/local/lib/python3.10/dist-packages/transformers/modeling_utils.py\u001b[0m in \u001b[0;36mfrom_pretrained\u001b[0;34m(cls, pretrained_model_name_or_path, config, cache_dir, ignore_mismatched_sizes, force_download, local_files_only, token, revision, use_safetensors, *model_args, **kwargs)\u001b[0m\n\u001b[1;32m   2517\u001b[0m                         \u001b[0;34m\"_commit_hash\"\u001b[0m\u001b[0;34m:\u001b[0m \u001b[0mcommit_hash\u001b[0m\u001b[0;34m,\u001b[0m\u001b[0;34m\u001b[0m\u001b[0;34m\u001b[0m\u001b[0m\n\u001b[1;32m   2518\u001b[0m                     }\n\u001b[0;32m-> 2519\u001b[0;31m                     \u001b[0mresolved_archive_file\u001b[0m \u001b[0;34m=\u001b[0m \u001b[0mcached_file\u001b[0m\u001b[0;34m(\u001b[0m\u001b[0mpretrained_model_name_or_path\u001b[0m\u001b[0;34m,\u001b[0m \u001b[0mfilename\u001b[0m\u001b[0;34m,\u001b[0m \u001b[0;34m**\u001b[0m\u001b[0mcached_file_kwargs\u001b[0m\u001b[0;34m)\u001b[0m\u001b[0;34m\u001b[0m\u001b[0;34m\u001b[0m\u001b[0m\n\u001b[0m\u001b[1;32m   2520\u001b[0m \u001b[0;34m\u001b[0m\u001b[0m\n\u001b[1;32m   2521\u001b[0m                     \u001b[0;31m# Since we set _raise_exceptions_for_missing_entries=False, we don't get an exception but a None\u001b[0m\u001b[0;34m\u001b[0m\u001b[0;34m\u001b[0m\u001b[0m\n",
            "\u001b[0;32m/usr/local/lib/python3.10/dist-packages/transformers/utils/hub.py\u001b[0m in \u001b[0;36mcached_file\u001b[0;34m(path_or_repo_id, filename, cache_dir, force_download, resume_download, proxies, use_auth_token, revision, local_files_only, subfolder, repo_type, user_agent, _raise_exceptions_for_missing_entries, _raise_exceptions_for_connection_errors, _commit_hash)\u001b[0m\n\u001b[1;32m    415\u001b[0m     \u001b[0;32mtry\u001b[0m\u001b[0;34m:\u001b[0m\u001b[0;34m\u001b[0m\u001b[0;34m\u001b[0m\u001b[0m\n\u001b[1;32m    416\u001b[0m         \u001b[0;31m# Load from URL or cache if already cached\u001b[0m\u001b[0;34m\u001b[0m\u001b[0;34m\u001b[0m\u001b[0m\n\u001b[0;32m--> 417\u001b[0;31m         resolved_file = hf_hub_download(\n\u001b[0m\u001b[1;32m    418\u001b[0m             \u001b[0mpath_or_repo_id\u001b[0m\u001b[0;34m,\u001b[0m\u001b[0;34m\u001b[0m\u001b[0;34m\u001b[0m\u001b[0m\n\u001b[1;32m    419\u001b[0m             \u001b[0mfilename\u001b[0m\u001b[0;34m,\u001b[0m\u001b[0;34m\u001b[0m\u001b[0;34m\u001b[0m\u001b[0m\n",
            "\u001b[0;32m/usr/local/lib/python3.10/dist-packages/huggingface_hub/utils/_validators.py\u001b[0m in \u001b[0;36m_inner_fn\u001b[0;34m(*args, **kwargs)\u001b[0m\n\u001b[1;32m    112\u001b[0m             \u001b[0mkwargs\u001b[0m \u001b[0;34m=\u001b[0m \u001b[0msmoothly_deprecate_use_auth_token\u001b[0m\u001b[0;34m(\u001b[0m\u001b[0mfn_name\u001b[0m\u001b[0;34m=\u001b[0m\u001b[0mfn\u001b[0m\u001b[0;34m.\u001b[0m\u001b[0m__name__\u001b[0m\u001b[0;34m,\u001b[0m \u001b[0mhas_token\u001b[0m\u001b[0;34m=\u001b[0m\u001b[0mhas_token\u001b[0m\u001b[0;34m,\u001b[0m \u001b[0mkwargs\u001b[0m\u001b[0;34m=\u001b[0m\u001b[0mkwargs\u001b[0m\u001b[0;34m)\u001b[0m\u001b[0;34m\u001b[0m\u001b[0;34m\u001b[0m\u001b[0m\n\u001b[1;32m    113\u001b[0m \u001b[0;34m\u001b[0m\u001b[0m\n\u001b[0;32m--> 114\u001b[0;31m         \u001b[0;32mreturn\u001b[0m \u001b[0mfn\u001b[0m\u001b[0;34m(\u001b[0m\u001b[0;34m*\u001b[0m\u001b[0margs\u001b[0m\u001b[0;34m,\u001b[0m \u001b[0;34m**\u001b[0m\u001b[0mkwargs\u001b[0m\u001b[0;34m)\u001b[0m\u001b[0;34m\u001b[0m\u001b[0;34m\u001b[0m\u001b[0m\n\u001b[0m\u001b[1;32m    115\u001b[0m \u001b[0;34m\u001b[0m\u001b[0m\n\u001b[1;32m    116\u001b[0m     \u001b[0;32mreturn\u001b[0m \u001b[0m_inner_fn\u001b[0m  \u001b[0;31m# type: ignore\u001b[0m\u001b[0;34m\u001b[0m\u001b[0;34m\u001b[0m\u001b[0m\n",
            "\u001b[0;32m/usr/local/lib/python3.10/dist-packages/huggingface_hub/file_download.py\u001b[0m in \u001b[0;36mhf_hub_download\u001b[0;34m(repo_id, filename, subfolder, repo_type, revision, library_name, library_version, cache_dir, local_dir, user_agent, force_download, proxies, etag_timeout, token, local_files_only, headers, endpoint, resume_download, force_filename, local_dir_use_symlinks)\u001b[0m\n\u001b[1;32m    858\u001b[0m         )\n\u001b[1;32m    859\u001b[0m     \u001b[0;32melse\u001b[0m\u001b[0;34m:\u001b[0m\u001b[0;34m\u001b[0m\u001b[0;34m\u001b[0m\u001b[0m\n\u001b[0;32m--> 860\u001b[0;31m         return _hf_hub_download_to_cache_dir(\n\u001b[0m\u001b[1;32m    861\u001b[0m             \u001b[0;31m# Destination\u001b[0m\u001b[0;34m\u001b[0m\u001b[0;34m\u001b[0m\u001b[0m\n\u001b[1;32m    862\u001b[0m             \u001b[0mcache_dir\u001b[0m\u001b[0;34m=\u001b[0m\u001b[0mcache_dir\u001b[0m\u001b[0;34m,\u001b[0m\u001b[0;34m\u001b[0m\u001b[0;34m\u001b[0m\u001b[0m\n",
            "\u001b[0;32m/usr/local/lib/python3.10/dist-packages/huggingface_hub/file_download.py\u001b[0m in \u001b[0;36m_hf_hub_download_to_cache_dir\u001b[0;34m(cache_dir, repo_id, filename, repo_type, revision, endpoint, etag_timeout, headers, proxies, token, local_files_only, force_download)\u001b[0m\n\u001b[1;32m   1007\u001b[0m     \u001b[0mPath\u001b[0m\u001b[0;34m(\u001b[0m\u001b[0mlock_path\u001b[0m\u001b[0;34m)\u001b[0m\u001b[0;34m.\u001b[0m\u001b[0mparent\u001b[0m\u001b[0;34m.\u001b[0m\u001b[0mmkdir\u001b[0m\u001b[0;34m(\u001b[0m\u001b[0mparents\u001b[0m\u001b[0;34m=\u001b[0m\u001b[0;32mTrue\u001b[0m\u001b[0;34m,\u001b[0m \u001b[0mexist_ok\u001b[0m\u001b[0;34m=\u001b[0m\u001b[0;32mTrue\u001b[0m\u001b[0;34m)\u001b[0m\u001b[0;34m\u001b[0m\u001b[0;34m\u001b[0m\u001b[0m\n\u001b[1;32m   1008\u001b[0m     \u001b[0;32mwith\u001b[0m \u001b[0mWeakFileLock\u001b[0m\u001b[0;34m(\u001b[0m\u001b[0mlock_path\u001b[0m\u001b[0;34m)\u001b[0m\u001b[0;34m:\u001b[0m\u001b[0;34m\u001b[0m\u001b[0;34m\u001b[0m\u001b[0m\n\u001b[0;32m-> 1009\u001b[0;31m         _download_to_tmp_and_move(\n\u001b[0m\u001b[1;32m   1010\u001b[0m             \u001b[0mincomplete_path\u001b[0m\u001b[0;34m=\u001b[0m\u001b[0mPath\u001b[0m\u001b[0;34m(\u001b[0m\u001b[0mblob_path\u001b[0m \u001b[0;34m+\u001b[0m \u001b[0;34m\".incomplete\"\u001b[0m\u001b[0;34m)\u001b[0m\u001b[0;34m,\u001b[0m\u001b[0;34m\u001b[0m\u001b[0;34m\u001b[0m\u001b[0m\n\u001b[1;32m   1011\u001b[0m             \u001b[0mdestination_path\u001b[0m\u001b[0;34m=\u001b[0m\u001b[0mPath\u001b[0m\u001b[0;34m(\u001b[0m\u001b[0mblob_path\u001b[0m\u001b[0;34m)\u001b[0m\u001b[0;34m,\u001b[0m\u001b[0;34m\u001b[0m\u001b[0;34m\u001b[0m\u001b[0m\n",
            "\u001b[0;32m/usr/local/lib/python3.10/dist-packages/huggingface_hub/file_download.py\u001b[0m in \u001b[0;36m_download_to_tmp_and_move\u001b[0;34m(incomplete_path, destination_path, url_to_download, proxies, headers, expected_size, filename, force_download)\u001b[0m\n\u001b[1;32m   1541\u001b[0m             \u001b[0m_check_disk_space\u001b[0m\u001b[0;34m(\u001b[0m\u001b[0mexpected_size\u001b[0m\u001b[0;34m,\u001b[0m \u001b[0mdestination_path\u001b[0m\u001b[0;34m.\u001b[0m\u001b[0mparent\u001b[0m\u001b[0;34m)\u001b[0m\u001b[0;34m\u001b[0m\u001b[0;34m\u001b[0m\u001b[0m\n\u001b[1;32m   1542\u001b[0m \u001b[0;34m\u001b[0m\u001b[0m\n\u001b[0;32m-> 1543\u001b[0;31m         http_get(\n\u001b[0m\u001b[1;32m   1544\u001b[0m             \u001b[0murl_to_download\u001b[0m\u001b[0;34m,\u001b[0m\u001b[0;34m\u001b[0m\u001b[0;34m\u001b[0m\u001b[0m\n\u001b[1;32m   1545\u001b[0m             \u001b[0mf\u001b[0m\u001b[0;34m,\u001b[0m\u001b[0;34m\u001b[0m\u001b[0;34m\u001b[0m\u001b[0m\n",
            "\u001b[0;32m/usr/local/lib/python3.10/dist-packages/huggingface_hub/file_download.py\u001b[0m in \u001b[0;36mhttp_get\u001b[0;34m(url, temp_file, proxies, resume_size, headers, expected_size, displayed_filename, _nb_retries, _tqdm_bar)\u001b[0m\n\u001b[1;32m    450\u001b[0m         \u001b[0mnew_resume_size\u001b[0m \u001b[0;34m=\u001b[0m \u001b[0mresume_size\u001b[0m\u001b[0;34m\u001b[0m\u001b[0;34m\u001b[0m\u001b[0m\n\u001b[1;32m    451\u001b[0m         \u001b[0;32mtry\u001b[0m\u001b[0;34m:\u001b[0m\u001b[0;34m\u001b[0m\u001b[0;34m\u001b[0m\u001b[0m\n\u001b[0;32m--> 452\u001b[0;31m             \u001b[0;32mfor\u001b[0m \u001b[0mchunk\u001b[0m \u001b[0;32min\u001b[0m \u001b[0mr\u001b[0m\u001b[0;34m.\u001b[0m\u001b[0miter_content\u001b[0m\u001b[0;34m(\u001b[0m\u001b[0mchunk_size\u001b[0m\u001b[0;34m=\u001b[0m\u001b[0mconstants\u001b[0m\u001b[0;34m.\u001b[0m\u001b[0mDOWNLOAD_CHUNK_SIZE\u001b[0m\u001b[0;34m)\u001b[0m\u001b[0;34m:\u001b[0m\u001b[0;34m\u001b[0m\u001b[0;34m\u001b[0m\u001b[0m\n\u001b[0m\u001b[1;32m    453\u001b[0m                 \u001b[0;32mif\u001b[0m \u001b[0mchunk\u001b[0m\u001b[0;34m:\u001b[0m  \u001b[0;31m# filter out keep-alive new chunks\u001b[0m\u001b[0;34m\u001b[0m\u001b[0;34m\u001b[0m\u001b[0m\n\u001b[1;32m    454\u001b[0m                     \u001b[0mprogress\u001b[0m\u001b[0;34m.\u001b[0m\u001b[0mupdate\u001b[0m\u001b[0;34m(\u001b[0m\u001b[0mlen\u001b[0m\u001b[0;34m(\u001b[0m\u001b[0mchunk\u001b[0m\u001b[0;34m)\u001b[0m\u001b[0;34m)\u001b[0m\u001b[0;34m\u001b[0m\u001b[0;34m\u001b[0m\u001b[0m\n",
            "\u001b[0;32m/usr/local/lib/python3.10/dist-packages/requests/models.py\u001b[0m in \u001b[0;36mgenerate\u001b[0;34m()\u001b[0m\n\u001b[1;32m    818\u001b[0m             \u001b[0;32mif\u001b[0m \u001b[0mhasattr\u001b[0m\u001b[0;34m(\u001b[0m\u001b[0mself\u001b[0m\u001b[0;34m.\u001b[0m\u001b[0mraw\u001b[0m\u001b[0;34m,\u001b[0m \u001b[0;34m\"stream\"\u001b[0m\u001b[0;34m)\u001b[0m\u001b[0;34m:\u001b[0m\u001b[0;34m\u001b[0m\u001b[0;34m\u001b[0m\u001b[0m\n\u001b[1;32m    819\u001b[0m                 \u001b[0;32mtry\u001b[0m\u001b[0;34m:\u001b[0m\u001b[0;34m\u001b[0m\u001b[0;34m\u001b[0m\u001b[0m\n\u001b[0;32m--> 820\u001b[0;31m                     \u001b[0;32myield\u001b[0m \u001b[0;32mfrom\u001b[0m \u001b[0mself\u001b[0m\u001b[0;34m.\u001b[0m\u001b[0mraw\u001b[0m\u001b[0;34m.\u001b[0m\u001b[0mstream\u001b[0m\u001b[0;34m(\u001b[0m\u001b[0mchunk_size\u001b[0m\u001b[0;34m,\u001b[0m \u001b[0mdecode_content\u001b[0m\u001b[0;34m=\u001b[0m\u001b[0;32mTrue\u001b[0m\u001b[0;34m)\u001b[0m\u001b[0;34m\u001b[0m\u001b[0;34m\u001b[0m\u001b[0m\n\u001b[0m\u001b[1;32m    821\u001b[0m                 \u001b[0;32mexcept\u001b[0m \u001b[0mProtocolError\u001b[0m \u001b[0;32mas\u001b[0m \u001b[0me\u001b[0m\u001b[0;34m:\u001b[0m\u001b[0;34m\u001b[0m\u001b[0;34m\u001b[0m\u001b[0m\n\u001b[1;32m    822\u001b[0m                     \u001b[0;32mraise\u001b[0m \u001b[0mChunkedEncodingError\u001b[0m\u001b[0;34m(\u001b[0m\u001b[0me\u001b[0m\u001b[0;34m)\u001b[0m\u001b[0;34m\u001b[0m\u001b[0;34m\u001b[0m\u001b[0m\n",
            "\u001b[0;32m/usr/local/lib/python3.10/dist-packages/urllib3/response.py\u001b[0m in \u001b[0;36mstream\u001b[0;34m(self, amt, decode_content)\u001b[0m\n\u001b[1;32m   1058\u001b[0m         \u001b[0;32melse\u001b[0m\u001b[0;34m:\u001b[0m\u001b[0;34m\u001b[0m\u001b[0;34m\u001b[0m\u001b[0m\n\u001b[1;32m   1059\u001b[0m             \u001b[0;32mwhile\u001b[0m \u001b[0;32mnot\u001b[0m \u001b[0mis_fp_closed\u001b[0m\u001b[0;34m(\u001b[0m\u001b[0mself\u001b[0m\u001b[0;34m.\u001b[0m\u001b[0m_fp\u001b[0m\u001b[0;34m)\u001b[0m \u001b[0;32mor\u001b[0m \u001b[0mlen\u001b[0m\u001b[0;34m(\u001b[0m\u001b[0mself\u001b[0m\u001b[0;34m.\u001b[0m\u001b[0m_decoded_buffer\u001b[0m\u001b[0;34m)\u001b[0m \u001b[0;34m>\u001b[0m \u001b[0;36m0\u001b[0m\u001b[0;34m:\u001b[0m\u001b[0;34m\u001b[0m\u001b[0;34m\u001b[0m\u001b[0m\n\u001b[0;32m-> 1060\u001b[0;31m                 \u001b[0mdata\u001b[0m \u001b[0;34m=\u001b[0m \u001b[0mself\u001b[0m\u001b[0;34m.\u001b[0m\u001b[0mread\u001b[0m\u001b[0;34m(\u001b[0m\u001b[0mamt\u001b[0m\u001b[0;34m=\u001b[0m\u001b[0mamt\u001b[0m\u001b[0;34m,\u001b[0m \u001b[0mdecode_content\u001b[0m\u001b[0;34m=\u001b[0m\u001b[0mdecode_content\u001b[0m\u001b[0;34m)\u001b[0m\u001b[0;34m\u001b[0m\u001b[0;34m\u001b[0m\u001b[0m\n\u001b[0m\u001b[1;32m   1061\u001b[0m \u001b[0;34m\u001b[0m\u001b[0m\n\u001b[1;32m   1062\u001b[0m                 \u001b[0;32mif\u001b[0m \u001b[0mdata\u001b[0m\u001b[0;34m:\u001b[0m\u001b[0;34m\u001b[0m\u001b[0;34m\u001b[0m\u001b[0m\n",
            "\u001b[0;32m/usr/local/lib/python3.10/dist-packages/urllib3/response.py\u001b[0m in \u001b[0;36mread\u001b[0;34m(self, amt, decode_content, cache_content)\u001b[0m\n\u001b[1;32m    947\u001b[0m                 \u001b[0;32mreturn\u001b[0m \u001b[0mself\u001b[0m\u001b[0;34m.\u001b[0m\u001b[0m_decoded_buffer\u001b[0m\u001b[0;34m.\u001b[0m\u001b[0mget\u001b[0m\u001b[0;34m(\u001b[0m\u001b[0mamt\u001b[0m\u001b[0;34m)\u001b[0m\u001b[0;34m\u001b[0m\u001b[0;34m\u001b[0m\u001b[0m\n\u001b[1;32m    948\u001b[0m \u001b[0;34m\u001b[0m\u001b[0m\n\u001b[0;32m--> 949\u001b[0;31m         \u001b[0mdata\u001b[0m \u001b[0;34m=\u001b[0m \u001b[0mself\u001b[0m\u001b[0;34m.\u001b[0m\u001b[0m_raw_read\u001b[0m\u001b[0;34m(\u001b[0m\u001b[0mamt\u001b[0m\u001b[0;34m)\u001b[0m\u001b[0;34m\u001b[0m\u001b[0;34m\u001b[0m\u001b[0m\n\u001b[0m\u001b[1;32m    950\u001b[0m \u001b[0;34m\u001b[0m\u001b[0m\n\u001b[1;32m    951\u001b[0m         \u001b[0mflush_decoder\u001b[0m \u001b[0;34m=\u001b[0m \u001b[0mamt\u001b[0m \u001b[0;32mis\u001b[0m \u001b[0;32mNone\u001b[0m \u001b[0;32mor\u001b[0m \u001b[0;34m(\u001b[0m\u001b[0mamt\u001b[0m \u001b[0;34m!=\u001b[0m \u001b[0;36m0\u001b[0m \u001b[0;32mand\u001b[0m \u001b[0;32mnot\u001b[0m \u001b[0mdata\u001b[0m\u001b[0;34m)\u001b[0m\u001b[0;34m\u001b[0m\u001b[0;34m\u001b[0m\u001b[0m\n",
            "\u001b[0;32m/usr/local/lib/python3.10/dist-packages/urllib3/response.py\u001b[0m in \u001b[0;36m_raw_read\u001b[0;34m(self, amt, read1)\u001b[0m\n\u001b[1;32m    871\u001b[0m \u001b[0;34m\u001b[0m\u001b[0m\n\u001b[1;32m    872\u001b[0m         \u001b[0;32mwith\u001b[0m \u001b[0mself\u001b[0m\u001b[0;34m.\u001b[0m\u001b[0m_error_catcher\u001b[0m\u001b[0;34m(\u001b[0m\u001b[0;34m)\u001b[0m\u001b[0;34m:\u001b[0m\u001b[0;34m\u001b[0m\u001b[0;34m\u001b[0m\u001b[0m\n\u001b[0;32m--> 873\u001b[0;31m             \u001b[0mdata\u001b[0m \u001b[0;34m=\u001b[0m \u001b[0mself\u001b[0m\u001b[0;34m.\u001b[0m\u001b[0m_fp_read\u001b[0m\u001b[0;34m(\u001b[0m\u001b[0mamt\u001b[0m\u001b[0;34m,\u001b[0m \u001b[0mread1\u001b[0m\u001b[0;34m=\u001b[0m\u001b[0mread1\u001b[0m\u001b[0;34m)\u001b[0m \u001b[0;32mif\u001b[0m \u001b[0;32mnot\u001b[0m \u001b[0mfp_closed\u001b[0m \u001b[0;32melse\u001b[0m \u001b[0;34mb\"\"\u001b[0m\u001b[0;34m\u001b[0m\u001b[0;34m\u001b[0m\u001b[0m\n\u001b[0m\u001b[1;32m    874\u001b[0m             \u001b[0;32mif\u001b[0m \u001b[0mamt\u001b[0m \u001b[0;32mis\u001b[0m \u001b[0;32mnot\u001b[0m \u001b[0;32mNone\u001b[0m \u001b[0;32mand\u001b[0m \u001b[0mamt\u001b[0m \u001b[0;34m!=\u001b[0m \u001b[0;36m0\u001b[0m \u001b[0;32mand\u001b[0m \u001b[0;32mnot\u001b[0m \u001b[0mdata\u001b[0m\u001b[0;34m:\u001b[0m\u001b[0;34m\u001b[0m\u001b[0;34m\u001b[0m\u001b[0m\n\u001b[1;32m    875\u001b[0m                 \u001b[0;31m# Platform-specific: Buggy versions of Python.\u001b[0m\u001b[0;34m\u001b[0m\u001b[0;34m\u001b[0m\u001b[0m\n",
            "\u001b[0;32m/usr/local/lib/python3.10/dist-packages/urllib3/response.py\u001b[0m in \u001b[0;36m_fp_read\u001b[0;34m(self, amt, read1)\u001b[0m\n\u001b[1;32m    854\u001b[0m         \u001b[0;32melse\u001b[0m\u001b[0;34m:\u001b[0m\u001b[0;34m\u001b[0m\u001b[0;34m\u001b[0m\u001b[0m\n\u001b[1;32m    855\u001b[0m             \u001b[0;31m# StringIO doesn't like amt=None\u001b[0m\u001b[0;34m\u001b[0m\u001b[0;34m\u001b[0m\u001b[0m\n\u001b[0;32m--> 856\u001b[0;31m             \u001b[0;32mreturn\u001b[0m \u001b[0mself\u001b[0m\u001b[0;34m.\u001b[0m\u001b[0m_fp\u001b[0m\u001b[0;34m.\u001b[0m\u001b[0mread\u001b[0m\u001b[0;34m(\u001b[0m\u001b[0mamt\u001b[0m\u001b[0;34m)\u001b[0m \u001b[0;32mif\u001b[0m \u001b[0mamt\u001b[0m \u001b[0;32mis\u001b[0m \u001b[0;32mnot\u001b[0m \u001b[0;32mNone\u001b[0m \u001b[0;32melse\u001b[0m \u001b[0mself\u001b[0m\u001b[0;34m.\u001b[0m\u001b[0m_fp\u001b[0m\u001b[0;34m.\u001b[0m\u001b[0mread\u001b[0m\u001b[0;34m(\u001b[0m\u001b[0;34m)\u001b[0m\u001b[0;34m\u001b[0m\u001b[0;34m\u001b[0m\u001b[0m\n\u001b[0m\u001b[1;32m    857\u001b[0m \u001b[0;34m\u001b[0m\u001b[0m\n\u001b[1;32m    858\u001b[0m     def _raw_read(\n",
            "\u001b[0;32m/usr/lib/python3.10/http/client.py\u001b[0m in \u001b[0;36mread\u001b[0;34m(self, amt)\u001b[0m\n\u001b[1;32m    464\u001b[0m                 \u001b[0;31m# clip the read to the \"end of response\"\u001b[0m\u001b[0;34m\u001b[0m\u001b[0;34m\u001b[0m\u001b[0m\n\u001b[1;32m    465\u001b[0m                 \u001b[0mamt\u001b[0m \u001b[0;34m=\u001b[0m \u001b[0mself\u001b[0m\u001b[0;34m.\u001b[0m\u001b[0mlength\u001b[0m\u001b[0;34m\u001b[0m\u001b[0;34m\u001b[0m\u001b[0m\n\u001b[0;32m--> 466\u001b[0;31m             \u001b[0ms\u001b[0m \u001b[0;34m=\u001b[0m \u001b[0mself\u001b[0m\u001b[0;34m.\u001b[0m\u001b[0mfp\u001b[0m\u001b[0;34m.\u001b[0m\u001b[0mread\u001b[0m\u001b[0;34m(\u001b[0m\u001b[0mamt\u001b[0m\u001b[0;34m)\u001b[0m\u001b[0;34m\u001b[0m\u001b[0;34m\u001b[0m\u001b[0m\n\u001b[0m\u001b[1;32m    467\u001b[0m             \u001b[0;32mif\u001b[0m \u001b[0;32mnot\u001b[0m \u001b[0ms\u001b[0m \u001b[0;32mand\u001b[0m \u001b[0mamt\u001b[0m\u001b[0;34m:\u001b[0m\u001b[0;34m\u001b[0m\u001b[0;34m\u001b[0m\u001b[0m\n\u001b[1;32m    468\u001b[0m                 \u001b[0;31m# Ideally, we would raise IncompleteRead if the content-length\u001b[0m\u001b[0;34m\u001b[0m\u001b[0;34m\u001b[0m\u001b[0m\n",
            "\u001b[0;32m/usr/lib/python3.10/socket.py\u001b[0m in \u001b[0;36mreadinto\u001b[0;34m(self, b)\u001b[0m\n\u001b[1;32m    703\u001b[0m         \u001b[0;32mwhile\u001b[0m \u001b[0;32mTrue\u001b[0m\u001b[0;34m:\u001b[0m\u001b[0;34m\u001b[0m\u001b[0;34m\u001b[0m\u001b[0m\n\u001b[1;32m    704\u001b[0m             \u001b[0;32mtry\u001b[0m\u001b[0;34m:\u001b[0m\u001b[0;34m\u001b[0m\u001b[0;34m\u001b[0m\u001b[0m\n\u001b[0;32m--> 705\u001b[0;31m                 \u001b[0;32mreturn\u001b[0m \u001b[0mself\u001b[0m\u001b[0;34m.\u001b[0m\u001b[0m_sock\u001b[0m\u001b[0;34m.\u001b[0m\u001b[0mrecv_into\u001b[0m\u001b[0;34m(\u001b[0m\u001b[0mb\u001b[0m\u001b[0;34m)\u001b[0m\u001b[0;34m\u001b[0m\u001b[0;34m\u001b[0m\u001b[0m\n\u001b[0m\u001b[1;32m    706\u001b[0m             \u001b[0;32mexcept\u001b[0m \u001b[0mtimeout\u001b[0m\u001b[0;34m:\u001b[0m\u001b[0;34m\u001b[0m\u001b[0;34m\u001b[0m\u001b[0m\n\u001b[1;32m    707\u001b[0m                 \u001b[0mself\u001b[0m\u001b[0;34m.\u001b[0m\u001b[0m_timeout_occurred\u001b[0m \u001b[0;34m=\u001b[0m \u001b[0;32mTrue\u001b[0m\u001b[0;34m\u001b[0m\u001b[0;34m\u001b[0m\u001b[0m\n",
            "\u001b[0;32m/usr/lib/python3.10/ssl.py\u001b[0m in \u001b[0;36mrecv_into\u001b[0;34m(self, buffer, nbytes, flags)\u001b[0m\n\u001b[1;32m   1301\u001b[0m                   \u001b[0;34m\"non-zero flags not allowed in calls to recv_into() on %s\"\u001b[0m \u001b[0;34m%\u001b[0m\u001b[0;34m\u001b[0m\u001b[0;34m\u001b[0m\u001b[0m\n\u001b[1;32m   1302\u001b[0m                   self.__class__)\n\u001b[0;32m-> 1303\u001b[0;31m             \u001b[0;32mreturn\u001b[0m \u001b[0mself\u001b[0m\u001b[0;34m.\u001b[0m\u001b[0mread\u001b[0m\u001b[0;34m(\u001b[0m\u001b[0mnbytes\u001b[0m\u001b[0;34m,\u001b[0m \u001b[0mbuffer\u001b[0m\u001b[0;34m)\u001b[0m\u001b[0;34m\u001b[0m\u001b[0;34m\u001b[0m\u001b[0m\n\u001b[0m\u001b[1;32m   1304\u001b[0m         \u001b[0;32melse\u001b[0m\u001b[0;34m:\u001b[0m\u001b[0;34m\u001b[0m\u001b[0;34m\u001b[0m\u001b[0m\n\u001b[1;32m   1305\u001b[0m             \u001b[0;32mreturn\u001b[0m \u001b[0msuper\u001b[0m\u001b[0;34m(\u001b[0m\u001b[0;34m)\u001b[0m\u001b[0;34m.\u001b[0m\u001b[0mrecv_into\u001b[0m\u001b[0;34m(\u001b[0m\u001b[0mbuffer\u001b[0m\u001b[0;34m,\u001b[0m \u001b[0mnbytes\u001b[0m\u001b[0;34m,\u001b[0m \u001b[0mflags\u001b[0m\u001b[0;34m)\u001b[0m\u001b[0;34m\u001b[0m\u001b[0;34m\u001b[0m\u001b[0m\n",
            "\u001b[0;32m/usr/lib/python3.10/ssl.py\u001b[0m in \u001b[0;36mread\u001b[0;34m(self, len, buffer)\u001b[0m\n\u001b[1;32m   1157\u001b[0m         \u001b[0;32mtry\u001b[0m\u001b[0;34m:\u001b[0m\u001b[0;34m\u001b[0m\u001b[0;34m\u001b[0m\u001b[0m\n\u001b[1;32m   1158\u001b[0m             \u001b[0;32mif\u001b[0m \u001b[0mbuffer\u001b[0m \u001b[0;32mis\u001b[0m \u001b[0;32mnot\u001b[0m \u001b[0;32mNone\u001b[0m\u001b[0;34m:\u001b[0m\u001b[0;34m\u001b[0m\u001b[0;34m\u001b[0m\u001b[0m\n\u001b[0;32m-> 1159\u001b[0;31m                 \u001b[0;32mreturn\u001b[0m \u001b[0mself\u001b[0m\u001b[0;34m.\u001b[0m\u001b[0m_sslobj\u001b[0m\u001b[0;34m.\u001b[0m\u001b[0mread\u001b[0m\u001b[0;34m(\u001b[0m\u001b[0mlen\u001b[0m\u001b[0;34m,\u001b[0m \u001b[0mbuffer\u001b[0m\u001b[0;34m)\u001b[0m\u001b[0;34m\u001b[0m\u001b[0;34m\u001b[0m\u001b[0m\n\u001b[0m\u001b[1;32m   1160\u001b[0m             \u001b[0;32melse\u001b[0m\u001b[0;34m:\u001b[0m\u001b[0;34m\u001b[0m\u001b[0;34m\u001b[0m\u001b[0m\n\u001b[1;32m   1161\u001b[0m                 \u001b[0;32mreturn\u001b[0m \u001b[0mself\u001b[0m\u001b[0;34m.\u001b[0m\u001b[0m_sslobj\u001b[0m\u001b[0;34m.\u001b[0m\u001b[0mread\u001b[0m\u001b[0;34m(\u001b[0m\u001b[0mlen\u001b[0m\u001b[0;34m)\u001b[0m\u001b[0;34m\u001b[0m\u001b[0;34m\u001b[0m\u001b[0m\n",
            "\u001b[0;31mKeyboardInterrupt\u001b[0m: "
          ]
        }
      ],
      "source": [
        "from transformers import RobertaModel\n",
        "\n",
        "bert_model = RobertaModel.from_pretrained(model_name, trainable=True)\n",
        "max_seq_length = 512\n",
        "\n",
        "input_ids = tf.keras.layers.Input(shape=(max_seq_length,), dtype=tf.int32, name=\"input_ids\")\n",
        "attention_mask = tf.keras.layers.Input(shape=(max_seq_length,), dtype=tf.int32, name=\"attention_mask\")\n",
        "\n",
        "last_hidden_state = bert_model(input_ids, attention_mask=attention_mask).last_hidden_state\n",
        "\n",
        "cls_output = last_hidden_state[:, 0, :]\n",
        "\n",
        "#pooler_output = bert_model(input_ids, attention_mask=attention_mask).pooler_output\n",
        "\n",
        "x = tf.keras.layers.Dense(64, activation='gelu', name=\"hidden_layer_1\")(cls_output)\n",
        "x = tf.keras.layers.Dense(32, activation='gelu', name=\"hidden_layer_2\")(x)\n",
        "#x = tf.keras.layers.Dropout(0.1)(x)\n",
        "out = tf.keras.layers.Dense(1, activation=None, name=\"outputs\")(x)\n",
        "out = tf.keras.activations.sigmoid(out)"
      ]
    },
    {
      "cell_type": "code",
      "execution_count": null,
      "id": "0928951e-5aa7-4371-8f22-f620f3905ced",
      "metadata": {
        "id": "0928951e-5aa7-4371-8f22-f620f3905ced"
      },
      "outputs": [],
      "source": [
        "model = tf.keras.Model(inputs=[input_ids, attention_mask], outputs=out)"
      ]
    },
    {
      "cell_type": "code",
      "execution_count": null,
      "id": "0ff0fdbe-2c80-48f5-9e65-87243380ed33",
      "metadata": {
        "colab": {
          "base_uri": "https://localhost:8080/"
        },
        "id": "0ff0fdbe-2c80-48f5-9e65-87243380ed33",
        "outputId": "9e41b757-f168-4b7e-cf4d-5d54e5a5edde"
      },
      "outputs": [
        {
          "output_type": "stream",
          "name": "stdout",
          "text": [
            "Model: \"model\"\n",
            "__________________________________________________________________________________________________\n",
            " Layer (type)                Output Shape                 Param #   Connected to                  \n",
            "==================================================================================================\n",
            " input_ids (InputLayer)      [(None, 512)]                0         []                            \n",
            "                                                                                                  \n",
            " attention_mask (InputLayer  [(None, 512)]                0         []                            \n",
            " )                                                                                                \n",
            "                                                                                                  \n",
            " tfxlm_roberta_model (TFXLM  TFBaseModelOutputWithPooli   2780436   ['input_ids[0][0]',           \n",
            " RobertaModel)               ngAndCrossAttentions(last_   48         'attention_mask[0][0]']      \n",
            "                             hidden_state=(None, 512, 7                                           \n",
            "                             68),                                                                 \n",
            "                              pooler_output=(None, 768)                                           \n",
            "                             , past_key_values=None, hi                                           \n",
            "                             dden_states=None, attentio                                           \n",
            "                             ns=None, cross_attentions=                                           \n",
            "                             None)                                                                \n",
            "                                                                                                  \n",
            " tf.__operators__.getitem (  (None, 768)                  0         ['tfxlm_roberta_model[0][0]'] \n",
            " SlicingOpLambda)                                                                                 \n",
            "                                                                                                  \n",
            " hidden_layer_1 (Dense)      (None, 64)                   49216     ['tf.__operators__.getitem[0][\n",
            "                                                                    0]']                          \n",
            "                                                                                                  \n",
            " hidden_layer_2 (Dense)      (None, 32)                   2080      ['hidden_layer_1[0][0]']      \n",
            "                                                                                                  \n",
            " outputs (Dense)             (None, 1)                    33        ['hidden_layer_2[0][0]']      \n",
            "                                                                                                  \n",
            " tf.math.sigmoid (TFOpLambd  (None, 1)                    0         ['outputs[0][0]']             \n",
            " a)                                                                                               \n",
            "                                                                                                  \n",
            "==================================================================================================\n",
            "Total params: 278094977 (1.04 GB)\n",
            "Trainable params: 278094977 (1.04 GB)\n",
            "Non-trainable params: 0 (0.00 Byte)\n",
            "__________________________________________________________________________________________________\n"
          ]
        }
      ],
      "source": [
        "model.summary()"
      ]
    },
    {
      "cell_type": "code",
      "execution_count": null,
      "id": "97924fab-499b-4687-a185-e319ec5e93d0",
      "metadata": {
        "colab": {
          "base_uri": "https://localhost:8080/",
          "height": 450
        },
        "id": "97924fab-499b-4687-a185-e319ec5e93d0",
        "outputId": "81f9c148-86c6-4440-8c64-6cab088e6259"
      },
      "outputs": [
        {
          "output_type": "execute_result",
          "data": {
            "image/png": "[encoded data removed]",
            "text/plain": [
              "<IPython.core.display.Image object>"
            ]
          },
          "metadata": {},
          "execution_count": 11
        }
      ],
      "source": [
        "tf.keras.utils.plot_model(model, show_shapes=True)"
      ]
    },
    {
      "cell_type": "markdown",
      "source": [
        "## Предобработка данных для подачи в BERT"
      ],
      "metadata": {
        "id": "8c5vlpvOCLbi"
      },
      "id": "8c5vlpvOCLbi"
    },
    {
      "cell_type": "code",
      "source": [
        "from transformers import RobertaTokenizer\n",
        "\n",
        "tokenizer = RobertaTokenizer.from_pretrained(model_name)\n",
        "print(\"used model: {}\".format(model_name))"
      ],
      "metadata": {
        "id": "LA0qxeXxFjnw",
        "colab": {
          "base_uri": "https://localhost:8080/"
        },
        "outputId": "d47f2357-30a3-4d6e-ad1f-c12303e371f2"
      },
      "id": "LA0qxeXxFjnw",
      "execution_count": 28,
      "outputs": [
        {
          "output_type": "stream",
          "name": "stdout",
          "text": [
            "used model: FacebookAI/roberta-base\n"
          ]
        }
      ]
    },
    {
      "cell_type": "code",
      "execution_count": 29,
      "id": "q0vWAV0O3avi",
      "metadata": {
        "id": "q0vWAV0O3avi"
      },
      "outputs": [],
      "source": [
        "def input_for_model(df, tokenizer, max_seq_length):\n",
        "    input_ids = np.zeros((len(df), max_seq_length), dtype=np.int32)\n",
        "    input_attention_masks = np.zeros((len(df), max_seq_length), dtype=np.int32)\n",
        "    train_labels = np.zeros((len(df), 1), dtype=np.int32)\n",
        "\n",
        "    if 'label' in df.columns:\n",
        "        train_labels[:, 0] = df['label']\n",
        "\n",
        "    for i, sequence in tqdm(enumerate(df['text']), total=len(df)):\n",
        "        tokens = tokenizer.encode_plus(\n",
        "            sequence,\n",
        "            max_length = max_seq_length, # max length of the text that can go to BERT\n",
        "            truncation=True,\n",
        "            padding='max_length',\n",
        "            add_special_tokens = True, # add [CLS], [SEP]\n",
        "            return_token_type_ids = False,\n",
        "            return_attention_mask = True, # add attention mask to not focus on pad tokens\n",
        "            return_tensors = 'pt'\n",
        "        )\n",
        "        input_ids[i,:], input_attention_masks[i,:] = tokens['input_ids'], tokens['attention_mask']\n",
        "\n",
        "    if 'label' in df.columns:\n",
        "        return input_ids, input_attention_masks, train_labels\n",
        "    else:\n",
        "        return input_ids, input_attention_masks"
      ]
    },
    {
      "cell_type": "markdown",
      "source": [
        "### Не УД"
      ],
      "metadata": {
        "id": "qLCMhSIon2F8"
      },
      "id": "qLCMhSIon2F8"
    },
    {
      "cell_type": "code",
      "source": [
        "train_ids, train_attention_mask, train_labels = input_for_model(\n",
        "    df=df,\n",
        "    tokenizer=tokenizer,\n",
        "    max_seq_length=512\n",
        ")"
      ],
      "metadata": {
        "colab": {
          "base_uri": "https://localhost:8080/"
        },
        "id": "JLq9c48-ofB0",
        "outputId": "f88954be-8e61-45ca-a60e-3a95f6762ff9"
      },
      "id": "JLq9c48-ofB0",
      "execution_count": 30,
      "outputs": [
        {
          "output_type": "stream",
          "name": "stderr",
          "text": [
            "100%|██████████| 6866/6866 [00:32<00:00, 209.27it/s]\n"
          ]
        }
      ]
    },
    {
      "cell_type": "code",
      "source": [
        "X_train = np.array([train_ids, train_attention_mask])"
      ],
      "metadata": {
        "id": "Y8qekqX2xVUZ"
      },
      "id": "Y8qekqX2xVUZ",
      "execution_count": 31,
      "outputs": []
    },
    {
      "cell_type": "code",
      "source": [
        "X_train = X_train.transpose((1, 0, 2))\n",
        "X_train.shape"
      ],
      "metadata": {
        "colab": {
          "base_uri": "https://localhost:8080/"
        },
        "id": "M8Jw4RPuJiHE",
        "outputId": "7a420429-41c5-4c29-f68a-38c48725bcd9"
      },
      "id": "M8Jw4RPuJiHE",
      "execution_count": 32,
      "outputs": [
        {
          "output_type": "execute_result",
          "data": {
            "text/plain": [
              "(6866, 2, 512)"
            ]
          },
          "metadata": {},
          "execution_count": 32
        }
      ]
    },
    {
      "cell_type": "code",
      "source": [
        "tokenizer.decode(X_train[1][0])"
      ],
      "metadata": {
        "colab": {
          "base_uri": "https://localhost:8080/",
          "height": 144
        },
        "id": "nkk6-e3QKESu",
        "outputId": "f373983c-b79c-4e7a-d33e-a84e38e43ac7"
      },
      "id": "nkk6-e3QKESu",
      "execution_count": 33,
      "outputs": [
        {
          "output_type": "execute_result",
          "data": {
            "text/plain": [
              "'<s> A child doesn’t change anything about their natural walking or running stride when they first start to kick a soccer ball. It is almost like the soccer ball just happens to get in the way of their natural stride. As we walk or run as humans our toe naturally points forward as it moves forward. Keeping the toe down would cause us to walk or run looking like a Clydesdale horse. Also, when we bring our leg forward there is VERY little clearance between the bottom of the foot and the ground. Pointing the toe down will cause it to hit the ground, often causing serious injury.;\\n,, The leg comes back behind the player, returns OUT to the ball and then swings back around in front. The ball is struck with the \"sweet spot\" which is slightly on the inside of our foot, just above the big toe.\\n\\n, The player MUST maintain eye contact on the ball while performing the kick.\\n\\n,, Then hold a soccer ball over your foot. Let it fall and watch where it strikes your foot. It will hit the very top of your foot. This is where you strike the ball with a straight kick.\\n\\n, The laces travel directly towards your target and the foot is not tilted or angled in any way.\\n\\n, It does not come from behind you or wrap around you in the front after the kick.\\n\\n,, Allow your leg to bend at the knee, but do not allow your toe position to change. This will cause your toe to \"point to the sky\" when it reaches the fully back position. Now allow your leg to swing forward maintaining the bend in your knee and the toe down position.\\n\\n, DO NOT perform them at full speed until the soccer player has learn how to shorten their leg by maintaining the bend in their leg and raising their hip slightly. You can also get more info about plant foot positioning at Blast The Ball.\\n\\n</s><pad><pad><pad><pad><pad><pad><pad><pad><pad><pad><pad><pad><pad><pad><pad><pad><pad><pad><pad><pad><pad><pad><pad><pad><pad><pad><pad><pad><pad><pad><pad><pad><pad><pad><pad><pad><pad><pad><pad><pad><pad><pad><pad><pad><pad><pad><pad><pad><pad><pad><pad><pad><pad><pad><pad><pad><pad><pad><pad><pad><pad><pad><pad><pad><pad><pad><pad><pad><pad><pad><pad><pad><pad><pad><pad><pad><pad><pad><pad><pad><pad><pad><pad><pad><pad><pad><pad><pad><pad><pad><pad><pad><pad><pad><pad><pad><pad><pad><pad><pad><pad><pad><pad><pad><pad><pad><pad><pad><pad><pad><pad><pad><pad><pad><pad><pad><pad><pad><pad><pad><pad><pad><pad>'"
            ],
            "application/vnd.google.colaboratory.intrinsic+json": {
              "type": "string"
            }
          },
          "metadata": {},
          "execution_count": 33
        }
      ]
    },
    {
      "cell_type": "code",
      "source": [
        "y_train = train_labels"
      ],
      "metadata": {
        "id": "KEnjaTNRLH5W"
      },
      "id": "KEnjaTNRLH5W",
      "execution_count": 34,
      "outputs": []
    },
    {
      "cell_type": "code",
      "source": [
        "X_train, X_val, y_train, y_val = train_test_split(X_train, y_train, random_state=SEED)"
      ],
      "metadata": {
        "id": "z1wv77yBLLBZ"
      },
      "id": "z1wv77yBLLBZ",
      "execution_count": 35,
      "outputs": []
    },
    {
      "cell_type": "code",
      "source": [
        "X_train = X_train.transpose((1, 0, 2))\n",
        "X_val = X_val.transpose((1, 0, 2))\n",
        "\n",
        "X_train.shape"
      ],
      "metadata": {
        "colab": {
          "base_uri": "https://localhost:8080/"
        },
        "id": "jtAWmeS8MN81",
        "outputId": "0c4f8c8c-84e6-4e2c-d12d-bebfffbf4306"
      },
      "id": "jtAWmeS8MN81",
      "execution_count": 36,
      "outputs": [
        {
          "output_type": "execute_result",
          "data": {
            "text/plain": [
              "(2, 5149, 512)"
            ]
          },
          "metadata": {},
          "execution_count": 36
        }
      ]
    },
    {
      "cell_type": "code",
      "execution_count": 37,
      "id": "ZKrJ0DyBObYK",
      "metadata": {
        "id": "ZKrJ0DyBObYK"
      },
      "outputs": [],
      "source": [
        "np.save(\"X_train.npy\", X_train)\n",
        "np.save(\"X_val.npy\", X_val)\n",
        "np.save(\"y_train.npy\", y_train)\n",
        "np.save(\"y_val.npy\", y_val)"
      ]
    },
    {
      "cell_type": "markdown",
      "source": [
        "## Обучение модели"
      ],
      "metadata": {
        "id": "JjnG7b6-zt8y"
      },
      "id": "JjnG7b6-zt8y"
    },
    {
      "cell_type": "code",
      "execution_count": 38,
      "id": "Z5fNEyzRO5MG",
      "metadata": {
        "id": "Z5fNEyzRO5MG",
        "colab": {
          "base_uri": "https://localhost:8080/",
          "height": 369
        },
        "outputId": "beebf3e1-1d0f-4dc7-cf38-a7cdc62ea996"
      },
      "outputs": [
        {
          "output_type": "error",
          "ename": "FileNotFoundError",
          "evalue": "[Errno 2] No such file or directory: '/content/drive/MyDrive/datasets/roberta_full_encoding.zip'",
          "traceback": [
            "\u001b[0;31m---------------------------------------------------------------------------\u001b[0m",
            "\u001b[0;31mFileNotFoundError\u001b[0m                         Traceback (most recent call last)",
            "\u001b[0;32m<ipython-input-38-628b3dcea76c>\u001b[0m in \u001b[0;36m<cell line: 12>\u001b[0;34m()\u001b[0m\n\u001b[1;32m     10\u001b[0m   \u001b[0;32mreturn\u001b[0m \u001b[0mtrain_inputs\u001b[0m\u001b[0;34m,\u001b[0m \u001b[0mvalid_inputs\u001b[0m\u001b[0;34m,\u001b[0m \u001b[0mtrain_outputs\u001b[0m\u001b[0;34m,\u001b[0m \u001b[0mvalid_outputs\u001b[0m\u001b[0;34m\u001b[0m\u001b[0;34m\u001b[0m\u001b[0m\n\u001b[1;32m     11\u001b[0m \u001b[0;34m\u001b[0m\u001b[0m\n\u001b[0;32m---> 12\u001b[0;31m train_inputs, valid_inputs, train_outputs, valid_outputs = load_dataset_from_zip(\n\u001b[0m\u001b[1;32m     13\u001b[0m     \u001b[0;34m'/content/drive/MyDrive/datasets/roberta_full_encoding.zip'\u001b[0m\u001b[0;34m\u001b[0m\u001b[0;34m\u001b[0m\u001b[0m\n\u001b[1;32m     14\u001b[0m )\n",
            "\u001b[0;32m<ipython-input-38-628b3dcea76c>\u001b[0m in \u001b[0;36mload_dataset_from_zip\u001b[0;34m(filename)\u001b[0m\n\u001b[1;32m      1\u001b[0m \u001b[0;31m# Если уже готовы данные\u001b[0m\u001b[0;34m\u001b[0m\u001b[0;34m\u001b[0m\u001b[0m\n\u001b[1;32m      2\u001b[0m \u001b[0;32mdef\u001b[0m \u001b[0mload_dataset_from_zip\u001b[0m\u001b[0;34m(\u001b[0m\u001b[0mfilename\u001b[0m\u001b[0;34m)\u001b[0m\u001b[0;34m:\u001b[0m\u001b[0;34m\u001b[0m\u001b[0;34m\u001b[0m\u001b[0m\n\u001b[0;32m----> 3\u001b[0;31m   \u001b[0mz\u001b[0m \u001b[0;34m=\u001b[0m \u001b[0mzipfile\u001b[0m\u001b[0;34m.\u001b[0m\u001b[0mZipFile\u001b[0m\u001b[0;34m(\u001b[0m\u001b[0mfilename\u001b[0m\u001b[0;34m,\u001b[0m \u001b[0;34m'r'\u001b[0m\u001b[0;34m)\u001b[0m\u001b[0;34m\u001b[0m\u001b[0;34m\u001b[0m\u001b[0m\n\u001b[0m\u001b[1;32m      4\u001b[0m   \u001b[0mz\u001b[0m\u001b[0;34m.\u001b[0m\u001b[0mextractall\u001b[0m\u001b[0;34m(\u001b[0m\u001b[0;34m)\u001b[0m\u001b[0;34m\u001b[0m\u001b[0;34m\u001b[0m\u001b[0m\n\u001b[1;32m      5\u001b[0m \u001b[0;34m\u001b[0m\u001b[0m\n",
            "\u001b[0;32m/usr/lib/python3.10/zipfile.py\u001b[0m in \u001b[0;36m__init__\u001b[0;34m(self, file, mode, compression, allowZip64, compresslevel, strict_timestamps)\u001b[0m\n\u001b[1;32m   1252\u001b[0m             \u001b[0;32mwhile\u001b[0m \u001b[0;32mTrue\u001b[0m\u001b[0;34m:\u001b[0m\u001b[0;34m\u001b[0m\u001b[0;34m\u001b[0m\u001b[0m\n\u001b[1;32m   1253\u001b[0m                 \u001b[0;32mtry\u001b[0m\u001b[0;34m:\u001b[0m\u001b[0;34m\u001b[0m\u001b[0;34m\u001b[0m\u001b[0m\n\u001b[0;32m-> 1254\u001b[0;31m                     \u001b[0mself\u001b[0m\u001b[0;34m.\u001b[0m\u001b[0mfp\u001b[0m \u001b[0;34m=\u001b[0m \u001b[0mio\u001b[0m\u001b[0;34m.\u001b[0m\u001b[0mopen\u001b[0m\u001b[0;34m(\u001b[0m\u001b[0mfile\u001b[0m\u001b[0;34m,\u001b[0m \u001b[0mfilemode\u001b[0m\u001b[0;34m)\u001b[0m\u001b[0;34m\u001b[0m\u001b[0;34m\u001b[0m\u001b[0m\n\u001b[0m\u001b[1;32m   1255\u001b[0m                 \u001b[0;32mexcept\u001b[0m \u001b[0mOSError\u001b[0m\u001b[0;34m:\u001b[0m\u001b[0;34m\u001b[0m\u001b[0;34m\u001b[0m\u001b[0m\n\u001b[1;32m   1256\u001b[0m                     \u001b[0;32mif\u001b[0m \u001b[0mfilemode\u001b[0m \u001b[0;32min\u001b[0m \u001b[0mmodeDict\u001b[0m\u001b[0;34m:\u001b[0m\u001b[0;34m\u001b[0m\u001b[0;34m\u001b[0m\u001b[0m\n",
            "\u001b[0;31mFileNotFoundError\u001b[0m: [Errno 2] No such file or directory: '/content/drive/MyDrive/datasets/roberta_full_encoding.zip'"
          ]
        }
      ],
      "source": [
        "# Если уже готовы данные\n",
        "def load_dataset_from_zip(filename):\n",
        "  z = zipfile.ZipFile(filename, 'r')\n",
        "  z.extractall()\n",
        "\n",
        "  train_inputs = np.load(\"train_inputs.npy\")\n",
        "  valid_inputs = np.load(\"valid_inputs.npy\")\n",
        "  train_outputs = np.load(\"train_outputs.npy\")\n",
        "  valid_outputs = np.load(\"valid_outputs.npy\")\n",
        "  return train_inputs, valid_inputs, train_outputs, valid_outputs\n",
        "\n",
        "train_inputs, valid_inputs, train_outputs, valid_outputs = load_dataset_from_zip(\n",
        "    '/content/drive/MyDrive/datasets/roberta_full_encoding.zip'\n",
        ")"
      ]
    },
    {
      "cell_type": "code",
      "source": [
        "# если только сделали\n",
        "train_inputs = np.load(\"train_inputs.npy\")\n",
        "valid_inputs = np.load(\"valid_inputs.npy\")\n",
        "train_outputs = np.load(\"train_outputs.npy\")\n",
        "valid_outputs = np.load(\"valid_outputs.npy\")"
      ],
      "metadata": {
        "id": "9aTjz7i1q25X"
      },
      "id": "9aTjz7i1q25X",
      "execution_count": null,
      "outputs": []
    },
    {
      "cell_type": "code",
      "execution_count": null,
      "id": "yzjuX0d_Iz2r",
      "metadata": {
        "id": "yzjuX0d_Iz2r"
      },
      "outputs": [],
      "source": [
        "train_inputs = {'input_ids': train_inputs[0][:4], 'attention_mask': train_inputs[1][:4]}\n",
        "valid_inputs = {'input_ids': valid_inputs[0][:4], 'attention_mask': valid_inputs[1][:4]}"
      ]
    },
    {
      "cell_type": "code",
      "source": [
        "class SaveLogs(tf.keras.callbacks.Callback):\n",
        "    def on_train_begin(self, logs=None):\n",
        "        self.loss = list()\n",
        "        self.acc = list()\n",
        "\n",
        "    def on_batch_end(self, batch, logs=None):\n",
        "        self.loss.append(logs.get(\"loss\"))\n",
        "        self.acc.append(logs.get(\"accuracy\"))"
      ],
      "metadata": {
        "id": "o1RXprk69GxN"
      },
      "id": "o1RXprk69GxN",
      "execution_count": null,
      "outputs": []
    },
    {
      "cell_type": "code",
      "source": [
        "logger = SaveLogs()\n",
        "#checkpoint = tf.keras.callbacks.ModelCheckpoint('/content/drive/MyDrive/datasets/model.h5', monitor='val_accuracy', save_best_only=True, verbose=1)"
      ],
      "metadata": {
        "id": "RaubwGWmQggw"
      },
      "id": "RaubwGWmQggw",
      "execution_count": null,
      "outputs": []
    },
    {
      "cell_type": "code",
      "execution_count": null,
      "id": "c3GHBT9oBcEL",
      "metadata": {
        "colab": {
          "base_uri": "https://localhost:8080/"
        },
        "id": "c3GHBT9oBcEL",
        "outputId": "a1effc5c-ba09-4ebc-ff74-be24cbad6466"
      },
      "outputs": [
        {
          "output_type": "stream",
          "name": "stdout",
          "text": [
            "Epoch 1/10\n",
            "1/1 [==============================] - 42s 42s/step - loss: 0.6931 - accuracy: 0.5000 - val_loss: 0.7077 - val_accuracy: 0.5000\n",
            "Epoch 2/10\n",
            "1/1 [==============================] - 37s 37s/step - loss: 0.6643 - accuracy: 0.5000 - val_loss: 0.7076 - val_accuracy: 0.5000\n",
            "Epoch 3/10\n",
            "1/1 [==============================] - 31s 31s/step - loss: 0.7386 - accuracy: 0.5000 - val_loss: 0.7075 - val_accuracy: 0.5000\n",
            "Epoch 4/10\n",
            "1/1 [==============================] - 32s 32s/step - loss: 0.6798 - accuracy: 0.5000 - val_loss: 0.7074 - val_accuracy: 0.5000\n",
            "Epoch 5/10\n",
            "1/1 [==============================] - 29s 29s/step - loss: 0.6905 - accuracy: 0.5000 - val_loss: 0.7073 - val_accuracy: 0.5000\n",
            "Epoch 6/10\n",
            "1/1 [==============================] - 40s 40s/step - loss: 0.6874 - accuracy: 0.5000 - val_loss: 0.7072 - val_accuracy: 0.5000\n",
            "Epoch 7/10\n",
            "1/1 [==============================] - 33s 33s/step - loss: 0.6944 - accuracy: 0.5000 - val_loss: 0.7071 - val_accuracy: 0.5000\n",
            "Epoch 8/10\n",
            "1/1 [==============================] - 32s 32s/step - loss: 0.6880 - accuracy: 0.5000 - val_loss: 0.7070 - val_accuracy: 0.5000\n",
            "Epoch 9/10\n",
            "1/1 [==============================] - 22s 22s/step - loss: 0.6914 - accuracy: 0.5000 - val_loss: 0.7069 - val_accuracy: 0.5000\n",
            "Epoch 10/10\n",
            "1/1 [==============================] - 40s 40s/step - loss: 0.7476 - accuracy: 0.5000 - val_loss: 0.7068 - val_accuracy: 0.5000\n"
          ]
        }
      ],
      "source": [
        "model.layers[2].trainable = False\n",
        "optimizer = tf.keras.optimizers.AdamW(learning_rate=1e-5)\n",
        "model.compile(\n",
        "    optimizer=optimizer,\n",
        "    loss=tf.keras.losses.BinaryCrossentropy(),\n",
        "    metrics=[tf.keras.metrics.BinaryAccuracy(name='accuracy')]\n",
        ")\n",
        "\n",
        "BATCH_SIZE = 4\n",
        "\n",
        "history = model.fit(\n",
        "    train_inputs,\n",
        "    train_outputs[:4],\n",
        "    epochs=10,\n",
        "    batch_size=BATCH_SIZE,\n",
        "    validation_data=(valid_inputs, valid_outputs[:4]),\n",
        "    callbacks=[logger]\n",
        ")"
      ]
    },
    {
      "cell_type": "code",
      "source": [
        "with tf.device(device_name):\n",
        "    model.layers[2].trainable = True\n",
        "    optimizer = tf.keras.optimizers.AdamW(learning_rate=1e-5)\n",
        "    model.compile(optimizer=optimizer,\n",
        "                  loss=tf.keras.losses.BinaryCrossentropy(),\n",
        "                  metrics=[tf.keras.metrics.BinaryAccuracy(name='accuracy')])\n",
        "\n",
        "    BATCH_SIZE = 8\n",
        "    history2 = model.fit(train_inputs,\n",
        "                         train_outputs,\n",
        "                         epochs=1,\n",
        "                         batch_size=BATCH_SIZE,\n",
        "                         validation_data=(valid_inputs, valid_outputs),\n",
        "                         callbacks=[logger])"
      ],
      "metadata": {
        "id": "Pba2-fTO8s0T"
      },
      "id": "Pba2-fTO8s0T",
      "execution_count": null,
      "outputs": []
    },
    {
      "cell_type": "code",
      "source": [
        "plt.plot(np.arange(len(logger.loss)), logger.loss, c='tab:orange')\n",
        "plt.show()"
      ],
      "metadata": {
        "colab": {
          "base_uri": "https://localhost:8080/",
          "height": 430
        },
        "id": "vaeRzBF6JCOz",
        "outputId": "a6f57178-c847-46a0-bb83-7eb969bca3d6"
      },
      "id": "vaeRzBF6JCOz",
      "execution_count": null,
      "outputs": [
        {
          "output_type": "display_data",
          "data": {
            "text/plain": [
              "<Figure size 640x480 with 1 Axes>"
            ],
            "image/png": "[encoded data removed]"
          },
          "metadata": {}
        }
      ]
    },
    {
      "cell_type": "code",
      "source": [
        "plt.plot(np.arange(len(logger.acc)), logger.acc, c='blue')\n",
        "plt.show()"
      ],
      "metadata": {
        "colab": {
          "base_uri": "https://localhost:8080/",
          "height": 430
        },
        "id": "LbQAt4UKJ7iI",
        "outputId": "9d19d601-97fe-4742-cf78-6fd6451ba743"
      },
      "id": "LbQAt4UKJ7iI",
      "execution_count": null,
      "outputs": [
        {
          "output_type": "display_data",
          "data": {
            "text/plain": [
              "<Figure size 640x480 with 1 Axes>"
            ],
            "image/png": "[encoded data removed]"
          },
          "metadata": {}
        }
      ]
    },
    {
      "cell_type": "code",
      "execution_count": null,
      "id": "wRGffOtc7p3Z",
      "metadata": {
        "id": "wRGffOtc7p3Z"
      },
      "outputs": [],
      "source": [
        "def show_res(history):\n",
        "  acc = history.history['accuracy']\n",
        "  val_acc = history.history['val_accuracy']\n",
        "\n",
        "  loss = history.history['loss']\n",
        "  val_loss = history.history['val_loss']\n",
        "\n",
        "  plt.figure(figsize=(8, 8))\n",
        "  plt.subplot(2, 1, 1)\n",
        "  plt.plot(acc, label='Training Accuracy')\n",
        "  plt.plot(val_acc, label='Validation Accuracy')\n",
        "  plt.legend(loc='lower right')\n",
        "  plt.ylabel('Accuracy')\n",
        "  plt.ylim([min(plt.ylim()),1])\n",
        "  plt.title('Training and Validation Accuracy')\n",
        "\n",
        "  plt.subplot(2, 1, 2)\n",
        "  plt.plot(loss, label='Training Loss')\n",
        "  plt.plot(val_loss, label='Validation Loss')\n",
        "  plt.legend(loc='upper right')\n",
        "  plt.ylabel('Cross Entropy')\n",
        "  plt.title('Training and Validation Loss')\n",
        "  plt.xlabel('epoch')\n",
        "  plt.show()"
      ]
    },
    {
      "cell_type": "code",
      "source": [
        "show_res(history)"
      ],
      "metadata": {
        "colab": {
          "base_uri": "https://localhost:8080/",
          "height": 718
        },
        "id": "gRCfiV0hSxzc",
        "outputId": "01286804-cc6c-4743-fea8-e78ca051ab4c"
      },
      "id": "gRCfiV0hSxzc",
      "execution_count": null,
      "outputs": [
        {
          "output_type": "display_data",
          "data": {
            "text/plain": [
              "<Figure size 800x800 with 2 Axes>"
            ],
            "image/png": "[encoded data removed]"
          },
          "metadata": {}
        }
      ]
    },
    {
      "cell_type": "markdown",
      "id": "p8rT_Je4oclV",
      "metadata": {
        "id": "p8rT_Je4oclV"
      },
      "source": [
        "## Эксперименты с **Bert**\n"
      ]
    },
    {
      "cell_type": "code",
      "execution_count": null,
      "id": "HRRT5ekHv52J",
      "metadata": {
        "id": "HRRT5ekHv52J",
        "colab": {
          "base_uri": "https://localhost:8080/",
          "height": 156,
          "referenced_widgets": [
            "2361820e26e14270ba83852dbdecd487",
            "dd6b9ec61d784b6db760ae0355930dd2",
            "5fcb09c0a935416da867331fb74b6a2e",
            "ebfab6a4f1b9478fa735c6c282c4564d",
            "8b1f89fd004b4e1ab4efdf9db6f4f707",
            "32fa8283baa04623ba0bc0ad349ec8cf",
            "1b6e46fed75847c79aa8b3bbdf45c260",
            "0bfb87a4ef844f31b0ea7d80726fb217",
            "a8a884a6c7914bb4ae447a06b6a45768",
            "d859af6d24794dbaad5149d7920711ec",
            "dcbe6709d2b848b39e3c5444ff3c7abb"
          ]
        },
        "outputId": "20a0e52c-7283-4c03-8bed-6b22c3796c3b"
      },
      "outputs": [
        {
          "output_type": "stream",
          "name": "stderr",
          "text": [
            "Some layers from the model checkpoint at jplu/tf-xlm-roberta-base were not used when initializing TFXLMRobertaModel: ['lm_head']\n",
            "- This IS expected if you are initializing TFXLMRobertaModel from the checkpoint of a model trained on another task or with another architecture (e.g. initializing a BertForSequenceClassification model from a BertForPreTraining model).\n",
            "- This IS NOT expected if you are initializing TFXLMRobertaModel from the checkpoint of a model that you expect to be exactly identical (initializing a BertForSequenceClassification model from a BertForSequenceClassification model).\n",
            "All the layers of TFXLMRobertaModel were initialized from the model checkpoint at jplu/tf-xlm-roberta-base.\n",
            "If your task is similar to the task the model of the checkpoint was trained on, you can already use TFXLMRobertaModel for predictions without further training.\n"
          ]
        },
        {
          "output_type": "display_data",
          "data": {
            "text/plain": [
              "sentencepiece.bpe.model:   0%|          | 0.00/5.07M [00:00<?, ?B/s]"
            ],
            "application/vnd.jupyter.widget-view+json": {
              "version_major": 2,
              "version_minor": 0,
              "model_id": "2361820e26e14270ba83852dbdecd487"
            }
          },
          "metadata": {}
        }
      ],
      "source": [
        "from transformers import TFXLMRobertaModel\n",
        "from transformers import AutoTokenizer\n",
        "\n",
        "bert_model_name = 'jplu/tf-xlm-roberta-base'\n",
        "\n",
        "bert_model = TFXLMRobertaModel.from_pretrained(bert_model_name, trainable=True)\n",
        "bert_tokenizer = AutoTokenizer.from_pretrained(bert_model_name)"
      ]
    },
    {
      "cell_type": "code",
      "source": [
        "data = pd.read_json(train_path, lines=True, nrows=10)\n",
        "data.head()"
      ],
      "metadata": {
        "colab": {
          "base_uri": "https://localhost:8080/",
          "height": 206
        },
        "id": "Bbq9OIzKHQ8X",
        "outputId": "325ddce9-97b5-4945-fcf5-748620d568ef"
      },
      "id": "Bbq9OIzKHQ8X",
      "execution_count": null,
      "outputs": [
        {
          "output_type": "execute_result",
          "data": {
            "text/plain": [
              "                                                text  label    model   source  \\\n",
              "0  Forza Motorsport is a popular racing game that...      1  chatGPT  wikihow   \n",
              "1  Buying Virtual Console games for your Nintendo...      1  chatGPT  wikihow   \n",
              "2  Windows NT 4.0 was a popular operating system ...      1  chatGPT  wikihow   \n",
              "3  How to Make Perfume\\n\\nPerfume is a great way ...      1  chatGPT  wikihow   \n",
              "4  How to Convert Song Lyrics to a Song'\\n\\nConve...      1  chatGPT  wikihow   \n",
              "\n",
              "   id  \n",
              "0   0  \n",
              "1   1  \n",
              "2   2  \n",
              "3   3  \n",
              "4   4  "
            ],
            "text/html": [
              "\n",
              "  <div id=\"df-22f00693-fcee-4482-8c83-8bb40f9087a2\" class=\"colab-df-container\">\n",
              "    <div>\n",
              "<style scoped>\n",
              "    .dataframe tbody tr th:only-of-type {\n",
              "        vertical-align: middle;\n",
              "    }\n",
              "\n",
              "    .dataframe tbody tr th {\n",
              "        vertical-align: top;\n",
              "    }\n",
              "\n",
              "    .dataframe thead th {\n",
              "        text-align: right;\n",
              "    }\n",
              "</style>\n",
              "<table border=\"1\" class=\"dataframe\">\n",
              "  <thead>\n",
              "    <tr style=\"text-align: right;\">\n",
              "      <th></th>\n",
              "      <th>text</th>\n",
              "      <th>label</th>\n",
              "      <th>model</th>\n",
              "      <th>source</th>\n",
              "      <th>id</th>\n",
              "    </tr>\n",
              "  </thead>\n",
              "  <tbody>\n",
              "    <tr>\n",
              "      <th>0</th>\n",
              "      <td>Forza Motorsport is a popular racing game that...</td>\n",
              "      <td>1</td>\n",
              "      <td>chatGPT</td>\n",
              "      <td>wikihow</td>\n",
              "      <td>0</td>\n",
              "    </tr>\n",
              "    <tr>\n",
              "      <th>1</th>\n",
              "      <td>Buying Virtual Console games for your Nintendo...</td>\n",
              "      <td>1</td>\n",
              "      <td>chatGPT</td>\n",
              "      <td>wikihow</td>\n",
              "      <td>1</td>\n",
              "    </tr>\n",
              "    <tr>\n",
              "      <th>2</th>\n",
              "      <td>Windows NT 4.0 was a popular operating system ...</td>\n",
              "      <td>1</td>\n",
              "      <td>chatGPT</td>\n",
              "      <td>wikihow</td>\n",
              "      <td>2</td>\n",
              "    </tr>\n",
              "    <tr>\n",
              "      <th>3</th>\n",
              "      <td>How to Make Perfume\\n\\nPerfume is a great way ...</td>\n",
              "      <td>1</td>\n",
              "      <td>chatGPT</td>\n",
              "      <td>wikihow</td>\n",
              "      <td>3</td>\n",
              "    </tr>\n",
              "    <tr>\n",
              "      <th>4</th>\n",
              "      <td>How to Convert Song Lyrics to a Song'\\n\\nConve...</td>\n",
              "      <td>1</td>\n",
              "      <td>chatGPT</td>\n",
              "      <td>wikihow</td>\n",
              "      <td>4</td>\n",
              "    </tr>\n",
              "  </tbody>\n",
              "</table>\n",
              "</div>\n",
              "    <div class=\"colab-df-buttons\">\n",
              "\n",
              "  <div class=\"colab-df-container\">\n",
              "    <button class=\"colab-df-convert\" onclick=\"convertToInteractive('df-22f00693-fcee-4482-8c83-8bb40f9087a2')\"\n",
              "            title=\"Convert this dataframe to an interactive table.\"\n",
              "            style=\"display:none;\">\n",
              "\n",
              "  <svg xmlns=\"http://www.w3.org/2000/svg\" height=\"24px\" viewBox=\"0 -960 960 960\">\n",
              "    <path d=\"M120-120v-720h720v720H120Zm60-500h600v-160H180v160Zm220 220h160v-160H400v160Zm0 220h160v-160H400v160ZM180-400h160v-160H180v160Zm440 0h160v-160H620v160ZM180-180h160v-160H180v160Zm440 0h160v-160H620v160Z\"/>\n",
              "  </svg>\n",
              "    </button>\n",
              "\n",
              "  <style>\n",
              "    .colab-df-container {\n",
              "      display:flex;\n",
              "      gap: 12px;\n",
              "    }\n",
              "\n",
              "    .colab-df-convert {\n",
              "      background-color: #E8F0FE;\n",
              "      border: none;\n",
              "      border-radius: 50%;\n",
              "      cursor: pointer;\n",
              "      display: none;\n",
              "      fill: #1967D2;\n",
              "      height: 32px;\n",
              "      padding: 0 0 0 0;\n",
              "      width: 32px;\n",
              "    }\n",
              "\n",
              "    .colab-df-convert:hover {\n",
              "      background-color: #E2EBFA;\n",
              "      box-shadow: 0px 1px 2px rgba(60, 64, 67, 0.3), 0px 1px 3px 1px rgba(60, 64, 67, 0.15);\n",
              "      fill: #174EA6;\n",
              "    }\n",
              "\n",
              "    .colab-df-buttons div {\n",
              "      margin-bottom: 4px;\n",
              "    }\n",
              "\n",
              "    [theme=dark] .colab-df-convert {\n",
              "      background-color: #3B4455;\n",
              "      fill: #D2E3FC;\n",
              "    }\n",
              "\n",
              "    [theme=dark] .colab-df-convert:hover {\n",
              "      background-color: #434B5C;\n",
              "      box-shadow: 0px 1px 3px 1px rgba(0, 0, 0, 0.15);\n",
              "      filter: drop-shadow(0px 1px 2px rgba(0, 0, 0, 0.3));\n",
              "      fill: #FFFFFF;\n",
              "    }\n",
              "  </style>\n",
              "\n",
              "    <script>\n",
              "      const buttonEl =\n",
              "        document.querySelector('#df-22f00693-fcee-4482-8c83-8bb40f9087a2 button.colab-df-convert');\n",
              "      buttonEl.style.display =\n",
              "        google.colab.kernel.accessAllowed ? 'block' : 'none';\n",
              "\n",
              "      async function convertToInteractive(key) {\n",
              "        const element = document.querySelector('#df-22f00693-fcee-4482-8c83-8bb40f9087a2');\n",
              "        const dataTable =\n",
              "          await google.colab.kernel.invokeFunction('convertToInteractive',\n",
              "                                                    [key], {});\n",
              "        if (!dataTable) return;\n",
              "\n",
              "        const docLinkHtml = 'Like what you see? Visit the ' +\n",
              "          '<a target=\"_blank\" href=https://colab.research.google.com/notebooks/data_table.ipynb>data table notebook</a>'\n",
              "          + ' to learn more about interactive tables.';\n",
              "        element.innerHTML = '';\n",
              "        dataTable['output_type'] = 'display_data';\n",
              "        await google.colab.output.renderOutput(dataTable, element);\n",
              "        const docLink = document.createElement('div');\n",
              "        docLink.innerHTML = docLinkHtml;\n",
              "        element.appendChild(docLink);\n",
              "      }\n",
              "    </script>\n",
              "  </div>\n",
              "\n",
              "\n",
              "<div id=\"df-8706c375-2a90-41e8-819b-26ed4413be3e\">\n",
              "  <button class=\"colab-df-quickchart\" onclick=\"quickchart('df-8706c375-2a90-41e8-819b-26ed4413be3e')\"\n",
              "            title=\"Suggest charts\"\n",
              "            style=\"display:none;\">\n",
              "\n",
              "<svg xmlns=\"http://www.w3.org/2000/svg\" height=\"24px\"viewBox=\"0 0 24 24\"\n",
              "     width=\"24px\">\n",
              "    <g>\n",
              "        <path d=\"M19 3H5c-1.1 0-2 .9-2 2v14c0 1.1.9 2 2 2h14c1.1 0 2-.9 2-2V5c0-1.1-.9-2-2-2zM9 17H7v-7h2v7zm4 0h-2V7h2v10zm4 0h-2v-4h2v4z\"/>\n",
              "    </g>\n",
              "</svg>\n",
              "  </button>\n",
              "\n",
              "<style>\n",
              "  .colab-df-quickchart {\n",
              "      --bg-color: #E8F0FE;\n",
              "      --fill-color: #1967D2;\n",
              "      --hover-bg-color: #E2EBFA;\n",
              "      --hover-fill-color: #174EA6;\n",
              "      --disabled-fill-color: #AAA;\n",
              "      --disabled-bg-color: #DDD;\n",
              "  }\n",
              "\n",
              "  [theme=dark] .colab-df-quickchart {\n",
              "      --bg-color: #3B4455;\n",
              "      --fill-color: #D2E3FC;\n",
              "      --hover-bg-color: #434B5C;\n",
              "      --hover-fill-color: #FFFFFF;\n",
              "      --disabled-bg-color: #3B4455;\n",
              "      --disabled-fill-color: #666;\n",
              "  }\n",
              "\n",
              "  .colab-df-quickchart {\n",
              "    background-color: var(--bg-color);\n",
              "    border: none;\n",
              "    border-radius: 50%;\n",
              "    cursor: pointer;\n",
              "    display: none;\n",
              "    fill: var(--fill-color);\n",
              "    height: 32px;\n",
              "    padding: 0;\n",
              "    width: 32px;\n",
              "  }\n",
              "\n",
              "  .colab-df-quickchart:hover {\n",
              "    background-color: var(--hover-bg-color);\n",
              "    box-shadow: 0 1px 2px rgba(60, 64, 67, 0.3), 0 1px 3px 1px rgba(60, 64, 67, 0.15);\n",
              "    fill: var(--button-hover-fill-color);\n",
              "  }\n",
              "\n",
              "  .colab-df-quickchart-complete:disabled,\n",
              "  .colab-df-quickchart-complete:disabled:hover {\n",
              "    background-color: var(--disabled-bg-color);\n",
              "    fill: var(--disabled-fill-color);\n",
              "    box-shadow: none;\n",
              "  }\n",
              "\n",
              "  .colab-df-spinner {\n",
              "    border: 2px solid var(--fill-color);\n",
              "    border-color: transparent;\n",
              "    border-bottom-color: var(--fill-color);\n",
              "    animation:\n",
              "      spin 1s steps(1) infinite;\n",
              "  }\n",
              "\n",
              "  @keyframes spin {\n",
              "    0% {\n",
              "      border-color: transparent;\n",
              "      border-bottom-color: var(--fill-color);\n",
              "      border-left-color: var(--fill-color);\n",
              "    }\n",
              "    20% {\n",
              "      border-color: transparent;\n",
              "      border-left-color: var(--fill-color);\n",
              "      border-top-color: var(--fill-color);\n",
              "    }\n",
              "    30% {\n",
              "      border-color: transparent;\n",
              "      border-left-color: var(--fill-color);\n",
              "      border-top-color: var(--fill-color);\n",
              "      border-right-color: var(--fill-color);\n",
              "    }\n",
              "    40% {\n",
              "      border-color: transparent;\n",
              "      border-right-color: var(--fill-color);\n",
              "      border-top-color: var(--fill-color);\n",
              "    }\n",
              "    60% {\n",
              "      border-color: transparent;\n",
              "      border-right-color: var(--fill-color);\n",
              "    }\n",
              "    80% {\n",
              "      border-color: transparent;\n",
              "      border-right-color: var(--fill-color);\n",
              "      border-bottom-color: var(--fill-color);\n",
              "    }\n",
              "    90% {\n",
              "      border-color: transparent;\n",
              "      border-bottom-color: var(--fill-color);\n",
              "    }\n",
              "  }\n",
              "</style>\n",
              "\n",
              "  <script>\n",
              "    async function quickchart(key) {\n",
              "      const quickchartButtonEl =\n",
              "        document.querySelector('#' + key + ' button');\n",
              "      quickchartButtonEl.disabled = true;  // To prevent multiple clicks.\n",
              "      quickchartButtonEl.classList.add('colab-df-spinner');\n",
              "      try {\n",
              "        const charts = await google.colab.kernel.invokeFunction(\n",
              "            'suggestCharts', [key], {});\n",
              "      } catch (error) {\n",
              "        console.error('Error during call to suggestCharts:', error);\n",
              "      }\n",
              "      quickchartButtonEl.classList.remove('colab-df-spinner');\n",
              "      quickchartButtonEl.classList.add('colab-df-quickchart-complete');\n",
              "    }\n",
              "    (() => {\n",
              "      let quickchartButtonEl =\n",
              "        document.querySelector('#df-8706c375-2a90-41e8-819b-26ed4413be3e button');\n",
              "      quickchartButtonEl.style.display =\n",
              "        google.colab.kernel.accessAllowed ? 'block' : 'none';\n",
              "    })();\n",
              "  </script>\n",
              "</div>\n",
              "    </div>\n",
              "  </div>\n"
            ],
            "application/vnd.google.colaboratory.intrinsic+json": {
              "type": "dataframe",
              "variable_name": "data",
              "summary": "{\n  \"name\": \"data\",\n  \"rows\": 10,\n  \"fields\": [\n    {\n      \"column\": \"text\",\n      \"properties\": {\n        \"dtype\": \"string\",\n        \"num_unique_values\": 10,\n        \"samples\": [\n          \"Teaching your dog new tricks is a great way to bond with your furry friend and keep him mentally stimulated. One popular trick that can be impressive and fun to teach your pup is how to play dead on command. However, before you can teach your dog to do this, it's important to make sure he understands the \\\"down\\\" command. This will make it easier to teach him to lie on his side, which is the first step in learning how to play dead.\\n\\n1. Teach your dog the \\u2018down\\u2019 command before teaching him how to play dead.\\n\\nThe \\\"down\\\" command is an essential step in teaching your dog to play dead. Start by getting your dog into a seated position. Hold a treat above his head and slowly move it down toward the ground. This should encourage him to follow the treat and lie down on his front paws. Once he's in the down position, reward him with the treat and praise.\\n\\n2. Choose a comfortable area to train your dog.\\n\\nMake sure your dog is in a comfortable and familiar environment when you're teaching him the trick. This will help him feel more relaxed and less distracted.\\n\\n3. Command your dog to sit.\\n\\nStart by commanding your dog to sit in front of you.\\n\\n4. Stand directly in front of your dog while he is seated.\\n\\nStanding directly in front of your dog will help him focus on you and the training session.\\n\\n5. Guide your dog to lie down without a treat.\\n\\nGuide your dog into the down position without using a treat or lure. Encourage him to lie down by gently pushing his front legs forward and his hind legs backward until he is lying flat on his stomach.\\n\\n6. Continue practicing until your dog learns how to lie down at your command.\\n\\nPractice the \\\"down\\\" command until your dog consistently understands what you want him to do. Use treats and praise to reinforce good behavior.\\n\\n7. Teach your dog to stay before teaching him how to play dead.\\n\\nOnce your dog understands the \\\"down\\\" command, it's time to teach him to stay in that position.\\n\\n8. Choose a comfortable area to train your dog.\\n\\nAgain, make sure your dog is in a comfortable and familiar environment.\\n\\n9. Command your dog to be in the position in which you would like him to stay.\\n\\nIn this case, you want your dog to stay in the down position.\\n\\n10. Stand directly in front of him for 1-2 seconds.\\n\\nStart by standing directly in front of your dog for a short period of time.\\n\\n11. Increase the amount of time that you stand in front of him.\\n\\nGradually increase the amount of time you stand in front of him until he can hold the \\\"down\\\" position for several minutes.\\n\\n12. Add a verbal cue and a visual cue.\\n\\nOnce your dog understands the \\\"stay\\\" command, you can add a verbal cue like \\\"stay\\\" or \\\"freeze\\\" and a visual cue like holding up your hand.\\n\\n13. Increase the distance from your dog.\\n\\nOnce your dog understands the \\\"stay\\\" command, start increasing the distance between you and your dog.\\n\\n14. Command your dog to lie down from sitting/standing.\\n\\nStart with the command \\\"down.\\\" It should be easy for your dog to understand since you have already trained him on this.\\n\\n15. Guide your dog to lie down on his side.\\n\\nOnce your dog is in the down position, gently guide him onto his side by bending his front leg over his chest and then guiding his hind leg over to the side.\\n\\n16. Practice having your dog go from sitting/standing to lying down on his side.\\n\\nPractice this step until your dog can easily go from the \\\"down\\\" position to lying on his side.\\n\\n17. Add a verbal cue to get your dog to play dead.\\n\\nOnce your dog is comfortable lying on his side, you can add a verbal cue like \\\"play dead.\\\"\\n\\n18. Use the verbal cue more frequently than the lure of food.\\n\\nUse verbal cues more frequently to help your dog associate the word \\\"play dead\\\" with the action.\\n\\n19. Use a visual cue (hand signal) to command your dog to play dead.\\n\\nUse a visual cue such as pointing your finger toward the ground to help your dog understand what you want him to do.\\n\\n20. Use only the visual cue.\\n\\nGradually stop using the verbal cue and rely solely on the visual cue to help your dog understand what you want him to do.\\n\\n21. Practice the trick in different locations.\\n\\nPractice the \\\"play dead\\\" trick in different locations to help your dog generalize the behavior. This will help your dog understand that the trick can be performed anywhere, not just in one specific location.\\n\\n22. Be patient with your dog until he masters the trick.\\n\\nRemember, training takes time. Be patient with your dog and make sure he is always comfortable and happy during training sessions. In time, your furry friend will be performing the \\\"play dead\\\" trick like a pro!\",\n          \"Buying Virtual Console games for your Nintendo Wii is a fun and easy process that can net you some classic games to play on your console. With a few simple steps, you can be exploring the worlds of classic Nintendo games in no time. Here's how to buy Virtual Console games for your Nintendo Wii.\\n\\nMethod 1: Using a Wii Points Card\\n\\n1. Find a few Wii Points cards from game retailers like GameStop.\\n\\nIf you don't already have some, go to your local game retailer and look for Wii Points cards. These are usually sold in increments of $10 or $20 and come with a code on the back that you will use to add points to your system.\\n\\n2. Make sure your Wii is online and on a secure connection if possible.\\n\\nYou'll need an internet connection to access the Wii Shop Channel and purchase Virtual Console games. If possible, make sure your console is connected to a secure network.\\n\\n3. Open the Wii Shop Channel, and click Add Wii Points at the bottom right of your screen after the channel finishes loading.\\n\\nThis will take you to a screen with two options: \\\"From Card\\\" and \\\"With a Credit Card.\\\" Select \\\"From Card\\\" to proceed.\\n\\n4. Click \\\"From Card.\\\" \\n\\nThis will bring up a screen that prompts you to enter the code from your Wii Points card.\\n\\n5. Now, your Wii should be asking for a code with 5 segments, separated by dashes.\\n\\nEnter this code into the Wii now.\\n\\n6. After a few prompts, you will have Wii points added to your Wii, which is what you use to purchase games.\\n\\nOnce you've entered your code, the Wii will ask you to confirm the points you're adding. After a few more prompts, your points will be added to your system.\\n\\n7. Click \\\"Virtual Console.\\\"\\n\\nOnce your Wii points have been added, select \\\"Virtual Console\\\" from the Wii Shop Channel's main menu.\\n\\n8. Choose how you want the games to be displayed.\\n\\nYou can choose to display your games in a list or on a virtual shelf. Pick the one that works best for you.\\n\\n9. Scroll through the list for games that you want.\\n\\nThere are a wide variety of Virtual Console games available, so take your time and find ones that interest you.\\n\\n10. Click on a game you want to play, and hit Yes on the confirmation box.\\n\\nThis will take you to a final confirmation screen that shows you the game's price and prompts you to confirm your purchase. If you're ready to buy, hit \\\"Yes.\\\"\\n\\n11. Wait while the game is downloaded.\\n\\nThe download process can take several minutes, depending on the size of the game. Be patient and let it finish.\\n\\n12. After you have bought the games you want to play, go back to the Wii Menu.\\n\\nOnce the game has finished downloading, you'll be kicked back to the Wii Menu. Your new game will now be listed among your other channels.\\n\\n13. Select the new games you just bought, and start them like a regular channel.\\n\\nJust select the game and hit \\\"Start.\\\" Now you're ready to play!\\n\\nMethod 2: Using a Credit Card\\n\\n1. Open the Wii Shop Channel, and click Add Wii Points.\\n\\nInstead of selecting \\\"From Card,\\\" choose \\\"With a Credit Card.\\\" This will take you to a screen where you can enter your credit card information.\\n\\n2. Click \\\"With a Credit Card.\\\"\\n\\nThis will bring up a screen where you can enter your credit card information.\\n\\n3. Key in your Credit Card Number.\\n\\nEnter your credit card number, expiration date, and security code. Make sure this information is accurate, or the purchase won't go through.\\n\\n4. Let Nintendo authorize the purchase.\\n\\nOnce you've entered your information, Nintendo will authorize the purchase and add the appropriate number of points to your system.\\n\\n5. Go back to the Points Card process above and skip down to Step 7.\\n\\nNow that you have the necessary Wii Points, follow the steps above to purchase and download your favorite Virtual Console games.\",\n          \"How to Fix a Broken Window in a Wooden Frame\\n\\nIf you have a broken window in a wooden frame, don't panic! Fixing it is easier than you might think. By following a few simple steps, you can have your window looking like new in no time.\\n\\nStep 1: Determine what kind of window or door you're dealing with\\n\\nBefore you start fixing the window or door, you need to determine what kind of glass you'll need to use. Check your local building codes to see if tempered glass is required for storm windows and doors. If not, you may be able to use regular pane glass for inside (not storm) windows and doors.\\n\\nStep 2: Remove the window from the casing if possible\\n\\nIf the broken window is in a wooden frame, you may be able to remove the whole window from the casing. If the window is in a door, you'll need to take the door off the hinges. This will make it easier to work on the window.\\n\\nStep 3: Dispose of the broken glass\\n\\nBefore you can start repairing the window, you'll need to dispose of the broken glass. Be sure to wear gloves and use caution when handling broken glass.\\n\\nStep 4: Remove any remaining old caulk with the putty knife\\n\\nUse a putty knife to remove any old caulk around the window frame. This will help the new glass fit properly into the frame.\\n\\nStep 5: Carefully measure the width and length of the opening for the window\\n\\nMeasure the width and length of the window opening carefully. This will ensure that the new glass fits properly in the frame.\\n\\nStep 6: Go to your friendly neighborhood hardware store or home center and have them cut the glass\\n\\nTake the measurements to your local hardware store or home center and have them cut the glass to size.\\n\\nStep 7: Insert the glass into the frame\\n\\nCarefully insert the new glass into the frame. Be sure to wear gloves and use caution when handling the glass.\\n\\nStep 8: Find the spots where the old glazier points were and put in new ones\\n\\nGlazier points hold the glass in place. Find the spots where the old glazier points were and put in new ones to secure the glass in the frame.\\n\\nStep 9: Prepare the glazing compound\\n\\nGlazing compound is used to seal the gaps between the glass and the frame. Prepare the compound according to the instructions on the package.\\n\\nStep 10: Using the flat edge of the glaziers tool or putty knife, scoop off a section of putty from your hand and spread it into the \\\"shelf\\\" area at any point; best not to start in a corner.\\n\\nUsing a glaziers tool or putty knife, scoop off a section of putty from your hand and spread it onto the frame. Start in the middle of a side and work your way towards the corners.\\n\\nStep 11: Corners\\n\\nWhen you get to the corners, fold the putty over itself and press it into place. Repeat this process for each side.\\n\\nStep 12: Once you've finished caulking the window, allow it to cure at least a day before cleaning up any spillage on the glass\\n\\nLet the window sit untouched for at least a day to give the glazing compound time to cure. After that, you can clean up any spillage on the glass with a razor blade or window scraper.\\n\\nStep 13: Congratulations!\\n\\nCongratulations! You've successfully fixed your broken window in a wooden frame. Now sit back, relax, and enjoy the view.\"\n        ],\n        \"semantic_type\": \"\",\n        \"description\": \"\"\n      }\n    },\n    {\n      \"column\": \"label\",\n      \"properties\": {\n        \"dtype\": \"number\",\n        \"std\": 0,\n        \"min\": 1,\n        \"max\": 1,\n        \"num_unique_values\": 1,\n        \"samples\": [\n          1\n        ],\n        \"semantic_type\": \"\",\n        \"description\": \"\"\n      }\n    },\n    {\n      \"column\": \"model\",\n      \"properties\": {\n        \"dtype\": \"category\",\n        \"num_unique_values\": 1,\n        \"samples\": [\n          \"chatGPT\"\n        ],\n        \"semantic_type\": \"\",\n        \"description\": \"\"\n      }\n    },\n    {\n      \"column\": \"source\",\n      \"properties\": {\n        \"dtype\": \"category\",\n        \"num_unique_values\": 1,\n        \"samples\": [\n          \"wikihow\"\n        ],\n        \"semantic_type\": \"\",\n        \"description\": \"\"\n      }\n    },\n    {\n      \"column\": \"id\",\n      \"properties\": {\n        \"dtype\": \"number\",\n        \"std\": 3,\n        \"min\": 0,\n        \"max\": 9,\n        \"num_unique_values\": 10,\n        \"samples\": [\n          8\n        ],\n        \"semantic_type\": \"\",\n        \"description\": \"\"\n      }\n    }\n  ]\n}"
            }
          },
          "metadata": {},
          "execution_count": 16
        }
      ]
    },
    {
      "cell_type": "code",
      "source": [
        "tokenized_text = tokens = bert_tokenizer.encode_plus(\n",
        "          data['text'][1],\n",
        "          max_length = 512, # max length of the text that can go to BERT\n",
        "          truncation=True, padding='max_length',\n",
        "          add_special_tokens = True, # add [CLS], [SEP]\n",
        "          return_token_type_ids = False,\n",
        "          return_attention_mask = True, # add attention mask to not focus on pad tokens\n",
        "          return_tensors = 'tf'\n",
        "      )"
      ],
      "metadata": {
        "id": "-wJmlpShHbtv"
      },
      "id": "-wJmlpShHbtv",
      "execution_count": null,
      "outputs": []
    },
    {
      "cell_type": "code",
      "source": [
        "tokenized_text['input_ids']"
      ],
      "metadata": {
        "id": "1THj-nzHGbKC",
        "colab": {
          "base_uri": "https://localhost:8080/"
        },
        "outputId": "3739592e-1916-473f-d43f-314039458b41"
      },
      "id": "1THj-nzHGbKC",
      "execution_count": null,
      "outputs": [
        {
          "output_type": "execute_result",
          "data": {
            "text/plain": [
              "<tf.Tensor: shape=(1, 512), dtype=int32, numpy=\n",
              "array([[     0,  47184,    214,  73303,   1657,  40777,  27528,    100,\n",
              "           935,  70616,   5140,     14,     83,     10,   7477,    136,\n",
              "         23468,   9433,    450,    831,   2043,    398,   3060,  54704,\n",
              "         27528,     47,  11301,     98,    935, 130250,      5,  17106,\n",
              "            10,  10846,   8781,  98441,      4,    398,    831,    186,\n",
              "         24649,   2852,     70,   8999,      7,    111,  54704,  70616,\n",
              "         27528,     23,    110,   1733,      5,  11853,     25,      7,\n",
              "          3642,     47,  22113,  73303,   1657,  40777,  27528,    100,\n",
              "           935,  70616,   5140,     14,      5,  74644,  13806,    345,\n",
              "          6953,     10,   5140,     14,  41097,      7,  23660,    615,\n",
              "         26040,     10,  10846,   5140,     14,  41097,      7, 126381,\n",
              "          1295,   6712, 101597,   1314,   1884,  13547, 156095,      5,\n",
              "          4263,    398,   2301,     25,     18,  21771,    765,   3060,\n",
              "             4,    738,     47,    935,   4000,   6712, 101597,     56,\n",
              "           136,   6713,    100,   5140,     14,  41097,      7, 126381,\n",
              "             5,  32255,    621,  56104,  54324,     23,      6, 158661,\n",
              "             7,    111, 168404,    707,   3650,   1549,    136,   1380,\n",
              "           678,     10,  18151,     98,     70,   4420,    450,    398,\n",
              "          1221,   4527,     47,  15190,  26847,     47,    935,   5426,\n",
              "             5,    787,  26176,   9077,    935,   5140,     14,     83,\n",
              "          1118,    136,     98,     10, 111670,  94878,   2174,   7722,\n",
              "             5,   2583,     25,   1181,   3871,    142,   1820,  94878,\n",
              "            47,  17203,     70,   5140,     14,  24211,  55969,    136,\n",
              "         59038,  73303,   1657,  40777,  27528,      5,   4263,   7722,\n",
              "             4,   3249,   9077,    935, 130250,     83, 162711,     47,\n",
              "            10, 111670,  33120,      5,   1031,  13527,     70,   5140,\n",
              "            14,  24211,  55969,      4,    136,  18158,  29117,   5140,\n",
              "            14,  41097,      7,     99,     70, 103136,   7108,    111,\n",
              "           935,  49119,   7103,     70,  86723,  67229,     90,  72367,\n",
              "           214,      5,   3293,   1221,   5646,    398,     47,     10,\n",
              "         49119,    678,   6626,  50717,     12,     44, 168407,  23660,\n",
              "            58,    136,     44, 194583,     10,  68021,  23660,   1242,\n",
              "         51620,     44, 168407,  23660,     58,     47, 172337,      5,\n",
              "          1398,  21138,     44, 168407,  23660,   1242,   3293,   1221,\n",
              "         19095,   1257,     10,  49119,    450, 105876,      7,    398,\n",
              "            47,  30957,     70,  18151,   1295,    935,   5140,     14,\n",
              "         41097,      7,  20596,      5,   1892,  14240,      4,    935,\n",
              "          5140,     14,   5608,    186, 113292,    100,     10,  18151,\n",
              "           678,    190,  33180,      7,      4,  84797,     71,    390,\n",
              "            48, 114942,      5,  60816,    903,  18151,   3934,     70,\n",
              "          5140,     14,   5036,      5,   2289,  24372,     10,  10846,\n",
              "        105876,      7,      4,    398,   1221,    765,   5140,     14,\n",
              "         26847,  49814,     47,    935,   5140,     14,      4,   3129,\n",
              "            83,   2367,    398,   4527,     47,  59038,  27528,      5,\n",
              "         76556,    398,     25,    272,  30957,    297,    935,  18151,\n",
              "             4,     70,   5140,     14,   1221,  26458,    398,     47,\n",
              "         39563,     70,  26847,    398,     25,    107, 154107,      5,\n",
              "         24372,     10,  10846,   1286, 105876,      7,      4,    935,\n",
              "         26847,   1221,    186,  49814,     47,    935,   5426,      5,\n",
              "          2861,  21138,     44,  79600,  39181,   1657,  40777,   1242,\n",
              "         76556,    935,   5140,     14,  26847,    765,   2809,  49814,\n",
              "             4,  36849,     44,  79600,  39181,   1657,  40777,     58,\n",
              "          1295,     70,   5140,     14,  24211,  55969,     25,      7,\n",
              "          5201,   8026,      5,   3217, 211525,   3642,    398,   3444,\n",
              "            70,  27528,     47,    186,  44116,    297,      5,   2583,\n",
              "           831,  55076,     47,  44116,    935,  27528,     23,     10,\n",
              "          5303,    707,     98,     10,  20513,   2412,  17463,      5,\n",
              "        122554,     70,   1632,    450,  43240,   2965,    100,    398,\n",
              "             5,   3569, 225096,   8305,     70,   5303,    100,  27528,\n",
              "           450,    398,   3444,      5,   8622,    621,     10,  38134,\n",
              "         96551,    111,  73303,   1657,  40777,  27528,  19882,      4,\n",
              "           221,   5646,    935,   1733,    136,   7413,  64333,    450,\n",
              "         33946,    398,      5,   4068,  21138,     98,     10,   6712,\n",
              "           398,   3444,     47,  11301,      4,    136,   5962,      2]],\n",
              "      dtype=int32)>"
            ]
          },
          "metadata": {},
          "execution_count": 18
        }
      ]
    },
    {
      "cell_type": "code",
      "source": [
        "bert_tokenizer.decode(tokenized_text['input_ids'][0])"
      ],
      "metadata": {
        "colab": {
          "base_uri": "https://localhost:8080/",
          "height": 122
        },
        "id": "VKp0eSbJH4k2",
        "outputId": "1e623904-566c-4e77-e294-1db980b354ab"
      },
      "id": "VKp0eSbJH4k2",
      "execution_count": null,
      "outputs": [
        {
          "output_type": "execute_result",
          "data": {
            "text/plain": [
              "'<s> Buying Virtual Console games for your Nintendo Wii is a fun and easy process that can net you some classic games to play on your console. With a few simple steps, you can be exploring the worlds of classic Nintendo games in no time. Here\\'s how to buy Virtual Console games for your Nintendo Wii. Method 1: Using a Wii Points Card 1. Find a few Wii Points cards from game retailers like GameStop. If you don\\'t already have some, go to your local game retailer and look for Wii Points cards. These are usually sold in increments of $10 or $20 and come with a code on the back that you will use to add points to your system. 2. Make sure your Wii is online and on a secure connection if possible. You\\'ll need an internet connection to access the Wii Shop Channel and purchase Virtual Console games. If possible, make sure your console is connected to a secure network. 3. Open the Wii Shop Channel, and click Add Wii Points at the bottom right of your screen after the channel finishes loading. This will take you to a screen with two options: \"From Card\" and \"With a Credit Card.\" Select \"From Card\" to proceed. 4. Click \"From Card.\" This will bring up a screen that prompts you to enter the code from your Wii Points card. 5. Now, your Wii should be asking for a code with 5 segments, separated by dashes. Enter this code into the Wii now. 6. After a few prompts, you will have Wii points added to your Wii, which is what you use to purchase games. Once you\\'ve entered your code, the Wii will ask you to confirm the points you\\'re adding. After a few more prompts, your points will be added to your system. 7. Click \"Virtual Console.\" Once your Wii points have been added, select \"Virtual Console\" from the Wii Shop Channel\\'s main menu. 8. Choose how you want the games to be displayed. You can choose to display your games in a list or on a virtual shelf. Pick the one that works best for you. 9. Scroll through the list for games that you want. There are a wide variety of Virtual Console games available, so take your time and find ones that interest you. 10. Click on a game you want to play, and hit</s>'"
            ],
            "application/vnd.google.colaboratory.intrinsic+json": {
              "type": "string"
            }
          },
          "metadata": {},
          "execution_count": 19
        }
      ]
    },
    {
      "cell_type": "code",
      "source": [
        "embedding = bert_model(tokenized_text['input_ids'], tokenized_text['attention_mask'])"
      ],
      "metadata": {
        "id": "BTwQc-fwH7uw"
      },
      "id": "BTwQc-fwH7uw",
      "execution_count": null,
      "outputs": []
    },
    {
      "cell_type": "code",
      "source": [
        "embedding[1]"
      ],
      "metadata": {
        "id": "LdMfcqUwJKnC",
        "colab": {
          "base_uri": "https://localhost:8080/"
        },
        "outputId": "fc8988f2-335d-4ca3-804c-e96416dccdd2"
      },
      "id": "LdMfcqUwJKnC",
      "execution_count": null,
      "outputs": [
        {
          "output_type": "execute_result",
          "data": {
            "text/plain": [
              "<tf.Tensor: shape=(1, 768), dtype=float32, numpy=\n",
              "array([[-0.03088559,  0.2156627 ,  0.11957612,  0.49213192,  0.05201529,\n",
              "         0.34972855,  0.42435437, -0.37914008,  0.19209154, -0.1504185 ,\n",
              "         0.02766212,  0.12081306,  0.35141075,  0.36784577, -0.28230745,\n",
              "        -0.21136528,  0.28646222,  0.35127068,  0.007324  , -0.22558588,\n",
              "        -0.33022505,  0.40504393, -0.6886663 , -0.55175245, -0.23841529,\n",
              "         0.594468  ,  0.1067994 , -0.29586318, -0.10711205,  0.6650996 ,\n",
              "         0.15773094,  0.45078236, -0.26493812,  0.02361797,  0.12500265,\n",
              "        -0.14952464,  0.43115446,  0.21771319,  0.49791968,  0.3430215 ,\n",
              "         0.09989336, -0.14982876, -0.15393297,  0.16117287,  0.28732738,\n",
              "        -0.21451896,  0.22497997, -0.03859591, -0.21052313,  0.4357992 ,\n",
              "         0.5937107 , -0.16921178, -0.01038711,  0.06889085,  0.1716268 ,\n",
              "         0.10858746,  0.3332365 , -0.3273423 , -0.26082313, -0.5411651 ,\n",
              "        -0.0368453 ,  0.6417673 ,  0.4410404 ,  0.31204945,  0.33178404,\n",
              "        -0.52669686,  0.07589738, -0.09662575, -0.6197225 ,  0.20774001,\n",
              "         0.0225959 , -0.32308367,  0.34899294,  0.07319445,  0.16208605,\n",
              "         0.01894699,  0.37330043,  0.14948197,  0.37262633,  0.31044018,\n",
              "         0.28652143, -0.3245582 ,  0.11047882, -0.23459025,  0.09144614,\n",
              "         0.63177425, -0.40276182,  0.7719848 ,  0.3306888 ,  0.27915257,\n",
              "        -0.2036834 ,  0.01846489, -0.30627275,  0.2766841 , -0.3774827 ,\n",
              "         0.3352757 , -0.3041745 , -0.59497   ,  0.08030401, -0.0084012 ,\n",
              "        -0.32649946, -0.3597627 ,  0.23281367, -0.46845564, -0.16480094,\n",
              "        -0.74436617,  0.5265164 ,  0.50220966, -0.1829204 ,  0.3683595 ,\n",
              "         0.20090511,  0.14883338,  0.33632594, -0.6596048 ,  0.11419165,\n",
              "         0.3495662 ,  0.5496227 ,  0.11558788, -0.0202307 , -0.26896167,\n",
              "        -0.24212138,  0.5735335 , -0.32918352, -0.13210191,  0.3529404 ,\n",
              "         0.13042928, -0.2588339 ,  0.6245952 ,  0.32732818, -0.01015569,\n",
              "         0.45024937, -0.33742473,  0.2720836 , -0.5777834 , -0.01146201,\n",
              "        -0.27544582,  0.51129794, -0.39152697, -0.01079575, -0.5485424 ,\n",
              "         0.38089994, -0.08835232, -0.22741692,  0.3900951 , -0.1806484 ,\n",
              "         0.4754534 ,  0.47644135,  0.08189597, -0.31262773,  0.06026443,\n",
              "         0.63910973, -0.3446771 ,  0.20356181, -0.22476271,  0.1123111 ,\n",
              "         0.49991658, -0.05907433,  0.27098203, -0.17675911,  0.20324865,\n",
              "        -0.14734986,  0.30235496, -0.2006701 , -0.33462012, -0.47539318,\n",
              "         0.23348945,  0.21181847,  0.73139423, -0.06541543,  0.23261578,\n",
              "        -0.26000166,  0.09614836,  0.4828641 , -0.1414671 , -0.19264835,\n",
              "        -0.56793094, -0.12468378, -0.32655406,  0.32002494, -0.08649951,\n",
              "        -0.33278692, -0.26915509,  0.71263075,  0.32746187, -0.23029044,\n",
              "         0.02486152, -0.24938697, -0.4054505 , -0.05546319, -0.09720626,\n",
              "        -0.3625477 , -0.15427455,  0.2536029 , -0.53181994, -0.19606681,\n",
              "        -0.39976603, -0.10211341, -0.21943219, -0.3915504 ,  0.4781035 ,\n",
              "         0.34455416,  0.13049325, -0.41240183, -0.18692529,  0.07395134,\n",
              "         0.02081384, -0.2607315 ,  0.35868382, -0.03805016,  0.18005113,\n",
              "         0.01819837,  0.30362508, -0.03947882, -0.63896304, -0.41677263,\n",
              "         0.20985703, -0.7513754 ,  0.3803781 , -0.24982832,  0.29110107,\n",
              "        -0.51396656,  0.38464037, -0.07842365, -0.52799034,  0.32370612,\n",
              "         0.58392614,  0.5945581 , -0.5320425 ,  0.20224777, -0.07789478,\n",
              "         0.66036004, -0.03952176, -0.22262992, -0.15838894, -0.04106065,\n",
              "        -0.477815  ,  0.36561486,  0.34971452, -0.5020312 ,  0.5403046 ,\n",
              "        -0.24238707,  0.09337674,  0.3048664 ,  0.07498816,  0.01254408,\n",
              "        -0.431021  ,  0.34449682, -0.47558403,  0.26432183, -0.02528068,\n",
              "        -0.7393084 , -0.27600363,  0.08857128,  0.6454692 , -0.35686132,\n",
              "        -0.4244022 , -0.03933368,  0.4322789 , -0.5076764 , -0.18546076,\n",
              "         0.10842506,  0.02801052, -0.05501435, -0.5904648 , -0.46963713,\n",
              "         0.07509325, -0.01814204,  0.14193612, -0.20648962, -0.14109206,\n",
              "         0.46939373,  0.0264157 ,  0.29316995,  0.05140333, -0.3595581 ,\n",
              "        -0.03561356,  0.11479606, -0.5684965 ,  0.27248654,  0.14871223,\n",
              "         0.7487168 , -0.39487827,  0.36777908, -0.25055298,  0.17628941,\n",
              "        -0.05699423,  0.4152056 ,  0.11921106, -0.19893825,  0.47552022,\n",
              "        -0.5111548 , -0.17056866,  0.15212645,  0.17726803, -0.30542818,\n",
              "         0.27013695, -0.22583956, -0.74858934,  0.21436742, -0.11996344,\n",
              "        -0.75990385, -0.7789613 , -0.34802943, -0.31969753,  0.5665521 ,\n",
              "         0.2430268 , -0.53277975, -0.01373997, -0.1514632 ,  0.038434  ,\n",
              "         0.4897766 ,  0.24906138,  0.14802477,  0.05709786, -0.5375411 ,\n",
              "         0.3440082 , -0.5283735 , -0.02193048, -0.13965717,  0.30015147,\n",
              "         0.16649142,  0.17310172,  0.05520982,  0.69306284,  0.03775742,\n",
              "        -0.1635441 , -0.41769755, -0.08528587, -0.05478751,  0.07479354,\n",
              "         0.4350128 , -0.08352516, -0.40220225, -0.30739832,  0.14954892,\n",
              "         0.30169594,  0.5331744 ,  0.26420596, -0.32957822, -0.05721789,\n",
              "        -0.0943908 , -0.48146945, -0.54711485,  0.32783398, -0.5589825 ,\n",
              "        -0.43709   ,  0.23020814,  0.05180201, -0.4160991 , -0.07716845,\n",
              "        -0.48719394,  0.45684794, -0.05117239, -0.47781804, -0.1531624 ,\n",
              "         0.22518393,  0.54368824,  0.0235212 ,  0.21583468,  0.16097473,\n",
              "         0.00849254,  0.01124711,  0.19161098,  0.0677526 ,  0.13539867,\n",
              "        -0.57964975, -0.04420585, -0.2525227 ,  0.58211786,  0.11684249,\n",
              "         0.10218379,  0.10213815,  0.16411568, -0.30683494,  0.25381353,\n",
              "        -0.01520233, -0.36072704,  0.4187133 , -0.20549665, -0.1842438 ,\n",
              "         0.48997736,  0.1823322 , -0.0917173 , -0.03676838,  0.09446578,\n",
              "         0.32964018,  0.55985713, -0.0178494 ,  0.6280478 , -0.15336484,\n",
              "         0.5711848 ,  0.16455267, -0.23083164, -0.25232148,  0.0613653 ,\n",
              "        -0.61460257,  0.5453902 , -0.46181408,  0.3520873 , -0.04186955,\n",
              "        -0.37079006, -0.44312626,  0.63654816,  0.4187118 ,  0.43040702,\n",
              "         0.22155048,  0.07093286,  0.5497648 , -0.6625089 ,  0.32455635,\n",
              "         0.36551303,  0.12285914,  0.1052624 , -0.37919146, -0.1985934 ,\n",
              "        -0.1837915 , -0.01035133, -0.1808448 , -0.28937188, -0.13967876,\n",
              "         0.32621574, -0.575166  ,  0.23699085,  0.70511234,  0.66727656,\n",
              "        -0.15123922,  0.09123289, -0.12361684, -0.21019736, -0.68056035,\n",
              "         0.07232439, -0.11727557, -0.46046153,  0.10422487, -0.15006314,\n",
              "        -0.52034754,  0.06093721,  0.18234406,  0.05436199,  0.06650199,\n",
              "        -0.16805108,  0.1807252 ,  0.44201985, -0.24226077, -0.11474492,\n",
              "        -0.24448825,  0.16378464,  0.35425493, -0.17544767,  0.05949082,\n",
              "         0.31731853, -0.36455822,  0.56561244,  0.18476509,  0.6389115 ,\n",
              "         0.33649558,  0.06365065,  0.23897777,  0.15779766, -0.3855913 ,\n",
              "         0.27663147, -0.4121568 , -0.15520023,  0.02407152, -0.48278093,\n",
              "         0.23446022, -0.25750196, -0.7152327 ,  0.2074213 ,  0.39920568,\n",
              "        -0.23403385, -0.44736913, -0.00171146,  0.06303469, -0.4533974 ,\n",
              "        -0.11124369,  0.20444706, -0.13366549,  0.02632755,  0.2196783 ,\n",
              "         0.19913515, -0.01861917, -0.36149347,  0.33662316, -0.36085433,\n",
              "         0.645466  , -0.03320342,  0.02621689, -0.18512635, -0.42798254,\n",
              "        -0.16336268, -0.01813948,  0.20579493,  0.6388255 , -0.15581036,\n",
              "         0.2831858 ,  0.2051806 , -0.3445094 , -0.4406363 , -0.6140346 ,\n",
              "        -0.14427692,  0.10664062, -0.36860618,  0.21806823,  0.4266378 ,\n",
              "        -0.09341374, -0.09313232, -0.09146333,  0.16192316, -0.04186259,\n",
              "         0.3186796 ,  0.13084824, -0.6021684 , -0.3400802 , -0.06136962,\n",
              "        -0.23881234,  0.52523893,  0.3766069 ,  0.04912341,  0.19248568,\n",
              "         0.5792989 , -0.35376763, -0.03976488,  0.22060068, -0.16959065,\n",
              "        -0.16635673, -0.25560024, -0.05315173,  0.48252437,  0.1454524 ,\n",
              "        -0.384959  , -0.5066151 ,  0.32573062,  0.27289036, -0.20473514,\n",
              "        -0.2282478 ,  0.6497119 ,  0.20375235, -0.08811554,  0.21094105,\n",
              "         0.43404818, -0.02038992,  0.3358917 ,  0.3105182 ,  0.75053334,\n",
              "         0.15791932, -0.11418846,  0.2650345 , -0.49826026, -0.3687685 ,\n",
              "        -0.34006312,  0.6654747 ,  0.09438841,  0.35341838,  0.16742152,\n",
              "         0.10823322,  0.182794  ,  0.27188924, -0.30923715, -0.27569786,\n",
              "         0.14901182,  0.4703704 , -0.00809821, -0.3185847 , -0.17160843,\n",
              "         0.4429304 ,  0.21491432, -0.4437965 , -0.41135684,  0.4435897 ,\n",
              "         0.02046907, -0.06994011, -0.26705286,  0.2783529 ,  0.21622923,\n",
              "         0.3374903 , -0.4112662 , -0.5085295 ,  0.34680396, -0.3460451 ,\n",
              "        -0.17379932, -0.03033608,  0.75960267,  0.18327126, -0.06474773,\n",
              "         0.03541158, -0.03755403, -0.48439297, -0.4512616 ,  0.11799354,\n",
              "        -0.74104655,  0.12609167,  0.49207312, -0.11757443, -0.2442215 ,\n",
              "        -0.31569496,  0.0480673 , -0.47566706,  0.20967977, -0.16135204,\n",
              "        -0.4466601 ,  0.24185973, -0.3497884 , -0.09084873, -0.29071268,\n",
              "        -0.17099719,  0.31065542,  0.71725345, -0.48976535, -0.2397626 ,\n",
              "        -0.57417804,  0.16439117, -0.13173799, -0.0085343 , -0.60427165,\n",
              "        -0.7166965 , -0.01458675,  0.14791211,  0.5881841 , -0.19246808,\n",
              "         0.15236573,  0.08390094,  0.09877554, -0.30106172,  0.78789485,\n",
              "         0.47169587, -0.28822473, -0.33917558, -0.55181605, -0.25781208,\n",
              "        -0.391423  , -0.33499295, -0.08304909, -0.3815356 , -0.09551116,\n",
              "        -0.13984977,  0.797286  , -0.32000187, -0.34935334,  0.00915575,\n",
              "        -0.0497071 , -0.06047228,  0.04891879,  0.02969872, -0.21310414,\n",
              "        -0.18966976,  0.31103826,  0.0710063 , -0.02372952, -0.37951374,\n",
              "        -0.29135814, -0.5848543 ,  0.01497222,  0.13801001, -0.19877811,\n",
              "        -0.41586575,  0.56108266,  0.07223278,  0.1751316 , -0.5423991 ,\n",
              "         0.43677926, -0.40358892,  0.21111792, -0.29039863, -0.01597446,\n",
              "        -0.29937506, -0.1950004 , -0.08313843,  0.153553  , -0.02859847,\n",
              "         0.39998168, -0.13897471,  0.45064127,  0.10422846, -0.01167276,\n",
              "         0.20604104,  0.5309617 ,  0.09593376, -0.6715771 , -0.19157082,\n",
              "        -0.76411915,  0.05390467, -0.00086633,  0.41415107, -0.64086246,\n",
              "        -0.06535972,  0.40144473,  0.05926665, -0.21308793,  0.2694757 ,\n",
              "        -0.38244122,  0.60835403,  0.4928457 ,  0.2778604 , -0.0258866 ,\n",
              "         0.36240563,  0.62428904,  0.11774416, -0.12204083, -0.6611455 ,\n",
              "        -0.01473487,  0.21553056,  0.20284587, -0.17641278,  0.2008055 ,\n",
              "        -0.6053961 , -0.33844364,  0.3986441 , -0.47276777, -0.11744038,\n",
              "         0.3277334 , -0.07342698,  0.30992103, -0.5698409 , -0.43397114,\n",
              "        -0.3612518 , -0.19025947,  0.19379373, -0.4675444 ,  0.09139093,\n",
              "        -0.45950657, -0.14725284, -0.02852075, -0.0117943 , -0.25649896,\n",
              "        -0.20296752, -0.3840626 ,  0.2696636 , -0.1299295 , -0.20345563,\n",
              "         0.10672656, -0.09099057,  0.04139583, -0.31624117, -0.09977026,\n",
              "        -0.29056528, -0.3521942 , -0.22031514, -0.07985574, -0.2318124 ,\n",
              "         0.28020892, -0.4035765 , -0.00908361, -0.07283003,  0.12753266,\n",
              "        -0.24759687,  0.8091463 ,  0.02452777, -0.17002076, -0.4990803 ,\n",
              "         0.25860643, -0.01545192, -0.48914033, -0.12442948, -0.16545546,\n",
              "        -0.17519134,  0.3529417 ,  0.5504428 ,  0.5441156 , -0.54575384,\n",
              "        -0.11218549,  0.63689494, -0.24312268,  0.51376486, -0.3783619 ,\n",
              "        -0.00924615, -0.14529788,  0.12978934]], dtype=float32)>"
            ]
          },
          "metadata": {},
          "execution_count": 21
        }
      ]
    },
    {
      "cell_type": "markdown",
      "source": [
        "## Используем BertForSequenceClassification"
      ],
      "metadata": {
        "id": "K0h4jW_AiWTY"
      },
      "id": "K0h4jW_AiWTY"
    },
    {
      "cell_type": "code",
      "source": [
        "# если только сделали\n",
        "X_train = np.load(\"X_train.npy\")\n",
        "X_val = np.load(\"X_val.npy\")\n",
        "y_train = np.float32(np.load(\"y_train.npy\").flatten()[:, None])\n",
        "y_val = np.float32(np.load(\"y_val.npy\").flatten()[:, None])"
      ],
      "metadata": {
        "id": "-OeebBY9xAve"
      },
      "id": "-OeebBY9xAve",
      "execution_count": 76,
      "outputs": []
    },
    {
      "cell_type": "code",
      "source": [
        "X_train = {'input_ids': X_train[0], 'attention_mask': X_train[1]}\n",
        "X_val = {'input_ids': X_val[0], 'attention_mask': X_val[1]}"
      ],
      "metadata": {
        "id": "EtUjs6AvxpIK"
      },
      "id": "EtUjs6AvxpIK",
      "execution_count": 77,
      "outputs": []
    },
    {
      "cell_type": "code",
      "source": [
        "import torch\n",
        "import torch.nn as nn\n",
        "from transformers import RobertaTokenizer, RobertaModel\n",
        "from torcheval.metrics import BinaryAccuracy\n",
        "import pandas as pd\n",
        "\n",
        "# Установка устройства (CPU или GPU)\n",
        "device = torch.device(\"cuda\" if torch.cuda.is_available() else \"cpu\")"
      ],
      "metadata": {
        "id": "l54UBD90WQ-1"
      },
      "id": "l54UBD90WQ-1",
      "execution_count": 74,
      "outputs": []
    },
    {
      "cell_type": "code",
      "source": [
        "tokenizer = RobertaTokenizer.from_pretrained(model_name)\n",
        "model = RobertaModel.from_pretrained(model_name).to(device)"
      ],
      "metadata": {
        "colab": {
          "base_uri": "https://localhost:8080/"
        },
        "id": "AkXjtXXqfGto",
        "outputId": "a1c5350d-0821-4f13-8b53-2384b4dad323"
      },
      "id": "AkXjtXXqfGto",
      "execution_count": 65,
      "outputs": [
        {
          "output_type": "stream",
          "name": "stderr",
          "text": [
            "/usr/local/lib/python3.10/dist-packages/huggingface_hub/file_download.py:795: FutureWarning: `resume_download` is deprecated and will be removed in version 1.0.0. Downloads always resume when possible. If you want to force a new download, use `force_download=True`.\n",
            "  warnings.warn(\n",
            "Some weights of RobertaModel were not initialized from the model checkpoint at FacebookAI/roberta-base and are newly initialized: ['roberta.pooler.dense.bias', 'roberta.pooler.dense.weight']\n",
            "You should probably TRAIN this model on a down-stream task to be able to use it for predictions and inference.\n"
          ]
        }
      ]
    },
    {
      "cell_type": "code",
      "source": [
        "print(model)"
      ],
      "metadata": {
        "colab": {
          "base_uri": "https://localhost:8080/"
        },
        "id": "3C0LXeIDM19N",
        "outputId": "10b630bc-104c-4fc9-e7be-4968be460f0d"
      },
      "id": "3C0LXeIDM19N",
      "execution_count": 66,
      "outputs": [
        {
          "output_type": "stream",
          "name": "stdout",
          "text": [
            "RobertaModel(\n",
            "  (embeddings): RobertaEmbeddings(\n",
            "    (word_embeddings): Embedding(50265, 768, padding_idx=1)\n",
            "    (position_embeddings): Embedding(514, 768, padding_idx=1)\n",
            "    (token_type_embeddings): Embedding(1, 768)\n",
            "    (LayerNorm): LayerNorm((768,), eps=1e-05, elementwise_affine=True)\n",
            "    (dropout): Dropout(p=0.1, inplace=False)\n",
            "  )\n",
            "  (encoder): RobertaEncoder(\n",
            "    (layer): ModuleList(\n",
            "      (0-11): 12 x RobertaLayer(\n",
            "        (attention): RobertaAttention(\n",
            "          (self): RobertaSelfAttention(\n",
            "            (query): Linear(in_features=768, out_features=768, bias=True)\n",
            "            (key): Linear(in_features=768, out_features=768, bias=True)\n",
            "            (value): Linear(in_features=768, out_features=768, bias=True)\n",
            "            (dropout): Dropout(p=0.1, inplace=False)\n",
            "          )\n",
            "          (output): RobertaSelfOutput(\n",
            "            (dense): Linear(in_features=768, out_features=768, bias=True)\n",
            "            (LayerNorm): LayerNorm((768,), eps=1e-05, elementwise_affine=True)\n",
            "            (dropout): Dropout(p=0.1, inplace=False)\n",
            "          )\n",
            "        )\n",
            "        (intermediate): RobertaIntermediate(\n",
            "          (dense): Linear(in_features=768, out_features=3072, bias=True)\n",
            "          (intermediate_act_fn): GELUActivation()\n",
            "        )\n",
            "        (output): RobertaOutput(\n",
            "          (dense): Linear(in_features=3072, out_features=768, bias=True)\n",
            "          (LayerNorm): LayerNorm((768,), eps=1e-05, elementwise_affine=True)\n",
            "          (dropout): Dropout(p=0.1, inplace=False)\n",
            "        )\n",
            "      )\n",
            "    )\n",
            "  )\n",
            "  (pooler): RobertaPooler(\n",
            "    (dense): Linear(in_features=768, out_features=768, bias=True)\n",
            "    (activation): Tanh()\n",
            "  )\n",
            ")\n"
          ]
        }
      ]
    },
    {
      "cell_type": "code",
      "source": [
        "# Создание классификатора\n",
        "class Classifier(nn.Module):\n",
        "    def __init__(self):\n",
        "        super().__init__()\n",
        "        self.roberta = model\n",
        "        self.fc1 = nn.Linear(768, 64)\n",
        "        self.fc2 = nn.Linear(64, 32)\n",
        "        self.fc3 = nn.Linear(32, 1)\n",
        "\n",
        "        self.sigmoid = nn.Sigmoid()\n",
        "\n",
        "    def forward(self, input_ids, attention_mask):\n",
        "        outputs = self.roberta(input_ids=input_ids, attention_mask=attention_mask)\n",
        "        last_hidden_state = outputs.last_hidden_state\n",
        "        cls_output = last_hidden_state[:, 0, :]\n",
        "        x = self.fc1(cls_output)\n",
        "        x = self.fc2(x)\n",
        "        x = self.fc3(x)\n",
        "        x = self.sigmoid(x)\n",
        "        return x"
      ],
      "metadata": {
        "id": "92i3RZQXWjWO"
      },
      "id": "92i3RZQXWjWO",
      "execution_count": 67,
      "outputs": []
    },
    {
      "cell_type": "code",
      "source": [
        "classifier = Classifier().to(device)"
      ],
      "metadata": {
        "id": "6qfTLWm53WBw"
      },
      "id": "6qfTLWm53WBw",
      "execution_count": 68,
      "outputs": []
    },
    {
      "cell_type": "code",
      "source": [
        "layers = [child for child in classifier.children()]\n",
        "\n",
        "for param in layers[0].parameters():\n",
        "    param.requires_grad = False"
      ],
      "metadata": {
        "id": "mDNSc72Tz5aA"
      },
      "id": "mDNSc72Tz5aA",
      "execution_count": 69,
      "outputs": []
    },
    {
      "cell_type": "code",
      "source": [
        "from sklearn.metrics import accuracy_score\n",
        "from IPython.display import clear_output\n",
        "\n",
        "# Инициализация модели и оптимизатора\n",
        "optimizer = torch.optim.SGD(classifier.parameters(), lr=0.1)\n",
        "\n",
        "# Функция потерь и обучение\n",
        "criterion = nn.BCELoss()\n",
        "metric = BinaryAccuracy()\n",
        "\n",
        "train_loss = []\n",
        "train_acc = []\n",
        "val_loss = []\n",
        "val_acc = []\n",
        "\n",
        "train_loss_cum = 0\n",
        "\n",
        "num_epochs = 5\n",
        "BATCH_SIZE = 16\n",
        "\n",
        "val_ids = torch.tensor(X_val['input_ids'][:100]).to(device)\n",
        "val_mask = torch.tensor(X_val['attention_mask'][:100]).to(device)\n",
        "y_val = torch.tensor(y_val[:100]).to(device)\n",
        "\n",
        "for epoch in range(num_epochs):\n",
        "    for i, start in enumerate(range(0, y_train.shape[0], BATCH_SIZE)):\n",
        "        idx = np.random.choice(np.arange(y_train.shape[0]), size=y_train.shape[0])\n",
        "        stop = start + BATCH_SIZE\n",
        "\n",
        "        input_ids = torch.tensor(\n",
        "            X_train['input_ids'][idx][start:stop]\n",
        "        ).to(device)\n",
        "        attention_mask = torch.tensor(\n",
        "            X_train['attention_mask'][idx][start:stop]\n",
        "        ).to(device)\n",
        "        label = torch.tensor(y_train[idx][start:stop]).to(device)\n",
        "\n",
        "        output = classifier(input_ids, attention_mask)\n",
        "        loss = criterion(output, label)\n",
        "\n",
        "        optimizer.zero_grad()\n",
        "        loss.backward()\n",
        "        optimizer.step()\n",
        "\n",
        "        train_loss.append(loss.item())\n",
        "        train_loss_cum += loss.item()\n",
        "        metric.update(output[:, 0], label[:, 0])\n",
        "        train_acc.append(metric.compute())\n",
        "\n",
        "        if i % 50 == 0:\n",
        "            with torch.no_grad():\n",
        "                output = classifier(val_ids, val_mask)\n",
        "                loss = criterion(output.cpu(), y_val.cpu())\n",
        "                val_loss.append(loss)\n",
        "                val_acc.append(accuracy_score(np.array(y_val.cpu()), np.where(output.cpu() > 0.5, 1, 0)))\n",
        "\n",
        "            clear_output(True)\n",
        "            fig, ax = plt.subplots(1, 4, figsize=(18, 6))\n",
        "            ax[0].plot(np.cumsum(train_loss) / (np.arange(len(train_loss)) + 1))\n",
        "            ax[2].plot(np.cumsum(val_loss) / (np.arange(len(val_loss)) + 1))\n",
        "            ax[0].set_title(\"Training loss\")\n",
        "            ax[0].set_xlabel(\"Batch\")\n",
        "            ax[0].set_ylabel(\"Loss\")\n",
        "            ax[0].grid(True)\n",
        "            ax[1].plot(train_acc, c = 'tab:orange')\n",
        "            ax[3].plot(np.cumsum(val_acc) / (np.arange(len(val_acc)) + 1))\n",
        "            ax[1].set_title(\"Accuracy\")\n",
        "            ax[1].set_xlabel(\"Batch\")\n",
        "            ax[1].set_ylabel(\"Loss\")\n",
        "            ax[1].grid(True)\n",
        "            plt.legend()\n",
        "            plt.show()\n",
        "\n",
        "\n",
        "print(\"Loss на обучающей выборке: {0:.5f}\".format(train_loss_cum / 32 * num_epochs))"
      ],
      "metadata": {
        "id": "XLvLW8KmWlML",
        "colab": {
          "base_uri": "https://localhost:8080/",
          "height": 601
        },
        "outputId": "bf827f3c-2e77-40c7-d020-d4da2bcfb6ff"
      },
      "id": "XLvLW8KmWlML",
      "execution_count": 80,
      "outputs": [
        {
          "output_type": "stream",
          "name": "stderr",
          "text": [
            "WARNING:matplotlib.legend:No artists with labels found to put in legend.  Note that artists whose label start with an underscore are ignored when legend() is called with no argument.\n"
          ]
        },
        {
          "output_type": "display_data",
          "data": {
            "text/plain": [
              "<Figure size 1800x600 with 4 Axes>"
            ],
            "image/svg+xml": "<?xml version=\"1.0\" encoding=\"utf-8\" standalone=\"no\"?>\n<!DOCTYPE svg PUBLIC \"-//W3C//DTD SVG 1.1//EN\"\n  \"http://www.w3.org/Graphics/SVG/1.1/DTD/svg11.dtd\">\n<svg xmlns:xlink=\"http://www.w3.org/1999/xlink\" width=\"1061.74375pt\" height=\"392.514375pt\" viewBox=\"0 0 1061.74375 392.514375\" xmlns=\"http://www.w3.org/2000/svg\" version=\"1.1\">\n <metadata>\n  <rdf:RDF xmlns:dc=\"http://purl.org/dc/elements/1.1/\" xmlns:cc=\"http://creativecommons.org/ns#\" xmlns:rdf=\"http://www.w3.org/1999/02/22-rdf-syntax-ns#\">\n   <cc:Work>\n    <dc:type rdf:resource=\"http://purl.org/dc/dcmitype/StillImage\"/>\n    <dc:date>2024-12-28T15:38:11.477211</dc:date>\n    <dc:format>image/svg+xml</dc:format>\n    <dc:creator>\n     <cc:Agent>\n      <dc:title>Matplotlib v3.8.0, https://matplotlib.org/</dc:title>\n     </cc:Agent>\n    </dc:creator>\n   </cc:Work>\n  </rdf:RDF>\n </metadata>\n <defs>\n  <style type=\"text/css\">*{stroke-linejoin: round; stroke-linecap: butt}</style>\n </defs>\n <g id=\"figure_1\">\n  <g id=\"patch_1\">\n   <path d=\"M 0 392.514375 \nL 1061.74375 392.514375 \nL 1061.74375 0 \nL 0 0 \nz\n\" style=\"fill: #ffffff\"/>\n  </g>\n  <g id=\"axes_1\">\n   <g id=\"patch_2\">\n    <path d=\"M 50.14375 354.958125 \nL 268.491576 354.958125 \nL 268.491576 22.318125 \nL 50.14375 22.318125 \nz\n\" style=\"fill: #ffffff\"/>\n   </g>\n   <g id=\"matplotlib.axis_1\">\n    <g id=\"xtick_1\">\n     <g id=\"line2d_1\">\n      <path d=\"M 60.068651 354.958125 \nL 60.068651 22.318125 \n\" clip-path=\"url(#p29a21ef951)\" style=\"fill: none; stroke: #b0b0b0; stroke-width: 0.8; stroke-linecap: square\"/>\n     </g>\n     <g id=\"line2d_2\">\n      <defs>\n       <path id=\"ma98e8a8062\" d=\"M 0 0 \nL 0 3.5 \n\" style=\"stroke: #000000; stroke-width: 0.8\"/>\n      </defs>\n      <g>\n       <use xlink:href=\"#ma98e8a8062\" x=\"60.068651\" y=\"354.958125\" style=\"stroke: #000000; stroke-width: 0.8\"/>\n      </g>\n     </g>\n     <g id=\"text_1\">\n      <!-- 0 -->\n      <g transform=\"translate(56.887401 369.556562) scale(0.1 -0.1)\">\n       <defs>\n        <path id=\"DejaVuSans-30\" d=\"M 2034 4250 \nQ 1547 4250 1301 3770 \nQ 1056 3291 1056 2328 \nQ 1056 1369 1301 889 \nQ 1547 409 2034 409 \nQ 2525 409 2770 889 \nQ 3016 1369 3016 2328 \nQ 3016 3291 2770 3770 \nQ 2525 4250 2034 4250 \nz\nM 2034 4750 \nQ 2819 4750 3233 4129 \nQ 3647 3509 3647 2328 \nQ 3647 1150 3233 529 \nQ 2819 -91 2034 -91 \nQ 1250 -91 836 529 \nQ 422 1150 422 2328 \nQ 422 3509 836 4129 \nQ 1250 4750 2034 4750 \nz\n\" transform=\"scale(0.015625)\"/>\n       </defs>\n       <use xlink:href=\"#DejaVuSans-30\"/>\n      </g>\n     </g>\n    </g>\n    <g id=\"xtick_2\">\n     <g id=\"line2d_3\">\n      <path d=\"M 91.31834 354.958125 \nL 91.31834 22.318125 \n\" clip-path=\"url(#p29a21ef951)\" style=\"fill: none; stroke: #b0b0b0; stroke-width: 0.8; stroke-linecap: square\"/>\n     </g>\n     <g id=\"line2d_4\">\n      <g>\n       <use xlink:href=\"#ma98e8a8062\" x=\"91.31834\" y=\"354.958125\" style=\"stroke: #000000; stroke-width: 0.8\"/>\n      </g>\n     </g>\n     <g id=\"text_2\">\n      <!-- 250 -->\n      <g transform=\"translate(81.77459 369.556562) scale(0.1 -0.1)\">\n       <defs>\n        <path id=\"DejaVuSans-32\" d=\"M 1228 531 \nL 3431 531 \nL 3431 0 \nL 469 0 \nL 469 531 \nQ 828 903 1448 1529 \nQ 2069 2156 2228 2338 \nQ 2531 2678 2651 2914 \nQ 2772 3150 2772 3378 \nQ 2772 3750 2511 3984 \nQ 2250 4219 1831 4219 \nQ 1534 4219 1204 4116 \nQ 875 4013 500 3803 \nL 500 4441 \nQ 881 4594 1212 4672 \nQ 1544 4750 1819 4750 \nQ 2544 4750 2975 4387 \nQ 3406 4025 3406 3419 \nQ 3406 3131 3298 2873 \nQ 3191 2616 2906 2266 \nQ 2828 2175 2409 1742 \nQ 1991 1309 1228 531 \nz\n\" transform=\"scale(0.015625)\"/>\n        <path id=\"DejaVuSans-35\" d=\"M 691 4666 \nL 3169 4666 \nL 3169 4134 \nL 1269 4134 \nL 1269 2991 \nQ 1406 3038 1543 3061 \nQ 1681 3084 1819 3084 \nQ 2600 3084 3056 2656 \nQ 3513 2228 3513 1497 \nQ 3513 744 3044 326 \nQ 2575 -91 1722 -91 \nQ 1428 -91 1123 -41 \nQ 819 9 494 109 \nL 494 744 \nQ 775 591 1075 516 \nQ 1375 441 1709 441 \nQ 2250 441 2565 725 \nQ 2881 1009 2881 1497 \nQ 2881 1984 2565 2268 \nQ 2250 2553 1709 2553 \nQ 1456 2553 1204 2497 \nQ 953 2441 691 2322 \nL 691 4666 \nz\n\" transform=\"scale(0.015625)\"/>\n       </defs>\n       <use xlink:href=\"#DejaVuSans-32\"/>\n       <use xlink:href=\"#DejaVuSans-35\" x=\"63.623047\"/>\n       <use xlink:href=\"#DejaVuSans-30\" x=\"127.246094\"/>\n      </g>\n     </g>\n    </g>\n    <g id=\"xtick_3\">\n     <g id=\"line2d_5\">\n      <path d=\"M 122.568029 354.958125 \nL 122.568029 22.318125 \n\" clip-path=\"url(#p29a21ef951)\" style=\"fill: none; stroke: #b0b0b0; stroke-width: 0.8; stroke-linecap: square\"/>\n     </g>\n     <g id=\"line2d_6\">\n      <g>\n       <use xlink:href=\"#ma98e8a8062\" x=\"122.568029\" y=\"354.958125\" style=\"stroke: #000000; stroke-width: 0.8\"/>\n      </g>\n     </g>\n     <g id=\"text_3\">\n      <!-- 500 -->\n      <g transform=\"translate(113.024279 369.556562) scale(0.1 -0.1)\">\n       <use xlink:href=\"#DejaVuSans-35\"/>\n       <use xlink:href=\"#DejaVuSans-30\" x=\"63.623047\"/>\n       <use xlink:href=\"#DejaVuSans-30\" x=\"127.246094\"/>\n      </g>\n     </g>\n    </g>\n    <g id=\"xtick_4\">\n     <g id=\"line2d_7\">\n      <path d=\"M 153.817718 354.958125 \nL 153.817718 22.318125 \n\" clip-path=\"url(#p29a21ef951)\" style=\"fill: none; stroke: #b0b0b0; stroke-width: 0.8; stroke-linecap: square\"/>\n     </g>\n     <g id=\"line2d_8\">\n      <g>\n       <use xlink:href=\"#ma98e8a8062\" x=\"153.817718\" y=\"354.958125\" style=\"stroke: #000000; stroke-width: 0.8\"/>\n      </g>\n     </g>\n     <g id=\"text_4\">\n      <!-- 750 -->\n      <g transform=\"translate(144.273968 369.556562) scale(0.1 -0.1)\">\n       <defs>\n        <path id=\"DejaVuSans-37\" d=\"M 525 4666 \nL 3525 4666 \nL 3525 4397 \nL 1831 0 \nL 1172 0 \nL 2766 4134 \nL 525 4134 \nL 525 4666 \nz\n\" transform=\"scale(0.015625)\"/>\n       </defs>\n       <use xlink:href=\"#DejaVuSans-37\"/>\n       <use xlink:href=\"#DejaVuSans-35\" x=\"63.623047\"/>\n       <use xlink:href=\"#DejaVuSans-30\" x=\"127.246094\"/>\n      </g>\n     </g>\n    </g>\n    <g id=\"xtick_5\">\n     <g id=\"line2d_9\">\n      <path d=\"M 185.067407 354.958125 \nL 185.067407 22.318125 \n\" clip-path=\"url(#p29a21ef951)\" style=\"fill: none; stroke: #b0b0b0; stroke-width: 0.8; stroke-linecap: square\"/>\n     </g>\n     <g id=\"line2d_10\">\n      <g>\n       <use xlink:href=\"#ma98e8a8062\" x=\"185.067407\" y=\"354.958125\" style=\"stroke: #000000; stroke-width: 0.8\"/>\n      </g>\n     </g>\n     <g id=\"text_5\">\n      <!-- 1000 -->\n      <g transform=\"translate(172.342407 369.556562) scale(0.1 -0.1)\">\n       <defs>\n        <path id=\"DejaVuSans-31\" d=\"M 794 531 \nL 1825 531 \nL 1825 4091 \nL 703 3866 \nL 703 4441 \nL 1819 4666 \nL 2450 4666 \nL 2450 531 \nL 3481 531 \nL 3481 0 \nL 794 0 \nL 794 531 \nz\n\" transform=\"scale(0.015625)\"/>\n       </defs>\n       <use xlink:href=\"#DejaVuSans-31\"/>\n       <use xlink:href=\"#DejaVuSans-30\" x=\"63.623047\"/>\n       <use xlink:href=\"#DejaVuSans-30\" x=\"127.246094\"/>\n       <use xlink:href=\"#DejaVuSans-30\" x=\"190.869141\"/>\n      </g>\n     </g>\n    </g>\n    <g id=\"xtick_6\">\n     <g id=\"line2d_11\">\n      <path d=\"M 216.317096 354.958125 \nL 216.317096 22.318125 \n\" clip-path=\"url(#p29a21ef951)\" style=\"fill: none; stroke: #b0b0b0; stroke-width: 0.8; stroke-linecap: square\"/>\n     </g>\n     <g id=\"line2d_12\">\n      <g>\n       <use xlink:href=\"#ma98e8a8062\" x=\"216.317096\" y=\"354.958125\" style=\"stroke: #000000; stroke-width: 0.8\"/>\n      </g>\n     </g>\n     <g id=\"text_6\">\n      <!-- 1250 -->\n      <g transform=\"translate(203.592096 369.556562) scale(0.1 -0.1)\">\n       <use xlink:href=\"#DejaVuSans-31\"/>\n       <use xlink:href=\"#DejaVuSans-32\" x=\"63.623047\"/>\n       <use xlink:href=\"#DejaVuSans-35\" x=\"127.246094\"/>\n       <use xlink:href=\"#DejaVuSans-30\" x=\"190.869141\"/>\n      </g>\n     </g>\n    </g>\n    <g id=\"xtick_7\">\n     <g id=\"line2d_13\">\n      <path d=\"M 247.566784 354.958125 \nL 247.566784 22.318125 \n\" clip-path=\"url(#p29a21ef951)\" style=\"fill: none; stroke: #b0b0b0; stroke-width: 0.8; stroke-linecap: square\"/>\n     </g>\n     <g id=\"line2d_14\">\n      <g>\n       <use xlink:href=\"#ma98e8a8062\" x=\"247.566784\" y=\"354.958125\" style=\"stroke: #000000; stroke-width: 0.8\"/>\n      </g>\n     </g>\n     <g id=\"text_7\">\n      <!-- 1500 -->\n      <g transform=\"translate(234.841784 369.556562) scale(0.1 -0.1)\">\n       <use xlink:href=\"#DejaVuSans-31\"/>\n       <use xlink:href=\"#DejaVuSans-35\" x=\"63.623047\"/>\n       <use xlink:href=\"#DejaVuSans-30\" x=\"127.246094\"/>\n       <use xlink:href=\"#DejaVuSans-30\" x=\"190.869141\"/>\n      </g>\n     </g>\n    </g>\n    <g id=\"text_8\">\n     <!-- Batch -->\n     <g transform=\"translate(144.945007 383.234687) scale(0.1 -0.1)\">\n      <defs>\n       <path id=\"DejaVuSans-42\" d=\"M 1259 2228 \nL 1259 519 \nL 2272 519 \nQ 2781 519 3026 730 \nQ 3272 941 3272 1375 \nQ 3272 1813 3026 2020 \nQ 2781 2228 2272 2228 \nL 1259 2228 \nz\nM 1259 4147 \nL 1259 2741 \nL 2194 2741 \nQ 2656 2741 2882 2914 \nQ 3109 3088 3109 3444 \nQ 3109 3797 2882 3972 \nQ 2656 4147 2194 4147 \nL 1259 4147 \nz\nM 628 4666 \nL 2241 4666 \nQ 2963 4666 3353 4366 \nQ 3744 4066 3744 3513 \nQ 3744 3084 3544 2831 \nQ 3344 2578 2956 2516 \nQ 3422 2416 3680 2098 \nQ 3938 1781 3938 1306 \nQ 3938 681 3513 340 \nQ 3088 0 2303 0 \nL 628 0 \nL 628 4666 \nz\n\" transform=\"scale(0.015625)\"/>\n       <path id=\"DejaVuSans-61\" d=\"M 2194 1759 \nQ 1497 1759 1228 1600 \nQ 959 1441 959 1056 \nQ 959 750 1161 570 \nQ 1363 391 1709 391 \nQ 2188 391 2477 730 \nQ 2766 1069 2766 1631 \nL 2766 1759 \nL 2194 1759 \nz\nM 3341 1997 \nL 3341 0 \nL 2766 0 \nL 2766 531 \nQ 2569 213 2275 61 \nQ 1981 -91 1556 -91 \nQ 1019 -91 701 211 \nQ 384 513 384 1019 \nQ 384 1609 779 1909 \nQ 1175 2209 1959 2209 \nL 2766 2209 \nL 2766 2266 \nQ 2766 2663 2505 2880 \nQ 2244 3097 1772 3097 \nQ 1472 3097 1187 3025 \nQ 903 2953 641 2809 \nL 641 3341 \nQ 956 3463 1253 3523 \nQ 1550 3584 1831 3584 \nQ 2591 3584 2966 3190 \nQ 3341 2797 3341 1997 \nz\n\" transform=\"scale(0.015625)\"/>\n       <path id=\"DejaVuSans-74\" d=\"M 1172 4494 \nL 1172 3500 \nL 2356 3500 \nL 2356 3053 \nL 1172 3053 \nL 1172 1153 \nQ 1172 725 1289 603 \nQ 1406 481 1766 481 \nL 2356 481 \nL 2356 0 \nL 1766 0 \nQ 1100 0 847 248 \nQ 594 497 594 1153 \nL 594 3053 \nL 172 3053 \nL 172 3500 \nL 594 3500 \nL 594 4494 \nL 1172 4494 \nz\n\" transform=\"scale(0.015625)\"/>\n       <path id=\"DejaVuSans-63\" d=\"M 3122 3366 \nL 3122 2828 \nQ 2878 2963 2633 3030 \nQ 2388 3097 2138 3097 \nQ 1578 3097 1268 2742 \nQ 959 2388 959 1747 \nQ 959 1106 1268 751 \nQ 1578 397 2138 397 \nQ 2388 397 2633 464 \nQ 2878 531 3122 666 \nL 3122 134 \nQ 2881 22 2623 -34 \nQ 2366 -91 2075 -91 \nQ 1284 -91 818 406 \nQ 353 903 353 1747 \nQ 353 2603 823 3093 \nQ 1294 3584 2113 3584 \nQ 2378 3584 2631 3529 \nQ 2884 3475 3122 3366 \nz\n\" transform=\"scale(0.015625)\"/>\n       <path id=\"DejaVuSans-68\" d=\"M 3513 2113 \nL 3513 0 \nL 2938 0 \nL 2938 2094 \nQ 2938 2591 2744 2837 \nQ 2550 3084 2163 3084 \nQ 1697 3084 1428 2787 \nQ 1159 2491 1159 1978 \nL 1159 0 \nL 581 0 \nL 581 4863 \nL 1159 4863 \nL 1159 2956 \nQ 1366 3272 1645 3428 \nQ 1925 3584 2291 3584 \nQ 2894 3584 3203 3211 \nQ 3513 2838 3513 2113 \nz\n\" transform=\"scale(0.015625)\"/>\n      </defs>\n      <use xlink:href=\"#DejaVuSans-42\"/>\n      <use xlink:href=\"#DejaVuSans-61\" x=\"68.603516\"/>\n      <use xlink:href=\"#DejaVuSans-74\" x=\"129.882812\"/>\n      <use xlink:href=\"#DejaVuSans-63\" x=\"169.091797\"/>\n      <use xlink:href=\"#DejaVuSans-68\" x=\"224.072266\"/>\n     </g>\n    </g>\n   </g>\n   <g id=\"matplotlib.axis_2\">\n    <g id=\"ytick_1\">\n     <g id=\"line2d_15\">\n      <path d=\"M 50.14375 318.402659 \nL 268.491576 318.402659 \n\" clip-path=\"url(#p29a21ef951)\" style=\"fill: none; stroke: #b0b0b0; stroke-width: 0.8; stroke-linecap: square\"/>\n     </g>\n     <g id=\"line2d_16\">\n      <defs>\n       <path id=\"m7096029404\" d=\"M 0 0 \nL -3.5 0 \n\" style=\"stroke: #000000; stroke-width: 0.8\"/>\n      </defs>\n      <g>\n       <use xlink:href=\"#m7096029404\" x=\"50.14375\" y=\"318.402659\" style=\"stroke: #000000; stroke-width: 0.8\"/>\n      </g>\n     </g>\n     <g id=\"text_9\">\n      <!-- 0.62 -->\n      <g transform=\"translate(20.878125 322.201878) scale(0.1 -0.1)\">\n       <defs>\n        <path id=\"DejaVuSans-2e\" d=\"M 684 794 \nL 1344 794 \nL 1344 0 \nL 684 0 \nL 684 794 \nz\n\" transform=\"scale(0.015625)\"/>\n        <path id=\"DejaVuSans-36\" d=\"M 2113 2584 \nQ 1688 2584 1439 2293 \nQ 1191 2003 1191 1497 \nQ 1191 994 1439 701 \nQ 1688 409 2113 409 \nQ 2538 409 2786 701 \nQ 3034 994 3034 1497 \nQ 3034 2003 2786 2293 \nQ 2538 2584 2113 2584 \nz\nM 3366 4563 \nL 3366 3988 \nQ 3128 4100 2886 4159 \nQ 2644 4219 2406 4219 \nQ 1781 4219 1451 3797 \nQ 1122 3375 1075 2522 \nQ 1259 2794 1537 2939 \nQ 1816 3084 2150 3084 \nQ 2853 3084 3261 2657 \nQ 3669 2231 3669 1497 \nQ 3669 778 3244 343 \nQ 2819 -91 2113 -91 \nQ 1303 -91 875 529 \nQ 447 1150 447 2328 \nQ 447 3434 972 4092 \nQ 1497 4750 2381 4750 \nQ 2619 4750 2861 4703 \nQ 3103 4656 3366 4563 \nz\n\" transform=\"scale(0.015625)\"/>\n       </defs>\n       <use xlink:href=\"#DejaVuSans-30\"/>\n       <use xlink:href=\"#DejaVuSans-2e\" x=\"63.623047\"/>\n       <use xlink:href=\"#DejaVuSans-36\" x=\"95.410156\"/>\n       <use xlink:href=\"#DejaVuSans-32\" x=\"159.033203\"/>\n      </g>\n     </g>\n    </g>\n    <g id=\"ytick_2\">\n     <g id=\"line2d_17\">\n      <path d=\"M 50.14375 250.048344 \nL 268.491576 250.048344 \n\" clip-path=\"url(#p29a21ef951)\" style=\"fill: none; stroke: #b0b0b0; stroke-width: 0.8; stroke-linecap: square\"/>\n     </g>\n     <g id=\"line2d_18\">\n      <g>\n       <use xlink:href=\"#m7096029404\" x=\"50.14375\" y=\"250.048344\" style=\"stroke: #000000; stroke-width: 0.8\"/>\n      </g>\n     </g>\n     <g id=\"text_10\">\n      <!-- 0.64 -->\n      <g transform=\"translate(20.878125 253.847563) scale(0.1 -0.1)\">\n       <defs>\n        <path id=\"DejaVuSans-34\" d=\"M 2419 4116 \nL 825 1625 \nL 2419 1625 \nL 2419 4116 \nz\nM 2253 4666 \nL 3047 4666 \nL 3047 1625 \nL 3713 1625 \nL 3713 1100 \nL 3047 1100 \nL 3047 0 \nL 2419 0 \nL 2419 1100 \nL 313 1100 \nL 313 1709 \nL 2253 4666 \nz\n\" transform=\"scale(0.015625)\"/>\n       </defs>\n       <use xlink:href=\"#DejaVuSans-30\"/>\n       <use xlink:href=\"#DejaVuSans-2e\" x=\"63.623047\"/>\n       <use xlink:href=\"#DejaVuSans-36\" x=\"95.410156\"/>\n       <use xlink:href=\"#DejaVuSans-34\" x=\"159.033203\"/>\n      </g>\n     </g>\n    </g>\n    <g id=\"ytick_3\">\n     <g id=\"line2d_19\">\n      <path d=\"M 50.14375 181.694029 \nL 268.491576 181.694029 \n\" clip-path=\"url(#p29a21ef951)\" style=\"fill: none; stroke: #b0b0b0; stroke-width: 0.8; stroke-linecap: square\"/>\n     </g>\n     <g id=\"line2d_20\">\n      <g>\n       <use xlink:href=\"#m7096029404\" x=\"50.14375\" y=\"181.694029\" style=\"stroke: #000000; stroke-width: 0.8\"/>\n      </g>\n     </g>\n     <g id=\"text_11\">\n      <!-- 0.66 -->\n      <g transform=\"translate(20.878125 185.493248) scale(0.1 -0.1)\">\n       <use xlink:href=\"#DejaVuSans-30\"/>\n       <use xlink:href=\"#DejaVuSans-2e\" x=\"63.623047\"/>\n       <use xlink:href=\"#DejaVuSans-36\" x=\"95.410156\"/>\n       <use xlink:href=\"#DejaVuSans-36\" x=\"159.033203\"/>\n      </g>\n     </g>\n    </g>\n    <g id=\"ytick_4\">\n     <g id=\"line2d_21\">\n      <path d=\"M 50.14375 113.339715 \nL 268.491576 113.339715 \n\" clip-path=\"url(#p29a21ef951)\" style=\"fill: none; stroke: #b0b0b0; stroke-width: 0.8; stroke-linecap: square\"/>\n     </g>\n     <g id=\"line2d_22\">\n      <g>\n       <use xlink:href=\"#m7096029404\" x=\"50.14375\" y=\"113.339715\" style=\"stroke: #000000; stroke-width: 0.8\"/>\n      </g>\n     </g>\n     <g id=\"text_12\">\n      <!-- 0.68 -->\n      <g transform=\"translate(20.878125 117.138934) scale(0.1 -0.1)\">\n       <defs>\n        <path id=\"DejaVuSans-38\" d=\"M 2034 2216 \nQ 1584 2216 1326 1975 \nQ 1069 1734 1069 1313 \nQ 1069 891 1326 650 \nQ 1584 409 2034 409 \nQ 2484 409 2743 651 \nQ 3003 894 3003 1313 \nQ 3003 1734 2745 1975 \nQ 2488 2216 2034 2216 \nz\nM 1403 2484 \nQ 997 2584 770 2862 \nQ 544 3141 544 3541 \nQ 544 4100 942 4425 \nQ 1341 4750 2034 4750 \nQ 2731 4750 3128 4425 \nQ 3525 4100 3525 3541 \nQ 3525 3141 3298 2862 \nQ 3072 2584 2669 2484 \nQ 3125 2378 3379 2068 \nQ 3634 1759 3634 1313 \nQ 3634 634 3220 271 \nQ 2806 -91 2034 -91 \nQ 1263 -91 848 271 \nQ 434 634 434 1313 \nQ 434 1759 690 2068 \nQ 947 2378 1403 2484 \nz\nM 1172 3481 \nQ 1172 3119 1398 2916 \nQ 1625 2713 2034 2713 \nQ 2441 2713 2670 2916 \nQ 2900 3119 2900 3481 \nQ 2900 3844 2670 4047 \nQ 2441 4250 2034 4250 \nQ 1625 4250 1398 4047 \nQ 1172 3844 1172 3481 \nz\n\" transform=\"scale(0.015625)\"/>\n       </defs>\n       <use xlink:href=\"#DejaVuSans-30\"/>\n       <use xlink:href=\"#DejaVuSans-2e\" x=\"63.623047\"/>\n       <use xlink:href=\"#DejaVuSans-36\" x=\"95.410156\"/>\n       <use xlink:href=\"#DejaVuSans-38\" x=\"159.033203\"/>\n      </g>\n     </g>\n    </g>\n    <g id=\"ytick_5\">\n     <g id=\"line2d_23\">\n      <path d=\"M 50.14375 44.9854 \nL 268.491576 44.9854 \n\" clip-path=\"url(#p29a21ef951)\" style=\"fill: none; stroke: #b0b0b0; stroke-width: 0.8; stroke-linecap: square\"/>\n     </g>\n     <g id=\"line2d_24\">\n      <g>\n       <use xlink:href=\"#m7096029404\" x=\"50.14375\" y=\"44.9854\" style=\"stroke: #000000; stroke-width: 0.8\"/>\n      </g>\n     </g>\n     <g id=\"text_13\">\n      <!-- 0.70 -->\n      <g transform=\"translate(20.878125 48.784619) scale(0.1 -0.1)\">\n       <use xlink:href=\"#DejaVuSans-30\"/>\n       <use xlink:href=\"#DejaVuSans-2e\" x=\"63.623047\"/>\n       <use xlink:href=\"#DejaVuSans-37\" x=\"95.410156\"/>\n       <use xlink:href=\"#DejaVuSans-30\" x=\"159.033203\"/>\n      </g>\n     </g>\n    </g>\n    <g id=\"text_14\">\n     <!-- Loss -->\n     <g transform=\"translate(14.798437 199.605312) rotate(-90) scale(0.1 -0.1)\">\n      <defs>\n       <path id=\"DejaVuSans-4c\" d=\"M 628 4666 \nL 1259 4666 \nL 1259 531 \nL 3531 531 \nL 3531 0 \nL 628 0 \nL 628 4666 \nz\n\" transform=\"scale(0.015625)\"/>\n       <path id=\"DejaVuSans-6f\" d=\"M 1959 3097 \nQ 1497 3097 1228 2736 \nQ 959 2375 959 1747 \nQ 959 1119 1226 758 \nQ 1494 397 1959 397 \nQ 2419 397 2687 759 \nQ 2956 1122 2956 1747 \nQ 2956 2369 2687 2733 \nQ 2419 3097 1959 3097 \nz\nM 1959 3584 \nQ 2709 3584 3137 3096 \nQ 3566 2609 3566 1747 \nQ 3566 888 3137 398 \nQ 2709 -91 1959 -91 \nQ 1206 -91 779 398 \nQ 353 888 353 1747 \nQ 353 2609 779 3096 \nQ 1206 3584 1959 3584 \nz\n\" transform=\"scale(0.015625)\"/>\n       <path id=\"DejaVuSans-73\" d=\"M 2834 3397 \nL 2834 2853 \nQ 2591 2978 2328 3040 \nQ 2066 3103 1784 3103 \nQ 1356 3103 1142 2972 \nQ 928 2841 928 2578 \nQ 928 2378 1081 2264 \nQ 1234 2150 1697 2047 \nL 1894 2003 \nQ 2506 1872 2764 1633 \nQ 3022 1394 3022 966 \nQ 3022 478 2636 193 \nQ 2250 -91 1575 -91 \nQ 1294 -91 989 -36 \nQ 684 19 347 128 \nL 347 722 \nQ 666 556 975 473 \nQ 1284 391 1588 391 \nQ 1994 391 2212 530 \nQ 2431 669 2431 922 \nQ 2431 1156 2273 1281 \nQ 2116 1406 1581 1522 \nL 1381 1569 \nQ 847 1681 609 1914 \nQ 372 2147 372 2553 \nQ 372 3047 722 3315 \nQ 1072 3584 1716 3584 \nQ 2034 3584 2315 3537 \nQ 2597 3491 2834 3397 \nz\n\" transform=\"scale(0.015625)\"/>\n      </defs>\n      <use xlink:href=\"#DejaVuSans-4c\"/>\n      <use xlink:href=\"#DejaVuSans-6f\" x=\"53.962891\"/>\n      <use xlink:href=\"#DejaVuSans-73\" x=\"115.144531\"/>\n      <use xlink:href=\"#DejaVuSans-73\" x=\"167.244141\"/>\n     </g>\n    </g>\n   </g>\n   <g id=\"line2d_25\">\n    <path d=\"M 60.068651 49.08025 \nL 60.19365 70.961641 \nL 60.318649 52.109037 \nL 60.443647 55.926085 \nL 60.568646 63.851714 \nL 60.693645 37.438125 \nL 60.818644 38.966079 \nL 61.068641 92.862112 \nL 61.318639 58.565143 \nL 61.818634 83.568185 \nL 61.943633 96.470245 \nL 62.068631 86.188559 \nL 62.19363 95.013161 \nL 62.318629 94.029126 \nL 62.443628 103.192646 \nL 62.568626 124.343141 \nL 62.693625 125.428852 \nL 62.818624 147.565068 \nL 63.068621 133.616154 \nL 63.318619 127.043039 \nL 63.443618 121.844437 \nL 63.568616 123.338108 \nL 63.693615 122.441829 \nL 63.943613 117.424034 \nL 64.068611 119.142234 \nL 64.19361 118.943914 \nL 64.318609 116.389156 \nL 64.568606 103.257358 \nL 64.693605 102.444431 \nL 64.818604 100.136579 \nL 65.068601 100.06011 \nL 65.318599 96.963124 \nL 65.443598 99.760521 \nL 65.568596 97.686295 \nL 65.693595 99.359092 \nL 65.818594 106.007984 \nL 66.068591 122.735886 \nL 66.443588 114.786314 \nL 66.693585 117.439823 \nL 66.818584 116.828806 \nL 67.068581 112.600696 \nL 67.19358 111.699109 \nL 67.318579 112.038111 \nL 67.443578 110.499521 \nL 67.568577 111.187155 \nL 67.693575 113.887116 \nL 67.818574 109.099353 \nL 67.943573 111.024796 \nL 68.068572 109.732629 \nL 68.568567 117.821791 \nL 68.693565 115.114645 \nL 68.943563 121.58793 \nL 69.19356 112.132346 \nL 69.318559 112.151125 \nL 69.568557 110.047219 \nL 69.693555 109.999353 \nL 69.818554 107.783239 \nL 69.943553 107.895535 \nL 70.068552 107.450819 \nL 70.19355 108.024061 \nL 70.318549 110.641462 \nL 70.443548 106.854845 \nL 70.568547 106.909326 \nL 70.818544 109.810996 \nL 70.943543 108.544742 \nL 71.068542 110.190076 \nL 71.19354 109.97717 \nL 71.443538 108.319715 \nL 71.568537 108.363705 \nL 71.693535 108.928792 \nL 71.943533 111.254221 \nL 72.318529 108.956121 \nL 72.568527 109.005651 \nL 72.943523 106.397561 \nL 73.193521 106.567223 \nL 73.318519 105.71393 \nL 73.443518 106.28654 \nL 73.693516 105.124309 \nL 73.818514 105.162953 \nL 73.943513 104.280702 \nL 74.068512 104.307237 \nL 74.193511 105.007863 \nL 74.318509 103.668437 \nL 74.443508 104.191381 \nL 74.568507 105.271381 \nL 74.818504 103.522735 \nL 74.943503 103.508304 \nL 75.068502 103.307455 \nL 75.318499 104.128083 \nL 75.443498 104.324329 \nL 75.568497 104.851964 \nL 75.693496 104.331548 \nL 75.818494 104.853036 \nL 75.943493 103.89885 \nL 76.443488 106.153066 \nL 76.568487 105.560255 \nL 76.693486 105.644129 \nL 76.818484 104.81783 \nL 76.943483 105.724883 \nL 77.068482 104.060837 \nL 77.318479 105.085427 \nL 77.568477 104.091694 \nL 77.693476 105.114141 \nL 77.818474 104.559569 \nL 77.943473 105.14481 \nL 78.068472 105.181605 \nL 78.318469 104.232969 \nL 78.443468 104.02965 \nL 78.568467 104.866231 \nL 78.693466 104.432138 \nL 78.818465 104.550638 \nL 78.943463 104.281478 \nL 79.193461 106.01033 \nL 79.568457 104.375374 \nL 79.693456 104.290191 \nL 79.818455 104.445304 \nL 79.943453 105.338279 \nL 80.193451 104.557909 \nL 80.443448 105.092252 \nL 80.568447 106.980727 \nL 80.693446 104.504419 \nL 80.818445 104.609559 \nL 81.193441 103.303368 \nL 81.31844 102.858341 \nL 81.443438 103.163334 \nL 81.568437 102.484525 \nL 81.693436 102.851967 \nL 81.943433 103.831995 \nL 82.193431 104.441188 \nL 82.31843 102.270514 \nL 82.943423 102.568105 \nL 83.068422 102.853114 \nL 83.193421 102.361516 \nL 83.31842 103.053781 \nL 83.693416 101.30885 \nL 83.818415 101.149657 \nL 83.943413 102.28994 \nL 84.068412 102.355314 \nL 84.193411 103.720158 \nL 84.443409 103.715839 \nL 84.568407 104.242102 \nL 84.693406 103.808355 \nL 84.943404 104.079105 \nL 85.068402 103.625142 \nL 85.3184 103.920038 \nL 85.443399 103.881626 \nL 85.568397 104.148702 \nL 85.693396 103.991694 \nL 85.818395 104.875564 \nL 85.943394 104.883966 \nL 86.068392 103.781643 \nL 86.193391 103.73498 \nL 86.443389 104.087255 \nL 86.693386 103.83197 \nL 86.818385 104.399694 \nL 87.068382 103.784258 \nL 87.193381 103.666843 \nL 87.31838 103.827018 \nL 87.443379 104.225248 \nL 87.693376 103.844047 \nL 87.943374 104.369578 \nL 88.068372 104.47689 \nL 88.31837 105.295925 \nL 88.568367 104.378208 \nL 88.693366 104.473569 \nL 88.818365 105.01204 \nL 88.943364 104.777137 \nL 89.193361 105.950013 \nL 89.443359 106.587596 \nL 89.568357 106.361098 \nL 89.693356 106.56008 \nL 89.818355 105.908956 \nL 90.068353 105.999593 \nL 90.31835 106.849813 \nL 90.443349 106.939557 \nL 90.568348 108.332174 \nL 90.818345 106.792779 \nL 91.068343 108.106716 \nL 91.193341 108.151393 \nL 91.443339 107.004927 \nL 91.693336 106.961185 \nL 91.818335 106.952171 \nL 92.193331 107.454914 \nL 92.443329 108.308822 \nL 92.568328 109.415498 \nL 92.693326 107.773477 \nL 92.943324 107.548775 \nL 93.193321 107.732353 \nL 93.31832 107.596449 \nL 93.443319 108.160016 \nL 93.568318 107.977746 \nL 93.693316 108.790395 \nL 93.818315 107.613931 \nL 93.943314 107.950342 \nL 94.068313 107.023475 \nL 94.193311 107.037802 \nL 94.31831 107.65801 \nL 94.443309 106.643555 \nL 94.693306 106.837929 \nL 95.068303 108.692101 \nL 95.193301 108.491738 \nL 95.443299 109.201084 \nL 95.568298 109.038164 \nL 95.693296 109.185036 \nL 95.818295 108.794987 \nL 95.943294 108.854587 \nL 96.31829 110.528956 \nL 96.443289 109.618644 \nL 96.568288 109.789603 \nL 96.818285 110.674625 \nL 96.943284 109.932796 \nL 97.193282 109.998777 \nL 97.568278 109.95332 \nL 97.818275 110.10207 \nL 97.943274 110.091021 \nL 98.068273 110.25594 \nL 98.193272 110.091032 \nL 98.31827 110.302642 \nL 98.443269 110.157664 \nL 98.818265 110.535158 \nL 98.943264 110.508935 \nL 99.068263 109.722826 \nL 99.193262 110.242752 \nL 99.31826 109.258484 \nL 99.693257 109.308377 \nL 99.818255 109.528119 \nL 99.943254 109.35601 \nL 100.068253 109.740423 \nL 100.31825 108.468113 \nL 100.443249 108.536498 \nL 100.568248 108.839572 \nL 100.693247 108.468122 \nL 101.068243 108.973191 \nL 101.693237 109.49417 \nL 101.818236 109.075368 \nL 101.943234 109.230891 \nL 102.068233 109.060733 \nL 102.693227 109.684905 \nL 102.943224 109.987805 \nL 103.193222 111.180761 \nL 103.318221 110.929366 \nL 103.943214 113.330361 \nL 104.068213 112.947848 \nL 104.193212 112.962765 \nL 104.818206 113.925562 \nL 104.943204 114.630295 \nL 105.068203 114.27704 \nL 105.443199 115.037226 \nL 105.568198 114.734147 \nL 106.068193 115.816103 \nL 106.193192 116.52106 \nL 106.318191 115.005162 \nL 106.568188 115.547461 \nL 106.818186 115.450337 \nL 106.943184 114.041037 \nL 107.193182 114.702578 \nL 107.318181 114.711948 \nL 107.568178 115.147124 \nL 107.693177 114.941055 \nL 107.943175 114.141945 \nL 108.068173 113.987467 \nL 108.943165 115.484754 \nL 109.44316 117.355796 \nL 109.568158 117.229567 \nL 109.693157 117.344815 \nL 109.943155 118.114398 \nL 110.068153 118.203725 \nL 110.818146 119.614537 \nL 111.193142 121.385348 \nL 111.568138 123.038932 \nL 111.693137 123.221854 \nL 111.943135 122.928865 \nL 112.693127 124.828755 \nL 112.818126 123.926564 \nL 112.943125 123.954467 \nL 113.193122 124.529073 \nL 113.318121 124.678244 \nL 113.44312 125.382106 \nL 113.568119 124.793719 \nL 113.818116 125.051275 \nL 114.068114 122.601725 \nL 114.193112 122.529148 \nL 114.568109 122.972465 \nL 115.068104 124.211871 \nL 115.193102 124.126272 \nL 115.318101 123.588809 \nL 115.693097 124.750242 \nL 115.818096 124.943314 \nL 116.193092 126.087914 \nL 116.44309 126.838397 \nL 116.568089 126.875119 \nL 116.818086 128.077516 \nL 116.943085 129.129555 \nL 117.068084 128.083127 \nL 117.193082 128.108609 \nL 117.44308 128.969443 \nL 117.693077 127.804999 \nL 118.318071 129.113701 \nL 118.44307 128.888632 \nL 118.568069 127.843399 \nL 118.693068 128.637242 \nL 118.943065 126.249328 \nL 119.068064 126.950921 \nL 119.193063 125.987512 \nL 119.44306 127.137167 \nL 119.943055 128.066935 \nL 120.068054 128.563028 \nL 120.318051 128.081974 \nL 120.568049 130.054522 \nL 120.693048 129.163401 \nL 120.818046 129.226146 \nL 120.943045 128.96759 \nL 121.068044 129.102304 \nL 121.318041 129.769374 \nL 121.44304 130.714745 \nL 121.693038 130.785699 \nL 121.943035 131.4417 \nL 122.318031 132.572695 \nL 123.068024 134.822181 \nL 123.193023 135.675501 \nL 123.318021 132.780825 \nL 123.44302 133.178627 \nL 123.568019 133.04841 \nL 123.693018 133.29841 \nL 123.943015 134.555935 \nL 124.068014 134.314744 \nL 124.44301 135.292655 \nL 124.568009 135.339566 \nL 124.693008 135.692761 \nL 124.818007 136.515117 \nL 125.068004 136.017848 \nL 125.443 137.023031 \nL 125.567999 137.918121 \nL 125.692998 137.98339 \nL 126.067994 139.167112 \nL 126.192993 140.679963 \nL 126.44299 136.346178 \nL 126.942985 137.691047 \nL 127.192983 138.091412 \nL 127.317982 138.734417 \nL 127.567979 138.176116 \nL 127.692978 138.566597 \nL 127.817977 138.446206 \nL 128.192973 139.110429 \nL 128.317972 138.314431 \nL 128.567969 139.610969 \nL 128.692968 139.343895 \nL 128.817967 139.529133 \nL 128.942965 138.809627 \nL 129.817957 140.856177 \nL 130.067954 140.339357 \nL 130.317952 141.293663 \nL 130.442951 140.962893 \nL 130.692948 141.636271 \nL 130.817947 141.786475 \nL 130.942946 141.259356 \nL 131.192943 142.907368 \nL 131.442941 144.344824 \nL 131.567939 144.291347 \nL 131.817937 144.943325 \nL 131.942936 146.39419 \nL 132.067934 146.29562 \nL 132.692928 150.075158 \nL 132.942926 149.730017 \nL 133.192923 151.010206 \nL 133.317922 151.987149 \nL 133.567919 151.330979 \nL 133.692918 150.480712 \nL 134.192913 151.320572 \nL 134.442911 152.554757 \nL 134.567909 151.962899 \nL 134.692908 147.834269 \nL 134.817907 148.176219 \nL 134.942906 147.994083 \nL 135.317902 148.920505 \nL 135.5679 150.231267 \nL 135.692898 150.309173 \nL 135.817897 150.74618 \nL 136.192893 153.109068 \nL 136.442891 154.238718 \nL 136.56789 156.282701 \nL 136.692888 153.818272 \nL 136.817887 153.727991 \nL 137.067885 154.972205 \nL 137.442881 157.510362 \nL 137.56788 157.306627 \nL 138.817867 161.145296 \nL 139.067865 164.105555 \nL 139.442861 163.184422 \nL 139.56786 163.285209 \nL 140.442851 166.941152 \nL 140.56785 165.69096 \nL 140.692848 165.9971 \nL 140.817847 165.139403 \nL 140.942846 165.149618 \nL 141.067845 165.70036 \nL 141.192843 165.644497 \nL 141.317842 166.598081 \nL 141.56784 164.882104 \nL 141.817837 162.36309 \nL 141.942836 162.621747 \nL 142.067835 162.480665 \nL 142.442831 162.954537 \nL 142.56783 162.73447 \nL 142.942826 163.669252 \nL 143.192824 163.421876 \nL 143.317822 164.041907 \nL 143.442821 163.1113 \nL 143.817817 163.884273 \nL 143.942816 163.951466 \nL 144.067815 163.857803 \nL 144.317812 164.152858 \nL 144.692809 165.208164 \nL 144.817807 165.283274 \nL 144.942806 165.589392 \nL 145.067805 164.552491 \nL 145.192804 164.633327 \nL 145.817797 166.862528 \nL 145.942796 167.032985 \nL 146.067795 166.047868 \nL 146.192794 166.840801 \nL 146.317792 166.2721 \nL 146.817787 167.832991 \nL 146.942786 167.893528 \nL 147.067785 168.192817 \nL 147.192784 168.004767 \nL 147.442781 168.699983 \nL 147.692779 169.820314 \nL 147.942776 169.487577 \nL 148.192774 170.072313 \nL 148.442771 169.335841 \nL 148.56777 169.591528 \nL 148.692769 168.416866 \nL 149.067765 169.533601 \nL 149.192764 169.815868 \nL 149.56776 171.440564 \nL 150.067755 173.66095 \nL 150.317753 170.167689 \nL 150.442751 170.493327 \nL 150.56775 170.301781 \nL 150.692749 170.704067 \nL 150.817748 170.656207 \nL 151.317743 172.024567 \nL 151.442741 172.066233 \nL 151.56774 171.781023 \nL 151.817738 172.202192 \nL 152.317733 173.807711 \nL 152.817728 175.765119 \nL 153.317723 176.4973 \nL 153.442722 176.547862 \nL 153.692719 175.805703 \nL 154.817708 179.042046 \nL 155.067705 179.737429 \nL 155.317703 180.439587 \nL 155.5677 181.868775 \nL 155.942697 183.251257 \nL 156.192694 181.607945 \nL 156.942687 185.203498 \nL 157.067685 185.043104 \nL 157.192684 184.305943 \nL 157.442682 182.241784 \nL 157.817678 183.069415 \nL 158.317673 184.829308 \nL 158.692669 185.887084 \nL 159.317663 188.070783 \nL 159.442662 188.201052 \nL 159.692659 187.2611 \nL 159.817658 187.718763 \nL 160.067656 186.977876 \nL 160.192654 188.460893 \nL 160.317653 187.52346 \nL 160.567651 187.689443 \nL 160.817648 188.766006 \nL 161.192644 189.950224 \nL 161.442642 190.047539 \nL 162.692629 194.607739 \nL 162.817628 194.300735 \nL 163.192624 195.686328 \nL 163.442622 195.109615 \nL 164.317613 198.459012 \nL 164.442612 198.420976 \nL 164.69261 196.085631 \nL 164.817608 196.155736 \nL 165.067606 196.986206 \nL 165.192605 196.729112 \nL 165.317603 195.816062 \nL 166.192595 197.899381 \nL 166.317593 198.029208 \nL 166.69259 199.947196 \nL 166.817588 199.943386 \nL 167.067586 200.171785 \nL 167.192585 200.198844 \nL 167.317583 199.87898 \nL 167.69258 201.093005 \nL 167.817578 199.52735 \nL 168.317573 200.993875 \nL 168.567571 200.97746 \nL 169.067566 203.218805 \nL 169.192565 203.519952 \nL 169.442562 200.642508 \nL 170.817549 205.719324 \nL 170.942547 206.678219 \nL 171.067546 206.708828 \nL 171.317544 207.639555 \nL 171.442542 206.989845 \nL 171.567541 207.070817 \nL 171.817539 207.951958 \nL 172.067536 208.5704 \nL 172.317534 205.393274 \nL 172.567531 206.005541 \nL 172.817529 206.620512 \nL 173.192525 207.524619 \nL 173.317524 207.485355 \nL 173.567521 207.931227 \nL 173.817519 206.934852 \nL 174.69251 209.788919 \nL 175.067506 211.435951 \nL 175.192505 211.699583 \nL 175.567501 213.166912 \nL 175.6925 212.814526 \nL 176.067496 214.372328 \nL 176.192495 214.520628 \nL 176.442493 215.152663 \nL 176.567491 213.846053 \nL 176.69249 210.976652 \nL 176.817489 211.039377 \nL 176.942488 211.520611 \nL 177.192485 211.548758 \nL 177.317484 212.141186 \nL 177.442483 211.619008 \nL 177.69248 212.185871 \nL 178.567471 214.689226 \nL 178.69247 214.83136 \nL 179.067466 215.929594 \nL 179.317464 216.933846 \nL 179.442463 217.113955 \nL 179.69246 218.23462 \nL 179.942458 219.083505 \nL 180.192455 219.979267 \nL 180.442453 217.89339 \nL 180.567451 217.656954 \nL 180.817449 218.806422 \nL 181.192445 219.950319 \nL 181.942438 222.750408 \nL 182.067437 222.402965 \nL 182.317434 223.607337 \nL 182.442433 223.749377 \nL 182.567432 224.488257 \nL 182.69243 224.537642 \nL 183.067427 226.122799 \nL 183.567422 228.272813 \nL 183.69242 227.213291 \nL 183.942418 223.393651 \nL 184.192415 224.246019 \nL 184.317414 224.29805 \nL 184.817409 225.900243 \nL 184.942408 225.504605 \nL 185.067407 225.74698 \nL 185.192405 225.679518 \nL 185.317404 225.902412 \nL 185.567402 226.875243 \nL 185.6924 226.901536 \nL 185.817399 227.107748 \nL 186.067397 228.241197 \nL 186.192395 228.290546 \nL 186.442393 227.625157 \nL 186.567392 227.597195 \nL 186.817389 228.508768 \nL 187.192386 230.284808 \nL 187.317384 230.009045 \nL 187.567382 230.407158 \nL 187.817379 232.074903 \nL 188.067377 229.033075 \nL 188.817369 231.762013 \nL 189.067367 231.684005 \nL 189.442363 233.448851 \nL 189.567362 233.600294 \nL 189.817359 234.616689 \nL 189.942358 235.243289 \nL 190.067357 234.942322 \nL 190.192356 232.923024 \nL 190.317354 232.915551 \nL 190.692351 234.244164 \nL 190.817349 234.28157 \nL 190.942348 234.146643 \nL 191.067347 234.798115 \nL 191.192346 234.637273 \nL 191.317344 234.859661 \nL 191.567342 235.98444 \nL 191.692341 236.021722 \nL 191.942338 235.31896 \nL 192.442333 236.889877 \nL 192.942328 238.075631 \nL 193.067327 237.978466 \nL 193.442323 239.604623 \nL 193.692321 240.452478 \nL 193.81732 240.459161 \nL 194.692311 243.292772 \nL 194.81731 243.446492 \nL 195.067307 240.803134 \nL 195.317305 241.270219 \nL 195.8173 243.216121 \nL 195.942298 243.087794 \nL 196.067297 243.142867 \nL 196.317295 243.882722 \nL 196.442293 244.805778 \nL 196.567292 244.434864 \nL 196.942288 245.272689 \nL 197.442283 247.360988 \nL 198.067277 250.23195 \nL 198.317275 250.454772 \nL 198.567272 246.768382 \nL 198.692271 246.604403 \nL 199.442264 248.900941 \nL 199.692261 249.954828 \nL 199.81726 249.699854 \nL 199.942259 249.698759 \nL 200.317255 251.280326 \nL 200.442254 252.349551 \nL 200.567252 252.226522 \nL 200.81725 250.486287 \nL 201.317245 252.385734 \nL 201.442244 253.210914 \nL 201.567242 253.028799 \nL 201.692241 253.20825 \nL 202.81723 257.48859 \nL 203.567222 260.628849 \nL 203.692221 260.360252 \nL 203.942219 255.474607 \nL 204.067218 256.036221 \nL 204.317215 255.905609 \nL 204.442214 256.280966 \nL 204.567213 256.178103 \nL 206.067198 260.634394 \nL 206.192196 260.651006 \nL 206.317195 260.439315 \nL 206.567193 260.902365 \nL 206.81719 261.968061 \nL 207.067188 262.874384 \nL 207.192186 263.023889 \nL 207.317185 262.718269 \nL 207.692181 264.088482 \nL 207.942179 264.998062 \nL 208.192176 263.826754 \nL 208.567173 264.768862 \nL 208.81717 265.881021 \nL 209.067168 264.873082 \nL 209.942159 267.200824 \nL 210.317155 269.017598 \nL 210.567153 268.785563 \nL 210.692152 269.091122 \nL 210.942149 270.086909 \nL 211.067148 270.315456 \nL 211.192147 269.96548 \nL 211.317145 268.565058 \nL 211.81714 269.665158 \nL 212.442134 271.788922 \nL 212.81713 272.965396 \nL 213.067128 274.021457 \nL 213.192127 274.206468 \nL 213.317125 273.984733 \nL 213.442124 273.468674 \nL 213.567123 273.859243 \nL 213.692122 274.624497 \nL 213.81712 274.529971 \nL 214.067118 275.362483 \nL 214.192117 276.113571 \nL 214.317115 276.157228 \nL 214.442114 275.907654 \nL 214.567113 274.076293 \nL 214.692112 274.131659 \nL 215.317106 276.000337 \nL 215.442104 276.076163 \nL 215.817101 277.376016 \nL 216.067098 277.124307 \nL 217.067088 280.945915 \nL 217.192087 279.811145 \nL 217.442084 277.123157 \nL 217.567083 277.003256 \nL 217.942079 277.71354 \nL 218.317076 279.189643 \nL 218.442074 279.336422 \nL 218.692072 280.056843 \nL 218.817071 280.009822 \nL 218.942069 280.126274 \nL 219.442064 281.587123 \nL 219.567063 280.926466 \nL 219.942059 282.254296 \nL 220.067058 281.887867 \nL 220.192057 282.340868 \nL 220.442054 281.30405 \nL 220.567053 281.437752 \nL 220.942049 282.587927 \nL 221.567043 284.944806 \nL 221.817041 284.144277 \nL 221.94204 285.185374 \nL 222.067038 284.754504 \nL 222.317036 285.632143 \nL 222.567033 285.949626 \nL 223.442025 289.33509 \nL 223.692022 290.525083 \nL 223.817021 290.79008 \nL 224.067018 288.513559 \nL 224.317016 287.456942 \nL 224.817011 288.320363 \nL 225.067008 288.890344 \nL 225.192007 288.583044 \nL 225.317006 288.836489 \nL 225.442005 288.805901 \nL 225.692002 289.508492 \nL 225.817001 290.082936 \nL 225.942 289.439577 \nL 226.191997 290.129383 \nL 226.566993 291.268275 \nL 226.816991 291.979135 \nL 226.94199 292.28848 \nL 227.191987 290.149047 \nL 227.691982 292.122047 \nL 227.94198 292.916414 \nL 228.066979 292.61074 \nL 228.691972 293.804145 \nL 229.066969 294.980724 \nL 229.441965 296.200881 \nL 229.691962 297.420076 \nL 229.816961 297.066 \nL 229.94196 295.399255 \nL 230.066959 295.497997 \nL 230.191957 295.91122 \nL 230.441955 295.43716 \nL 230.816951 296.971813 \nL 231.316946 298.392157 \nL 231.441945 298.189779 \nL 231.816941 297.160097 \nL 232.066939 297.543482 \nL 232.316936 298.260747 \nL 232.691933 299.454009 \nL 232.94193 299.481862 \nL 233.191928 299.89343 \nL 233.441925 301.919855 \nL 233.566924 301.459517 \nL 234.441915 304.060938 \nL 234.691913 305.262297 \nL 235.441905 308.634456 \nL 235.566904 306.741263 \nL 235.691903 301.734676 \nL 236.691893 303.468748 \nL 237.191888 305.097662 \nL 237.441885 305.752266 \nL 237.691883 306.495472 \nL 237.816881 306.679761 \nL 238.316877 308.712172 \nL 238.566874 309.043171 \nL 238.94187 310.664245 \nL 239.316867 311.529972 \nL 239.816862 313.318444 \nL 240.066859 313.614794 \nL 240.191858 313.280492 \nL 240.566854 314.523452 \nL 240.816852 315.286515 \nL 240.94185 314.130457 \nL 241.066849 308.971183 \nL 241.566844 309.090556 \nL 242.691833 311.05229 \nL 243.191828 312.269675 \nL 243.316827 312.211523 \nL 243.816822 314.176966 \nL 244.691813 317.954723 \nL 244.941811 316.72483 \nL 245.316807 317.78979 \nL 245.691803 319.3667 \nL 246.066799 321.055968 \nL 246.191798 321.394945 \nL 246.316797 320.861331 \nL 246.566794 321.637861 \nL 246.816792 320.566891 \nL 247.066789 321.583485 \nL 247.191788 321.672087 \nL 247.566784 322.644456 \nL 248.566774 326.259987 \nL 248.691773 326.131506 \nL 248.941771 323.981921 \nL 249.066769 324.452209 \nL 249.191768 324.457364 \nL 249.566765 325.206255 \nL 249.941761 326.835925 \nL 250.06676 327.356516 \nL 250.191758 326.926469 \nL 250.441756 325.300878 \nL 250.566755 325.434275 \nL 251.06675 327.090184 \nL 252.06674 329.98832 \nL 252.191738 330.066083 \nL 252.316737 329.236025 \nL 252.441736 329.171828 \nL 253.191728 331.550386 \nL 253.316727 331.424277 \nL 253.441726 331.517244 \nL 254.06672 334.225172 \nL 254.191718 334.417547 \nL 254.441716 335.306079 \nL 254.566715 335.185219 \nL 254.816712 333.4966 \nL 255.441706 335.510926 \nL 255.691704 335.328243 \nL 255.816702 335.512639 \nL 256.316697 337.595233 \nL 256.566695 336.518713 \nL 257.06669 338.174715 \nL 257.316687 338.853588 \nL 257.441686 338.610605 \nL 257.566685 337.772445 \nL 257.691684 337.718023 \nL 258.06668 338.675307 \nL 258.191679 338.627403 \nL 258.566675 339.838125 \nL 258.566675 339.838125 \n\" clip-path=\"url(#p29a21ef951)\" style=\"fill: none; stroke: #1f77b4; stroke-width: 1.5; stroke-linecap: square\"/>\n   </g>\n   <g id=\"patch_3\">\n    <path d=\"M 50.14375 354.958125 \nL 50.14375 22.318125 \n\" style=\"fill: none; stroke: #000000; stroke-width: 0.8; stroke-linejoin: miter; stroke-linecap: square\"/>\n   </g>\n   <g id=\"patch_4\">\n    <path d=\"M 268.491576 354.958125 \nL 268.491576 22.318125 \n\" style=\"fill: none; stroke: #000000; stroke-width: 0.8; stroke-linejoin: miter; stroke-linecap: square\"/>\n   </g>\n   <g id=\"patch_5\">\n    <path d=\"M 50.14375 354.958125 \nL 268.491576 354.958125 \n\" style=\"fill: none; stroke: #000000; stroke-width: 0.8; stroke-linejoin: miter; stroke-linecap: square\"/>\n   </g>\n   <g id=\"patch_6\">\n    <path d=\"M 50.14375 22.318125 \nL 268.491576 22.318125 \n\" style=\"fill: none; stroke: #000000; stroke-width: 0.8; stroke-linejoin: miter; stroke-linecap: square\"/>\n   </g>\n   <g id=\"text_15\">\n    <!-- Training loss -->\n    <g transform=\"translate(122.150476 16.318125) scale(0.12 -0.12)\">\n     <defs>\n      <path id=\"DejaVuSans-54\" d=\"M -19 4666 \nL 3928 4666 \nL 3928 4134 \nL 2272 4134 \nL 2272 0 \nL 1638 0 \nL 1638 4134 \nL -19 4134 \nL -19 4666 \nz\n\" transform=\"scale(0.015625)\"/>\n      <path id=\"DejaVuSans-72\" d=\"M 2631 2963 \nQ 2534 3019 2420 3045 \nQ 2306 3072 2169 3072 \nQ 1681 3072 1420 2755 \nQ 1159 2438 1159 1844 \nL 1159 0 \nL 581 0 \nL 581 3500 \nL 1159 3500 \nL 1159 2956 \nQ 1341 3275 1631 3429 \nQ 1922 3584 2338 3584 \nQ 2397 3584 2469 3576 \nQ 2541 3569 2628 3553 \nL 2631 2963 \nz\n\" transform=\"scale(0.015625)\"/>\n      <path id=\"DejaVuSans-69\" d=\"M 603 3500 \nL 1178 3500 \nL 1178 0 \nL 603 0 \nL 603 3500 \nz\nM 603 4863 \nL 1178 4863 \nL 1178 4134 \nL 603 4134 \nL 603 4863 \nz\n\" transform=\"scale(0.015625)\"/>\n      <path id=\"DejaVuSans-6e\" d=\"M 3513 2113 \nL 3513 0 \nL 2938 0 \nL 2938 2094 \nQ 2938 2591 2744 2837 \nQ 2550 3084 2163 3084 \nQ 1697 3084 1428 2787 \nQ 1159 2491 1159 1978 \nL 1159 0 \nL 581 0 \nL 581 3500 \nL 1159 3500 \nL 1159 2956 \nQ 1366 3272 1645 3428 \nQ 1925 3584 2291 3584 \nQ 2894 3584 3203 3211 \nQ 3513 2838 3513 2113 \nz\n\" transform=\"scale(0.015625)\"/>\n      <path id=\"DejaVuSans-67\" d=\"M 2906 1791 \nQ 2906 2416 2648 2759 \nQ 2391 3103 1925 3103 \nQ 1463 3103 1205 2759 \nQ 947 2416 947 1791 \nQ 947 1169 1205 825 \nQ 1463 481 1925 481 \nQ 2391 481 2648 825 \nQ 2906 1169 2906 1791 \nz\nM 3481 434 \nQ 3481 -459 3084 -895 \nQ 2688 -1331 1869 -1331 \nQ 1566 -1331 1297 -1286 \nQ 1028 -1241 775 -1147 \nL 775 -588 \nQ 1028 -725 1275 -790 \nQ 1522 -856 1778 -856 \nQ 2344 -856 2625 -561 \nQ 2906 -266 2906 331 \nL 2906 616 \nQ 2728 306 2450 153 \nQ 2172 0 1784 0 \nQ 1141 0 747 490 \nQ 353 981 353 1791 \nQ 353 2603 747 3093 \nQ 1141 3584 1784 3584 \nQ 2172 3584 2450 3431 \nQ 2728 3278 2906 2969 \nL 2906 3500 \nL 3481 3500 \nL 3481 434 \nz\n\" transform=\"scale(0.015625)\"/>\n      <path id=\"DejaVuSans-20\" transform=\"scale(0.015625)\"/>\n      <path id=\"DejaVuSans-6c\" d=\"M 603 4863 \nL 1178 4863 \nL 1178 0 \nL 603 0 \nL 603 4863 \nz\n\" transform=\"scale(0.015625)\"/>\n     </defs>\n     <use xlink:href=\"#DejaVuSans-54\"/>\n     <use xlink:href=\"#DejaVuSans-72\" x=\"46.333984\"/>\n     <use xlink:href=\"#DejaVuSans-61\" x=\"87.447266\"/>\n     <use xlink:href=\"#DejaVuSans-69\" x=\"148.726562\"/>\n     <use xlink:href=\"#DejaVuSans-6e\" x=\"176.509766\"/>\n     <use xlink:href=\"#DejaVuSans-69\" x=\"239.888672\"/>\n     <use xlink:href=\"#DejaVuSans-6e\" x=\"267.671875\"/>\n     <use xlink:href=\"#DejaVuSans-67\" x=\"331.050781\"/>\n     <use xlink:href=\"#DejaVuSans-20\" x=\"394.527344\"/>\n     <use xlink:href=\"#DejaVuSans-6c\" x=\"426.314453\"/>\n     <use xlink:href=\"#DejaVuSans-6f\" x=\"454.097656\"/>\n     <use xlink:href=\"#DejaVuSans-73\" x=\"515.279297\"/>\n     <use xlink:href=\"#DejaVuSans-73\" x=\"567.378906\"/>\n    </g>\n   </g>\n  </g>\n  <g id=\"axes_2\">\n   <g id=\"patch_7\">\n    <path d=\"M 312.161141 354.958125 \nL 530.508967 354.958125 \nL 530.508967 22.318125 \nL 312.161141 22.318125 \nz\n\" style=\"fill: #ffffff\"/>\n   </g>\n   <g id=\"matplotlib.axis_3\">\n    <g id=\"xtick_8\">\n     <g id=\"line2d_26\">\n      <path d=\"M 322.086042 354.958125 \nL 322.086042 22.318125 \n\" clip-path=\"url(#p5910ebc003)\" style=\"fill: none; stroke: #b0b0b0; stroke-width: 0.8; stroke-linecap: square\"/>\n     </g>\n     <g id=\"line2d_27\">\n      <g>\n       <use xlink:href=\"#ma98e8a8062\" x=\"322.086042\" y=\"354.958125\" style=\"stroke: #000000; stroke-width: 0.8\"/>\n      </g>\n     </g>\n     <g id=\"text_16\">\n      <!-- 0 -->\n      <g transform=\"translate(318.904792 369.556562) scale(0.1 -0.1)\">\n       <use xlink:href=\"#DejaVuSans-30\"/>\n      </g>\n     </g>\n    </g>\n    <g id=\"xtick_9\">\n     <g id=\"line2d_28\">\n      <path d=\"M 353.335731 354.958125 \nL 353.335731 22.318125 \n\" clip-path=\"url(#p5910ebc003)\" style=\"fill: none; stroke: #b0b0b0; stroke-width: 0.8; stroke-linecap: square\"/>\n     </g>\n     <g id=\"line2d_29\">\n      <g>\n       <use xlink:href=\"#ma98e8a8062\" x=\"353.335731\" y=\"354.958125\" style=\"stroke: #000000; stroke-width: 0.8\"/>\n      </g>\n     </g>\n     <g id=\"text_17\">\n      <!-- 250 -->\n      <g transform=\"translate(343.791981 369.556562) scale(0.1 -0.1)\">\n       <use xlink:href=\"#DejaVuSans-32\"/>\n       <use xlink:href=\"#DejaVuSans-35\" x=\"63.623047\"/>\n       <use xlink:href=\"#DejaVuSans-30\" x=\"127.246094\"/>\n      </g>\n     </g>\n    </g>\n    <g id=\"xtick_10\">\n     <g id=\"line2d_30\">\n      <path d=\"M 384.58542 354.958125 \nL 384.58542 22.318125 \n\" clip-path=\"url(#p5910ebc003)\" style=\"fill: none; stroke: #b0b0b0; stroke-width: 0.8; stroke-linecap: square\"/>\n     </g>\n     <g id=\"line2d_31\">\n      <g>\n       <use xlink:href=\"#ma98e8a8062\" x=\"384.58542\" y=\"354.958125\" style=\"stroke: #000000; stroke-width: 0.8\"/>\n      </g>\n     </g>\n     <g id=\"text_18\">\n      <!-- 500 -->\n      <g transform=\"translate(375.04167 369.556562) scale(0.1 -0.1)\">\n       <use xlink:href=\"#DejaVuSans-35\"/>\n       <use xlink:href=\"#DejaVuSans-30\" x=\"63.623047\"/>\n       <use xlink:href=\"#DejaVuSans-30\" x=\"127.246094\"/>\n      </g>\n     </g>\n    </g>\n    <g id=\"xtick_11\">\n     <g id=\"line2d_32\">\n      <path d=\"M 415.835109 354.958125 \nL 415.835109 22.318125 \n\" clip-path=\"url(#p5910ebc003)\" style=\"fill: none; stroke: #b0b0b0; stroke-width: 0.8; stroke-linecap: square\"/>\n     </g>\n     <g id=\"line2d_33\">\n      <g>\n       <use xlink:href=\"#ma98e8a8062\" x=\"415.835109\" y=\"354.958125\" style=\"stroke: #000000; stroke-width: 0.8\"/>\n      </g>\n     </g>\n     <g id=\"text_19\">\n      <!-- 750 -->\n      <g transform=\"translate(406.291359 369.556562) scale(0.1 -0.1)\">\n       <use xlink:href=\"#DejaVuSans-37\"/>\n       <use xlink:href=\"#DejaVuSans-35\" x=\"63.623047\"/>\n       <use xlink:href=\"#DejaVuSans-30\" x=\"127.246094\"/>\n      </g>\n     </g>\n    </g>\n    <g id=\"xtick_12\">\n     <g id=\"line2d_34\">\n      <path d=\"M 447.084798 354.958125 \nL 447.084798 22.318125 \n\" clip-path=\"url(#p5910ebc003)\" style=\"fill: none; stroke: #b0b0b0; stroke-width: 0.8; stroke-linecap: square\"/>\n     </g>\n     <g id=\"line2d_35\">\n      <g>\n       <use xlink:href=\"#ma98e8a8062\" x=\"447.084798\" y=\"354.958125\" style=\"stroke: #000000; stroke-width: 0.8\"/>\n      </g>\n     </g>\n     <g id=\"text_20\">\n      <!-- 1000 -->\n      <g transform=\"translate(434.359798 369.556562) scale(0.1 -0.1)\">\n       <use xlink:href=\"#DejaVuSans-31\"/>\n       <use xlink:href=\"#DejaVuSans-30\" x=\"63.623047\"/>\n       <use xlink:href=\"#DejaVuSans-30\" x=\"127.246094\"/>\n       <use xlink:href=\"#DejaVuSans-30\" x=\"190.869141\"/>\n      </g>\n     </g>\n    </g>\n    <g id=\"xtick_13\">\n     <g id=\"line2d_36\">\n      <path d=\"M 478.334487 354.958125 \nL 478.334487 22.318125 \n\" clip-path=\"url(#p5910ebc003)\" style=\"fill: none; stroke: #b0b0b0; stroke-width: 0.8; stroke-linecap: square\"/>\n     </g>\n     <g id=\"line2d_37\">\n      <g>\n       <use xlink:href=\"#ma98e8a8062\" x=\"478.334487\" y=\"354.958125\" style=\"stroke: #000000; stroke-width: 0.8\"/>\n      </g>\n     </g>\n     <g id=\"text_21\">\n      <!-- 1250 -->\n      <g transform=\"translate(465.609487 369.556562) scale(0.1 -0.1)\">\n       <use xlink:href=\"#DejaVuSans-31\"/>\n       <use xlink:href=\"#DejaVuSans-32\" x=\"63.623047\"/>\n       <use xlink:href=\"#DejaVuSans-35\" x=\"127.246094\"/>\n       <use xlink:href=\"#DejaVuSans-30\" x=\"190.869141\"/>\n      </g>\n     </g>\n    </g>\n    <g id=\"xtick_14\">\n     <g id=\"line2d_38\">\n      <path d=\"M 509.584176 354.958125 \nL 509.584176 22.318125 \n\" clip-path=\"url(#p5910ebc003)\" style=\"fill: none; stroke: #b0b0b0; stroke-width: 0.8; stroke-linecap: square\"/>\n     </g>\n     <g id=\"line2d_39\">\n      <g>\n       <use xlink:href=\"#ma98e8a8062\" x=\"509.584176\" y=\"354.958125\" style=\"stroke: #000000; stroke-width: 0.8\"/>\n      </g>\n     </g>\n     <g id=\"text_22\">\n      <!-- 1500 -->\n      <g transform=\"translate(496.859176 369.556562) scale(0.1 -0.1)\">\n       <use xlink:href=\"#DejaVuSans-31\"/>\n       <use xlink:href=\"#DejaVuSans-35\" x=\"63.623047\"/>\n       <use xlink:href=\"#DejaVuSans-30\" x=\"127.246094\"/>\n       <use xlink:href=\"#DejaVuSans-30\" x=\"190.869141\"/>\n      </g>\n     </g>\n    </g>\n    <g id=\"text_23\">\n     <!-- Batch -->\n     <g transform=\"translate(406.962398 383.234687) scale(0.1 -0.1)\">\n      <use xlink:href=\"#DejaVuSans-42\"/>\n      <use xlink:href=\"#DejaVuSans-61\" x=\"68.603516\"/>\n      <use xlink:href=\"#DejaVuSans-74\" x=\"129.882812\"/>\n      <use xlink:href=\"#DejaVuSans-63\" x=\"169.091797\"/>\n      <use xlink:href=\"#DejaVuSans-68\" x=\"224.072266\"/>\n     </g>\n    </g>\n   </g>\n   <g id=\"matplotlib.axis_4\">\n    <g id=\"ytick_6\">\n     <g id=\"line2d_40\">\n      <path d=\"M 312.161141 347.665418 \nL 530.508967 347.665418 \n\" clip-path=\"url(#p5910ebc003)\" style=\"fill: none; stroke: #b0b0b0; stroke-width: 0.8; stroke-linecap: square\"/>\n     </g>\n     <g id=\"line2d_41\">\n      <g>\n       <use xlink:href=\"#m7096029404\" x=\"312.161141\" y=\"347.665418\" style=\"stroke: #000000; stroke-width: 0.8\"/>\n      </g>\n     </g>\n     <g id=\"text_24\">\n      <!-- 0.45 -->\n      <g transform=\"translate(282.895516 351.464637) scale(0.1 -0.1)\">\n       <use xlink:href=\"#DejaVuSans-30\"/>\n       <use xlink:href=\"#DejaVuSans-2e\" x=\"63.623047\"/>\n       <use xlink:href=\"#DejaVuSans-34\" x=\"95.410156\"/>\n       <use xlink:href=\"#DejaVuSans-35\" x=\"159.033203\"/>\n      </g>\n     </g>\n    </g>\n    <g id=\"ytick_7\">\n     <g id=\"line2d_42\">\n      <path d=\"M 312.161141 274.610566 \nL 530.508967 274.610566 \n\" clip-path=\"url(#p5910ebc003)\" style=\"fill: none; stroke: #b0b0b0; stroke-width: 0.8; stroke-linecap: square\"/>\n     </g>\n     <g id=\"line2d_43\">\n      <g>\n       <use xlink:href=\"#m7096029404\" x=\"312.161141\" y=\"274.610566\" style=\"stroke: #000000; stroke-width: 0.8\"/>\n      </g>\n     </g>\n     <g id=\"text_25\">\n      <!-- 0.50 -->\n      <g transform=\"translate(282.895516 278.409784) scale(0.1 -0.1)\">\n       <use xlink:href=\"#DejaVuSans-30\"/>\n       <use xlink:href=\"#DejaVuSans-2e\" x=\"63.623047\"/>\n       <use xlink:href=\"#DejaVuSans-35\" x=\"95.410156\"/>\n       <use xlink:href=\"#DejaVuSans-30\" x=\"159.033203\"/>\n      </g>\n     </g>\n    </g>\n    <g id=\"ytick_8\">\n     <g id=\"line2d_44\">\n      <path d=\"M 312.161141 201.555713 \nL 530.508967 201.555713 \n\" clip-path=\"url(#p5910ebc003)\" style=\"fill: none; stroke: #b0b0b0; stroke-width: 0.8; stroke-linecap: square\"/>\n     </g>\n     <g id=\"line2d_45\">\n      <g>\n       <use xlink:href=\"#m7096029404\" x=\"312.161141\" y=\"201.555713\" style=\"stroke: #000000; stroke-width: 0.8\"/>\n      </g>\n     </g>\n     <g id=\"text_26\">\n      <!-- 0.55 -->\n      <g transform=\"translate(282.895516 205.354932) scale(0.1 -0.1)\">\n       <use xlink:href=\"#DejaVuSans-30\"/>\n       <use xlink:href=\"#DejaVuSans-2e\" x=\"63.623047\"/>\n       <use xlink:href=\"#DejaVuSans-35\" x=\"95.410156\"/>\n       <use xlink:href=\"#DejaVuSans-35\" x=\"159.033203\"/>\n      </g>\n     </g>\n    </g>\n    <g id=\"ytick_9\">\n     <g id=\"line2d_46\">\n      <path d=\"M 312.161141 128.50086 \nL 530.508967 128.50086 \n\" clip-path=\"url(#p5910ebc003)\" style=\"fill: none; stroke: #b0b0b0; stroke-width: 0.8; stroke-linecap: square\"/>\n     </g>\n     <g id=\"line2d_47\">\n      <g>\n       <use xlink:href=\"#m7096029404\" x=\"312.161141\" y=\"128.50086\" style=\"stroke: #000000; stroke-width: 0.8\"/>\n      </g>\n     </g>\n     <g id=\"text_27\">\n      <!-- 0.60 -->\n      <g transform=\"translate(282.895516 132.300079) scale(0.1 -0.1)\">\n       <use xlink:href=\"#DejaVuSans-30\"/>\n       <use xlink:href=\"#DejaVuSans-2e\" x=\"63.623047\"/>\n       <use xlink:href=\"#DejaVuSans-36\" x=\"95.410156\"/>\n       <use xlink:href=\"#DejaVuSans-30\" x=\"159.033203\"/>\n      </g>\n     </g>\n    </g>\n    <g id=\"ytick_10\">\n     <g id=\"line2d_48\">\n      <path d=\"M 312.161141 55.446008 \nL 530.508967 55.446008 \n\" clip-path=\"url(#p5910ebc003)\" style=\"fill: none; stroke: #b0b0b0; stroke-width: 0.8; stroke-linecap: square\"/>\n     </g>\n     <g id=\"line2d_49\">\n      <g>\n       <use xlink:href=\"#m7096029404\" x=\"312.161141\" y=\"55.446008\" style=\"stroke: #000000; stroke-width: 0.8\"/>\n      </g>\n     </g>\n     <g id=\"text_28\">\n      <!-- 0.65 -->\n      <g transform=\"translate(282.895516 59.245227) scale(0.1 -0.1)\">\n       <use xlink:href=\"#DejaVuSans-30\"/>\n       <use xlink:href=\"#DejaVuSans-2e\" x=\"63.623047\"/>\n       <use xlink:href=\"#DejaVuSans-36\" x=\"95.410156\"/>\n       <use xlink:href=\"#DejaVuSans-35\" x=\"159.033203\"/>\n      </g>\n     </g>\n    </g>\n    <g id=\"text_29\">\n     <!-- Loss -->\n     <g transform=\"translate(276.815829 199.605312) rotate(-90) scale(0.1 -0.1)\">\n      <use xlink:href=\"#DejaVuSans-4c\"/>\n      <use xlink:href=\"#DejaVuSans-6f\" x=\"53.962891\"/>\n      <use xlink:href=\"#DejaVuSans-73\" x=\"115.144531\"/>\n      <use xlink:href=\"#DejaVuSans-73\" x=\"167.244141\"/>\n     </g>\n    </g>\n   </g>\n   <g id=\"line2d_50\">\n    <path d=\"M 322.086042 274.610566 \nL 322.211041 228.951283 \nL 322.461039 320.269848 \nL 322.586038 292.874261 \nL 322.836035 339.838125 \nL 323.086033 244.171073 \nL 323.211031 247.214978 \nL 323.33603 258.007206 \nL 323.961024 200.414231 \nL 324.086023 204.778742 \nL 324.211021 193.438469 \nL 324.33602 192.904444 \nL 324.836015 147.558678 \nL 324.961014 149.047538 \nL 325.086013 150.417348 \nL 325.461009 163.723723 \nL 325.586008 154.951767 \nL 325.711006 155.896413 \nL 325.961004 163.316064 \nL 326.086003 158.38696 \nL 326.211001 159.119459 \nL 326.336 162.419143 \nL 326.585998 185.760079 \nL 326.710996 188.098222 \nL 326.835995 197.340977 \nL 327.085993 196.65568 \nL 327.210991 202.860276 \nL 327.460989 183.292 \nL 327.585988 185.321328 \nL 327.710986 183.292 \nL 328.085983 162.79188 \nL 328.210982 163.201891 \nL 328.460979 165.730757 \nL 328.710977 162.998976 \nL 328.835975 163.367968 \nL 329.085973 168.873247 \nL 329.210972 170.696351 \nL 329.33597 169.362073 \nL 329.460969 172.638156 \nL 329.710967 165.617456 \nL 329.835965 170.246453 \nL 329.960964 166.169769 \nL 330.085963 167.838117 \nL 330.33596 164.210546 \nL 330.460959 163.148158 \nL 330.585958 159.469728 \nL 330.710957 161.114649 \nL 330.960954 155.389124 \nL 331.210952 163.547457 \nL 331.33595 163.810724 \nL 331.460949 168.873247 \nL 331.585948 169.060574 \nL 331.710947 168.07221 \nL 331.835945 174.044543 \nL 331.960944 173.018644 \nL 332.085943 174.272888 \nL 332.210942 172.1556 \nL 332.33594 167.888889 \nL 332.460939 171.333575 \nL 332.585938 171.474309 \nL 332.835935 167.547417 \nL 332.960934 168.764038 \nL 333.085933 166.875183 \nL 333.210932 167.057546 \nL 333.460929 169.395689 \nL 333.585928 169.545132 \nL 333.710927 168.719885 \nL 333.960924 166.169769 \nL 334.335921 169.455867 \nL 334.585918 169.729846 \nL 334.710917 171.653363 \nL 335.085913 180.682925 \nL 335.210912 180.707484 \nL 335.335911 182.438536 \nL 335.460909 180.755383 \nL 335.710907 183.292 \nL 335.835906 183.292 \nL 335.960904 185.738045 \nL 336.210902 182.490963 \nL 336.335901 184.88014 \nL 336.585898 181.731032 \nL 336.835896 184.826755 \nL 336.960894 184.813953 \nL 337.085893 185.556118 \nL 337.210892 183.292 \nL 337.460889 183.292 \nL 337.585888 182.561417 \nL 337.710887 183.292 \nL 337.835886 182.572913 \nL 337.960884 184.005426 \nL 338.085883 183.292 \nL 338.210882 183.292 \nL 338.335881 182.594946 \nL 338.460879 181.216602 \nL 338.585878 181.918794 \nL 338.710877 181.92907 \nL 338.835876 183.292 \nL 338.960874 181.277651 \nL 339.085873 183.292 \nL 339.335871 181.978101 \nL 339.585868 183.939675 \nL 339.710867 181.362736 \nL 339.835866 182.014852 \nL 339.960865 181.389559 \nL 340.085863 181.402622 \nL 340.335861 183.292 \nL 340.46086 183.90902 \nL 340.585858 181.453394 \nL 340.710857 182.07442 \nL 340.835856 182.082519 \nL 340.960855 182.691179 \nL 341.210852 180.327083 \nL 341.335851 180.935394 \nL 341.585848 182.710338 \nL 341.710847 183.292 \nL 341.835846 183.292 \nL 341.960845 181.009071 \nL 342.210842 182.164644 \nL 342.335841 181.611285 \nL 342.46084 181.621562 \nL 342.585838 178.864437 \nL 342.710837 180.541407 \nL 342.835836 180.557954 \nL 343.085833 182.751618 \nL 343.335831 187.030173 \nL 343.46083 185.946622 \nL 343.585828 187.514818 \nL 343.835826 184.335665 \nL 343.960825 184.329743 \nL 344.085823 183.80791 \nL 344.210822 183.805036 \nL 344.335821 186.352975 \nL 344.46082 185.828617 \nL 344.710817 185.800749 \nL 344.835816 186.286091 \nL 344.960815 186.269806 \nL 345.085813 185.760079 \nL 345.210812 186.72876 \nL 345.335811 184.756997 \nL 345.46081 185.720715 \nL 345.585809 187.640486 \nL 345.710807 187.13703 \nL 345.835806 189.029282 \nL 345.960805 186.621294 \nL 346.085804 186.60405 \nL 346.210802 185.174846 \nL 346.4608 185.155687 \nL 346.585799 184.682624 \nL 346.710797 185.136789 \nL 346.960795 185.118413 \nL 347.085794 186.017947 \nL 347.335791 185.991037 \nL 347.46079 186.425519 \nL 347.585789 185.964736 \nL 347.710787 186.395039 \nL 347.835786 184.615479 \nL 347.960785 184.609121 \nL 348.210782 186.335993 \nL 348.335781 186.321536 \nL 348.46078 185.876516 \nL 348.710777 186.705769 \nL 348.835776 185.415645 \nL 349.210772 187.480941 \nL 349.46077 186.19761 \nL 349.585769 186.597693 \nL 349.710767 187.405435 \nL 349.835766 186.158507 \nL 350.085764 186.13299 \nL 350.335761 185.303388 \nL 350.585759 186.880903 \nL 350.710757 186.865315 \nL 350.835756 185.663933 \nL 350.960755 186.047295 \nL 351.085754 185.643555 \nL 351.335751 184.457762 \nL 351.46075 184.452798 \nL 351.585749 184.833199 \nL 351.710748 184.826755 \nL 351.835746 185.966565 \nL 351.960745 185.194441 \nL 352.210743 182.914647 \nL 352.46074 182.917782 \nL 352.585739 181.428313 \nL 352.835736 182.552621 \nL 353.085734 180.724815 \nL 353.210733 180.735091 \nL 353.46073 182.567252 \nL 353.585729 180.765398 \nL 353.710728 181.494413 \nL 353.835726 180.42706 \nL 353.960725 180.795008 \nL 354.46072 179.428507 \nL 354.585719 178.393726 \nL 354.835716 180.514236 \nL 354.960715 180.178859 \nL 355.210713 180.202286 \nL 355.335711 180.555864 \nL 355.46071 179.884588 \nL 355.585709 180.236773 \nL 355.710708 179.23343 \nL 355.835706 180.259241 \nL 355.960705 179.598939 \nL 356.085704 180.95046 \nL 356.335701 179.307194 \nL 356.4607 180.314194 \nL 356.710698 180.335618 \nL 356.960695 178.726054 \nL 357.085694 178.417327 \nL 357.210693 178.758451 \nL 357.46069 178.147266 \nL 357.585689 178.485778 \nL 357.710688 178.502586 \nL 357.835687 179.473793 \nL 358.085684 178.23627 \nL 358.210683 178.253775 \nL 358.335682 177.329595 \nL 358.46068 177.975528 \nL 358.585679 177.993643 \nL 358.835677 177.4105 \nL 358.960675 178.355842 \nL 359.085674 177.757547 \nL 359.335672 178.710814 \nL 359.46067 179.334888 \nL 359.710668 176.337313 \nL 359.835667 176.661629 \nL 359.960665 177.284222 \nL 360.085664 176.106268 \nL 360.46066 177.065718 \nL 360.585659 175.31272 \nL 360.835657 175.657677 \nL 360.960655 174.804038 \nL 361.085654 175.414701 \nL 361.210653 174.85812 \nL 361.335652 176.044522 \nL 361.46065 176.067427 \nL 361.585649 175.802156 \nL 361.710648 176.400016 \nL 361.835647 174.704061 \nL 361.960645 175.586961 \nL 362.085644 175.04205 \nL 362.335642 176.874037 \nL 362.585639 174.664436 \nL 362.710638 175.531747 \nL 362.835637 174.437833 \nL 362.960636 174.46483 \nL 363.210633 175.349036 \nL 363.335632 174.268795 \nL 363.460631 174.571252 \nL 363.585629 174.048636 \nL 363.710628 174.623505 \nL 363.835627 175.740323 \nL 363.960626 175.762879 \nL 364.085624 176.327472 \nL 364.335622 173.942824 \nL 364.585619 173.461836 \nL 364.835617 174.051945 \nL 365.085614 172.781329 \nL 365.210613 172.547671 \nL 365.335612 172.841942 \nL 365.460611 172.609417 \nL 365.585609 172.640072 \nL 365.960606 171.433117 \nL 366.210603 172.274388 \nL 366.335602 172.048133 \nL 366.460601 171.053064 \nL 366.585599 171.087377 \nL 366.710598 170.86626 \nL 366.835597 170.900921 \nL 366.960596 170.427771 \nL 367.085594 170.716555 \nL 367.210593 170.498922 \nL 367.460591 168.059147 \nL 367.585589 168.85191 \nL 368.085585 169.008495 \nL 368.210583 168.553285 \nL 368.335582 169.578051 \nL 368.460581 169.369301 \nL 368.58558 169.406662 \nL 368.960576 171.218444 \nL 369.085575 170.523481 \nL 369.210573 170.557271 \nL 369.335572 171.073007 \nL 369.460571 170.864779 \nL 369.58557 169.698407 \nL 370.085565 172.450045 \nL 370.210563 171.058028 \nL 370.335562 171.325737 \nL 370.460561 170.885593 \nL 370.58556 171.152431 \nL 370.710558 170.949255 \nL 370.835557 170.046238 \nL 370.960556 170.546124 \nL 371.210553 169.683341 \nL 371.335552 169.486522 \nL 371.460551 169.521357 \nL 371.710548 170.50885 \nL 371.960546 167.831934 \nL 372.210543 168.136133 \nL 372.335542 167.947064 \nL 372.460541 167.985122 \nL 372.58554 167.346156 \nL 372.710538 167.610468 \nL 372.835537 168.322414 \nL 373.085535 167.725512 \nL 373.460531 167.173721 \nL 373.58553 167.212737 \nL 373.710529 167.030897 \nL 373.835527 167.730563 \nL 373.960526 167.768011 \nL 374.210524 166.749515 \nL 374.335522 166.788966 \nL 374.460521 166.393237 \nL 374.58552 165.13133 \nL 374.710519 165.390939 \nL 374.835517 166.0812 \nL 374.960516 166.121783 \nL 375.085515 165.517304 \nL 375.335512 166.028512 \nL 375.460511 165.428474 \nL 375.960506 166.651366 \nL 376.335502 167.816258 \nL 376.460501 166.804119 \nL 376.5855 167.050927 \nL 376.710499 165.83657 \nL 376.835497 165.876282 \nL 377.085495 164.712348 \nL 377.210494 164.961072 \nL 377.335492 165.6212 \nL 377.460491 165.45521 \nL 377.58549 165.495358 \nL 377.710489 165.125582 \nL 377.960486 163.983159 \nL 378.085485 163.619305 \nL 378.335482 163.909134 \nL 378.460481 163.547805 \nL 378.58548 163.793046 \nL 378.710479 163.634806 \nL 378.960476 162.719336 \nL 379.210474 163.208161 \nL 379.335473 162.256723 \nL 379.460471 162.302532 \nL 379.710469 163.382077 \nL 379.835468 163.227843 \nL 379.960466 162.680407 \nL 380.085465 162.921206 \nL 380.210464 162.180782 \nL 380.460461 163.24709 \nL 380.58546 164.068941 \nL 380.710459 163.721111 \nL 380.960456 165.352446 \nL 381.085455 165.004181 \nL 381.210454 165.813665 \nL 381.460451 165.311341 \nL 381.58545 165.34905 \nL 381.835448 165.805479 \nL 382.085445 164.738649 \nL 382.335443 165.950307 \nL 382.58544 164.703378 \nL 382.710439 165.11757 \nL 382.835438 164.967342 \nL 382.960436 165.192117 \nL 383.085435 164.855521 \nL 383.460431 162.182785 \nL 383.58543 162.040309 \nL 383.710429 162.268306 \nL 384.085425 160.92471 \nL 384.210424 160.969647 \nL 384.460421 160.328156 \nL 384.58542 160.556414 \nL 384.710419 159.327861 \nL 384.835418 159.738743 \nL 384.960417 159.604192 \nL 385.085415 160.012984 \nL 385.210414 159.336831 \nL 385.335413 160.104774 \nL 385.460412 159.970659 \nL 385.58541 160.195956 \nL 385.710409 159.345627 \nL 385.835408 159.392567 \nL 385.960407 158.903916 \nL 386.085405 159.129561 \nL 386.335403 157.627029 \nL 386.5854 157.726309 \nL 386.835398 156.59277 \nL 387.085395 157.571989 \nL 387.210394 157.446321 \nL 387.460392 156.498976 \nL 387.58539 156.202005 \nL 387.710389 156.253561 \nL 387.835388 155.784853 \nL 387.960387 156.009976 \nL 388.210384 154.561699 \nL 388.460382 155.871767 \nL 388.58538 154.723509 \nL 388.835378 154.830279 \nL 388.960377 154.372109 \nL 389.210374 154.479662 \nL 389.335373 153.85524 \nL 389.58537 155.146061 \nL 389.710369 155.02945 \nL 389.835368 155.418037 \nL 389.960367 155.301339 \nL 390.210364 154.400064 \nL 390.335363 155.120893 \nL 390.460362 155.005675 \nL 390.58536 154.72438 \nL 390.710359 155.108526 \nL 390.835358 154.496558 \nL 390.960357 154.879745 \nL 391.085356 154.600715 \nL 391.210354 154.652532 \nL 391.460352 153.769807 \nL 391.585351 153.494782 \nL 391.710349 153.875619 \nL 391.835348 153.438088 \nL 392.085346 154.195842 \nL 392.335343 153.487989 \nL 392.460342 153.864733 \nL 392.710339 153.645967 \nL 392.835338 153.698307 \nL 392.960337 154.393706 \nL 393.210334 153.854108 \nL 393.335333 153.745683 \nL 393.460332 153.318255 \nL 393.585331 153.370595 \nL 394.585321 150.323728 \nL 394.710319 150.066556 \nL 394.960317 150.649612 \nL 395.335313 149.104668 \nL 395.460312 149.318208 \nL 395.710309 150.207552 \nL 395.835308 150.26355 \nL 395.960307 150.165053 \nL 396.085306 150.220877 \nL 396.460302 149.31455 \nL 396.7103 150.497556 \nL 396.835298 150.399756 \nL 396.960297 150.759082 \nL 397.085296 150.205288 \nL 397.210295 150.260241 \nL 397.460292 149.462252 \nL 397.585291 149.367238 \nL 397.71029 149.573899 \nL 397.960287 148.182491 \nL 398.210285 147.698629 \nL 398.335283 147.756891 \nL 398.585281 146.382727 \nL 398.835278 147.245422 \nL 399.210275 146.090198 \nL 399.460272 145.473613 \nL 399.585271 145.68158 \nL 400.335263 142.108004 \nL 400.460262 142.173668 \nL 400.585261 142.384248 \nL 400.71026 141.869208 \nL 400.835258 141.934873 \nL 401.085256 140.911151 \nL 401.210255 140.978035 \nL 401.460252 141.542018 \nL 401.585251 141.464161 \nL 401.71025 141.529739 \nL 401.960247 140.090258 \nL 402.085246 140.157751 \nL 402.210245 140.082681 \nL 402.460242 138.829831 \nL 402.585241 138.757112 \nL 402.71024 137.977499 \nL 402.960237 138.540437 \nL 403.085236 137.764743 \nL 403.210235 137.975322 \nL 403.335234 137.623921 \nL 403.71023 139.510077 \nL 403.960227 140.200773 \nL 404.210225 140.748383 \nL 404.460222 140.877448 \nL 404.585221 141.21805 \nL 404.71022 140.867607 \nL 404.835219 140.931617 \nL 404.960217 140.307456 \nL 405.210215 141.122514 \nL 405.335214 140.774858 \nL 405.460212 141.112064 \nL 405.585211 140.765453 \nL 405.71021 140.010747 \nL 405.835209 140.211398 \nL 405.960207 140.139637 \nL 406.085206 140.475275 \nL 406.210205 140.267744 \nL 406.335204 140.60225 \nL 406.7102 139.308816 \nL 406.835199 139.508161 \nL 406.960197 139.035185 \nL 407.210195 139.834916 \nL 407.335194 139.630955 \nL 407.585191 139.758539 \nL 407.835189 139.087351 \nL 407.960188 139.151622 \nL 408.085186 139.746173 \nL 408.210185 139.412103 \nL 408.460183 139.935067 \nL 408.835179 138.413288 \nL 408.960178 138.477821 \nL 409.085176 138.148889 \nL 409.210175 138.475382 \nL 409.335174 138.408847 \nL 409.585171 137.363876 \nL 409.71017 136.51825 \nL 409.960168 137.040605 \nL 410.085166 136.847008 \nL 410.210165 137.042259 \nL 410.460163 137.68915 \nL 410.585161 136.98034 \nL 410.71016 137.560347 \nL 410.835159 137.496163 \nL 410.960158 137.560521 \nL 411.585151 135.713294 \nL 411.835149 135.083298 \nL 411.960148 135.023381 \nL 412.085146 134.330072 \nL 412.335144 135.223771 \nL 412.460143 134.659266 \nL 412.585141 134.85234 \nL 412.71014 134.163995 \nL 412.835139 134.357331 \nL 412.960138 133.671512 \nL 413.085136 133.614295 \nL 413.335134 132.625409 \nL 413.460133 132.569846 \nL 413.585132 132.888415 \nL 413.71013 132.459157 \nL 413.835129 132.652667 \nL 414.085127 131.426553 \nL 414.210125 131.496833 \nL 414.460123 130.402222 \nL 415.085117 129.530992 \nL 415.585112 130.306163 \nL 415.71011 130.742301 \nL 415.835109 130.690658 \nL 415.960108 130.517701 \nL 416.210105 129.8095 \nL 416.460103 129.830227 \nL 416.585102 129.780238 \nL 416.960098 128.548985 \nL 417.335094 128.644521 \nL 417.460093 128.357391 \nL 417.71009 128.381602 \nL 417.835089 128.334139 \nL 417.960088 128.405725 \nL 418.085087 128.952291 \nL 418.71008 128.00512 \nL 418.835079 127.72278 \nL 419.085077 128.21866 \nL 419.460073 129.133347 \nL 419.585072 128.851791 \nL 419.710071 128.921462 \nL 420.210066 127.33846 \nL 420.335064 127.525699 \nL 420.585062 127.088168 \nL 420.710061 126.928013 \nL 421.460053 124.828056 \nL 421.710051 125.318101 \nL 421.835049 124.933346 \nL 422.085047 125.649385 \nL 422.210046 125.037765 \nL 422.335044 125.110396 \nL 422.460043 124.955466 \nL 422.585042 125.141487 \nL 422.710041 124.646913 \nL 422.835039 124.606417 \nL 423.085037 123.84814 \nL 423.210036 124.034335 \nL 423.460033 124.405417 \nL 423.585032 123.915982 \nL 423.710031 123.876705 \nL 424.085027 122.753093 \nL 424.210026 122.938853 \nL 424.335024 122.900969 \nL 424.585022 122.046634 \nL 425.085017 121.347055 \nL 425.210016 120.979717 \nL 425.335015 121.275991 \nL 425.460013 121.240633 \nL 426.210006 118.729533 \nL 426.460003 118.993323 \nL 426.835 119.876745 \nL 427.084997 118.832645 \nL 427.334995 119.635859 \nL 427.459993 119.494864 \nL 427.709991 118.781786 \nL 427.959988 119.041744 \nL 428.709981 117.460832 \nL 428.83498 117.537818 \nL 429.084977 117.691355 \nL 429.334975 118.056864 \nL 429.709971 117.012154 \nL 429.83497 117.194865 \nL 429.959968 117.165691 \nL 430.334965 116.235502 \nL 430.459963 116.418039 \nL 430.584962 116.60014 \nL 430.83496 116.438679 \nL 431.209956 115.204813 \nL 431.459954 115.881837 \nL 431.709951 115.202985 \nL 431.83495 115.072614 \nL 431.959949 114.631164 \nL 432.084947 114.605385 \nL 432.209946 114.268964 \nL 432.334945 114.347169 \nL 432.709941 113.034054 \nL 433.209936 111.912881 \nL 433.334935 111.377811 \nL 433.584932 111.641253 \nL 434.084927 110.840564 \nL 434.209926 111.531696 \nL 434.334925 111.509924 \nL 434.459924 111.691241 \nL 434.709921 110.735971 \nL 434.83492 110.816353 \nL 434.959919 110.391276 \nL 435.209916 110.350606 \nL 435.459914 110.712544 \nL 435.584912 110.591405 \nL 435.83491 111.252491 \nL 436.209906 109.889822 \nL 436.334905 109.970031 \nL 437.084898 107.968135 \nL 437.209896 108.049823 \nL 437.459894 107.520676 \nL 437.584893 107.602626 \nL 437.709891 107.783072 \nL 438.084888 107.043607 \nL 438.209886 107.125644 \nL 438.459884 106.995099 \nL 438.83488 108.021694 \nL 438.959879 108.004538 \nL 439.084878 108.377362 \nL 439.209876 108.359857 \nL 439.334875 107.953243 \nL 439.459874 108.422212 \nL 439.959869 108.2557 \nL 440.334865 107.335875 \nL 440.709861 106.902698 \nL 440.83486 106.887022 \nL 441.334855 105.580961 \nL 441.459854 105.662301 \nL 442.084848 104.070068 \nL 442.459844 104.790462 \nL 442.584843 104.871889 \nL 442.959839 103.902249 \nL 443.209837 103.595089 \nL 443.959829 101.463955 \nL 444.084828 101.360755 \nL 444.584823 100.204747 \nL 444.709822 100.289397 \nL 444.83482 100.095016 \nL 444.959819 99.622475 \nL 445.084818 99.614724 \nL 445.459814 98.851658 \nL 445.584813 98.567576 \nL 445.959809 99.56073 \nL 446.209807 99.177803 \nL 446.334805 99.354244 \nL 446.584803 99.247735 \nL 446.8348 98.318591 \nL 446.959799 98.403589 \nL 447.084798 98.12334 \nL 447.209797 98.390787 \nL 447.584793 97.462427 \nL 447.709792 97.456941 \nL 448.209787 96.259217 \nL 448.584783 96.968115 \nL 448.709782 96.692829 \nL 449.209777 94.968919 \nL 449.584773 95.318142 \nL 449.834771 94.418435 \nL 450.084768 95.037632 \nL 450.209767 94.945579 \nL 450.459764 94.406504 \nL 450.834761 93.158704 \nL 451.084758 93.421798 \nL 451.334756 92.889341 \nL 451.584753 92.799466 \nL 451.959749 91.654953 \nL 452.334746 92.006266 \nL 452.459744 91.743696 \nL 452.584743 91.743957 \nL 452.709742 91.394733 \nL 452.834741 91.65713 \nL 452.959739 91.657391 \nL 453.084738 91.135123 \nL 453.209737 91.309909 \nL 453.584733 90.444166 \nL 453.709732 90.532299 \nL 453.95973 90.881087 \nL 454.084728 90.449914 \nL 454.209727 90.537699 \nL 454.334726 90.107657 \nL 454.584723 90.369531 \nL 454.709722 90.026927 \nL 454.834721 90.028755 \nL 454.95972 89.60124 \nL 455.084718 89.775068 \nL 455.709712 88.675231 \nL 455.95971 88.766674 \nL 456.084708 88.684462 \nL 456.459705 87.759586 \nL 456.584703 87.424209 \nL 456.834701 87.348007 \nL 457.209697 87.867488 \nL 457.834691 86.457444 \nL 458.084688 86.635365 \nL 458.334686 86.226399 \nL 458.459685 85.81334 \nL 458.709682 85.824661 \nL 458.834681 85.997096 \nL 459.084679 85.425013 \nL 459.334676 85.021273 \nL 459.709672 84.128183 \nL 459.834671 84.135325 \nL 460.209667 83.413102 \nL 460.334666 83.338294 \nL 460.459665 83.758407 \nL 460.584664 83.683424 \nL 460.709662 83.937896 \nL 461.459655 82.343747 \nL 461.709652 81.788908 \nL 461.95965 82.051827 \nL 462.459645 80.542763 \nL 462.584644 80.715285 \nL 462.709642 81.21221 \nL 462.834641 81.140624 \nL 463.209637 80.360923 \nL 463.584634 79.424029 \nL 463.709632 79.193332 \nL 463.95963 78.411629 \nL 464.209627 78.2749 \nL 464.459625 77.818123 \nL 464.95962 76.749551 \nL 465.584614 75.464043 \nL 465.709613 75.557837 \nL 465.95961 76.062164 \nL 466.084609 75.75901 \nL 466.334606 75.866216 \nL 466.459605 75.722085 \nL 466.584604 75.894084 \nL 466.834601 75.764236 \nL 467.209598 75.255728 \nL 467.584594 74.671366 \nL 467.834591 74.23131 \nL 468.709583 74.259352 \nL 469.084579 73.605929 \nL 469.459575 73.807451 \nL 469.95957 73.020087 \nL 470.084569 73.344491 \nL 470.459565 73.083923 \nL 470.834562 72.134313 \nL 471.084559 72.47387 \nL 471.334557 71.894908 \nL 471.459555 72.064469 \nL 471.584554 71.928437 \nL 471.834552 71.428551 \nL 472.084549 70.854204 \nL 472.334547 70.281774 \nL 472.584544 70.621069 \nL 473.084539 70.087219 \nL 473.334537 70.726882 \nL 473.584534 70.686647 \nL 473.834532 70.120138 \nL 473.95953 70.138078 \nL 474.334527 69.367435 \nL 474.459525 69.385985 \nL 474.709523 68.899685 \nL 474.834522 68.993217 \nL 475.209518 68.229802 \nL 475.334517 68.323596 \nL 475.459515 68.640423 \nL 475.709513 68.232763 \nL 475.834512 68.474694 \nL 475.95951 68.419655 \nL 476.209508 67.791488 \nL 476.334507 67.88502 \nL 476.709503 68.607591 \nL 477.209498 67.505926 \nL 477.459496 67.692207 \nL 477.709493 66.99794 \nL 477.834492 67.091299 \nL 478.084489 67.496868 \nL 478.459486 66.752874 \nL 479.084479 65.544961 \nL 479.584474 66.7156 \nL 480.084469 66.001042 \nL 480.209468 65.949399 \nL 480.334467 65.609406 \nL 480.459466 65.630221 \nL 480.584464 65.219077 \nL 480.709463 65.240153 \nL 480.959461 65.569433 \nL 481.209458 65.037237 \nL 481.334457 64.771792 \nL 481.459456 64.864716 \nL 481.584454 65.10055 \nL 481.834452 64.856878 \nL 481.959451 64.735302 \nL 482.08445 65.113178 \nL 482.209448 64.991603 \nL 482.584445 65.694492 \nL 483.584435 63.530263 \nL 483.834432 64.06812 \nL 483.959431 63.807639 \nL 484.08443 63.970233 \nL 484.334427 63.66168 \nL 484.584425 63.705224 \nL 485.08442 62.461605 \nL 485.459416 61.830825 \nL 485.709413 61.249076 \nL 485.834412 61.202832 \nL 485.959411 61.295929 \nL 486.334407 61.921832 \nL 486.459406 61.944736 \nL 486.959401 61.274332 \nL 487.209398 61.666402 \nL 487.334397 61.551185 \nL 487.459396 61.712211 \nL 487.834392 61.229829 \nL 488.08439 61.482385 \nL 488.334387 61.116266 \nL 488.459386 61.002268 \nL 488.834382 60.25061 \nL 488.959381 60.13757 \nL 489.209379 60.663234 \nL 489.959371 59.239516 \nL 490.08437 59.399672 \nL 490.459366 59.133356 \nL 490.709364 59.317373 \nL 490.834362 59.071001 \nL 490.959361 59.162966 \nL 491.334357 58.76358 \nL 491.584355 58.408608 \nL 491.709354 58.231471 \nL 491.959351 58.751387 \nL 492.08435 58.775859 \nL 492.209349 58.598983 \nL 492.459346 58.982868 \nL 492.709344 58.496132 \nL 493.08434 57.835307 \nL 493.209339 57.593463 \nL 493.334338 57.618631 \nL 493.709334 58.225636 \nL 493.834333 58.183747 \nL 493.959331 57.942686 \nL 494.08433 57.967419 \nL 494.334328 57.486693 \nL 494.584325 56.808886 \nL 494.709324 56.768302 \nL 494.959321 57.083213 \nL 495.209319 57.001786 \nL 495.459316 56.459749 \nL 495.709314 56.642373 \nL 495.959311 56.299333 \nL 496.08431 56.324937 \nL 496.834303 55.367663 \nL 496.959301 55.328561 \nL 497.459296 54.261644 \nL 497.709294 54.770151 \nL 498.459286 53.892999 \nL 498.584285 53.919997 \nL 499.08428 52.995817 \nL 499.709274 52.297631 \nL 499.834273 52.453954 \nL 500.334268 51.604409 \nL 500.584265 51.724852 \nL 500.959262 51.234981 \nL 501.334258 50.810862 \nL 501.834253 50.290423 \nL 501.959252 50.255936 \nL 502.08425 50.47505 \nL 502.209249 50.440476 \nL 502.459247 50.118424 \nL 502.834243 49.700139 \nL 503.209239 50.606727 \nL 503.334238 50.761222 \nL 503.959232 50.212566 \nL 504.209229 49.956527 \nL 504.709224 49.446626 \nL 504.959222 49.255119 \nL 505.084221 48.972518 \nL 505.459217 49.122658 \nL 505.959212 48.370216 \nL 506.209209 47.995476 \nL 506.334208 47.96334 \nL 506.709204 47.187297 \nL 506.959202 47.309569 \nL 507.084201 47.278043 \nL 507.459197 46.814386 \nL 507.584196 46.66024 \nL 508.084191 45.493432 \nL 508.209189 45.463387 \nL 508.334188 45.555875 \nL 508.459187 45.464519 \nL 508.584186 45.189669 \nL 508.959182 45.344599 \nL 509.209179 45.041009 \nL 509.584176 44.708768 \nL 509.834173 44.224558 \nL 509.959172 44.256345 \nL 510.334168 43.684437 \nL 510.709165 43.538477 \nL 510.959162 43.965122 \nL 511.084161 43.634535 \nL 511.334158 43.638106 \nL 511.584156 43.460882 \nL 511.709155 43.372487 \nL 512.084151 42.567444 \nL 512.20915 42.719935 \nL 512.459147 43.144316 \nL 512.584146 43.056531 \nL 512.959142 42.315498 \nL 513.334138 41.87579 \nL 513.584136 41.285593 \nL 513.834133 41.292125 \nL 514.084131 41.060906 \nL 514.20913 41.093999 \nL 514.459127 41.338107 \nL 514.834123 40.666919 \nL 514.959122 40.7001 \nL 515.334118 40.563371 \nL 515.459117 40.596639 \nL 515.959112 39.610627 \nL 516.084111 39.409017 \nL 516.20911 39.442808 \nL 516.584106 39.191994 \nL 516.834104 39.5528 \nL 517.2091 39.06859 \nL 517.459097 38.727378 \nL 517.834094 38.887708 \nL 518.334089 37.917981 \nL 518.584086 38.33522 \nL 519.334079 37.786913 \nL 519.709075 38.294028 \nL 520.084071 37.76157 \nL 520.334069 37.8875 \nL 520.584066 37.438125 \nL 520.584066 37.438125 \n\" clip-path=\"url(#p5910ebc003)\" style=\"fill: none; stroke: #ff7f0e; stroke-width: 1.5; stroke-linecap: square\"/>\n   </g>\n   <g id=\"patch_8\">\n    <path d=\"M 312.161141 354.958125 \nL 312.161141 22.318125 \n\" style=\"fill: none; stroke: #000000; stroke-width: 0.8; stroke-linejoin: miter; stroke-linecap: square\"/>\n   </g>\n   <g id=\"patch_9\">\n    <path d=\"M 530.508967 354.958125 \nL 530.508967 22.318125 \n\" style=\"fill: none; stroke: #000000; stroke-width: 0.8; stroke-linejoin: miter; stroke-linecap: square\"/>\n   </g>\n   <g id=\"patch_10\">\n    <path d=\"M 312.161141 354.958125 \nL 530.508967 354.958125 \n\" style=\"fill: none; stroke: #000000; stroke-width: 0.8; stroke-linejoin: miter; stroke-linecap: square\"/>\n   </g>\n   <g id=\"patch_11\">\n    <path d=\"M 312.161141 22.318125 \nL 530.508967 22.318125 \n\" style=\"fill: none; stroke: #000000; stroke-width: 0.8; stroke-linejoin: miter; stroke-linecap: square\"/>\n   </g>\n   <g id=\"text_30\">\n    <!-- Accuracy -->\n    <g transform=\"translate(393.941304 16.318125) scale(0.12 -0.12)\">\n     <defs>\n      <path id=\"DejaVuSans-41\" d=\"M 2188 4044 \nL 1331 1722 \nL 3047 1722 \nL 2188 4044 \nz\nM 1831 4666 \nL 2547 4666 \nL 4325 0 \nL 3669 0 \nL 3244 1197 \nL 1141 1197 \nL 716 0 \nL 50 0 \nL 1831 4666 \nz\n\" transform=\"scale(0.015625)\"/>\n      <path id=\"DejaVuSans-75\" d=\"M 544 1381 \nL 544 3500 \nL 1119 3500 \nL 1119 1403 \nQ 1119 906 1312 657 \nQ 1506 409 1894 409 \nQ 2359 409 2629 706 \nQ 2900 1003 2900 1516 \nL 2900 3500 \nL 3475 3500 \nL 3475 0 \nL 2900 0 \nL 2900 538 \nQ 2691 219 2414 64 \nQ 2138 -91 1772 -91 \nQ 1169 -91 856 284 \nQ 544 659 544 1381 \nz\nM 1991 3584 \nL 1991 3584 \nz\n\" transform=\"scale(0.015625)\"/>\n      <path id=\"DejaVuSans-79\" d=\"M 2059 -325 \nQ 1816 -950 1584 -1140 \nQ 1353 -1331 966 -1331 \nL 506 -1331 \nL 506 -850 \nL 844 -850 \nQ 1081 -850 1212 -737 \nQ 1344 -625 1503 -206 \nL 1606 56 \nL 191 3500 \nL 800 3500 \nL 1894 763 \nL 2988 3500 \nL 3597 3500 \nL 2059 -325 \nz\n\" transform=\"scale(0.015625)\"/>\n     </defs>\n     <use xlink:href=\"#DejaVuSans-41\"/>\n     <use xlink:href=\"#DejaVuSans-63\" x=\"66.658203\"/>\n     <use xlink:href=\"#DejaVuSans-63\" x=\"121.638672\"/>\n     <use xlink:href=\"#DejaVuSans-75\" x=\"176.619141\"/>\n     <use xlink:href=\"#DejaVuSans-72\" x=\"239.998047\"/>\n     <use xlink:href=\"#DejaVuSans-61\" x=\"281.111328\"/>\n     <use xlink:href=\"#DejaVuSans-63\" x=\"342.390625\"/>\n     <use xlink:href=\"#DejaVuSans-79\" x=\"397.371094\"/>\n    </g>\n   </g>\n  </g>\n  <g id=\"axes_3\">\n   <g id=\"patch_12\">\n    <path d=\"M 574.178533 354.958125 \nL 792.526359 354.958125 \nL 792.526359 22.318125 \nL 574.178533 22.318125 \nz\n\" style=\"fill: #ffffff\"/>\n   </g>\n   <g id=\"matplotlib.axis_5\">\n    <g id=\"xtick_15\">\n     <g id=\"line2d_51\">\n      <g>\n       <use xlink:href=\"#ma98e8a8062\" x=\"584.103434\" y=\"354.958125\" style=\"stroke: #000000; stroke-width: 0.8\"/>\n      </g>\n     </g>\n     <g id=\"text_31\">\n      <!-- 0 -->\n      <g transform=\"translate(580.922184 369.556562) scale(0.1 -0.1)\">\n       <use xlink:href=\"#DejaVuSans-30\"/>\n      </g>\n     </g>\n    </g>\n    <g id=\"xtick_16\">\n     <g id=\"line2d_52\">\n      <g>\n       <use xlink:href=\"#ma98e8a8062\" x=\"642.485205\" y=\"354.958125\" style=\"stroke: #000000; stroke-width: 0.8\"/>\n      </g>\n     </g>\n     <g id=\"text_32\">\n      <!-- 10 -->\n      <g transform=\"translate(636.122705 369.556562) scale(0.1 -0.1)\">\n       <use xlink:href=\"#DejaVuSans-31\"/>\n       <use xlink:href=\"#DejaVuSans-30\" x=\"63.623047\"/>\n      </g>\n     </g>\n    </g>\n    <g id=\"xtick_17\">\n     <g id=\"line2d_53\">\n      <g>\n       <use xlink:href=\"#ma98e8a8062\" x=\"700.866977\" y=\"354.958125\" style=\"stroke: #000000; stroke-width: 0.8\"/>\n      </g>\n     </g>\n     <g id=\"text_33\">\n      <!-- 20 -->\n      <g transform=\"translate(694.504477 369.556562) scale(0.1 -0.1)\">\n       <use xlink:href=\"#DejaVuSans-32\"/>\n       <use xlink:href=\"#DejaVuSans-30\" x=\"63.623047\"/>\n      </g>\n     </g>\n    </g>\n    <g id=\"xtick_18\">\n     <g id=\"line2d_54\">\n      <g>\n       <use xlink:href=\"#ma98e8a8062\" x=\"759.248749\" y=\"354.958125\" style=\"stroke: #000000; stroke-width: 0.8\"/>\n      </g>\n     </g>\n     <g id=\"text_34\">\n      <!-- 30 -->\n      <g transform=\"translate(752.886249 369.556562) scale(0.1 -0.1)\">\n       <defs>\n        <path id=\"DejaVuSans-33\" d=\"M 2597 2516 \nQ 3050 2419 3304 2112 \nQ 3559 1806 3559 1356 \nQ 3559 666 3084 287 \nQ 2609 -91 1734 -91 \nQ 1441 -91 1130 -33 \nQ 819 25 488 141 \nL 488 750 \nQ 750 597 1062 519 \nQ 1375 441 1716 441 \nQ 2309 441 2620 675 \nQ 2931 909 2931 1356 \nQ 2931 1769 2642 2001 \nQ 2353 2234 1838 2234 \nL 1294 2234 \nL 1294 2753 \nL 1863 2753 \nQ 2328 2753 2575 2939 \nQ 2822 3125 2822 3475 \nQ 2822 3834 2567 4026 \nQ 2313 4219 1838 4219 \nQ 1578 4219 1281 4162 \nQ 984 4106 628 3988 \nL 628 4550 \nQ 988 4650 1302 4700 \nQ 1616 4750 1894 4750 \nQ 2613 4750 3031 4423 \nQ 3450 4097 3450 3541 \nQ 3450 3153 3228 2886 \nQ 3006 2619 2597 2516 \nz\n\" transform=\"scale(0.015625)\"/>\n       </defs>\n       <use xlink:href=\"#DejaVuSans-33\"/>\n       <use xlink:href=\"#DejaVuSans-30\" x=\"63.623047\"/>\n      </g>\n     </g>\n    </g>\n   </g>\n   <g id=\"matplotlib.axis_6\">\n    <g id=\"ytick_11\">\n     <g id=\"line2d_55\">\n      <g>\n       <use xlink:href=\"#m7096029404\" x=\"574.178533\" y=\"330.975543\" style=\"stroke: #000000; stroke-width: 0.8\"/>\n      </g>\n     </g>\n     <g id=\"text_35\">\n      <!-- 0.61 -->\n      <g transform=\"translate(544.912908 334.774762) scale(0.1 -0.1)\">\n       <use xlink:href=\"#DejaVuSans-30\"/>\n       <use xlink:href=\"#DejaVuSans-2e\" x=\"63.623047\"/>\n       <use xlink:href=\"#DejaVuSans-36\" x=\"95.410156\"/>\n       <use xlink:href=\"#DejaVuSans-31\" x=\"159.033203\"/>\n      </g>\n     </g>\n    </g>\n    <g id=\"ytick_12\">\n     <g id=\"line2d_56\">\n      <g>\n       <use xlink:href=\"#m7096029404\" x=\"574.178533\" y=\"293.988999\" style=\"stroke: #000000; stroke-width: 0.8\"/>\n      </g>\n     </g>\n     <g id=\"text_36\">\n      <!-- 0.62 -->\n      <g transform=\"translate(544.912908 297.788218) scale(0.1 -0.1)\">\n       <use xlink:href=\"#DejaVuSans-30\"/>\n       <use xlink:href=\"#DejaVuSans-2e\" x=\"63.623047\"/>\n       <use xlink:href=\"#DejaVuSans-36\" x=\"95.410156\"/>\n       <use xlink:href=\"#DejaVuSans-32\" x=\"159.033203\"/>\n      </g>\n     </g>\n    </g>\n    <g id=\"ytick_13\">\n     <g id=\"line2d_57\">\n      <g>\n       <use xlink:href=\"#m7096029404\" x=\"574.178533\" y=\"257.002456\" style=\"stroke: #000000; stroke-width: 0.8\"/>\n      </g>\n     </g>\n     <g id=\"text_37\">\n      <!-- 0.63 -->\n      <g transform=\"translate(544.912908 260.801675) scale(0.1 -0.1)\">\n       <use xlink:href=\"#DejaVuSans-30\"/>\n       <use xlink:href=\"#DejaVuSans-2e\" x=\"63.623047\"/>\n       <use xlink:href=\"#DejaVuSans-36\" x=\"95.410156\"/>\n       <use xlink:href=\"#DejaVuSans-33\" x=\"159.033203\"/>\n      </g>\n     </g>\n    </g>\n    <g id=\"ytick_14\">\n     <g id=\"line2d_58\">\n      <g>\n       <use xlink:href=\"#m7096029404\" x=\"574.178533\" y=\"220.015912\" style=\"stroke: #000000; stroke-width: 0.8\"/>\n      </g>\n     </g>\n     <g id=\"text_38\">\n      <!-- 0.64 -->\n      <g transform=\"translate(544.912908 223.815131) scale(0.1 -0.1)\">\n       <use xlink:href=\"#DejaVuSans-30\"/>\n       <use xlink:href=\"#DejaVuSans-2e\" x=\"63.623047\"/>\n       <use xlink:href=\"#DejaVuSans-36\" x=\"95.410156\"/>\n       <use xlink:href=\"#DejaVuSans-34\" x=\"159.033203\"/>\n      </g>\n     </g>\n    </g>\n    <g id=\"ytick_15\">\n     <g id=\"line2d_59\">\n      <g>\n       <use xlink:href=\"#m7096029404\" x=\"574.178533\" y=\"183.029369\" style=\"stroke: #000000; stroke-width: 0.8\"/>\n      </g>\n     </g>\n     <g id=\"text_39\">\n      <!-- 0.65 -->\n      <g transform=\"translate(544.912908 186.828588) scale(0.1 -0.1)\">\n       <use xlink:href=\"#DejaVuSans-30\"/>\n       <use xlink:href=\"#DejaVuSans-2e\" x=\"63.623047\"/>\n       <use xlink:href=\"#DejaVuSans-36\" x=\"95.410156\"/>\n       <use xlink:href=\"#DejaVuSans-35\" x=\"159.033203\"/>\n      </g>\n     </g>\n    </g>\n    <g id=\"ytick_16\">\n     <g id=\"line2d_60\">\n      <g>\n       <use xlink:href=\"#m7096029404\" x=\"574.178533\" y=\"146.042825\" style=\"stroke: #000000; stroke-width: 0.8\"/>\n      </g>\n     </g>\n     <g id=\"text_40\">\n      <!-- 0.66 -->\n      <g transform=\"translate(544.912908 149.842044) scale(0.1 -0.1)\">\n       <use xlink:href=\"#DejaVuSans-30\"/>\n       <use xlink:href=\"#DejaVuSans-2e\" x=\"63.623047\"/>\n       <use xlink:href=\"#DejaVuSans-36\" x=\"95.410156\"/>\n       <use xlink:href=\"#DejaVuSans-36\" x=\"159.033203\"/>\n      </g>\n     </g>\n    </g>\n    <g id=\"ytick_17\">\n     <g id=\"line2d_61\">\n      <g>\n       <use xlink:href=\"#m7096029404\" x=\"574.178533\" y=\"109.056282\" style=\"stroke: #000000; stroke-width: 0.8\"/>\n      </g>\n     </g>\n     <g id=\"text_41\">\n      <!-- 0.67 -->\n      <g transform=\"translate(544.912908 112.855501) scale(0.1 -0.1)\">\n       <use xlink:href=\"#DejaVuSans-30\"/>\n       <use xlink:href=\"#DejaVuSans-2e\" x=\"63.623047\"/>\n       <use xlink:href=\"#DejaVuSans-36\" x=\"95.410156\"/>\n       <use xlink:href=\"#DejaVuSans-37\" x=\"159.033203\"/>\n      </g>\n     </g>\n    </g>\n    <g id=\"ytick_18\">\n     <g id=\"line2d_62\">\n      <g>\n       <use xlink:href=\"#m7096029404\" x=\"574.178533\" y=\"72.069738\" style=\"stroke: #000000; stroke-width: 0.8\"/>\n      </g>\n     </g>\n     <g id=\"text_42\">\n      <!-- 0.68 -->\n      <g transform=\"translate(544.912908 75.868957) scale(0.1 -0.1)\">\n       <use xlink:href=\"#DejaVuSans-30\"/>\n       <use xlink:href=\"#DejaVuSans-2e\" x=\"63.623047\"/>\n       <use xlink:href=\"#DejaVuSans-36\" x=\"95.410156\"/>\n       <use xlink:href=\"#DejaVuSans-38\" x=\"159.033203\"/>\n      </g>\n     </g>\n    </g>\n    <g id=\"ytick_19\">\n     <g id=\"line2d_63\">\n      <g>\n       <use xlink:href=\"#m7096029404\" x=\"574.178533\" y=\"35.083195\" style=\"stroke: #000000; stroke-width: 0.8\"/>\n      </g>\n     </g>\n     <g id=\"text_43\">\n      <!-- 0.69 -->\n      <g transform=\"translate(544.912908 38.882413) scale(0.1 -0.1)\">\n       <defs>\n        <path id=\"DejaVuSans-39\" d=\"M 703 97 \nL 703 672 \nQ 941 559 1184 500 \nQ 1428 441 1663 441 \nQ 2288 441 2617 861 \nQ 2947 1281 2994 2138 \nQ 2813 1869 2534 1725 \nQ 2256 1581 1919 1581 \nQ 1219 1581 811 2004 \nQ 403 2428 403 3163 \nQ 403 3881 828 4315 \nQ 1253 4750 1959 4750 \nQ 2769 4750 3195 4129 \nQ 3622 3509 3622 2328 \nQ 3622 1225 3098 567 \nQ 2575 -91 1691 -91 \nQ 1453 -91 1209 -44 \nQ 966 3 703 97 \nz\nM 1959 2075 \nQ 2384 2075 2632 2365 \nQ 2881 2656 2881 3163 \nQ 2881 3666 2632 3958 \nQ 2384 4250 1959 4250 \nQ 1534 4250 1286 3958 \nQ 1038 3666 1038 3163 \nQ 1038 2656 1286 2365 \nQ 1534 2075 1959 2075 \nz\n\" transform=\"scale(0.015625)\"/>\n       </defs>\n       <use xlink:href=\"#DejaVuSans-30\"/>\n       <use xlink:href=\"#DejaVuSans-2e\" x=\"63.623047\"/>\n       <use xlink:href=\"#DejaVuSans-36\" x=\"95.410156\"/>\n       <use xlink:href=\"#DejaVuSans-39\" x=\"159.033203\"/>\n      </g>\n     </g>\n    </g>\n   </g>\n   <g id=\"line2d_64\">\n    <path d=\"M 584.103434 44.351656 \nL 589.941611 37.438125 \nL 595.779788 45.479146 \nL 601.617965 51.064791 \nL 607.456142 56.320045 \nL 613.29432 62.705067 \nL 619.132497 67.757731 \nL 624.970674 71.582502 \nL 630.808851 82.793401 \nL 636.647028 73.372128 \nL 642.485205 56.16348 \nL 648.323383 46.266913 \nL 654.16156 68.563276 \nL 659.999737 89.465815 \nL 665.837914 110.696435 \nL 671.676091 126.10526 \nL 677.514268 132.598523 \nL 683.352446 155.818354 \nL 689.190623 173.680248 \nL 695.0288 190.78628 \nL 700.866977 206.133327 \nL 706.705154 220.28849 \nL 712.543331 240.901848 \nL 718.381509 258.25849 \nL 724.219686 278.255355 \nL 730.057863 286.741882 \nL 735.89604 304.19498 \nL 741.734217 307.068946 \nL 747.572395 321.584798 \nL 753.410572 333.092964 \nL 759.248749 320.201103 \nL 765.086926 321.981727 \nL 770.925103 330.110911 \nL 776.76328 324.418295 \nL 782.601458 339.838125 \n\" clip-path=\"url(#p8610fca3f3)\" style=\"fill: none; stroke: #1f77b4; stroke-width: 1.5; stroke-linecap: square\"/>\n   </g>\n   <g id=\"patch_13\">\n    <path d=\"M 574.178533 354.958125 \nL 574.178533 22.318125 \n\" style=\"fill: none; stroke: #000000; stroke-width: 0.8; stroke-linejoin: miter; stroke-linecap: square\"/>\n   </g>\n   <g id=\"patch_14\">\n    <path d=\"M 792.526359 354.958125 \nL 792.526359 22.318125 \n\" style=\"fill: none; stroke: #000000; stroke-width: 0.8; stroke-linejoin: miter; stroke-linecap: square\"/>\n   </g>\n   <g id=\"patch_15\">\n    <path d=\"M 574.178533 354.958125 \nL 792.526359 354.958125 \n\" style=\"fill: none; stroke: #000000; stroke-width: 0.8; stroke-linejoin: miter; stroke-linecap: square\"/>\n   </g>\n   <g id=\"patch_16\">\n    <path d=\"M 574.178533 22.318125 \nL 792.526359 22.318125 \n\" style=\"fill: none; stroke: #000000; stroke-width: 0.8; stroke-linejoin: miter; stroke-linecap: square\"/>\n   </g>\n  </g>\n  <g id=\"axes_4\">\n   <g id=\"patch_17\">\n    <path d=\"M 836.195924 354.958125 \nL 1054.54375 354.958125 \nL 1054.54375 22.318125 \nL 836.195924 22.318125 \nz\n\" style=\"fill: #ffffff\"/>\n   </g>\n   <g id=\"matplotlib.axis_7\">\n    <g id=\"xtick_19\">\n     <g id=\"line2d_65\">\n      <g>\n       <use xlink:href=\"#ma98e8a8062\" x=\"846.120825\" y=\"354.958125\" style=\"stroke: #000000; stroke-width: 0.8\"/>\n      </g>\n     </g>\n     <g id=\"text_44\">\n      <!-- 0 -->\n      <g transform=\"translate(842.939575 369.556562) scale(0.1 -0.1)\">\n       <use xlink:href=\"#DejaVuSans-30\"/>\n      </g>\n     </g>\n    </g>\n    <g id=\"xtick_20\">\n     <g id=\"line2d_66\">\n      <g>\n       <use xlink:href=\"#ma98e8a8062\" x=\"904.502597\" y=\"354.958125\" style=\"stroke: #000000; stroke-width: 0.8\"/>\n      </g>\n     </g>\n     <g id=\"text_45\">\n      <!-- 10 -->\n      <g transform=\"translate(898.140097 369.556562) scale(0.1 -0.1)\">\n       <use xlink:href=\"#DejaVuSans-31\"/>\n       <use xlink:href=\"#DejaVuSans-30\" x=\"63.623047\"/>\n      </g>\n     </g>\n    </g>\n    <g id=\"xtick_21\">\n     <g id=\"line2d_67\">\n      <g>\n       <use xlink:href=\"#ma98e8a8062\" x=\"962.884368\" y=\"354.958125\" style=\"stroke: #000000; stroke-width: 0.8\"/>\n      </g>\n     </g>\n     <g id=\"text_46\">\n      <!-- 20 -->\n      <g transform=\"translate(956.521868 369.556562) scale(0.1 -0.1)\">\n       <use xlink:href=\"#DejaVuSans-32\"/>\n       <use xlink:href=\"#DejaVuSans-30\" x=\"63.623047\"/>\n      </g>\n     </g>\n    </g>\n    <g id=\"xtick_22\">\n     <g id=\"line2d_68\">\n      <g>\n       <use xlink:href=\"#ma98e8a8062\" x=\"1021.26614\" y=\"354.958125\" style=\"stroke: #000000; stroke-width: 0.8\"/>\n      </g>\n     </g>\n     <g id=\"text_47\">\n      <!-- 30 -->\n      <g transform=\"translate(1014.90364 369.556562) scale(0.1 -0.1)\">\n       <use xlink:href=\"#DejaVuSans-33\"/>\n       <use xlink:href=\"#DejaVuSans-30\" x=\"63.623047\"/>\n      </g>\n     </g>\n    </g>\n   </g>\n   <g id=\"matplotlib.axis_8\">\n    <g id=\"ytick_20\">\n     <g id=\"line2d_69\">\n      <g>\n       <use xlink:href=\"#m7096029404\" x=\"836.195924\" y=\"315.774465\" style=\"stroke: #000000; stroke-width: 0.8\"/>\n      </g>\n     </g>\n     <g id=\"text_48\">\n      <!-- 0.56 -->\n      <g transform=\"translate(806.930299 319.573683) scale(0.1 -0.1)\">\n       <use xlink:href=\"#DejaVuSans-30\"/>\n       <use xlink:href=\"#DejaVuSans-2e\" x=\"63.623047\"/>\n       <use xlink:href=\"#DejaVuSans-35\" x=\"95.410156\"/>\n       <use xlink:href=\"#DejaVuSans-36\" x=\"159.033203\"/>\n      </g>\n     </g>\n    </g>\n    <g id=\"ytick_21\">\n     <g id=\"line2d_70\">\n      <g>\n       <use xlink:href=\"#m7096029404\" x=\"836.195924\" y=\"267.647144\" style=\"stroke: #000000; stroke-width: 0.8\"/>\n      </g>\n     </g>\n     <g id=\"text_49\">\n      <!-- 0.58 -->\n      <g transform=\"translate(806.930299 271.446362) scale(0.1 -0.1)\">\n       <use xlink:href=\"#DejaVuSans-30\"/>\n       <use xlink:href=\"#DejaVuSans-2e\" x=\"63.623047\"/>\n       <use xlink:href=\"#DejaVuSans-35\" x=\"95.410156\"/>\n       <use xlink:href=\"#DejaVuSans-38\" x=\"159.033203\"/>\n      </g>\n     </g>\n    </g>\n    <g id=\"ytick_22\">\n     <g id=\"line2d_71\">\n      <g>\n       <use xlink:href=\"#m7096029404\" x=\"836.195924\" y=\"219.519823\" style=\"stroke: #000000; stroke-width: 0.8\"/>\n      </g>\n     </g>\n     <g id=\"text_50\">\n      <!-- 0.60 -->\n      <g transform=\"translate(806.930299 223.319041) scale(0.1 -0.1)\">\n       <use xlink:href=\"#DejaVuSans-30\"/>\n       <use xlink:href=\"#DejaVuSans-2e\" x=\"63.623047\"/>\n       <use xlink:href=\"#DejaVuSans-36\" x=\"95.410156\"/>\n       <use xlink:href=\"#DejaVuSans-30\" x=\"159.033203\"/>\n      </g>\n     </g>\n    </g>\n    <g id=\"ytick_23\">\n     <g id=\"line2d_72\">\n      <g>\n       <use xlink:href=\"#m7096029404\" x=\"836.195924\" y=\"171.392502\" style=\"stroke: #000000; stroke-width: 0.8\"/>\n      </g>\n     </g>\n     <g id=\"text_51\">\n      <!-- 0.62 -->\n      <g transform=\"translate(806.930299 175.19172) scale(0.1 -0.1)\">\n       <use xlink:href=\"#DejaVuSans-30\"/>\n       <use xlink:href=\"#DejaVuSans-2e\" x=\"63.623047\"/>\n       <use xlink:href=\"#DejaVuSans-36\" x=\"95.410156\"/>\n       <use xlink:href=\"#DejaVuSans-32\" x=\"159.033203\"/>\n      </g>\n     </g>\n    </g>\n    <g id=\"ytick_24\">\n     <g id=\"line2d_73\">\n      <g>\n       <use xlink:href=\"#m7096029404\" x=\"836.195924\" y=\"123.265181\" style=\"stroke: #000000; stroke-width: 0.8\"/>\n      </g>\n     </g>\n     <g id=\"text_52\">\n      <!-- 0.64 -->\n      <g transform=\"translate(806.930299 127.064399) scale(0.1 -0.1)\">\n       <use xlink:href=\"#DejaVuSans-30\"/>\n       <use xlink:href=\"#DejaVuSans-2e\" x=\"63.623047\"/>\n       <use xlink:href=\"#DejaVuSans-36\" x=\"95.410156\"/>\n       <use xlink:href=\"#DejaVuSans-34\" x=\"159.033203\"/>\n      </g>\n     </g>\n    </g>\n    <g id=\"ytick_25\">\n     <g id=\"line2d_74\">\n      <g>\n       <use xlink:href=\"#m7096029404\" x=\"836.195924\" y=\"75.13786\" style=\"stroke: #000000; stroke-width: 0.8\"/>\n      </g>\n     </g>\n     <g id=\"text_53\">\n      <!-- 0.66 -->\n      <g transform=\"translate(806.930299 78.937078) scale(0.1 -0.1)\">\n       <use xlink:href=\"#DejaVuSans-30\"/>\n       <use xlink:href=\"#DejaVuSans-2e\" x=\"63.623047\"/>\n       <use xlink:href=\"#DejaVuSans-36\" x=\"95.410156\"/>\n       <use xlink:href=\"#DejaVuSans-36\" x=\"159.033203\"/>\n      </g>\n     </g>\n    </g>\n    <g id=\"ytick_26\">\n     <g id=\"line2d_75\">\n      <g>\n       <use xlink:href=\"#m7096029404\" x=\"836.195924\" y=\"27.010539\" style=\"stroke: #000000; stroke-width: 0.8\"/>\n      </g>\n     </g>\n     <g id=\"text_54\">\n      <!-- 0.68 -->\n      <g transform=\"translate(806.930299 30.809758) scale(0.1 -0.1)\">\n       <use xlink:href=\"#DejaVuSans-30\"/>\n       <use xlink:href=\"#DejaVuSans-2e\" x=\"63.623047\"/>\n       <use xlink:href=\"#DejaVuSans-36\" x=\"95.410156\"/>\n       <use xlink:href=\"#DejaVuSans-38\" x=\"159.033203\"/>\n      </g>\n     </g>\n    </g>\n   </g>\n   <g id=\"line2d_76\">\n    <path d=\"M 846.120825 339.838125 \nL 851.959002 339.838125 \nL 857.797179 339.838125 \nL 863.635357 339.838125 \nL 869.473534 339.838125 \nL 875.311711 339.838125 \nL 881.149888 226.395154 \nL 886.988065 177.408417 \nL 892.826242 195.456162 \nL 898.66442 209.894358 \nL 904.502597 243.583483 \nL 910.340774 251.604703 \nL 916.178951 206.562467 \nL 922.017128 161.079504 \nL 927.855305 124.869425 \nL 933.693483 130.785075 \nL 939.53166 145.913332 \nL 945.369837 133.960141 \nL 951.208014 124.531689 \nL 957.046191 110.030167 \nL 962.884368 87.742634 \nL 968.722546 87.16969 \nL 974.560723 65.721645 \nL 980.3989 53.079504 \nL 986.237077 42.411281 \nL 992.075254 49.223148 \nL 997.913431 40.379239 \nL 1003.751609 46.777117 \nL 1009.589786 41.946604 \nL 1015.427963 37.438125 \nL 1021.26614 50.297952 \nL 1027.104317 51.074199 \nL 1032.942494 50.344997 \nL 1038.780672 57.443992 \nL 1044.618849 51.074199 \n\" clip-path=\"url(#p546dd90763)\" style=\"fill: none; stroke: #1f77b4; stroke-width: 1.5; stroke-linecap: square\"/>\n   </g>\n   <g id=\"patch_18\">\n    <path d=\"M 836.195924 354.958125 \nL 836.195924 22.318125 \n\" style=\"fill: none; stroke: #000000; stroke-width: 0.8; stroke-linejoin: miter; stroke-linecap: square\"/>\n   </g>\n   <g id=\"patch_19\">\n    <path d=\"M 1054.54375 354.958125 \nL 1054.54375 22.318125 \n\" style=\"fill: none; stroke: #000000; stroke-width: 0.8; stroke-linejoin: miter; stroke-linecap: square\"/>\n   </g>\n   <g id=\"patch_20\">\n    <path d=\"M 836.195924 354.958125 \nL 1054.54375 354.958125 \n\" style=\"fill: none; stroke: #000000; stroke-width: 0.8; stroke-linejoin: miter; stroke-linecap: square\"/>\n   </g>\n   <g id=\"patch_21\">\n    <path d=\"M 836.195924 22.318125 \nL 1054.54375 22.318125 \n\" style=\"fill: none; stroke: #000000; stroke-width: 0.8; stroke-linejoin: miter; stroke-linecap: square\"/>\n   </g>\n   <g id=\"legend_1\">\n    <g id=\"patch_22\">\n     <path d=\"M 1043.54375 35.318125 \nL 1047.54375 35.318125 \nQ 1049.54375 35.318125 1049.54375 33.318125 \nL 1049.54375 29.318125 \nQ 1049.54375 27.318125 1047.54375 27.318125 \nL 1043.54375 27.318125 \nQ 1041.54375 27.318125 1041.54375 29.318125 \nL 1041.54375 33.318125 \nQ 1041.54375 35.318125 1043.54375 35.318125 \nz\n\" style=\"fill: #ffffff; opacity: 0.8; stroke: #cccccc; stroke-linejoin: miter\"/>\n    </g>\n   </g>\n  </g>\n </g>\n <defs>\n  <clipPath id=\"p29a21ef951\">\n   <rect x=\"50.14375\" y=\"22.318125\" width=\"218.347826\" height=\"332.64\"/>\n  </clipPath>\n  <clipPath id=\"p5910ebc003\">\n   <rect x=\"312.161141\" y=\"22.318125\" width=\"218.347826\" height=\"332.64\"/>\n  </clipPath>\n  <clipPath id=\"p8610fca3f3\">\n   <rect x=\"574.178533\" y=\"22.318125\" width=\"218.347826\" height=\"332.64\"/>\n  </clipPath>\n  <clipPath id=\"p546dd90763\">\n   <rect x=\"836.195924\" y=\"22.318125\" width=\"218.347826\" height=\"332.64\"/>\n  </clipPath>\n </defs>\n</svg>\n"
          },
          "metadata": {}
        },
        {
          "output_type": "stream",
          "name": "stdout",
          "text": [
            "Loss на обучающей выборке: 153.98741\n"
          ]
        }
      ]
    },
    {
      "cell_type": "code",
      "source": [
        "print(\"Loss на обучающей выборке: {0:.5f}\".format(train_loss_cum / (y_train.shape[0] // BATCH_SIZE * num_epochs)))"
      ],
      "metadata": {
        "id": "5qipdXT_Ihmw",
        "colab": {
          "base_uri": "https://localhost:8080/"
        },
        "outputId": "844ef9a6-4bbf-4194-d254-1c22f44b450a"
      },
      "id": "5qipdXT_Ihmw",
      "execution_count": 81,
      "outputs": [
        {
          "output_type": "stream",
          "name": "stdout",
          "text": [
            "Loss на обучающей выборке: 0.61403\n"
          ]
        }
      ]
    },
    {
      "cell_type": "code",
      "source": [],
      "metadata": {
        "id": "aYjgThWW7DDR"
      },
      "id": "aYjgThWW7DDR",
      "execution_count": null,
      "outputs": []
    }
  ],
  "metadata": {
    "colab": {
      "collapsed_sections": [
        "R7-R_HI2pCpL",
        "JjnG7b6-zt8y",
        "p8rT_Je4oclV"
      ],
      "provenance": [],
      "gpuType": "T4"
    },
    "kernelspec": {
      "display_name": "Python 3",
      "name": "python3"
    },
    "language_info": {
      "name": "python"
    },
    "widgets": {
      "application/vnd.jupyter.widget-state+json": {
        "2361820e26e14270ba83852dbdecd487": {
          "model_module": "@jupyter-widgets/controls",
          "model_name": "HBoxModel",
          "model_module_version": "1.5.0",
          "state": {
            "_dom_classes": [],
            "_model_module": "@jupyter-widgets/controls",
            "_model_module_version": "1.5.0",
            "_model_name": "HBoxModel",
            "_view_count": null,
            "_view_module": "@jupyter-widgets/controls",
            "_view_module_version": "1.5.0",
            "_view_name": "HBoxView",
            "box_style": "",
            "children": [
              "IPY_MODEL_dd6b9ec61d784b6db760ae0355930dd2",
              "IPY_MODEL_5fcb09c0a935416da867331fb74b6a2e",
              "IPY_MODEL_ebfab6a4f1b9478fa735c6c282c4564d"
            ],
            "layout": "IPY_MODEL_8b1f89fd004b4e1ab4efdf9db6f4f707"
          }
        },
        "dd6b9ec61d784b6db760ae0355930dd2": {
          "model_module": "@jupyter-widgets/controls",
          "model_name": "HTMLModel",
          "model_module_version": "1.5.0",
          "state": {
            "_dom_classes": [],
            "_model_module": "@jupyter-widgets/controls",
            "_model_module_version": "1.5.0",
            "_model_name": "HTMLModel",
            "_view_count": null,
            "_view_module": "@jupyter-widgets/controls",
            "_view_module_version": "1.5.0",
            "_view_name": "HTMLView",
            "description": "",
            "description_tooltip": null,
            "layout": "IPY_MODEL_32fa8283baa04623ba0bc0ad349ec8cf",
            "placeholder": "​",
            "style": "IPY_MODEL_1b6e46fed75847c79aa8b3bbdf45c260",
            "value": "sentencepiece.bpe.model: 100%"
          }
        },
        "5fcb09c0a935416da867331fb74b6a2e": {
          "model_module": "@jupyter-widgets/controls",
          "model_name": "FloatProgressModel",
          "model_module_version": "1.5.0",
          "state": {
            "_dom_classes": [],
            "_model_module": "@jupyter-widgets/controls",
            "_model_module_version": "1.5.0",
            "_model_name": "FloatProgressModel",
            "_view_count": null,
            "_view_module": "@jupyter-widgets/controls",
            "_view_module_version": "1.5.0",
            "_view_name": "ProgressView",
            "bar_style": "success",
            "description": "",
            "description_tooltip": null,
            "layout": "IPY_MODEL_0bfb87a4ef844f31b0ea7d80726fb217",
            "max": 5069051,
            "min": 0,
            "orientation": "horizontal",
            "style": "IPY_MODEL_a8a884a6c7914bb4ae447a06b6a45768",
            "value": 5069051
          }
        },
        "ebfab6a4f1b9478fa735c6c282c4564d": {
          "model_module": "@jupyter-widgets/controls",
          "model_name": "HTMLModel",
          "model_module_version": "1.5.0",
          "state": {
            "_dom_classes": [],
            "_model_module": "@jupyter-widgets/controls",
            "_model_module_version": "1.5.0",
            "_model_name": "HTMLModel",
            "_view_count": null,
            "_view_module": "@jupyter-widgets/controls",
            "_view_module_version": "1.5.0",
            "_view_name": "HTMLView",
            "description": "",
            "description_tooltip": null,
            "layout": "IPY_MODEL_d859af6d24794dbaad5149d7920711ec",
            "placeholder": "​",
            "style": "IPY_MODEL_dcbe6709d2b848b39e3c5444ff3c7abb",
            "value": " 5.07M/5.07M [00:00&lt;00:00, 5.53MB/s]"
          }
        },
        "8b1f89fd004b4e1ab4efdf9db6f4f707": {
          "model_module": "@jupyter-widgets/base",
          "model_name": "LayoutModel",
          "model_module_version": "1.2.0",
          "state": {
            "_model_module": "@jupyter-widgets/base",
            "_model_module_version": "1.2.0",
            "_model_name": "LayoutModel",
            "_view_count": null,
            "_view_module": "@jupyter-widgets/base",
            "_view_module_version": "1.2.0",
            "_view_name": "LayoutView",
            "align_content": null,
            "align_items": null,
            "align_self": null,
            "border": null,
            "bottom": null,
            "display": null,
            "flex": null,
            "flex_flow": null,
            "grid_area": null,
            "grid_auto_columns": null,
            "grid_auto_flow": null,
            "grid_auto_rows": null,
            "grid_column": null,
            "grid_gap": null,
            "grid_row": null,
            "grid_template_areas": null,
            "grid_template_columns": null,
            "grid_template_rows": null,
            "height": null,
            "justify_content": null,
            "justify_items": null,
            "left": null,
            "margin": null,
            "max_height": null,
            "max_width": null,
            "min_height": null,
            "min_width": null,
            "object_fit": null,
            "object_position": null,
            "order": null,
            "overflow": null,
            "overflow_x": null,
            "overflow_y": null,
            "padding": null,
            "right": null,
            "top": null,
            "visibility": null,
            "width": null
          }
        },
        "32fa8283baa04623ba0bc0ad349ec8cf": {
          "model_module": "@jupyter-widgets/base",
          "model_name": "LayoutModel",
          "model_module_version": "1.2.0",
          "state": {
            "_model_module": "@jupyter-widgets/base",
            "_model_module_version": "1.2.0",
            "_model_name": "LayoutModel",
            "_view_count": null,
            "_view_module": "@jupyter-widgets/base",
            "_view_module_version": "1.2.0",
            "_view_name": "LayoutView",
            "align_content": null,
            "align_items": null,
            "align_self": null,
            "border": null,
            "bottom": null,
            "display": null,
            "flex": null,
            "flex_flow": null,
            "grid_area": null,
            "grid_auto_columns": null,
            "grid_auto_flow": null,
            "grid_auto_rows": null,
            "grid_column": null,
            "grid_gap": null,
            "grid_row": null,
            "grid_template_areas": null,
            "grid_template_columns": null,
            "grid_template_rows": null,
            "height": null,
            "justify_content": null,
            "justify_items": null,
            "left": null,
            "margin": null,
            "max_height": null,
            "max_width": null,
            "min_height": null,
            "min_width": null,
            "object_fit": null,
            "object_position": null,
            "order": null,
            "overflow": null,
            "overflow_x": null,
            "overflow_y": null,
            "padding": null,
            "right": null,
            "top": null,
            "visibility": null,
            "width": null
          }
        },
        "1b6e46fed75847c79aa8b3bbdf45c260": {
          "model_module": "@jupyter-widgets/controls",
          "model_name": "DescriptionStyleModel",
          "model_module_version": "1.5.0",
          "state": {
            "_model_module": "@jupyter-widgets/controls",
            "_model_module_version": "1.5.0",
            "_model_name": "DescriptionStyleModel",
            "_view_count": null,
            "_view_module": "@jupyter-widgets/base",
            "_view_module_version": "1.2.0",
            "_view_name": "StyleView",
            "description_width": ""
          }
        },
        "0bfb87a4ef844f31b0ea7d80726fb217": {
          "model_module": "@jupyter-widgets/base",
          "model_name": "LayoutModel",
          "model_module_version": "1.2.0",
          "state": {
            "_model_module": "@jupyter-widgets/base",
            "_model_module_version": "1.2.0",
            "_model_name": "LayoutModel",
            "_view_count": null,
            "_view_module": "@jupyter-widgets/base",
            "_view_module_version": "1.2.0",
            "_view_name": "LayoutView",
            "align_content": null,
            "align_items": null,
            "align_self": null,
            "border": null,
            "bottom": null,
            "display": null,
            "flex": null,
            "flex_flow": null,
            "grid_area": null,
            "grid_auto_columns": null,
            "grid_auto_flow": null,
            "grid_auto_rows": null,
            "grid_column": null,
            "grid_gap": null,
            "grid_row": null,
            "grid_template_areas": null,
            "grid_template_columns": null,
            "grid_template_rows": null,
            "height": null,
            "justify_content": null,
            "justify_items": null,
            "left": null,
            "margin": null,
            "max_height": null,
            "max_width": null,
            "min_height": null,
            "min_width": null,
            "object_fit": null,
            "object_position": null,
            "order": null,
            "overflow": null,
            "overflow_x": null,
            "overflow_y": null,
            "padding": null,
            "right": null,
            "top": null,
            "visibility": null,
            "width": null
          }
        },
        "a8a884a6c7914bb4ae447a06b6a45768": {
          "model_module": "@jupyter-widgets/controls",
          "model_name": "ProgressStyleModel",
          "model_module_version": "1.5.0",
          "state": {
            "_model_module": "@jupyter-widgets/controls",
            "_model_module_version": "1.5.0",
            "_model_name": "ProgressStyleModel",
            "_view_count": null,
            "_view_module": "@jupyter-widgets/base",
            "_view_module_version": "1.2.0",
            "_view_name": "StyleView",
            "bar_color": null,
            "description_width": ""
          }
        },
        "d859af6d24794dbaad5149d7920711ec": {
          "model_module": "@jupyter-widgets/base",
          "model_name": "LayoutModel",
          "model_module_version": "1.2.0",
          "state": {
            "_model_module": "@jupyter-widgets/base",
            "_model_module_version": "1.2.0",
            "_model_name": "LayoutModel",
            "_view_count": null,
            "_view_module": "@jupyter-widgets/base",
            "_view_module_version": "1.2.0",
            "_view_name": "LayoutView",
            "align_content": null,
            "align_items": null,
            "align_self": null,
            "border": null,
            "bottom": null,
            "display": null,
            "flex": null,
            "flex_flow": null,
            "grid_area": null,
            "grid_auto_columns": null,
            "grid_auto_flow": null,
            "grid_auto_rows": null,
            "grid_column": null,
            "grid_gap": null,
            "grid_row": null,
            "grid_template_areas": null,
            "grid_template_columns": null,
            "grid_template_rows": null,
            "height": null,
            "justify_content": null,
            "justify_items": null,
            "left": null,
            "margin": null,
            "max_height": null,
            "max_width": null,
            "min_height": null,
            "min_width": null,
            "object_fit": null,
            "object_position": null,
            "order": null,
            "overflow": null,
            "overflow_x": null,
            "overflow_y": null,
            "padding": null,
            "right": null,
            "top": null,
            "visibility": null,
            "width": null
          }
        },
        "dcbe6709d2b848b39e3c5444ff3c7abb": {
          "model_module": "@jupyter-widgets/controls",
          "model_name": "DescriptionStyleModel",
          "model_module_version": "1.5.0",
          "state": {
            "_model_module": "@jupyter-widgets/controls",
            "_model_module_version": "1.5.0",
            "_model_name": "DescriptionStyleModel",
            "_view_count": null,
            "_view_module": "@jupyter-widgets/base",
            "_view_module_version": "1.2.0",
            "_view_name": "StyleView",
            "description_width": ""
          }
        },
        "a271e3a0c957415d811c002eadab12cd": {
          "model_module": "@jupyter-widgets/controls",
          "model_name": "HBoxModel",
          "model_module_version": "1.5.0",
          "state": {
            "_dom_classes": [],
            "_model_module": "@jupyter-widgets/controls",
            "_model_module_version": "1.5.0",
            "_model_name": "HBoxModel",
            "_view_count": null,
            "_view_module": "@jupyter-widgets/controls",
            "_view_module_version": "1.5.0",
            "_view_name": "HBoxView",
            "box_style": "",
            "children": [
              "IPY_MODEL_8dd1a809efef45e99553794bc993072b",
              "IPY_MODEL_1f761f0c13fd4ac7bce2d454cb8257c2",
              "IPY_MODEL_5f823e3dd5bc4df8a3841bca865f17a1"
            ],
            "layout": "IPY_MODEL_b3efddba3fea43ce965e927cfa180461"
          }
        },
        "8dd1a809efef45e99553794bc993072b": {
          "model_module": "@jupyter-widgets/controls",
          "model_name": "HTMLModel",
          "model_module_version": "1.5.0",
          "state": {
            "_dom_classes": [],
            "_model_module": "@jupyter-widgets/controls",
            "_model_module_version": "1.5.0",
            "_model_name": "HTMLModel",
            "_view_count": null,
            "_view_module": "@jupyter-widgets/controls",
            "_view_module_version": "1.5.0",
            "_view_name": "HTMLView",
            "description": "",
            "description_tooltip": null,
            "layout": "IPY_MODEL_a707f96365e84998b85113b33626d871",
            "placeholder": "​",
            "style": "IPY_MODEL_a406597ff6cc4020aec7c4040e747f68",
            "value": "tokenizer_config.json: 100%"
          }
        },
        "1f761f0c13fd4ac7bce2d454cb8257c2": {
          "model_module": "@jupyter-widgets/controls",
          "model_name": "FloatProgressModel",
          "model_module_version": "1.5.0",
          "state": {
            "_dom_classes": [],
            "_model_module": "@jupyter-widgets/controls",
            "_model_module_version": "1.5.0",
            "_model_name": "FloatProgressModel",
            "_view_count": null,
            "_view_module": "@jupyter-widgets/controls",
            "_view_module_version": "1.5.0",
            "_view_name": "ProgressView",
            "bar_style": "success",
            "description": "",
            "description_tooltip": null,
            "layout": "IPY_MODEL_b6e9d1d0dda74c0eb750b632e09db0f2",
            "max": 25,
            "min": 0,
            "orientation": "horizontal",
            "style": "IPY_MODEL_a7ee3e5e283f48c1a606bd4d0f2f1de0",
            "value": 25
          }
        },
        "5f823e3dd5bc4df8a3841bca865f17a1": {
          "model_module": "@jupyter-widgets/controls",
          "model_name": "HTMLModel",
          "model_module_version": "1.5.0",
          "state": {
            "_dom_classes": [],
            "_model_module": "@jupyter-widgets/controls",
            "_model_module_version": "1.5.0",
            "_model_name": "HTMLModel",
            "_view_count": null,
            "_view_module": "@jupyter-widgets/controls",
            "_view_module_version": "1.5.0",
            "_view_name": "HTMLView",
            "description": "",
            "description_tooltip": null,
            "layout": "IPY_MODEL_d67a23b6f8a14bea9c18043827323e3a",
            "placeholder": "​",
            "style": "IPY_MODEL_42450a48698c48af885976107adc59be",
            "value": " 25.0/25.0 [00:00&lt;00:00, 447B/s]"
          }
        },
        "b3efddba3fea43ce965e927cfa180461": {
          "model_module": "@jupyter-widgets/base",
          "model_name": "LayoutModel",
          "model_module_version": "1.2.0",
          "state": {
            "_model_module": "@jupyter-widgets/base",
            "_model_module_version": "1.2.0",
            "_model_name": "LayoutModel",
            "_view_count": null,
            "_view_module": "@jupyter-widgets/base",
            "_view_module_version": "1.2.0",
            "_view_name": "LayoutView",
            "align_content": null,
            "align_items": null,
            "align_self": null,
            "border": null,
            "bottom": null,
            "display": null,
            "flex": null,
            "flex_flow": null,
            "grid_area": null,
            "grid_auto_columns": null,
            "grid_auto_flow": null,
            "grid_auto_rows": null,
            "grid_column": null,
            "grid_gap": null,
            "grid_row": null,
            "grid_template_areas": null,
            "grid_template_columns": null,
            "grid_template_rows": null,
            "height": null,
            "justify_content": null,
            "justify_items": null,
            "left": null,
            "margin": null,
            "max_height": null,
            "max_width": null,
            "min_height": null,
            "min_width": null,
            "object_fit": null,
            "object_position": null,
            "order": null,
            "overflow": null,
            "overflow_x": null,
            "overflow_y": null,
            "padding": null,
            "right": null,
            "top": null,
            "visibility": null,
            "width": null
          }
        },
        "a707f96365e84998b85113b33626d871": {
          "model_module": "@jupyter-widgets/base",
          "model_name": "LayoutModel",
          "model_module_version": "1.2.0",
          "state": {
            "_model_module": "@jupyter-widgets/base",
            "_model_module_version": "1.2.0",
            "_model_name": "LayoutModel",
            "_view_count": null,
            "_view_module": "@jupyter-widgets/base",
            "_view_module_version": "1.2.0",
            "_view_name": "LayoutView",
            "align_content": null,
            "align_items": null,
            "align_self": null,
            "border": null,
            "bottom": null,
            "display": null,
            "flex": null,
            "flex_flow": null,
            "grid_area": null,
            "grid_auto_columns": null,
            "grid_auto_flow": null,
            "grid_auto_rows": null,
            "grid_column": null,
            "grid_gap": null,
            "grid_row": null,
            "grid_template_areas": null,
            "grid_template_columns": null,
            "grid_template_rows": null,
            "height": null,
            "justify_content": null,
            "justify_items": null,
            "left": null,
            "margin": null,
            "max_height": null,
            "max_width": null,
            "min_height": null,
            "min_width": null,
            "object_fit": null,
            "object_position": null,
            "order": null,
            "overflow": null,
            "overflow_x": null,
            "overflow_y": null,
            "padding": null,
            "right": null,
            "top": null,
            "visibility": null,
            "width": null
          }
        },
        "a406597ff6cc4020aec7c4040e747f68": {
          "model_module": "@jupyter-widgets/controls",
          "model_name": "DescriptionStyleModel",
          "model_module_version": "1.5.0",
          "state": {
            "_model_module": "@jupyter-widgets/controls",
            "_model_module_version": "1.5.0",
            "_model_name": "DescriptionStyleModel",
            "_view_count": null,
            "_view_module": "@jupyter-widgets/base",
            "_view_module_version": "1.2.0",
            "_view_name": "StyleView",
            "description_width": ""
          }
        },
        "b6e9d1d0dda74c0eb750b632e09db0f2": {
          "model_module": "@jupyter-widgets/base",
          "model_name": "LayoutModel",
          "model_module_version": "1.2.0",
          "state": {
            "_model_module": "@jupyter-widgets/base",
            "_model_module_version": "1.2.0",
            "_model_name": "LayoutModel",
            "_view_count": null,
            "_view_module": "@jupyter-widgets/base",
            "_view_module_version": "1.2.0",
            "_view_name": "LayoutView",
            "align_content": null,
            "align_items": null,
            "align_self": null,
            "border": null,
            "bottom": null,
            "display": null,
            "flex": null,
            "flex_flow": null,
            "grid_area": null,
            "grid_auto_columns": null,
            "grid_auto_flow": null,
            "grid_auto_rows": null,
            "grid_column": null,
            "grid_gap": null,
            "grid_row": null,
            "grid_template_areas": null,
            "grid_template_columns": null,
            "grid_template_rows": null,
            "height": null,
            "justify_content": null,
            "justify_items": null,
            "left": null,
            "margin": null,
            "max_height": null,
            "max_width": null,
            "min_height": null,
            "min_width": null,
            "object_fit": null,
            "object_position": null,
            "order": null,
            "overflow": null,
            "overflow_x": null,
            "overflow_y": null,
            "padding": null,
            "right": null,
            "top": null,
            "visibility": null,
            "width": null
          }
        },
        "a7ee3e5e283f48c1a606bd4d0f2f1de0": {
          "model_module": "@jupyter-widgets/controls",
          "model_name": "ProgressStyleModel",
          "model_module_version": "1.5.0",
          "state": {
            "_model_module": "@jupyter-widgets/controls",
            "_model_module_version": "1.5.0",
            "_model_name": "ProgressStyleModel",
            "_view_count": null,
            "_view_module": "@jupyter-widgets/base",
            "_view_module_version": "1.2.0",
            "_view_name": "StyleView",
            "bar_color": null,
            "description_width": ""
          }
        },
        "d67a23b6f8a14bea9c18043827323e3a": {
          "model_module": "@jupyter-widgets/base",
          "model_name": "LayoutModel",
          "model_module_version": "1.2.0",
          "state": {
            "_model_module": "@jupyter-widgets/base",
            "_model_module_version": "1.2.0",
            "_model_name": "LayoutModel",
            "_view_count": null,
            "_view_module": "@jupyter-widgets/base",
            "_view_module_version": "1.2.0",
            "_view_name": "LayoutView",
            "align_content": null,
            "align_items": null,
            "align_self": null,
            "border": null,
            "bottom": null,
            "display": null,
            "flex": null,
            "flex_flow": null,
            "grid_area": null,
            "grid_auto_columns": null,
            "grid_auto_flow": null,
            "grid_auto_rows": null,
            "grid_column": null,
            "grid_gap": null,
            "grid_row": null,
            "grid_template_areas": null,
            "grid_template_columns": null,
            "grid_template_rows": null,
            "height": null,
            "justify_content": null,
            "justify_items": null,
            "left": null,
            "margin": null,
            "max_height": null,
            "max_width": null,
            "min_height": null,
            "min_width": null,
            "object_fit": null,
            "object_position": null,
            "order": null,
            "overflow": null,
            "overflow_x": null,
            "overflow_y": null,
            "padding": null,
            "right": null,
            "top": null,
            "visibility": null,
            "width": null
          }
        },
        "42450a48698c48af885976107adc59be": {
          "model_module": "@jupyter-widgets/controls",
          "model_name": "DescriptionStyleModel",
          "model_module_version": "1.5.0",
          "state": {
            "_model_module": "@jupyter-widgets/controls",
            "_model_module_version": "1.5.0",
            "_model_name": "DescriptionStyleModel",
            "_view_count": null,
            "_view_module": "@jupyter-widgets/base",
            "_view_module_version": "1.2.0",
            "_view_name": "StyleView",
            "description_width": ""
          }
        },
        "d3a61be56df545f382bee5b4289e039c": {
          "model_module": "@jupyter-widgets/controls",
          "model_name": "HBoxModel",
          "model_module_version": "1.5.0",
          "state": {
            "_dom_classes": [],
            "_model_module": "@jupyter-widgets/controls",
            "_model_module_version": "1.5.0",
            "_model_name": "HBoxModel",
            "_view_count": null,
            "_view_module": "@jupyter-widgets/controls",
            "_view_module_version": "1.5.0",
            "_view_name": "HBoxView",
            "box_style": "",
            "children": [
              "IPY_MODEL_4f063e9ff34c4a9ca81ac279ff2afc2b",
              "IPY_MODEL_8ad439597e9645abbcdc5bb1657b9f2b",
              "IPY_MODEL_ca43549941fa45de9fdcc3e85a60b15e"
            ],
            "layout": "IPY_MODEL_fafb04e93ebd48b29cae6a81fd14af50"
          }
        },
        "4f063e9ff34c4a9ca81ac279ff2afc2b": {
          "model_module": "@jupyter-widgets/controls",
          "model_name": "HTMLModel",
          "model_module_version": "1.5.0",
          "state": {
            "_dom_classes": [],
            "_model_module": "@jupyter-widgets/controls",
            "_model_module_version": "1.5.0",
            "_model_name": "HTMLModel",
            "_view_count": null,
            "_view_module": "@jupyter-widgets/controls",
            "_view_module_version": "1.5.0",
            "_view_name": "HTMLView",
            "description": "",
            "description_tooltip": null,
            "layout": "IPY_MODEL_dc0bb5a6e9ba4393a6e01e211732426d",
            "placeholder": "​",
            "style": "IPY_MODEL_b070d062e34d4fcbb26445eb37b31d3a",
            "value": "config.json: 100%"
          }
        },
        "8ad439597e9645abbcdc5bb1657b9f2b": {
          "model_module": "@jupyter-widgets/controls",
          "model_name": "FloatProgressModel",
          "model_module_version": "1.5.0",
          "state": {
            "_dom_classes": [],
            "_model_module": "@jupyter-widgets/controls",
            "_model_module_version": "1.5.0",
            "_model_name": "FloatProgressModel",
            "_view_count": null,
            "_view_module": "@jupyter-widgets/controls",
            "_view_module_version": "1.5.0",
            "_view_name": "ProgressView",
            "bar_style": "success",
            "description": "",
            "description_tooltip": null,
            "layout": "IPY_MODEL_9ffcfb7428514bd99bdb902a933868fe",
            "max": 481,
            "min": 0,
            "orientation": "horizontal",
            "style": "IPY_MODEL_64854708386540ca862a3c1e12f8959c",
            "value": 481
          }
        },
        "ca43549941fa45de9fdcc3e85a60b15e": {
          "model_module": "@jupyter-widgets/controls",
          "model_name": "HTMLModel",
          "model_module_version": "1.5.0",
          "state": {
            "_dom_classes": [],
            "_model_module": "@jupyter-widgets/controls",
            "_model_module_version": "1.5.0",
            "_model_name": "HTMLModel",
            "_view_count": null,
            "_view_module": "@jupyter-widgets/controls",
            "_view_module_version": "1.5.0",
            "_view_name": "HTMLView",
            "description": "",
            "description_tooltip": null,
            "layout": "IPY_MODEL_c84275d8f5534f139415f436706e53dc",
            "placeholder": "​",
            "style": "IPY_MODEL_c3d5a6bb844148e6b751dda68ef9fa29",
            "value": " 481/481 [00:00&lt;00:00, 19.4kB/s]"
          }
        },
        "fafb04e93ebd48b29cae6a81fd14af50": {
          "model_module": "@jupyter-widgets/base",
          "model_name": "LayoutModel",
          "model_module_version": "1.2.0",
          "state": {
            "_model_module": "@jupyter-widgets/base",
            "_model_module_version": "1.2.0",
            "_model_name": "LayoutModel",
            "_view_count": null,
            "_view_module": "@jupyter-widgets/base",
            "_view_module_version": "1.2.0",
            "_view_name": "LayoutView",
            "align_content": null,
            "align_items": null,
            "align_self": null,
            "border": null,
            "bottom": null,
            "display": null,
            "flex": null,
            "flex_flow": null,
            "grid_area": null,
            "grid_auto_columns": null,
            "grid_auto_flow": null,
            "grid_auto_rows": null,
            "grid_column": null,
            "grid_gap": null,
            "grid_row": null,
            "grid_template_areas": null,
            "grid_template_columns": null,
            "grid_template_rows": null,
            "height": null,
            "justify_content": null,
            "justify_items": null,
            "left": null,
            "margin": null,
            "max_height": null,
            "max_width": null,
            "min_height": null,
            "min_width": null,
            "object_fit": null,
            "object_position": null,
            "order": null,
            "overflow": null,
            "overflow_x": null,
            "overflow_y": null,
            "padding": null,
            "right": null,
            "top": null,
            "visibility": null,
            "width": null
          }
        },
        "dc0bb5a6e9ba4393a6e01e211732426d": {
          "model_module": "@jupyter-widgets/base",
          "model_name": "LayoutModel",
          "model_module_version": "1.2.0",
          "state": {
            "_model_module": "@jupyter-widgets/base",
            "_model_module_version": "1.2.0",
            "_model_name": "LayoutModel",
            "_view_count": null,
            "_view_module": "@jupyter-widgets/base",
            "_view_module_version": "1.2.0",
            "_view_name": "LayoutView",
            "align_content": null,
            "align_items": null,
            "align_self": null,
            "border": null,
            "bottom": null,
            "display": null,
            "flex": null,
            "flex_flow": null,
            "grid_area": null,
            "grid_auto_columns": null,
            "grid_auto_flow": null,
            "grid_auto_rows": null,
            "grid_column": null,
            "grid_gap": null,
            "grid_row": null,
            "grid_template_areas": null,
            "grid_template_columns": null,
            "grid_template_rows": null,
            "height": null,
            "justify_content": null,
            "justify_items": null,
            "left": null,
            "margin": null,
            "max_height": null,
            "max_width": null,
            "min_height": null,
            "min_width": null,
            "object_fit": null,
            "object_position": null,
            "order": null,
            "overflow": null,
            "overflow_x": null,
            "overflow_y": null,
            "padding": null,
            "right": null,
            "top": null,
            "visibility": null,
            "width": null
          }
        },
        "b070d062e34d4fcbb26445eb37b31d3a": {
          "model_module": "@jupyter-widgets/controls",
          "model_name": "DescriptionStyleModel",
          "model_module_version": "1.5.0",
          "state": {
            "_model_module": "@jupyter-widgets/controls",
            "_model_module_version": "1.5.0",
            "_model_name": "DescriptionStyleModel",
            "_view_count": null,
            "_view_module": "@jupyter-widgets/base",
            "_view_module_version": "1.2.0",
            "_view_name": "StyleView",
            "description_width": ""
          }
        },
        "9ffcfb7428514bd99bdb902a933868fe": {
          "model_module": "@jupyter-widgets/base",
          "model_name": "LayoutModel",
          "model_module_version": "1.2.0",
          "state": {
            "_model_module": "@jupyter-widgets/base",
            "_model_module_version": "1.2.0",
            "_model_name": "LayoutModel",
            "_view_count": null,
            "_view_module": "@jupyter-widgets/base",
            "_view_module_version": "1.2.0",
            "_view_name": "LayoutView",
            "align_content": null,
            "align_items": null,
            "align_self": null,
            "border": null,
            "bottom": null,
            "display": null,
            "flex": null,
            "flex_flow": null,
            "grid_area": null,
            "grid_auto_columns": null,
            "grid_auto_flow": null,
            "grid_auto_rows": null,
            "grid_column": null,
            "grid_gap": null,
            "grid_row": null,
            "grid_template_areas": null,
            "grid_template_columns": null,
            "grid_template_rows": null,
            "height": null,
            "justify_content": null,
            "justify_items": null,
            "left": null,
            "margin": null,
            "max_height": null,
            "max_width": null,
            "min_height": null,
            "min_width": null,
            "object_fit": null,
            "object_position": null,
            "order": null,
            "overflow": null,
            "overflow_x": null,
            "overflow_y": null,
            "padding": null,
            "right": null,
            "top": null,
            "visibility": null,
            "width": null
          }
        },
        "64854708386540ca862a3c1e12f8959c": {
          "model_module": "@jupyter-widgets/controls",
          "model_name": "ProgressStyleModel",
          "model_module_version": "1.5.0",
          "state": {
            "_model_module": "@jupyter-widgets/controls",
            "_model_module_version": "1.5.0",
            "_model_name": "ProgressStyleModel",
            "_view_count": null,
            "_view_module": "@jupyter-widgets/base",
            "_view_module_version": "1.2.0",
            "_view_name": "StyleView",
            "bar_color": null,
            "description_width": ""
          }
        },
        "c84275d8f5534f139415f436706e53dc": {
          "model_module": "@jupyter-widgets/base",
          "model_name": "LayoutModel",
          "model_module_version": "1.2.0",
          "state": {
            "_model_module": "@jupyter-widgets/base",
            "_model_module_version": "1.2.0",
            "_model_name": "LayoutModel",
            "_view_count": null,
            "_view_module": "@jupyter-widgets/base",
            "_view_module_version": "1.2.0",
            "_view_name": "LayoutView",
            "align_content": null,
            "align_items": null,
            "align_self": null,
            "border": null,
            "bottom": null,
            "display": null,
            "flex": null,
            "flex_flow": null,
            "grid_area": null,
            "grid_auto_columns": null,
            "grid_auto_flow": null,
            "grid_auto_rows": null,
            "grid_column": null,
            "grid_gap": null,
            "grid_row": null,
            "grid_template_areas": null,
            "grid_template_columns": null,
            "grid_template_rows": null,
            "height": null,
            "justify_content": null,
            "justify_items": null,
            "left": null,
            "margin": null,
            "max_height": null,
            "max_width": null,
            "min_height": null,
            "min_width": null,
            "object_fit": null,
            "object_position": null,
            "order": null,
            "overflow": null,
            "overflow_x": null,
            "overflow_y": null,
            "padding": null,
            "right": null,
            "top": null,
            "visibility": null,
            "width": null
          }
        },
        "c3d5a6bb844148e6b751dda68ef9fa29": {
          "model_module": "@jupyter-widgets/controls",
          "model_name": "DescriptionStyleModel",
          "model_module_version": "1.5.0",
          "state": {
            "_model_module": "@jupyter-widgets/controls",
            "_model_module_version": "1.5.0",
            "_model_name": "DescriptionStyleModel",
            "_view_count": null,
            "_view_module": "@jupyter-widgets/base",
            "_view_module_version": "1.2.0",
            "_view_name": "StyleView",
            "description_width": ""
          }
        },
        "cae11cfc95d141d49d5aa49058fb38a1": {
          "model_module": "@jupyter-widgets/controls",
          "model_name": "HBoxModel",
          "model_module_version": "1.5.0",
          "state": {
            "_dom_classes": [],
            "_model_module": "@jupyter-widgets/controls",
            "_model_module_version": "1.5.0",
            "_model_name": "HBoxModel",
            "_view_count": null,
            "_view_module": "@jupyter-widgets/controls",
            "_view_module_version": "1.5.0",
            "_view_name": "HBoxView",
            "box_style": "",
            "children": [
              "IPY_MODEL_a850c785825d4ceebb6d11e80314e2ed",
              "IPY_MODEL_8971c7a088ab4b2eadaf24b290c35764",
              "IPY_MODEL_f8d26e961efa4649b5279d8abe521abe"
            ],
            "layout": "IPY_MODEL_900afb6b9bc344de945589a569a5d8a5"
          }
        },
        "a850c785825d4ceebb6d11e80314e2ed": {
          "model_module": "@jupyter-widgets/controls",
          "model_name": "HTMLModel",
          "model_module_version": "1.5.0",
          "state": {
            "_dom_classes": [],
            "_model_module": "@jupyter-widgets/controls",
            "_model_module_version": "1.5.0",
            "_model_name": "HTMLModel",
            "_view_count": null,
            "_view_module": "@jupyter-widgets/controls",
            "_view_module_version": "1.5.0",
            "_view_name": "HTMLView",
            "description": "",
            "description_tooltip": null,
            "layout": "IPY_MODEL_8e53eff10bb74319a4e203fd1d5e09eb",
            "placeholder": "​",
            "style": "IPY_MODEL_4120ed69ff044e67b98d2d7f97afd899",
            "value": "vocab.json: 100%"
          }
        },
        "8971c7a088ab4b2eadaf24b290c35764": {
          "model_module": "@jupyter-widgets/controls",
          "model_name": "FloatProgressModel",
          "model_module_version": "1.5.0",
          "state": {
            "_dom_classes": [],
            "_model_module": "@jupyter-widgets/controls",
            "_model_module_version": "1.5.0",
            "_model_name": "FloatProgressModel",
            "_view_count": null,
            "_view_module": "@jupyter-widgets/controls",
            "_view_module_version": "1.5.0",
            "_view_name": "ProgressView",
            "bar_style": "success",
            "description": "",
            "description_tooltip": null,
            "layout": "IPY_MODEL_a7fb2a9efcb64f7ea35b5b0158c3eaf7",
            "max": 898823,
            "min": 0,
            "orientation": "horizontal",
            "style": "IPY_MODEL_37d32f3f62df4ef59ba2026f76e17bcb",
            "value": 898823
          }
        },
        "f8d26e961efa4649b5279d8abe521abe": {
          "model_module": "@jupyter-widgets/controls",
          "model_name": "HTMLModel",
          "model_module_version": "1.5.0",
          "state": {
            "_dom_classes": [],
            "_model_module": "@jupyter-widgets/controls",
            "_model_module_version": "1.5.0",
            "_model_name": "HTMLModel",
            "_view_count": null,
            "_view_module": "@jupyter-widgets/controls",
            "_view_module_version": "1.5.0",
            "_view_name": "HTMLView",
            "description": "",
            "description_tooltip": null,
            "layout": "IPY_MODEL_08a9a0ffc21443c79596c007e6f37006",
            "placeholder": "​",
            "style": "IPY_MODEL_f8f2a46a02704035b6e4f2db30e978c4",
            "value": " 899k/899k [00:00&lt;00:00, 1.41MB/s]"
          }
        },
        "900afb6b9bc344de945589a569a5d8a5": {
          "model_module": "@jupyter-widgets/base",
          "model_name": "LayoutModel",
          "model_module_version": "1.2.0",
          "state": {
            "_model_module": "@jupyter-widgets/base",
            "_model_module_version": "1.2.0",
            "_model_name": "LayoutModel",
            "_view_count": null,
            "_view_module": "@jupyter-widgets/base",
            "_view_module_version": "1.2.0",
            "_view_name": "LayoutView",
            "align_content": null,
            "align_items": null,
            "align_self": null,
            "border": null,
            "bottom": null,
            "display": null,
            "flex": null,
            "flex_flow": null,
            "grid_area": null,
            "grid_auto_columns": null,
            "grid_auto_flow": null,
            "grid_auto_rows": null,
            "grid_column": null,
            "grid_gap": null,
            "grid_row": null,
            "grid_template_areas": null,
            "grid_template_columns": null,
            "grid_template_rows": null,
            "height": null,
            "justify_content": null,
            "justify_items": null,
            "left": null,
            "margin": null,
            "max_height": null,
            "max_width": null,
            "min_height": null,
            "min_width": null,
            "object_fit": null,
            "object_position": null,
            "order": null,
            "overflow": null,
            "overflow_x": null,
            "overflow_y": null,
            "padding": null,
            "right": null,
            "top": null,
            "visibility": null,
            "width": null
          }
        },
        "8e53eff10bb74319a4e203fd1d5e09eb": {
          "model_module": "@jupyter-widgets/base",
          "model_name": "LayoutModel",
          "model_module_version": "1.2.0",
          "state": {
            "_model_module": "@jupyter-widgets/base",
            "_model_module_version": "1.2.0",
            "_model_name": "LayoutModel",
            "_view_count": null,
            "_view_module": "@jupyter-widgets/base",
            "_view_module_version": "1.2.0",
            "_view_name": "LayoutView",
            "align_content": null,
            "align_items": null,
            "align_self": null,
            "border": null,
            "bottom": null,
            "display": null,
            "flex": null,
            "flex_flow": null,
            "grid_area": null,
            "grid_auto_columns": null,
            "grid_auto_flow": null,
            "grid_auto_rows": null,
            "grid_column": null,
            "grid_gap": null,
            "grid_row": null,
            "grid_template_areas": null,
            "grid_template_columns": null,
            "grid_template_rows": null,
            "height": null,
            "justify_content": null,
            "justify_items": null,
            "left": null,
            "margin": null,
            "max_height": null,
            "max_width": null,
            "min_height": null,
            "min_width": null,
            "object_fit": null,
            "object_position": null,
            "order": null,
            "overflow": null,
            "overflow_x": null,
            "overflow_y": null,
            "padding": null,
            "right": null,
            "top": null,
            "visibility": null,
            "width": null
          }
        },
        "4120ed69ff044e67b98d2d7f97afd899": {
          "model_module": "@jupyter-widgets/controls",
          "model_name": "DescriptionStyleModel",
          "model_module_version": "1.5.0",
          "state": {
            "_model_module": "@jupyter-widgets/controls",
            "_model_module_version": "1.5.0",
            "_model_name": "DescriptionStyleModel",
            "_view_count": null,
            "_view_module": "@jupyter-widgets/base",
            "_view_module_version": "1.2.0",
            "_view_name": "StyleView",
            "description_width": ""
          }
        },
        "a7fb2a9efcb64f7ea35b5b0158c3eaf7": {
          "model_module": "@jupyter-widgets/base",
          "model_name": "LayoutModel",
          "model_module_version": "1.2.0",
          "state": {
            "_model_module": "@jupyter-widgets/base",
            "_model_module_version": "1.2.0",
            "_model_name": "LayoutModel",
            "_view_count": null,
            "_view_module": "@jupyter-widgets/base",
            "_view_module_version": "1.2.0",
            "_view_name": "LayoutView",
            "align_content": null,
            "align_items": null,
            "align_self": null,
            "border": null,
            "bottom": null,
            "display": null,
            "flex": null,
            "flex_flow": null,
            "grid_area": null,
            "grid_auto_columns": null,
            "grid_auto_flow": null,
            "grid_auto_rows": null,
            "grid_column": null,
            "grid_gap": null,
            "grid_row": null,
            "grid_template_areas": null,
            "grid_template_columns": null,
            "grid_template_rows": null,
            "height": null,
            "justify_content": null,
            "justify_items": null,
            "left": null,
            "margin": null,
            "max_height": null,
            "max_width": null,
            "min_height": null,
            "min_width": null,
            "object_fit": null,
            "object_position": null,
            "order": null,
            "overflow": null,
            "overflow_x": null,
            "overflow_y": null,
            "padding": null,
            "right": null,
            "top": null,
            "visibility": null,
            "width": null
          }
        },
        "37d32f3f62df4ef59ba2026f76e17bcb": {
          "model_module": "@jupyter-widgets/controls",
          "model_name": "ProgressStyleModel",
          "model_module_version": "1.5.0",
          "state": {
            "_model_module": "@jupyter-widgets/controls",
            "_model_module_version": "1.5.0",
            "_model_name": "ProgressStyleModel",
            "_view_count": null,
            "_view_module": "@jupyter-widgets/base",
            "_view_module_version": "1.2.0",
            "_view_name": "StyleView",
            "bar_color": null,
            "description_width": ""
          }
        },
        "08a9a0ffc21443c79596c007e6f37006": {
          "model_module": "@jupyter-widgets/base",
          "model_name": "LayoutModel",
          "model_module_version": "1.2.0",
          "state": {
            "_model_module": "@jupyter-widgets/base",
            "_model_module_version": "1.2.0",
            "_model_name": "LayoutModel",
            "_view_count": null,
            "_view_module": "@jupyter-widgets/base",
            "_view_module_version": "1.2.0",
            "_view_name": "LayoutView",
            "align_content": null,
            "align_items": null,
            "align_self": null,
            "border": null,
            "bottom": null,
            "display": null,
            "flex": null,
            "flex_flow": null,
            "grid_area": null,
            "grid_auto_columns": null,
            "grid_auto_flow": null,
            "grid_auto_rows": null,
            "grid_column": null,
            "grid_gap": null,
            "grid_row": null,
            "grid_template_areas": null,
            "grid_template_columns": null,
            "grid_template_rows": null,
            "height": null,
            "justify_content": null,
            "justify_items": null,
            "left": null,
            "margin": null,
            "max_height": null,
            "max_width": null,
            "min_height": null,
            "min_width": null,
            "object_fit": null,
            "object_position": null,
            "order": null,
            "overflow": null,
            "overflow_x": null,
            "overflow_y": null,
            "padding": null,
            "right": null,
            "top": null,
            "visibility": null,
            "width": null
          }
        },
        "f8f2a46a02704035b6e4f2db30e978c4": {
          "model_module": "@jupyter-widgets/controls",
          "model_name": "DescriptionStyleModel",
          "model_module_version": "1.5.0",
          "state": {
            "_model_module": "@jupyter-widgets/controls",
            "_model_module_version": "1.5.0",
            "_model_name": "DescriptionStyleModel",
            "_view_count": null,
            "_view_module": "@jupyter-widgets/base",
            "_view_module_version": "1.2.0",
            "_view_name": "StyleView",
            "description_width": ""
          }
        },
        "afe9835a3ed841369ba29b84fa1a1eef": {
          "model_module": "@jupyter-widgets/controls",
          "model_name": "HBoxModel",
          "model_module_version": "1.5.0",
          "state": {
            "_dom_classes": [],
            "_model_module": "@jupyter-widgets/controls",
            "_model_module_version": "1.5.0",
            "_model_name": "HBoxModel",
            "_view_count": null,
            "_view_module": "@jupyter-widgets/controls",
            "_view_module_version": "1.5.0",
            "_view_name": "HBoxView",
            "box_style": "",
            "children": [
              "IPY_MODEL_ad0e423b273b4e9fafd157049803a026",
              "IPY_MODEL_8bc57e98cf2949b8936c87b71986f7f9",
              "IPY_MODEL_a5c4a3794a914408bb3ec434aae8c3f8"
            ],
            "layout": "IPY_MODEL_dad2e65aa7914f19a06c99c764dbcdd2"
          }
        },
        "ad0e423b273b4e9fafd157049803a026": {
          "model_module": "@jupyter-widgets/controls",
          "model_name": "HTMLModel",
          "model_module_version": "1.5.0",
          "state": {
            "_dom_classes": [],
            "_model_module": "@jupyter-widgets/controls",
            "_model_module_version": "1.5.0",
            "_model_name": "HTMLModel",
            "_view_count": null,
            "_view_module": "@jupyter-widgets/controls",
            "_view_module_version": "1.5.0",
            "_view_name": "HTMLView",
            "description": "",
            "description_tooltip": null,
            "layout": "IPY_MODEL_791c2b9ac51b421584386a819cf94d63",
            "placeholder": "​",
            "style": "IPY_MODEL_e92b4b400f4447a0aff9ea80eb7fe1e0",
            "value": "merges.txt: 100%"
          }
        },
        "8bc57e98cf2949b8936c87b71986f7f9": {
          "model_module": "@jupyter-widgets/controls",
          "model_name": "FloatProgressModel",
          "model_module_version": "1.5.0",
          "state": {
            "_dom_classes": [],
            "_model_module": "@jupyter-widgets/controls",
            "_model_module_version": "1.5.0",
            "_model_name": "FloatProgressModel",
            "_view_count": null,
            "_view_module": "@jupyter-widgets/controls",
            "_view_module_version": "1.5.0",
            "_view_name": "ProgressView",
            "bar_style": "success",
            "description": "",
            "description_tooltip": null,
            "layout": "IPY_MODEL_ea2e17acd2a74e0d8cfdfb4d81cd8700",
            "max": 456318,
            "min": 0,
            "orientation": "horizontal",
            "style": "IPY_MODEL_d6e2dc76eaa4442cafaa9952bf086001",
            "value": 456318
          }
        },
        "a5c4a3794a914408bb3ec434aae8c3f8": {
          "model_module": "@jupyter-widgets/controls",
          "model_name": "HTMLModel",
          "model_module_version": "1.5.0",
          "state": {
            "_dom_classes": [],
            "_model_module": "@jupyter-widgets/controls",
            "_model_module_version": "1.5.0",
            "_model_name": "HTMLModel",
            "_view_count": null,
            "_view_module": "@jupyter-widgets/controls",
            "_view_module_version": "1.5.0",
            "_view_name": "HTMLView",
            "description": "",
            "description_tooltip": null,
            "layout": "IPY_MODEL_8cb18e0957b941d9a748d712b808be3e",
            "placeholder": "​",
            "style": "IPY_MODEL_38af4eca890740ebb3b347bdc0886b93",
            "value": " 456k/456k [00:00&lt;00:00, 721kB/s]"
          }
        },
        "dad2e65aa7914f19a06c99c764dbcdd2": {
          "model_module": "@jupyter-widgets/base",
          "model_name": "LayoutModel",
          "model_module_version": "1.2.0",
          "state": {
            "_model_module": "@jupyter-widgets/base",
            "_model_module_version": "1.2.0",
            "_model_name": "LayoutModel",
            "_view_count": null,
            "_view_module": "@jupyter-widgets/base",
            "_view_module_version": "1.2.0",
            "_view_name": "LayoutView",
            "align_content": null,
            "align_items": null,
            "align_self": null,
            "border": null,
            "bottom": null,
            "display": null,
            "flex": null,
            "flex_flow": null,
            "grid_area": null,
            "grid_auto_columns": null,
            "grid_auto_flow": null,
            "grid_auto_rows": null,
            "grid_column": null,
            "grid_gap": null,
            "grid_row": null,
            "grid_template_areas": null,
            "grid_template_columns": null,
            "grid_template_rows": null,
            "height": null,
            "justify_content": null,
            "justify_items": null,
            "left": null,
            "margin": null,
            "max_height": null,
            "max_width": null,
            "min_height": null,
            "min_width": null,
            "object_fit": null,
            "object_position": null,
            "order": null,
            "overflow": null,
            "overflow_x": null,
            "overflow_y": null,
            "padding": null,
            "right": null,
            "top": null,
            "visibility": null,
            "width": null
          }
        },
        "791c2b9ac51b421584386a819cf94d63": {
          "model_module": "@jupyter-widgets/base",
          "model_name": "LayoutModel",
          "model_module_version": "1.2.0",
          "state": {
            "_model_module": "@jupyter-widgets/base",
            "_model_module_version": "1.2.0",
            "_model_name": "LayoutModel",
            "_view_count": null,
            "_view_module": "@jupyter-widgets/base",
            "_view_module_version": "1.2.0",
            "_view_name": "LayoutView",
            "align_content": null,
            "align_items": null,
            "align_self": null,
            "border": null,
            "bottom": null,
            "display": null,
            "flex": null,
            "flex_flow": null,
            "grid_area": null,
            "grid_auto_columns": null,
            "grid_auto_flow": null,
            "grid_auto_rows": null,
            "grid_column": null,
            "grid_gap": null,
            "grid_row": null,
            "grid_template_areas": null,
            "grid_template_columns": null,
            "grid_template_rows": null,
            "height": null,
            "justify_content": null,
            "justify_items": null,
            "left": null,
            "margin": null,
            "max_height": null,
            "max_width": null,
            "min_height": null,
            "min_width": null,
            "object_fit": null,
            "object_position": null,
            "order": null,
            "overflow": null,
            "overflow_x": null,
            "overflow_y": null,
            "padding": null,
            "right": null,
            "top": null,
            "visibility": null,
            "width": null
          }
        },
        "e92b4b400f4447a0aff9ea80eb7fe1e0": {
          "model_module": "@jupyter-widgets/controls",
          "model_name": "DescriptionStyleModel",
          "model_module_version": "1.5.0",
          "state": {
            "_model_module": "@jupyter-widgets/controls",
            "_model_module_version": "1.5.0",
            "_model_name": "DescriptionStyleModel",
            "_view_count": null,
            "_view_module": "@jupyter-widgets/base",
            "_view_module_version": "1.2.0",
            "_view_name": "StyleView",
            "description_width": ""
          }
        },
        "ea2e17acd2a74e0d8cfdfb4d81cd8700": {
          "model_module": "@jupyter-widgets/base",
          "model_name": "LayoutModel",
          "model_module_version": "1.2.0",
          "state": {
            "_model_module": "@jupyter-widgets/base",
            "_model_module_version": "1.2.0",
            "_model_name": "LayoutModel",
            "_view_count": null,
            "_view_module": "@jupyter-widgets/base",
            "_view_module_version": "1.2.0",
            "_view_name": "LayoutView",
            "align_content": null,
            "align_items": null,
            "align_self": null,
            "border": null,
            "bottom": null,
            "display": null,
            "flex": null,
            "flex_flow": null,
            "grid_area": null,
            "grid_auto_columns": null,
            "grid_auto_flow": null,
            "grid_auto_rows": null,
            "grid_column": null,
            "grid_gap": null,
            "grid_row": null,
            "grid_template_areas": null,
            "grid_template_columns": null,
            "grid_template_rows": null,
            "height": null,
            "justify_content": null,
            "justify_items": null,
            "left": null,
            "margin": null,
            "max_height": null,
            "max_width": null,
            "min_height": null,
            "min_width": null,
            "object_fit": null,
            "object_position": null,
            "order": null,
            "overflow": null,
            "overflow_x": null,
            "overflow_y": null,
            "padding": null,
            "right": null,
            "top": null,
            "visibility": null,
            "width": null
          }
        },
        "d6e2dc76eaa4442cafaa9952bf086001": {
          "model_module": "@jupyter-widgets/controls",
          "model_name": "ProgressStyleModel",
          "model_module_version": "1.5.0",
          "state": {
            "_model_module": "@jupyter-widgets/controls",
            "_model_module_version": "1.5.0",
            "_model_name": "ProgressStyleModel",
            "_view_count": null,
            "_view_module": "@jupyter-widgets/base",
            "_view_module_version": "1.2.0",
            "_view_name": "StyleView",
            "bar_color": null,
            "description_width": ""
          }
        },
        "8cb18e0957b941d9a748d712b808be3e": {
          "model_module": "@jupyter-widgets/base",
          "model_name": "LayoutModel",
          "model_module_version": "1.2.0",
          "state": {
            "_model_module": "@jupyter-widgets/base",
            "_model_module_version": "1.2.0",
            "_model_name": "LayoutModel",
            "_view_count": null,
            "_view_module": "@jupyter-widgets/base",
            "_view_module_version": "1.2.0",
            "_view_name": "LayoutView",
            "align_content": null,
            "align_items": null,
            "align_self": null,
            "border": null,
            "bottom": null,
            "display": null,
            "flex": null,
            "flex_flow": null,
            "grid_area": null,
            "grid_auto_columns": null,
            "grid_auto_flow": null,
            "grid_auto_rows": null,
            "grid_column": null,
            "grid_gap": null,
            "grid_row": null,
            "grid_template_areas": null,
            "grid_template_columns": null,
            "grid_template_rows": null,
            "height": null,
            "justify_content": null,
            "justify_items": null,
            "left": null,
            "margin": null,
            "max_height": null,
            "max_width": null,
            "min_height": null,
            "min_width": null,
            "object_fit": null,
            "object_position": null,
            "order": null,
            "overflow": null,
            "overflow_x": null,
            "overflow_y": null,
            "padding": null,
            "right": null,
            "top": null,
            "visibility": null,
            "width": null
          }
        },
        "38af4eca890740ebb3b347bdc0886b93": {
          "model_module": "@jupyter-widgets/controls",
          "model_name": "DescriptionStyleModel",
          "model_module_version": "1.5.0",
          "state": {
            "_model_module": "@jupyter-widgets/controls",
            "_model_module_version": "1.5.0",
            "_model_name": "DescriptionStyleModel",
            "_view_count": null,
            "_view_module": "@jupyter-widgets/base",
            "_view_module_version": "1.2.0",
            "_view_name": "StyleView",
            "description_width": ""
          }
        },
        "84f43674f3bf41a5a8402adb7352f931": {
          "model_module": "@jupyter-widgets/controls",
          "model_name": "HBoxModel",
          "model_module_version": "1.5.0",
          "state": {
            "_dom_classes": [],
            "_model_module": "@jupyter-widgets/controls",
            "_model_module_version": "1.5.0",
            "_model_name": "HBoxModel",
            "_view_count": null,
            "_view_module": "@jupyter-widgets/controls",
            "_view_module_version": "1.5.0",
            "_view_name": "HBoxView",
            "box_style": "",
            "children": [
              "IPY_MODEL_84158b28f98644298024525df54ba34c",
              "IPY_MODEL_96cf94e6f82f48a5957ef54774e66e58",
              "IPY_MODEL_a85b3083dfcd48dab85c6556800c2cdc"
            ],
            "layout": "IPY_MODEL_bc59358f748f4393bf9f72c4892f0872"
          }
        },
        "84158b28f98644298024525df54ba34c": {
          "model_module": "@jupyter-widgets/controls",
          "model_name": "HTMLModel",
          "model_module_version": "1.5.0",
          "state": {
            "_dom_classes": [],
            "_model_module": "@jupyter-widgets/controls",
            "_model_module_version": "1.5.0",
            "_model_name": "HTMLModel",
            "_view_count": null,
            "_view_module": "@jupyter-widgets/controls",
            "_view_module_version": "1.5.0",
            "_view_name": "HTMLView",
            "description": "",
            "description_tooltip": null,
            "layout": "IPY_MODEL_eae2e7178ae44d5e87cd0a1e8388e8eb",
            "placeholder": "​",
            "style": "IPY_MODEL_11114ed58e1346fc8ad74c81b342b325",
            "value": "tokenizer.json: 100%"
          }
        },
        "96cf94e6f82f48a5957ef54774e66e58": {
          "model_module": "@jupyter-widgets/controls",
          "model_name": "FloatProgressModel",
          "model_module_version": "1.5.0",
          "state": {
            "_dom_classes": [],
            "_model_module": "@jupyter-widgets/controls",
            "_model_module_version": "1.5.0",
            "_model_name": "FloatProgressModel",
            "_view_count": null,
            "_view_module": "@jupyter-widgets/controls",
            "_view_module_version": "1.5.0",
            "_view_name": "ProgressView",
            "bar_style": "success",
            "description": "",
            "description_tooltip": null,
            "layout": "IPY_MODEL_5c135fd4f16f4eff80e46aac74e9916f",
            "max": 1355863,
            "min": 0,
            "orientation": "horizontal",
            "style": "IPY_MODEL_779436d775f04768855abcaf48912aca",
            "value": 1355863
          }
        },
        "a85b3083dfcd48dab85c6556800c2cdc": {
          "model_module": "@jupyter-widgets/controls",
          "model_name": "HTMLModel",
          "model_module_version": "1.5.0",
          "state": {
            "_dom_classes": [],
            "_model_module": "@jupyter-widgets/controls",
            "_model_module_version": "1.5.0",
            "_model_name": "HTMLModel",
            "_view_count": null,
            "_view_module": "@jupyter-widgets/controls",
            "_view_module_version": "1.5.0",
            "_view_name": "HTMLView",
            "description": "",
            "description_tooltip": null,
            "layout": "IPY_MODEL_a2b36bf991d84b06b1f53afba1097de2",
            "placeholder": "​",
            "style": "IPY_MODEL_6040c2ee580f40d7be2918eba3bab5fe",
            "value": " 1.36M/1.36M [00:00&lt;00:00, 2.15MB/s]"
          }
        },
        "bc59358f748f4393bf9f72c4892f0872": {
          "model_module": "@jupyter-widgets/base",
          "model_name": "LayoutModel",
          "model_module_version": "1.2.0",
          "state": {
            "_model_module": "@jupyter-widgets/base",
            "_model_module_version": "1.2.0",
            "_model_name": "LayoutModel",
            "_view_count": null,
            "_view_module": "@jupyter-widgets/base",
            "_view_module_version": "1.2.0",
            "_view_name": "LayoutView",
            "align_content": null,
            "align_items": null,
            "align_self": null,
            "border": null,
            "bottom": null,
            "display": null,
            "flex": null,
            "flex_flow": null,
            "grid_area": null,
            "grid_auto_columns": null,
            "grid_auto_flow": null,
            "grid_auto_rows": null,
            "grid_column": null,
            "grid_gap": null,
            "grid_row": null,
            "grid_template_areas": null,
            "grid_template_columns": null,
            "grid_template_rows": null,
            "height": null,
            "justify_content": null,
            "justify_items": null,
            "left": null,
            "margin": null,
            "max_height": null,
            "max_width": null,
            "min_height": null,
            "min_width": null,
            "object_fit": null,
            "object_position": null,
            "order": null,
            "overflow": null,
            "overflow_x": null,
            "overflow_y": null,
            "padding": null,
            "right": null,
            "top": null,
            "visibility": null,
            "width": null
          }
        },
        "eae2e7178ae44d5e87cd0a1e8388e8eb": {
          "model_module": "@jupyter-widgets/base",
          "model_name": "LayoutModel",
          "model_module_version": "1.2.0",
          "state": {
            "_model_module": "@jupyter-widgets/base",
            "_model_module_version": "1.2.0",
            "_model_name": "LayoutModel",
            "_view_count": null,
            "_view_module": "@jupyter-widgets/base",
            "_view_module_version": "1.2.0",
            "_view_name": "LayoutView",
            "align_content": null,
            "align_items": null,
            "align_self": null,
            "border": null,
            "bottom": null,
            "display": null,
            "flex": null,
            "flex_flow": null,
            "grid_area": null,
            "grid_auto_columns": null,
            "grid_auto_flow": null,
            "grid_auto_rows": null,
            "grid_column": null,
            "grid_gap": null,
            "grid_row": null,
            "grid_template_areas": null,
            "grid_template_columns": null,
            "grid_template_rows": null,
            "height": null,
            "justify_content": null,
            "justify_items": null,
            "left": null,
            "margin": null,
            "max_height": null,
            "max_width": null,
            "min_height": null,
            "min_width": null,
            "object_fit": null,
            "object_position": null,
            "order": null,
            "overflow": null,
            "overflow_x": null,
            "overflow_y": null,
            "padding": null,
            "right": null,
            "top": null,
            "visibility": null,
            "width": null
          }
        },
        "11114ed58e1346fc8ad74c81b342b325": {
          "model_module": "@jupyter-widgets/controls",
          "model_name": "DescriptionStyleModel",
          "model_module_version": "1.5.0",
          "state": {
            "_model_module": "@jupyter-widgets/controls",
            "_model_module_version": "1.5.0",
            "_model_name": "DescriptionStyleModel",
            "_view_count": null,
            "_view_module": "@jupyter-widgets/base",
            "_view_module_version": "1.2.0",
            "_view_name": "StyleView",
            "description_width": ""
          }
        },
        "5c135fd4f16f4eff80e46aac74e9916f": {
          "model_module": "@jupyter-widgets/base",
          "model_name": "LayoutModel",
          "model_module_version": "1.2.0",
          "state": {
            "_model_module": "@jupyter-widgets/base",
            "_model_module_version": "1.2.0",
            "_model_name": "LayoutModel",
            "_view_count": null,
            "_view_module": "@jupyter-widgets/base",
            "_view_module_version": "1.2.0",
            "_view_name": "LayoutView",
            "align_content": null,
            "align_items": null,
            "align_self": null,
            "border": null,
            "bottom": null,
            "display": null,
            "flex": null,
            "flex_flow": null,
            "grid_area": null,
            "grid_auto_columns": null,
            "grid_auto_flow": null,
            "grid_auto_rows": null,
            "grid_column": null,
            "grid_gap": null,
            "grid_row": null,
            "grid_template_areas": null,
            "grid_template_columns": null,
            "grid_template_rows": null,
            "height": null,
            "justify_content": null,
            "justify_items": null,
            "left": null,
            "margin": null,
            "max_height": null,
            "max_width": null,
            "min_height": null,
            "min_width": null,
            "object_fit": null,
            "object_position": null,
            "order": null,
            "overflow": null,
            "overflow_x": null,
            "overflow_y": null,
            "padding": null,
            "right": null,
            "top": null,
            "visibility": null,
            "width": null
          }
        },
        "779436d775f04768855abcaf48912aca": {
          "model_module": "@jupyter-widgets/controls",
          "model_name": "ProgressStyleModel",
          "model_module_version": "1.5.0",
          "state": {
            "_model_module": "@jupyter-widgets/controls",
            "_model_module_version": "1.5.0",
            "_model_name": "ProgressStyleModel",
            "_view_count": null,
            "_view_module": "@jupyter-widgets/base",
            "_view_module_version": "1.2.0",
            "_view_name": "StyleView",
            "bar_color": null,
            "description_width": ""
          }
        },
        "a2b36bf991d84b06b1f53afba1097de2": {
          "model_module": "@jupyter-widgets/base",
          "model_name": "LayoutModel",
          "model_module_version": "1.2.0",
          "state": {
            "_model_module": "@jupyter-widgets/base",
            "_model_module_version": "1.2.0",
            "_model_name": "LayoutModel",
            "_view_count": null,
            "_view_module": "@jupyter-widgets/base",
            "_view_module_version": "1.2.0",
            "_view_name": "LayoutView",
            "align_content": null,
            "align_items": null,
            "align_self": null,
            "border": null,
            "bottom": null,
            "display": null,
            "flex": null,
            "flex_flow": null,
            "grid_area": null,
            "grid_auto_columns": null,
            "grid_auto_flow": null,
            "grid_auto_rows": null,
            "grid_column": null,
            "grid_gap": null,
            "grid_row": null,
            "grid_template_areas": null,
            "grid_template_columns": null,
            "grid_template_rows": null,
            "height": null,
            "justify_content": null,
            "justify_items": null,
            "left": null,
            "margin": null,
            "max_height": null,
            "max_width": null,
            "min_height": null,
            "min_width": null,
            "object_fit": null,
            "object_position": null,
            "order": null,
            "overflow": null,
            "overflow_x": null,
            "overflow_y": null,
            "padding": null,
            "right": null,
            "top": null,
            "visibility": null,
            "width": null
          }
        },
        "6040c2ee580f40d7be2918eba3bab5fe": {
          "model_module": "@jupyter-widgets/controls",
          "model_name": "DescriptionStyleModel",
          "model_module_version": "1.5.0",
          "state": {
            "_model_module": "@jupyter-widgets/controls",
            "_model_module_version": "1.5.0",
            "_model_name": "DescriptionStyleModel",
            "_view_count": null,
            "_view_module": "@jupyter-widgets/base",
            "_view_module_version": "1.2.0",
            "_view_name": "StyleView",
            "description_width": ""
          }
        },
        "8d79979dc48f4a6fb618c449a36919dd": {
          "model_module": "@jupyter-widgets/controls",
          "model_name": "HBoxModel",
          "model_module_version": "1.5.0",
          "state": {
            "_dom_classes": [],
            "_model_module": "@jupyter-widgets/controls",
            "_model_module_version": "1.5.0",
            "_model_name": "HBoxModel",
            "_view_count": null,
            "_view_module": "@jupyter-widgets/controls",
            "_view_module_version": "1.5.0",
            "_view_name": "HBoxView",
            "box_style": "",
            "children": [
              "IPY_MODEL_cc39a8742d2742b491adea76de23e7cb",
              "IPY_MODEL_33cdad8c131c407382a661e7803ef0de",
              "IPY_MODEL_51a22428d92645fc9401784ffb8a0fd9"
            ],
            "layout": "IPY_MODEL_fbfc635b532b4b47988aa3101c7fd164"
          }
        },
        "cc39a8742d2742b491adea76de23e7cb": {
          "model_module": "@jupyter-widgets/controls",
          "model_name": "HTMLModel",
          "model_module_version": "1.5.0",
          "state": {
            "_dom_classes": [],
            "_model_module": "@jupyter-widgets/controls",
            "_model_module_version": "1.5.0",
            "_model_name": "HTMLModel",
            "_view_count": null,
            "_view_module": "@jupyter-widgets/controls",
            "_view_module_version": "1.5.0",
            "_view_name": "HTMLView",
            "description": "",
            "description_tooltip": null,
            "layout": "IPY_MODEL_fad0922b15524df782fa9ac9b18647ce",
            "placeholder": "​",
            "style": "IPY_MODEL_120744694e784b45bb02b4e04acbffbf",
            "value": "model.safetensors:  48%"
          }
        },
        "33cdad8c131c407382a661e7803ef0de": {
          "model_module": "@jupyter-widgets/controls",
          "model_name": "FloatProgressModel",
          "model_module_version": "1.5.0",
          "state": {
            "_dom_classes": [],
            "_model_module": "@jupyter-widgets/controls",
            "_model_module_version": "1.5.0",
            "_model_name": "FloatProgressModel",
            "_view_count": null,
            "_view_module": "@jupyter-widgets/controls",
            "_view_module_version": "1.5.0",
            "_view_name": "ProgressView",
            "bar_style": "danger",
            "description": "",
            "description_tooltip": null,
            "layout": "IPY_MODEL_fbc66be1d58e4db7ad3ab488d3e0395d",
            "max": 498818054,
            "min": 0,
            "orientation": "horizontal",
            "style": "IPY_MODEL_94d27da8e4654c808d2ab5d63dbbe2b9",
            "value": 241172480
          }
        },
        "51a22428d92645fc9401784ffb8a0fd9": {
          "model_module": "@jupyter-widgets/controls",
          "model_name": "HTMLModel",
          "model_module_version": "1.5.0",
          "state": {
            "_dom_classes": [],
            "_model_module": "@jupyter-widgets/controls",
            "_model_module_version": "1.5.0",
            "_model_name": "HTMLModel",
            "_view_count": null,
            "_view_module": "@jupyter-widgets/controls",
            "_view_module_version": "1.5.0",
            "_view_name": "HTMLView",
            "description": "",
            "description_tooltip": null,
            "layout": "IPY_MODEL_3606520ab5ac436d982bc6f3e7699ba2",
            "placeholder": "​",
            "style": "IPY_MODEL_c3ec45b485334d59a3ed8ebc0525900f",
            "value": " 241M/499M [00:01&lt;00:01, 226MB/s]"
          }
        },
        "fbfc635b532b4b47988aa3101c7fd164": {
          "model_module": "@jupyter-widgets/base",
          "model_name": "LayoutModel",
          "model_module_version": "1.2.0",
          "state": {
            "_model_module": "@jupyter-widgets/base",
            "_model_module_version": "1.2.0",
            "_model_name": "LayoutModel",
            "_view_count": null,
            "_view_module": "@jupyter-widgets/base",
            "_view_module_version": "1.2.0",
            "_view_name": "LayoutView",
            "align_content": null,
            "align_items": null,
            "align_self": null,
            "border": null,
            "bottom": null,
            "display": null,
            "flex": null,
            "flex_flow": null,
            "grid_area": null,
            "grid_auto_columns": null,
            "grid_auto_flow": null,
            "grid_auto_rows": null,
            "grid_column": null,
            "grid_gap": null,
            "grid_row": null,
            "grid_template_areas": null,
            "grid_template_columns": null,
            "grid_template_rows": null,
            "height": null,
            "justify_content": null,
            "justify_items": null,
            "left": null,
            "margin": null,
            "max_height": null,
            "max_width": null,
            "min_height": null,
            "min_width": null,
            "object_fit": null,
            "object_position": null,
            "order": null,
            "overflow": null,
            "overflow_x": null,
            "overflow_y": null,
            "padding": null,
            "right": null,
            "top": null,
            "visibility": null,
            "width": null
          }
        },
        "fad0922b15524df782fa9ac9b18647ce": {
          "model_module": "@jupyter-widgets/base",
          "model_name": "LayoutModel",
          "model_module_version": "1.2.0",
          "state": {
            "_model_module": "@jupyter-widgets/base",
            "_model_module_version": "1.2.0",
            "_model_name": "LayoutModel",
            "_view_count": null,
            "_view_module": "@jupyter-widgets/base",
            "_view_module_version": "1.2.0",
            "_view_name": "LayoutView",
            "align_content": null,
            "align_items": null,
            "align_self": null,
            "border": null,
            "bottom": null,
            "display": null,
            "flex": null,
            "flex_flow": null,
            "grid_area": null,
            "grid_auto_columns": null,
            "grid_auto_flow": null,
            "grid_auto_rows": null,
            "grid_column": null,
            "grid_gap": null,
            "grid_row": null,
            "grid_template_areas": null,
            "grid_template_columns": null,
            "grid_template_rows": null,
            "height": null,
            "justify_content": null,
            "justify_items": null,
            "left": null,
            "margin": null,
            "max_height": null,
            "max_width": null,
            "min_height": null,
            "min_width": null,
            "object_fit": null,
            "object_position": null,
            "order": null,
            "overflow": null,
            "overflow_x": null,
            "overflow_y": null,
            "padding": null,
            "right": null,
            "top": null,
            "visibility": null,
            "width": null
          }
        },
        "120744694e784b45bb02b4e04acbffbf": {
          "model_module": "@jupyter-widgets/controls",
          "model_name": "DescriptionStyleModel",
          "model_module_version": "1.5.0",
          "state": {
            "_model_module": "@jupyter-widgets/controls",
            "_model_module_version": "1.5.0",
            "_model_name": "DescriptionStyleModel",
            "_view_count": null,
            "_view_module": "@jupyter-widgets/base",
            "_view_module_version": "1.2.0",
            "_view_name": "StyleView",
            "description_width": ""
          }
        },
        "fbc66be1d58e4db7ad3ab488d3e0395d": {
          "model_module": "@jupyter-widgets/base",
          "model_name": "LayoutModel",
          "model_module_version": "1.2.0",
          "state": {
            "_model_module": "@jupyter-widgets/base",
            "_model_module_version": "1.2.0",
            "_model_name": "LayoutModel",
            "_view_count": null,
            "_view_module": "@jupyter-widgets/base",
            "_view_module_version": "1.2.0",
            "_view_name": "LayoutView",
            "align_content": null,
            "align_items": null,
            "align_self": null,
            "border": null,
            "bottom": null,
            "display": null,
            "flex": null,
            "flex_flow": null,
            "grid_area": null,
            "grid_auto_columns": null,
            "grid_auto_flow": null,
            "grid_auto_rows": null,
            "grid_column": null,
            "grid_gap": null,
            "grid_row": null,
            "grid_template_areas": null,
            "grid_template_columns": null,
            "grid_template_rows": null,
            "height": null,
            "justify_content": null,
            "justify_items": null,
            "left": null,
            "margin": null,
            "max_height": null,
            "max_width": null,
            "min_height": null,
            "min_width": null,
            "object_fit": null,
            "object_position": null,
            "order": null,
            "overflow": null,
            "overflow_x": null,
            "overflow_y": null,
            "padding": null,
            "right": null,
            "top": null,
            "visibility": null,
            "width": null
          }
        },
        "94d27da8e4654c808d2ab5d63dbbe2b9": {
          "model_module": "@jupyter-widgets/controls",
          "model_name": "ProgressStyleModel",
          "model_module_version": "1.5.0",
          "state": {
            "_model_module": "@jupyter-widgets/controls",
            "_model_module_version": "1.5.0",
            "_model_name": "ProgressStyleModel",
            "_view_count": null,
            "_view_module": "@jupyter-widgets/base",
            "_view_module_version": "1.2.0",
            "_view_name": "StyleView",
            "bar_color": null,
            "description_width": ""
          }
        },
        "3606520ab5ac436d982bc6f3e7699ba2": {
          "model_module": "@jupyter-widgets/base",
          "model_name": "LayoutModel",
          "model_module_version": "1.2.0",
          "state": {
            "_model_module": "@jupyter-widgets/base",
            "_model_module_version": "1.2.0",
            "_model_name": "LayoutModel",
            "_view_count": null,
            "_view_module": "@jupyter-widgets/base",
            "_view_module_version": "1.2.0",
            "_view_name": "LayoutView",
            "align_content": null,
            "align_items": null,
            "align_self": null,
            "border": null,
            "bottom": null,
            "display": null,
            "flex": null,
            "flex_flow": null,
            "grid_area": null,
            "grid_auto_columns": null,
            "grid_auto_flow": null,
            "grid_auto_rows": null,
            "grid_column": null,
            "grid_gap": null,
            "grid_row": null,
            "grid_template_areas": null,
            "grid_template_columns": null,
            "grid_template_rows": null,
            "height": null,
            "justify_content": null,
            "justify_items": null,
            "left": null,
            "margin": null,
            "max_height": null,
            "max_width": null,
            "min_height": null,
            "min_width": null,
            "object_fit": null,
            "object_position": null,
            "order": null,
            "overflow": null,
            "overflow_x": null,
            "overflow_y": null,
            "padding": null,
            "right": null,
            "top": null,
            "visibility": null,
            "width": null
          }
        },
        "c3ec45b485334d59a3ed8ebc0525900f": {
          "model_module": "@jupyter-widgets/controls",
          "model_name": "DescriptionStyleModel",
          "model_module_version": "1.5.0",
          "state": {
            "_model_module": "@jupyter-widgets/controls",
            "_model_module_version": "1.5.0",
            "_model_name": "DescriptionStyleModel",
            "_view_count": null,
            "_view_module": "@jupyter-widgets/base",
            "_view_module_version": "1.2.0",
            "_view_name": "StyleView",
            "description_width": ""
          }
        }
      }
    },
    "accelerator": "GPU"
  },
  "nbformat": 4,
  "nbformat_minor": 5
}